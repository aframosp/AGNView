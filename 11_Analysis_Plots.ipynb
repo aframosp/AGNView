{
 "cells": [
  {
   "cell_type": "markdown",
   "metadata": {},
   "source": [
    "# Analysis presented in plots\n",
    "Here we create the plots that allow us to do the analysis of the results.\n",
    "\n",
    "We import all the packages necesarry to plot the results from the models"
   ]
  },
  {
   "cell_type": "code",
   "execution_count": 1,
   "metadata": {
    "ExecuteTime": {
     "end_time": "2021-01-22T14:56:11.042488Z",
     "start_time": "2021-01-22T14:56:10.610669Z"
    }
   },
   "outputs": [
    {
     "name": "stdout",
     "output_type": "stream",
     "text": [
      "Using matplotlib backend: Qt5Agg\n",
      "Populating the interactive namespace from numpy and matplotlib\n"
     ]
    }
   ],
   "source": [
    "%pylab"
   ]
  },
  {
   "cell_type": "code",
   "execution_count": 2,
   "metadata": {
    "ExecuteTime": {
     "end_time": "2021-01-22T14:56:13.061989Z",
     "start_time": "2021-01-22T14:56:11.043728Z"
    }
   },
   "outputs": [],
   "source": [
    "import pandas as pd\n",
    "import seaborn as sns\n",
    "import astropy.units as u\n",
    "from collections import Counter\n",
    "import matplotlib.lines as mlines\n",
    "from astropy.modeling import models\n",
    "from astroquery.simbad import Simbad\n",
    "from scipy.stats import binned_statistic\n",
    "from astropy.table import Table, join, hstack"
   ]
  },
  {
   "cell_type": "markdown",
   "metadata": {},
   "source": [
    "Additionally, we add some shortcuts"
   ]
  },
  {
   "cell_type": "code",
   "execution_count": 3,
   "metadata": {
    "ExecuteTime": {
     "end_time": "2021-01-22T14:56:13.065336Z",
     "start_time": "2021-01-22T14:56:13.063135Z"
    }
   },
   "outputs": [],
   "source": [
    "# User shortcuts\n",
    "def Perc75(array):\n",
    "    \"\"\"75th Percentile\"\"\"\n",
    "    return(np.percentile(array, 75))\n",
    "\n",
    "\n",
    "def Perc25(array):\n",
    "    \"\"\"25th Percentile\"\"\"\n",
    "    return(np.percentile(array, 25))"
   ]
  },
  {
   "cell_type": "markdown",
   "metadata": {
    "ExecuteTime": {
     "end_time": "2021-01-22T11:16:17.052198Z",
     "start_time": "2021-01-22T11:16:17.047142Z"
    }
   },
   "source": [
    "## Join all clean results"
   ]
  },
  {
   "cell_type": "markdown",
   "metadata": {},
   "source": [
    "We read the clean results from the models we are going to use "
   ]
  },
  {
   "cell_type": "code",
   "execution_count": 4,
   "metadata": {
    "ExecuteTime": {
     "end_time": "2021-01-22T14:56:13.609347Z",
     "start_time": "2021-01-22T14:56:13.066295Z"
    }
   },
   "outputs": [],
   "source": [
    "ModelS = Table.read('CIGALEOutputs/Cleanresults_SK.fits', format='fits')\n",
    "ModelF = Table.read('CIGALEOutputs/Cleanresults_Fr.fits', format='fits')\n",
    "\n",
    "ModelS37 = Table.read('CIGALEOutputs/Cleanresults_SK37.fits', format='fits')\n",
    "ModelF37 = Table.read('CIGALEOutputs/Cleanresults_Fr37.fits', format='fits')"
   ]
  },
  {
   "cell_type": "markdown",
   "metadata": {},
   "source": [
    "We also read the original database of galaxies to use the information for the classification"
   ]
  },
  {
   "cell_type": "code",
   "execution_count": 5,
   "metadata": {
    "ExecuteTime": {
     "end_time": "2021-01-22T14:56:13.775892Z",
     "start_time": "2021-01-22T14:56:13.610208Z"
    }
   },
   "outputs": [],
   "source": [
    "TV = Table.read('VCV_TAP_otype.txt', format='ascii')\n",
    "TV.rename_column('main_id', 'id')  # Renamed to use the join with the same id"
   ]
  },
  {
   "cell_type": "markdown",
   "metadata": {},
   "source": [
    "We select a list of parameters from the models to be plotted (Check also the Analysis_Tables file to check why we choose these parameters). We add the errors from these parameters also in the plots. Also, we define quantities useful for plots for each parameters."
   ]
  },
  {
   "cell_type": "code",
   "execution_count": 6,
   "metadata": {
    "ExecuteTime": {
     "end_time": "2021-01-22T14:56:13.785303Z",
     "start_time": "2021-01-22T14:56:13.776800Z"
    }
   },
   "outputs": [],
   "source": [
    "ParamCheck = ['bayes.agn.i', 'bayes.agn.fracAGN', 'bayes.agn.disk_luminosity', 'bayes.agn.EBV',\n",
    "              'bayes.attenuation.E_BVs', 'bayes.sfh.tau_main', 'bayes.sfh.sfr']\n",
    "ParamUnit = ['[degrees]', 'Fraction', 'log([L$_{\\odot}$])', 'mag',\n",
    "             'mag', r'log([Myr])', r'log([M$_{\\odot}$/yr])']\n",
    "ParamLabel = ['Incl. Angle', r'$f_{\\rm{AGN}}$', r'$\\rm{L}_{\\rm{AGN}}^{\\rm{disk}}$',\n",
    "              r'Polar-dust E(B-V)', 'E(B-V)', r'$\\tau_{\\rm{main}}$', 'SFR']\n",
    "ParamRange = [[0, 90], [0.05, 0.95], [7, 13], [0, 1],\n",
    "              [0, 0.4], [1.5, 4], [-3, 3]]\n",
    "ParamCheckErr = [j+'_err' for j in ParamCheck]\n",
    "ParamRangeErr = [[0, 40], [0.0, 0.4], [0, 1],\n",
    "                 [0, 0.5], [0, 0.15], [0, 0.8], [0, 1]]\n",
    "ParamUnitErr = ['[degrees]', 'Fraction', 'dex', 'mag', 'mag', 'dex', 'dex']\n",
    "Particks = [[0,25,45,65,90],[0.25,0.5,0.75],[8,10,12],[0,0.4,0.8],\n",
    "           [0,0.2,0.4],[2,3,4],[-2,0,2]]\n",
    "ParticksErr = [[0,10,20,30],[0,0.1,0.2,0.3],[0.25,0.5,0.75],[0,0.2,0.4],[0,0.05,0.1],\n",
    "           [0,0.2,0.4,0.6],[0,0.5,1]]"
   ]
  },
  {
   "cell_type": "markdown",
   "metadata": {},
   "source": [
    "We join these clean tables with the catalog. We send all the tables to pandas format. Then, we concatenate the tables to have an unique table."
   ]
  },
  {
   "cell_type": "code",
   "execution_count": 7,
   "metadata": {
    "ExecuteTime": {
     "end_time": "2021-01-22T14:56:14.171619Z",
     "start_time": "2021-01-22T14:56:13.787181Z"
    }
   },
   "outputs": [],
   "source": [
    "SPandas = join(TV, ModelS, keys='id').to_pandas()\n",
    "FPandas = join(TV, ModelF, keys='id').to_pandas()\n",
    "SPandas37 = join(TV, ModelS37, keys='id').to_pandas()\n",
    "FPandas37 = join(TV, ModelF37, keys='id').to_pandas()\n",
    "SFPandas = pd.concat([SPandas, FPandas, SPandas37, FPandas37], \n",
    "                     keys=['SKIRTOR', 'Fritz', 'S37', 'F37'], names=['Model', 'idCIG'])"
   ]
  },
  {
   "cell_type": "markdown",
   "metadata": {},
   "source": [
    "We transform luminosities from W to solar luminosities. We reformat some parameters in log units, useful for the plots."
   ]
  },
  {
   "cell_type": "code",
   "execution_count": 8,
   "metadata": {
    "ExecuteTime": {
     "end_time": "2021-01-22T14:56:14.205864Z",
     "start_time": "2021-01-22T14:56:14.172597Z"
    }
   },
   "outputs": [],
   "source": [
    "for kisd in ['bayes.agn.luminosity', 'bayes.agn.disk_luminosity', 'bayes.dust.luminosity']:\n",
    "    SFPandas[kisd] = (SFPandas[kisd].values*u.W).to(u.solLum).value\n",
    "    SFPandas[kisd+'_err'] = (SFPandas[kisd+'_err'].values *u.W).to(u.solLum).value\n",
    "\n",
    "for asdf in ['bayes.agn.disk_luminosity', 'bayes.sfh.sfr', 'bayes.sfh.tau_main']:\n",
    "    SFPandas[asdf+'_err'] = SFPandas[asdf+'_err']/(SFPandas[asdf] * log(10))\n",
    "    SFPandas[asdf] = log10(SFPandas[asdf])"
   ]
  },
  {
   "cell_type": "markdown",
   "metadata": {},
   "source": [
    "Finally, we create a definition that will help us to plot all the comparisons in the same way"
   ]
  },
  {
   "cell_type": "code",
   "execution_count": 9,
   "metadata": {
    "ExecuteTime": {
     "end_time": "2021-01-22T14:56:14.214718Z",
     "start_time": "2021-01-22T14:56:14.206730Z"
    }
   },
   "outputs": [],
   "source": [
    "def ParamFigure(PandaTable, HueMod, Method='scott', Order=None):\n",
    "    \"\"\"Figure used to present the results and comparisons for the selected parameters\"\"\"\n",
    "    ii = 0\n",
    "    LineSty = ['-', '--', ':']\n",
    "    for iP, Parm in enumerate(ParamCheck):\n",
    "        ii += 1\n",
    "        subplot2grid((2, len(ParamCheck)), (0, ii-1))\n",
    "        if len(HueMod) > 1:\n",
    "            for KL in range(len(HueMod[1])):\n",
    "                sns.kdeplot(data=PandaTable.loc[[HueMod[1][KL]]], x=Parm, hue=HueMod[0],\n",
    "                            legend=False, hue_order=Order, clip=ParamRange[iP], bw_method=Method,\n",
    "                            common_norm=False, ls=LineSty[KL])\n",
    "            if ii > 1:\n",
    "                plt.yticks([])\n",
    "                plt.ylabel(None)\n",
    "        else:\n",
    "            sns.kdeplot(data=PandaTable, x=Parm, hue=HueMod[0], legend=False, hue_order=Order,\n",
    "                        clip=ParamRange[iP], bw_method=Method, common_norm=False)\n",
    "            if ii > 1:\n",
    "                plt.yticks([])\n",
    "                plt.ylabel(None)\n",
    "        title(ParamLabel[ii-1], fontsize=12)\n",
    "        xlabel(ParamUnit[ii-1])\n",
    "        xlim(ParamRange[iP])\n",
    "        xticks(Particks[iP])\n",
    "    ii = 0\n",
    "    for iP, Parm in enumerate(ParamCheckErr):\n",
    "        ii += 1\n",
    "        subplot2grid((2, len(ParamCheckErr)), (1, ii-1))\n",
    "        if len(HueMod) > 1:\n",
    "            for KL in range(len(HueMod[1])):\n",
    "                sns.kdeplot(data=PandaTable.loc[[HueMod[1][KL]]], x=Parm, hue=HueMod[0],\n",
    "                            legend=False, hue_order=Order, clip=ParamRangeErr[iP], \n",
    "                            bw_method=Method, common_norm=False, ls=LineSty[KL])\n",
    "            if ii > 1:\n",
    "                plt.yticks([])\n",
    "                plt.ylabel(None)\n",
    "        else:\n",
    "            sns.kdeplot(data=PandaTable, x=Parm, hue=HueMod[0], legend=False, hue_order=Order,\n",
    "                        clip=ParamRangeErr[iP], bw_method=Method, common_norm=False)\n",
    "            if ii > 1:\n",
    "                plt.yticks([])\n",
    "                plt.ylabel(None)\n",
    "        xlabel(ParamUnitErr[ii-1])\n",
    "        xlim(ParamRangeErr[iP])\n",
    "        xticks(ParticksErr[iP])\n",
    "    subplots_adjust(top=0.9, bottom=0.1, left=0.1, right=0.9, hspace=0.4, wspace=0)"
   ]
  },
  {
   "cell_type": "markdown",
   "metadata": {},
   "source": [
    "## Compare physical parameters between Fritz and SKIRTOR\n",
    "##### FIGURE 3\n",
    "We plot the density distribution of the parameters and the models used in this work, together with the density distributions of the errors derived by CIGALE. "
   ]
  },
  {
   "cell_type": "code",
   "execution_count": 12,
   "metadata": {
    "ExecuteTime": {
     "end_time": "2021-01-22T14:56:50.812834Z",
     "start_time": "2021-01-22T14:56:47.955856Z"
    }
   },
   "outputs": [],
   "source": [
    "# with plt.style.context('seaborn-talk'):\n",
    "with plt.style.context('seaborn-paper'):\n",
    "    plt.rcParams.update({'font.size': 12})\n",
    "    plt.rcParams.update({'axes.labelsize': 12})\n",
    "    plt.rcParams.update({'legend.fontsize': 10})\n",
    "    plt.rcParams.update({'ytick.labelsize': 10})\n",
    "    plt.rcParams.update({'xtick.labelsize': 10})\n",
    "    figure(figsize=(14.06, 3.77))\n",
    "    ParamFigure(SFPandas, ['Model'])\n",
    "    SKI = mlines.Line2D([], [], color='C0', label='SKIRTOR')\n",
    "    Fri = mlines.Line2D([], [], color='C1', label='Fritz')\n",
    "    S37 = mlines.Line2D([], [], color='C2', label='SK-30/70')\n",
    "    F37 = mlines.Line2D([], [], color='C3', label='Fr-30/70')\n",
    "    plt.legend(handles=[SKI, Fri, S37, F37], loc='upper right', fontsize=8)\n",
    "    subplots_adjust(top=0.9, bottom=0.1, left=0.1,\n",
    "                    right=0.9, hspace=0.6, wspace=0)\n",
    "    savefig('Figures/F3.pdf', dpi=300, bbox_inches='tight')  # For Paper\n",
    "#     savefig('Talk_Figures/F3.png',dpi=300,bbox_inches = 'tight') ## For Presentation"
   ]
  },
  {
   "cell_type": "markdown",
   "metadata": {},
   "source": [
    "## Compare physical parameters with Seyfert type\n",
    "##### FIGURE 4\n",
    "We plot the density distribution of the parameters but this time separating Seyfert type classification. "
   ]
  },
  {
   "cell_type": "code",
   "execution_count": 15,
   "metadata": {
    "ExecuteTime": {
     "end_time": "2021-01-22T15:02:22.819555Z",
     "start_time": "2021-01-22T15:02:20.485082Z"
    }
   },
   "outputs": [],
   "source": [
    "# with plt.style.context('seaborn-talk'):\n",
    "with plt.style.context('seaborn-paper'):\n",
    "    plt.rcParams.update({'font.size': 12})\n",
    "    plt.rcParams.update({'axes.labelsize': 12})\n",
    "    plt.rcParams.update({'legend.fontsize': 10})\n",
    "    plt.rcParams.update({'ytick.labelsize': 10})\n",
    "    plt.rcParams.update({'xtick.labelsize': 10})\n",
    "    figure(figsize=(14.06, 3.77))\n",
    "    Selc5_1 = np.logical_and(\n",
    "        SFPandas['otype_txt'] == 'Sy1', SFPandas['Sp'] == 'S1')\n",
    "    Selc5_2 = np.logical_and(\n",
    "        SFPandas['otype_txt'] == 'Sy2', SFPandas['Sp'] == 'S2')\n",
    "    Selc5 = np.logical_or(Selc5_1, Selc5_2)\n",
    "    ParamFigure(SFPandas[Selc5], ['Sp', ['SKIRTOR', 'Fritz']])\n",
    "    S1Cl = mlines.Line2D([], [], color='C0', label='S1_SK')\n",
    "    S2Cl = mlines.Line2D([], [], color='C1', label='S2_SK')\n",
    "    S1Sm = mlines.Line2D([], [], color='C0', label='S1_Fr', ls='--')\n",
    "    S2Sm = mlines.Line2D([], [], color='C1', label='S2_Fr', ls='--')\n",
    "    plt.legend(handles=[S1Cl, S2Cl, S1Sm, S2Sm], loc='upper right', fontsize=8)\n",
    "    subplots_adjust(top=0.9, bottom=0.1, left=0.1,\n",
    "                    right=0.9, hspace=0.6, wspace=0)\n",
    "    savefig('Figures/F4.pdf',dpi=300,bbox_inches = 'tight')\n",
    "#     savefig('Talk_Figures/F4.png', dpi=300, bbox_inches='tight')  # For Presentation"
   ]
  },
  {
   "cell_type": "markdown",
   "metadata": {},
   "source": [
    "We include an alternative version to this plot for the 30/70 cases"
   ]
  },
  {
   "cell_type": "code",
   "execution_count": 17,
   "metadata": {
    "ExecuteTime": {
     "end_time": "2021-01-22T15:06:31.074287Z",
     "start_time": "2021-01-22T15:06:28.925922Z"
    }
   },
   "outputs": [],
   "source": [
    "# with plt.style.context('seaborn-talk'):\n",
    "with plt.style.context('seaborn-paper'):\n",
    "    plt.rcParams.update({'font.size': 12})\n",
    "    plt.rcParams.update({'axes.labelsize': 12})\n",
    "    plt.rcParams.update({'legend.fontsize': 10})\n",
    "    plt.rcParams.update({'ytick.labelsize': 10})\n",
    "    plt.rcParams.update({'xtick.labelsize': 10})\n",
    "    figure(figsize=(14.06, 3.77))\n",
    "    ParamFigure(SFPandas[Selc5], ['Sp', ['S37', 'F37']])\n",
    "    S1Cl = mlines.Line2D([], [], color='C0', label='S1_SK_30/70')\n",
    "    S2Cl = mlines.Line2D([], [], color='C1', label='S2_SK_30/70')\n",
    "    S1Sm = mlines.Line2D([], [], color='C0', label='S1_Fr_30/70', ls='--')\n",
    "    S2Sm = mlines.Line2D([], [], color='C1', label='S2_Fr_30/70', ls='--')\n",
    "    plt.legend(handles=[S1Cl, S2Cl, S1Sm, S2Sm], loc='upper right', fontsize=8)\n",
    "    subplots_adjust(top=0.9, bottom=0.1, left=0.1,\n",
    "                    right=0.9, hspace=0.6, wspace=0)\n",
    "    savefig('Figures/F4_Alt.pdf', dpi=300, bbox_inches='tight')\n",
    "#     savefig('Talk_Figures/F4_Alt.png', dpi=300, bbox_inches = 'tight') ## For Presentation"
   ]
  },
  {
   "cell_type": "markdown",
   "metadata": {},
   "source": [
    "## Compare VCV intermediate classifications\n",
    "##### FIGURE 5\n",
    "We plot the VCV-Osterbrock classification of Seyfert galaxies in the same way as before. (Only with SKIRTOR results) "
   ]
  },
  {
   "cell_type": "code",
   "execution_count": 18,
   "metadata": {
    "ExecuteTime": {
     "end_time": "2021-01-22T15:11:23.830639Z",
     "start_time": "2021-01-22T15:11:23.791638Z"
    }
   },
   "outputs": [],
   "source": [
    "Selc7 = np.logical_or.reduce([SFPandas['Sp'] == 'S1.0', SFPandas['Sp'] == 'S1.2', \n",
    "                              SFPandas['Sp'] == 'S1.5', SFPandas['Sp'] == 'S1.8', \n",
    "                              SFPandas['Sp'] == 'S1.9'])"
   ]
  },
  {
   "cell_type": "code",
   "execution_count": 21,
   "metadata": {
    "ExecuteTime": {
     "end_time": "2021-01-22T15:13:25.045271Z",
     "start_time": "2021-01-22T15:13:23.410170Z"
    }
   },
   "outputs": [],
   "source": [
    "# with plt.style.context('seaborn-talk'):\n",
    "with plt.style.context('seaborn-paper'):\n",
    "    plt.rcParams.update({'font.size': 12})\n",
    "    plt.rcParams.update({'axes.labelsize': 12})\n",
    "    plt.rcParams.update({'legend.fontsize': 10})\n",
    "    plt.rcParams.update({'ytick.labelsize': 10})\n",
    "    plt.rcParams.update({'xtick.labelsize': 10})\n",
    "    figure(figsize=(14.06, 3.77))\n",
    "    ParamFigure(SFPandas[Selc7], ['Sp', ['SKIRTOR']], \n",
    "                Order=['S1.0', 'S1.2', 'S1.5', 'S1.8', 'S1.9'])\n",
    "    O1 = mlines.Line2D([], [], color='C0', label='S1.0')\n",
    "    O2 = mlines.Line2D([], [], color='C1', label='S1.2')\n",
    "    O3 = mlines.Line2D([], [], color='C2', label='S1.5')\n",
    "    O4 = mlines.Line2D([], [], color='C3', label='S1.8')\n",
    "    O5 = mlines.Line2D([], [], color='C4', label='S1.9')\n",
    "    plt.legend(handles=[O1, O2, O3, O4, O5], loc='upper right', fontsize=8)\n",
    "    subplots_adjust(top=0.9, bottom=0.1, left=0.1,\n",
    "                    right=0.9, hspace=0.6, wspace=0)\n",
    "    savefig('Figures/F5.pdf', dpi=300, bbox_inches='tight')\n",
    "#     savefig('Talk_Figures/F5.png', dpi=300, bbox_inches = 'tight') ## For Presentation"
   ]
  },
  {
   "cell_type": "markdown",
   "metadata": {},
   "source": [
    "## Relation with the original detection wavelength\n",
    "##### FIGURE 6\n",
    "We plot the same parameters as before but only with the initial information of detection in one of the selected wavelengths. We create a string to just use the three types of X-ray, IR and Radio detections."
   ]
  },
  {
   "cell_type": "code",
   "execution_count": 22,
   "metadata": {
    "ExecuteTime": {
     "end_time": "2021-01-22T15:18:46.593760Z",
     "start_time": "2021-01-22T15:18:46.557982Z"
    }
   },
   "outputs": [],
   "source": [
    "SFPandas['XIR'] = SFPandas[\"X_OT\"].astype(str)+\\\n",
    "                  SFPandas[\"IR_OT\"].astype(str)+SFPandas[\"Rad_OT\"].astype(str)"
   ]
  },
  {
   "cell_type": "code",
   "execution_count": 23,
   "metadata": {
    "ExecuteTime": {
     "end_time": "2021-01-22T15:19:28.858719Z",
     "start_time": "2021-01-22T15:19:28.832194Z"
    },
    "scrolled": false
   },
   "outputs": [
    {
     "name": "stdout",
     "output_type": "stream",
     "text": [
      "410 896 1426 222\n"
     ]
    }
   ],
   "source": [
    "Selc6_4 = SFPandas.loc['SKIRTOR']['XIR'] == '1.01.01.0'\n",
    "Selc6_5 = SFPandas.loc['SKIRTOR']['XIR'] == '1.00.00.0'\n",
    "Selc6_6 = SFPandas.loc['SKIRTOR']['XIR'] == '0.01.00.0'\n",
    "Selc6_7 = SFPandas.loc['SKIRTOR']['XIR'] == '0.00.01.0'\n",
    "Selc6 = np.logical_or.reduce([Selc6_5, Selc6_6, Selc6_7])\n",
    "Selc6_ALT = np.logical_or.reduce([Selc6_4, Selc6_5, Selc6_6, Selc6_7])\n",
    "\n",
    "# The total number of galaxies per selection\n",
    "print(sum(Selc6_4), sum(Selc6_5), sum(Selc6_6), sum(Selc6_7))"
   ]
  },
  {
   "cell_type": "code",
   "execution_count": 26,
   "metadata": {
    "ExecuteTime": {
     "end_time": "2021-01-22T15:23:04.095816Z",
     "start_time": "2021-01-22T15:23:02.703761Z"
    }
   },
   "outputs": [],
   "source": [
    "# with plt.style.context('seaborn-talk'):\n",
    "with plt.style.context('seaborn-paper'):\n",
    "    plt.rcParams.update({'font.size': 12})\n",
    "    plt.rcParams.update({'axes.labelsize': 12})\n",
    "    plt.rcParams.update({'legend.fontsize': 10})\n",
    "    plt.rcParams.update({'ytick.labelsize': 10})\n",
    "    plt.rcParams.update({'xtick.labelsize': 10})\n",
    "    figure(figsize=(14.06, 3.77))\n",
    "    ParamFigure(SFPandas.loc['SKIRTOR'][Selc6], ['XIR'])\n",
    "    SKI = mlines.Line2D([], [], color='C0', label='Xray')\n",
    "    Fri = mlines.Line2D([], [], color='C1', label='IR')\n",
    "    F37 = mlines.Line2D([], [], color='C2', label='Radio')\n",
    "    plt.legend(handles=[SKI, Fri, F37], loc='upper right', fontsize=8)\n",
    "    subplots_adjust(top=0.9, bottom=0.1, left=0.1, right=0.9, hspace=0.6, wspace=0)\n",
    "    savefig('Figures/F6.pdf', dpi=300, bbox_inches='tight')\n",
    "#     savefig('Talk_Figures/F6.png',dpi=300,bbox_inches = 'tight') ## For Presentation"
   ]
  },
  {
   "cell_type": "markdown",
   "metadata": {},
   "source": [
    "We include an alternative version of this plot including when all the wavelengths were observed. "
   ]
  },
  {
   "cell_type": "code",
   "execution_count": 28,
   "metadata": {
    "ExecuteTime": {
     "end_time": "2021-01-22T15:24:54.388608Z",
     "start_time": "2021-01-22T15:24:53.149257Z"
    }
   },
   "outputs": [],
   "source": [
    "# with plt.style.context('seaborn-talk'):\n",
    "with plt.style.context('seaborn-paper'):\n",
    "    plt.rcParams.update({'font.size': 12})\n",
    "    plt.rcParams.update({'axes.labelsize': 12})\n",
    "    plt.rcParams.update({'legend.fontsize': 10})\n",
    "    plt.rcParams.update({'ytick.labelsize': 10})\n",
    "    plt.rcParams.update({'xtick.labelsize': 10})\n",
    "    figure(figsize=(14.06, 3.77))\n",
    "    ParamFigure(SFPandas.loc['SKIRTOR'][Selc6_ALT], ['XIR'])\n",
    "    XIR = mlines.Line2D([], [], color='C0', label='All')\n",
    "    Xr = mlines.Line2D([], [], color='C1', label='Xray')\n",
    "    IR = mlines.Line2D([], [], color='C2', label='IR')\n",
    "    Rad = mlines.Line2D([], [], color='C3', label='Radio')\n",
    "    plt.legend(handles=[XIR, Xr, IR, Rad], loc='upper right', fontsize=8)\n",
    "    subplots_adjust(top=0.9, bottom=0.1, left=0.1, right=0.9, hspace=0.6, wspace=0)\n",
    "    savefig('Figures/F6_ALT.pdf',dpi=300,bbox_inches = 'tight')\n",
    "#     savefig('Talk_Figures/F6_ALT.png', dpi=300, bbox_inches='tight')  # For Presentation"
   ]
  },
  {
   "cell_type": "markdown",
   "metadata": {},
   "source": [
    "## Redshift evolution with AGN luminosities\n",
    "##### FIGURE 7\n",
    "We now center on how are the Seyfert distributed with redshift on this sample. We plot the redshift distribution of the final galaxies and in other panel compared with the luminosity coming from the AGN disk. We calculate the running median for this luminosity in terms of redshift."
   ]
  },
  {
   "cell_type": "code",
   "execution_count": 33,
   "metadata": {
    "ExecuteTime": {
     "end_time": "2021-01-22T15:33:35.023787Z",
     "start_time": "2021-01-22T15:33:34.953184Z"
    }
   },
   "outputs": [],
   "source": [
    "RzBins = np.linspace(0.0, 1.0, 41)\n",
    "ParmsY = log10((SPandas['bayes.agn.disk_luminosity'].values*u.W).to(u.solLum).value)\n",
    "ParmsY2 = log10((SPandas['bayes.agn.luminosity'].values*u.W).to(u.solLum).value)\n",
    "\n",
    "bin_means, bin_edges, binnumber = binned_statistic(SPandas['rvz_redshift'][SPandas['otype_txt'] == 'Sy1'],\n",
    "                                                   ParmsY[SPandas['otype_txt'] == 'Sy1'], statistic='median', bins=RzBins)\n",
    "bin_means2, bin_edges2, binnumber2 = binned_statistic(SPandas['rvz_redshift'][SPandas['otype_txt'] == 'Sy2'],\n",
    "                                                      ParmsY[SPandas['otype_txt'] == 'Sy2'], statistic='median', bins=RzBins)\n",
    "bin_means_75, bin_edges, binnumberx = binned_statistic(SPandas['rvz_redshift'][SPandas['otype_txt'] == 'Sy1'],\n",
    "                                                       ParmsY[SPandas['otype_txt'] == 'Sy1'], statistic=Perc75, bins=RzBins)\n",
    "bin_means2_75, bin_edges2, binnumberx = binned_statistic(SPandas['rvz_redshift'][SPandas['otype_txt'] == 'Sy2'],\n",
    "                                                         ParmsY[SPandas['otype_txt'] == 'Sy2'], statistic=Perc75, bins=RzBins)\n",
    "bin_means_25, bin_edges, binnumberx = binned_statistic(SPandas['rvz_redshift'][SPandas['otype_txt'] == 'Sy1'],\n",
    "                                                       ParmsY[SPandas['otype_txt'] == 'Sy1'], statistic=Perc25, bins=RzBins)\n",
    "bin_means2_25, bin_edges2, binnumberx = binned_statistic(SPandas['rvz_redshift'][SPandas['otype_txt'] == 'Sy2'],\n",
    "                                                         ParmsY[SPandas['otype_txt'] == 'Sy2'], statistic=Perc25, bins=RzBins)\n",
    "\n",
    "Lbin_means, Lbin_edges, binnumberx = binned_statistic(SPandas['rvz_redshift'][SPandas['otype_txt'] == 'Sy1'],\n",
    "                                                      ParmsY2[SPandas['otype_txt'] == 'Sy1'], statistic='median', bins=RzBins)\n",
    "Lbin_means2, Lbin_edges2, binnumberx = binned_statistic(SPandas['rvz_redshift'][SPandas['otype_txt'] == 'Sy2'],\n",
    "                                                        ParmsY2[SPandas['otype_txt'] == 'Sy2'], statistic='median', bins=RzBins)\n",
    "Lbin_means_75, bin_edges, binnumberx = binned_statistic(SPandas['rvz_redshift'][SPandas['otype_txt'] == 'Sy1'],\n",
    "                                                        ParmsY2[SPandas['otype_txt'] == 'Sy1'], statistic=Perc75, bins=RzBins)\n",
    "Lbin_means2_75, bin_edges2, binnumberx = binned_statistic(SPandas['rvz_redshift'][SPandas['otype_txt'] == 'Sy2'],\n",
    "                                                          ParmsY2[SPandas['otype_txt'] == 'Sy2'], statistic=Perc75, bins=RzBins)\n",
    "Lbin_means_25, bin_edges, binnumbex = binned_statistic(SPandas['rvz_redshift'][SPandas['otype_txt'] == 'Sy1'],\n",
    "                                                       ParmsY2[SPandas['otype_txt'] == 'Sy1'], statistic=Perc25, bins=RzBins)\n",
    "Lbin_means2_25, bin_edges2, binnumberx = binned_statistic(SPandas['rvz_redshift'][SPandas['otype_txt'] == 'Sy2'],\n",
    "                                                          ParmsY2[SPandas['otype_txt'] == 'Sy2'], statistic=Perc25, bins=RzBins)"
   ]
  },
  {
   "cell_type": "markdown",
   "metadata": {},
   "source": [
    "We also calculated the limit where we are going to use the running median. We limited to a minimum of 12 galaxies. After that we plot the galaxies as scatter plots. We do not plot galaxies with redshifts higher than 1.01, as they are only a few and do not add much to the plot."
   ]
  },
  {
   "cell_type": "code",
   "execution_count": 34,
   "metadata": {
    "ExecuteTime": {
     "end_time": "2021-01-22T15:33:39.339771Z",
     "start_time": "2021-01-22T15:33:39.332746Z"
    }
   },
   "outputs": [],
   "source": [
    "GoodSy1 = histogram(SPandas['rvz_redshift'][SPandas['otype_txt'] == 'Sy1'], \n",
    "                    bins=RzBins)[0] >= 12\n",
    "GoodSy2 = histogram(SPandas['rvz_redshift'][SPandas['otype_txt'] == 'Sy2'], \n",
    "                    bins=RzBins)[0] >= 12\n",
    "\n",
    "ScatS1 = np.logical_and(SPandas['otype_txt'] == 'Sy1', SPandas['rvz_redshift'] > 0.8)\n",
    "ScatS2 = np.logical_and(SPandas['otype_txt'] == 'Sy2', SPandas['rvz_redshift'] > 0.575)"
   ]
  },
  {
   "cell_type": "code",
   "execution_count": 30,
   "metadata": {
    "ExecuteTime": {
     "end_time": "2021-01-22T15:33:10.286572Z",
     "start_time": "2021-01-22T15:33:10.278142Z"
    }
   },
   "outputs": [
    {
     "data": {
      "text/plain": [
       "22"
      ]
     },
     "execution_count": 30,
     "metadata": {},
     "output_type": "execute_result"
    }
   ],
   "source": [
    "## This number of galaxies are missing in the plot because they have a high redshift\n",
    "sum(SPandas['rvz_redshift']>=1.01)"
   ]
  },
  {
   "cell_type": "code",
   "execution_count": 39,
   "metadata": {
    "ExecuteTime": {
     "end_time": "2021-01-22T15:40:32.386482Z",
     "start_time": "2021-01-22T15:40:31.120387Z"
    }
   },
   "outputs": [],
   "source": [
    "with plt.style.context('seaborn-talk'):\n",
    "# with plt.style.context('seaborn-paper'):\n",
    "    plt.rcParams.update({'font.size': 12})\n",
    "    plt.rcParams.update({'axes.labelsize': 12})\n",
    "    plt.rcParams.update({'legend.fontsize': 10})\n",
    "    plt.rcParams.update({'ytick.labelsize': 10})\n",
    "    plt.rcParams.update({'xtick.labelsize': 10})\n",
    "\n",
    "    fig, (ax1, ax2) = plt.subplots(2, 1, figsize=(6.75, 9.44),\n",
    "                                   sharex=True, gridspec_kw={'height_ratios': [1, 3]})\n",
    "    ax2.scatter(SPandas['rvz_redshift'][ScatS1],\n",
    "                ParmsY[ScatS1], alpha=0.2)\n",
    "    ax2.scatter(SPandas['rvz_redshift'][ScatS2],\n",
    "                ParmsY[ScatS2], alpha=0.2)\n",
    "\n",
    "    ax2.plot(bin_edges[:-1][GoodSy1], bin_means[GoodSy1],\n",
    "             c='C0', label=r'$\\rm{L}_{\\rm{AGN}}^{\\rm{disk}}$ Sy1')\n",
    "    ax2.plot(bin_edges2[:-1][GoodSy2], bin_means2[GoodSy2],\n",
    "             c='C1', label=r'$\\rm{L}_{\\rm{AGN}}^{\\rm{disk}}$ Sy2')\n",
    "    ax2.fill_between(bin_edges[:-1][GoodSy1], bin_means_75[GoodSy1],\n",
    "                     y2=bin_means_25[GoodSy1], color='C0', alpha=0.2)\n",
    "    ax2.fill_between(bin_edges2[:-1][GoodSy2], bin_means2_75[GoodSy2],\n",
    "                     y2=bin_means2_25[GoodSy2], color='C1', alpha=0.2)\n",
    "\n",
    "    ax2.plot(Lbin_edges[:-1][GoodSy1], Lbin_means[GoodSy1],\n",
    "             c='C0', ls=':', label=r'$\\rm{L}_{\\rm{AGN}}$ Sy1')\n",
    "    ax2.plot(Lbin_edges2[:-1][GoodSy2], Lbin_means2[GoodSy2],\n",
    "             c='C1', ls=':', label=r'$\\rm{L}_{\\rm{AGN}}$ Sy2')\n",
    "    ax2.fill_between(Lbin_edges[:-1][GoodSy1], Lbin_means_75[GoodSy1],\n",
    "                     y2=Lbin_means_25[GoodSy1], color='C0', alpha=0.2)\n",
    "    ax2.fill_between(Lbin_edges2[:-1][GoodSy2], Lbin_means2_75[GoodSy2],\n",
    "                     y2=Lbin_means2_25[GoodSy2], color='C1', alpha=0.2)\n",
    "\n",
    "    ax2.set_xlabel(r'$\\rm{Redshift}$')\n",
    "    ax2.set_ylabel(r'$\\log(\\rm{Luminosity} [\\rm{L}_{\\odot}])$')\n",
    "\n",
    "    ax1.hist(SPandas['rvz_redshift'][SPandas['otype_txt'] ==\n",
    "                                     'Sy1'], histtype='step', bins=RzBins, label='Sy1', lw=2)\n",
    "    ax1.hist(SPandas['rvz_redshift'][SPandas['otype_txt'] ==\n",
    "                                     'Sy2'], histtype='step', bins=RzBins, label='Sy2', lw=2)\n",
    "    # The mayority of galaxies that we are missing are due to bad fits\n",
    "    ax1.set_ylabel('# Galaxies')\n",
    "    ax1.set_xlim(-0.01, 1.01)\n",
    "    ax2.set_ylim(8, 13.3)\n",
    "    ax1.set_yscale('log')\n",
    "    ax1.legend(loc='best')\n",
    "    ax2.legend(loc='best')\n",
    "    subplots_adjust(wspace=0,hspace=0)\n",
    "#     savefig('Figures/F7.pdf',dpi=300,bbox_inches = 'tight')\n",
    "    savefig('Talk_Figures/F7.png',dpi=300,bbox_inches = 'tight') ## For Presentation"
   ]
  },
  {
   "cell_type": "markdown",
   "metadata": {},
   "source": [
    "##### Notebook info"
   ]
  },
  {
   "cell_type": "code",
   "execution_count": 40,
   "metadata": {
    "ExecuteTime": {
     "end_time": "2021-01-22T15:42:21.920700Z",
     "start_time": "2021-01-22T15:42:21.748621Z"
    }
   },
   "outputs": [
    {
     "name": "stdout",
     "output_type": "stream",
     "text": [
      "Author: Andres Ramos\n",
      "\n",
      "Python implementation: CPython\n",
      "Python version       : 3.8.3\n",
      "IPython version      : 7.16.1\n",
      "\n",
      "Compiler    : GCC 7.3.0\n",
      "OS          : Linux\n",
      "Release     : 3.10.0-1160.el7.x86_64\n",
      "Machine     : x86_64\n",
      "Processor   : x86_64\n",
      "CPU cores   : 8\n",
      "Architecture: 64bit\n",
      "\n",
      "Specific Python packages\n",
      "pandas    : 1.2.0\n",
      "matplotlib: 3.2.2\n",
      "seaborn   : 0.11.1\n",
      "astropy   : 4.2\n",
      "numpy     : 1.19.5\n",
      "json      : 2.0.9\n",
      "autopep8  : 1.5.4\n",
      "sys       : 3.8.3 (default, Jul  2 2020, 16:21:59) \n",
      "[GCC 7.3.0]\n",
      "re        : 2.2.1\n",
      "logging   : 0.5.1.2\n",
      "\n",
      "Watermark: 2.1.0\n",
      "\n"
     ]
    }
   ],
   "source": [
    "%load_ext watermark\n",
    "%watermark -a \"Andres Ramos\" -d -v -m\n",
    "print('Specific Python packages')\n",
    "%watermark -iv -w"
   ]
  }
 ],
 "metadata": {
  "hide_input": false,
  "kernelspec": {
   "display_name": "Python 3",
   "language": "python",
   "name": "python3"
  },
  "toc": {
   "base_numbering": "11",
   "nav_menu": {},
   "number_sections": true,
   "sideBar": true,
   "skip_h1_title": false,
   "title_cell": "Table of Contents",
   "title_sidebar": "Contents",
   "toc_cell": false,
   "toc_position": {},
   "toc_section_display": true,
   "toc_window_display": true
  },
  "varInspector": {
   "cols": {
    "lenName": 16,
    "lenType": 16,
    "lenVar": 40
   },
   "kernels_config": {
    "python": {
     "delete_cmd_postfix": "",
     "delete_cmd_prefix": "del ",
     "library": "var_list.py",
     "varRefreshCmd": "print(var_dic_list())"
    },
    "r": {
     "delete_cmd_postfix": ") ",
     "delete_cmd_prefix": "rm(",
     "library": "var_list.r",
     "varRefreshCmd": "cat(var_dic_list()) "
    }
   },
   "types_to_exclude": [
    "module",
    "function",
    "builtin_function_or_method",
    "instance",
    "_Feature"
   ],
   "window_display": false
  }
 },
 "nbformat": 4,
 "nbformat_minor": 4
}
