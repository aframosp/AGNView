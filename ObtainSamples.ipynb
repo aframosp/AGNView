{
 "cells": [
  {
   "cell_type": "markdown",
   "metadata": {},
   "source": [
    "# Seyfert Sample \n",
    "In this notebook we show the steps to obtain the Seyfert sample of galaxies.\n",
    "\n",
    "First import only Table as most of the work is done with TOPCAT."
   ]
  },
  {
   "cell_type": "code",
   "execution_count": 1,
   "metadata": {},
   "outputs": [],
   "source": [
    "from astropy.table import Table"
   ]
  },
  {
   "cell_type": "markdown",
   "metadata": {},
   "source": [
    "We obtain the SMB file with the following SQL code\n",
    "\n",
    "~~~~sql\n",
    "SELECT main_id, ra, dec, coo_bibcode, otype_txt, rvz_bibcode, rvz_radvel, rvz_redshift, rvz_type, nbref, alltypes.otypes\n",
    "FROM basic JOIN alltypes ON oid = oidref\n",
    "WHERE basic.otype='Sy1' or basic.otype='Sy2' or basic.otype='SyG'\n",
    "~~~~"
   ]
  },
  {
   "cell_type": "markdown",
   "metadata": {},
   "source": [
    "We use TOPCAT in this step by calling the VCV information from Vizier and cross-matching between 2 arcsecs. The final file is saved and then is transformed in a votable here. This step can also be done in TOPCAT."
   ]
  },
  {
   "cell_type": "code",
   "execution_count": 3,
   "metadata": {},
   "outputs": [],
   "source": [
    "TAP=Table.read('SMB_VCV.fits',format='fits')\n",
    "TAP['main_id','otype_txt','otypes'].write('SMBVCV_VO',format='votable')"
   ]
  },
  {
   "cell_type": "markdown",
   "metadata": {},
   "source": [
    "Then we run the following query to search for the bibcodes of the otypes"
   ]
  },
  {
   "cell_type": "markdown",
   "metadata": {},
   "source": [
    "~~~sql\n",
    "SELECT Sy.main_id, otypes.otype_txt,otypes.origin\n",
    "from basic JOIN ident ON oidref=oid JOIN otypes USING(oidref) JOIN TAP_UPLOAD.Seyf AS Sy ON Sy.main_id=basic.main_id\n",
    "WHERE id=Sy.main_id\n",
    "~~~"
   ]
  },
  {
   "cell_type": "markdown",
   "metadata": {},
   "source": [
    "Then we can clean the files"
   ]
  },
  {
   "cell_type": "markdown",
   "metadata": {},
   "source": [
    "## Another solution\n",
    "After checking that the two SQL queries can be united without uploading a new table, another solution to get the origin of the otype is run the following SQL query"
   ]
  },
  {
   "cell_type": "markdown",
   "metadata": {},
   "source": [
    "~~~sql\n",
    "SELECT DISTINCT main_id, ra, dec, otypes.otype_txt,otypes.origin\n",
    "FROM basic JOIN ident ON oidref=oid JOIN otypes USING(oidref)\n",
    "WHERE basic.otype='Sy1' or basic.otype='Sy2' or basic.otype='SyG'\n",
    "~~~"
   ]
  },
  {
   "cell_type": "markdown",
   "metadata": {},
   "source": [
    "and then you could filter with the selected SMB_VCV information. "
   ]
  },
  {
   "cell_type": "code",
   "execution_count": null,
   "metadata": {},
   "outputs": [],
   "source": []
  }
 ],
 "metadata": {
  "kernelspec": {
   "display_name": "Python 3",
   "language": "python",
   "name": "python3"
  },
  "language_info": {
   "codemirror_mode": {
    "name": "ipython",
    "version": 3
   },
   "file_extension": ".py",
   "mimetype": "text/x-python",
   "name": "python",
   "nbconvert_exporter": "python",
   "pygments_lexer": "ipython3",
   "version": "3.6.4"
  }
 },
 "nbformat": 4,
 "nbformat_minor": 4
}
