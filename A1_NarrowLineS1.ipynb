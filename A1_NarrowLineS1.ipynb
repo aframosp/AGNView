{
 "cells": [
  {
   "cell_type": "markdown",
   "metadata": {},
   "source": [
    "# Verification of the narrow-line Seyfert 1 galaxies\n",
    "Here, we verify if the Seyfert galaxies classified as Type-1 with narrow lines (NLSy1), show any difference with respect to a typical Seyfert 1 galaxy (Sy1). These NLSy1 galaxies were used in the project as Sy1 galaxies.\n",
    "First, we import the packages for the analysis"
   ]
  },
  {
   "cell_type": "code",
   "execution_count": 1,
   "metadata": {
    "ExecuteTime": {
     "end_time": "2021-04-30T10:52:06.052154Z",
     "start_time": "2021-04-30T10:52:05.490261Z"
    }
   },
   "outputs": [
    {
     "name": "stdout",
     "output_type": "stream",
     "text": [
      "Using matplotlib backend: Qt5Agg\n",
      "Populating the interactive namespace from numpy and matplotlib\n"
     ]
    }
   ],
   "source": [
    "%pylab"
   ]
  },
  {
   "cell_type": "code",
   "execution_count": 2,
   "metadata": {
    "ExecuteTime": {
     "end_time": "2021-04-30T10:52:09.572304Z",
     "start_time": "2021-04-30T10:52:06.053109Z"
    }
   },
   "outputs": [],
   "source": [
    "import seaborn as sns\n",
    "import astropy.units as u\n",
    "from scipy.stats import ks_2samp\n",
    "import matplotlib.lines as mlines\n",
    "from astropy.table import Table, join"
   ]
  },
  {
   "cell_type": "code",
   "execution_count": 3,
   "metadata": {
    "ExecuteTime": {
     "end_time": "2021-04-30T10:52:13.587385Z",
     "start_time": "2021-04-30T10:52:13.583818Z"
    }
   },
   "outputs": [],
   "source": [
    "def CriticalV(size1, size2, alpha=0.05):\n",
    "    \"\"\"Critical value for the KS two sample test\"\"\"\n",
    "    Section1 = -np.log(alpha/2)\n",
    "    Section2 = 1+(size2/size1)\n",
    "    Section3 = 2*size2\n",
    "    return (np.sqrt(Section1*(Section2/Section3)))"
   ]
  },
  {
   "cell_type": "markdown",
   "metadata": {},
   "source": [
    "## Join Information\n",
    "\n",
    "We read the list of S1n galaxies and compare them with the clean sample coming from SKIRTOR. We then split the galaxies in original S1n and Sy1. "
   ]
  },
  {
   "cell_type": "code",
   "execution_count": 4,
   "metadata": {
    "ExecuteTime": {
     "end_time": "2021-04-30T10:52:13.898137Z",
     "start_time": "2021-04-30T10:52:13.588555Z"
    }
   },
   "outputs": [],
   "source": [
    "S1n = Table.read('NLS1_reclass.txt', format='ascii')\n",
    "S1n.rename_column('main_id', 'id')  # Renamed to use the join with the same id\n",
    "\n",
    "ModelS = Table.read('CIGALEOutputs/Cleanresults_SK.fits', format='fits')\n",
    "\n",
    "TV = Table.read('VCV_TAP_otype.txt', format='ascii')\n",
    "TV.rename_column('main_id', 'id')  # Renamed to use the join with the same id"
   ]
  },
  {
   "cell_type": "code",
   "execution_count": 5,
   "metadata": {
    "ExecuteTime": {
     "end_time": "2021-04-30T10:52:13.999797Z",
     "start_time": "2021-04-30T10:52:13.899116Z"
    }
   },
   "outputs": [],
   "source": [
    "SPandas = join(TV, ModelS, keys='id').to_pandas()"
   ]
  },
  {
   "cell_type": "code",
   "execution_count": 6,
   "metadata": {
    "ExecuteTime": {
     "end_time": "2021-04-30T10:52:14.568246Z",
     "start_time": "2021-04-30T10:52:14.000973Z"
    }
   },
   "outputs": [],
   "source": [
    "NoS1n = [SPandas['id'][sd] not in S1n['id'] for sd in range(len(SPandas))]\n",
    "YesS1n = [SPandas['id'][sd] in S1n['id'] for sd in range(len(SPandas))]\n",
    "OnlyS1 = logical_and(NoS1n, SPandas['Sp'] == 'S1')"
   ]
  },
  {
   "cell_type": "code",
   "execution_count": 7,
   "metadata": {
    "ExecuteTime": {
     "end_time": "2021-04-30T10:52:14.573918Z",
     "start_time": "2021-04-30T10:52:14.570034Z"
    }
   },
   "outputs": [],
   "source": [
    "SPandas['Sey1s'] = np.empty(len(SPandas),dtype='str')\n",
    "SPandas.loc[OnlyS1, 'Sey1s'] = 'Sy1'\n",
    "SPandas.loc[YesS1n, 'Sey1s'] = 'S1n'"
   ]
  },
  {
   "cell_type": "code",
   "execution_count": 8,
   "metadata": {
    "ExecuteTime": {
     "end_time": "2021-04-30T10:52:14.580385Z",
     "start_time": "2021-04-30T10:52:14.574715Z"
    }
   },
   "outputs": [
    {
     "name": "stdout",
     "output_type": "stream",
     "text": [
      "Total number of Seyfert 1: 5985\n",
      "Total number of NLSy1 reclassified: 1409\n",
      "Total number of S1 without S1n: 4576\n"
     ]
    }
   ],
   "source": [
    "print('Total number of Seyfert 1:',sum(SPandas['Sp']=='S1'))\n",
    "print('Total number of NLSy1 reclassified:',sum(SPandas['Sey1s']=='S1n'))\n",
    "print('Total number of S1 without S1n:',sum(SPandas['Sey1s']=='Sy1'))"
   ]
  },
  {
   "cell_type": "markdown",
   "metadata": {},
   "source": [
    "The critical value for the KS test is going to be:"
   ]
  },
  {
   "cell_type": "code",
   "execution_count": 9,
   "metadata": {
    "ExecuteTime": {
     "end_time": "2021-04-30T10:52:14.587779Z",
     "start_time": "2021-04-30T10:52:14.581288Z"
    }
   },
   "outputs": [
    {
     "data": {
      "text/plain": [
       "0.04137764858141174"
      ]
     },
     "execution_count": 9,
     "metadata": {},
     "output_type": "execute_result"
    }
   ],
   "source": [
    "CriticalV(sum(SPandas['Sey1s']=='S1n'),sum(SPandas['Sey1s']=='Sy1'))"
   ]
  },
  {
   "cell_type": "markdown",
   "metadata": {
    "ExecuteTime": {
     "end_time": "2021-03-15T16:00:43.922839Z",
     "start_time": "2021-03-15T16:00:43.914810Z"
    }
   },
   "source": [
    "## Comparing AGN parameters\n",
    "We compare the AGN physical parameters between the subset of NLSy1 and S1 galaxies. We added SFR the the comparison."
   ]
  },
  {
   "cell_type": "code",
   "execution_count": 10,
   "metadata": {
    "ExecuteTime": {
     "end_time": "2021-04-30T10:52:14.594241Z",
     "start_time": "2021-04-30T10:52:14.588789Z"
    }
   },
   "outputs": [],
   "source": [
    "AGNParam = ['bayes.agn.EBV', \n",
    "            'bayes.agn.fracAGN',\n",
    "            'bayes.agn.i',\n",
    "            'bayes.sfh.sfr',\n",
    "            'bayes.agn.accretion_power',\n",
    "            'bayes.agn.disk_luminosity',\n",
    "            'bayes.agn.dust_luminosity',\n",
    "            'bayes.agn.luminosity']\n",
    "ParamLabel = ['Polar-dust E(B-V) [mag]', 'AGN Fraction',\n",
    "              'Viewing angle [degrees]', 'SFR [log(M$_{\\odot}$/yr)]',\n",
    "              'AGN accretion power [log(L$_{\\odot}$)]', \n",
    "              'AGN disk luminosity [log(L$_{\\odot}$)]', \n",
    "              'AGN dust luminosity [log(L$_{\\odot}$)]', \n",
    "              'AGN total luminosity [log(L$_{\\odot}$)]']\n",
    "ParamRange = [[0, 1], [0.05, 0.95], [0, 90], [-3,3]]"
   ]
  },
  {
   "cell_type": "markdown",
   "metadata": {},
   "source": [
    "We change the units of the luminosities to log solar luminosities"
   ]
  },
  {
   "cell_type": "code",
   "execution_count": 11,
   "metadata": {
    "ExecuteTime": {
     "end_time": "2021-04-30T10:52:14.603723Z",
     "start_time": "2021-04-30T10:52:14.595206Z"
    }
   },
   "outputs": [],
   "source": [
    "for kisd in ['bayes.agn.luminosity', 'bayes.agn.disk_luminosity', 'bayes.agn.dust_luminosity',\n",
    "             'bayes.agn.accretion_power']:\n",
    "    SPandas[kisd] = np.log10((SPandas[kisd].values*u.W).to(u.solLum).value)\n",
    "    SPandas[kisd+'_err'] = (SPandas[kisd+'_err'].values *\n",
    "                             u.W).to(u.solLum).value\n",
    "SPandas['bayes.sfh.sfr'] = np.log10((SPandas['bayes.sfh.sfr']))"
   ]
  },
  {
   "cell_type": "markdown",
   "metadata": {},
   "source": [
    "##### FIGURE A1 \n",
    "Finally, we compare the probability distributions for both types. We also calculate the median and "
   ]
  },
  {
   "cell_type": "code",
   "execution_count": 16,
   "metadata": {
    "ExecuteTime": {
     "end_time": "2021-04-30T11:12:46.080481Z",
     "start_time": "2021-04-30T11:12:44.188387Z"
    }
   },
   "outputs": [
    {
     "name": "stderr",
     "output_type": "stream",
     "text": [
      "No handles with labels found to put in legend.\n",
      "No handles with labels found to put in legend.\n"
     ]
    },
    {
     "name": "stdout",
     "output_type": "stream",
     "text": [
      "KstestResult(statistic=0.14307374669333506, pvalue=4.440892098500626e-16)\n",
      "For bayes.agn.EBV the median of NLSy1 is 0.11\n",
      "For bayes.agn.EBV the median of Sy1 is 0.18\n",
      "KstestResult(statistic=0.11010310218525264, pvalue=7.882583474838611e-12)\n",
      "For bayes.agn.fracAGN the median of NLSy1 is 0.49\n",
      "For bayes.agn.fracAGN the median of Sy1 is 0.44\n"
     ]
    },
    {
     "name": "stderr",
     "output_type": "stream",
     "text": [
      "No handles with labels found to put in legend.\n",
      "No handles with labels found to put in legend.\n"
     ]
    },
    {
     "name": "stdout",
     "output_type": "stream",
     "text": [
      "KstestResult(statistic=0.0836255875068863, pvalue=5.262328243160752e-07)\n",
      "For bayes.agn.i the median of NLSy1 is 26.09\n",
      "For bayes.agn.i the median of Sy1 is 25.89\n",
      "KstestResult(statistic=0.17779000630313618, pvalue=4.440892098500626e-16)\n",
      "For bayes.sfh.sfr the median of NLSy1 is 1.18\n",
      "For bayes.sfh.sfr the median of Sy1 is 0.94\n"
     ]
    },
    {
     "name": "stderr",
     "output_type": "stream",
     "text": [
      "No handles with labels found to put in legend.\n",
      "No handles with labels found to put in legend.\n"
     ]
    },
    {
     "name": "stdout",
     "output_type": "stream",
     "text": [
      "KstestResult(statistic=0.24459704596326315, pvalue=4.440892098500626e-16)\n",
      "For bayes.agn.accretion_power the median of NLSy1 is 11.29\n",
      "For bayes.agn.accretion_power the median of Sy1 is 11.00\n",
      "KstestResult(statistic=0.24678267084228758, pvalue=4.440892098500626e-16)\n",
      "For bayes.agn.disk_luminosity the median of NLSy1 is 11.25\n",
      "For bayes.agn.disk_luminosity the median of Sy1 is 10.89\n"
     ]
    },
    {
     "name": "stderr",
     "output_type": "stream",
     "text": [
      "No handles with labels found to put in legend.\n",
      "No handles with labels found to put in legend.\n"
     ]
    },
    {
     "name": "stdout",
     "output_type": "stream",
     "text": [
      "KstestResult(statistic=0.239167725461196, pvalue=4.440892098500626e-16)\n",
      "For bayes.agn.dust_luminosity the median of NLSy1 is 11.15\n",
      "For bayes.agn.dust_luminosity the median of Sy1 is 10.86\n",
      "KstestResult(statistic=0.2791993093847246, pvalue=4.440892098500626e-16)\n",
      "For bayes.agn.luminosity the median of NLSy1 is 11.58\n",
      "For bayes.agn.luminosity the median of Sy1 is 11.27\n"
     ]
    },
    {
     "data": {
      "image/png": "[encoded data removed]",
      "text/plain": [
       "<Figure size 1012.32x271.44 with 8 Axes>"
      ]
     },
     "metadata": {
      "needs_background": "light"
     },
     "output_type": "display_data"
    }
   ],
   "source": [
    "%matplotlib inline\n",
    "# with plt.style.context('seaborn-talk'):\n",
    "with plt.style.context('seaborn-paper'):\n",
    "    plt.rcParams.update({'font.size': 12})\n",
    "    plt.rcParams.update({'axes.labelsize': 12})\n",
    "    plt.rcParams.update({'legend.fontsize': 10})\n",
    "    plt.rcParams.update({'ytick.labelsize': 10})\n",
    "    plt.rcParams.update({'xtick.labelsize': 10})\n",
    "    fig, ((ax1, ax2, ax3, ax4),\n",
    "          (ax5, ax6, ax7, ax8)) = subplots(2, 4, figsize=(14.06, 3.77))\n",
    "    axs = [ax1, ax2, ax3, ax4, ax5, ax6, ax7, ax8]\n",
    "    for iPar, Parm in enumerate(AGNParam):\n",
    "        sns.kdeplot(data=SPandas, x=Parm, hue='Sey1s', ax=axs[iPar],\n",
    "                    common_norm=False, hue_order=['S1n', 'Sy1'])\n",
    "        if iPar not in [0,4]:\n",
    "            axs[iPar].set_yticks([])\n",
    "        SetS1n = SPandas[Parm][SPandas['Sey1s'] == 'S1n']\n",
    "        SetSy1 = SPandas[Parm][SPandas['Sey1s'] == 'Sy1']\n",
    "        print(ks_2samp(SetS1n, SetSy1))\n",
    "        MedS1n = np.median(SPandas[Parm][SPandas['Sey1s'] == 'S1n'])\n",
    "        MedS1 = np.median(SPandas[Parm][SPandas['Sey1s'] == 'Sy1'])\n",
    "        axs[iPar].axvline(MedS1n, ls='--', c='C0')\n",
    "        axs[iPar].axvline(MedS1, ls='--', c='C1')\n",
    "        print('For %s the median of NLSy1 is %1.2f' % (Parm, MedS1n))\n",
    "        print('For %s the median of Sy1 is %1.2f' % (Parm, MedS1))\n",
    "        if iPar >= 4:\n",
    "            axs[iPar].set_xlim(8.5, 13)\n",
    "        else:\n",
    "            axs[iPar].set_xlim(ParamRange[iPar][0], ParamRange[iPar][1])\n",
    "        if ~np.logical_xor(iPar != 0, iPar != 4):\n",
    "            axs[iPar].set_ylabel(None)\n",
    "        axs[iPar].set_xlabel(ParamLabel[iPar])\n",
    "        axs[iPar].legend()\n",
    "    subplots_adjust(top=0.9, bottom=0.1, left=0.1,\n",
    "                    right=0.9, hspace=0.6, wspace=0)\n",
    "    S1_n = mlines.Line2D([], [], color='C0', label='NLSy1', ls='-')\n",
    "    S1_b = mlines.Line2D([], [], color='C1', label='Sy1', ls='-')\n",
    "    plt.legend(handles=[S1_n, S1_b], loc='upper left')\n",
    "    savefig('Figures/A1.pdf', dpi=300, bbox_inches='tight')  # For Paper\n",
    "#     savefig('Talk_Figures/A1.png',dpi=300,bbox_inches = 'tight') ## For Presentation"
   ]
  },
  {
   "cell_type": "markdown",
   "metadata": {},
   "source": [
    "##### Notebook info"
   ]
  },
  {
   "cell_type": "code",
   "execution_count": 13,
   "metadata": {
    "ExecuteTime": {
     "end_time": "2021-04-30T10:52:17.142597Z",
     "start_time": "2021-04-30T10:52:17.012997Z"
    }
   },
   "outputs": [
    {
     "name": "stdout",
     "output_type": "stream",
     "text": [
      "Author: Andres Ramos\n",
      "\n",
      "Python implementation: CPython\n",
      "Python version       : 3.8.3\n",
      "IPython version      : 7.16.1\n",
      "\n",
      "Compiler    : GCC 7.3.0\n",
      "OS          : Linux\n",
      "Release     : 3.10.0-1160.el7.x86_64\n",
      "Machine     : x86_64\n",
      "Processor   : x86_64\n",
      "CPU cores   : 8\n",
      "Architecture: 64bit\n",
      "\n",
      "Specific Python packages\n",
      "re        : 2.2.1\n",
      "logging   : 0.5.1.2\n",
      "seaborn   : 0.11.1\n",
      "matplotlib: 3.2.2\n",
      "numpy     : 1.19.5\n",
      "json      : 2.0.9\n",
      "sys       : 3.8.3 (default, Jul  2 2020, 16:21:59) \n",
      "[GCC 7.3.0]\n",
      "autopep8  : 1.5.4\n",
      "astropy   : 4.2\n",
      "\n",
      "Watermark: 2.1.0\n",
      "\n"
     ]
    }
   ],
   "source": [
    "%load_ext watermark\n",
    "%watermark -a \"Andres Ramos\" -d -v -m\n",
    "print('Specific Python packages')\n",
    "%watermark -iv -w"
   ]
  },
  {
   "cell_type": "code",
   "execution_count": null,
   "metadata": {},
   "outputs": [],
   "source": []
  }
 ],
 "metadata": {
  "hide_input": false,
  "kernelspec": {
   "display_name": "Python 3",
   "language": "python",
   "name": "python3"
  },
  "language_info": {
   "codemirror_mode": {
    "name": "ipython",
    "version": 3
   },
   "file_extension": ".py",
   "mimetype": "text/x-python",
   "name": "python",
   "nbconvert_exporter": "python",
   "pygments_lexer": "ipython3",
   "version": "3.8.3"
  },
  "toc": {
   "base_numbering": 1,
   "nav_menu": {},
   "number_sections": true,
   "sideBar": true,
   "skip_h1_title": false,
   "title_cell": "Table of Contents",
   "title_sidebar": "Contents",
   "toc_cell": false,
   "toc_position": {},
   "toc_section_display": true,
   "toc_window_display": false
  },
  "varInspector": {
   "cols": {
    "lenName": 16,
    "lenType": 16,
    "lenVar": 40
   },
   "kernels_config": {
    "python": {
     "delete_cmd_postfix": "",
     "delete_cmd_prefix": "del ",
     "library": "var_list.py",
     "varRefreshCmd": "print(var_dic_list())"
    },
    "r": {
     "delete_cmd_postfix": ") ",
     "delete_cmd_prefix": "rm(",
     "library": "var_list.r",
     "varRefreshCmd": "cat(var_dic_list()) "
    }
   },
   "types_to_exclude": [
    "module",
    "function",
    "builtin_function_or_method",
    "instance",
    "_Feature"
   ],
   "window_display": false
  }
 },
 "nbformat": 4,
 "nbformat_minor": 4
}
