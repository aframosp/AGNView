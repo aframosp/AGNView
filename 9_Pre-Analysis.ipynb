{
 "cells": [
  {
   "cell_type": "markdown",
   "metadata": {},
   "source": [
    "# Pre-analysis of data\n",
    "Here we join the files to be used in the analysis phase. We experiment with the parameters of the classifiers. We use those to classify galaxies in another notebook.\n",
    "First, we import all the packages"
   ]
  },
  {
   "cell_type": "code",
   "execution_count": 1,
   "metadata": {
    "ExecuteTime": {
     "end_time": "2021-01-22T10:28:23.191994Z",
     "start_time": "2021-01-22T10:28:22.828071Z"
    }
   },
   "outputs": [
    {
     "name": "stdout",
     "output_type": "stream",
     "text": [
      "Using matplotlib backend: Qt5Agg\n",
      "Populating the interactive namespace from numpy and matplotlib\n"
     ]
    }
   ],
   "source": [
    "%pylab\n",
    "%matplotlib inline"
   ]
  },
  {
   "cell_type": "code",
   "execution_count": 2,
   "metadata": {
    "ExecuteTime": {
     "end_time": "2021-01-22T10:28:28.870926Z",
     "start_time": "2021-01-22T10:28:24.349260Z"
    }
   },
   "outputs": [],
   "source": [
    "import pandas as pd\n",
    "import seaborn as sns\n",
    "import xgboost as xgb\n",
    "import astropy.units as u\n",
    "from collections import Counter\n",
    "import matplotlib.lines as mlines\n",
    "from scipy.stats import binned_statistic\n",
    "from astropy.table import Table, join, hstack\n",
    "\n",
    "from sklearn import preprocessing\n",
    "from sklearn.decomposition import PCA\n",
    "from sklearn.feature_selection import RFECV\n",
    "from sklearn.ensemble import RandomForestClassifier\n",
    "from sklearn.inspection import permutation_importance\n",
    "from sklearn.model_selection import train_test_split, StratifiedKFold, GridSearchCV\n",
    "from sklearn.metrics import confusion_matrix, accuracy_score, f1_score, matthews_corrcoef"
   ]
  },
  {
   "cell_type": "markdown",
   "metadata": {},
   "source": [
    "Additionally, we include some shortcuts to simplify some code"
   ]
  },
  {
   "cell_type": "code",
   "execution_count": 3,
   "metadata": {
    "ExecuteTime": {
     "end_time": "2021-01-22T10:28:42.834567Z",
     "start_time": "2021-01-22T10:28:42.823465Z"
    }
   },
   "outputs": [],
   "source": [
    "# User shortcuts\n",
    "def Perc75(array):\n",
    "    \"\"\"75th Percentile\"\"\"\n",
    "    return(np.percentile(array, 75))\n",
    "\n",
    "\n",
    "def Perc25(array):\n",
    "    \"\"\"25th Percentile\"\"\"\n",
    "    return(np.percentile(array, 25))\n",
    "\n",
    "\n",
    "def CreateTableCIG(PaTable, Samp, TypeAGN):\n",
    "    \"\"\"Calculate the Matthwes, Cohen, F1-macro and accuracy of the results\"\"\"\n",
    "    for jj in ['SKIRTOR', 'Fritz', 'S37', 'F37']:\n",
    "        MCC = matthews_corrcoef(\n",
    "            PaTable.loc[jj][Samp], PaTable.loc[jj][TypeAGN])\n",
    "        F1s = f1_score(PaTable.loc[jj][Samp],\n",
    "                       PaTable.loc[jj][TypeAGN], average='macro')\n",
    "        Acc = accuracy_score(PaTable.loc[jj][Samp], PaTable.loc[jj][TypeAGN])\n",
    "        print(jj, round(MCC, 3), round(F1s, 3), round(Acc, 3))\n",
    "\n",
    "\n",
    "def CreateTableClas(PaTable, Samp, TypeAGN):\n",
    "    \"\"\"Calculate the Matthwes, Cohen, F1-macro and accuracy of the results from the Classifiers\"\"\"\n",
    "    for jj in ['SKIRTOR', 'Fritz', 'S37', 'F37']:\n",
    "        X = PaTable.loc[jj][Samp]\n",
    "        y = PaTable.loc[jj][TypeAGN]\n",
    "        x_train, x_test, y_train, y_test = train_test_split(\n",
    "            X, y, test_size=0.20, random_state=42)\n",
    "        le = preprocessing.LabelEncoder()\n",
    "        le.fit(y)\n",
    "        x_train_encode = preprocessing.robust_scale(x_train)\n",
    "        x_test_encode = preprocessing.robust_scale(x_test)\n",
    "        y_train_encode = le.transform(y_train).reshape(-1, 1).ravel()\n",
    "        y_test_encode = le.transform(y_test).reshape(-1, 1).ravel()\n",
    "        # This classifiers need to be defined before use\n",
    "        for iclf, Clasi in enumerate([clf_rf, clf_xg]):\n",
    "            print(['RandomForest', 'XGBoost'][iclf])\n",
    "            Clasi.fit(x_train_encode, y_train_encode)\n",
    "            MCC = matthews_corrcoef(\n",
    "                y_test_encode, Clasi.predict(x_test_encode))\n",
    "            F1s = f1_score(y_test_encode, Clasi.predict(\n",
    "                x_test_encode), average='macro')\n",
    "            Acc = accuracy_score(y_test_encode, Clasi.predict(x_test_encode))\n",
    "            print(jj, round(MCC, 3), round(F1s, 3), round(Acc, 3))\n",
    "            result = permutation_importance(Clasi, x_test_encode, y_test_encode, n_repeats=20,\n",
    "                                            random_state=42, n_jobs=-1)\n",
    "            sorted_idx = result.importances_mean.argsort()\n",
    "            print(ManualCols[sorted_idx][-4:],\n",
    "                  np.mean(result.importances[sorted_idx], axis=1)[-4:])\n",
    "\n",
    "\n",
    "def SelT1orT2(TableP):\n",
    "    \"\"\"Select Seyferts 1 and 2 in both VCV and CDS\"\"\"\n",
    "    Selc1 = np.logical_and(TableP['otype_txt'] == 'Sy1', TableP['Sp'] == 'S1')\n",
    "    Selc2 = np.logical_and(TableP['otype_txt'] == 'Sy2', TableP['Sp'] == 'S2')\n",
    "    SelcSey = np.logical_or(Selc1, Selc2)\n",
    "    return(TableP[SelcSey])"
   ]
  },
  {
   "cell_type": "markdown",
   "metadata": {},
   "source": [
    "## Join all clean results"
   ]
  },
  {
   "cell_type": "markdown",
   "metadata": {},
   "source": [
    "We read the results from the models we are going to use "
   ]
  },
  {
   "cell_type": "code",
   "execution_count": 5,
   "metadata": {
    "ExecuteTime": {
     "end_time": "2021-01-22T10:29:06.210646Z",
     "start_time": "2021-01-22T10:29:05.712850Z"
    }
   },
   "outputs": [],
   "source": [
    "ModelS = Table.read('CIGALEOutputs/Cleanresults_SK.fits', format='fits')\n",
    "ModelF = Table.read('CIGALEOutputs/Cleanresults_Fr.fits', format='fits')\n",
    "\n",
    "ModelS37 = Table.read('CIGALEOutputs/Cleanresults_SK37.fits', format='fits')\n",
    "ModelF37 = Table.read('CIGALEOutputs/Cleanresults_Fr37.fits', format='fits')"
   ]
  },
  {
   "cell_type": "markdown",
   "metadata": {},
   "source": [
    "We also read the original database of galaxies, where we take the information for the classification"
   ]
  },
  {
   "cell_type": "code",
   "execution_count": 6,
   "metadata": {
    "ExecuteTime": {
     "end_time": "2021-01-22T10:29:32.745406Z",
     "start_time": "2021-01-22T10:29:32.572431Z"
    }
   },
   "outputs": [],
   "source": [
    "TV = Table.read('VCV_TAP_otype.txt', format='ascii')\n",
    "TV.rename_column('main_id', 'id')  # Renamed to then join with the same id"
   ]
  },
  {
   "cell_type": "markdown",
   "metadata": {},
   "source": [
    "We join these clean tables with the catalog. We send all the tables to pandas format. Then, we concatenate the tables to have an unique table."
   ]
  },
  {
   "cell_type": "code",
   "execution_count": 8,
   "metadata": {
    "ExecuteTime": {
     "end_time": "2021-01-22T10:31:21.983109Z",
     "start_time": "2021-01-22T10:31:21.592264Z"
    }
   },
   "outputs": [],
   "source": [
    "SPandas = join(TV, ModelS, keys='id').to_pandas()\n",
    "FPandas = join(TV, ModelF, keys='id').to_pandas()\n",
    "SPandas37 = join(TV, ModelS37, keys='id').to_pandas()\n",
    "FPandas37 = join(TV, ModelF37, keys='id').to_pandas()\n",
    "SFPandas = pd.concat([SPandas, FPandas, SPandas37, FPandas37], keys=[\n",
    "                     'SKIRTOR', 'Fritz', 'S37', 'F37'], names=['Model', 'idCIG'])"
   ]
  },
  {
   "cell_type": "markdown",
   "metadata": {},
   "source": [
    "## Experiments with the parameters of the classifiers\n",
    "We select the physical parameters in all the models and remove the ones that are not useful for our propose (e.g. constant values, young and old contributions)."
   ]
  },
  {
   "cell_type": "code",
   "execution_count": 9,
   "metadata": {
    "ExecuteTime": {
     "end_time": "2021-01-22T10:33:10.333041Z",
     "start_time": "2021-01-22T10:33:09.244406Z"
    }
   },
   "outputs": [],
   "source": [
    "GoodColumns = [jsd for jsd in SelT1orT2(SFPandas).columns if 'bayes' in jsd]\n",
    "newdf = SelT1orT2(SFPandas)[GoodColumns]\n",
    "Descr = newdf.describe()\n",
    "BadCol = [js for js in newdf.columns if Descr[js]\n",
    "          ['std'] < 1e-2]  # Removing constant columns\n",
    "newdf = newdf.drop(BadCol, axis=1)\n",
    "# Removing calculated errors\n",
    "BadCol2 = [js for js in newdf.columns if '_err' in js]\n",
    "newdf = newdf.drop(BadCol2, axis=1)\n",
    "# Removing young estimations\n",
    "BadCol3 = [js for js in newdf.columns if '_young' in js]\n",
    "# Removing old estimations\n",
    "BadCol4 = [js for js in newdf.columns if '_old' in js]\n",
    "# Removing estimations with lines\n",
    "BadCol5 = [js for js in newdf.columns if '_lines' in js]\n",
    "# Removing universe values, this are dependend of redshift\n",
    "BadCol6 = [js for js in newdf.columns if 'universe' in js]\n",
    "# Removing filter in the attenuation modeule\n",
    "BadCol7 = [js for js in newdf.columns if 'FUV' in js]\n",
    "BadCols = concatenate([BadCol3, BadCol4, BadCol5, BadCol6, BadCol7])\n",
    "newdf = newdf.drop(BadCols, axis=1)\n",
    "newdf = newdf.dropna(axis='columns')\n",
    "newdf = newdf[newdf.columns[:-31]]  # Remove the mock photometry"
   ]
  },
  {
   "cell_type": "markdown",
   "metadata": {},
   "source": [
    "We split the sample of galaxies into train and test set and encode and scale the columns. "
   ]
  },
  {
   "cell_type": "code",
   "execution_count": 9,
   "metadata": {},
   "outputs": [],
   "source": [
    "X = newdf\n",
    "y = SelT1orT2(SFPandas)['otype_txt']\n",
    "x_train, x_test, y_train, y_test = train_test_split(X, y, test_size=0.20, random_state=42)\n",
    "le = preprocessing.LabelEncoder()\n",
    "le.fit(y)\n",
    "x_train_encode = preprocessing.robust_scale(x_train)\n",
    "x_test_encode = preprocessing.robust_scale(x_test)\n",
    "y_train_encode = le.transform(y_train).reshape(-1, 1).ravel()\n",
    "y_test_encode = le.transform(y_test).reshape(-1, 1).ravel()"
   ]
  },
  {
   "cell_type": "markdown",
   "metadata": {
    "ExecuteTime": {
     "end_time": "2021-01-22T10:38:02.380030Z",
     "start_time": "2021-01-22T10:38:02.375121Z"
    }
   },
   "source": [
    "## Using GridSearchCV to find the best parameters for the classifiers"
   ]
  },
  {
   "cell_type": "markdown",
   "metadata": {},
   "source": [
    "We select two different classifiers (Random Forest and XGB). We will experiment with Grid Search. We test a model with default values and we compared with the Grid Search accuracy scoring. "
   ]
  },
  {
   "cell_type": "code",
   "execution_count": 10,
   "metadata": {},
   "outputs": [],
   "source": [
    "clf_rf = RandomForestClassifier(random_state=42)\n",
    "clf_xg = xgb.XGBClassifier(random_state=42, use_label_encoder=False, eval_metric='logloss')\n",
    "param_grid = {\"max_depth\": [10, 15, 20, 25, 30, 35, 40],\n",
    "              \"n_estimators\": [200, 400, 600, 800, 1000]}"
   ]
  },
  {
   "cell_type": "code",
   "execution_count": 13,
   "metadata": {},
   "outputs": [
    {
     "name": "stdout",
     "output_type": "stream",
     "text": [
      "Fitting 5 folds for each of 49 candidates, totalling 245 fits\n",
      "[CV 1/5] END .................max_depth=10, n_estimators=200; total time=   3.6s\n",
      "[CV 2/5] END .................max_depth=10, n_estimators=200; total time=   3.5s\n",
      "[CV 3/5] END .................max_depth=10, n_estimators=200; total time=   3.5s\n",
      "[CV 4/5] END .................max_depth=10, n_estimators=200; total time=   3.5s\n",
      "[CV 5/5] END .................max_depth=10, n_estimators=200; total time=   3.5s\n",
      "[CV 1/5] END .................max_depth=10, n_estimators=400; total time=   6.0s\n",
      "[CV 2/5] END .................max_depth=10, n_estimators=400; total time=   6.0s\n",
      "[CV 3/5] END .................max_depth=10, n_estimators=400; total time=   6.0s\n",
      "[CV 4/5] END .................max_depth=10, n_estimators=400; total time=   6.1s\n",
      "[CV 5/5] END .................max_depth=10, n_estimators=400; total time=   6.0s\n",
      "[CV 1/5] END .................max_depth=10, n_estimators=600; total time=   8.0s\n",
      "[CV 2/5] END .................max_depth=10, n_estimators=600; total time=   7.9s\n",
      "[CV 3/5] END .................max_depth=10, n_estimators=600; total time=   7.9s\n",
      "[CV 4/5] END .................max_depth=10, n_estimators=600; total time=   7.9s\n",
      "[CV 5/5] END .................max_depth=10, n_estimators=600; total time=   7.8s\n",
      "[CV 1/5] END .................max_depth=10, n_estimators=800; total time=   9.6s\n",
      "[CV 2/5] END .................max_depth=10, n_estimators=800; total time=   9.6s\n",
      "[CV 3/5] END .................max_depth=10, n_estimators=800; total time=   9.6s\n",
      "[CV 4/5] END .................max_depth=10, n_estimators=800; total time=   9.5s\n",
      "[CV 5/5] END .................max_depth=10, n_estimators=800; total time=   9.4s\n",
      "[CV 1/5] END ................max_depth=10, n_estimators=1000; total time=  11.0s\n",
      "[CV 2/5] END ................max_depth=10, n_estimators=1000; total time=  11.0s\n",
      "[CV 3/5] END ................max_depth=10, n_estimators=1000; total time=  11.0s\n",
      "[CV 4/5] END ................max_depth=10, n_estimators=1000; total time=  11.0s\n",
      "[CV 5/5] END ................max_depth=10, n_estimators=1000; total time=  11.0s\n",
      "[CV 1/5] END ................max_depth=10, n_estimators=2000; total time=  16.9s\n",
      "[CV 2/5] END ................max_depth=10, n_estimators=2000; total time=  16.8s\n",
      "[CV 3/5] END ................max_depth=10, n_estimators=2000; total time=  16.8s\n",
      "[CV 4/5] END ................max_depth=10, n_estimators=2000; total time=  16.9s\n",
      "[CV 5/5] END ................max_depth=10, n_estimators=2000; total time=  16.6s\n",
      "[CV 1/5] END ................max_depth=10, n_estimators=4000; total time=  25.6s\n",
      "[CV 2/5] END ................max_depth=10, n_estimators=4000; total time=  25.7s\n",
      "[CV 3/5] END ................max_depth=10, n_estimators=4000; total time=  25.2s\n",
      "[CV 4/5] END ................max_depth=10, n_estimators=4000; total time=  25.5s\n",
      "[CV 5/5] END ................max_depth=10, n_estimators=4000; total time=  25.2s\n",
      "[CV 1/5] END .................max_depth=15, n_estimators=200; total time=   3.7s\n",
      "[CV 2/5] END .................max_depth=15, n_estimators=200; total time=   3.9s\n",
      "[CV 3/5] END .................max_depth=15, n_estimators=200; total time=   3.8s\n",
      "[CV 4/5] END .................max_depth=15, n_estimators=200; total time=   3.7s\n",
      "[CV 5/5] END .................max_depth=15, n_estimators=200; total time=   3.7s\n",
      "[CV 1/5] END .................max_depth=15, n_estimators=400; total time=   6.1s\n",
      "[CV 2/5] END .................max_depth=15, n_estimators=400; total time=   6.2s\n",
      "[CV 3/5] END .................max_depth=15, n_estimators=400; total time=   6.1s\n",
      "[CV 4/5] END .................max_depth=15, n_estimators=400; total time=   6.0s\n",
      "[CV 5/5] END .................max_depth=15, n_estimators=400; total time=   6.0s\n",
      "[CV 1/5] END .................max_depth=15, n_estimators=600; total time=   7.9s\n",
      "[CV 2/5] END .................max_depth=15, n_estimators=600; total time=   8.0s\n",
      "[CV 3/5] END .................max_depth=15, n_estimators=600; total time=   7.8s\n",
      "[CV 4/5] END .................max_depth=15, n_estimators=600; total time=   7.8s\n",
      "[CV 5/5] END .................max_depth=15, n_estimators=600; total time=   7.8s\n",
      "[CV 1/5] END .................max_depth=15, n_estimators=800; total time=   9.5s\n",
      "[CV 2/5] END .................max_depth=15, n_estimators=800; total time=   9.7s\n",
      "[CV 3/5] END .................max_depth=15, n_estimators=800; total time=   9.5s\n",
      "[CV 4/5] END .................max_depth=15, n_estimators=800; total time=   9.3s\n",
      "[CV 5/5] END .................max_depth=15, n_estimators=800; total time=   9.4s\n",
      "[CV 1/5] END ................max_depth=15, n_estimators=1000; total time=  10.9s\n",
      "[CV 2/5] END ................max_depth=15, n_estimators=1000; total time=  10.9s\n",
      "[CV 3/5] END ................max_depth=15, n_estimators=1000; total time=  10.8s\n",
      "[CV 4/5] END ................max_depth=15, n_estimators=1000; total time=  10.8s\n",
      "[CV 5/5] END ................max_depth=15, n_estimators=1000; total time=  10.7s\n",
      "[CV 1/5] END ................max_depth=15, n_estimators=2000; total time=  16.4s\n",
      "[CV 2/5] END ................max_depth=15, n_estimators=2000; total time=  16.8s\n",
      "[CV 3/5] END ................max_depth=15, n_estimators=2000; total time=  16.3s\n",
      "[CV 4/5] END ................max_depth=15, n_estimators=2000; total time=  16.4s\n",
      "[CV 5/5] END ................max_depth=15, n_estimators=2000; total time=  16.2s\n",
      "[CV 1/5] END ................max_depth=15, n_estimators=4000; total time=  24.9s\n",
      "[CV 2/5] END ................max_depth=15, n_estimators=4000; total time=  25.0s\n",
      "[CV 3/5] END ................max_depth=15, n_estimators=4000; total time=  24.7s\n",
      "[CV 4/5] END ................max_depth=15, n_estimators=4000; total time=  24.8s\n",
      "[CV 5/5] END ................max_depth=15, n_estimators=4000; total time=  24.7s\n",
      "[CV 1/5] END .................max_depth=20, n_estimators=200; total time=   3.8s\n",
      "[CV 2/5] END .................max_depth=20, n_estimators=200; total time=   3.8s\n",
      "[CV 3/5] END .................max_depth=20, n_estimators=200; total time=   3.7s\n",
      "[CV 4/5] END .................max_depth=20, n_estimators=200; total time=   3.8s\n",
      "[CV 5/5] END .................max_depth=20, n_estimators=200; total time=   3.8s\n",
      "[CV 1/5] END .................max_depth=20, n_estimators=400; total time=   6.1s\n",
      "[CV 2/5] END .................max_depth=20, n_estimators=400; total time=   6.0s\n",
      "[CV 3/5] END .................max_depth=20, n_estimators=400; total time=   5.9s\n",
      "[CV 4/5] END .................max_depth=20, n_estimators=400; total time=   6.1s\n",
      "[CV 5/5] END .................max_depth=20, n_estimators=400; total time=   6.0s\n",
      "[CV 1/5] END .................max_depth=20, n_estimators=600; total time=   7.9s\n",
      "[CV 2/5] END .................max_depth=20, n_estimators=600; total time=   7.9s\n",
      "[CV 3/5] END .................max_depth=20, n_estimators=600; total time=   7.8s\n",
      "[CV 4/5] END .................max_depth=20, n_estimators=600; total time=   7.9s\n",
      "[CV 5/5] END .................max_depth=20, n_estimators=600; total time=   7.8s\n",
      "[CV 1/5] END .................max_depth=20, n_estimators=800; total time=   9.4s\n",
      "[CV 2/5] END .................max_depth=20, n_estimators=800; total time=   9.5s\n",
      "[CV 3/5] END .................max_depth=20, n_estimators=800; total time=   9.4s\n",
      "[CV 4/5] END .................max_depth=20, n_estimators=800; total time=   9.4s\n",
      "[CV 5/5] END .................max_depth=20, n_estimators=800; total time=   9.4s\n",
      "[CV 1/5] END ................max_depth=20, n_estimators=1000; total time=  10.8s\n",
      "[CV 2/5] END ................max_depth=20, n_estimators=1000; total time=  10.8s\n",
      "[CV 3/5] END ................max_depth=20, n_estimators=1000; total time=  10.7s\n",
      "[CV 4/5] END ................max_depth=20, n_estimators=1000; total time=  10.7s\n",
      "[CV 5/5] END ................max_depth=20, n_estimators=1000; total time=  10.7s\n",
      "[CV 1/5] END ................max_depth=20, n_estimators=2000; total time=  16.4s\n",
      "[CV 2/5] END ................max_depth=20, n_estimators=2000; total time=  16.5s\n",
      "[CV 3/5] END ................max_depth=20, n_estimators=2000; total time=  16.1s\n",
      "[CV 4/5] END ................max_depth=20, n_estimators=2000; total time=  16.3s\n",
      "[CV 5/5] END ................max_depth=20, n_estimators=2000; total time=  16.0s\n",
      "[CV 1/5] END ................max_depth=20, n_estimators=4000; total time=  24.7s\n"
     ]
    },
    {
     "name": "stdout",
     "output_type": "stream",
     "text": [
      "[CV 2/5] END ................max_depth=20, n_estimators=4000; total time=  24.9s\n",
      "[CV 3/5] END ................max_depth=20, n_estimators=4000; total time=  24.4s\n",
      "[CV 4/5] END ................max_depth=20, n_estimators=4000; total time=  24.7s\n",
      "[CV 5/5] END ................max_depth=20, n_estimators=4000; total time=  24.3s\n",
      "[CV 1/5] END .................max_depth=25, n_estimators=200; total time=   3.8s\n",
      "[CV 2/5] END .................max_depth=25, n_estimators=200; total time=   3.8s\n",
      "[CV 3/5] END .................max_depth=25, n_estimators=200; total time=   3.8s\n",
      "[CV 4/5] END .................max_depth=25, n_estimators=200; total time=   3.7s\n",
      "[CV 5/5] END .................max_depth=25, n_estimators=200; total time=   3.7s\n",
      "[CV 1/5] END .................max_depth=25, n_estimators=400; total time=   6.0s\n",
      "[CV 2/5] END .................max_depth=25, n_estimators=400; total time=   6.1s\n",
      "[CV 3/5] END .................max_depth=25, n_estimators=400; total time=   6.0s\n",
      "[CV 4/5] END .................max_depth=25, n_estimators=400; total time=   5.9s\n",
      "[CV 5/5] END .................max_depth=25, n_estimators=400; total time=   5.8s\n",
      "[CV 1/5] END .................max_depth=25, n_estimators=600; total time=   7.8s\n",
      "[CV 2/5] END .................max_depth=25, n_estimators=600; total time=   7.9s\n",
      "[CV 3/5] END .................max_depth=25, n_estimators=600; total time=   7.8s\n",
      "[CV 4/5] END .................max_depth=25, n_estimators=600; total time=   7.7s\n",
      "[CV 5/5] END .................max_depth=25, n_estimators=600; total time=   7.6s\n",
      "[CV 1/5] END .................max_depth=25, n_estimators=800; total time=   9.5s\n",
      "[CV 2/5] END .................max_depth=25, n_estimators=800; total time=   9.5s\n",
      "[CV 3/5] END .................max_depth=25, n_estimators=800; total time=   9.3s\n",
      "[CV 4/5] END .................max_depth=25, n_estimators=800; total time=   9.3s\n",
      "[CV 5/5] END .................max_depth=25, n_estimators=800; total time=   9.2s\n",
      "[CV 1/5] END ................max_depth=25, n_estimators=1000; total time=  10.7s\n",
      "[CV 2/5] END ................max_depth=25, n_estimators=1000; total time=  10.8s\n",
      "[CV 3/5] END ................max_depth=25, n_estimators=1000; total time=  10.7s\n",
      "[CV 4/5] END ................max_depth=25, n_estimators=1000; total time=  10.7s\n",
      "[CV 5/5] END ................max_depth=25, n_estimators=1000; total time=  10.5s\n",
      "[CV 1/5] END ................max_depth=25, n_estimators=2000; total time=  16.3s\n",
      "[CV 2/5] END ................max_depth=25, n_estimators=2000; total time=  16.3s\n",
      "[CV 3/5] END ................max_depth=25, n_estimators=2000; total time=  16.2s\n",
      "[CV 4/5] END ................max_depth=25, n_estimators=2000; total time=  16.3s\n",
      "[CV 5/5] END ................max_depth=25, n_estimators=2000; total time=  16.1s\n",
      "[CV 1/5] END ................max_depth=25, n_estimators=4000; total time=  24.9s\n",
      "[CV 2/5] END ................max_depth=25, n_estimators=4000; total time=  25.1s\n",
      "[CV 3/5] END ................max_depth=25, n_estimators=4000; total time=  24.8s\n",
      "[CV 4/5] END ................max_depth=25, n_estimators=4000; total time=  24.8s\n",
      "[CV 5/5] END ................max_depth=25, n_estimators=4000; total time=  24.6s\n",
      "[CV 1/5] END .................max_depth=30, n_estimators=200; total time=   3.8s\n",
      "[CV 2/5] END .................max_depth=30, n_estimators=200; total time=   3.9s\n",
      "[CV 3/5] END .................max_depth=30, n_estimators=200; total time=   3.8s\n",
      "[CV 4/5] END .................max_depth=30, n_estimators=200; total time=   4.0s\n",
      "[CV 5/5] END .................max_depth=30, n_estimators=200; total time=   6.6s\n",
      "[CV 1/5] END .................max_depth=30, n_estimators=400; total time=   6.1s\n",
      "[CV 2/5] END .................max_depth=30, n_estimators=400; total time=   6.2s\n",
      "[CV 3/5] END .................max_depth=30, n_estimators=400; total time=   6.0s\n",
      "[CV 4/5] END .................max_depth=30, n_estimators=400; total time=   6.1s\n",
      "[CV 5/5] END .................max_depth=30, n_estimators=400; total time=   5.9s\n",
      "[CV 1/5] END .................max_depth=30, n_estimators=600; total time=   7.8s\n",
      "[CV 2/5] END .................max_depth=30, n_estimators=600; total time=   8.0s\n",
      "[CV 3/5] END .................max_depth=30, n_estimators=600; total time=   7.8s\n",
      "[CV 4/5] END .................max_depth=30, n_estimators=600; total time=   7.9s\n",
      "[CV 5/5] END .................max_depth=30, n_estimators=600; total time=   7.9s\n",
      "[CV 1/5] END .................max_depth=30, n_estimators=800; total time=   9.4s\n",
      "[CV 2/5] END .................max_depth=30, n_estimators=800; total time=   9.5s\n",
      "[CV 3/5] END .................max_depth=30, n_estimators=800; total time=   9.4s\n",
      "[CV 4/5] END .................max_depth=30, n_estimators=800; total time=   9.5s\n",
      "[CV 5/5] END .................max_depth=30, n_estimators=800; total time=   9.4s\n",
      "[CV 1/5] END ................max_depth=30, n_estimators=1000; total time=  10.7s\n",
      "[CV 2/5] END ................max_depth=30, n_estimators=1000; total time=  10.9s\n",
      "[CV 3/5] END ................max_depth=30, n_estimators=1000; total time=  10.7s\n",
      "[CV 4/5] END ................max_depth=30, n_estimators=1000; total time=  10.8s\n",
      "[CV 5/5] END ................max_depth=30, n_estimators=1000; total time=  10.7s\n",
      "[CV 1/5] END ................max_depth=30, n_estimators=2000; total time=  16.3s\n",
      "[CV 2/5] END ................max_depth=30, n_estimators=2000; total time=  16.4s\n",
      "[CV 3/5] END ................max_depth=30, n_estimators=2000; total time=  16.3s\n",
      "[CV 4/5] END ................max_depth=30, n_estimators=2000; total time=  16.3s\n",
      "[CV 5/5] END ................max_depth=30, n_estimators=2000; total time=  16.2s\n",
      "[CV 1/5] END ................max_depth=30, n_estimators=4000; total time=  24.9s\n",
      "[CV 2/5] END ................max_depth=30, n_estimators=4000; total time=  25.1s\n",
      "[CV 3/5] END ................max_depth=30, n_estimators=4000; total time=  24.7s\n",
      "[CV 4/5] END ................max_depth=30, n_estimators=4000; total time=  24.7s\n",
      "[CV 5/5] END ................max_depth=30, n_estimators=4000; total time=  24.3s\n",
      "[CV 1/5] END .................max_depth=35, n_estimators=200; total time=   3.8s\n",
      "[CV 2/5] END .................max_depth=35, n_estimators=200; total time=   3.9s\n",
      "[CV 3/5] END .................max_depth=35, n_estimators=200; total time=   3.8s\n",
      "[CV 4/5] END .................max_depth=35, n_estimators=200; total time=   3.8s\n",
      "[CV 5/5] END .................max_depth=35, n_estimators=200; total time=   3.7s\n",
      "[CV 1/5] END .................max_depth=35, n_estimators=400; total time=   6.1s\n",
      "[CV 2/5] END .................max_depth=35, n_estimators=400; total time=   6.1s\n",
      "[CV 3/5] END .................max_depth=35, n_estimators=400; total time=   6.0s\n",
      "[CV 4/5] END .................max_depth=35, n_estimators=400; total time=   6.0s\n",
      "[CV 5/5] END .................max_depth=35, n_estimators=400; total time=   6.1s\n",
      "[CV 1/5] END .................max_depth=35, n_estimators=600; total time=   7.8s\n",
      "[CV 2/5] END .................max_depth=35, n_estimators=600; total time=   8.0s\n",
      "[CV 3/5] END .................max_depth=35, n_estimators=600; total time=   7.9s\n",
      "[CV 4/5] END .................max_depth=35, n_estimators=600; total time=   7.9s\n",
      "[CV 5/5] END .................max_depth=35, n_estimators=600; total time=   7.7s\n",
      "[CV 1/5] END .................max_depth=35, n_estimators=800; total time=   9.4s\n",
      "[CV 2/5] END .................max_depth=35, n_estimators=800; total time=   9.6s\n",
      "[CV 3/5] END .................max_depth=35, n_estimators=800; total time=   9.4s\n",
      "[CV 4/5] END .................max_depth=35, n_estimators=800; total time=   9.3s\n",
      "[CV 5/5] END .................max_depth=35, n_estimators=800; total time=   9.2s\n",
      "[CV 1/5] END ................max_depth=35, n_estimators=1000; total time=  10.7s\n",
      "[CV 2/5] END ................max_depth=35, n_estimators=1000; total time=  10.9s\n",
      "[CV 3/5] END ................max_depth=35, n_estimators=1000; total time=  10.6s\n",
      "[CV 4/5] END ................max_depth=35, n_estimators=1000; total time=  10.6s\n",
      "[CV 5/5] END ................max_depth=35, n_estimators=1000; total time=  10.5s\n",
      "[CV 1/5] END ................max_depth=35, n_estimators=2000; total time=  16.3s\n",
      "[CV 2/5] END ................max_depth=35, n_estimators=2000; total time=  16.4s\n",
      "[CV 3/5] END ................max_depth=35, n_estimators=2000; total time=  16.1s\n"
     ]
    },
    {
     "name": "stdout",
     "output_type": "stream",
     "text": [
      "[CV 4/5] END ................max_depth=35, n_estimators=2000; total time=  16.1s\n",
      "[CV 5/5] END ................max_depth=35, n_estimators=2000; total time=  16.0s\n",
      "[CV 1/5] END ................max_depth=35, n_estimators=4000; total time=  24.6s\n",
      "[CV 2/5] END ................max_depth=35, n_estimators=4000; total time=  25.1s\n",
      "[CV 3/5] END ................max_depth=35, n_estimators=4000; total time=  24.5s\n",
      "[CV 4/5] END ................max_depth=35, n_estimators=4000; total time=  24.6s\n",
      "[CV 5/5] END ................max_depth=35, n_estimators=4000; total time=  24.3s\n",
      "[CV 1/5] END .................max_depth=40, n_estimators=200; total time=   3.8s\n",
      "[CV 2/5] END .................max_depth=40, n_estimators=200; total time=   3.8s\n",
      "[CV 3/5] END .................max_depth=40, n_estimators=200; total time=   3.8s\n",
      "[CV 4/5] END .................max_depth=40, n_estimators=200; total time=   3.8s\n",
      "[CV 5/5] END .................max_depth=40, n_estimators=200; total time=   3.7s\n",
      "[CV 1/5] END .................max_depth=40, n_estimators=400; total time=   6.0s\n",
      "[CV 2/5] END .................max_depth=40, n_estimators=400; total time=   6.1s\n",
      "[CV 3/5] END .................max_depth=40, n_estimators=400; total time=   6.0s\n",
      "[CV 4/5] END .................max_depth=40, n_estimators=400; total time=   6.0s\n",
      "[CV 5/5] END .................max_depth=40, n_estimators=400; total time=   6.0s\n",
      "[CV 1/5] END .................max_depth=40, n_estimators=600; total time=   7.7s\n",
      "[CV 2/5] END .................max_depth=40, n_estimators=600; total time=   7.9s\n",
      "[CV 3/5] END .................max_depth=40, n_estimators=600; total time=   7.7s\n",
      "[CV 4/5] END .................max_depth=40, n_estimators=600; total time=   7.7s\n",
      "[CV 5/5] END .................max_depth=40, n_estimators=600; total time=   7.7s\n",
      "[CV 1/5] END .................max_depth=40, n_estimators=800; total time=   9.3s\n",
      "[CV 2/5] END .................max_depth=40, n_estimators=800; total time=   9.5s\n",
      "[CV 3/5] END .................max_depth=40, n_estimators=800; total time=   9.3s\n",
      "[CV 4/5] END .................max_depth=40, n_estimators=800; total time=   9.2s\n",
      "[CV 5/5] END .................max_depth=40, n_estimators=800; total time=   9.2s\n",
      "[CV 1/5] END ................max_depth=40, n_estimators=1000; total time=  10.6s\n",
      "[CV 2/5] END ................max_depth=40, n_estimators=1000; total time=  10.9s\n",
      "[CV 3/5] END ................max_depth=40, n_estimators=1000; total time=  10.7s\n",
      "[CV 4/5] END ................max_depth=40, n_estimators=1000; total time=  10.7s\n",
      "[CV 5/5] END ................max_depth=40, n_estimators=1000; total time=  10.7s\n",
      "[CV 1/5] END ................max_depth=40, n_estimators=2000; total time=  16.3s\n",
      "[CV 2/5] END ................max_depth=40, n_estimators=2000; total time=  16.6s\n",
      "[CV 3/5] END ................max_depth=40, n_estimators=2000; total time=  16.3s\n",
      "[CV 4/5] END ................max_depth=40, n_estimators=2000; total time=  16.1s\n",
      "[CV 5/5] END ................max_depth=40, n_estimators=2000; total time=  16.0s\n",
      "[CV 1/5] END ................max_depth=40, n_estimators=4000; total time=  25.1s\n",
      "[CV 2/5] END ................max_depth=40, n_estimators=4000; total time=  25.1s\n",
      "[CV 3/5] END ................max_depth=40, n_estimators=4000; total time=  24.6s\n",
      "[CV 4/5] END ................max_depth=40, n_estimators=4000; total time=  24.5s\n",
      "[CV 5/5] END ................max_depth=40, n_estimators=4000; total time=  24.4s\n"
     ]
    }
   ],
   "source": [
    "# If you want to see the all verbose do not set the n_jobs=-1. They are shown in the terminal when\n",
    "# the cell finish running. So for example the command should be something like\n",
    "# search = GridSearchCV(clf_rf, param_grid, scoring='accuracy',\n",
    "#                       verbose=4, n_jobs=-1).fit(x_train_encode, y_train_encode)\n",
    "search = GridSearchCV(clf_xg, param_grid, scoring='accuracy',\n",
    "                      verbose=4).fit(x_train_encode, y_train_encode)"
   ]
  },
  {
   "cell_type": "markdown",
   "metadata": {},
   "source": [
    "Where the best parameters are"
   ]
  },
  {
   "cell_type": "code",
   "execution_count": 14,
   "metadata": {},
   "outputs": [
    {
     "data": {
      "text/plain": [
       "({'max_depth': 35, 'n_estimators': 800},\n",
       " {'max_depth': 20, 'n_estimators': 400})"
      ]
     },
     "execution_count": 14,
     "metadata": {},
     "output_type": "execute_result"
    }
   ],
   "source": [
    "search.best_params_"
   ]
  },
  {
   "cell_type": "markdown",
   "metadata": {},
   "source": [
    "Then we use those values for the n_estimator and max_depth in these two classifiers. "
   ]
  },
  {
   "cell_type": "code",
   "execution_count": 15,
   "metadata": {},
   "outputs": [],
   "source": [
    "clf_rf2 = RandomForestClassifier(n_estimators=800, max_depth=35, random_state=42)\n",
    "clf_xg2 = xgb.XGBClassifier(n_estimators=400, max_depth=20,\n",
    "                            random_state=42, use_label_encoder=False, eval_metric='logloss')"
   ]
  },
  {
   "cell_type": "markdown",
   "metadata": {
    "ExecuteTime": {
     "end_time": "2021-01-22T10:38:42.989975Z",
     "start_time": "2021-01-22T10:38:42.985050Z"
    }
   },
   "source": [
    "##### Minor check on the calibration curve"
   ]
  },
  {
   "cell_type": "markdown",
   "metadata": {},
   "source": [
    "We added a simple calibration plots to see if the probabilistic predictions of the clasifiers are calibrated. "
   ]
  },
  {
   "cell_type": "code",
   "execution_count": 16,
   "metadata": {},
   "outputs": [],
   "source": [
    "from sklearn.calibration import calibration_curve"
   ]
  },
  {
   "cell_type": "code",
   "execution_count": 17,
   "metadata": {},
   "outputs": [
    {
     "data": {
      "image/png": "[encoded data removed]",
      "text/plain": [
       "<Figure size 720x720 with 2 Axes>"
      ]
     },
     "metadata": {
      "needs_background": "light"
     },
     "output_type": "display_data"
    }
   ],
   "source": [
    "plt.figure(figsize=(10, 10))\n",
    "ax1 = plt.subplot2grid((3, 1), (0, 0), rowspan=2)\n",
    "ax2 = plt.subplot2grid((3, 1), (2, 0))\n",
    "\n",
    "ax1.plot([0, 1], [0, 1], \"k:\", label=\"Perfectly calibrated\")\n",
    "for clf, name in [(clf_xg2, 'XBG'),\n",
    "                  (clf_rf2, 'Random Forest')]:\n",
    "    clf.fit(x_train_encode, y_train_encode)\n",
    "    if hasattr(clf, \"predict_proba\"):\n",
    "        prob_pos = clf.predict_proba(x_test_encode)[:, 1]\n",
    "    else:  # use decision function\n",
    "        prob_pos = clf.decision_function(x_test_encode)\n",
    "        prob_pos = \\\n",
    "            (prob_pos - prob_pos.min()) / (prob_pos.max() - prob_pos.min())\n",
    "    fraction_of_positives, mean_predicted_value = \\\n",
    "        calibration_curve(y_test_encode, prob_pos, n_bins=20)\n",
    "\n",
    "    ax1.plot(mean_predicted_value, fraction_of_positives, \"s-\",\n",
    "             label=\"%s\" % (name, ))\n",
    "\n",
    "    ax2.hist(prob_pos, range=(0, 1), bins=20, label=name,\n",
    "             histtype=\"step\", lw=2)\n",
    "\n",
    "ax1.set_ylabel(\"Fraction of positives\")\n",
    "ax1.set_ylim([-0.05, 1.05])\n",
    "ax1.legend(loc=\"lower right\")\n",
    "ax1.set_title('Calibration plots (reliability curve)')\n",
    "\n",
    "ax2.set_xlabel(\"Mean predicted value\")\n",
    "ax2.set_ylabel(\"Count\")\n",
    "ax2.legend(loc=\"upper center\", ncol=2)\n",
    "\n",
    "plt.tight_layout()\n",
    "plt.show()"
   ]
  },
  {
   "cell_type": "markdown",
   "metadata": {},
   "source": [
    "##### Notebook info"
   ]
  },
  {
   "cell_type": "code",
   "execution_count": 12,
   "metadata": {
    "ExecuteTime": {
     "end_time": "2021-01-22T10:45:55.463902Z",
     "start_time": "2021-01-22T10:45:55.309732Z"
    }
   },
   "outputs": [
    {
     "name": "stdout",
     "output_type": "stream",
     "text": [
      "Author: Andres Ramos\n",
      "\n",
      "Python implementation: CPython\n",
      "Python version       : 3.8.3\n",
      "IPython version      : 7.16.1\n",
      "\n",
      "Compiler    : GCC 7.3.0\n",
      "OS          : Linux\n",
      "Release     : 3.10.0-1160.el7.x86_64\n",
      "Machine     : x86_64\n",
      "Processor   : x86_64\n",
      "CPU cores   : 8\n",
      "Architecture: 64bit\n",
      "\n",
      "Specific Python packages\n",
      "seaborn   : 0.10.1\n",
      "matplotlib: 3.2.2\n",
      "autopep8  : 1.5.4\n",
      "numpy     : 1.19.5\n",
      "logging   : 0.5.1.2\n",
      "xgboost   : 1.3.3\n",
      "pandas    : 1.2.0\n",
      "astropy   : 4.2\n",
      "json      : 2.0.9\n",
      "sklearn   : 0.23.1\n",
      "sys       : 3.8.3 (default, Jul  2 2020, 16:21:59) \n",
      "[GCC 7.3.0]\n",
      "re        : 2.2.1\n",
      "\n",
      "Watermark: 2.1.0\n",
      "\n"
     ]
    }
   ],
   "source": [
    "%load_ext watermark\n",
    "%watermark -a \"Andres Ramos\" -d -v -m\n",
    "print('Specific Python packages')\n",
    "%watermark -iv -w"
   ]
  },
  {
   "cell_type": "code",
   "execution_count": null,
   "metadata": {},
   "outputs": [],
   "source": []
  }
 ],
 "metadata": {
  "hide_input": false,
  "kernelspec": {
   "display_name": "Python 3",
   "language": "python",
   "name": "python3"
  },
  "language_info": {
   "codemirror_mode": {
    "name": "ipython",
    "version": 3
   },
   "file_extension": ".py",
   "mimetype": "text/x-python",
   "name": "python",
   "nbconvert_exporter": "python",
   "pygments_lexer": "ipython3",
   "version": "3.8.3"
  },
  "toc": {
   "base_numbering": "9",
   "nav_menu": {},
   "number_sections": true,
   "sideBar": true,
   "skip_h1_title": false,
   "title_cell": "Table of Contents",
   "title_sidebar": "Contents",
   "toc_cell": false,
   "toc_position": {},
   "toc_section_display": true,
   "toc_window_display": true
  },
  "varInspector": {
   "cols": {
    "lenName": 16,
    "lenType": 16,
    "lenVar": 40
   },
   "kernels_config": {
    "python": {
     "delete_cmd_postfix": "",
     "delete_cmd_prefix": "del ",
     "library": "var_list.py",
     "varRefreshCmd": "print(var_dic_list())"
    },
    "r": {
     "delete_cmd_postfix": ") ",
     "delete_cmd_prefix": "rm(",
     "library": "var_list.r",
     "varRefreshCmd": "cat(var_dic_list()) "
    }
   },
   "types_to_exclude": [
    "module",
    "function",
    "builtin_function_or_method",
    "instance",
    "_Feature"
   ],
   "window_display": false
  }
 },
 "nbformat": 4,
 "nbformat_minor": 4
}
