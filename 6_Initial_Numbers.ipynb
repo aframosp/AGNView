{
 "cells": [
  {
   "cell_type": "markdown",
   "metadata": {},
   "source": [
    "# Numbers from the catalogs and photometry\n",
    "Here we compute the numbers that we obtain from the photometry and the selected samples from VCV and SMB."
   ]
  },
  {
   "cell_type": "markdown",
   "metadata": {},
   "source": [
    "First we import all necessary packages"
   ]
  },
  {
   "cell_type": "code",
   "execution_count": 1,
   "metadata": {
    "ExecuteTime": {
     "end_time": "2021-01-20T13:09:52.128272Z",
     "start_time": "2021-01-20T13:09:51.806803Z"
    }
   },
   "outputs": [
    {
     "name": "stdout",
     "output_type": "stream",
     "text": [
      "Using matplotlib backend: Qt5Agg\n",
      "Populating the interactive namespace from numpy and matplotlib\n"
     ]
    }
   ],
   "source": [
    "%pylab"
   ]
  },
  {
   "cell_type": "code",
   "execution_count": 2,
   "metadata": {
    "ExecuteTime": {
     "end_time": "2021-01-20T13:09:53.885484Z",
     "start_time": "2021-01-20T13:09:53.110619Z"
    }
   },
   "outputs": [],
   "source": [
    "from astropy.table import Table, vstack, join"
   ]
  },
  {
   "cell_type": "code",
   "execution_count": 3,
   "metadata": {
    "ExecuteTime": {
     "end_time": "2021-01-20T13:09:57.435263Z",
     "start_time": "2021-01-20T13:09:57.431753Z"
    }
   },
   "outputs": [],
   "source": [
    "def SelT1orT2(TableP):\n",
    "    \"\"\"Select Seyferts 1 and 2 in both VCV and CDS\"\"\"\n",
    "    Selc1 = np.logical_and(TableP['otype_txt'] == 'Sy1', TableP['Sp'] == 'S1')\n",
    "    Selc2 = np.logical_and(TableP['otype_txt'] == 'Sy2', TableP['Sp'] == 'S2')\n",
    "    SelcSey = np.logical_or(Selc1, Selc2)\n",
    "    return(TableP[SelcSey])\n",
    "\n",
    "\n",
    "def SelT1xorT2(TableP):\n",
    "    \"\"\"Select mixed classifications Seyferts 1 and 2 between VCV and CDS\"\"\"\n",
    "    Selc1 = np.logical_and(TableP['otype_txt'] == 'Sy1', TableP['Sp'] == 'S2')\n",
    "    Selc2 = np.logical_and(TableP['otype_txt'] == 'Sy2', TableP['Sp'] == 'S1')\n",
    "    SelcSey = np.logical_or(Selc1, Selc2)\n",
    "    return(TableP[SelcSey])"
   ]
  },
  {
   "cell_type": "markdown",
   "metadata": {},
   "source": [
    "## Numbers in photometry"
   ]
  },
  {
   "cell_type": "markdown",
   "metadata": {},
   "source": [
    "Here we examine the photometry of the all galaxies we decided to use for CIGALE runs."
   ]
  },
  {
   "cell_type": "code",
   "execution_count": 4,
   "metadata": {
    "ExecuteTime": {
     "end_time": "2021-01-20T13:09:58.192859Z",
     "start_time": "2021-01-20T13:09:57.445080Z"
    }
   },
   "outputs": [],
   "source": [
    "Phot = Table.read('CIGPhot_EnergyBal_All.tbl', format='ascii').to_pandas()"
   ]
  },
  {
   "cell_type": "markdown",
   "metadata": {},
   "source": [
    "The counts of the total bands in the photometry show that most information comes from SDSS and WISE, and we have a low coverage in the longer wavelengths. This will define the TABLE 1 in our work"
   ]
  },
  {
   "cell_type": "code",
   "execution_count": 5,
   "metadata": {
    "ExecuteTime": {
     "end_time": "2021-01-20T13:10:18.588782Z",
     "start_time": "2021-01-20T13:10:18.503074Z"
    }
   },
   "outputs": [
    {
     "data": {
      "text/plain": [
       "FUV            6476.0\n",
       "NUV            9258.0\n",
       "u_prime       11943.0\n",
       "g_prime       12459.0\n",
       "r_prime       12239.0\n",
       "i_prime       12190.0\n",
       "z_prime       11520.0\n",
       "J_2mass        7259.0\n",
       "H_2mass        6892.0\n",
       "Ks_2mass       8339.0\n",
       "WISE1         13126.0\n",
       "IRAC1          4022.0\n",
       "IRAC2          4009.0\n",
       "WISE2         13118.0\n",
       "IRAC3           398.0\n",
       "IRAC4           390.0\n",
       "IRAS1           446.0\n",
       "WISE3         12188.0\n",
       "WISE4          8076.0\n",
       "MIPS1           714.0\n",
       "IRAS2           608.0\n",
       "IRAS3           914.0\n",
       "PACS_blue       244.0\n",
       "MIPS2           213.0\n",
       "IRAS4           694.0\n",
       "PACS_green      159.0\n",
       "MIPS3           103.0\n",
       "PACS_red        285.0\n",
       "PSW_ext         721.0\n",
       "PMW_ext         458.0\n",
       "PLW_ext         214.0\n",
       "Name: count, dtype: float64"
      ]
     },
     "execution_count": 5,
     "metadata": {},
     "output_type": "execute_result"
    }
   ],
   "source": [
    "Phot.describe().T['count'][1::2] "
   ]
  },
  {
   "cell_type": "markdown",
   "metadata": {},
   "source": [
    "## Numbers in catalogs (VCV)"
   ]
  },
  {
   "cell_type": "markdown",
   "metadata": {},
   "source": [
    "We use the file where galaxies has been classified as Seyfert by VCV and also show a Seyfert type in SIMBAD."
   ]
  },
  {
   "cell_type": "code",
   "execution_count": 6,
   "metadata": {
    "ExecuteTime": {
     "end_time": "2021-01-20T13:10:26.974527Z",
     "start_time": "2021-01-20T13:10:26.790351Z"
    }
   },
   "outputs": [],
   "source": [
    "TV = Table.read('VCV_TAP_otype.txt', format='ascii').to_pandas()"
   ]
  },
  {
   "cell_type": "markdown",
   "metadata": {
    "variables": {
     "sum(TV.groupby('Sp').size()[['S']])": "84",
     "sum(TV.groupby('Sp').size()[['S1', 'S1n']])": "13180",
     "sum(TV.groupby('Sp').size()[['S1.0', 'S1.2', 'S1.5', 'S1.8', 'S1.9','S1h', 'S1i', 'S1n0', 'S1n2', 'S1n5', 'S3', 'S3b', 'S?']])": "1090",
     "sum(TV.groupby('Sp').size()[['S1h', 'S1i', 'S1n0', 'S1n2', 'S1n5', 'S3', 'S3b', 'S?']])": "170",
     "sum(TV.groupby('Sp').size()[['S2']])": "4567"
    }
   },
   "source": [
    "First we cound how many galaxies are for each type. We assumed that S1n are also S1 galaxies. Most of the galaxies are Seyfert 1 and Seyfert 2 ({{sum(TV.groupby('Sp').size()[['S1', 'S1n']])}}, {{sum(TV.groupby('Sp').size()[['S2']])}}), while the unclasified Seyfert are {{sum(TV.groupby('Sp').size()[['S']])}}. The total number of galaxies outside the normal classification are {{sum(TV.groupby('Sp').size()[['S1.0', 'S1.2', 'S1.5', 'S1.8', 'S1.9','S1h', 'S1i', 'S1n0', 'S1n2', 'S1n5', 'S3', 'S3b', 'S?']])}}, where we do not use {{sum(TV.groupby('Sp').size()[['S1h', 'S1i', 'S1n0', 'S1n2', 'S1n5', 'S3', 'S3b', 'S?']])}} of those galaxies when VCV is compared. "
   ]
  },
  {
   "cell_type": "code",
   "execution_count": 7,
   "metadata": {
    "ExecuteTime": {
     "end_time": "2021-01-20T13:10:37.573169Z",
     "start_time": "2021-01-20T13:10:37.559685Z"
    }
   },
   "outputs": [
    {
     "name": "stdout",
     "output_type": "stream",
     "text": [
      "Classified Seyfer galaxies: 17831\n",
      "Intermediate classifications 920\n",
      "Other classifications 170\n"
     ]
    },
    {
     "data": {
      "text/plain": [
       "Sp\n",
       "S          84\n",
       "S1      10936\n",
       "S1.0      162\n",
       "S1.2      161\n",
       "S1.5      356\n",
       "S1.8      114\n",
       "S1.9      127\n",
       "S1h        40\n",
       "S1i         5\n",
       "S1n      2244\n",
       "S1n0        7\n",
       "S1n2        5\n",
       "S1n5        5\n",
       "S2       4567\n",
       "S3         58\n",
       "S3b         6\n",
       "S?         44\n",
       "dtype: int64"
      ]
     },
     "execution_count": 7,
     "metadata": {},
     "output_type": "execute_result"
    }
   ],
   "source": [
    "print('Classified Seyfer galaxies:',\n",
    "      sum(TV.groupby('Sp').size()[['S1', 'S1n', 'S2', 'S']]))\n",
    "print('Intermediate classifications',\n",
    "      sum(TV.groupby('Sp').size()[['S1.0', 'S1.2', 'S1.5', 'S1.8', 'S1.9']]))\n",
    "print('Other classifications',\n",
    "      sum(TV.groupby('Sp').size()[['S1h', 'S1i', 'S1n0', 'S1n2', 'S1n5', 'S3', 'S3b', 'S?']]))\n",
    "TV.groupby('Sp').size()"
   ]
  },
  {
   "cell_type": "markdown",
   "metadata": {},
   "source": [
    "## Numbers in catalogs (SMB)"
   ]
  },
  {
   "cell_type": "markdown",
   "metadata": {
    "variables": {
     "sum(TV.groupby('otype_txt').size()[['Sy1']])": "13760",
     "sum(TV.groupby('otype_txt').size()[['Sy2']])": "5040",
     "sum(TV.groupby('otype_txt').size()[['SyG']])": "121"
    }
   },
   "source": [
    "In the SIMBAD type we have {{sum(TV.groupby('otype_txt').size()[['Sy1']])}} Seyfert 1 and {{sum(TV.groupby('otype_txt').size()[['Sy2']])}} Seyfert 2, with {{sum(TV.groupby('otype_txt').size()[['SyG']])}} unclassified Seyfert. More information can be found in Clean_Sample notebook."
   ]
  },
  {
   "cell_type": "code",
   "execution_count": 8,
   "metadata": {
    "ExecuteTime": {
     "end_time": "2021-01-20T13:10:40.429578Z",
     "start_time": "2021-01-20T13:10:40.422553Z"
    }
   },
   "outputs": [
    {
     "data": {
      "text/plain": [
       "otype_txt\n",
       "Sy1    13760\n",
       "Sy2     5040\n",
       "SyG      121\n",
       "dtype: int64"
      ]
     },
     "execution_count": 8,
     "metadata": {},
     "output_type": "execute_result"
    }
   ],
   "source": [
    "TV.groupby('otype_txt').size()"
   ]
  },
  {
   "cell_type": "markdown",
   "metadata": {},
   "source": [
    "## Numbers on Classifications with SMB and VCV"
   ]
  },
  {
   "cell_type": "markdown",
   "metadata": {
    "variables": {
     "len(SelT1orT2(TV))": "15036",
     "len(SelT1xorT2(TV))": "454",
     "len(TV)": "18921"
    }
   },
   "source": [
    "From the {{len(TV)}} galaxies, a total of {{len(SelT1orT2(TV))}} are classified in S1 or S2 in both catalogs, and {{len(SelT1xorT2(TV))}} galaxies change of type (S1 -> S2 or S2 -> S1). "
   ]
  },
  {
   "cell_type": "code",
   "execution_count": 9,
   "metadata": {
    "ExecuteTime": {
     "end_time": "2021-01-20T13:10:49.055415Z",
     "start_time": "2021-01-20T13:10:49.037990Z"
    }
   },
   "outputs": [
    {
     "data": {
      "text/plain": [
       "(15036, 454)"
      ]
     },
     "execution_count": 9,
     "metadata": {},
     "output_type": "execute_result"
    }
   ],
   "source": [
    "len(SelT1orT2(TV)), len(SelT1xorT2(TV))"
   ]
  },
  {
   "cell_type": "markdown",
   "metadata": {},
   "source": [
    "Now we can count the number of number of galaxies for each classification type as before for the VCV and SMB."
   ]
  },
  {
   "cell_type": "code",
   "execution_count": 10,
   "metadata": {
    "ExecuteTime": {
     "end_time": "2021-01-20T13:10:55.049072Z",
     "start_time": "2021-01-20T13:10:55.014036Z"
    }
   },
   "outputs": [],
   "source": [
    "PhotTV = Phot.join(TV.set_index('main_id'), on='id')"
   ]
  },
  {
   "cell_type": "code",
   "execution_count": 11,
   "metadata": {
    "ExecuteTime": {
     "end_time": "2021-01-20T13:10:57.454493Z",
     "start_time": "2021-01-20T13:10:57.439647Z"
    }
   },
   "outputs": [
    {
     "name": "stdout",
     "output_type": "stream",
     "text": [
      "Classified Seyfer galaxies: 12232\n",
      "Intermediate classifications 760\n",
      "Other classifications 137\n"
     ]
    },
    {
     "data": {
      "text/plain": [
       "Sp\n",
       "S         55\n",
       "S1      7013\n",
       "S1.0     151\n",
       "S1.2     133\n",
       "S1.5     294\n",
       "S1.8      90\n",
       "S1.9      92\n",
       "S1h       36\n",
       "S1i        4\n",
       "S1n     1905\n",
       "S1n0       7\n",
       "S1n2       5\n",
       "S1n5       5\n",
       "S2      3259\n",
       "S3        49\n",
       "S3b        5\n",
       "S?        26\n",
       "dtype: int64"
      ]
     },
     "execution_count": 11,
     "metadata": {},
     "output_type": "execute_result"
    }
   ],
   "source": [
    "print('Classified Seyfer galaxies:',\n",
    "      sum(PhotTV.groupby('Sp').size()[['S1', 'S1n', 'S2', 'S']]))\n",
    "print('Intermediate classifications',\n",
    "      sum(PhotTV.groupby('Sp').size()[['S1.0', 'S1.2', 'S1.5', 'S1.8', 'S1.9']]))\n",
    "print('Other classifications',\n",
    "      sum(PhotTV.groupby('Sp').size()[['S1h', 'S1i', 'S1n0', 'S1n2', 'S1n5', 'S3', 'S3b', 'S?']]))\n",
    "PhotTV.groupby('Sp').size()"
   ]
  },
  {
   "cell_type": "code",
   "execution_count": 12,
   "metadata": {
    "ExecuteTime": {
     "end_time": "2021-01-20T13:10:59.239268Z",
     "start_time": "2021-01-20T13:10:59.232611Z"
    }
   },
   "outputs": [
    {
     "data": {
      "text/plain": [
       "otype_txt\n",
       "Sy1    9400\n",
       "Sy2    3655\n",
       "SyG      74\n",
       "dtype: int64"
      ]
     },
     "execution_count": 12,
     "metadata": {},
     "output_type": "execute_result"
    }
   ],
   "source": [
    "PhotTV.groupby('otype_txt').size()"
   ]
  },
  {
   "cell_type": "code",
   "execution_count": null,
   "metadata": {},
   "outputs": [],
   "source": []
  },
  {
   "cell_type": "code",
   "execution_count": 13,
   "metadata": {
    "ExecuteTime": {
     "end_time": "2021-01-20T13:11:17.002674Z",
     "start_time": "2021-01-20T13:11:16.936817Z"
    }
   },
   "outputs": [
    {
     "name": "stdout",
     "output_type": "stream",
     "text": [
      "Author: Andres Ramos\n",
      "\n",
      "Python implementation: CPython\n",
      "Python version       : 3.8.3\n",
      "IPython version      : 7.16.1\n",
      "\n",
      "Compiler    : GCC 7.3.0\n",
      "OS          : Linux\n",
      "Release     : 3.10.0-1160.el7.x86_64\n",
      "Machine     : x86_64\n",
      "Processor   : x86_64\n",
      "CPU cores   : 8\n",
      "Architecture: 64bit\n",
      "\n",
      "Specific Python packages\n",
      "astropy: 4.2\n",
      "pandas : 1.2.0\n",
      "\n",
      "re        : 2.2.1\n",
      "numpy     : 1.19.5\n",
      "matplotlib: 3.2.2\n",
      "json      : 2.0.9\n",
      "logging   : 0.5.1.2\n",
      "autopep8  : 1.5.4\n",
      "sys       : 3.8.3 (default, Jul  2 2020, 16:21:59) \n",
      "[GCC 7.3.0]\n",
      "\n",
      "Watermark: 2.1.0\n",
      "\n"
     ]
    }
   ],
   "source": [
    "%load_ext watermark\n",
    "%watermark -a \"Andres Ramos\" -d -v -m\n",
    "print('Specific Python packages')\n",
    "%watermark -iv -w --packages astropy,pandas"
   ]
  },
  {
   "cell_type": "code",
   "execution_count": null,
   "metadata": {},
   "outputs": [],
   "source": []
  }
 ],
 "metadata": {
  "hide_input": false,
  "kernelspec": {
   "display_name": "Python 3",
   "language": "python",
   "name": "python3"
  },
  "language_info": {
   "codemirror_mode": {
    "name": "ipython",
    "version": 3
   },
   "file_extension": ".py",
   "mimetype": "text/x-python",
   "name": "python",
   "nbconvert_exporter": "python",
   "pygments_lexer": "ipython3",
   "version": "3.8.3"
  },
  "toc": {
   "base_numbering": "6",
   "nav_menu": {},
   "number_sections": true,
   "sideBar": true,
   "skip_h1_title": false,
   "title_cell": "Table of Contents",
   "title_sidebar": "Contents",
   "toc_cell": false,
   "toc_position": {},
   "toc_section_display": true,
   "toc_window_display": true
  },
  "varInspector": {
   "cols": {
    "lenName": 16,
    "lenType": 16,
    "lenVar": 40
   },
   "kernels_config": {
    "python": {
     "delete_cmd_postfix": "",
     "delete_cmd_prefix": "del ",
     "library": "var_list.py",
     "varRefreshCmd": "print(var_dic_list())"
    },
    "r": {
     "delete_cmd_postfix": ") ",
     "delete_cmd_prefix": "rm(",
     "library": "var_list.r",
     "varRefreshCmd": "cat(var_dic_list()) "
    }
   },
   "types_to_exclude": [
    "module",
    "function",
    "builtin_function_or_method",
    "instance",
    "_Feature"
   ],
   "window_display": false
  }
 },
 "nbformat": 4,
 "nbformat_minor": 4
}
