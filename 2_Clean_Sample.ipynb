{
 "cells": [
  {
   "cell_type": "markdown",
   "metadata": {},
   "source": [
    "# Clean the sample in the SMB_VCV file\n",
    "Here we remove the Seyfert galaxies and classifications without a know source (No bibcode)"
   ]
  },
  {
   "cell_type": "markdown",
   "metadata": {},
   "source": [
    "We import the packages first"
   ]
  },
  {
   "cell_type": "code",
   "execution_count": 8,
   "metadata": {
    "ExecuteTime": {
     "end_time": "2021-01-20T11:04:46.504150Z",
     "start_time": "2021-01-20T11:04:46.497932Z"
    }
   },
   "outputs": [
    {
     "name": "stdout",
     "output_type": "stream",
     "text": [
      "Using matplotlib backend: Qt5Agg\n",
      "Populating the interactive namespace from numpy and matplotlib\n"
     ]
    }
   ],
   "source": [
    "%pylab"
   ]
  },
  {
   "cell_type": "code",
   "execution_count": 9,
   "metadata": {
    "ExecuteTime": {
     "end_time": "2021-01-20T11:04:47.113655Z",
     "start_time": "2021-01-20T11:04:47.108444Z"
    }
   },
   "outputs": [],
   "source": [
    "from astropy.table import Table, join\n",
    "from astropy.table import unique as tunique"
   ]
  },
  {
   "cell_type": "markdown",
   "metadata": {},
   "source": [
    "We read the original SMB_VCV file and the table with the Bibcodes for each otype. We rearrange some strings."
   ]
  },
  {
   "cell_type": "code",
   "execution_count": 10,
   "metadata": {
    "ExecuteTime": {
     "end_time": "2021-01-20T11:04:48.869556Z",
     "start_time": "2021-01-20T11:04:48.834246Z"
    }
   },
   "outputs": [],
   "source": [
    "# File containing all the otype information\n",
    "OTTAP = Table.read('BibcodesOtypes.fits', format='fits')\n",
    "# File with the cross-match between VCV and SMB\n",
    "TV = Table.read('SMB_VCV.fits', format='fits')"
   ]
  },
  {
   "cell_type": "code",
   "execution_count": 11,
   "metadata": {
    "ExecuteTime": {
     "end_time": "2021-01-20T11:04:51.155111Z",
     "start_time": "2021-01-20T11:04:50.330595Z"
    }
   },
   "outputs": [],
   "source": [
    "TV['main_id'] = [j.rstrip() for j in TV['main_id']]\n",
    "TV['Sp'] = [j.rstrip() for j in TV['Sp']]\n",
    "OTTAP['main_id'] = [j.rstrip() for j in OTTAP['main_id']]\n",
    "OTTAP['otype_txt'] = [j.rstrip() for j in OTTAP['otype_txt']]\n",
    "OTTAP['origin'] = [j.rstrip() for j in OTTAP['origin']]"
   ]
  },
  {
   "cell_type": "markdown",
   "metadata": {},
   "source": [
    "## Remove different redshifts\n",
    "We remove galaxies where the cross-match show that the redshift for the galaxies was higher than 0.01 "
   ]
  },
  {
   "cell_type": "code",
   "execution_count": 12,
   "metadata": {
    "ExecuteTime": {
     "end_time": "2021-01-20T11:04:52.678495Z",
     "start_time": "2021-01-20T11:04:52.665155Z"
    }
   },
   "outputs": [],
   "source": [
    "TV['DiffRed'] = TV['rvz_redshift']-TV['z']\n",
    "Badz = where(abs(TV['DiffRed']) > 0.01)\n",
    "TV.remove_rows(Badz)"
   ]
  },
  {
   "cell_type": "markdown",
   "metadata": {},
   "source": [
    "## Separate origin of the bibcode\n",
    "We separate the bibcode to simplify querys"
   ]
  },
  {
   "cell_type": "code",
   "execution_count": 13,
   "metadata": {
    "ExecuteTime": {
     "end_time": "2021-01-20T11:04:53.497802Z",
     "start_time": "2021-01-20T11:04:53.491479Z"
    }
   },
   "outputs": [],
   "source": [
    "def SeparateOrigin(Table):\n",
    "    \"\"\"Separate the origion inside the file\"\"\"\n",
    "    Bibcod = np.empty(len(Table), dtype='S19')\n",
    "    for j, jtex in enumerate(Table):\n",
    "        if 'bibcode' in jtex['origin']:\n",
    "            Bibcod[j] = jtex['origin'].split('bibcode=')[-1]\n",
    "        elif 'from basic data' in jtex['origin']:\n",
    "            Bibcod[j] = 'CDS'\n",
    "        elif 'from id' in jtex['origin']:\n",
    "            Bibcod[j] = 'ID'\n",
    "        elif jtex['origin'] == '':\n",
    "            Bibcod[j] = 'UNK'\n",
    "        else:\n",
    "            raise NameError('No origin??')\n",
    "    Table['otype_bibcode'] = Bibcod\n",
    "    return(Table)"
   ]
  },
  {
   "cell_type": "code",
   "execution_count": 7,
   "metadata": {
    "ExecuteTime": {
     "end_time": "2021-01-20T11:04:02.117295Z",
     "start_time": "2021-01-20T11:04:01.609182Z"
    }
   },
   "outputs": [],
   "source": [
    "OTTAP = SeparateOrigin(OTTAP)"
   ]
  },
  {
   "cell_type": "markdown",
   "metadata": {
    "variables": {
     "len(TV)": "18923"
    }
   },
   "source": [
    "The total number of galaxies in the sample ({{len(TV)}}) have different otypes, here we center in the `main_id`. Then, we join the files to only have the information of the `main_id` for each galaxy."
   ]
  },
  {
   "cell_type": "code",
   "execution_count": 10,
   "metadata": {
    "ExecuteTime": {
     "end_time": "2021-01-19T13:45:26.609921Z",
     "start_time": "2021-01-19T13:45:26.362577Z"
    }
   },
   "outputs": [
    {
     "name": "stderr",
     "output_type": "stream",
     "text": [
      "WARNING: MergeConflictWarning: Cannot merge meta key 'EXTNAME' types <class 'str'> and <class 'str'>, choosing EXTNAME='Joined' [astropy.utils.metadata]\n",
      "WARNING: MergeConflictWarning: Cannot merge meta key 'TCOMM4' types <class 'str'> and <class 'str'>, choosing TCOMM4='Coordinate reference' [astropy.utils.metadata]\n",
      "WARNING: MergeConflictWarning: Cannot merge meta key 'TCOMM5' types <class 'str'> and <class 'str'>, choosing TCOMM5='Object type' [astropy.utils.metadata]\n",
      "WARNING: MergeConflictWarning: Cannot merge meta key 'DATE-HDU' types <class 'str'> and <class 'str'>, choosing DATE-HDU='2020-12-03T14:18:36' [astropy.utils.metadata]\n"
     ]
    },
    {
     "data": {
      "text/plain": [
       "18923"
      ]
     },
     "execution_count": 10,
     "metadata": {},
     "output_type": "execute_result"
    }
   ],
   "source": [
    "AllTypes = join(OTTAP, TV, keys='main_id')\n",
    "len(unique(AllTypes['main_id']))  # Verification on the number of galaxies"
   ]
  },
  {
   "cell_type": "markdown",
   "metadata": {
    "ExecuteTime": {
     "end_time": "2021-01-19T13:46:04.672831Z",
     "start_time": "2021-01-19T13:46:04.665127Z"
    },
    "variables": {
     "sum(AllTypes['otype_bibcode'] == 'UNK')": "3441"
    }
   },
   "source": [
    "Total number of unknown classifications in SMB is {{sum(AllTypes['otype_bibcode'] == 'UNK')}}"
   ]
  },
  {
   "cell_type": "markdown",
   "metadata": {},
   "source": [
    "## Dealing with unknown bibcodes and Seyfert types"
   ]
  },
  {
   "cell_type": "markdown",
   "metadata": {},
   "source": [
    "Some Seyfert sources are not classified and/or the source is unknown. If the source is unknown, but they have a classification in VCV we assume that the classification comes from VCV. "
   ]
  },
  {
   "cell_type": "code",
   "execution_count": 12,
   "metadata": {
    "ExecuteTime": {
     "end_time": "2021-01-19T13:46:43.596957Z",
     "start_time": "2021-01-19T13:46:43.586061Z"
    }
   },
   "outputs": [],
   "source": [
    "UKSyGVCV = np.where(np.logical_and.reduce([AllTypes['otype_bibcode'] == 'UNK',\n",
    "                                           AllTypes['otype_txt_1'] == 'SyG',\n",
    "                                           AllTypes['otype_txt_2'] == 'SyG',\n",
    "                                           AllTypes['Sp'] == 'S']))"
   ]
  },
  {
   "cell_type": "code",
   "execution_count": 13,
   "metadata": {
    "ExecuteTime": {
     "end_time": "2021-01-19T13:46:44.731181Z",
     "start_time": "2021-01-19T13:46:44.723242Z"
    }
   },
   "outputs": [],
   "source": [
    "UKSy1VCV = np.where(np.logical_and.reduce([AllTypes['otype_bibcode'] == 'UNK',\n",
    "                                           AllTypes['otype_txt_1'] == 'Sy1',\n",
    "                                           AllTypes['otype_txt_2'] == 'Sy1',\n",
    "                                           AllTypes['Sp'] == 'S1']))"
   ]
  },
  {
   "cell_type": "code",
   "execution_count": 14,
   "metadata": {
    "ExecuteTime": {
     "end_time": "2021-01-19T13:46:45.301573Z",
     "start_time": "2021-01-19T13:46:45.284137Z"
    }
   },
   "outputs": [],
   "source": [
    "UKSy2VCV = np.where(np.logical_and.reduce([AllTypes['otype_bibcode'] == 'UNK',\n",
    "                                           AllTypes['otype_txt_1'] == 'Sy2',\n",
    "                                           AllTypes['otype_txt_2'] == 'Sy2',\n",
    "                                           AllTypes['Sp'] == 'S2']))"
   ]
  },
  {
   "cell_type": "code",
   "execution_count": 15,
   "metadata": {
    "ExecuteTime": {
     "end_time": "2021-01-19T13:46:58.602635Z",
     "start_time": "2021-01-19T13:46:58.600054Z"
    }
   },
   "outputs": [],
   "source": [
    "AllTypes['otype_bibcode'][UKSyGVCV] = 'VCV'\n",
    "AllTypes['otype_bibcode'][UKSy1VCV] = 'VCV'\n",
    "AllTypes['otype_bibcode'][UKSy2VCV] = 'VCV'"
   ]
  },
  {
   "cell_type": "markdown",
   "metadata": {
    "ExecuteTime": {
     "end_time": "2021-01-19T13:47:41.821952Z",
     "start_time": "2021-01-19T13:47:41.816373Z"
    },
    "variables": {
     "sum(AllTypes['otype_bibcode'] == 'UNK')": "2466"
    }
   },
   "source": [
    "Then, the total number of unknown classifications in SMB is now {{sum(AllTypes['otype_bibcode'] == 'UNK')}}"
   ]
  },
  {
   "cell_type": "markdown",
   "metadata": {},
   "source": [
    "We remove the galaxies with a LINER classification in VCV and unknown source in SMB. "
   ]
  },
  {
   "cell_type": "code",
   "execution_count": 17,
   "metadata": {
    "ExecuteTime": {
     "end_time": "2021-01-19T13:48:04.284072Z",
     "start_time": "2021-01-19T13:48:04.250073Z"
    }
   },
   "outputs": [],
   "source": [
    "GalaxiesToRemove = AllTypes[np.logical_and.reduce([AllTypes['otype_bibcode'] == 'UNK',\n",
    "                                                   AllTypes['Sp'] == 'S3',\n",
    "                                                   AllTypes['otype_txt_1'] == 'Sy2'])]['main_id'].data\n",
    "LocGTR = [np.where(AllTypes['main_id'] == i)[0] for i in GalaxiesToRemove]\n",
    "AllTypes.remove_rows(np.concatenate(LocGTR))"
   ]
  },
  {
   "cell_type": "markdown",
   "metadata": {},
   "source": [
    "If galaxies have a unknown source but are still classified as Seyfert we send this galaxies from their SMB classification to a Seyfert for further study these galaxies."
   ]
  },
  {
   "cell_type": "code",
   "execution_count": 18,
   "metadata": {
    "ExecuteTime": {
     "end_time": "2021-01-19T13:48:11.703163Z",
     "start_time": "2021-01-19T13:48:11.689635Z"
    }
   },
   "outputs": [],
   "source": [
    "GalaxiesToStudy = concatenate((AllTypes[np.where(np.logical_and.reduce([AllTypes['otype_bibcode'] == 'UNK',\n",
    "                                                                        AllTypes['otype_txt_1'] == 'Sy2',\n",
    "                                                                        AllTypes['otype_txt_2'] == 'Sy2']))[0]]['main_id'].data,\n",
    "                               AllTypes[np.where(np.logical_and.reduce([AllTypes['otype_bibcode'] == 'UNK',\n",
    "                                                                        AllTypes['otype_txt_1'] == 'Sy1',\n",
    "                                                                        AllTypes['otype_txt_2'] == 'Sy1']))[0]]['main_id'].data))"
   ]
  },
  {
   "cell_type": "code",
   "execution_count": 19,
   "metadata": {
    "ExecuteTime": {
     "end_time": "2021-01-19T13:48:29.771961Z",
     "start_time": "2021-01-19T13:48:29.766517Z"
    }
   },
   "outputs": [
    {
     "data": {
      "text/plain": [
       "masked_array(data=['2MASX J18311470-3336085',\n",
       "                   'EGSIRAC J141515.60+520354.2', 'ESO 323-77',\n",
       "                   'MCG+03-60-031', 'NAME SMM J141741.90+522823.6',\n",
       "                   '[VV2006c] J125310.5-091024', '2E  2294', '2E  2628',\n",
       "                   '2E  3786', '2MASS J00423990+3017514',\n",
       "                   '2MASS J01341936+0146479', '2MASS J10102753+4132389',\n",
       "                   '2MASS J12002696+3317286', '2MASX J05064491-1011357',\n",
       "                   '2MASX J06374318-7538458', '2MASX J07185777+7059209',\n",
       "                   '2MASX J08420557+0759253', '2MASX J09443702-2633554',\n",
       "                   '2MASX J10155660-2002268', '2MASX J14555293-3548223',\n",
       "                   '2MASX J15085291+6814074', '2MASX J16383091-2055246',\n",
       "                   '2MASX J21033788-0455396', '2MASX J22024516-1304538',\n",
       "                   '2dFGRS TGN357Z241', '3C 286',\n",
       "                   '6dFGS gJ043944.9-454043', '6dFGS gJ084628.7-121409',\n",
       "                   '6dFGS gJ101329.7-283126', '7C 151247.00+370154.00',\n",
       "                   'CTS   11', 'HE 0226-4110', 'ICRF J025937.6+423549',\n",
       "                   'ICRF J073352.5+502209', 'ICRF J081100.6+571412',\n",
       "                   'ICRF J100646.4-215920', 'ICRF J110153.4+624150',\n",
       "                   'ICRF J114855.8-040409', 'ICRF J135704.4+191907',\n",
       "                   'ICRF J170009.2+683006', 'ICRF J173548.0+361645',\n",
       "                   'ICRF J200755.1-443444', 'IRAS 10295-1831',\n",
       "                   'LEDA 2292300', 'MCG-01-59-027', 'NGC  5033',\n",
       "                   'UGC 10683', '[VV2006c] J031146.1-550700',\n",
       "                   '[VV2010c] J165435.3+620057'],\n",
       "             mask=False,\n",
       "       fill_value='N/A',\n",
       "            dtype='<U37')"
      ]
     },
     "execution_count": 19,
     "metadata": {},
     "output_type": "execute_result"
    }
   ],
   "source": [
    "GalaxiesToStudy"
   ]
  },
  {
   "cell_type": "markdown",
   "metadata": {},
   "source": [
    "## Dealing with emission origin with unknown bibcode\n",
    "We remove the sources where the bibcode from the original emission type (Rad, X-ray or IR) is unknown to create a list of galaxies with the respective emission for further analysis"
   ]
  },
  {
   "cell_type": "code",
   "execution_count": 20,
   "metadata": {
    "ExecuteTime": {
     "end_time": "2021-01-19T13:49:25.752777Z",
     "start_time": "2021-01-19T13:49:25.744161Z"
    }
   },
   "outputs": [],
   "source": [
    "Xrem   = np.where(np.logical_and.reduce([AllTypes['otype_bibcode'] == 'UNK', AllTypes['otype_txt_1'] == 'X']))[0]\n",
    "IRrem  = np.where(np.logical_and.reduce([AllTypes['otype_bibcode'] == 'UNK', AllTypes['otype_txt_1'] == 'IR']))[0]\n",
    "Radrem = np.where(np.logical_and.reduce([AllTypes['otype_bibcode'] == 'UNK', AllTypes['otype_txt_1'] == 'Rad']))[0]"
   ]
  },
  {
   "cell_type": "code",
   "execution_count": 21,
   "metadata": {
    "ExecuteTime": {
     "end_time": "2021-01-19T13:49:27.687062Z",
     "start_time": "2021-01-19T13:49:27.660362Z"
    }
   },
   "outputs": [],
   "source": [
    "AllTypes.remove_rows(concatenate((concatenate((Xrem, IRrem)), Radrem)))"
   ]
  },
  {
   "cell_type": "markdown",
   "metadata": {
    "variables": {
     "sum(AllTypes['otype_bibcode'] == 'UNK')": "1791"
    }
   },
   "source": [
    "Then, the total number of unknown classifications in SMB is now {{sum(AllTypes['otype_bibcode'] == 'UNK')}}"
   ]
  },
  {
   "cell_type": "markdown",
   "metadata": {},
   "source": [
    "## Create a new VCV SMB file\n",
    "Here we organize and save the data to be used later. First we re-classify from Sy1 or Sy2 to SyG some galaxies, to study later on. Then, we remove galaxies that are not useful. And finally, we create a flag for the type of emission"
   ]
  },
  {
   "cell_type": "code",
   "execution_count": 22,
   "metadata": {
    "ExecuteTime": {
     "end_time": "2021-01-19T13:50:57.188172Z",
     "start_time": "2021-01-19T13:50:57.166902Z"
    }
   },
   "outputs": [],
   "source": [
    "Reclass = [np.where(TV['main_id'] == gal)[0][0] for gal in GalaxiesToStudy]\n",
    "TV['otype_txt'][Reclass] = 'SyG'"
   ]
  },
  {
   "cell_type": "code",
   "execution_count": 24,
   "metadata": {
    "ExecuteTime": {
     "end_time": "2021-01-19T13:52:17.483154Z",
     "start_time": "2021-01-19T13:52:17.477750Z"
    }
   },
   "outputs": [],
   "source": [
    "LocGTR_TV = [np.where(TV['main_id'] == i)[0] for i in GalaxiesToRemove]"
   ]
  },
  {
   "cell_type": "code",
   "execution_count": 27,
   "metadata": {
    "ExecuteTime": {
     "end_time": "2021-01-19T13:52:53.492891Z",
     "start_time": "2021-01-19T13:52:53.484570Z"
    }
   },
   "outputs": [],
   "source": [
    "TV.remove_rows(np.concatenate(LocGTR_TV))"
   ]
  },
  {
   "cell_type": "markdown",
   "metadata": {
    "ExecuteTime": {
     "end_time": "2021-01-19T13:52:57.924709Z",
     "start_time": "2021-01-19T13:52:57.919990Z"
    },
    "variables": {
     "len(TV)": "18921"
    }
   },
   "source": [
    "We get in total {{len(TV)}} galaxies in the sample"
   ]
  },
  {
   "cell_type": "code",
   "execution_count": 29,
   "metadata": {
    "ExecuteTime": {
     "end_time": "2021-01-19T13:54:04.338071Z",
     "start_time": "2021-01-19T13:54:04.332510Z"
    }
   },
   "outputs": [],
   "source": [
    "def AddEmm(Table1, Table2):\n",
    "    \"\"\"We add the origin emission into a sparse matrix\"\"\"\n",
    "    Ems = np.zeros((len(Table1), 3))\n",
    "    for igal, gal in enumerate(Table1['main_id']):\n",
    "        T3 = Table2[np.where(Table2['main_id'] == gal)[0]]\n",
    "        Ems[igal, 0] = sum(T3['otype_txt_1'] == 'X')\n",
    "        Ems[igal, 1] = sum(T3['otype_txt_1'] == 'IR')\n",
    "        Ems[igal, 2] = sum(T3['otype_txt_1'] == 'Rad')\n",
    "    return(Ems)"
   ]
  },
  {
   "cell_type": "code",
   "execution_count": 30,
   "metadata": {
    "ExecuteTime": {
     "end_time": "2021-01-19T13:55:05.415297Z",
     "start_time": "2021-01-19T13:54:12.840818Z"
    }
   },
   "outputs": [],
   "source": [
    "MEmission = AddEmm(TV, AllTypes)"
   ]
  },
  {
   "cell_type": "code",
   "execution_count": 31,
   "metadata": {
    "ExecuteTime": {
     "end_time": "2021-01-19T13:55:13.766182Z",
     "start_time": "2021-01-19T13:55:13.761014Z"
    }
   },
   "outputs": [],
   "source": [
    "# We add this matrix into columns of the file\n",
    "TV['X_OT'] = MEmission.T[0]\n",
    "TV['IR_OT'] = MEmission.T[1]\n",
    "TV['Rad_OT'] = MEmission.T[2]"
   ]
  },
  {
   "cell_type": "code",
   "execution_count": 30,
   "metadata": {},
   "outputs": [
    {
     "name": "stderr",
     "output_type": "stream",
     "text": [
      "WARNING: AstropyDeprecationWarning: VCV_TAP_otype.txt already exists. Automatically overwriting ASCII files is deprecated. Use the argument 'overwrite=True' in the future. [astropy.io.ascii.ui]\n"
     ]
    }
   ],
   "source": [
    "# We named TAP as these come from TAP Simbad\n",
    "TV.write('VCV_TAP_otype.txt', format='ascii')"
   ]
  },
  {
   "cell_type": "markdown",
   "metadata": {},
   "source": [
    "## Final numbers from the otypes\n",
    "We compute the final numbers from where the classifications come from taking into account the reclassification that we use before for specific galaxies"
   ]
  },
  {
   "cell_type": "code",
   "execution_count": 32,
   "metadata": {
    "ExecuteTime": {
     "end_time": "2021-01-19T13:55:42.713415Z",
     "start_time": "2021-01-19T13:55:42.704397Z"
    }
   },
   "outputs": [],
   "source": [
    "ReclassS1 = np.logical_and.reduce([AllTypes['otype_bibcode'] == 'UNK',\n",
    "                                   AllTypes['otype_txt_1'] == 'Sy1',\n",
    "                                   AllTypes['otype_txt_2'] == 'Sy1'])\n",
    "\n",
    "ReclassS2 = np.logical_and.reduce([AllTypes['otype_bibcode'] == 'UNK',\n",
    "                                   AllTypes['otype_txt_1'] == 'Sy2',\n",
    "                                   AllTypes['otype_txt_2'] == 'Sy2'])"
   ]
  },
  {
   "cell_type": "markdown",
   "metadata": {},
   "source": [
    "Data from Seyfert 1 galaxies comes predominantly (95%) from 5 works "
   ]
  },
  {
   "cell_type": "code",
   "execution_count": 33,
   "metadata": {
    "ExecuteTime": {
     "end_time": "2021-01-19T13:56:10.984223Z",
     "start_time": "2021-01-19T13:56:10.954449Z"
    }
   },
   "outputs": [
    {
     "name": "stdout",
     "output_type": "stream",
     "text": [
      "The total number of Seyfert 1 is: 13760\n"
     ]
    }
   ],
   "source": [
    "print('The total number of Seyfert 1 is:', \n",
    "      len(AllTypes[np.logical_and(AllTypes['otype_txt_1'] == 'Sy1', AllTypes['otype_txt_2'] == 'Sy1')])-sum(ReclassS1))"
   ]
  },
  {
   "cell_type": "markdown",
   "metadata": {},
   "source": [
    "Here, we show the bibcode for the first 5 contributions to the Seyfert 1 sample"
   ]
  },
  {
   "cell_type": "code",
   "execution_count": 34,
   "metadata": {
    "ExecuteTime": {
     "end_time": "2021-01-19T13:57:28.637708Z",
     "start_time": "2021-01-19T13:57:27.302942Z"
    }
   },
   "outputs": [
    {
     "data": {
      "text/plain": [
       "otype_bibcode\n",
       "b'CDS'                    5566\n",
       "b'2014ApJ...788...45T'    2784\n",
       "b'2015ApJS..219....1O'    2001\n",
       "b'2006ApJS..166..128Z'    1783\n",
       "b'2017ApJS..229...39R'     988\n",
       "dtype: int64"
      ]
     },
     "execution_count": 34,
     "metadata": {},
     "output_type": "execute_result"
    }
   ],
   "source": [
    "S1Otyp = np.logical_xor(np.logical_and(AllTypes['otype_txt_1'] == 'Sy1', AllTypes['otype_txt_2'] == 'Sy1'), ReclassS1)\n",
    "AllTypes[S1Otyp].to_pandas().groupby('otype_bibcode').size().sort_values(ascending=False).head(5)"
   ]
  },
  {
   "cell_type": "code",
   "execution_count": 35,
   "metadata": {
    "ExecuteTime": {
     "end_time": "2021-01-19T13:58:47.965285Z",
     "start_time": "2021-01-19T13:58:47.893837Z"
    }
   },
   "outputs": [
    {
     "data": {
      "text/plain": [
       "0.9536337209302326"
      ]
     },
     "execution_count": 35,
     "metadata": {},
     "output_type": "execute_result"
    }
   ],
   "source": [
    "## Fractional contribution from those 5 works\n",
    "(sum(AllTypes[S1Otyp].to_pandas().groupby('otype_bibcode').size().sort_values(ascending=False).head(5))) / \\\n",
    "    (len(AllTypes[np.logical_and(AllTypes['otype_txt_1'] == 'Sy1', AllTypes['otype_txt_2'] == 'Sy1')])-sum(ReclassS1))"
   ]
  },
  {
   "cell_type": "markdown",
   "metadata": {},
   "source": [
    "Data from Seyfert 2 galaxies comes predominantly (97%) from 3 works"
   ]
  },
  {
   "cell_type": "code",
   "execution_count": 36,
   "metadata": {
    "ExecuteTime": {
     "end_time": "2021-01-19T13:58:56.053401Z",
     "start_time": "2021-01-19T13:58:56.034343Z"
    }
   },
   "outputs": [
    {
     "name": "stdout",
     "output_type": "stream",
     "text": [
      "The total number of Seyfert 2 is: 5040\n"
     ]
    }
   ],
   "source": [
    "print('The total number of Seyfert 2 is:', \n",
    "      len(AllTypes[np.logical_and(AllTypes['otype_txt_1'] == 'Sy2', AllTypes['otype_txt_2'] == 'Sy2')])-sum(ReclassS2))"
   ]
  },
  {
   "cell_type": "markdown",
   "metadata": {},
   "source": [
    "Here, we show the bibcode for the first 3 contributions to the Seyfert 2 sample"
   ]
  },
  {
   "cell_type": "code",
   "execution_count": 37,
   "metadata": {
    "ExecuteTime": {
     "end_time": "2021-01-19T13:59:31.331512Z",
     "start_time": "2021-01-19T13:59:31.300292Z"
    }
   },
   "outputs": [
    {
     "data": {
      "text/plain": [
       "otype_bibcode\n",
       "b'CDS'                    2845\n",
       "b'2014ApJ...788...45T'    1239\n",
       "b'VCV'                     787\n",
       "dtype: int64"
      ]
     },
     "execution_count": 37,
     "metadata": {},
     "output_type": "execute_result"
    }
   ],
   "source": [
    "S2Otyp = np.logical_xor(np.logical_and(AllTypes['otype_txt_1'] == 'Sy2', AllTypes['otype_txt_2'] == 'Sy2'), ReclassS2)\n",
    "AllTypes[S2Otyp].to_pandas().groupby('otype_bibcode').size().sort_values(ascending=False).head(3)"
   ]
  },
  {
   "cell_type": "code",
   "execution_count": 38,
   "metadata": {
    "ExecuteTime": {
     "end_time": "2021-01-19T13:59:39.437789Z",
     "start_time": "2021-01-19T13:59:39.395157Z"
    }
   },
   "outputs": [
    {
     "data": {
      "text/plain": [
       "0.966468253968254"
      ]
     },
     "execution_count": 38,
     "metadata": {},
     "output_type": "execute_result"
    }
   ],
   "source": [
    "## Fractional contribution from those 3 works\n",
    "(sum(AllTypes[S2Otyp].to_pandas().groupby('otype_bibcode').size().sort_values(ascending=False).head(3))) / \\\n",
    "    (len(AllTypes[np.logical_and(AllTypes['otype_txt_1'] == 'Sy2', AllTypes['otype_txt_2'] == 'Sy2')])-sum(ReclassS2))"
   ]
  },
  {
   "cell_type": "markdown",
   "metadata": {},
   "source": [
    "Finally data from the unclassified Seyfert galaxies comes predominantly (92%) from 3 works"
   ]
  },
  {
   "cell_type": "code",
   "execution_count": 40,
   "metadata": {
    "ExecuteTime": {
     "end_time": "2021-01-19T14:00:24.086100Z",
     "start_time": "2021-01-19T14:00:24.075537Z"
    }
   },
   "outputs": [
    {
     "name": "stdout",
     "output_type": "stream",
     "text": [
      "The total number of Seyfert 2 is: 121\n"
     ]
    }
   ],
   "source": [
    "print('The total number of Seyfert 2 is:', \n",
    "      len(AllTypes[np.logical_and(AllTypes['otype_txt_1'] == 'SyG', AllTypes['otype_txt_2'] == 'SyG')])+sum(np.logical_or(ReclassS1, ReclassS2)))"
   ]
  },
  {
   "cell_type": "markdown",
   "metadata": {
    "ExecuteTime": {
     "end_time": "2021-01-19T14:00:11.979944Z",
     "start_time": "2021-01-19T14:00:11.971483Z"
    }
   },
   "source": [
    "Here, we show the bibcode for the first 3 contributions to the unclassified Seyfert sample"
   ]
  },
  {
   "cell_type": "code",
   "execution_count": 41,
   "metadata": {
    "ExecuteTime": {
     "end_time": "2021-01-19T14:00:28.739814Z",
     "start_time": "2021-01-19T14:00:28.723059Z"
    }
   },
   "outputs": [
    {
     "data": {
      "text/plain": [
       "otype_bibcode\n",
       "b'CDS'    57\n",
       "b'UNK'    49\n",
       "b'VCV'     5\n",
       "dtype: int64"
      ]
     },
     "execution_count": 41,
     "metadata": {},
     "output_type": "execute_result"
    }
   ],
   "source": [
    "SGOtyp = np.logical_xor(np.logical_and(AllTypes['otype_txt_1'] == 'SyG', AllTypes['otype_txt_2'] == 'SyG'), np.logical_or(ReclassS1, ReclassS2))\n",
    "AllTypes[SGOtyp].to_pandas().groupby('otype_bibcode').size().sort_values(ascending=False).head(3)"
   ]
  },
  {
   "cell_type": "code",
   "execution_count": 42,
   "metadata": {
    "ExecuteTime": {
     "end_time": "2021-01-19T14:00:37.234851Z",
     "start_time": "2021-01-19T14:00:37.214092Z"
    }
   },
   "outputs": [
    {
     "data": {
      "text/plain": [
       "0.9173553719008265"
      ]
     },
     "execution_count": 42,
     "metadata": {},
     "output_type": "execute_result"
    }
   ],
   "source": [
    "## Fractional contribution from those 3 works\n",
    "(sum(AllTypes[SGOtyp].to_pandas().groupby('otype_bibcode').size().sort_values(ascending=False).head(3))) / \\\n",
    "    (len(AllTypes[np.logical_and(AllTypes['otype_txt_1'] == 'SyG',\n",
    "                                 AllTypes['otype_txt_2'] == 'SyG')])+sum(np.logical_or(ReclassS1, ReclassS2)))"
   ]
  },
  {
   "cell_type": "markdown",
   "metadata": {},
   "source": [
    "We notice that almost 45% of the classifications come from the CDS basic data"
   ]
  },
  {
   "cell_type": "code",
   "execution_count": 43,
   "metadata": {
    "ExecuteTime": {
     "end_time": "2021-01-19T14:00:50.734780Z",
     "start_time": "2021-01-19T14:00:50.658470Z"
    }
   },
   "outputs": [
    {
     "data": {
      "text/plain": [
       "0.44754505575815234"
      ]
     },
     "execution_count": 43,
     "metadata": {},
     "output_type": "execute_result"
    }
   ],
   "source": [
    "(sum(AllTypes[S1Otyp]['otype_bibcode'] == 'CDS')+sum(AllTypes[S2Otyp]['otype_bibcode'] == 'CDS')+sum(AllTypes[SGOtyp]['otype_bibcode'] == 'CDS'))/len(AllTypes[np.logical_or.reduce([np.logical_and(AllTypes['otype_txt_1'] == 'Sy2', AllTypes['otype_txt_2'] == 'Sy2'),\n",
    "                                                                                                                                                                                     np.logical_and(\n",
    "                                                                                                                                                                                         AllTypes['otype_txt_1'] == 'Sy1', AllTypes['otype_txt_2'] == 'Sy1'),\n",
    "                                                                                                                                                                                     np.logical_and(AllTypes['otype_txt_1'] == 'SyG', AllTypes['otype_txt_2'] == 'SyG')])])"
   ]
  },
  {
   "cell_type": "code",
   "execution_count": null,
   "metadata": {},
   "outputs": [],
   "source": []
  },
  {
   "cell_type": "code",
   "execution_count": 44,
   "metadata": {
    "ExecuteTime": {
     "end_time": "2021-01-19T14:01:11.484369Z",
     "start_time": "2021-01-19T14:01:11.307104Z"
    }
   },
   "outputs": [
    {
     "name": "stdout",
     "output_type": "stream",
     "text": [
      "Author: Andres Ramos\n",
      "\n",
      "Python implementation: CPython\n",
      "Python version       : 3.8.3\n",
      "IPython version      : 7.16.1\n",
      "\n",
      "Compiler    : GCC 7.3.0\n",
      "OS          : Linux\n",
      "Release     : 3.10.0-1160.el7.x86_64\n",
      "Machine     : x86_64\n",
      "Processor   : x86_64\n",
      "CPU cores   : 8\n",
      "Architecture: 64bit\n",
      "\n",
      "Specific Python packages\n",
      "astropy: 4.2\n",
      "pandas : 1.2.0\n",
      "\n",
      "autopep8  : 1.5.4\n",
      "matplotlib: 3.2.2\n",
      "numpy     : 1.19.5\n",
      "re        : 2.2.1\n",
      "json      : 2.0.9\n",
      "sys       : 3.8.3 (default, Jul  2 2020, 16:21:59) \n",
      "[GCC 7.3.0]\n",
      "logging   : 0.5.1.2\n",
      "\n",
      "Watermark: 2.1.0\n",
      "\n"
     ]
    }
   ],
   "source": [
    "%load_ext watermark\n",
    "%watermark -a \"Andres Ramos\" -d -v -m\n",
    "print('Specific Python packages')\n",
    "%watermark -iv -w --packages astropy,pandas"
   ]
  },
  {
   "cell_type": "code",
   "execution_count": null,
   "metadata": {},
   "outputs": [],
   "source": []
  }
 ],
 "metadata": {
  "hide_input": false,
  "kernelspec": {
   "display_name": "Python 3",
   "language": "python",
   "name": "python3"
  },
  "language_info": {
   "codemirror_mode": {
    "name": "ipython",
    "version": 3
   },
   "file_extension": ".py",
   "mimetype": "text/x-python",
   "name": "python",
   "nbconvert_exporter": "python",
   "pygments_lexer": "ipython3",
   "version": "3.8.3"
  },
  "toc": {
   "base_numbering": "2",
   "nav_menu": {},
   "number_sections": true,
   "sideBar": true,
   "skip_h1_title": false,
   "title_cell": "Table of Contents",
   "title_sidebar": "Contents",
   "toc_cell": false,
   "toc_position": {},
   "toc_section_display": true,
   "toc_window_display": false
  },
  "varInspector": {
   "cols": {
    "lenName": 16,
    "lenType": 16,
    "lenVar": 40
   },
   "kernels_config": {
    "python": {
     "delete_cmd_postfix": "",
     "delete_cmd_prefix": "del ",
     "library": "var_list.py",
     "varRefreshCmd": "print(var_dic_list())"
    },
    "r": {
     "delete_cmd_postfix": ") ",
     "delete_cmd_prefix": "rm(",
     "library": "var_list.r",
     "varRefreshCmd": "cat(var_dic_list()) "
    }
   },
   "types_to_exclude": [
    "module",
    "function",
    "builtin_function_or_method",
    "instance",
    "_Feature"
   ],
   "window_display": false
  }
 },
 "nbformat": 4,
 "nbformat_minor": 4
}
