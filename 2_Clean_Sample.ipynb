{
 "cells": [
  {
   "cell_type": "markdown",
   "metadata": {},
   "source": [
    "# Clean the sample in the SMB_VCV file\n",
    "Here we remove the Seyfert galaxies and classifications without a known source (No bibcode)"
   ]
  },
  {
   "cell_type": "markdown",
   "metadata": {},
   "source": [
    "We import the packages first"
   ]
  },
  {
   "cell_type": "code",
   "execution_count": 1,
   "metadata": {
    "ExecuteTime": {
     "end_time": "2021-03-15T12:31:50.908270Z",
     "start_time": "2021-03-15T12:31:50.470589Z"
    }
   },
   "outputs": [
    {
     "name": "stdout",
     "output_type": "stream",
     "text": [
      "Using matplotlib backend: Qt5Agg\n",
      "Populating the interactive namespace from numpy and matplotlib\n"
     ]
    }
   ],
   "source": [
    "%pylab"
   ]
  },
  {
   "cell_type": "code",
   "execution_count": 2,
   "metadata": {
    "ExecuteTime": {
     "end_time": "2021-03-15T12:31:51.691071Z",
     "start_time": "2021-03-15T12:31:50.909220Z"
    }
   },
   "outputs": [],
   "source": [
    "from astropy.table import Table, join\n",
    "from astropy.table import unique as tunique"
   ]
  },
  {
   "cell_type": "markdown",
   "metadata": {},
   "source": [
    "We read the original SMB_VCV file and the table with the Bibcodes for each otype. We rearrange some strings."
   ]
  },
  {
   "cell_type": "code",
   "execution_count": 3,
   "metadata": {
    "ExecuteTime": {
     "end_time": "2021-03-15T12:31:51.989328Z",
     "start_time": "2021-03-15T12:31:51.692119Z"
    }
   },
   "outputs": [],
   "source": [
    "# File containing all the otype information\n",
    "OTTAP = Table.read('BibcodesOtypes.fits', format='fits')\n",
    "# File with the cross-match between VCV and SMB\n",
    "TV = Table.read('SMB_VCV.fits', format='fits')"
   ]
  },
  {
   "cell_type": "code",
   "execution_count": 4,
   "metadata": {
    "ExecuteTime": {
     "end_time": "2021-03-15T12:31:52.821672Z",
     "start_time": "2021-03-15T12:31:51.990519Z"
    }
   },
   "outputs": [],
   "source": [
    "TV['main_id'] = [j.rstrip() for j in TV['main_id']]\n",
    "TV['Sp'] = [j.rstrip() for j in TV['Sp']]\n",
    "OTTAP['main_id'] = [j.rstrip() for j in OTTAP['main_id']]\n",
    "OTTAP['otype_txt'] = [j.rstrip() for j in OTTAP['otype_txt']]\n",
    "OTTAP['origin'] = [j.rstrip() for j in OTTAP['origin']]"
   ]
  },
  {
   "cell_type": "markdown",
   "metadata": {},
   "source": [
    "## Remove different redshifts\n",
    "We remove galaxies where the cross-match shows that the redshift for the galaxies was higher than 0.01 "
   ]
  },
  {
   "cell_type": "code",
   "execution_count": 5,
   "metadata": {
    "ExecuteTime": {
     "end_time": "2021-03-15T12:31:52.833596Z",
     "start_time": "2021-03-15T12:31:52.822921Z"
    }
   },
   "outputs": [],
   "source": [
    "TV['DiffRed'] = TV['rvz_redshift']-TV['z']\n",
    "Badz = where(abs(TV['DiffRed']) > 0.01)\n",
    "TV.remove_rows(Badz)"
   ]
  },
  {
   "cell_type": "markdown",
   "metadata": {},
   "source": [
    "## Separate origin of the bibcode\n",
    "We separate the bibcode to simplify querys"
   ]
  },
  {
   "cell_type": "code",
   "execution_count": 6,
   "metadata": {
    "ExecuteTime": {
     "end_time": "2021-03-15T12:31:52.837707Z",
     "start_time": "2021-03-15T12:31:52.834525Z"
    }
   },
   "outputs": [],
   "source": [
    "def SeparateOrigin(Table):\n",
    "    \"\"\"Separate the origin inside the file\"\"\"\n",
    "    Bibcod = np.empty(len(Table), dtype='S19')\n",
    "    for j, jtex in enumerate(Table):\n",
    "        if 'bibcode' in jtex['origin']:\n",
    "            Bibcod[j] = jtex['origin'].split('bibcode=')[-1]\n",
    "        elif 'from basic data' in jtex['origin']:\n",
    "            Bibcod[j] = 'CDS'\n",
    "        elif 'from id' in jtex['origin']:\n",
    "            Bibcod[j] = 'ID'\n",
    "        elif jtex['origin'] == '':\n",
    "            Bibcod[j] = 'UNK'\n",
    "        else:\n",
    "            raise NameError('No origin??')\n",
    "    Table['otype_bibcode'] = Bibcod\n",
    "    return(Table)"
   ]
  },
  {
   "cell_type": "code",
   "execution_count": 7,
   "metadata": {
    "ExecuteTime": {
     "end_time": "2021-03-15T12:31:53.340362Z",
     "start_time": "2021-03-15T12:31:52.838452Z"
    }
   },
   "outputs": [],
   "source": [
    "OTTAP = SeparateOrigin(OTTAP)"
   ]
  },
  {
   "cell_type": "markdown",
   "metadata": {
    "variables": {
     "len(TV)": "18923"
    }
   },
   "source": [
    "The total number of galaxies in the sample ({{len(TV)}}) have different otypes, here we center in the `main_id`. Then, we join the files to only have the information of the `main_id` for each galaxy."
   ]
  },
  {
   "cell_type": "code",
   "execution_count": 8,
   "metadata": {
    "ExecuteTime": {
     "end_time": "2021-03-15T12:31:53.625563Z",
     "start_time": "2021-03-15T12:31:53.344542Z"
    }
   },
   "outputs": [
    {
     "name": "stderr",
     "output_type": "stream",
     "text": [
      "WARNING: MergeConflictWarning: Cannot merge meta key 'EXTNAME' types <class 'str'> and <class 'str'>, choosing EXTNAME='Joined' [astropy.utils.metadata]\n",
      "WARNING: MergeConflictWarning: Cannot merge meta key 'TCOMM4' types <class 'str'> and <class 'str'>, choosing TCOMM4='Coordinate reference' [astropy.utils.metadata]\n",
      "WARNING: MergeConflictWarning: Cannot merge meta key 'TCOMM5' types <class 'str'> and <class 'str'>, choosing TCOMM5='Object type' [astropy.utils.metadata]\n",
      "WARNING: MergeConflictWarning: Cannot merge meta key 'DATE-HDU' types <class 'str'> and <class 'str'>, choosing DATE-HDU='2020-12-03T14:18:36' [astropy.utils.metadata]\n"
     ]
    },
    {
     "data": {
      "text/plain": [
       "18923"
      ]
     },
     "execution_count": 8,
     "metadata": {},
     "output_type": "execute_result"
    }
   ],
   "source": [
    "AllTypes = join(OTTAP, TV, keys='main_id')\n",
    "len(unique(AllTypes['main_id']))  # Verification on the number of galaxies"
   ]
  },
  {
   "cell_type": "markdown",
   "metadata": {
    "ExecuteTime": {
     "end_time": "2021-01-19T13:46:04.672831Z",
     "start_time": "2021-01-19T13:46:04.665127Z"
    },
    "variables": {
     "sum(AllTypes['otype_bibcode'] == 'UNK')": "3441"
    }
   },
   "source": [
    "Total number of unknown classifications in SMB is {{sum(AllTypes['otype_bibcode'] == 'UNK')}}"
   ]
  },
  {
   "cell_type": "markdown",
   "metadata": {},
   "source": [
    "## Dealing with unknown bibcodes and Seyfert types"
   ]
  },
  {
   "cell_type": "markdown",
   "metadata": {},
   "source": [
    "Some Seyfert sources are not classified and/or the source is unknown. If the source is unknown, but they have a classification in VCV we assume that the classification comes from VCV. "
   ]
  },
  {
   "cell_type": "code",
   "execution_count": 9,
   "metadata": {
    "ExecuteTime": {
     "end_time": "2021-03-15T12:31:53.635027Z",
     "start_time": "2021-03-15T12:31:53.630104Z"
    }
   },
   "outputs": [],
   "source": [
    "UKSyGVCV = np.where(np.logical_and.reduce([AllTypes['otype_bibcode'] == 'UNK',\n",
    "                                           AllTypes['otype_txt_1'] == 'SyG',\n",
    "                                           AllTypes['otype_txt_2'] == 'SyG',\n",
    "                                           AllTypes['Sp'] == 'S']))"
   ]
  },
  {
   "cell_type": "code",
   "execution_count": 10,
   "metadata": {
    "ExecuteTime": {
     "end_time": "2021-03-15T12:31:53.644001Z",
     "start_time": "2021-03-15T12:31:53.635807Z"
    }
   },
   "outputs": [],
   "source": [
    "UKSy1VCV = np.where(np.logical_and.reduce([AllTypes['otype_bibcode'] == 'UNK',\n",
    "                                           AllTypes['otype_txt_1'] == 'Sy1',\n",
    "                                           AllTypes['otype_txt_2'] == 'Sy1',\n",
    "                                           AllTypes['Sp'] == 'S1']))"
   ]
  },
  {
   "cell_type": "code",
   "execution_count": 11,
   "metadata": {
    "ExecuteTime": {
     "end_time": "2021-03-15T12:31:53.651210Z",
     "start_time": "2021-03-15T12:31:53.644873Z"
    }
   },
   "outputs": [],
   "source": [
    "UKSy2VCV = np.where(np.logical_and.reduce([AllTypes['otype_bibcode'] == 'UNK',\n",
    "                                           AllTypes['otype_txt_1'] == 'Sy2',\n",
    "                                           AllTypes['otype_txt_2'] == 'Sy2',\n",
    "                                           AllTypes['Sp'] == 'S2']))"
   ]
  },
  {
   "cell_type": "code",
   "execution_count": 12,
   "metadata": {
    "ExecuteTime": {
     "end_time": "2021-03-15T12:31:53.655640Z",
     "start_time": "2021-03-15T12:31:53.651968Z"
    }
   },
   "outputs": [],
   "source": [
    "AllTypes['otype_bibcode'][UKSyGVCV] = 'VCV'\n",
    "AllTypes['otype_bibcode'][UKSy1VCV] = 'VCV'\n",
    "AllTypes['otype_bibcode'][UKSy2VCV] = 'VCV'"
   ]
  },
  {
   "cell_type": "markdown",
   "metadata": {
    "ExecuteTime": {
     "end_time": "2021-01-19T13:47:41.821952Z",
     "start_time": "2021-01-19T13:47:41.816373Z"
    },
    "variables": {
     "sum(AllTypes['otype_bibcode'] == 'UNK')": "2466"
    }
   },
   "source": [
    "Then, the total number of unknown classifications in SMB is now {{sum(AllTypes['otype_bibcode'] == 'UNK')}}"
   ]
  },
  {
   "cell_type": "markdown",
   "metadata": {},
   "source": [
    "We remove the galaxies with a LINER classification in VCV and unknown source in SMB. "
   ]
  },
  {
   "cell_type": "code",
   "execution_count": 13,
   "metadata": {
    "ExecuteTime": {
     "end_time": "2021-03-15T12:31:53.694903Z",
     "start_time": "2021-03-15T12:31:53.659742Z"
    }
   },
   "outputs": [],
   "source": [
    "GalaxiesToRemove = AllTypes[np.logical_and.reduce([AllTypes['otype_bibcode'] == 'UNK',\n",
    "                                                   AllTypes['Sp'] == 'S3',\n",
    "                                                   AllTypes['otype_txt_1'] == 'Sy2'])]['main_id'].data\n",
    "LocGTR = [np.where(AllTypes['main_id'] == i)[0] for i in GalaxiesToRemove]\n",
    "AllTypes.remove_rows(np.concatenate(LocGTR))"
   ]
  },
  {
   "cell_type": "markdown",
   "metadata": {},
   "source": [
    "If galaxies have an unknown source but are still classified as Seyfert, we send these galaxies from their SMB classification to a Seyfert for further study."
   ]
  },
  {
   "cell_type": "code",
   "execution_count": 14,
   "metadata": {
    "ExecuteTime": {
     "end_time": "2021-03-15T12:31:53.706684Z",
     "start_time": "2021-03-15T12:31:53.695641Z"
    }
   },
   "outputs": [],
   "source": [
    "GalaxiesToStudy = concatenate((AllTypes[np.where(np.logical_and.reduce([AllTypes['otype_bibcode'] == 'UNK',\n",
    "                                                                        AllTypes['otype_txt_1'] == 'Sy2',\n",
    "                                                                        AllTypes['otype_txt_2'] == 'Sy2']))[0]]['main_id'].data,\n",
    "                               AllTypes[np.where(np.logical_and.reduce([AllTypes['otype_bibcode'] == 'UNK',\n",
    "                                                                        AllTypes['otype_txt_1'] == 'Sy1',\n",
    "                                                                        AllTypes['otype_txt_2'] == 'Sy1']))[0]]['main_id'].data))"
   ]
  },
  {
   "cell_type": "code",
   "execution_count": 15,
   "metadata": {
    "ExecuteTime": {
     "end_time": "2021-03-15T12:31:53.709849Z",
     "start_time": "2021-03-15T12:31:53.707549Z"
    }
   },
   "outputs": [
    {
     "data": {
      "text/plain": [
       "masked_array(data=['2MASX J18311470-3336085',\n",
       "                   'EGSIRAC J141515.60+520354.2', 'ESO 323-77',\n",
       "                   'MCG+03-60-031', 'NAME SMM J141741.90+522823.6',\n",
       "                   '[VV2006c] J125310.5-091024', '2E  2294', '2E  2628',\n",
       "                   '2E  3786', '2MASS J00423990+3017514',\n",
       "                   '2MASS J01341936+0146479', '2MASS J10102753+4132389',\n",
       "                   '2MASS J12002696+3317286', '2MASX J05064491-1011357',\n",
       "                   '2MASX J06374318-7538458', '2MASX J07185777+7059209',\n",
       "                   '2MASX J08420557+0759253', '2MASX J09443702-2633554',\n",
       "                   '2MASX J10155660-2002268', '2MASX J14555293-3548223',\n",
       "                   '2MASX J15085291+6814074', '2MASX J16383091-2055246',\n",
       "                   '2MASX J21033788-0455396', '2MASX J22024516-1304538',\n",
       "                   '2dFGRS TGN357Z241', '3C 286',\n",
       "                   '6dFGS gJ043944.9-454043', '6dFGS gJ084628.7-121409',\n",
       "                   '6dFGS gJ101329.7-283126', '7C 151247.00+370154.00',\n",
       "                   'CTS   11', 'HE 0226-4110', 'ICRF J025937.6+423549',\n",
       "                   'ICRF J073352.5+502209', 'ICRF J081100.6+571412',\n",
       "                   'ICRF J100646.4-215920', 'ICRF J110153.4+624150',\n",
       "                   'ICRF J114855.8-040409', 'ICRF J135704.4+191907',\n",
       "                   'ICRF J170009.2+683006', 'ICRF J173548.0+361645',\n",
       "                   'ICRF J200755.1-443444', 'IRAS 10295-1831',\n",
       "                   'LEDA 2292300', 'MCG-01-59-027', 'NGC  5033',\n",
       "                   'UGC 10683', '[VV2006c] J031146.1-550700',\n",
       "                   '[VV2010c] J165435.3+620057'],\n",
       "             mask=False,\n",
       "       fill_value='N/A',\n",
       "            dtype='<U37')"
      ]
     },
     "execution_count": 15,
     "metadata": {},
     "output_type": "execute_result"
    }
   ],
   "source": [
    "GalaxiesToStudy"
   ]
  },
  {
   "cell_type": "markdown",
   "metadata": {},
   "source": [
    "We re-classify some galaxies from Sy1 or Sy2 to SyG , to study later on. Then, we remove galaxies that are not useful. And finally, we create a flag for the type of emission"
   ]
  },
  {
   "cell_type": "code",
   "execution_count": 16,
   "metadata": {
    "ExecuteTime": {
     "end_time": "2021-03-15T12:31:53.735727Z",
     "start_time": "2021-03-15T12:31:53.710581Z"
    }
   },
   "outputs": [],
   "source": [
    "Reclass = [np.where(TV['main_id'] == gal)[0][0] for gal in GalaxiesToStudy]\n",
    "TV['otype_txt'][Reclass] = 'SyG'\n",
    "\n",
    "LocGTR_TV = [np.where(TV['main_id'] == i)[0] for i in GalaxiesToRemove]\n",
    "\n",
    "TV.remove_rows(np.concatenate(LocGTR_TV))"
   ]
  },
  {
   "cell_type": "markdown",
   "metadata": {},
   "source": [
    "From the rest of this work we are going to assume that S1n are also S1 galaxies. Only three galaxies classified as S1n in VCV are classified as Sy2 in SIMBAD. We are going to include this three galaxies in the unclassified sample."
   ]
  },
  {
   "cell_type": "code",
   "execution_count": 17,
   "metadata": {
    "ExecuteTime": {
     "end_time": "2021-03-15T12:31:58.388939Z",
     "start_time": "2021-03-15T12:31:58.380178Z"
    }
   },
   "outputs": [
    {
     "name": "stdout",
     "output_type": "stream",
     "text": [
      "        main_id        \n",
      "-----------------------\n",
      "2MASX J10194946+3322041\n",
      "2MASS J09455439+4238399\n",
      "2MASX J23383708-0028105\n"
     ]
    }
   ],
   "source": [
    "Reclass2 = np.where(np.logical_and(TV['Sp'] == 'S1n', TV['otype_txt'] == 'Sy2'))\n",
    "print(TV[Reclass2]['main_id'])\n",
    "TV['Sp'][Reclass2] = 'S'\n",
    "Reclass3 = np.where(TV['Sp'] == 'S1n')\n",
    "TV['Sp'][Reclass3] = 'S1'"
   ]
  },
  {
   "cell_type": "markdown",
   "metadata": {},
   "source": [
    "We additionally save the information of the galaxies that where reclassified as S1 from S1n for further analysis."
   ]
  },
  {
   "cell_type": "code",
   "execution_count": 21,
   "metadata": {
    "ExecuteTime": {
     "end_time": "2021-03-15T12:34:02.588945Z",
     "start_time": "2021-03-15T12:34:02.570421Z"
    }
   },
   "outputs": [],
   "source": [
    "TV[Reclass3]['main_id','otype_txt'].write('NLS1_reclass.txt', format='ascii')"
   ]
  },
  {
   "cell_type": "markdown",
   "metadata": {
    "variables": {
     "len(TV)": "18921"
    }
   },
   "source": [
    "## Create a new VCV SMB file\n",
    "Here we organize and save the data to be used later. We get in total {{len(TV)}} galaxies in the sample"
   ]
  },
  {
   "cell_type": "code",
   "execution_count": 18,
   "metadata": {
    "ExecuteTime": {
     "end_time": "2021-02-24T15:57:18.766157Z",
     "start_time": "2021-02-24T15:57:18.340907Z"
    }
   },
   "outputs": [
    {
     "name": "stderr",
     "output_type": "stream",
     "text": [
      "WARNING: AstropyDeprecationWarning: VCV_TAP_otype.txt already exists. Automatically overwriting ASCII files is deprecated. Use the argument 'overwrite=True' in the future. [astropy.io.ascii.ui]\n"
     ]
    }
   ],
   "source": [
    "# We named TAP as these come from TAP Simbad\n",
    "TV.write('VCV_TAP_otype.txt', format='ascii')"
   ]
  },
  {
   "cell_type": "markdown",
   "metadata": {},
   "source": [
    "## Final numbers from the otypes\n",
    "##### Part TABLE 3\n",
    "We compute the final numbers about where the classifications come from. We take into account the reclassification that we use before for specific galaxies."
   ]
  },
  {
   "cell_type": "code",
   "execution_count": 19,
   "metadata": {
    "ExecuteTime": {
     "end_time": "2021-02-24T15:57:18.783502Z",
     "start_time": "2021-02-24T15:57:18.769079Z"
    }
   },
   "outputs": [],
   "source": [
    "ReclassS1 = np.logical_and.reduce([AllTypes['otype_bibcode'] == 'UNK',\n",
    "                                   AllTypes['otype_txt_1'] == 'Sy1',\n",
    "                                   AllTypes['otype_txt_2'] == 'Sy1'])\n",
    "\n",
    "ReclassS2 = np.logical_and.reduce([AllTypes['otype_bibcode'] == 'UNK',\n",
    "                                   AllTypes['otype_txt_1'] == 'Sy2',\n",
    "                                   AllTypes['otype_txt_2'] == 'Sy2'])"
   ]
  },
  {
   "cell_type": "markdown",
   "metadata": {},
   "source": [
    "Data from Seyfert 1 galaxies comes predominantly (95%) from 5 works "
   ]
  },
  {
   "cell_type": "code",
   "execution_count": 20,
   "metadata": {
    "ExecuteTime": {
     "end_time": "2021-02-24T15:57:18.815693Z",
     "start_time": "2021-02-24T15:57:18.784922Z"
    }
   },
   "outputs": [
    {
     "name": "stdout",
     "output_type": "stream",
     "text": [
      "The total number of Seyfert 1 is: 13760\n"
     ]
    }
   ],
   "source": [
    "print('The total number of Seyfert 1 is:', \n",
    "      len(AllTypes[np.logical_and(AllTypes['otype_txt_1'] == 'Sy1', AllTypes['otype_txt_2'] == 'Sy1')])-sum(ReclassS1))"
   ]
  },
  {
   "cell_type": "markdown",
   "metadata": {},
   "source": [
    "Here we show the bibcode for the first 5 contributions to the Seyfert 1 sample"
   ]
  },
  {
   "cell_type": "code",
   "execution_count": 21,
   "metadata": {
    "ExecuteTime": {
     "end_time": "2021-02-24T15:57:19.117022Z",
     "start_time": "2021-02-24T15:57:18.816515Z"
    }
   },
   "outputs": [
    {
     "data": {
      "text/plain": [
       "otype_bibcode\n",
       "b'CDS'                    5566\n",
       "b'2014ApJ...788...45T'    2784\n",
       "b'2015ApJS..219....1O'    2001\n",
       "b'2006ApJS..166..128Z'    1783\n",
       "b'2017ApJS..229...39R'     988\n",
       "dtype: int64"
      ]
     },
     "execution_count": 21,
     "metadata": {},
     "output_type": "execute_result"
    }
   ],
   "source": [
    "S1Otyp = np.logical_xor(np.logical_and(AllTypes['otype_txt_1'] == 'Sy1', AllTypes['otype_txt_2'] == 'Sy1'), ReclassS1)\n",
    "AllTypes[S1Otyp].to_pandas().groupby('otype_bibcode').size().sort_values(ascending=False).head(5)"
   ]
  },
  {
   "cell_type": "code",
   "execution_count": 22,
   "metadata": {
    "ExecuteTime": {
     "end_time": "2021-02-24T15:57:19.185411Z",
     "start_time": "2021-02-24T15:57:19.118108Z"
    }
   },
   "outputs": [
    {
     "data": {
      "text/plain": [
       "0.9536337209302326"
      ]
     },
     "execution_count": 22,
     "metadata": {},
     "output_type": "execute_result"
    }
   ],
   "source": [
    "## Fractional contribution from those 5 works\n",
    "(sum(AllTypes[S1Otyp].to_pandas().groupby('otype_bibcode').size().sort_values(ascending=False).head(5))) / \\\n",
    "    (len(AllTypes[np.logical_and(AllTypes['otype_txt_1'] == 'Sy1', AllTypes['otype_txt_2'] == 'Sy1')])-sum(ReclassS1))"
   ]
  },
  {
   "cell_type": "markdown",
   "metadata": {},
   "source": [
    "Data from Seyfert 2 galaxies comes predominantly (97%) from 3 works"
   ]
  },
  {
   "cell_type": "code",
   "execution_count": 23,
   "metadata": {
    "ExecuteTime": {
     "end_time": "2021-02-24T15:57:19.202088Z",
     "start_time": "2021-02-24T15:57:19.186236Z"
    }
   },
   "outputs": [
    {
     "name": "stdout",
     "output_type": "stream",
     "text": [
      "The total number of Seyfert 2 is: 5040\n"
     ]
    }
   ],
   "source": [
    "print('The total number of Seyfert 2 is:', \n",
    "      len(AllTypes[np.logical_and(AllTypes['otype_txt_1'] == 'Sy2', AllTypes['otype_txt_2'] == 'Sy2')])-sum(ReclassS2))"
   ]
  },
  {
   "cell_type": "markdown",
   "metadata": {},
   "source": [
    "Here we show the bibcode for the first 3 contributions to the Seyfert 2 sample"
   ]
  },
  {
   "cell_type": "code",
   "execution_count": 24,
   "metadata": {
    "ExecuteTime": {
     "end_time": "2021-02-24T15:57:19.228745Z",
     "start_time": "2021-02-24T15:57:19.202935Z"
    }
   },
   "outputs": [
    {
     "data": {
      "text/plain": [
       "otype_bibcode\n",
       "b'CDS'                    2845\n",
       "b'2014ApJ...788...45T'    1239\n",
       "b'VCV'                     787\n",
       "dtype: int64"
      ]
     },
     "execution_count": 24,
     "metadata": {},
     "output_type": "execute_result"
    }
   ],
   "source": [
    "S2Otyp = np.logical_xor(np.logical_and(AllTypes['otype_txt_1'] == 'Sy2', AllTypes['otype_txt_2'] == 'Sy2'), ReclassS2)\n",
    "AllTypes[S2Otyp].to_pandas().groupby('otype_bibcode').size().sort_values(ascending=False).head(3)"
   ]
  },
  {
   "cell_type": "code",
   "execution_count": 25,
   "metadata": {
    "ExecuteTime": {
     "end_time": "2021-02-24T15:57:19.267221Z",
     "start_time": "2021-02-24T15:57:19.229604Z"
    }
   },
   "outputs": [
    {
     "data": {
      "text/plain": [
       "0.966468253968254"
      ]
     },
     "execution_count": 25,
     "metadata": {},
     "output_type": "execute_result"
    }
   ],
   "source": [
    "## Fractional contribution from those 3 works\n",
    "(sum(AllTypes[S2Otyp].to_pandas().groupby('otype_bibcode').size().sort_values(ascending=False).head(3))) / \\\n",
    "    (len(AllTypes[np.logical_and(AllTypes['otype_txt_1'] == 'Sy2', AllTypes['otype_txt_2'] == 'Sy2')])-sum(ReclassS2))"
   ]
  },
  {
   "cell_type": "markdown",
   "metadata": {},
   "source": [
    "Finally, data from the unclassified Seyfert galaxies comes predominantly (92%) from 3 works"
   ]
  },
  {
   "cell_type": "code",
   "execution_count": 26,
   "metadata": {
    "ExecuteTime": {
     "end_time": "2021-02-24T15:57:19.275110Z",
     "start_time": "2021-02-24T15:57:19.268080Z"
    }
   },
   "outputs": [
    {
     "name": "stdout",
     "output_type": "stream",
     "text": [
      "The total number of Seyfert 2 is: 121\n"
     ]
    }
   ],
   "source": [
    "print('The total number of Seyfert 2 is:', \n",
    "      len(AllTypes[np.logical_and(AllTypes['otype_txt_1'] == 'SyG', AllTypes['otype_txt_2'] == 'SyG')])+sum(np.logical_or(ReclassS1, ReclassS2)))"
   ]
  },
  {
   "cell_type": "markdown",
   "metadata": {
    "ExecuteTime": {
     "end_time": "2021-01-19T14:00:11.979944Z",
     "start_time": "2021-01-19T14:00:11.971483Z"
    }
   },
   "source": [
    "We show the bibcode for the first 3 contributions to the unclassified Seyfert sample"
   ]
  },
  {
   "cell_type": "code",
   "execution_count": 27,
   "metadata": {
    "ExecuteTime": {
     "end_time": "2021-02-24T15:57:19.289496Z",
     "start_time": "2021-02-24T15:57:19.275810Z"
    }
   },
   "outputs": [
    {
     "data": {
      "text/plain": [
       "otype_bibcode\n",
       "b'CDS'    57\n",
       "b'UNK'    49\n",
       "b'VCV'     5\n",
       "dtype: int64"
      ]
     },
     "execution_count": 27,
     "metadata": {},
     "output_type": "execute_result"
    }
   ],
   "source": [
    "SGOtyp = np.logical_xor(np.logical_and(AllTypes['otype_txt_1'] == 'SyG', AllTypes['otype_txt_2'] == 'SyG'), np.logical_or(ReclassS1, ReclassS2))\n",
    "AllTypes[SGOtyp].to_pandas().groupby('otype_bibcode').size().sort_values(ascending=False).head(3)"
   ]
  },
  {
   "cell_type": "code",
   "execution_count": 28,
   "metadata": {
    "ExecuteTime": {
     "end_time": "2021-02-24T15:57:19.307584Z",
     "start_time": "2021-02-24T15:57:19.290288Z"
    }
   },
   "outputs": [
    {
     "data": {
      "text/plain": [
       "0.9173553719008265"
      ]
     },
     "execution_count": 28,
     "metadata": {},
     "output_type": "execute_result"
    }
   ],
   "source": [
    "## Fractional contribution from those 3 works\n",
    "(sum(AllTypes[SGOtyp].to_pandas().groupby('otype_bibcode').size().sort_values(ascending=False).head(3))) / \\\n",
    "    (len(AllTypes[np.logical_and(AllTypes['otype_txt_1'] == 'SyG',\n",
    "                                 AllTypes['otype_txt_2'] == 'SyG')])+sum(np.logical_or(ReclassS1, ReclassS2)))"
   ]
  },
  {
   "cell_type": "markdown",
   "metadata": {},
   "source": [
    "We notice that almost 45% of the classifications come from the CDS basic data"
   ]
  },
  {
   "cell_type": "code",
   "execution_count": 29,
   "metadata": {
    "ExecuteTime": {
     "end_time": "2021-02-24T15:57:19.381041Z",
     "start_time": "2021-02-24T15:57:19.308699Z"
    }
   },
   "outputs": [
    {
     "data": {
      "text/plain": [
       "0.44754505575815234"
      ]
     },
     "execution_count": 29,
     "metadata": {},
     "output_type": "execute_result"
    }
   ],
   "source": [
    "(sum(AllTypes[S1Otyp]['otype_bibcode'] == 'CDS')+sum(AllTypes[S2Otyp]['otype_bibcode'] == 'CDS')+sum(AllTypes[SGOtyp]['otype_bibcode'] == 'CDS'))/len(AllTypes[np.logical_or.reduce([np.logical_and(AllTypes['otype_txt_1'] == 'Sy2', AllTypes['otype_txt_2'] == 'Sy2'),\n",
    "                                                                                                                                                                                     np.logical_and(\n",
    "                                                                                                                                                                                         AllTypes['otype_txt_1'] == 'Sy1', AllTypes['otype_txt_2'] == 'Sy1'),\n",
    "                                                                                                                                                                                     np.logical_and(AllTypes['otype_txt_1'] == 'SyG', AllTypes['otype_txt_2'] == 'SyG')])])"
   ]
  },
  {
   "cell_type": "markdown",
   "metadata": {},
   "source": [
    "##### Notebook info"
   ]
  },
  {
   "cell_type": "code",
   "execution_count": 30,
   "metadata": {
    "ExecuteTime": {
     "end_time": "2021-02-24T15:57:19.432677Z",
     "start_time": "2021-02-24T15:57:19.381987Z"
    }
   },
   "outputs": [
    {
     "name": "stdout",
     "output_type": "stream",
     "text": [
      "Author: Andres Ramos\n",
      "\n",
      "Python implementation: CPython\n",
      "Python version       : 3.8.3\n",
      "IPython version      : 7.16.1\n",
      "\n",
      "Compiler    : GCC 7.3.0\n",
      "OS          : Linux\n",
      "Release     : 3.10.0-1160.el7.x86_64\n",
      "Machine     : x86_64\n",
      "Processor   : x86_64\n",
      "CPU cores   : 8\n",
      "Architecture: 64bit\n",
      "\n",
      "Specific Python packages\n",
      "astropy: 4.2\n",
      "pandas : 1.2.0\n",
      "\n",
      "re        : 2.2.1\n",
      "matplotlib: 3.2.2\n",
      "json      : 2.0.9\n",
      "autopep8  : 1.5.4\n",
      "numpy     : 1.19.5\n",
      "sys       : 3.8.3 (default, Jul  2 2020, 16:21:59) \n",
      "[GCC 7.3.0]\n",
      "logging   : 0.5.1.2\n",
      "\n",
      "Watermark: 2.1.0\n",
      "\n"
     ]
    }
   ],
   "source": [
    "%load_ext watermark\n",
    "%watermark -a \"Andres Ramos\" -d -v -m\n",
    "print('Specific Python packages')\n",
    "%watermark -iv -w --packages astropy,pandas"
   ]
  },
  {
   "cell_type": "code",
   "execution_count": null,
   "metadata": {},
   "outputs": [],
   "source": []
  }
 ],
 "metadata": {
  "hide_input": false,
  "kernelspec": {
   "display_name": "Python 3",
   "language": "python",
   "name": "python3"
  },
  "language_info": {
   "codemirror_mode": {
    "name": "ipython",
    "version": 3
   },
   "file_extension": ".py",
   "mimetype": "text/x-python",
   "name": "python",
   "nbconvert_exporter": "python",
   "pygments_lexer": "ipython3",
   "version": "3.8.3"
  },
  "toc": {
   "base_numbering": "2",
   "nav_menu": {},
   "number_sections": true,
   "sideBar": true,
   "skip_h1_title": false,
   "title_cell": "Table of Contents",
   "title_sidebar": "Contents",
   "toc_cell": false,
   "toc_position": {},
   "toc_section_display": true,
   "toc_window_display": false
  },
  "varInspector": {
   "cols": {
    "lenName": 16,
    "lenType": 16,
    "lenVar": 40
   },
   "kernels_config": {
    "python": {
     "delete_cmd_postfix": "",
     "delete_cmd_prefix": "del ",
     "library": "var_list.py",
     "varRefreshCmd": "print(var_dic_list())"
    },
    "r": {
     "delete_cmd_postfix": ") ",
     "delete_cmd_prefix": "rm(",
     "library": "var_list.r",
     "varRefreshCmd": "cat(var_dic_list()) "
    }
   },
   "types_to_exclude": [
    "module",
    "function",
    "builtin_function_or_method",
    "instance",
    "_Feature"
   ],
   "window_display": false
  }
 },
 "nbformat": 4,
 "nbformat_minor": 4
}
