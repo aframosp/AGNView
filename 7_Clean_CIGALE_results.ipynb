{
 "cells": [
  {
   "cell_type": "markdown",
   "metadata": {},
   "source": [
    "# Clean CIGALE results\n",
    "Here we join the runs from CIGALE of the three different redsfhit ranges that we use (Low, Intermediate and High). We also present the first figures of this work. First, we import the important packages"
   ]
  },
  {
   "cell_type": "code",
   "execution_count": 1,
   "metadata": {
    "ExecuteTime": {
     "end_time": "2021-01-21T17:39:07.538379Z",
     "start_time": "2021-01-21T17:39:07.181834Z"
    }
   },
   "outputs": [
    {
     "name": "stdout",
     "output_type": "stream",
     "text": [
      "Using matplotlib backend: Qt5Agg\n",
      "Populating the interactive namespace from numpy and matplotlib\n"
     ]
    }
   ],
   "source": [
    "%pylab"
   ]
  },
  {
   "cell_type": "code",
   "execution_count": 2,
   "metadata": {
    "ExecuteTime": {
     "end_time": "2021-01-21T17:39:09.274836Z",
     "start_time": "2021-01-21T17:39:07.539526Z"
    }
   },
   "outputs": [],
   "source": [
    "from astropy.table import Table, join, vstack\n",
    "from scipy.stats import binned_statistic"
   ]
  },
  {
   "cell_type": "code",
   "execution_count": 3,
   "metadata": {
    "ExecuteTime": {
     "end_time": "2021-01-21T17:39:12.476608Z",
     "start_time": "2021-01-21T17:39:12.472855Z"
    }
   },
   "outputs": [],
   "source": [
    "# User shortcuts\n",
    "def Perc75(array):\n",
    "    return(np.nanpercentile(array, 75))\n",
    "\n",
    "\n",
    "def Perc25(array):\n",
    "    return(np.nanpercentile(array, 25))"
   ]
  },
  {
   "cell_type": "markdown",
   "metadata": {},
   "source": [
    "## Joining CIGALE files"
   ]
  },
  {
   "cell_type": "markdown",
   "metadata": {},
   "source": [
    "We read the results from the models we are going to use "
   ]
  },
  {
   "cell_type": "code",
   "execution_count": 4,
   "metadata": {
    "ExecuteTime": {
     "end_time": "2021-01-21T17:39:14.075355Z",
     "start_time": "2021-01-21T17:39:12.523001Z"
    }
   },
   "outputs": [],
   "source": [
    "# SKIRTOR models\n",
    "ModelSL = Table.read('CIGALEOutputs/results_SKLz_3Dic.fits', format='fits')\n",
    "ModelS0L = Table.read('CIGALEOutputs/results_SKLz0_3Dic.fits', format='fits')\n",
    "\n",
    "ModelSI = Table.read('CIGALEOutputs/results_SKIz_3Dic.fits', format='fits')\n",
    "ModelS0I = Table.read('CIGALEOutputs/results_SKIz0_3Dic.fits', format='fits')\n",
    "\n",
    "ModelSH = Table.read('CIGALEOutputs/results_SKHz_3Dic.fits', format='fits')\n",
    "ModelS0H = Table.read('CIGALEOutputs/results_SKHz0_3Dic.fits', format='fits')\n",
    "\n",
    "# Fritz models\n",
    "ModelFL = Table.read('CIGALEOutputs/results_FrLz_3Dic.fits', format='fits')\n",
    "ModelFI = Table.read('CIGALEOutputs/results_FrIz_3Dic.fits', format='fits')\n",
    "ModelFH = Table.read('CIGALEOutputs/results_FrHz_3Dic.fits', format='fits')\n",
    "\n",
    "ModelF0 = Table.read('CIGALEOutputs/results_Fr0_3Dic.fits', format='fits')\n",
    "\n",
    "# Model Two-angles\n",
    "ModelS37 = Table.read('CIGALEOutputs/results_SK3070_3Dic.fits', format='fits')\n",
    "ModelF37 = Table.read('CIGALEOutputs/results_Fr3070_3Dic.fits', format='fits')"
   ]
  },
  {
   "cell_type": "markdown",
   "metadata": {},
   "source": [
    "Then, we stack the tables that where separated for simplicity, and reorganize the list of galaxies so we can compare them with the runs of all the galaxies. Keep in mind that Models_SK0 and Models_Fr0 are practically the same models with some numerical differences (We ran the two different models for consistency and tested that the results are the same)."
   ]
  },
  {
   "cell_type": "code",
   "execution_count": 5,
   "metadata": {
    "ExecuteTime": {
     "end_time": "2021-01-21T17:39:18.321574Z",
     "start_time": "2021-01-21T17:39:14.492117Z"
    }
   },
   "outputs": [],
   "source": [
    "Models_SK  = vstack([ModelSL, ModelSI, ModelSH])\n",
    "Models_SK0 = vstack([ModelS0L, ModelS0I, ModelS0H])\n",
    "Models_Fr  = vstack([ModelFL, ModelFI, ModelFH])\n",
    "Models_Fr0 = ModelF0[np.concatenate([where(ModelF0['id'] == oid)[0] for oid in Models_Fr['id']])]\n",
    "Models_S37 = ModelS37[np.concatenate([where(ModelS37['id'] == oid)[0] for oid in Models_SK['id']])]\n",
    "Models_F37 = ModelF37[np.concatenate([where(ModelF37['id'] == oid)[0] for oid in Models_Fr['id']])]"
   ]
  },
  {
   "cell_type": "markdown",
   "metadata": {},
   "source": [
    "## Checking $\\chi_{\\rm{red}}^{2}$ distributions \n",
    "Here we calculate the average (percentiles) values of the different $\\chi_{\\rm{red}}^{2}$ in the No-AGN and AGN models. \n",
    "First, with the Fritz models."
   ]
  },
  {
   "cell_type": "code",
   "execution_count": 6,
   "metadata": {
    "ExecuteTime": {
     "end_time": "2021-01-21T17:39:18.963656Z",
     "start_time": "2021-01-21T17:39:18.958292Z"
    }
   },
   "outputs": [
    {
     "name": "stdout",
     "output_type": "stream",
     "text": [
      "75%:  0.9125003960829409\n",
      "50%:  0.582587542930501\n",
      "25%:  0.2152682679613906\n"
     ]
    }
   ],
   "source": [
    "print('75%: ', Perc75(log10(Models_SK0['best.reduced_chi_square']/Models_SK['best.reduced_chi_square'])))\n",
    "print('50%: ', nanmedian(log10(Models_SK0['best.reduced_chi_square']/Models_SK['best.reduced_chi_square'])))\n",
    "print('25%: ', Perc25(log10(Models_SK0['best.reduced_chi_square']/Models_SK['best.reduced_chi_square'])))"
   ]
  },
  {
   "cell_type": "markdown",
   "metadata": {},
   "source": [
    "Then, with the SKIRTOR models"
   ]
  },
  {
   "cell_type": "code",
   "execution_count": 7,
   "metadata": {
    "ExecuteTime": {
     "end_time": "2021-01-21T17:39:19.600749Z",
     "start_time": "2021-01-21T17:39:19.596037Z"
    }
   },
   "outputs": [
    {
     "name": "stdout",
     "output_type": "stream",
     "text": [
      "75%:  0.8667417063156352\n",
      "50%:  0.5597975132555366\n",
      "25%:  0.20742111197427698\n"
     ]
    }
   ],
   "source": [
    "print('75%: ', Perc75(log10(Models_Fr0['best.reduced_chi_square']/Models_Fr['best.reduced_chi_square'])))\n",
    "print('50%: ', nanmedian(log10(Models_Fr0['best.reduced_chi_square']/Models_Fr['best.reduced_chi_square'])))\n",
    "print('25%: ', Perc25(log10(Models_Fr0['best.reduced_chi_square']/Models_Fr['best.reduced_chi_square'])))"
   ]
  },
  {
   "cell_type": "markdown",
   "metadata": {},
   "source": [
    "##### FIGURE 2\n",
    "\n",
    "We create an image between $\\chi_{\\rm{red}}^{2}$ and the $f_{\\rm{AGN}}$ to present how important it is to include the AGN in the models. With this figure, we can asses for which galaxies is good to assume a no-AGN model ($f_{\\rm{AGN}}=0$). We also present in a separate panel the  $\\chi_{\\rm{red}}^{2}$  distribution. \n",
    "\n",
    "We calculate the running medians of the trends between $\\chi_{\\rm{red}}^{2}$ and the $f_{\\rm{AGN}}$."
   ]
  },
  {
   "cell_type": "code",
   "execution_count": 8,
   "metadata": {
    "ExecuteTime": {
     "end_time": "2021-01-21T17:39:20.266556Z",
     "start_time": "2021-01-21T17:39:20.238007Z"
    }
   },
   "outputs": [],
   "source": [
    "bin_means, bin_edges, binnumber = binned_statistic(Models_SK['bayes.agn.fracAGN'],\n",
    "                                                   Models_SK['best.reduced_chi_square'], statistic=nanmedian, bins=np.linspace(0.1, 0.9, 17))\n",
    "bin_means2, bin_edges2, binnumber2 = binned_statistic(Models_SK['bayes.agn.fracAGN'],\n",
    "                                                      Models_SK0['best.reduced_chi_square'], statistic=nanmedian, bins=np.linspace(0.1, 0.9, 17))\n",
    "bin_means3, bin_edges3, binnumber3 = binned_statistic(Models_Fr['bayes.agn.fracAGN'],\n",
    "                                                      Models_Fr['best.reduced_chi_square'], statistic=nanmedian, bins=np.linspace(0.1, 0.9, 17))\n",
    "bin_means4, bin_edges4, binnumber4 = binned_statistic(Models_Fr['bayes.agn.fracAGN'],\n",
    "                                                      Models_Fr0['best.reduced_chi_square'], statistic=nanmedian, bins=np.linspace(0.1, 0.9, 17))\n",
    "binsChiS = np.linspace(-2.0, 2.5, 46)  # Assuming Chisquare bins in this ranges"
   ]
  },
  {
   "cell_type": "markdown",
   "metadata": {},
   "source": [
    "Here the values for Fritz and SKIRTOR No-AGN models change due to a different fAGN in the models. \n",
    "\n",
    "Then, we plot the FIGURE 2"
   ]
  },
  {
   "cell_type": "code",
   "execution_count": 16,
   "metadata": {
    "ExecuteTime": {
     "end_time": "2021-01-20T14:14:38.350873Z",
     "start_time": "2021-01-20T14:14:34.893608Z"
    }
   },
   "outputs": [],
   "source": [
    "# with plt.style.context('seaborn-talk'):\n",
    "with plt.style.context('seaborn-paper'):\n",
    "    plt.rcParams.update({'font.size': 12})\n",
    "    plt.rcParams.update({'axes.labelsize': 12})\n",
    "    plt.rcParams.update({'legend.fontsize': 10})\n",
    "    plt.rcParams.update({'ytick.labelsize': 10})\n",
    "    plt.rcParams.update({'xtick.labelsize': 10})\n",
    "    fig, (ax1, ax2) = plt.subplots(2, 1, figsize=(6.75, 9.44),\n",
    "                                   sharex=True, gridspec_kw={'height_ratios': [1, 3]})\n",
    "    ax2.scatter(log10(Models_SK['best.reduced_chi_square']),\n",
    "                Models_SK['bayes.agn.fracAGN'], alpha=0.02)\n",
    "    ax2.scatter(log10(Models_SK0['best.reduced_chi_square']),\n",
    "                Models_SK['bayes.agn.fracAGN'], alpha=0.02)\n",
    "    ax2.scatter(log10(Models_Fr['best.reduced_chi_square']),\n",
    "                Models_Fr['bayes.agn.fracAGN'], alpha=0.02)\n",
    "    ax2.scatter(log10(Models_Fr0['best.reduced_chi_square']),\n",
    "                Models_Fr['bayes.agn.fracAGN'], alpha=0.02)\n",
    "    ax2.vlines(log10(bin_means), bin_edges[:-1], bin_edges[1:], colors='C0', lw=3,\n",
    "               label='SKIRTOR')\n",
    "    ax2.vlines(log10(bin_means2), bin_edges2[:-1], bin_edges2[1:], colors='C1', lw=3,\n",
    "               label='SKIRTOR No-AGN')\n",
    "    ax2.vlines(log10(bin_means3), bin_edges3[:-1], bin_edges3[1:], colors='C2', lw=3,\n",
    "               label='Fritz')\n",
    "    ax2.vlines(log10(bin_means4), bin_edges4[:-1], bin_edges4[1:], colors='C3', lw=3,\n",
    "               label='Fritz No-AGN')\n",
    "    ax2.axvline(x=0.5, ls='--', color='gray')\n",
    "    ax2.axvline(x=-0.5, ls='--', color='gray')\n",
    "    ax2.set_xlabel(r'$\\log(\\chi^2_{\\rm{red}})$')\n",
    "    ax2.set_ylabel('AGN Fraction')\n",
    "    ax2.legend(loc='best')\n",
    "    ax1.set_xlabel('AGN Fraction')\n",
    "    ax1.hist(log10(Models_SK['best.reduced_chi_square']),\n",
    "             histtype='step', bins=binsChiS, label='SKIRTOR', lw=2)\n",
    "    ax1.hist(log10(Models_SK0['best.reduced_chi_square']),\n",
    "             histtype='step', bins=binsChiS, label='SKIRTOR No-AGN', lw=2)\n",
    "    ax1.hist(log10(Models_Fr['best.reduced_chi_square']),\n",
    "             histtype='step', bins=binsChiS, label='Fritz', lw=2)\n",
    "    ax1.hist(log10(Models_Fr0['best.reduced_chi_square']),\n",
    "             histtype='step', bins=binsChiS, label='Fritz No-AGN', lw=2)\n",
    "    ax1.axvline(x=0.5, ls='--', color='gray')\n",
    "    ax1.axvline(x=-0.5, ls='--', color='gray')\n",
    "    ax1.set_ylabel('# Galaxies')\n",
    "    ax1.set_xlim(-2, 2)\n",
    "    ax2.set_ylim(0.08, 0.92)\n",
    "    subplots_adjust(wspace=0, hspace=0)\n",
    "    plt.savefig('Figures/F2.pdf',dpi=300,bbox_inches = 'tight') # For Paper\n",
    "#     plt.savefig('Talk_Figures/F2.png',dpi=300,bbox_inches = 'tight') # For Presentation"
   ]
  },
  {
   "cell_type": "markdown",
   "metadata": {},
   "source": [
    "## Cleaning\n",
    "We remove all galaxies with:\n",
    "- Bad fittings: $\\chi_{\\rm{red}}^{2}$ higher than $10^{0.5}$ (Underestimated) and lower than $10^{-0.5}$ (Overestimated).\n",
    "- Galaxies where a no-AGN is probable\n",
    "- Galaxies with a bad constrained SFR\n",
    "\n",
    "We additionally print the median values for the simple Fritz and SKIRTOR models."
   ]
  },
  {
   "cell_type": "code",
   "execution_count": 9,
   "metadata": {
    "ExecuteTime": {
     "end_time": "2021-01-21T17:39:24.481078Z",
     "start_time": "2021-01-21T17:39:24.370957Z"
    }
   },
   "outputs": [
    {
     "name": "stdout",
     "output_type": "stream",
     "text": [
      "0.9491982106048291 0.9814227689290372\n",
      "0.5996758469826187 0.6266786960476942\n",
      "1.5358495537730237 1.572620314503632\n"
     ]
    }
   ],
   "source": [
    "SClean = Models_SK[np.logical_and.reduce([Models_SK['best.reduced_chi_square'] <= 10**0.5,\n",
    "                                          Models_SK['best.reduced_chi_square'] >= 10**-0.5,\n",
    "                                          Models_SK['best.reduced_chi_square'] < Models_SK0['best.reduced_chi_square'],\n",
    "                                          (Models_SK['bayes.sfh.sfr_err']/(Models_SK['bayes.sfh.sfr']*log(10))) <= 1])]\n",
    "FClean = Models_Fr[np.logical_and.reduce([Models_Fr['best.reduced_chi_square'] <= 10**0.5,\n",
    "                                          Models_Fr['best.reduced_chi_square'] >= 10**-0.5,\n",
    "                                          Models_Fr['best.reduced_chi_square'] < Models_Fr0['best.reduced_chi_square'],\n",
    "                                          (Models_Fr['bayes.sfh.sfr_err']/(Models_Fr['bayes.sfh.sfr']*log(10))) <= 1])]\n",
    "SClean37 = Models_S37[np.logical_and.reduce([Models_S37['best.reduced_chi_square'] <= 10**0.5,\n",
    "                                             Models_S37['best.reduced_chi_square'] >= 10**-0.5,\n",
    "                                             Models_S37['best.reduced_chi_square'] < Models_SK0['best.reduced_chi_square'],\n",
    "                                             (Models_S37['bayes.sfh.sfr_err']/(Models_S37['bayes.sfh.sfr']*log(10))) <= 1])]\n",
    "FClean37 = Models_F37[np.logical_and.reduce([Models_F37['best.reduced_chi_square'] <= 10**0.5,\n",
    "                                             Models_F37['best.reduced_chi_square'] >= 10**-0.5,\n",
    "                                             Models_F37['best.reduced_chi_square'] < Models_Fr0['best.reduced_chi_square'],\n",
    "                                             (Models_F37['bayes.sfh.sfr_err']/(Models_F37['bayes.sfh.sfr']*log(10))) <= 1])]\n",
    "\n",
    "print(nanmedian(SClean['best.reduced_chi_square']),\n",
    "      nanmedian(FClean['best.reduced_chi_square']))\n",
    "print(Perc25(SClean['best.reduced_chi_square']),\n",
    "      Perc25(FClean['best.reduced_chi_square']))\n",
    "print(Perc75(SClean['best.reduced_chi_square']),\n",
    "      Perc75(FClean['best.reduced_chi_square']))"
   ]
  },
  {
   "cell_type": "markdown",
   "metadata": {},
   "source": [
    "We rename the Fritz models as $\\Psi=i-90$ and the thermal (dust) luminosity to compare with SKIRTOR model. "
   ]
  },
  {
   "cell_type": "code",
   "execution_count": 10,
   "metadata": {
    "ExecuteTime": {
     "end_time": "2021-01-21T17:39:26.815904Z",
     "start_time": "2021-01-21T17:39:26.808237Z"
    }
   },
   "outputs": [],
   "source": [
    "FClean.rename_column('bayes.agn.psy', 'bayes.agn.i')\n",
    "FClean.rename_column('bayes.agn.psy_err', 'bayes.agn.i_err')\n",
    "FClean.rename_column('bayes.agn.therm_luminosity', 'bayes.agn.dust_luminosity')\n",
    "FClean.rename_column('bayes.agn.therm_luminosity_err',\n",
    "                     'bayes.agn.dust_luminosity_err')\n",
    "FClean['bayes.agn.i'] = 90-FClean['bayes.agn.i']\n",
    "\n",
    "FClean37.rename_column('bayes.agn.psy', 'bayes.agn.i')\n",
    "FClean37.rename_column('bayes.agn.psy_err', 'bayes.agn.i_err')\n",
    "FClean37.rename_column('bayes.agn.therm_luminosity',\n",
    "                       'bayes.agn.dust_luminosity')\n",
    "FClean37.rename_column('bayes.agn.therm_luminosity_err',\n",
    "                       'bayes.agn.dust_luminosity_err')\n",
    "FClean37['bayes.agn.i'] = 90-FClean37['bayes.agn.i']"
   ]
  },
  {
   "cell_type": "markdown",
   "metadata": {},
   "source": [
    "Finally, we save the files of the cleaned results"
   ]
  },
  {
   "cell_type": "code",
   "execution_count": null,
   "metadata": {
    "ExecuteTime": {
     "end_time": "2021-01-21T17:39:27.804930Z",
     "start_time": "2021-01-21T17:39:27.481402Z"
    }
   },
   "outputs": [],
   "source": [
    "SClean.write('CIGALEOutputs/Cleanresults_SK.fits', format='fits')\n",
    "FClean.write('CIGALEOutputs/Cleanresults_Fr.fits', format='fits')\n",
    "SClean37.write('CIGALEOutputs/Cleanresults_SK37.fits', format='fits')\n",
    "FClean37.write('CIGALEOutputs/Cleanresults_Fr37.fits', format='fits')"
   ]
  },
  {
   "cell_type": "markdown",
   "metadata": {},
   "source": [
    "## Final numbers and counts by classification type\n",
    "First, we present the final numbers of galaxies that are well-fitted to be analysed in this work"
   ]
  },
  {
   "cell_type": "code",
   "execution_count": 12,
   "metadata": {
    "ExecuteTime": {
     "end_time": "2021-01-21T17:39:49.057203Z",
     "start_time": "2021-01-21T17:39:49.049325Z"
    }
   },
   "outputs": [
    {
     "name": "stdout",
     "output_type": "stream",
     "text": [
      "Total number of galaxies: 8094\n",
      "Percentage removed galaxies depending on condition: 0.7171797418073486 0.06792452830188679 0.26137040714995036\n",
      "Percentage over and under fitting: 0.5131542509000276 0.4868457490999723\n"
     ]
    }
   ],
   "source": [
    "# For SK models\n",
    "print('Total number of galaxies:', len(SClean))\n",
    "Removed_Galaxies = len(Models_SK)-len(SClean)\n",
    "Cond1 = sum(np.logical_or(Models_SK['best.reduced_chi_square'] >= 10**0.5,\n",
    "                          Models_SK['best.reduced_chi_square'] <= 10**-0.5))/Removed_Galaxies\n",
    "Cond2 = sum(Models_SK['best.reduced_chi_square'] >=\n",
    "            Models_SK0['best.reduced_chi_square'])/Removed_Galaxies\n",
    "Cond3 = sum((Models_SK['bayes.sfh.sfr_err'] /\n",
    "             Models_SK['bayes.sfh.sfr']) > 3)/Removed_Galaxies\n",
    "print('Percentage removed galaxies depending on condition:', Cond1, Cond2, Cond3)\n",
    "Cond11 = sum(Models_SK['best.reduced_chi_square'] >= 10**0.5)/sum(np.logical_or(\n",
    "    Models_SK['best.reduced_chi_square'] >= 10**0.5, Models_SK['best.reduced_chi_square'] <= 10**-0.5))\n",
    "Cond12 = sum(Models_SK['best.reduced_chi_square'] <= 10**-0.5)/sum(np.logical_or(\n",
    "    Models_SK['best.reduced_chi_square'] >= 10**0.5, Models_SK['best.reduced_chi_square'] <= 10**-0.5))\n",
    "print('Percentage over and under fitting:', Cond11, Cond12)"
   ]
  },
  {
   "cell_type": "code",
   "execution_count": 13,
   "metadata": {
    "ExecuteTime": {
     "end_time": "2021-01-21T17:39:53.300517Z",
     "start_time": "2021-01-21T17:39:53.292808Z"
    }
   },
   "outputs": [
    {
     "name": "stdout",
     "output_type": "stream",
     "text": [
      "Total number of galaxies: 8583\n",
      "Percentage removed galaxies depending on condition: 0.7602287725472944 0.06577210734711834 0.23911130664320282\n",
      "Percentage over and under fitting: 0.5607638888888888 0.4392361111111111\n"
     ]
    }
   ],
   "source": [
    "# For Fr models\n",
    "print('Total number of galaxies:', len(FClean))\n",
    "Removed_Galaxies = len(Models_Fr)-len(FClean)\n",
    "Cond1 = sum(np.logical_or(Models_Fr['best.reduced_chi_square'] >= 10**0.5,\n",
    "                          Models_Fr['best.reduced_chi_square'] <= 10**-0.5))/Removed_Galaxies\n",
    "Cond2 = sum(Models_Fr['best.reduced_chi_square'] >=\n",
    "            Models_Fr0['best.reduced_chi_square'])/Removed_Galaxies\n",
    "Cond3 = sum((Models_Fr['bayes.sfh.sfr_err'] /\n",
    "             Models_Fr['bayes.sfh.sfr']) > 3)/Removed_Galaxies\n",
    "print('Percentage removed galaxies depending on condition:', Cond1, Cond2, Cond3)\n",
    "Cond11 = sum(Models_Fr['best.reduced_chi_square'] >= 10**0.5)/sum(np.logical_or(\n",
    "    Models_Fr['best.reduced_chi_square'] >= 10**0.5, Models_Fr['best.reduced_chi_square'] <= 10**-0.5))\n",
    "Cond12 = sum(Models_Fr['best.reduced_chi_square'] <= 10**-0.5)/sum(np.logical_or(\n",
    "    Models_Fr['best.reduced_chi_square'] >= 10**0.5, Models_Fr['best.reduced_chi_square'] <= 10**-0.5))\n",
    "print('Percentage over and under fitting:', Cond11, Cond12)"
   ]
  },
  {
   "cell_type": "code",
   "execution_count": 14,
   "metadata": {
    "ExecuteTime": {
     "end_time": "2021-01-21T17:39:55.845312Z",
     "start_time": "2021-01-21T17:39:55.837459Z"
    }
   },
   "outputs": [
    {
     "name": "stdout",
     "output_type": "stream",
     "text": [
      "Total number of galaxies: 8136\n",
      "Percentage removed galaxies depending on condition: 0.7083917484478269 0.09653514920889245 0.25936310835169235\n",
      "Percentage over and under fitting: 0.5877862595419847 0.4122137404580153\n"
     ]
    }
   ],
   "source": [
    "# For SK37 models\n",
    "print('Total number of galaxies:', len(SClean37))\n",
    "Removed_Galaxies = len(Models_S37)-len(SClean37)\n",
    "Cond1 = sum(np.logical_or(Models_S37['best.reduced_chi_square'] >= 10**0.5,\n",
    "                          Models_S37['best.reduced_chi_square'] <= 10**-0.5))/Removed_Galaxies\n",
    "Cond2 = sum(Models_S37['best.reduced_chi_square'] >=\n",
    "            Models_SK0['best.reduced_chi_square'])/Removed_Galaxies\n",
    "Cond3 = sum((Models_S37['bayes.sfh.sfr_err'] /\n",
    "             Models_S37['bayes.sfh.sfr']) > 3)/Removed_Galaxies\n",
    "print('Percentage removed galaxies depending on condition:', Cond1, Cond2, Cond3)\n",
    "Cond11 = sum(Models_S37['best.reduced_chi_square'] >= 10**0.5)/sum(np.logical_or(\n",
    "    Models_S37['best.reduced_chi_square'] >= 10**0.5, Models_S37['best.reduced_chi_square'] <= 10**-0.5))\n",
    "Cond12 = sum(Models_S37['best.reduced_chi_square'] <= 10**-0.5)/sum(np.logical_or(\n",
    "    Models_S37['best.reduced_chi_square'] >= 10**0.5, Models_S37['best.reduced_chi_square'] <= 10**-0.5))\n",
    "print('Percentage over and under fitting:', Cond11, Cond12)"
   ]
  },
  {
   "cell_type": "code",
   "execution_count": 15,
   "metadata": {
    "ExecuteTime": {
     "end_time": "2021-01-21T17:39:57.628078Z",
     "start_time": "2021-01-21T17:39:57.622314Z"
    }
   },
   "outputs": [
    {
     "name": "stdout",
     "output_type": "stream",
     "text": [
      "Total number of galaxies: 8478\n",
      "Percentage removed galaxies depending on condition: 0.7480111803913136 0.12040421414749516 0.22790797677918728\n",
      "Percentage over and under fitting: 0.6501868352974993 0.34981316470250073\n"
     ]
    }
   ],
   "source": [
    "# For Fr37 models\n",
    "print('Total number of galaxies:', len(FClean37))\n",
    "Removed_Galaxies = len(Models_F37)-len(FClean37)\n",
    "Cond1 = sum(np.logical_or(Models_F37['best.reduced_chi_square'] >= 10**0.5,\n",
    "                          Models_F37['best.reduced_chi_square'] <= 10**-0.5))/Removed_Galaxies\n",
    "Cond2 = sum(Models_F37['best.reduced_chi_square'] >=\n",
    "            Models_Fr0['best.reduced_chi_square'])/Removed_Galaxies\n",
    "Cond3 = sum((Models_F37['bayes.sfh.sfr_err'] /\n",
    "             Models_F37['bayes.sfh.sfr']) > 3)/Removed_Galaxies\n",
    "print('Percentage removed galaxies depending on condition:', Cond1, Cond2, Cond3)\n",
    "Cond11 = sum(Models_F37['best.reduced_chi_square'] >= 10**0.5)/sum(np.logical_or(\n",
    "    Models_F37['best.reduced_chi_square'] >= 10**0.5, Models_F37['best.reduced_chi_square'] <= 10**-0.5))\n",
    "Cond12 = sum(Models_F37['best.reduced_chi_square'] <= 10**-0.5)/sum(np.logical_or(\n",
    "    Models_F37['best.reduced_chi_square'] >= 10**0.5, Models_F37['best.reduced_chi_square'] <= 10**-0.5))\n",
    "print('Percentage over and under fitting:', Cond11, Cond12)"
   ]
  },
  {
   "cell_type": "markdown",
   "metadata": {},
   "source": [
    "Here we count the classification types for the different CIGALE AGN models (To be used in Table 3). We read the VCV_TAP_otype.txt file to obtain the classifications and change the id in CIGALE models to a string format. Then, we join the tables and count the classifications.  "
   ]
  },
  {
   "cell_type": "code",
   "execution_count": 23,
   "metadata": {
    "ExecuteTime": {
     "end_time": "2021-01-20T14:23:34.706472Z",
     "start_time": "2021-01-20T14:23:33.522631Z"
    }
   },
   "outputs": [],
   "source": [
    "TV = Table.read('VCV_TAP_otype.txt', format='ascii').to_pandas()\n",
    "SClean['main_id'] = np.array(SClean['id'], dtype='U30')\n",
    "FClean['main_id'] = np.array(FClean['id'], dtype='U30')\n",
    "SClean37['main_id'] = np.array(SClean37['id'], dtype='U30')\n",
    "FClean37['main_id'] = np.array(FClean37['id'], dtype='U30')"
   ]
  },
  {
   "cell_type": "code",
   "execution_count": 24,
   "metadata": {
    "ExecuteTime": {
     "end_time": "2021-01-20T14:23:41.881477Z",
     "start_time": "2021-01-20T14:23:41.722404Z"
    }
   },
   "outputs": [],
   "source": [
    "SClass = SClean.to_pandas().join(TV.set_index('main_id'), on='main_id')\n",
    "FClass = FClean.to_pandas().join(TV.set_index('main_id'), on='main_id')\n",
    "S37Class = SClean37.to_pandas().join(TV.set_index('main_id'), on='main_id')\n",
    "F37Class = FClean37.to_pandas().join(TV.set_index('main_id'), on='main_id')"
   ]
  },
  {
   "cell_type": "markdown",
   "metadata": {},
   "source": [
    "##### SKIRTOR"
   ]
  },
  {
   "cell_type": "code",
   "execution_count": 26,
   "metadata": {
    "ExecuteTime": {
     "end_time": "2021-01-20T14:23:51.081925Z",
     "start_time": "2021-01-20T14:23:51.068966Z"
    }
   },
   "outputs": [
    {
     "name": "stdout",
     "output_type": "stream",
     "text": [
      "Classified Seyfer galaxies: 7512\n",
      "Intermediate classifications 511\n",
      "Other classifications 71\n"
     ]
    },
    {
     "data": {
      "text/plain": [
       "Sp\n",
       "S         29\n",
       "S1      4576\n",
       "S1.0     104\n",
       "S1.2      94\n",
       "S1.5     205\n",
       "S1.8      66\n",
       "S1.9      42\n",
       "S1h       18\n",
       "S1i        2\n",
       "S1n     1410\n",
       "S1n0       5\n",
       "S1n2       3\n",
       "S1n5       5\n",
       "S2      1497\n",
       "S3        25\n",
       "S3b        1\n",
       "S?        12\n",
       "dtype: int64"
      ]
     },
     "execution_count": 26,
     "metadata": {},
     "output_type": "execute_result"
    }
   ],
   "source": [
    "print('Classified Seyfer galaxies:', sum(\n",
    "    SClass.groupby('Sp').size()[['S1', 'S1n', 'S2', 'S']]))\n",
    "print('Intermediate classifications', sum(SClass.groupby(\n",
    "    'Sp').size()[['S1.0', 'S1.2', 'S1.5', 'S1.8', 'S1.9']]))\n",
    "print('Other classifications', sum(SClass.groupby('Sp').size()[\n",
    "      ['S1h', 'S1i', 'S1n0', 'S1n2', 'S1n5', 'S3', 'S3b', 'S?']]))\n",
    "SClass.groupby('Sp').size()"
   ]
  },
  {
   "cell_type": "code",
   "execution_count": 66,
   "metadata": {},
   "outputs": [
    {
     "data": {
      "text/plain": [
       "otype_txt\n",
       "Sy1    6400\n",
       "Sy2    1649\n",
       "SyG      45\n",
       "dtype: int64"
      ]
     },
     "execution_count": 66,
     "metadata": {},
     "output_type": "execute_result"
    }
   ],
   "source": [
    "SClass.groupby('otype_txt').size()"
   ]
  },
  {
   "cell_type": "markdown",
   "metadata": {},
   "source": [
    "##### Fritz"
   ]
  },
  {
   "cell_type": "code",
   "execution_count": 27,
   "metadata": {
    "ExecuteTime": {
     "end_time": "2021-01-20T14:23:59.150590Z",
     "start_time": "2021-01-20T14:23:59.137621Z"
    }
   },
   "outputs": [
    {
     "name": "stdout",
     "output_type": "stream",
     "text": [
      "Classified Seyfer galaxies: 8026\n",
      "Intermediate classifications 492\n",
      "Other classifications 65\n"
     ]
    },
    {
     "data": {
      "text/plain": [
       "Sp\n",
       "S         27\n",
       "S1      4921\n",
       "S1.0     101\n",
       "S1.2      88\n",
       "S1.5     195\n",
       "S1.8      66\n",
       "S1.9      42\n",
       "S1h       12\n",
       "S1i        1\n",
       "S1n     1532\n",
       "S1n0       4\n",
       "S1n2       5\n",
       "S1n5       5\n",
       "S2      1546\n",
       "S3        23\n",
       "S3b        1\n",
       "S?        14\n",
       "dtype: int64"
      ]
     },
     "execution_count": 27,
     "metadata": {},
     "output_type": "execute_result"
    }
   ],
   "source": [
    "print('Classified Seyfer galaxies:', sum(\n",
    "    FClass.groupby('Sp').size()[['S1', 'S1n', 'S2', 'S']]))\n",
    "print('Intermediate classifications', sum(FClass.groupby(\n",
    "    'Sp').size()[['S1.0', 'S1.2', 'S1.5', 'S1.8', 'S1.9']]))\n",
    "print('Other classifications', sum(FClass.groupby('Sp').size()[\n",
    "      ['S1h', 'S1i', 'S1n0', 'S1n2', 'S1n5', 'S3', 'S3b', 'S?']]))\n",
    "FClass.groupby('Sp').size()"
   ]
  },
  {
   "cell_type": "code",
   "execution_count": 68,
   "metadata": {},
   "outputs": [
    {
     "data": {
      "text/plain": [
       "otype_txt\n",
       "Sy1    6834\n",
       "Sy2    1706\n",
       "SyG      43\n",
       "dtype: int64"
      ]
     },
     "execution_count": 68,
     "metadata": {},
     "output_type": "execute_result"
    }
   ],
   "source": [
    "FClass.groupby('otype_txt').size()"
   ]
  },
  {
   "cell_type": "markdown",
   "metadata": {},
   "source": [
    "##### SKIRTOR with 30/70 angles"
   ]
  },
  {
   "cell_type": "code",
   "execution_count": 28,
   "metadata": {
    "ExecuteTime": {
     "end_time": "2021-01-20T14:24:06.302489Z",
     "start_time": "2021-01-20T14:24:06.289922Z"
    }
   },
   "outputs": [
    {
     "name": "stdout",
     "output_type": "stream",
     "text": [
      "Classified Seyfer galaxies: 7580\n",
      "Intermediate classifications 496\n",
      "Other classifications 60\n"
     ]
    },
    {
     "data": {
      "text/plain": [
       "Sp\n",
       "S         28\n",
       "S1      4668\n",
       "S1.0     100\n",
       "S1.2      91\n",
       "S1.5     198\n",
       "S1.8      65\n",
       "S1.9      42\n",
       "S1h       14\n",
       "S1i        2\n",
       "S1n     1449\n",
       "S1n0       3\n",
       "S1n2       3\n",
       "S1n5       4\n",
       "S2      1435\n",
       "S3        19\n",
       "S3b        1\n",
       "S?        14\n",
       "dtype: int64"
      ]
     },
     "execution_count": 28,
     "metadata": {},
     "output_type": "execute_result"
    }
   ],
   "source": [
    "print('Classified Seyfer galaxies:', sum(\n",
    "    S37Class.groupby('Sp').size()[['S1', 'S1n', 'S2', 'S']]))\n",
    "print('Intermediate classifications', sum(S37Class.groupby(\n",
    "    'Sp').size()[['S1.0', 'S1.2', 'S1.5', 'S1.8', 'S1.9']]))\n",
    "print('Other classifications', sum(S37Class.groupby('Sp').size()[\n",
    "      ['S1h', 'S1i', 'S1n0', 'S1n2', 'S1n5', 'S3', 'S3b', 'S?']]))\n",
    "S37Class.groupby('Sp').size()"
   ]
  },
  {
   "cell_type": "code",
   "execution_count": 29,
   "metadata": {
    "ExecuteTime": {
     "end_time": "2021-01-20T14:24:08.890446Z",
     "start_time": "2021-01-20T14:24:08.883812Z"
    }
   },
   "outputs": [
    {
     "data": {
      "text/plain": [
       "otype_txt\n",
       "Sy1    6503\n",
       "Sy2    1590\n",
       "SyG      43\n",
       "dtype: int64"
      ]
     },
     "execution_count": 29,
     "metadata": {},
     "output_type": "execute_result"
    }
   ],
   "source": [
    "S37Class.groupby('otype_txt').size()"
   ]
  },
  {
   "cell_type": "markdown",
   "metadata": {},
   "source": [
    "##### Fritz with 30/70 angles"
   ]
  },
  {
   "cell_type": "code",
   "execution_count": 30,
   "metadata": {
    "ExecuteTime": {
     "end_time": "2021-01-20T14:24:11.989843Z",
     "start_time": "2021-01-20T14:24:11.976969Z"
    }
   },
   "outputs": [
    {
     "name": "stdout",
     "output_type": "stream",
     "text": [
      "Classified Seyfer galaxies: 7937\n",
      "Intermediate classifications 482\n",
      "Other classifications 59\n"
     ]
    },
    {
     "data": {
      "text/plain": [
       "Sp\n",
       "S         28\n",
       "S1      4974\n",
       "S1.0      95\n",
       "S1.2      85\n",
       "S1.5     196\n",
       "S1.8      64\n",
       "S1.9      42\n",
       "S1h       11\n",
       "S1i        2\n",
       "S1n     1533\n",
       "S1n0       4\n",
       "S1n2       5\n",
       "S1n5       5\n",
       "S2      1402\n",
       "S3        19\n",
       "S?        13\n",
       "dtype: int64"
      ]
     },
     "execution_count": 30,
     "metadata": {},
     "output_type": "execute_result"
    }
   ],
   "source": [
    "print('Classified Seyfer galaxies:', sum(\n",
    "    F37Class.groupby('Sp').size()[['S1', 'S1n', 'S2', 'S']]))\n",
    "print('Intermediate classifications', sum(F37Class.groupby(\n",
    "    'Sp').size()[['S1.0', 'S1.2', 'S1.5', 'S1.8', 'S1.9']]))\n",
    "print('Other classifications', sum(F37Class.groupby('Sp').size()\n",
    "                                   [['S1h', 'S1i', 'S1n0', 'S1n2', 'S1n5', 'S3', 'S?']]))\n",
    "F37Class.groupby('Sp').size()"
   ]
  },
  {
   "cell_type": "code",
   "execution_count": 76,
   "metadata": {},
   "outputs": [
    {
     "data": {
      "text/plain": [
       "otype_txt\n",
       "Sy1    6875\n",
       "Sy2    1561\n",
       "SyG      42\n",
       "dtype: int64"
      ]
     },
     "execution_count": 76,
     "metadata": {},
     "output_type": "execute_result"
    }
   ],
   "source": [
    "F37Class.groupby('otype_txt').size()"
   ]
  },
  {
   "cell_type": "markdown",
   "metadata": {},
   "source": [
    "##### Notebook info"
   ]
  },
  {
   "cell_type": "code",
   "execution_count": 16,
   "metadata": {
    "ExecuteTime": {
     "end_time": "2021-01-21T17:40:27.798809Z",
     "start_time": "2021-01-21T17:40:27.147592Z"
    }
   },
   "outputs": [
    {
     "name": "stdout",
     "output_type": "stream",
     "text": [
      "Author: Andres Ramos\n",
      "\n",
      "Python implementation: CPython\n",
      "Python version       : 3.8.3\n",
      "IPython version      : 7.16.1\n",
      "\n",
      "Compiler    : GCC 7.3.0\n",
      "OS          : Linux\n",
      "Release     : 3.10.0-1160.el7.x86_64\n",
      "Machine     : x86_64\n",
      "Processor   : x86_64\n",
      "CPU cores   : 8\n",
      "Architecture: 64bit\n",
      "\n",
      "Specific Python packages\n",
      "astropy: 4.2\n",
      "pandas : 1.2.0\n",
      "\n",
      "numpy     : 1.19.5\n",
      "autopep8  : 1.5.4\n",
      "re        : 2.2.1\n",
      "sys       : 3.8.3 (default, Jul  2 2020, 16:21:59) \n",
      "[GCC 7.3.0]\n",
      "logging   : 0.5.1.2\n",
      "matplotlib: 3.2.2\n",
      "json      : 2.0.9\n",
      "\n",
      "Watermark: 2.1.0\n",
      "\n"
     ]
    }
   ],
   "source": [
    "%load_ext watermark\n",
    "%watermark -a \"Andres Ramos\" -d -v -m\n",
    "print('Specific Python packages')\n",
    "%watermark -iv -w --packages astropy,pandas"
   ]
  },
  {
   "cell_type": "code",
   "execution_count": null,
   "metadata": {},
   "outputs": [],
   "source": []
  }
 ],
 "metadata": {
  "hide_input": false,
  "kernelspec": {
   "display_name": "Python 3",
   "language": "python",
   "name": "python3"
  },
  "language_info": {
   "codemirror_mode": {
    "name": "ipython",
    "version": 3
   },
   "file_extension": ".py",
   "mimetype": "text/x-python",
   "name": "python",
   "nbconvert_exporter": "python",
   "pygments_lexer": "ipython3",
   "version": "3.8.3"
  },
  "toc": {
   "base_numbering": "7",
   "nav_menu": {},
   "number_sections": true,
   "sideBar": true,
   "skip_h1_title": false,
   "title_cell": "Table of Contents",
   "title_sidebar": "Contents",
   "toc_cell": false,
   "toc_position": {
    "height": "calc(100% - 180px)",
    "left": "10px",
    "top": "150px",
    "width": "336px"
   },
   "toc_section_display": true,
   "toc_window_display": true
  },
  "varInspector": {
   "cols": {
    "lenName": 16,
    "lenType": 16,
    "lenVar": 40
   },
   "kernels_config": {
    "python": {
     "delete_cmd_postfix": "",
     "delete_cmd_prefix": "del ",
     "library": "var_list.py",
     "varRefreshCmd": "print(var_dic_list())"
    },
    "r": {
     "delete_cmd_postfix": ") ",
     "delete_cmd_prefix": "rm(",
     "library": "var_list.r",
     "varRefreshCmd": "cat(var_dic_list()) "
    }
   },
   "types_to_exclude": [
    "module",
    "function",
    "builtin_function_or_method",
    "instance",
    "_Feature"
   ],
   "window_display": false
  }
 },
 "nbformat": 4,
 "nbformat_minor": 4
}
