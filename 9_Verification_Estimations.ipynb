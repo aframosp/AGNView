{
 "cells": [
  {
   "cell_type": "markdown",
   "metadata": {},
   "source": [
    "# Verification physical parameters estimations in CIGALE\n",
    "In this file, we compare the results from [Vika et al.(2017)](https://ui.adsabs.harvard.edu/abs/2017A%26A...597A..51V/abstract) with the results from the Seyfert galaxy sample.\n",
    "First, we import the Python packages."
   ]
  },
  {
   "cell_type": "code",
   "execution_count": 1,
   "metadata": {
    "ExecuteTime": {
     "end_time": "2021-04-23T10:08:33.988395Z",
     "start_time": "2021-04-23T10:08:33.623085Z"
    }
   },
   "outputs": [
    {
     "name": "stdout",
     "output_type": "stream",
     "text": [
      "Using matplotlib backend: Qt5Agg\n",
      "Populating the interactive namespace from numpy and matplotlib\n"
     ]
    }
   ],
   "source": [
    "%pylab"
   ]
  },
  {
   "cell_type": "code",
   "execution_count": 2,
   "metadata": {
    "ExecuteTime": {
     "end_time": "2021-04-23T10:08:34.934273Z",
     "start_time": "2021-04-23T10:08:33.989341Z"
    }
   },
   "outputs": [],
   "source": [
    "from astropy import units as u\n",
    "from astroquery.vizier import Vizier\n",
    "from astropy.coordinates import SkyCoord\n",
    "from astropy.table import Table, join, hstack"
   ]
  },
  {
   "cell_type": "markdown",
   "metadata": {},
   "source": [
    "We set a the row limit to -1 to obtain all the rows in the catalog "
   ]
  },
  {
   "cell_type": "code",
   "execution_count": 3,
   "metadata": {
    "ExecuteTime": {
     "end_time": "2021-04-23T10:08:34.936789Z",
     "start_time": "2021-04-23T10:08:34.935321Z"
    }
   },
   "outputs": [],
   "source": [
    "Vizier.ROW_LIMIT = -1"
   ]
  },
  {
   "cell_type": "markdown",
   "metadata": {
    "ExecuteTime": {
     "end_time": "2021-04-22T15:01:57.661675Z",
     "start_time": "2021-04-22T15:01:57.656791Z"
    }
   },
   "source": [
    "## Obtaining the data"
   ]
  },
  {
   "cell_type": "markdown",
   "metadata": {},
   "source": [
    "We obtain the catalog from Vika et al.(2017) directly from [Vizier](https://vizier.u-strasbg.fr/viz-bin/VizieR) and we also load the results from the Fritz AGN model with two viewing angles to compare them. We select this model for the comparison because is the most similar in the input parameters in CIGALE."
   ]
  },
  {
   "cell_type": "code",
   "execution_count": 4,
   "metadata": {
    "ExecuteTime": {
     "end_time": "2021-04-23T10:08:35.176627Z",
     "start_time": "2021-04-23T10:08:34.937743Z"
    }
   },
   "outputs": [],
   "source": [
    "Vika17 = Vizier.get_catalogs('J/A+A/597/A51')[0]\n",
    "ModelF37 = Table.read('CIGALEOutputs/Cleanresults_Fr37.fits', format='fits')"
   ]
  },
  {
   "cell_type": "markdown",
   "metadata": {},
   "source": [
    "We use also the basic information from the Seyfert catalog to match the catalogs in terms of coordinates"
   ]
  },
  {
   "cell_type": "code",
   "execution_count": 5,
   "metadata": {
    "ExecuteTime": {
     "end_time": "2021-04-23T10:08:35.348093Z",
     "start_time": "2021-04-23T10:08:35.177450Z"
    }
   },
   "outputs": [],
   "source": [
    "TV = Table.read('VCV_TAP_otype.txt', format='ascii')\n",
    "TV.rename_column('main_id', 'id')  # Renamed to use the join with the same id"
   ]
  },
  {
   "cell_type": "code",
   "execution_count": 6,
   "metadata": {
    "ExecuteTime": {
     "end_time": "2021-04-23T10:08:35.416578Z",
     "start_time": "2021-04-23T10:08:35.348853Z"
    }
   },
   "outputs": [],
   "source": [
    "FritzM = join(TV, ModelF37, keys='id')"
   ]
  },
  {
   "cell_type": "code",
   "execution_count": 7,
   "metadata": {
    "ExecuteTime": {
     "end_time": "2021-04-23T10:08:35.524920Z",
     "start_time": "2021-04-23T10:08:35.417473Z"
    }
   },
   "outputs": [],
   "source": [
    "CatalogVika = SkyCoord(ra=Vika17['RAJ2000'], dec=Vika17['DEJ2000'])\n",
    "OurCatalog = SkyCoord(ra=FritzM['ra']*u.degree, dec=FritzM['dec']*u.degree)\n",
    "idx, d2d, d3d = CatalogVika.match_to_catalog_sky(OurCatalog)"
   ]
  },
  {
   "cell_type": "markdown",
   "metadata": {},
   "source": [
    "We select only galaxies that are separated between less than 3 arc seconds. Then, we stack the columns together."
   ]
  },
  {
   "cell_type": "code",
   "execution_count": 8,
   "metadata": {
    "ExecuteTime": {
     "end_time": "2021-04-23T10:08:35.590400Z",
     "start_time": "2021-04-23T10:08:35.526229Z"
    }
   },
   "outputs": [],
   "source": [
    "MaxSep = 3.0 * u.arcsec\n",
    "SepConstraint = d2d < MaxSep\n",
    "Final = hstack([FritzM[idx[SepConstraint]], Vika17[SepConstraint]])\n",
    "Final['MatchDist'] = d2d[SepConstraint].to(u.arcsec)"
   ]
  },
  {
   "cell_type": "code",
   "execution_count": 9,
   "metadata": {
    "ExecuteTime": {
     "end_time": "2021-04-23T10:08:35.593093Z",
     "start_time": "2021-04-23T10:08:35.591342Z"
    }
   },
   "outputs": [
    {
     "name": "stdout",
     "output_type": "stream",
     "text": [
      "Total number of Matched galaxies: 98\n"
     ]
    }
   ],
   "source": [
    "print('Total number of Matched galaxies:',len(Final))"
   ]
  },
  {
   "cell_type": "markdown",
   "metadata": {},
   "source": [
    "With this selection, it seems that we have a perfect match in terms of redshifts."
   ]
  },
  {
   "cell_type": "code",
   "execution_count": 10,
   "metadata": {
    "ExecuteTime": {
     "end_time": "2021-04-23T10:08:35.966828Z",
     "start_time": "2021-04-23T10:08:35.593841Z"
    }
   },
   "outputs": [
    {
     "data": {
      "text/plain": [
       "<matplotlib.legend.Legend at 0x7fc129ce5c40>"
      ]
     },
     "execution_count": 10,
     "metadata": {},
     "output_type": "execute_result"
    },
    {
     "data": {
      "image/png": "[encoded data removed]",
      "text/plain": [
       "<Figure size 432x288 with 1 Axes>"
      ]
     },
     "metadata": {
      "needs_background": "light"
     },
     "output_type": "display_data"
    }
   ],
   "source": [
    "%matplotlib inline\n",
    "scatter(Final['z_2'], Final['z_1'], label='Matched galaxies')\n",
    "plot([0, 1.5], [0, 1.5], ls=':', label='1-to-1 relation')\n",
    "xlabel('Redhisft in Vika+17')\n",
    "ylabel('Redhisft in this work')\n",
    "loglog()\n",
    "legend()"
   ]
  },
  {
   "cell_type": "markdown",
   "metadata": {},
   "source": [
    "## Comparisons of the parameters\n",
    "We compare the main physical parameters (SFR, stellar mass, age, AGN fraction, AGN luminosity and dust luminosity). But first we check the $\\chi_{\\rm{red}}^{2}$ between the catalogs. "
   ]
  },
  {
   "cell_type": "code",
   "execution_count": 11,
   "metadata": {
    "ExecuteTime": {
     "end_time": "2021-04-23T10:08:36.116814Z",
     "start_time": "2021-04-23T10:08:35.967634Z"
    }
   },
   "outputs": [
    {
     "data": {
      "text/plain": [
       "<matplotlib.legend.Legend at 0x7fc119eddfd0>"
      ]
     },
     "execution_count": 11,
     "metadata": {},
     "output_type": "execute_result"
    },
    {
     "data": {
      "image/png": "[encoded data removed]",
      "text/plain": [
       "<Figure size 432x288 with 1 Axes>"
      ]
     },
     "metadata": {
      "needs_background": "light"
     },
     "output_type": "display_data"
    }
   ],
   "source": [
    "scatter(Final['chi2r'], Final['best.reduced_chi_square'],\n",
    "        label='Matched galaxies')\n",
    "axvline(x=10**-0.5, label=r'Limits for good $\\chi_{\\rm{red}}^{2}$ in this work',\n",
    "        ls=':')\n",
    "axvline(x=10**0.5, ls=':')\n",
    "xlabel(r'$\\chi_{\\rm{red}}^{2}$ from Vika+17')\n",
    "ylabel(r'$\\chi_{\\rm{red}}^{2}$ from this work')\n",
    "legend()"
   ]
  },
  {
   "cell_type": "markdown",
   "metadata": {},
   "source": [
    "We create some variables to decorate the 1-to-1 relations. We transform luminosities from W to solar luminosities and we calculate the values in log scale. "
   ]
  },
  {
   "cell_type": "code",
   "execution_count": 12,
   "metadata": {
    "ExecuteTime": {
     "end_time": "2021-04-23T10:08:36.121252Z",
     "start_time": "2021-04-23T10:08:36.117694Z"
    }
   },
   "outputs": [],
   "source": [
    "ListParVika = ['M_', 'SFR', 'LAGN', 'fAGN', 'Ldust', 'Age']\n",
    "ListParOur = ['bayes.stellar.m_star', 'bayes.sfh.sfr',\n",
    "              'bayes.agn.luminosity', 'bayes.agn.fracAGN',\n",
    "              'bayes.dust.luminosity', 'bayes.sfh.age']\n",
    "ParmRang = [[9, 12.3], [-2.5, 3.9],\n",
    "            [7.8, 13.5], [0, 1], [8.8, 13.5], [2.6, 4.1]]\n",
    "ParmUnits = [r'Stellar Mass [M$_{\\odot}$]', r'SFR [M$_{\\odot}$/yr]',\n",
    "             r'L$_{\\rm{AGN}}$ [L$_{\\odot}$]', 'AGN Fraction',\n",
    "             r'L$_{\\rm{dust}}$ [L$_{\\odot}$]', 'Age [Myr]']\n",
    "Particks = [[9,10,11,12],[-2,0,2,4],[8,9,10,11,12,13],[0,0.25,0.5,0.75,1],\n",
    "           [9,10,11,12,13],[2.5,3,3.5,4]]\n",
    "LocErr = [[9.5,11.5],[3,-1],[12.5,9],[0.85,0.25],[12.7,9.8],[2.9,3.8]]"
   ]
  },
  {
   "cell_type": "code",
   "execution_count": 13,
   "metadata": {
    "ExecuteTime": {
     "end_time": "2021-04-23T10:08:40.129245Z",
     "start_time": "2021-04-23T10:08:40.116007Z"
    }
   },
   "outputs": [],
   "source": [
    "for kisd in ['bayes.agn.luminosity', 'bayes.dust.luminosity']:\n",
    "    Final[kisd] = (Final[kisd].data*u.W).to(u.solLum).value\n",
    "    Final[kisd+'_err'] = (Final[kisd+'_err'].data *u.W).to(u.solLum).value\n",
    "        \n",
    "for kisd in ['LAGN','Ldust']:\n",
    "    Final[kisd] = (Final[kisd]).to(u.solLum).value\n",
    "    Final['e_'+kisd] = (Final['e_'+kisd]).to(u.solLum).value\n",
    "    \n",
    "for asdf in ['bayes.stellar.m_star', 'bayes.sfh.sfr', 'bayes.agn.luminosity', \n",
    "             'bayes.dust.luminosity', 'bayes.sfh.age']:\n",
    "    Final[asdf+'_err'] = Final[asdf+'_err']/(Final[asdf] * log(10))\n",
    "    Final[asdf] = log10(Final[asdf])\n",
    "    \n",
    "for asdf in ['M_', 'SFR', 'LAGN', 'Ldust', 'Age']:\n",
    "    Final['e_'+asdf] = Final['e_'+asdf]/(Final[asdf] * log(10))\n",
    "    Final[asdf] = log10(Final[asdf])"
   ]
  },
  {
   "cell_type": "code",
   "execution_count": 18,
   "metadata": {
    "ExecuteTime": {
     "end_time": "2021-04-23T10:11:40.561952Z",
     "start_time": "2021-04-23T10:11:40.451501Z"
    }
   },
   "outputs": [
    {
     "data": {
      "text/plain": [
       "[<matplotlib.lines.Line2D at 0x7fc1170d6850>]"
      ]
     },
     "execution_count": 18,
     "metadata": {},
     "output_type": "execute_result"
    },
    {
     "data": {
      "image/png": "[encoded data removed]",
      "text/plain": [
       "<Figure size 432x288 with 1 Axes>"
      ]
     },
     "metadata": {
      "needs_background": "light"
     },
     "output_type": "display_data"
    }
   ],
   "source": [
    "scatter(Final['M_'],Final['bayes.stellar.m_star'])\n",
    "scatter(Final['M_'],log10((10**Final['bayes.stellar.m_star'])*1.71))\n",
    "scatter(Final['M_'],Final['bayes.stellar.m_star']+0.24)\n",
    "plot([9,13],[9,13])"
   ]
  },
  {
   "cell_type": "markdown",
   "metadata": {
    "ExecuteTime": {
     "end_time": "2021-04-22T16:19:19.768687Z",
     "start_time": "2021-04-22T16:19:19.763661Z"
    }
   },
   "source": [
    "##### FIGURE 3\n",
    "Finally, we compare the six physical parameters."
   ]
  },
  {
   "cell_type": "code",
   "execution_count": 18,
   "metadata": {
    "ExecuteTime": {
     "end_time": "2021-04-23T08:41:31.407746Z",
     "start_time": "2021-04-23T08:41:30.367566Z"
    }
   },
   "outputs": [
    {
     "name": "stdout",
     "output_type": "stream",
     "text": [
      "Using matplotlib backend: Qt5Agg\n"
     ]
    },
    {
     "name": "stderr",
     "output_type": "stream",
     "text": [
      "/Users/users/ramos/.local/lib/python3.8/site-packages/numpy/core/fromnumeric.py:748: UserWarning: Warning: 'partition' will ignore the 'mask' of the MaskedColumn.\n",
      "  a.partition(kth, axis=axis, kind=kind, order=order)\n"
     ]
    }
   ],
   "source": [
    "%matplotlib\n",
    "# with plt.style.context('seaborn-talk'):\n",
    "with plt.style.context('seaborn-paper'):\n",
    "    plt.rcParams.update({'font.size': 12})\n",
    "    plt.rcParams.update({'axes.labelsize': 12})\n",
    "    plt.rcParams.update({'legend.fontsize': 10})\n",
    "    plt.rcParams.update({'ytick.labelsize': 10})\n",
    "    plt.rcParams.update({'xtick.labelsize': 10})\n",
    "    fig, ((ax1, ax2),\n",
    "          (ax3, ax4),\n",
    "          (ax5, ax6)) = plt.subplots(3, 2, figsize=(6.75, 9.44))\n",
    "    axs = [ax1, ax2, ax3, ax4, ax5, ax6]\n",
    "    for iPar in range(6):\n",
    "        Xerr = np.median(Final['e_'+ListParVika[iPar]])\n",
    "        Yerr = np.median(Final[ListParOur[iPar]+'_err'])\n",
    "        axs[iPar].errorbar(LocErr[iPar][0],LocErr[iPar][1],\n",
    "                          xerr=Xerr,yerr=Yerr,c='gray')\n",
    "        axs[iPar].scatter(Final[ListParVika[iPar]], Final[ListParOur[iPar]],\n",
    "                          s=10, label='Matched galaxies')\n",
    "        axs[iPar].plot(ParmRang[iPar], ParmRang[iPar],\n",
    "                       ls=':', label='1-to-1 relation', c='gray')\n",
    "        axs[iPar].set_xlabel(ParmUnits[iPar]+' (Vika+17)')\n",
    "        axs[iPar].set_ylabel(ParmUnits[iPar]+' (This work)')\n",
    "        axs[iPar].axis('equal')\n",
    "        axs[iPar].set_xlim(ParmRang[iPar][0],ParmRang[iPar][1])\n",
    "        axs[iPar].set_ylim(ParmRang[iPar][0],ParmRang[iPar][1])\n",
    "        axs[iPar].set_xticks(Particks[iPar])\n",
    "        axs[iPar].set_yticks(Particks[iPar])\n",
    "plt.subplots_adjust(wspace=0.5, hspace=0.4)\n",
    "savefig('Figures/F3.pdf', dpi=300, bbox_inches='tight')  # For Paper\n",
    "# savefig('Talk_Figures/F3.png',dpi=300,bbox_inches = 'tight') ## For Presentation"
   ]
  },
  {
   "cell_type": "code",
   "execution_count": 15,
   "metadata": {
    "ExecuteTime": {
     "end_time": "2021-04-23T08:33:18.524026Z",
     "start_time": "2021-04-23T08:33:18.521742Z"
    }
   },
   "outputs": [
    {
     "name": "stdout",
     "output_type": "stream",
     "text": [
      "The galaxy not show in the SFR plot is 2MASX J17422161+5529215 with a SFR=-4.77 in this work\n"
     ]
    }
   ],
   "source": [
    "Outlier = np.where(Final['bayes.sfh.sfr'] < -3)[0]\n",
    "print('The galaxy not show in the SFR plot is %s with a SFR=%.2f in this work' \n",
    "      % (Final['id'][Outlier][0],Final['bayes.sfh.sfr'][Outlier]))"
   ]
  },
  {
   "cell_type": "code",
   "execution_count": 16,
   "metadata": {
    "ExecuteTime": {
     "end_time": "2021-04-23T08:33:18.745346Z",
     "start_time": "2021-04-23T08:33:18.524834Z"
    }
   },
   "outputs": [
    {
     "name": "stdout",
     "output_type": "stream",
     "text": [
      "Author: Andres Ramos\n",
      "\n",
      "Python implementation: CPython\n",
      "Python version       : 3.8.3\n",
      "IPython version      : 7.16.1\n",
      "\n",
      "Compiler    : GCC 7.3.0\n",
      "OS          : Linux\n",
      "Release     : 3.10.0-1160.el7.x86_64\n",
      "Machine     : x86_64\n",
      "Processor   : x86_64\n",
      "CPU cores   : 8\n",
      "Architecture: 64bit\n",
      "\n",
      "Specific Python packages\n",
      "json      : 2.0.9\n",
      "autopep8  : 1.5.4\n",
      "numpy     : 1.19.5\n",
      "matplotlib: 3.2.2\n",
      "astropy   : 4.2\n",
      "sys       : 3.8.3 (default, Jul  2 2020, 16:21:59) \n",
      "[GCC 7.3.0]\n",
      "re        : 2.2.1\n",
      "logging   : 0.5.1.2\n",
      "\n",
      "Watermark: 2.1.0\n",
      "\n"
     ]
    }
   ],
   "source": [
    "%load_ext watermark\n",
    "%watermark -a \"Andres Ramos\" -d -v -m\n",
    "print('Specific Python packages')\n",
    "%watermark -iv -w"
   ]
  }
 ],
 "metadata": {
  "hide_input": false,
  "kernelspec": {
   "display_name": "Python 3",
   "language": "python",
   "name": "python3"
  },
  "language_info": {
   "codemirror_mode": {
    "name": "ipython",
    "version": 3
   },
   "file_extension": ".py",
   "mimetype": "text/x-python",
   "name": "python",
   "nbconvert_exporter": "python",
   "pygments_lexer": "ipython3",
   "version": "3.8.3"
  },
  "toc": {
   "base_numbering": "9",
   "nav_menu": {},
   "number_sections": true,
   "sideBar": true,
   "skip_h1_title": false,
   "title_cell": "Table of Contents",
   "title_sidebar": "Contents",
   "toc_cell": false,
   "toc_position": {},
   "toc_section_display": true,
   "toc_window_display": false
  },
  "varInspector": {
   "cols": {
    "lenName": 16,
    "lenType": 16,
    "lenVar": 40
   },
   "kernels_config": {
    "python": {
     "delete_cmd_postfix": "",
     "delete_cmd_prefix": "del ",
     "library": "var_list.py",
     "varRefreshCmd": "print(var_dic_list())"
    },
    "r": {
     "delete_cmd_postfix": ") ",
     "delete_cmd_prefix": "rm(",
     "library": "var_list.r",
     "varRefreshCmd": "cat(var_dic_list()) "
    }
   },
   "types_to_exclude": [
    "module",
    "function",
    "builtin_function_or_method",
    "instance",
    "_Feature"
   ],
   "window_display": false
  }
 },
 "nbformat": 4,
 "nbformat_minor": 4
}
