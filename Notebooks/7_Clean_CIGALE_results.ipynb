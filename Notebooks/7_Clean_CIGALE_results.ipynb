{
 "cells": [
  {
   "cell_type": "markdown",
   "metadata": {},
   "source": [
    "# Clean CIGALE results\n",
    "Here we join the runs from CIGALE of the three different redsfhit ranges that we use (Low, Intermediate and High). We also present the first figures of this work. First, we import the important packages"
   ]
  },
  {
   "cell_type": "code",
   "execution_count": 1,
   "metadata": {
    "ExecuteTime": {
     "end_time": "2021-06-22T13:20:45.537919Z",
     "start_time": "2021-06-22T13:20:45.099437Z"
    }
   },
   "outputs": [
    {
     "name": "stdout",
     "output_type": "stream",
     "text": [
      "Using matplotlib backend: Qt5Agg\n",
      "Populating the interactive namespace from numpy and matplotlib\n"
     ]
    }
   ],
   "source": [
    "%pylab"
   ]
  },
  {
   "cell_type": "code",
   "execution_count": 2,
   "metadata": {
    "ExecuteTime": {
     "end_time": "2021-06-22T13:20:51.411637Z",
     "start_time": "2021-06-22T13:20:49.729920Z"
    }
   },
   "outputs": [],
   "source": [
    "from astropy.table import Table, vstack\n",
    "from scipy.stats import binned_statistic"
   ]
  },
  {
   "cell_type": "code",
   "execution_count": 3,
   "metadata": {
    "ExecuteTime": {
     "end_time": "2021-06-22T13:20:51.419843Z",
     "start_time": "2021-06-22T13:20:51.417815Z"
    }
   },
   "outputs": [],
   "source": [
    "# User shortcuts\n",
    "def perc75(array):\n",
    "    \"\"\"75th Percentile\"\"\"\n",
    "    return np.nanpercentile(array, 75)\n",
    "\n",
    "\n",
    "def perc25(array):\n",
    "    \"\"\"25th Percentile\"\"\"\n",
    "    return np.nanpercentile(array, 25)"
   ]
  },
  {
   "cell_type": "markdown",
   "metadata": {},
   "source": [
    "## Joining CIGALE files"
   ]
  },
  {
   "cell_type": "markdown",
   "metadata": {},
   "source": [
    "We read the results from the AGN models we are going to use. These models are the ones presented by Stalevski et. al 2012, 2016 [(SKIRTOR)](https://ui.adsabs.harvard.edu/abs/2016MNRAS.458.2288S/abstract) and Fritz et. al 2006 [(Fritz)](https://ui.adsabs.harvard.edu/abs/2006MNRAS.366..767F/abstract)."
   ]
  },
  {
   "cell_type": "code",
   "execution_count": 4,
   "metadata": {
    "ExecuteTime": {
     "end_time": "2021-06-22T13:20:54.779244Z",
     "start_time": "2021-06-22T13:20:53.184726Z"
    }
   },
   "outputs": [],
   "source": [
    "INTERIM_FOLDER = '../Data/Interim/CIGALEOutputs/'\n",
    "\n",
    "# SKIRTOR models\n",
    "ModelSL = Table.read(INTERIM_FOLDER+'results_SKLz_3Dic.fits', format='fits')\n",
    "ModelS0L = Table.read(INTERIM_FOLDER+'results_SKLz0_3Dic.fits', format='fits')\n",
    "\n",
    "ModelSI = Table.read(INTERIM_FOLDER+'results_SKIz_3Dic.fits', format='fits')\n",
    "ModelS0I = Table.read(INTERIM_FOLDER+'results_SKIz0_3Dic.fits', format='fits')\n",
    "\n",
    "ModelSH = Table.read(INTERIM_FOLDER+'results_SKHz_3Dic.fits', format='fits')\n",
    "ModelS0H = Table.read(INTERIM_FOLDER+'results_SKHz0_3Dic.fits', format='fits')\n",
    "\n",
    "# Fritz models\n",
    "ModelFL = Table.read(INTERIM_FOLDER+'results_FrLz_3Dic.fits', format='fits')\n",
    "ModelFI = Table.read(INTERIM_FOLDER+'results_FrIz_3Dic.fits', format='fits')\n",
    "ModelFH = Table.read(INTERIM_FOLDER+'results_FrHz_3Dic.fits', format='fits')\n",
    "\n",
    "ModelF0 = Table.read(INTERIM_FOLDER+'results_Fr0_3Dic.fits', format='fits')\n",
    "\n",
    "# Model Two-angles\n",
    "ModelS37 = Table.read(INTERIM_FOLDER+'results_SK3070_3Dic.fits', format='fits')\n",
    "ModelF37 = Table.read(INTERIM_FOLDER+'results_Fr3070_3Dic.fits', format='fits')"
   ]
  },
  {
   "cell_type": "markdown",
   "metadata": {},
   "source": [
    "Then, we stack the tables that where separated for simplicity, and reorganize the list of galaxies so we can compare them with the runs of all the galaxies. Keep in mind that Models_SK0 and Models_Fr0 are practically the same models with some numerical differences (We ran the two different models for consistency and tested that the results are the same)."
   ]
  },
  {
   "cell_type": "code",
   "execution_count": 5,
   "metadata": {
    "ExecuteTime": {
     "end_time": "2021-06-22T13:21:00.126801Z",
     "start_time": "2021-06-22T13:20:55.539801Z"
    }
   },
   "outputs": [],
   "source": [
    "Models_SK = vstack([ModelSL, ModelSI, ModelSH])\n",
    "Models_SK0 = vstack([ModelS0L, ModelS0I, ModelS0H])\n",
    "Models_Fr = vstack([ModelFL, ModelFI, ModelFH])\n",
    "Models_Fr0 = ModelF0[np.concatenate([np.where(ModelF0['id'] == oid)[0] for oid in Models_Fr['id']])]\n",
    "Models_S37 = ModelS37[np.concatenate([np.where(ModelS37['id'] == oid)[0] for oid in Models_SK['id']])]\n",
    "Models_F37 = ModelF37[np.concatenate([np.where(ModelF37['id'] == oid)[0] for oid in Models_Fr['id']])]"
   ]
  },
  {
   "cell_type": "markdown",
   "metadata": {},
   "source": [
    "## Checking $\\chi_{\\rm{red}}^{2}$ distributions\n",
    "Here we calculate the average (percentiles) values of the different $\\chi_{\\rm{red}}^{2}$ in the No-AGN and AGN models.\n",
    "First, with the Fritz models."
   ]
  },
  {
   "cell_type": "code",
   "execution_count": 6,
   "metadata": {
    "ExecuteTime": {
     "end_time": "2021-06-22T13:21:00.761453Z",
     "start_time": "2021-06-22T13:21:00.756732Z"
    }
   },
   "outputs": [
    {
     "name": "stdout",
     "output_type": "stream",
     "text": [
      "75%:  0.7000196130774164\n",
      "50%:  0.40621631495356925\n",
      "25%:  -0.014515131322976474\n"
     ]
    }
   ],
   "source": [
    "Fr0_chis = Models_Fr0['best.reduced_chi_square']\n",
    "Fr_chis = Models_Fr['best.reduced_chi_square']\n",
    "\n",
    "print('75%: ', np.log10(perc75((Fr0_chis - Fr_chis))))\n",
    "print('50%: ', np.log10(np.nanmedian((Fr0_chis - Fr_chis))))\n",
    "print('25%: ', np.log10(perc25((Fr0_chis - Fr_chis))))"
   ]
  },
  {
   "cell_type": "markdown",
   "metadata": {},
   "source": [
    "Then, with the SKIRTOR models"
   ]
  },
  {
   "cell_type": "code",
   "execution_count": 7,
   "metadata": {
    "ExecuteTime": {
     "end_time": "2021-06-22T13:21:03.653237Z",
     "start_time": "2021-06-22T13:21:03.646083Z"
    }
   },
   "outputs": [
    {
     "name": "stdout",
     "output_type": "stream",
     "text": [
      "75%:  0.7039671960464844\n",
      "50%:  0.41391357634130477\n",
      "25%:  0.0013804643674243068\n"
     ]
    }
   ],
   "source": [
    "SK0_chis = Models_SK0['best.reduced_chi_square']\n",
    "SK_chis = Models_SK['best.reduced_chi_square']\n",
    "\n",
    "print('75%: ', np.log10(perc75((SK0_chis - SK_chis))))\n",
    "print('50%: ', np.log10(np.nanmedian((SK0_chis - SK_chis))))\n",
    "print('25%: ', np.log10(perc25((SK0_chis - SK_chis))))"
   ]
  },
  {
   "cell_type": "markdown",
   "metadata": {},
   "source": [
    "Then, in average the No-AGN models have a $\\chi_{\\rm{red}}^{2}$ ~0.41 dex above the AGN models."
   ]
  },
  {
   "cell_type": "markdown",
   "metadata": {},
   "source": [
    "##### FIGURE 2"
   ]
  },
  {
   "cell_type": "markdown",
   "metadata": {},
   "source": [
    "We create an image between $\\chi_{\\rm{red}}^{2}$ and the $f_{\\rm{AGN}}$ to present how important it is to include the AGN in the models. With this figure, we can asses for which galaxies is good to assume a no-AGN model ($f_{\\rm{AGN}}=0$). We also present in a separate panel the  $\\chi_{\\rm{red}}^{2}$  distribution. We calculate the running medians of the trends between $\\chi_{\\rm{red}}^{2}$ and the $f_{\\rm{AGN}}$."
   ]
  },
  {
   "cell_type": "code",
   "execution_count": 8,
   "metadata": {
    "ExecuteTime": {
     "end_time": "2021-06-22T13:21:09.995128Z",
     "start_time": "2021-06-22T13:21:09.962499Z"
    }
   },
   "outputs": [],
   "source": [
    "bin_means, bin_edges, binN = binned_statistic(Models_SK['bayes.agn.fracAGN'],\n",
    "                                              Models_SK['best.reduced_chi_square'],\n",
    "                                              statistic=np.nanmedian,\n",
    "                                              bins=np.linspace(0.1, 0.9, 17))\n",
    "bin_means2, bin_edges2, biN2 = binned_statistic(Models_SK['bayes.agn.fracAGN'],\n",
    "                                                Models_SK0['best.reduced_chi_square'],\n",
    "                                                statistic=np.nanmedian,\n",
    "                                                bins=np.linspace(0.1, 0.9, 17))\n",
    "bin_means3, bin_edges3, binN3 = binned_statistic(Models_Fr['bayes.agn.fracAGN'],\n",
    "                                                 Models_Fr['best.reduced_chi_square'],\n",
    "                                                 statistic=np.nanmedian,\n",
    "                                                 bins=np.linspace(0.1, 0.9, 17))\n",
    "bin_means4, bin_edges4, binN4 = binned_statistic(Models_Fr['bayes.agn.fracAGN'],\n",
    "                                                 Models_Fr0['best.reduced_chi_square'],\n",
    "                                                 statistic=np.nanmedian,\n",
    "                                                 bins=np.linspace(0.1, 0.9, 17))\n",
    "binsChiS = np.linspace(-2.0, 2.5, 46)  # Assuming Chisquare bins in this ranges"
   ]
  },
  {
   "cell_type": "markdown",
   "metadata": {},
   "source": [
    "Here the values for Fritz and SKIRTOR No-AGN models change due to a different $f_{\\rm{AGN}}$ in the models. Then, we plot the FIGURE 2."
   ]
  },
  {
   "cell_type": "code",
   "execution_count": 9,
   "metadata": {
    "ExecuteTime": {
     "end_time": "2021-06-22T13:21:20.232543Z",
     "start_time": "2021-06-22T13:21:18.181154Z"
    }
   },
   "outputs": [],
   "source": [
    "# with plt.style.context('seaborn-talk'):\n",
    "with plt.style.context('seaborn-paper'):\n",
    "    plt.rcParams.update({'font.size': 12})\n",
    "    plt.rcParams.update({'axes.labelsize': 12})\n",
    "    plt.rcParams.update({'legend.fontsize': 10})\n",
    "    plt.rcParams.update({'ytick.labelsize': 10})\n",
    "    plt.rcParams.update({'xtick.labelsize': 10})\n",
    "    fig, (ax1, ax2) = plt.subplots(2, 1, figsize=(6.75, 9.44),\n",
    "                                   sharex=True, gridspec_kw={'height_ratios': [1, 3]})\n",
    "    ax2.scatter(np.log10(Models_SK['best.reduced_chi_square']),\n",
    "                Models_SK['bayes.agn.fracAGN'], alpha=0.02)\n",
    "    ax2.scatter(np.log10(Models_SK0['best.reduced_chi_square']),\n",
    "                Models_SK['bayes.agn.fracAGN'], alpha=0.02)\n",
    "    ax2.scatter(np.log10(Models_Fr['best.reduced_chi_square']),\n",
    "                Models_Fr['bayes.agn.fracAGN'], alpha=0.02)\n",
    "    ax2.scatter(np.log10(Models_Fr0['best.reduced_chi_square']),\n",
    "                Models_Fr['bayes.agn.fracAGN'], alpha=0.02)\n",
    "    ax2.vlines(np.log10(bin_means), bin_edges[:-1], bin_edges[1:], colors='C0', lw=3,\n",
    "               label='SKIRTOR')\n",
    "    ax2.vlines(np.log10(bin_means2), bin_edges2[:-1], bin_edges2[1:], colors='C1', lw=3,\n",
    "               label='SKIRTOR No-AGN')\n",
    "    ax2.vlines(np.log10(bin_means3), bin_edges3[:-1], bin_edges3[1:], colors='C2', lw=3,\n",
    "               label='Fritz')\n",
    "    ax2.vlines(np.log10(bin_means4), bin_edges4[:-1], bin_edges4[1:], colors='C3', lw=3,\n",
    "               label='Fritz No-AGN')\n",
    "    ax2.axvline(x=0.5, ls='--', color='gray')\n",
    "    ax2.axvline(x=-0.5, ls='--', color='gray')\n",
    "    ax2.set_xlabel(r'$\\log(\\chi^2_{\\rm{red}})$')\n",
    "    ax2.set_ylabel('AGN Fraction')\n",
    "    ax2.legend(loc='best')\n",
    "    ax1.set_xlabel('AGN Fraction')\n",
    "    ax1.hist(np.log10(Models_SK['best.reduced_chi_square']),\n",
    "             histtype='step', bins=binsChiS, label='SKIRTOR', lw=2)\n",
    "    ax1.hist(np.log10(Models_SK0['best.reduced_chi_square']),\n",
    "             histtype='step', bins=binsChiS, label='SKIRTOR No-AGN', lw=2)\n",
    "    ax1.hist(np.log10(Models_Fr['best.reduced_chi_square']),\n",
    "             histtype='step', bins=binsChiS, label='Fritz', lw=2)\n",
    "    ax1.hist(np.log10(Models_Fr0['best.reduced_chi_square']),\n",
    "             histtype='step', bins=binsChiS, label='Fritz No-AGN', lw=2)\n",
    "    ax1.axvline(x=0.5, ls='--', color='gray')\n",
    "    ax1.axvline(x=-0.5, ls='--', color='gray')\n",
    "    ax1.set_ylabel('# Galaxies')\n",
    "    ax1.set_xlim(-2, 2)\n",
    "    ax2.set_ylim(0.08, 0.92)\n",
    "    plt.subplots_adjust(wspace=0, hspace=0)\n",
    "#     plt.savefig('../Figures/F2.pdf',dpi=300,bbox_inches = 'tight') # For Paper\n",
    "#     plt.savefig('../Talk_Figures/F2.png',dpi=300,bbox_inches = 'tight') # For Presentation"
   ]
  },
  {
   "cell_type": "markdown",
   "metadata": {},
   "source": [
    "## Cleaning\n",
    "We remove all galaxies with:\n",
    "- Bad fittings: $\\chi_{\\rm{red}}^{2}$ higher than $10^{0.5}$ (Underestimated) and lower than $10^{-0.5}$ (Overestimated).\n",
    "- Galaxies where a No-AGN is probable using the Bayesian inference criterion (BIC)\n",
    "- Galaxies with a bad constrained SFR"
   ]
  },
  {
   "cell_type": "markdown",
   "metadata": {},
   "source": [
    "For the second condition we need to know the number of bands we are using for each galaxy. We retrieve that number from the original photometry files that we use to run CIGALE."
   ]
  },
  {
   "cell_type": "code",
   "execution_count": 10,
   "metadata": {
    "ExecuteTime": {
     "end_time": "2021-06-22T13:21:34.451320Z",
     "start_time": "2021-06-22T13:21:33.946434Z"
    }
   },
   "outputs": [],
   "source": [
    "PhotL = Table.read('../Data/Interim/CIGPhot_EnergyBal_Lowz.tbl',\n",
    "                   format='ascii')\n",
    "PhotI = Table.read('../Data/Interim/CIGPhot_EnergyBal_Intz.tbl',\n",
    "                   format='ascii')\n",
    "PhotH = Table.read('../Data/Interim/CIGPhot_EnergyBal_Highz.tbl',\n",
    "                   format='ascii')\n",
    "Phot = vstack([PhotL, PhotI, PhotH])\n",
    "Nbands = [sum(~np.isnan(list(row)[2::2])) for row in Phot]"
   ]
  },
  {
   "cell_type": "markdown",
   "metadata": {
    "ExecuteTime": {
     "end_time": "2021-06-11T08:58:07.775355Z",
     "start_time": "2021-06-11T08:58:07.768640Z"
    }
   },
   "source": [
    "The Bayesian inference criterion (BIC) is defined as $\\rm{BIC}= \\chi^2 + k\\times\\ln(N)$, where k is the number of parameters and N are the number of data points (bands), and is an approximation of the Bayes factor ([Buat et. al 2019](https://ui.adsabs.harvard.edu/abs/2019A%26A...632A..79B/abstract), [Salmon et al. 2016](https://ui.adsabs.harvard.edu/abs/2016ApJ...827...20S/abstract)). Then, we can calculate the $\\Delta\\rm{BIC}$ to compare the No-AGN and the AGN models."
   ]
  },
  {
   "cell_type": "code",
   "execution_count": 11,
   "metadata": {
    "ExecuteTime": {
     "end_time": "2021-06-22T13:21:55.534533Z",
     "start_time": "2021-06-22T13:21:55.525070Z"
    }
   },
   "outputs": [],
   "source": [
    "Models_SK['DBIC'] = Models_SK['best.chi_square'] - Models_SK0['best.chi_square'] + np.log(Nbands)\n",
    "Models_Fr['DBIC'] = Models_Fr['best.chi_square'] - Models_Fr0['best.chi_square'] + np.log(Nbands)\n",
    "Models_S37['DBIC'] = Models_S37['best.chi_square'] - Models_SK0['best.chi_square'] + np.log(Nbands)\n",
    "Models_F37['DBIC'] = Models_F37['best.chi_square'] - Models_Fr0['best.chi_square'] + np.log(Nbands)"
   ]
  },
  {
   "cell_type": "markdown",
   "metadata": {},
   "source": [
    " We adopt a 'positive'(2) significance criteria for the No-AGN models."
   ]
  },
  {
   "cell_type": "code",
   "execution_count": 12,
   "metadata": {
    "ExecuteTime": {
     "end_time": "2021-06-22T13:22:05.644551Z",
     "start_time": "2021-06-22T13:22:05.548931Z"
    }
   },
   "outputs": [],
   "source": [
    "GoodSFR_SK = (Models_SK['bayes.sfh.sfr_err'] / (Models_SK['bayes.sfh.sfr']*np.log(10))) <= 1\n",
    "SClean = Models_SK[np.logical_and.reduce([SK_chis <= 10**0.5, SK_chis >= 10**-0.5,\n",
    "                                          Models_SK['DBIC'] < 2, GoodSFR_SK])]\n",
    "\n",
    "GoodSFR_Fr = (Models_Fr['bayes.sfh.sfr_err'] / (Models_Fr['bayes.sfh.sfr']*np.log(10))) <= 1\n",
    "FClean = Models_Fr[np.logical_and.reduce([Fr_chis <= 10**0.5, Fr_chis >= 10**-0.5,\n",
    "                                          Models_Fr['DBIC'] < 2, GoodSFR_Fr])]\n",
    "\n",
    "SK37_chis = Models_S37['best.reduced_chi_square']\n",
    "GoodSFR_SK37 = (Models_S37['bayes.sfh.sfr_err'] / (Models_S37['bayes.sfh.sfr']*np.log(10))) <= 1\n",
    "SClean37 = Models_S37[np.logical_and.reduce([SK37_chis <= 10**0.5, SK37_chis >= 10**-0.5,\n",
    "                                             Models_S37['DBIC'] < 2, GoodSFR_SK37])]\n",
    "\n",
    "Fr37_chis = Models_F37['best.reduced_chi_square']\n",
    "GoodSFR_Fr37 = (Models_F37['bayes.sfh.sfr_err'] / (Models_F37['bayes.sfh.sfr']*np.log(10))) <= 1\n",
    "FClean37 = Models_F37[np.logical_and.reduce([Fr37_chis <= 10**0.5, Fr37_chis >= 10**-0.5,\n",
    "                                             Models_F37['DBIC'] < 2, GoodSFR_Fr37])]"
   ]
  },
  {
   "cell_type": "markdown",
   "metadata": {},
   "source": [
    "We additionally print the median values for the simple Fritz and SKIRTOR models."
   ]
  },
  {
   "cell_type": "code",
   "execution_count": 13,
   "metadata": {
    "ExecuteTime": {
     "end_time": "2021-06-22T13:22:14.282206Z",
     "start_time": "2021-06-22T13:22:14.274555Z"
    }
   },
   "outputs": [
    {
     "name": "stdout",
     "output_type": "stream",
     "text": [
      "25%:  SK= 0.5995436187684522 Fr= 0.6266459276426563\n",
      "50%:  SK= 0.9481786461678534 Fr= 0.9805875935858739\n",
      "75%:  SK= 1.5337985161633152 Fr= 1.5674317430722498\n"
     ]
    }
   ],
   "source": [
    "print('25%: ', 'SK=', perc25(SClean['best.reduced_chi_square']),\n",
    "      'Fr=', perc25(FClean['best.reduced_chi_square']))\n",
    "print('50%: ', 'SK=', np.nanmedian(SClean['best.reduced_chi_square']),\n",
    "      'Fr=', np.nanmedian(FClean['best.reduced_chi_square']))\n",
    "print('75%: ', 'SK=', perc75(SClean['best.reduced_chi_square']),\n",
    "      'Fr=', perc75(FClean['best.reduced_chi_square']))"
   ]
  },
  {
   "cell_type": "markdown",
   "metadata": {},
   "source": [
    "We rename the Fritz models as $i=90-\\psi$ (with $\\psi$ the angle between the equator to the pole of the system) and the thermal (dust) luminosity to compare with SKIRTOR model."
   ]
  },
  {
   "cell_type": "code",
   "execution_count": 14,
   "metadata": {
    "ExecuteTime": {
     "end_time": "2021-06-22T13:22:17.648849Z",
     "start_time": "2021-06-22T13:22:17.642574Z"
    }
   },
   "outputs": [],
   "source": [
    "FClean.rename_column('bayes.agn.psy', 'bayes.agn.i')\n",
    "FClean.rename_column('bayes.agn.psy_err', 'bayes.agn.i_err')\n",
    "FClean.rename_column('bayes.agn.therm_luminosity', 'bayes.agn.dust_luminosity')\n",
    "FClean.rename_column('bayes.agn.therm_luminosity_err',\n",
    "                     'bayes.agn.dust_luminosity_err')\n",
    "FClean['bayes.agn.i'] = 90-FClean['bayes.agn.i']\n",
    "\n",
    "FClean37.rename_column('bayes.agn.psy', 'bayes.agn.i')\n",
    "FClean37.rename_column('bayes.agn.psy_err', 'bayes.agn.i_err')\n",
    "FClean37.rename_column('bayes.agn.therm_luminosity',\n",
    "                       'bayes.agn.dust_luminosity')\n",
    "FClean37.rename_column('bayes.agn.therm_luminosity_err',\n",
    "                       'bayes.agn.dust_luminosity_err')\n",
    "FClean37['bayes.agn.i'] = 90-FClean37['bayes.agn.i']"
   ]
  },
  {
   "cell_type": "markdown",
   "metadata": {},
   "source": [
    "Finally, we save the files of the cleaned results"
   ]
  },
  {
   "cell_type": "code",
   "execution_count": 15,
   "metadata": {
    "ExecuteTime": {
     "end_time": "2021-06-22T13:22:24.743181Z",
     "start_time": "2021-06-22T13:22:24.738270Z"
    }
   },
   "outputs": [],
   "source": [
    "SClean.write('../Data/Final/CIGALEOutputs/Cleanresults_SK.fits', format='fits')\n",
    "FClean.write('../Data/Final/CIGALEOutputs/Cleanresults_Fr.fits', format='fits')\n",
    "SClean37.write('../Data/Final/CIGALEOutputs/Cleanresults_SK37.fits', format='fits')\n",
    "FClean37.write('../Data/Final/CIGALEOutputs/Cleanresults_Fr37.fits', format='fits')"
   ]
  },
  {
   "cell_type": "markdown",
   "metadata": {},
   "source": [
    "## Final numbers and counts by classification type\n",
    "##### Part TABLE 3\n",
    "First, we present the final numbers of galaxies that are well-fitted to be analyzed in this work"
   ]
  },
  {
   "cell_type": "code",
   "execution_count": 16,
   "metadata": {
    "ExecuteTime": {
     "end_time": "2021-06-22T13:23:40.987715Z",
     "start_time": "2021-06-22T13:23:40.980512Z"
    }
   },
   "outputs": [
    {
     "name": "stdout",
     "output_type": "stream",
     "text": [
      "Total number of galaxies: 8060\n",
      "The fraction of the removed galaxies depending on condition: Bad Fits=0.71, No-AGN=0.09 and Bad SFR=0.37\n",
      "In the Bad Fits the fractions are: Over-fitting=0.51 and under-fitting=0.49\n"
     ]
    }
   ],
   "source": [
    "# For SK models\n",
    "print('Total number of galaxies:', len(SClean))\n",
    "Removed_Galaxies = len(Models_SK)-len(SClean)\n",
    "Cond1 = sum(np.logical_or(SK_chis >= 10**0.5, SK_chis <= 10**-0.5))/Removed_Galaxies\n",
    "Cond2 = sum(Models_SK['DBIC'] >= 2)/Removed_Galaxies\n",
    "Cond3 = sum(~GoodSFR_SK)/Removed_Galaxies\n",
    "print('The fraction of the removed galaxies depending on condition:',\n",
    "      'Bad Fits=%1.2f, No-AGN=%1.2f and Bad SFR=%1.2f'%(Cond1, Cond2, Cond3))\n",
    "Cond11 = sum(SK_chis >= 10**0.5)/sum(np.logical_or(SK_chis >= 10**0.5, SK_chis <= 10**-0.5))\n",
    "Cond12 = sum(SK_chis <= 10**-0.5)/sum(np.logical_or(SK_chis >= 10**0.5, SK_chis <= 10**-0.5))\n",
    "print('In the Bad Fits the fractions are:',\n",
    "      'Over-fitting=%1.2f and under-fitting=%1.2f'%(Cond11, Cond12))"
   ]
  },
  {
   "cell_type": "code",
   "execution_count": 17,
   "metadata": {
    "ExecuteTime": {
     "end_time": "2021-06-22T13:23:44.932602Z",
     "start_time": "2021-06-22T13:23:44.924895Z"
    }
   },
   "outputs": [
    {
     "name": "stdout",
     "output_type": "stream",
     "text": [
      "Total number of galaxies: 8537\n",
      "The fraction of the removed galaxies depending on condition: Bad Fits=0.75, No-AGN=0.09 and Bad SFR=0.32\n",
      "In the Bad Fits the fractions are: Over-fitting=0.56 and under-fitting=0.44\n"
     ]
    }
   ],
   "source": [
    "# For Fr models\n",
    "print('Total number of galaxies:', len(FClean))\n",
    "Removed_Galaxies = len(Models_Fr)-len(FClean)\n",
    "Cond1 = sum(np.logical_or(Fr_chis >= 10**0.5, Fr_chis <= 10**-0.5))/Removed_Galaxies\n",
    "Cond2 = sum(Models_Fr['DBIC'] >= 2)/Removed_Galaxies\n",
    "Cond3 = sum(~GoodSFR_Fr)/Removed_Galaxies\n",
    "print('The fraction of the removed galaxies depending on condition:',\n",
    "      'Bad Fits=%1.2f, No-AGN=%1.2f and Bad SFR=%1.2f'%(Cond1, Cond2, Cond3))\n",
    "Cond11 = sum(Fr_chis >= 10**0.5)/sum(np.logical_or(Fr_chis >= 10**0.5, Fr_chis <= 10**-0.5))\n",
    "Cond12 = sum(Fr_chis <= 10**-0.5)/sum(np.logical_or(Fr_chis >= 10**0.5, Fr_chis <= 10**-0.5))\n",
    "print('In the Bad Fits the fractions are:',\n",
    "      'Over-fitting=%1.2f and under-fitting=%1.2f'%(Cond11, Cond12))"
   ]
  },
  {
   "cell_type": "code",
   "execution_count": 18,
   "metadata": {
    "ExecuteTime": {
     "end_time": "2021-06-22T13:23:46.463228Z",
     "start_time": "2021-06-22T13:23:46.455570Z"
    }
   },
   "outputs": [
    {
     "name": "stdout",
     "output_type": "stream",
     "text": [
      "Total number of galaxies: 8096\n",
      "The fraction of the removed galaxies depending on condition: Bad Fits=0.70, No-AGN=0.12 and Bad SFR=0.37\n",
      "In the Bad Fits the fractions are: Over-fitting=0.59 and under-fitting=0.41\n"
     ]
    }
   ],
   "source": [
    "# For SK37 models\n",
    "print('Total number of galaxies:', len(SClean37))\n",
    "Removed_Galaxies = len(Models_S37)-len(SClean37)\n",
    "Cond1 = sum(np.logical_or(SK37_chis >= 10**0.5, SK37_chis <= 10**-0.5))/Removed_Galaxies\n",
    "Cond2 = sum(Models_S37['DBIC'] >= 2)/Removed_Galaxies\n",
    "Cond3 = sum(~GoodSFR_SK37)/Removed_Galaxies\n",
    "print('The fraction of the removed galaxies depending on condition:',\n",
    "      'Bad Fits=%1.2f, No-AGN=%1.2f and Bad SFR=%1.2f'%(Cond1, Cond2, Cond3))\n",
    "Cond11 = sum(SK37_chis >= 10**0.5)/sum(np.logical_or(SK37_chis >= 10**0.5, SK37_chis <= 10**-0.5))\n",
    "Cond12 = sum(SK37_chis <= 10**-0.5)/sum(np.logical_or(SK37_chis >= 10**0.5, SK37_chis <= 10**-0.5))\n",
    "print('In the Bad Fits the fractions are:',\n",
    "      'Over-fitting=%1.2f and under-fitting=%1.2f'%(Cond11, Cond12))"
   ]
  },
  {
   "cell_type": "code",
   "execution_count": 19,
   "metadata": {
    "ExecuteTime": {
     "end_time": "2021-06-22T13:23:47.559674Z",
     "start_time": "2021-06-22T13:23:47.555058Z"
    }
   },
   "outputs": [
    {
     "name": "stdout",
     "output_type": "stream",
     "text": [
      "Total number of galaxies: 8439\n",
      "The fraction of the removed galaxies depending on condition: Bad Fits=0.74, No-AGN=0.14 and Bad SFR=0.31\n",
      "In the Bad Fits the fractions are: Over-fitting=0.65 and under-fitting=0.35\n"
     ]
    }
   ],
   "source": [
    "# For Fr37 models\n",
    "print('Total number of galaxies:', len(FClean37))\n",
    "Removed_Galaxies = len(Models_F37)-len(FClean37)\n",
    "Cond1 = sum(np.logical_or(Fr37_chis >= 10**0.5, Fr37_chis <= 10**-0.5))/Removed_Galaxies\n",
    "Cond2 = sum(Models_F37['DBIC'] >= 2)/Removed_Galaxies\n",
    "Cond3 = sum(~GoodSFR_Fr37)/Removed_Galaxies\n",
    "print('The fraction of the removed galaxies depending on condition:',\n",
    "      'Bad Fits=%1.2f, No-AGN=%1.2f and Bad SFR=%1.2f'%(Cond1, Cond2, Cond3))\n",
    "Cond11 = sum(Fr37_chis >= 10**0.5)/sum(np.logical_or(Fr37_chis >= 10**0.5, Fr37_chis <= 10**-0.5))\n",
    "Cond12 = sum(Fr37_chis <= 10**-0.5)/sum(np.logical_or(Fr37_chis >= 10**0.5, Fr37_chis <= 10**-0.5))\n",
    "print('In the Bad Fits the fractions are:',\n",
    "      'Over-fitting=%1.2f and under-fitting=%1.2f'%(Cond11, Cond12))"
   ]
  },
  {
   "cell_type": "markdown",
   "metadata": {},
   "source": [
    "Here we count the classification types for the different CIGALE AGN models (To be used in Table 3). We read the VCV_SMB_otype.txt file to obtain the classifications and change the id in CIGALE models to a string format. Then, we join the tables and count the classifications."
   ]
  },
  {
   "cell_type": "code",
   "execution_count": 20,
   "metadata": {
    "ExecuteTime": {
     "end_time": "2021-06-11T09:29:19.108971Z",
     "start_time": "2021-06-11T09:29:17.969919Z"
    }
   },
   "outputs": [],
   "source": [
    "Sample = Table.read('../Data/Final/VCV_SMB_otype.txt',\n",
    "                    format='ascii').to_pandas()\n",
    "SClean['main_id'] = np.array(SClean['id'], dtype='U30')\n",
    "FClean['main_id'] = np.array(FClean['id'], dtype='U30')\n",
    "SClean37['main_id'] = np.array(SClean37['id'], dtype='U30')\n",
    "FClean37['main_id'] = np.array(FClean37['id'], dtype='U30')"
   ]
  },
  {
   "cell_type": "code",
   "execution_count": 21,
   "metadata": {
    "ExecuteTime": {
     "end_time": "2021-06-11T09:29:21.159351Z",
     "start_time": "2021-06-11T09:29:20.956937Z"
    }
   },
   "outputs": [],
   "source": [
    "SClass = SClean.to_pandas().join(Sample.set_index('main_id'), on='main_id')\n",
    "FClass = FClean.to_pandas().join(Sample.set_index('main_id'), on='main_id')\n",
    "S37Class = SClean37.to_pandas().join(Sample.set_index('main_id'), on='main_id')\n",
    "F37Class = FClean37.to_pandas().join(Sample.set_index('main_id'), on='main_id')"
   ]
  },
  {
   "cell_type": "markdown",
   "metadata": {},
   "source": [
    "##### SKIRTOR"
   ]
  },
  {
   "cell_type": "code",
   "execution_count": 22,
   "metadata": {
    "ExecuteTime": {
     "end_time": "2021-06-11T09:29:24.289697Z",
     "start_time": "2021-06-11T09:29:24.276597Z"
    }
   },
   "outputs": [
    {
     "name": "stdout",
     "output_type": "stream",
     "text": [
      "Classified Seyfer galaxies: 7479\n",
      "Intermediate classifications 511\n",
      "Other classifications 70\n"
     ]
    },
    {
     "data": {
      "text/plain": [
       "Sp\n",
       "S         30\n",
       "S1      5975\n",
       "S1.0     104\n",
       "S1.2      94\n",
       "S1.5     205\n",
       "S1.8      66\n",
       "S1.9      42\n",
       "S1h       18\n",
       "S1i        2\n",
       "S1n0       5\n",
       "S1n2       3\n",
       "S1n5       5\n",
       "S2      1474\n",
       "S3        24\n",
       "S3b        1\n",
       "S?        12\n",
       "dtype: int64"
      ]
     },
     "execution_count": 22,
     "metadata": {},
     "output_type": "execute_result"
    }
   ],
   "source": [
    "print('Classified Seyfert galaxies:',\n",
    "      sum(SClass.groupby('Sp').size()[['S1', 'S2', 'S']]))\n",
    "print('Intermediate classifications',\n",
    "      sum(SClass.groupby('Sp').size()[['S1.0', 'S1.2', 'S1.5',\n",
    "                                       'S1.8', 'S1.9']]))\n",
    "print('Other classifications',\n",
    "      sum(SClass.groupby('Sp').size()[['S1h', 'S1i', 'S1n0', 'S1n2',\n",
    "                                       'S1n5', 'S3', 'S3b', 'S?']]))\n",
    "SClass.groupby('Sp').size()"
   ]
  },
  {
   "cell_type": "code",
   "execution_count": 23,
   "metadata": {
    "ExecuteTime": {
     "end_time": "2021-06-11T09:29:27.552993Z",
     "start_time": "2021-06-11T09:29:27.546228Z"
    }
   },
   "outputs": [
    {
     "data": {
      "text/plain": [
       "otype_txt\n",
       "Sy1    6389\n",
       "Sy2    1626\n",
       "SyG      45\n",
       "dtype: int64"
      ]
     },
     "execution_count": 23,
     "metadata": {},
     "output_type": "execute_result"
    }
   ],
   "source": [
    "SClass.groupby('otype_txt').size()"
   ]
  },
  {
   "cell_type": "markdown",
   "metadata": {},
   "source": [
    "##### Fritz"
   ]
  },
  {
   "cell_type": "code",
   "execution_count": 24,
   "metadata": {
    "ExecuteTime": {
     "end_time": "2021-06-11T09:29:30.008037Z",
     "start_time": "2021-06-11T09:29:29.994055Z"
    }
   },
   "outputs": [
    {
     "name": "stdout",
     "output_type": "stream",
     "text": [
      "Classified Seyfer galaxies: 7980\n",
      "Intermediate classifications 492\n",
      "Other classifications 65\n"
     ]
    },
    {
     "data": {
      "text/plain": [
       "Sp\n",
       "S         29\n",
       "S1      6438\n",
       "S1.0     101\n",
       "S1.2      88\n",
       "S1.5     195\n",
       "S1.8      66\n",
       "S1.9      42\n",
       "S1h       12\n",
       "S1i        1\n",
       "S1n0       4\n",
       "S1n2       5\n",
       "S1n5       5\n",
       "S2      1513\n",
       "S3        23\n",
       "S3b        1\n",
       "S?        14\n",
       "dtype: int64"
      ]
     },
     "execution_count": 24,
     "metadata": {},
     "output_type": "execute_result"
    }
   ],
   "source": [
    "print('Classified Seyfert galaxies:',\n",
    "      sum(FClass.groupby('Sp').size()[['S1', 'S2', 'S']]))\n",
    "print('Intermediate classifications',\n",
    "      sum(FClass.groupby('Sp').size()[['S1.0', 'S1.2', 'S1.5',\n",
    "                                       'S1.8', 'S1.9']]))\n",
    "print('Other classifications',\n",
    "      sum(FClass.groupby('Sp').size()[['S1h', 'S1i', 'S1n0', 'S1n2',\n",
    "                                       'S1n5', 'S3', 'S3b', 'S?']]))\n",
    "FClass.groupby('Sp').size()"
   ]
  },
  {
   "cell_type": "code",
   "execution_count": 25,
   "metadata": {
    "ExecuteTime": {
     "end_time": "2021-06-11T09:29:32.601979Z",
     "start_time": "2021-06-11T09:29:32.595234Z"
    }
   },
   "outputs": [
    {
     "data": {
      "text/plain": [
       "otype_txt\n",
       "Sy1    6821\n",
       "Sy2    1673\n",
       "SyG      43\n",
       "dtype: int64"
      ]
     },
     "execution_count": 25,
     "metadata": {},
     "output_type": "execute_result"
    }
   ],
   "source": [
    "FClass.groupby('otype_txt').size()"
   ]
  },
  {
   "cell_type": "markdown",
   "metadata": {},
   "source": [
    "##### SKIRTOR with 30/70 angles"
   ]
  },
  {
   "cell_type": "code",
   "execution_count": 26,
   "metadata": {
    "ExecuteTime": {
     "end_time": "2021-06-11T09:29:38.342914Z",
     "start_time": "2021-06-11T09:29:38.330248Z"
    }
   },
   "outputs": [
    {
     "name": "stdout",
     "output_type": "stream",
     "text": [
      "Classified Seyfer galaxies: 7540\n",
      "Intermediate classifications 496\n",
      "Other classifications 60\n"
     ]
    },
    {
     "data": {
      "text/plain": [
       "Sp\n",
       "S         30\n",
       "S1      6104\n",
       "S1.0     100\n",
       "S1.2      91\n",
       "S1.5     198\n",
       "S1.8      65\n",
       "S1.9      42\n",
       "S1h       14\n",
       "S1i        2\n",
       "S1n0       3\n",
       "S1n2       3\n",
       "S1n5       4\n",
       "S2      1406\n",
       "S3        19\n",
       "S3b        1\n",
       "S?        14\n",
       "dtype: int64"
      ]
     },
     "execution_count": 26,
     "metadata": {},
     "output_type": "execute_result"
    }
   ],
   "source": [
    "print('Classified Seyfert galaxies:',\n",
    "      sum(S37Class.groupby('Sp').size()[['S1', 'S2', 'S']]))\n",
    "print('Intermediate classifications',\n",
    "      sum(S37Class.groupby('Sp').size()[['S1.0', 'S1.2', 'S1.5',\n",
    "                                         'S1.8', 'S1.9']]))\n",
    "print('Other classifications',\n",
    "      sum(S37Class.groupby('Sp').size()[['S1h', 'S1i', 'S1n0', 'S1n2',\n",
    "                                         'S1n5', 'S3', 'S3b', 'S?']]))\n",
    "S37Class.groupby('Sp').size()"
   ]
  },
  {
   "cell_type": "code",
   "execution_count": 27,
   "metadata": {
    "ExecuteTime": {
     "end_time": "2021-06-11T09:29:40.496842Z",
     "start_time": "2021-06-11T09:29:40.492202Z"
    }
   },
   "outputs": [
    {
     "data": {
      "text/plain": [
       "otype_txt\n",
       "Sy1    6492\n",
       "Sy2    1561\n",
       "SyG      43\n",
       "dtype: int64"
      ]
     },
     "execution_count": 27,
     "metadata": {},
     "output_type": "execute_result"
    }
   ],
   "source": [
    "S37Class.groupby('otype_txt').size()"
   ]
  },
  {
   "cell_type": "markdown",
   "metadata": {},
   "source": [
    "##### Fritz with 30/70 angles"
   ]
  },
  {
   "cell_type": "code",
   "execution_count": 28,
   "metadata": {
    "ExecuteTime": {
     "end_time": "2021-06-11T09:29:42.956648Z",
     "start_time": "2021-06-11T09:29:42.946986Z"
    }
   },
   "outputs": [
    {
     "name": "stdout",
     "output_type": "stream",
     "text": [
      "Classified Seyfer galaxies: 7898\n",
      "Intermediate classifications 482\n",
      "Other classifications 59\n"
     ]
    },
    {
     "data": {
      "text/plain": [
       "Sp\n",
       "S         30\n",
       "S1      6494\n",
       "S1.0      95\n",
       "S1.2      85\n",
       "S1.5     196\n",
       "S1.8      64\n",
       "S1.9      42\n",
       "S1h       11\n",
       "S1i        2\n",
       "S1n0       4\n",
       "S1n2       5\n",
       "S1n5       5\n",
       "S2      1374\n",
       "S3        19\n",
       "S?        13\n",
       "dtype: int64"
      ]
     },
     "execution_count": 28,
     "metadata": {},
     "output_type": "execute_result"
    }
   ],
   "source": [
    "print('Classified Seyfert galaxies:',\n",
    "      sum(F37Class.groupby('Sp').size()[['S1', 'S2', 'S']]))\n",
    "print('Intermediate classifications',\n",
    "      sum(F37Class.groupby('Sp').size()[['S1.0', 'S1.2', 'S1.5',\n",
    "                                         'S1.8', 'S1.9']]))\n",
    "print('Other classifications',\n",
    "      sum(F37Class.groupby('Sp').size()[['S1h', 'S1i', 'S1n0', 'S1n2',\n",
    "                                         'S1n5', 'S3', 'S?']]))\n",
    "F37Class.groupby('Sp').size()"
   ]
  },
  {
   "cell_type": "code",
   "execution_count": 29,
   "metadata": {
    "ExecuteTime": {
     "end_time": "2021-06-11T09:29:45.608239Z",
     "start_time": "2021-06-11T09:29:45.601577Z"
    }
   },
   "outputs": [
    {
     "data": {
      "text/plain": [
       "otype_txt\n",
       "Sy1    6864\n",
       "Sy2    1533\n",
       "SyG      42\n",
       "dtype: int64"
      ]
     },
     "execution_count": 29,
     "metadata": {},
     "output_type": "execute_result"
    }
   ],
   "source": [
    "F37Class.groupby('otype_txt').size()"
   ]
  },
  {
   "cell_type": "markdown",
   "metadata": {},
   "source": [
    "##### Notebook info"
   ]
  },
  {
   "cell_type": "code",
   "execution_count": 30,
   "metadata": {
    "ExecuteTime": {
     "end_time": "2021-06-11T09:29:48.435824Z",
     "start_time": "2021-06-11T09:29:48.083296Z"
    }
   },
   "outputs": [
    {
     "name": "stdout",
     "output_type": "stream",
     "text": [
      "Author: Andres Ramos\n",
      "\n",
      "Python implementation: CPython\n",
      "Python version       : 3.8.3\n",
      "IPython version      : 7.16.1\n",
      "\n",
      "Compiler    : GCC 7.3.0\n",
      "OS          : Linux\n",
      "Release     : 3.10.0-1160.25.1.el7.x86_64\n",
      "Machine     : x86_64\n",
      "Processor   : x86_64\n",
      "CPU cores   : 8\n",
      "Architecture: 64bit\n",
      "\n",
      "Specific Python packages\n",
      "astropy: 4.2\n",
      "pandas : 1.2.0\n",
      "scipy  : 1.6.0\n",
      "\n",
      "matplotlib: 3.2.2\n",
      "json      : 2.0.9\n",
      "sys       : 3.8.3 (default, Jul  2 2020, 16:21:59) \n",
      "[GCC 7.3.0]\n",
      "numpy     : 1.19.5\n",
      "re        : 2.2.1\n",
      "logging   : 0.5.1.2\n",
      "autopep8  : 1.5.7\n",
      "\n",
      "Watermark: 2.1.0\n",
      "\n"
     ]
    }
   ],
   "source": [
    "%load_ext watermark\n",
    "%watermark -a \"Andres Ramos\" -d -v -m\n",
    "print('Specific Python packages')\n",
    "%watermark -iv -w --packages astropy,pandas,scipy"
   ]
  },
  {
   "cell_type": "code",
   "execution_count": null,
   "metadata": {},
   "outputs": [],
   "source": []
  }
 ],
 "metadata": {
  "hide_input": false,
  "kernelspec": {
   "display_name": "Python 3",
   "language": "python",
   "name": "python3"
  },
  "language_info": {
   "codemirror_mode": {
    "name": "ipython",
    "version": 3
   },
   "file_extension": ".py",
   "mimetype": "text/x-python",
   "name": "python",
   "nbconvert_exporter": "python",
   "pygments_lexer": "ipython3",
   "version": "3.8.3"
  },
  "toc": {
   "base_numbering": "7",
   "nav_menu": {},
   "number_sections": true,
   "sideBar": true,
   "skip_h1_title": false,
   "title_cell": "Table of Contents",
   "title_sidebar": "Contents",
   "toc_cell": false,
   "toc_position": {
    "height": "calc(100% - 180px)",
    "left": "10px",
    "top": "150px",
    "width": "165px"
   },
   "toc_section_display": true,
   "toc_window_display": true
  },
  "varInspector": {
   "cols": {
    "lenName": 16,
    "lenType": 16,
    "lenVar": 40
   },
   "kernels_config": {
    "python": {
     "delete_cmd_postfix": "",
     "delete_cmd_prefix": "del ",
     "library": "var_list.py",
     "varRefreshCmd": "print(var_dic_list())"
    },
    "r": {
     "delete_cmd_postfix": ") ",
     "delete_cmd_prefix": "rm(",
     "library": "var_list.r",
     "varRefreshCmd": "cat(var_dic_list()) "
    }
   },
   "types_to_exclude": [
    "module",
    "function",
    "builtin_function_or_method",
    "instance",
    "_Feature"
   ],
   "window_display": false
  }
 },
 "nbformat": 4,
 "nbformat_minor": 4
}
