{
 "cells": [
  {
   "cell_type": "markdown",
   "metadata": {},
   "source": [
    "# Clean CIGALE results\n",
    "Here we join the runs from CIGALE of the three different redsfhit ranges that we use (Low, Intermediate and High). We also present the first figures of this work. First, we import the important packages"
   ]
  },
  {
   "cell_type": "code",
   "execution_count": 1,
   "metadata": {
    "ExecuteTime": {
     "end_time": "2021-05-27T11:41:50.662278Z",
     "start_time": "2021-05-27T11:41:50.198177Z"
    }
   },
   "outputs": [
    {
     "name": "stdout",
     "output_type": "stream",
     "text": [
      "Using matplotlib backend: Qt5Agg\n",
      "Populating the interactive namespace from numpy and matplotlib\n"
     ]
    }
   ],
   "source": [
    "%pylab"
   ]
  },
  {
   "cell_type": "code",
   "execution_count": 2,
   "metadata": {
    "ExecuteTime": {
     "end_time": "2021-05-27T11:41:51.512313Z",
     "start_time": "2021-05-27T11:41:50.663290Z"
    }
   },
   "outputs": [],
   "source": [
    "from astropy.table import Table, join, vstack\n",
    "from scipy.stats import binned_statistic"
   ]
  },
  {
   "cell_type": "code",
   "execution_count": 3,
   "metadata": {
    "ExecuteTime": {
     "end_time": "2021-05-27T11:41:51.515731Z",
     "start_time": "2021-05-27T11:41:51.513361Z"
    }
   },
   "outputs": [],
   "source": [
    "# User shortcuts\n",
    "def Perc75(array):\n",
    "    \"\"\"75th Percentile\"\"\"\n",
    "    return(np.nanpercentile(array, 75))\n",
    "\n",
    "\n",
    "def Perc25(array):\n",
    "    \"\"\"25th Percentile\"\"\"\n",
    "    return(np.nanpercentile(array, 25))"
   ]
  },
  {
   "cell_type": "markdown",
   "metadata": {},
   "source": [
    "## Joining CIGALE files"
   ]
  },
  {
   "cell_type": "markdown",
   "metadata": {},
   "source": [
    "We read the results from the AGN models we are going to use. These models are the ones presented by Stalevski et. al 2012, 2016 [(SKIRTOR)](https://ui.adsabs.harvard.edu/abs/2016MNRAS.458.2288S/abstract) and Fritz et. al 2006 [(Fritz)](https://ui.adsabs.harvard.edu/abs/2006MNRAS.366..767F/abstract)."
   ]
  },
  {
   "cell_type": "code",
   "execution_count": 4,
   "metadata": {
    "ExecuteTime": {
     "end_time": "2021-05-27T11:41:53.091485Z",
     "start_time": "2021-05-27T11:41:51.516700Z"
    }
   },
   "outputs": [],
   "source": [
    "InterimFolder = '../Data/Interim/CIGALEOutputs/'\n",
    "\n",
    "# SKIRTOR models\n",
    "ModelSL = Table.read(InterimFolder+'results_SKLz_3Dic.fits', format='fits')\n",
    "ModelS0L = Table.read(InterimFolder+'results_SKLz0_3Dic.fits', format='fits')\n",
    "\n",
    "ModelSI = Table.read(InterimFolder+'results_SKIz_3Dic.fits', format='fits')\n",
    "ModelS0I = Table.read(InterimFolder+'results_SKIz0_3Dic.fits', format='fits')\n",
    "\n",
    "ModelSH = Table.read(InterimFolder+'results_SKHz_3Dic.fits', format='fits')\n",
    "ModelS0H = Table.read(InterimFolder+'results_SKHz0_3Dic.fits', format='fits')\n",
    "\n",
    "# Fritz models\n",
    "ModelFL = Table.read(InterimFolder+'results_FrLz_3Dic.fits', format='fits')\n",
    "ModelFI = Table.read(InterimFolder+'results_FrIz_3Dic.fits', format='fits')\n",
    "ModelFH = Table.read(InterimFolder+'results_FrHz_3Dic.fits', format='fits')\n",
    "\n",
    "ModelF0 = Table.read(InterimFolder+'results_Fr0_3Dic.fits', format='fits')\n",
    "\n",
    "# Model Two-angles\n",
    "ModelS37 = Table.read(InterimFolder+'results_SK3070_3Dic.fits', format='fits')\n",
    "ModelF37 = Table.read(InterimFolder+'results_Fr3070_3Dic.fits', format='fits')"
   ]
  },
  {
   "cell_type": "markdown",
   "metadata": {},
   "source": [
    "Then, we stack the tables that where separated for simplicity, and reorganize the list of galaxies so we can compare them with the runs of all the galaxies. Keep in mind that Models_SK0 and Models_Fr0 are practically the same models with some numerical differences (We ran the two different models for consistency and tested that the results are the same)."
   ]
  },
  {
   "cell_type": "code",
   "execution_count": 5,
   "metadata": {
    "ExecuteTime": {
     "end_time": "2021-05-27T11:41:57.627005Z",
     "start_time": "2021-05-27T11:41:53.092339Z"
    }
   },
   "outputs": [],
   "source": [
    "Models_SK  = vstack([ModelSL, ModelSI, ModelSH])\n",
    "Models_SK0 = vstack([ModelS0L, ModelS0I, ModelS0H])\n",
    "Models_Fr  = vstack([ModelFL, ModelFI, ModelFH])\n",
    "Models_Fr0 = ModelF0[np.concatenate([where(ModelF0['id'] == oid)[0] for oid in Models_Fr['id']])]\n",
    "Models_S37 = ModelS37[np.concatenate([where(ModelS37['id'] == oid)[0] for oid in Models_SK['id']])]\n",
    "Models_F37 = ModelF37[np.concatenate([where(ModelF37['id'] == oid)[0] for oid in Models_Fr['id']])]"
   ]
  },
  {
   "cell_type": "markdown",
   "metadata": {},
   "source": [
    "## Checking $\\chi_{\\rm{red}}^{2}$ distributions \n",
    "Here we calculate the average (percentiles) values of the different $\\chi_{\\rm{red}}^{2}$ in the No-AGN and AGN models. \n",
    "First, with the Fritz models."
   ]
  },
  {
   "cell_type": "code",
   "execution_count": 6,
   "metadata": {
    "ExecuteTime": {
     "end_time": "2021-05-27T11:41:57.632939Z",
     "start_time": "2021-05-27T11:41:57.628768Z"
    }
   },
   "outputs": [
    {
     "name": "stdout",
     "output_type": "stream",
     "text": [
      "75%:  0.7000196130774164\n",
      "50%:  0.40621631495356925\n",
      "25%:  -0.014515131322976474\n"
     ]
    }
   ],
   "source": [
    "Fr0_chis = Models_Fr0['best.reduced_chi_square']\n",
    "Fr_chis = Models_Fr['best.reduced_chi_square']\n",
    "\n",
    "print('75%: ', log10(Perc75((Fr0_chis - Fr_chis))))\n",
    "print('50%: ', log10(nanmedian((Fr0_chis - Fr_chis))))\n",
    "print('25%: ', log10(Perc25((Fr0_chis - Fr_chis))))"
   ]
  },
  {
   "cell_type": "markdown",
   "metadata": {},
   "source": [
    "Then, with the SKIRTOR models"
   ]
  },
  {
   "cell_type": "code",
   "execution_count": 7,
   "metadata": {
    "ExecuteTime": {
     "end_time": "2021-05-27T11:41:57.638964Z",
     "start_time": "2021-05-27T11:41:57.633689Z"
    }
   },
   "outputs": [
    {
     "name": "stdout",
     "output_type": "stream",
     "text": [
      "75%:  0.7039671960464844\n",
      "50%:  0.41391357634130477\n",
      "25%:  0.0013804643674243068\n"
     ]
    }
   ],
   "source": [
    "SK0_chis = Models_SK0['best.reduced_chi_square']\n",
    "SK_chis = Models_SK['best.reduced_chi_square']\n",
    "\n",
    "print('75%: ', log10(Perc75((SK0_chis - SK_chis))))\n",
    "print('50%: ', log10(nanmedian((SK0_chis - SK_chis))))\n",
    "print('25%: ', log10(Perc25((SK0_chis - SK_chis))))"
   ]
  },
  {
   "cell_type": "markdown",
   "metadata": {},
   "source": [
    "Then, in average the No-AGN models have a $\\chi_{\\rm{red}}^{2}$ ~0.41 dex above the AGN models."
   ]
  },
  {
   "cell_type": "markdown",
   "metadata": {},
   "source": [
    "##### FIGURE 2\n",
    "\n",
    "We create an image between $\\chi_{\\rm{red}}^{2}$ and the $f_{\\rm{AGN}}$ to present how important it is to include the AGN in the models. With this figure, we can asses for which galaxies is good to assume a no-AGN model ($f_{\\rm{AGN}}=0$). We also present in a separate panel the  $\\chi_{\\rm{red}}^{2}$  distribution. \n",
    "\n",
    "We calculate the running medians of the trends between $\\chi_{\\rm{red}}^{2}$ and the $f_{\\rm{AGN}}$."
   ]
  },
  {
   "cell_type": "code",
   "execution_count": 8,
   "metadata": {
    "ExecuteTime": {
     "end_time": "2021-05-27T11:41:57.669014Z",
     "start_time": "2021-05-27T11:41:57.639699Z"
    }
   },
   "outputs": [],
   "source": [
    "bin_means, bin_edges, binN = binned_statistic(Models_SK['bayes.agn.fracAGN'],\n",
    "                                              Models_SK['best.reduced_chi_square'],\n",
    "                                              statistic=nanmedian, \n",
    "                                              bins=np.linspace(0.1, 0.9, 17))\n",
    "bin_means2, bin_edges2, biN2 = binned_statistic(Models_SK['bayes.agn.fracAGN'],\n",
    "                                                Models_SK0['best.reduced_chi_square'],\n",
    "                                                statistic=nanmedian,\n",
    "                                                bins=np.linspace(0.1, 0.9, 17))\n",
    "bin_means3, bin_edges3, binN3 = binned_statistic(Models_Fr['bayes.agn.fracAGN'],\n",
    "                                                 Models_Fr['best.reduced_chi_square'],\n",
    "                                                 statistic=nanmedian,\n",
    "                                                 bins=np.linspace(0.1, 0.9, 17))\n",
    "bin_means4, bin_edges4, binN4 = binned_statistic(Models_Fr['bayes.agn.fracAGN'],\n",
    "                                                 Models_Fr0['best.reduced_chi_square'],\n",
    "                                                 statistic=nanmedian, \n",
    "                                                 bins=np.linspace(0.1, 0.9, 17))\n",
    "binsChiS = np.linspace(-2.0, 2.5, 46)  # Assuming Chisquare bins in this ranges"
   ]
  },
  {
   "cell_type": "markdown",
   "metadata": {},
   "source": [
    "Here the values for Fritz and SKIRTOR No-AGN models change due to a different fAGN in the models. \n",
    "\n",
    "Then, we plot the FIGURE 2"
   ]
  },
  {
   "cell_type": "code",
   "execution_count": 9,
   "metadata": {
    "ExecuteTime": {
     "end_time": "2021-05-27T11:42:02.523003Z",
     "start_time": "2021-05-27T11:41:57.669923Z"
    }
   },
   "outputs": [],
   "source": [
    "# with plt.style.context('seaborn-talk'):\n",
    "with plt.style.context('seaborn-paper'):\n",
    "    plt.rcParams.update({'font.size': 12})\n",
    "    plt.rcParams.update({'axes.labelsize': 12})\n",
    "    plt.rcParams.update({'legend.fontsize': 10})\n",
    "    plt.rcParams.update({'ytick.labelsize': 10})\n",
    "    plt.rcParams.update({'xtick.labelsize': 10})\n",
    "    fig, (ax1, ax2) = plt.subplots(2, 1, figsize=(6.75, 9.44),\n",
    "                                   sharex=True, gridspec_kw={'height_ratios': [1, 3]})\n",
    "    ax2.scatter(log10(Models_SK['best.reduced_chi_square']),\n",
    "                Models_SK['bayes.agn.fracAGN'], alpha=0.02)\n",
    "    ax2.scatter(log10(Models_SK0['best.reduced_chi_square']),\n",
    "                Models_SK['bayes.agn.fracAGN'], alpha=0.02)\n",
    "    ax2.scatter(log10(Models_Fr['best.reduced_chi_square']),\n",
    "                Models_Fr['bayes.agn.fracAGN'], alpha=0.02)\n",
    "    ax2.scatter(log10(Models_Fr0['best.reduced_chi_square']),\n",
    "                Models_Fr['bayes.agn.fracAGN'], alpha=0.02)\n",
    "    ax2.vlines(log10(bin_means), bin_edges[:-1], bin_edges[1:], colors='C0', lw=3,\n",
    "               label='SKIRTOR')\n",
    "    ax2.vlines(log10(bin_means2), bin_edges2[:-1], bin_edges2[1:], colors='C1', lw=3,\n",
    "               label='SKIRTOR No-AGN')\n",
    "    ax2.vlines(log10(bin_means3), bin_edges3[:-1], bin_edges3[1:], colors='C2', lw=3,\n",
    "               label='Fritz')\n",
    "    ax2.vlines(log10(bin_means4), bin_edges4[:-1], bin_edges4[1:], colors='C3', lw=3,\n",
    "               label='Fritz No-AGN')\n",
    "    ax2.axvline(x=0.5, ls='--', color='gray')\n",
    "    ax2.axvline(x=-0.5, ls='--', color='gray')\n",
    "    ax2.set_xlabel(r'$\\log(\\chi^2_{\\rm{red}})$')\n",
    "    ax2.set_ylabel('AGN Fraction')\n",
    "    ax2.legend(loc='best')\n",
    "    ax1.set_xlabel('AGN Fraction')\n",
    "    ax1.hist(log10(Models_SK['best.reduced_chi_square']),\n",
    "             histtype='step', bins=binsChiS, label='SKIRTOR', lw=2)\n",
    "    ax1.hist(log10(Models_SK0['best.reduced_chi_square']),\n",
    "             histtype='step', bins=binsChiS, label='SKIRTOR No-AGN', lw=2)\n",
    "    ax1.hist(log10(Models_Fr['best.reduced_chi_square']),\n",
    "             histtype='step', bins=binsChiS, label='Fritz', lw=2)\n",
    "    ax1.hist(log10(Models_Fr0['best.reduced_chi_square']),\n",
    "             histtype='step', bins=binsChiS, label='Fritz No-AGN', lw=2)\n",
    "    ax1.axvline(x=0.5, ls='--', color='gray')\n",
    "    ax1.axvline(x=-0.5, ls='--', color='gray')\n",
    "    ax1.set_ylabel('# Galaxies')\n",
    "    ax1.set_xlim(-2, 2)\n",
    "    ax2.set_ylim(0.08, 0.92)\n",
    "    subplots_adjust(wspace=0, hspace=0)\n",
    "#     plt.savefig('Figures/F2.pdf',dpi=300,bbox_inches = 'tight') # For Paper\n",
    "#     plt.savefig('Talk_Figures/F2.png',dpi=300,bbox_inches = 'tight') # For Presentation"
   ]
  },
  {
   "cell_type": "markdown",
   "metadata": {},
   "source": [
    "## Cleaning\n",
    "We remove all galaxies with:\n",
    "- Bad fittings: $\\chi_{\\rm{red}}^{2}$ higher than $10^{0.5}$ (Underestimated) and lower than $10^{-0.5}$ (Overestimated).\n",
    "- Galaxies where a No-AGN is probable\n",
    "- Galaxies with a bad constrained SFR\n",
    "\n",
    "We additionally print the median values for the simple Fritz and SKIRTOR models."
   ]
  },
  {
   "cell_type": "code",
   "execution_count": 10,
   "metadata": {
    "ExecuteTime": {
     "end_time": "2021-05-27T11:42:02.698674Z",
     "start_time": "2021-05-27T11:42:02.524821Z"
    }
   },
   "outputs": [
    {
     "name": "stdout",
     "output_type": "stream",
     "text": [
      "25%:  SK= 0.5996758469826187 Fr= 0.6266786960476942\n",
      "50%:  SK= 0.9491982106048291 Fr= 0.9814227689290372\n",
      "75%:  SK= 1.5358495537730237 Fr= 1.572620314503632\n"
     ]
    }
   ],
   "source": [
    "GoodSFR_SK = (Models_SK['bayes.sfh.sfr_err'] / (Models_SK['bayes.sfh.sfr']*log(10))) <= 1\n",
    "SClean = Models_SK[np.logical_and.reduce([SK_chis <= 10**0.5, SK_chis >= 10**-0.5,\n",
    "                                          SK_chis < SK0_chis, GoodSFR_SK])]\n",
    "\n",
    "GoodSFR_Fr = (Models_Fr['bayes.sfh.sfr_err'] / (Models_Fr['bayes.sfh.sfr']*log(10))) <= 1\n",
    "FClean = Models_Fr[np.logical_and.reduce([Fr_chis <= 10**0.5, Fr_chis >= 10**-0.5,\n",
    "                                          Fr_chis < Fr0_chis, GoodSFR_Fr])]\n",
    "\n",
    "SK37_chis = Models_S37['best.reduced_chi_square']\n",
    "GoodSFR_SK37 = (Models_S37['bayes.sfh.sfr_err'] / (Models_S37['bayes.sfh.sfr']*log(10))) <= 1\n",
    "SClean37 = Models_S37[np.logical_and.reduce([SK37_chis <= 10**0.5, SK37_chis >= 10**-0.5,\n",
    "                                             SK37_chis < SK0_chis, GoodSFR_SK37])]\n",
    "\n",
    "Fr37_chis = Models_F37['best.reduced_chi_square']\n",
    "GoodSFR_Fr37 = (Models_F37['bayes.sfh.sfr_err'] / (Models_F37['bayes.sfh.sfr']*log(10))) <= 1\n",
    "FClean37 = Models_F37[np.logical_and.reduce([Fr37_chis <= 10**0.5, Fr37_chis >= 10**-0.5,\n",
    "                                             Fr37_chis < Fr0_chis, GoodSFR_Fr37])]\n",
    "\n",
    "\n",
    "print('25%: ', 'SK=', Perc25(SClean['best.reduced_chi_square']),\n",
    "      'Fr=', Perc25(FClean['best.reduced_chi_square']))\n",
    "print('50%: ', 'SK=', nanmedian(SClean['best.reduced_chi_square']),\n",
    "      'Fr=', nanmedian(FClean['best.reduced_chi_square']))\n",
    "print('75%: ', 'SK=', Perc75(SClean['best.reduced_chi_square']),\n",
    "      'Fr=', Perc75(FClean['best.reduced_chi_square']))"
   ]
  },
  {
   "cell_type": "markdown",
   "metadata": {},
   "source": [
    "We rename the Fritz models as $i=90-\\psi$ (with $\\psi$ the angle between the equator to the pole of the system) and the thermal (dust) luminosity to compare with SKIRTOR model. "
   ]
  },
  {
   "cell_type": "code",
   "execution_count": 11,
   "metadata": {
    "ExecuteTime": {
     "end_time": "2021-05-27T11:42:02.703995Z",
     "start_time": "2021-05-27T11:42:02.699561Z"
    }
   },
   "outputs": [],
   "source": [
    "FClean.rename_column('bayes.agn.psy', 'bayes.agn.i')\n",
    "FClean.rename_column('bayes.agn.psy_err', 'bayes.agn.i_err')\n",
    "FClean.rename_column('bayes.agn.therm_luminosity', 'bayes.agn.dust_luminosity')\n",
    "FClean.rename_column('bayes.agn.therm_luminosity_err',\n",
    "                     'bayes.agn.dust_luminosity_err')\n",
    "FClean['bayes.agn.i'] = 90-FClean['bayes.agn.i']\n",
    "\n",
    "FClean37.rename_column('bayes.agn.psy', 'bayes.agn.i')\n",
    "FClean37.rename_column('bayes.agn.psy_err', 'bayes.agn.i_err')\n",
    "FClean37.rename_column('bayes.agn.therm_luminosity',\n",
    "                       'bayes.agn.dust_luminosity')\n",
    "FClean37.rename_column('bayes.agn.therm_luminosity_err',\n",
    "                       'bayes.agn.dust_luminosity_err')\n",
    "FClean37['bayes.agn.i'] = 90-FClean37['bayes.agn.i']"
   ]
  },
  {
   "cell_type": "markdown",
   "metadata": {},
   "source": [
    "Finally, we save the files of the cleaned results"
   ]
  },
  {
   "cell_type": "code",
   "execution_count": 12,
   "metadata": {
    "ExecuteTime": {
     "end_time": "2021-05-27T11:42:02.710349Z",
     "start_time": "2021-05-27T11:42:02.704734Z"
    }
   },
   "outputs": [],
   "source": [
    "# SClean.write('../Data/Final/CIGALEOutputs/Cleanresults_SK.fits', format='fits')\n",
    "# FClean.write('../Data/Final/CIGALEOutputs/Cleanresults_Fr.fits', format='fits')\n",
    "# SClean37.write('../Data/Final/CIGALEOutputs/Cleanresults_SK37.fits', format='fits')\n",
    "# FClean37.write('../Data/Final/CIGALEOutputs/Cleanresults_Fr37.fits', format='fits')"
   ]
  },
  {
   "cell_type": "markdown",
   "metadata": {},
   "source": [
    "## Final numbers and counts by classification type\n",
    "##### Part TABLE 3\n",
    "First, we present the final numbers of galaxies that are well-fitted to be analyzed in this work"
   ]
  },
  {
   "cell_type": "code",
   "execution_count": 13,
   "metadata": {
    "ExecuteTime": {
     "end_time": "2021-05-27T11:42:02.718391Z",
     "start_time": "2021-05-27T11:42:02.711055Z"
    }
   },
   "outputs": [
    {
     "name": "stdout",
     "output_type": "stream",
     "text": [
      "Total number of galaxies: 8094\n",
      "The fraction of the removed galaxies depending on condition: Bad Fits=0.72, No-AGN=0.07 and Bad SFR=0.38\n",
      "In the Bad Fits the fractions are: Over-fitting=0.51 and under-fitting=0.49\n"
     ]
    }
   ],
   "source": [
    "# For SK models\n",
    "print('Total number of galaxies:', len(SClean))\n",
    "Removed_Galaxies = len(Models_SK)-len(SClean)\n",
    "Cond1 = sum(np.logical_or(SK_chis >= 10**0.5, SK_chis <= 10**-0.5))/Removed_Galaxies\n",
    "Cond2 = sum(SK_chis >= SK0_chis)/Removed_Galaxies\n",
    "Cond3 = sum(~GoodSFR_SK)/Removed_Galaxies\n",
    "print('The fraction of the removed galaxies depending on condition:',\n",
    "      'Bad Fits=%1.2f, No-AGN=%1.2f and Bad SFR=%1.2f'%(Cond1, Cond2, Cond3))\n",
    "Cond11 = sum(SK_chis >= 10**0.5)/sum(np.logical_or(SK_chis >= 10**0.5, SK_chis <= 10**-0.5))\n",
    "Cond12 = sum(SK_chis <= 10**-0.5)/sum(np.logical_or(SK_chis >= 10**0.5, SK_chis <= 10**-0.5))\n",
    "print('In the Bad Fits the fractions are:',\n",
    "      'Over-fitting=%1.2f and under-fitting=%1.2f'%(Cond11, Cond12))"
   ]
  },
  {
   "cell_type": "code",
   "execution_count": 14,
   "metadata": {
    "ExecuteTime": {
     "end_time": "2021-05-27T11:42:02.733264Z",
     "start_time": "2021-05-27T11:42:02.719145Z"
    }
   },
   "outputs": [
    {
     "name": "stdout",
     "output_type": "stream",
     "text": [
      "Total number of galaxies: 8583\n",
      "The fraction of the removed galaxies depending on condition: Bad Fits=0.76, No-AGN=0.07 and Bad SFR=0.32\n",
      "In the Bad Fits the fractions are: Over-fitting=0.56 and under-fitting=0.44\n"
     ]
    }
   ],
   "source": [
    "# For Fr models\n",
    "print('Total number of galaxies:', len(FClean))\n",
    "Removed_Galaxies = len(Models_Fr)-len(FClean)\n",
    "Cond1 = sum(np.logical_or(Fr_chis >= 10**0.5, Fr_chis <= 10**-0.5))/Removed_Galaxies\n",
    "Cond2 = sum(Fr_chis >= Fr0_chis)/Removed_Galaxies\n",
    "Cond3 = sum(~GoodSFR_Fr)/Removed_Galaxies\n",
    "print('The fraction of the removed galaxies depending on condition:',\n",
    "      'Bad Fits=%1.2f, No-AGN=%1.2f and Bad SFR=%1.2f'%(Cond1, Cond2, Cond3))\n",
    "Cond11 = sum(Fr_chis >= 10**0.5)/sum(np.logical_or(Fr_chis >= 10**0.5, Fr_chis <= 10**-0.5))\n",
    "Cond12 = sum(Fr_chis <= 10**-0.5)/sum(np.logical_or(Fr_chis >= 10**0.5, Fr_chis <= 10**-0.5))\n",
    "print('In the Bad Fits the fractions are:',\n",
    "      'Over-fitting=%1.2f and under-fitting=%1.2f'%(Cond11, Cond12))"
   ]
  },
  {
   "cell_type": "code",
   "execution_count": 15,
   "metadata": {
    "ExecuteTime": {
     "end_time": "2021-05-27T11:42:02.741655Z",
     "start_time": "2021-05-27T11:42:02.734011Z"
    }
   },
   "outputs": [
    {
     "name": "stdout",
     "output_type": "stream",
     "text": [
      "Total number of galaxies: 8136\n",
      "The fraction of the removed galaxies depending on condition: Bad Fits=0.71, No-AGN=0.10 and Bad SFR=0.37\n",
      "In the Bad Fits the fractions are: Over-fitting=0.59 and under-fitting=0.41\n"
     ]
    }
   ],
   "source": [
    "# For SK37 models\n",
    "print('Total number of galaxies:', len(SClean37))\n",
    "Removed_Galaxies = len(Models_S37)-len(SClean37)\n",
    "Cond1 = sum(np.logical_or(SK37_chis >= 10**0.5, SK37_chis <= 10**-0.5))/Removed_Galaxies\n",
    "Cond2 = sum(SK37_chis >= SK0_chis)/Removed_Galaxies\n",
    "Cond3 = sum(~GoodSFR_SK37)/Removed_Galaxies\n",
    "print('The fraction of the removed galaxies depending on condition:',\n",
    "      'Bad Fits=%1.2f, No-AGN=%1.2f and Bad SFR=%1.2f'%(Cond1, Cond2, Cond3))\n",
    "Cond11 = sum(SK37_chis >= 10**0.5)/sum(np.logical_or(SK37_chis >= 10**0.5, SK37_chis <= 10**-0.5))\n",
    "Cond12 = sum(SK37_chis <= 10**-0.5)/sum(np.logical_or(SK37_chis >= 10**0.5, SK37_chis <= 10**-0.5))\n",
    "print('In the Bad Fits the fractions are:',\n",
    "      'Over-fitting=%1.2f and under-fitting=%1.2f'%(Cond11, Cond12))"
   ]
  },
  {
   "cell_type": "code",
   "execution_count": 16,
   "metadata": {
    "ExecuteTime": {
     "end_time": "2021-05-27T11:42:02.755089Z",
     "start_time": "2021-05-27T11:42:02.742483Z"
    }
   },
   "outputs": [
    {
     "name": "stdout",
     "output_type": "stream",
     "text": [
      "Total number of galaxies: 8478\n",
      "The fraction of the removed galaxies depending on condition: Bad Fits=0.75, No-AGN=0.12 and Bad SFR=0.31\n",
      "In the Bad Fits the fractions are: Over-fitting=0.65 and under-fitting=0.35\n"
     ]
    }
   ],
   "source": [
    "# For Fr37 models\n",
    "print('Total number of galaxies:', len(FClean37))\n",
    "Removed_Galaxies = len(Models_S37)-len(FClean37)\n",
    "Cond1 = sum(np.logical_or(Fr37_chis >= 10**0.5, Fr37_chis <= 10**-0.5))/Removed_Galaxies\n",
    "Cond2 = sum(Fr37_chis >= Fr0_chis)/Removed_Galaxies\n",
    "Cond3 = sum(~GoodSFR_Fr37)/Removed_Galaxies\n",
    "print('The fraction of the removed galaxies depending on condition:',\n",
    "      'Bad Fits=%1.2f, No-AGN=%1.2f and Bad SFR=%1.2f'%(Cond1, Cond2, Cond3))\n",
    "Cond11 = sum(Fr37_chis >= 10**0.5)/sum(np.logical_or(Fr37_chis >= 10**0.5, Fr37_chis <= 10**-0.5))\n",
    "Cond12 = sum(Fr37_chis <= 10**-0.5)/sum(np.logical_or(Fr37_chis >= 10**0.5, Fr37_chis <= 10**-0.5))\n",
    "print('In the Bad Fits the fractions are:',\n",
    "      'Over-fitting=%1.2f and under-fitting=%1.2f'%(Cond11, Cond12))"
   ]
  },
  {
   "cell_type": "markdown",
   "metadata": {},
   "source": [
    "Here we count the classification types for the different CIGALE AGN models (To be used in Table 3). We read the VCV_SMB_otype.txt file to obtain the classifications and change the id in CIGALE models to a string format. Then, we join the tables and count the classifications.  "
   ]
  },
  {
   "cell_type": "code",
   "execution_count": 17,
   "metadata": {
    "ExecuteTime": {
     "end_time": "2021-05-27T11:42:03.544334Z",
     "start_time": "2021-05-27T11:42:02.755840Z"
    }
   },
   "outputs": [],
   "source": [
    "Sample = Table.read('../Data/Final/VCV_SMB_otype.txt',\n",
    "                    format='ascii').to_pandas()\n",
    "SClean['main_id'] = np.array(SClean['id'], dtype='U30')\n",
    "FClean['main_id'] = np.array(FClean['id'], dtype='U30')\n",
    "SClean37['main_id'] = np.array(SClean37['id'], dtype='U30')\n",
    "FClean37['main_id'] = np.array(FClean37['id'], dtype='U30')"
   ]
  },
  {
   "cell_type": "code",
   "execution_count": 18,
   "metadata": {
    "ExecuteTime": {
     "end_time": "2021-05-27T11:42:03.740044Z",
     "start_time": "2021-05-27T11:42:03.545255Z"
    }
   },
   "outputs": [],
   "source": [
    "SClass = SClean.to_pandas().join(Sample.set_index('main_id'), on='main_id')\n",
    "FClass = FClean.to_pandas().join(Sample.set_index('main_id'), on='main_id')\n",
    "S37Class = SClean37.to_pandas().join(Sample.set_index('main_id'), on='main_id')\n",
    "F37Class = FClean37.to_pandas().join(Sample.set_index('main_id'), on='main_id')"
   ]
  },
  {
   "cell_type": "markdown",
   "metadata": {},
   "source": [
    "##### SKIRTOR"
   ]
  },
  {
   "cell_type": "code",
   "execution_count": 19,
   "metadata": {
    "ExecuteTime": {
     "end_time": "2021-05-27T11:42:03.751393Z",
     "start_time": "2021-05-27T11:42:03.740991Z"
    }
   },
   "outputs": [
    {
     "name": "stdout",
     "output_type": "stream",
     "text": [
      "Classified Seyfer galaxies: 7512\n",
      "Intermediate classifications 511\n",
      "Other classifications 71\n"
     ]
    },
    {
     "data": {
      "text/plain": [
       "Sp\n",
       "S         30\n",
       "S1      5985\n",
       "S1.0     104\n",
       "S1.2      94\n",
       "S1.5     205\n",
       "S1.8      66\n",
       "S1.9      42\n",
       "S1h       18\n",
       "S1i        2\n",
       "S1n0       5\n",
       "S1n2       3\n",
       "S1n5       5\n",
       "S2      1497\n",
       "S3        25\n",
       "S3b        1\n",
       "S?        12\n",
       "dtype: int64"
      ]
     },
     "execution_count": 19,
     "metadata": {},
     "output_type": "execute_result"
    }
   ],
   "source": [
    "print('Classified Seyfer galaxies:',\n",
    "      sum(SClass.groupby('Sp').size()[['S1', 'S2', 'S']]))\n",
    "print('Intermediate classifications',\n",
    "      sum(SClass.groupby('Sp').size()[['S1.0', 'S1.2', 'S1.5',\n",
    "                                       'S1.8', 'S1.9']]))\n",
    "print('Other classifications',\n",
    "      sum(SClass.groupby('Sp').size()[['S1h', 'S1i', 'S1n0', 'S1n2',\n",
    "                                       'S1n5', 'S3', 'S3b', 'S?']]))\n",
    "SClass.groupby('Sp').size()"
   ]
  },
  {
   "cell_type": "code",
   "execution_count": 20,
   "metadata": {
    "ExecuteTime": {
     "end_time": "2021-05-27T11:42:03.755704Z",
     "start_time": "2021-05-27T11:42:03.752109Z"
    }
   },
   "outputs": [
    {
     "data": {
      "text/plain": [
       "otype_txt\n",
       "Sy1    6400\n",
       "Sy2    1649\n",
       "SyG      45\n",
       "dtype: int64"
      ]
     },
     "execution_count": 20,
     "metadata": {},
     "output_type": "execute_result"
    }
   ],
   "source": [
    "SClass.groupby('otype_txt').size()"
   ]
  },
  {
   "cell_type": "markdown",
   "metadata": {},
   "source": [
    "##### Fritz"
   ]
  },
  {
   "cell_type": "code",
   "execution_count": 21,
   "metadata": {
    "ExecuteTime": {
     "end_time": "2021-05-27T11:42:03.768083Z",
     "start_time": "2021-05-27T11:42:03.756847Z"
    }
   },
   "outputs": [
    {
     "name": "stdout",
     "output_type": "stream",
     "text": [
      "Classified Seyfer galaxies: 8026\n",
      "Intermediate classifications 492\n",
      "Other classifications 65\n"
     ]
    },
    {
     "data": {
      "text/plain": [
       "Sp\n",
       "S         29\n",
       "S1      6451\n",
       "S1.0     101\n",
       "S1.2      88\n",
       "S1.5     195\n",
       "S1.8      66\n",
       "S1.9      42\n",
       "S1h       12\n",
       "S1i        1\n",
       "S1n0       4\n",
       "S1n2       5\n",
       "S1n5       5\n",
       "S2      1546\n",
       "S3        23\n",
       "S3b        1\n",
       "S?        14\n",
       "dtype: int64"
      ]
     },
     "execution_count": 21,
     "metadata": {},
     "output_type": "execute_result"
    }
   ],
   "source": [
    "print('Classified Seyfer galaxies:',\n",
    "      sum(FClass.groupby('Sp').size()[['S1', 'S2', 'S']]))\n",
    "print('Intermediate classifications', \n",
    "      sum(FClass.groupby('Sp').size()[['S1.0', 'S1.2', 'S1.5',\n",
    "                                       'S1.8', 'S1.9']]))\n",
    "print('Other classifications', \n",
    "      sum(FClass.groupby('Sp').size()[['S1h', 'S1i', 'S1n0', 'S1n2',\n",
    "                                       'S1n5', 'S3', 'S3b', 'S?']]))\n",
    "FClass.groupby('Sp').size()"
   ]
  },
  {
   "cell_type": "code",
   "execution_count": 22,
   "metadata": {
    "ExecuteTime": {
     "end_time": "2021-05-27T11:42:03.773705Z",
     "start_time": "2021-05-27T11:42:03.769060Z"
    }
   },
   "outputs": [
    {
     "data": {
      "text/plain": [
       "otype_txt\n",
       "Sy1    6834\n",
       "Sy2    1706\n",
       "SyG      43\n",
       "dtype: int64"
      ]
     },
     "execution_count": 22,
     "metadata": {},
     "output_type": "execute_result"
    }
   ],
   "source": [
    "FClass.groupby('otype_txt').size()"
   ]
  },
  {
   "cell_type": "markdown",
   "metadata": {},
   "source": [
    "##### SKIRTOR with 30/70 angles"
   ]
  },
  {
   "cell_type": "code",
   "execution_count": 23,
   "metadata": {
    "ExecuteTime": {
     "end_time": "2021-05-27T11:42:03.784292Z",
     "start_time": "2021-05-27T11:42:03.774709Z"
    }
   },
   "outputs": [
    {
     "name": "stdout",
     "output_type": "stream",
     "text": [
      "Classified Seyfer galaxies: 7580\n",
      "Intermediate classifications 496\n",
      "Other classifications 60\n"
     ]
    },
    {
     "data": {
      "text/plain": [
       "Sp\n",
       "S         30\n",
       "S1      6115\n",
       "S1.0     100\n",
       "S1.2      91\n",
       "S1.5     198\n",
       "S1.8      65\n",
       "S1.9      42\n",
       "S1h       14\n",
       "S1i        2\n",
       "S1n0       3\n",
       "S1n2       3\n",
       "S1n5       4\n",
       "S2      1435\n",
       "S3        19\n",
       "S3b        1\n",
       "S?        14\n",
       "dtype: int64"
      ]
     },
     "execution_count": 23,
     "metadata": {},
     "output_type": "execute_result"
    }
   ],
   "source": [
    "print('Classified Seyfer galaxies:',\n",
    "      sum(S37Class.groupby('Sp').size()[['S1', 'S2', 'S']]))\n",
    "print('Intermediate classifications',\n",
    "      sum(S37Class.groupby('Sp').size()[['S1.0', 'S1.2', 'S1.5',\n",
    "                                         'S1.8', 'S1.9']]))\n",
    "print('Other classifications',\n",
    "      sum(S37Class.groupby('Sp').size()[['S1h', 'S1i', 'S1n0', 'S1n2',\n",
    "                                         'S1n5', 'S3', 'S3b', 'S?']]))\n",
    "S37Class.groupby('Sp').size()"
   ]
  },
  {
   "cell_type": "code",
   "execution_count": 24,
   "metadata": {
    "ExecuteTime": {
     "end_time": "2021-05-27T11:42:03.788507Z",
     "start_time": "2021-05-27T11:42:03.785096Z"
    }
   },
   "outputs": [
    {
     "data": {
      "text/plain": [
       "otype_txt\n",
       "Sy1    6503\n",
       "Sy2    1590\n",
       "SyG      43\n",
       "dtype: int64"
      ]
     },
     "execution_count": 24,
     "metadata": {},
     "output_type": "execute_result"
    }
   ],
   "source": [
    "S37Class.groupby('otype_txt').size()"
   ]
  },
  {
   "cell_type": "markdown",
   "metadata": {},
   "source": [
    "##### Fritz with 30/70 angles"
   ]
  },
  {
   "cell_type": "code",
   "execution_count": 25,
   "metadata": {
    "ExecuteTime": {
     "end_time": "2021-05-27T11:42:03.799419Z",
     "start_time": "2021-05-27T11:42:03.789298Z"
    }
   },
   "outputs": [
    {
     "name": "stdout",
     "output_type": "stream",
     "text": [
      "Classified Seyfer galaxies: 7937\n",
      "Intermediate classifications 482\n",
      "Other classifications 59\n"
     ]
    },
    {
     "data": {
      "text/plain": [
       "Sp\n",
       "S         30\n",
       "S1      6505\n",
       "S1.0      95\n",
       "S1.2      85\n",
       "S1.5     196\n",
       "S1.8      64\n",
       "S1.9      42\n",
       "S1h       11\n",
       "S1i        2\n",
       "S1n0       4\n",
       "S1n2       5\n",
       "S1n5       5\n",
       "S2      1402\n",
       "S3        19\n",
       "S?        13\n",
       "dtype: int64"
      ]
     },
     "execution_count": 25,
     "metadata": {},
     "output_type": "execute_result"
    }
   ],
   "source": [
    "print('Classified Seyfer galaxies:', \n",
    "      sum(F37Class.groupby('Sp').size()[['S1', 'S2', 'S']]))\n",
    "print('Intermediate classifications',\n",
    "      sum(F37Class.groupby('Sp').size()[['S1.0', 'S1.2', 'S1.5',\n",
    "                                         'S1.8', 'S1.9']]))\n",
    "print('Other classifications', \n",
    "      sum(F37Class.groupby('Sp').size()[['S1h', 'S1i', 'S1n0', 'S1n2',\n",
    "                                         'S1n5', 'S3', 'S?']]))\n",
    "F37Class.groupby('Sp').size()"
   ]
  },
  {
   "cell_type": "code",
   "execution_count": 26,
   "metadata": {
    "ExecuteTime": {
     "end_time": "2021-05-27T11:42:03.804002Z",
     "start_time": "2021-05-27T11:42:03.800247Z"
    }
   },
   "outputs": [
    {
     "data": {
      "text/plain": [
       "otype_txt\n",
       "Sy1    6875\n",
       "Sy2    1561\n",
       "SyG      42\n",
       "dtype: int64"
      ]
     },
     "execution_count": 26,
     "metadata": {},
     "output_type": "execute_result"
    }
   ],
   "source": [
    "F37Class.groupby('otype_txt').size()"
   ]
  },
  {
   "cell_type": "markdown",
   "metadata": {},
   "source": [
    "##### Notebook info"
   ]
  },
  {
   "cell_type": "code",
   "execution_count": 27,
   "metadata": {
    "ExecuteTime": {
     "end_time": "2021-05-27T11:42:04.117741Z",
     "start_time": "2021-05-27T11:42:03.804892Z"
    }
   },
   "outputs": [
    {
     "name": "stdout",
     "output_type": "stream",
     "text": [
      "Author: Andres Ramos\n",
      "\n",
      "Python implementation: CPython\n",
      "Python version       : 3.8.3\n",
      "IPython version      : 7.16.1\n",
      "\n",
      "Compiler    : GCC 7.3.0\n",
      "OS          : Linux\n",
      "Release     : 3.10.0-1160.25.1.el7.x86_64\n",
      "Machine     : x86_64\n",
      "Processor   : x86_64\n",
      "CPU cores   : 8\n",
      "Architecture: 64bit\n",
      "\n",
      "Specific Python packages\n",
      "astropy: 4.2\n",
      "pandas : 1.2.0\n",
      "\n",
      "re        : 2.2.1\n",
      "autopep8  : 1.5.4\n",
      "logging   : 0.5.1.2\n",
      "json      : 2.0.9\n",
      "matplotlib: 3.2.2\n",
      "sys       : 3.8.3 (default, Jul  2 2020, 16:21:59) \n",
      "[GCC 7.3.0]\n",
      "numpy     : 1.19.5\n",
      "\n",
      "Watermark: 2.1.0\n",
      "\n"
     ]
    }
   ],
   "source": [
    "%load_ext watermark\n",
    "%watermark -a \"Andres Ramos\" -d -v -m\n",
    "print('Specific Python packages')\n",
    "%watermark -iv -w --packages astropy,pandas"
   ]
  }
 ],
 "metadata": {
  "hide_input": false,
  "kernelspec": {
   "display_name": "Python 3",
   "language": "python",
   "name": "python3"
  },
  "language_info": {
   "codemirror_mode": {
    "name": "ipython",
    "version": 3
   },
   "file_extension": ".py",
   "mimetype": "text/x-python",
   "name": "python",
   "nbconvert_exporter": "python",
   "pygments_lexer": "ipython3",
   "version": "3.8.3"
  },
  "toc": {
   "base_numbering": "7",
   "nav_menu": {},
   "number_sections": true,
   "sideBar": true,
   "skip_h1_title": false,
   "title_cell": "Table of Contents",
   "title_sidebar": "Contents",
   "toc_cell": false,
   "toc_position": {
    "height": "calc(100% - 180px)",
    "left": "10px",
    "top": "150px",
    "width": "165px"
   },
   "toc_section_display": true,
   "toc_window_display": true
  },
  "varInspector": {
   "cols": {
    "lenName": 16,
    "lenType": 16,
    "lenVar": 40
   },
   "kernels_config": {
    "python": {
     "delete_cmd_postfix": "",
     "delete_cmd_prefix": "del ",
     "library": "var_list.py",
     "varRefreshCmd": "print(var_dic_list())"
    },
    "r": {
     "delete_cmd_postfix": ") ",
     "delete_cmd_prefix": "rm(",
     "library": "var_list.r",
     "varRefreshCmd": "cat(var_dic_list()) "
    }
   },
   "types_to_exclude": [
    "module",
    "function",
    "builtin_function_or_method",
    "instance",
    "_Feature"
   ],
   "window_display": false
  }
 },
 "nbformat": 4,
 "nbformat_minor": 4
}
