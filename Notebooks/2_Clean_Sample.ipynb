{
 "cells": [
  {
   "cell_type": "markdown",
   "metadata": {},
   "source": [
    "# Clean the sample in the SMB_VCV file\n",
    "Here we remove the Seyfert galaxies and classifications without a known source (No Bibcode)"
   ]
  },
  {
   "cell_type": "markdown",
   "metadata": {},
   "source": [
    "We import the Python packages first"
   ]
  },
  {
   "cell_type": "code",
   "execution_count": 1,
   "metadata": {
    "ExecuteTime": {
     "end_time": "2021-05-06T12:52:18.903738Z",
     "start_time": "2021-05-06T12:52:18.425048Z"
    }
   },
   "outputs": [
    {
     "name": "stdout",
     "output_type": "stream",
     "text": [
      "Using matplotlib backend: Qt5Agg\n",
      "Populating the interactive namespace from numpy and matplotlib\n"
     ]
    }
   ],
   "source": [
    "%pylab"
   ]
  },
  {
   "cell_type": "code",
   "execution_count": 2,
   "metadata": {
    "ExecuteTime": {
     "end_time": "2021-05-06T12:52:20.051139Z",
     "start_time": "2021-05-06T12:52:19.104917Z"
    }
   },
   "outputs": [],
   "source": [
    "from astropy.table import Table, join\n",
    "from astropy.table import unique as tunique"
   ]
  },
  {
   "cell_type": "markdown",
   "metadata": {},
   "source": [
    "We read the original SMB_VCV file and the table with the Bibcodes for each otype. We rearrange some strings."
   ]
  },
  {
   "cell_type": "code",
   "execution_count": 4,
   "metadata": {
    "ExecuteTime": {
     "end_time": "2021-05-06T12:56:08.499435Z",
     "start_time": "2021-05-06T12:56:08.158313Z"
    }
   },
   "outputs": [],
   "source": [
    "# File containing all the otype information\n",
    "BibOT = Table.read('../Data/Raw/BibcodesOtypes.fits', format='fits')\n",
    "# File with the cross-match between VCV and SMB\n",
    "Matched = Table.read('../Data/Raw/SMB_VCV.fits', format='fits')"
   ]
  },
  {
   "cell_type": "code",
   "execution_count": 5,
   "metadata": {
    "ExecuteTime": {
     "end_time": "2021-05-06T12:56:10.986704Z",
     "start_time": "2021-05-06T12:56:10.135842Z"
    }
   },
   "outputs": [],
   "source": [
    "Matched['main_id'] = [j.rstrip() for j in Matched['main_id']]\n",
    "Matched['Sp'] = [j.rstrip() for j in Matched['Sp']]\n",
    "BibOT['main_id'] = [j.rstrip() for j in BibOT['main_id']]\n",
    "BibOT['otype_txt'] = [j.rstrip() for j in BibOT['otype_txt']]\n",
    "BibOT['origin'] = [j.rstrip() for j in BibOT['origin']]"
   ]
  },
  {
   "cell_type": "markdown",
   "metadata": {},
   "source": [
    "## Remove different redshifts\n",
    "We remove galaxies where the cross-match shows that the redshift for the galaxies was higher than 0.01 "
   ]
  },
  {
   "cell_type": "code",
   "execution_count": 6,
   "metadata": {
    "ExecuteTime": {
     "end_time": "2021-05-06T12:56:11.797049Z",
     "start_time": "2021-05-06T12:56:11.782862Z"
    }
   },
   "outputs": [],
   "source": [
    "Matched['DiffRed'] = Matched['rvz_redshift']-Matched['z']\n",
    "Badz = where(abs(Matched['DiffRed']) > 0.01)\n",
    "Matched.remove_rows(Badz)"
   ]
  },
  {
   "cell_type": "markdown",
   "metadata": {},
   "source": [
    "## Separate origin of the bibcode\n",
    "We separate the bibcode to simplify querys"
   ]
  },
  {
   "cell_type": "code",
   "execution_count": 7,
   "metadata": {
    "ExecuteTime": {
     "end_time": "2021-05-06T12:56:14.484687Z",
     "start_time": "2021-05-06T12:56:14.478577Z"
    }
   },
   "outputs": [],
   "source": [
    "def SeparateOrigin(Table):\n",
    "    \"\"\"Separate the origin inside the file\"\"\"\n",
    "    Bibcod = np.empty(len(Table), dtype='S19')\n",
    "    for j, jtex in enumerate(Table):\n",
    "        if 'bibcode' in jtex['origin']:\n",
    "            Bibcod[j] = jtex['origin'].split('bibcode=')[-1]\n",
    "        elif 'from basic data' in jtex['origin']:\n",
    "            Bibcod[j] = 'CDS'\n",
    "        elif 'from id' in jtex['origin']:\n",
    "            Bibcod[j] = 'ID'\n",
    "        elif jtex['origin'] == '':\n",
    "            Bibcod[j] = 'UNK'\n",
    "        else:\n",
    "            raise NameError('No origin??')\n",
    "    Table['otype_bibcode'] = Bibcod\n",
    "    return(Table)"
   ]
  },
  {
   "cell_type": "code",
   "execution_count": 8,
   "metadata": {
    "ExecuteTime": {
     "end_time": "2021-05-06T12:56:15.886407Z",
     "start_time": "2021-05-06T12:56:15.342602Z"
    }
   },
   "outputs": [],
   "source": [
    "BibOT = SeparateOrigin(BibOT)"
   ]
  },
  {
   "cell_type": "markdown",
   "metadata": {},
   "source": [
    "The galaxies in the sample have different otypes, here we center in the `main_id`. Then, we join the files to only have the information of the `main_id` for each galaxy."
   ]
  },
  {
   "cell_type": "code",
   "execution_count": 10,
   "metadata": {
    "ExecuteTime": {
     "end_time": "2021-05-06T12:57:11.066155Z",
     "start_time": "2021-05-06T12:57:10.799700Z"
    }
   },
   "outputs": [
    {
     "name": "stdout",
     "output_type": "stream",
     "text": [
      "The total number of galaxies is 18923\n",
      "The total number unknown classifications in SMB is 3441\n"
     ]
    }
   ],
   "source": [
    "AllTypes = join(BibOT, Matched, keys='main_id')\n",
    "print('The total number of galaxies is %i' % len(unique(AllTypes['main_id'])))\n",
    "print('The total number unknown classifications in SMB is %i' %\n",
    "      sum(AllTypes['otype_bibcode'] == 'UNK'))"
   ]
  },
  {
   "cell_type": "markdown",
   "metadata": {},
   "source": [
    "## Dealing with unknown bibcodes and Seyfert types"
   ]
  },
  {
   "cell_type": "markdown",
   "metadata": {},
   "source": [
    "Some Seyfert sources are not classified and/or the source is unknown. If the source is unknown, but they have a classification in VCV we assume that the classification comes from VCV. "
   ]
  },
  {
   "cell_type": "code",
   "execution_count": 11,
   "metadata": {
    "ExecuteTime": {
     "end_time": "2021-05-06T12:58:19.916541Z",
     "start_time": "2021-05-06T12:58:19.908879Z"
    }
   },
   "outputs": [],
   "source": [
    "UKSyGVCV = np.where(np.logical_and.reduce([AllTypes['otype_bibcode'] == 'UNK',\n",
    "                                           AllTypes['otype_txt_1'] == 'SyG',\n",
    "                                           AllTypes['otype_txt_2'] == 'SyG',\n",
    "                                           AllTypes['Sp'] == 'S']))"
   ]
  },
  {
   "cell_type": "code",
   "execution_count": 12,
   "metadata": {
    "ExecuteTime": {
     "end_time": "2021-05-06T12:58:20.733393Z",
     "start_time": "2021-05-06T12:58:20.725205Z"
    }
   },
   "outputs": [],
   "source": [
    "UKSy1VCV = np.where(np.logical_and.reduce([AllTypes['otype_bibcode'] == 'UNK',\n",
    "                                           AllTypes['otype_txt_1'] == 'Sy1',\n",
    "                                           AllTypes['otype_txt_2'] == 'Sy1',\n",
    "                                           AllTypes['Sp'] == 'S1']))"
   ]
  },
  {
   "cell_type": "code",
   "execution_count": 13,
   "metadata": {
    "ExecuteTime": {
     "end_time": "2021-05-06T12:58:21.459446Z",
     "start_time": "2021-05-06T12:58:21.451410Z"
    }
   },
   "outputs": [],
   "source": [
    "UKSy2VCV = np.where(np.logical_and.reduce([AllTypes['otype_bibcode'] == 'UNK',\n",
    "                                           AllTypes['otype_txt_1'] == 'Sy2',\n",
    "                                           AllTypes['otype_txt_2'] == 'Sy2',\n",
    "                                           AllTypes['Sp'] == 'S2']))"
   ]
  },
  {
   "cell_type": "code",
   "execution_count": 14,
   "metadata": {
    "ExecuteTime": {
     "end_time": "2021-05-06T12:58:25.556609Z",
     "start_time": "2021-05-06T12:58:25.551564Z"
    }
   },
   "outputs": [],
   "source": [
    "AllTypes['otype_bibcode'][UKSyGVCV] = 'VCV'\n",
    "AllTypes['otype_bibcode'][UKSy1VCV] = 'VCV'\n",
    "AllTypes['otype_bibcode'][UKSy2VCV] = 'VCV'"
   ]
  },
  {
   "cell_type": "code",
   "execution_count": 15,
   "metadata": {
    "ExecuteTime": {
     "end_time": "2021-05-06T12:59:25.034743Z",
     "start_time": "2021-05-06T12:59:25.029135Z"
    }
   },
   "outputs": [
    {
     "name": "stdout",
     "output_type": "stream",
     "text": [
      "The total number unknown classifications in SMB at this point is 2466\n"
     ]
    }
   ],
   "source": [
    "print('The total number unknown classifications in SMB at this point is %i' %\n",
    "      sum(AllTypes['otype_bibcode'] == 'UNK'))"
   ]
  },
  {
   "cell_type": "markdown",
   "metadata": {},
   "source": [
    "We remove the galaxies with a LINER classification in VCV and unknown source of the Seyfert classification in SMB."
   ]
  },
  {
   "cell_type": "code",
   "execution_count": 16,
   "metadata": {
    "ExecuteTime": {
     "end_time": "2021-05-06T13:00:15.241454Z",
     "start_time": "2021-05-06T13:00:15.212428Z"
    }
   },
   "outputs": [
    {
     "name": "stdout",
     "output_type": "stream",
     "text": [
      "The galaxies to remove are:  ['2MASX J15320963+5854187' 'Mrk  266NE']\n"
     ]
    }
   ],
   "source": [
    "LocSeyfert=np.logical_or.reduce([AllTypes['otype_txt_1'] == 'Sy1',\n",
    "                                 AllTypes['otype_txt_1'] == 'Sy2',\n",
    "                                 AllTypes['otype_txt_1'] == 'SyG'])\n",
    "GalaxiesToRemove = AllTypes[np.logical_and.reduce([AllTypes['otype_bibcode'] == 'UNK',\n",
    "                                                   AllTypes['Sp'] == 'S3', \n",
    "                                                   LocSeyfert])]['main_id'].data\n",
    "print('The galaxies to remove are: ',GalaxiesToRemove)\n",
    "LocGTR = [np.where(AllTypes['main_id'] == i)[0] for i in GalaxiesToRemove]\n",
    "AllTypes.remove_rows(np.concatenate(LocGTR))"
   ]
  },
  {
   "cell_type": "markdown",
   "metadata": {},
   "source": [
    "If galaxies have an unknown source but are still classified as Seyfert, we send these galaxies from their SMB classification to a Seyfert for further study."
   ]
  },
  {
   "cell_type": "code",
   "execution_count": 17,
   "metadata": {
    "ExecuteTime": {
     "end_time": "2021-05-06T13:03:25.689161Z",
     "start_time": "2021-05-06T13:03:25.675953Z"
    }
   },
   "outputs": [],
   "source": [
    "GalaxiesToStudy = concatenate((AllTypes[np.where(np.logical_and.reduce([AllTypes['otype_bibcode'] == 'UNK',\n",
    "                                                                        AllTypes['otype_txt_1'] == 'Sy2',\n",
    "                                                                        AllTypes['otype_txt_2'] == 'Sy2']))[0]]['main_id'].data,\n",
    "                               AllTypes[np.where(np.logical_and.reduce([AllTypes['otype_bibcode'] == 'UNK',\n",
    "                                                                        AllTypes['otype_txt_1'] == 'Sy1',\n",
    "                                                                        AllTypes['otype_txt_2'] == 'Sy1']))[0]]['main_id'].data))"
   ]
  },
  {
   "cell_type": "code",
   "execution_count": 18,
   "metadata": {
    "ExecuteTime": {
     "end_time": "2021-05-06T13:03:28.357548Z",
     "start_time": "2021-05-06T13:03:28.351515Z"
    }
   },
   "outputs": [
    {
     "data": {
      "text/plain": [
       "masked_array(data=['2MASX J18311470-3336085',\n",
       "                   'EGSIRAC J141515.60+520354.2', 'ESO 323-77',\n",
       "                   'MCG+03-60-031', 'NAME SMM J141741.90+522823.6',\n",
       "                   '[VV2006c] J125310.5-091024', '2E  2294', '2E  2628',\n",
       "                   '2E  3786', '2MASS J00423990+3017514',\n",
       "                   '2MASS J01341936+0146479', '2MASS J10102753+4132389',\n",
       "                   '2MASS J12002696+3317286', '2MASX J05064491-1011357',\n",
       "                   '2MASX J06374318-7538458', '2MASX J07185777+7059209',\n",
       "                   '2MASX J08420557+0759253', '2MASX J09443702-2633554',\n",
       "                   '2MASX J10155660-2002268', '2MASX J14555293-3548223',\n",
       "                   '2MASX J15085291+6814074', '2MASX J16383091-2055246',\n",
       "                   '2MASX J21033788-0455396', '2MASX J22024516-1304538',\n",
       "                   '2dFGRS TGN357Z241', '3C 286',\n",
       "                   '6dFGS gJ043944.9-454043', '6dFGS gJ084628.7-121409',\n",
       "                   '6dFGS gJ101329.7-283126', '7C 151247.00+370154.00',\n",
       "                   'CTS   11', 'HE 0226-4110', 'ICRF J025937.6+423549',\n",
       "                   'ICRF J073352.5+502209', 'ICRF J081100.6+571412',\n",
       "                   'ICRF J100646.4-215920', 'ICRF J110153.4+624150',\n",
       "                   'ICRF J114855.8-040409', 'ICRF J135704.4+191907',\n",
       "                   'ICRF J170009.2+683006', 'ICRF J173548.0+361645',\n",
       "                   'ICRF J200755.1-443444', 'IRAS 10295-1831',\n",
       "                   'LEDA 2292300', 'MCG-01-59-027', 'NGC  5033',\n",
       "                   'UGC 10683', '[VV2006c] J031146.1-550700',\n",
       "                   '[VV2010c] J165435.3+620057'],\n",
       "             mask=False,\n",
       "       fill_value='N/A',\n",
       "            dtype='<U37')"
      ]
     },
     "execution_count": 18,
     "metadata": {},
     "output_type": "execute_result"
    }
   ],
   "source": [
    "GalaxiesToStudy"
   ]
  },
  {
   "cell_type": "markdown",
   "metadata": {},
   "source": [
    "We re-classify some galaxies from Sy1 or Sy2 to SyG , to study later on. Then, we remove galaxies that are not useful. And finally, we create a flag for the type of emission"
   ]
  },
  {
   "cell_type": "code",
   "execution_count": 19,
   "metadata": {
    "ExecuteTime": {
     "end_time": "2021-05-06T13:03:46.869435Z",
     "start_time": "2021-05-06T13:03:46.843246Z"
    }
   },
   "outputs": [],
   "source": [
    "Reclass = [np.where(Matched['main_id'] == gal)[0][0] for gal in GalaxiesToStudy]\n",
    "Matched['otype_txt'][Reclass] = 'SyG'\n",
    "\n",
    "LocGTR_Matched = [np.where(Matched['main_id'] == i)[0] for i in GalaxiesToRemove]\n",
    "\n",
    "Matched.remove_rows(np.concatenate(LocGTR_Matched))"
   ]
  },
  {
   "cell_type": "markdown",
   "metadata": {},
   "source": [
    "From the rest of this work we are going to assume that S1n are also S1 galaxies. Only three galaxies classified as S1n in VCV are classified as Sy2 in SIMBAD. We are going to include this three galaxies in the unclassified sample."
   ]
  },
  {
   "cell_type": "code",
   "execution_count": 20,
   "metadata": {
    "ExecuteTime": {
     "end_time": "2021-05-06T13:03:50.689930Z",
     "start_time": "2021-05-06T13:03:50.681031Z"
    }
   },
   "outputs": [
    {
     "name": "stdout",
     "output_type": "stream",
     "text": [
      "        main_id        \n",
      "-----------------------\n",
      "2MASX J10194946+3322041\n",
      "2MASS J09455439+4238399\n",
      "2MASX J23383708-0028105\n"
     ]
    }
   ],
   "source": [
    "Reclass2 = np.where(np.logical_and(Matched['Sp'] == 'S1n', Matched['otype_txt'] == 'Sy2'))\n",
    "print(Matched[Reclass2]['main_id'])\n",
    "Matched['Sp'][Reclass2] = 'S'\n",
    "Reclass3 = np.where(Matched['Sp'] == 'S1n')\n",
    "Matched['Sp'][Reclass3] = 'S1'"
   ]
  },
  {
   "cell_type": "markdown",
   "metadata": {},
   "source": [
    "We additionally save the information of the galaxies that where reclassified as S1 from S1n for further analysis (Check [A1_NarrowLineS1](A1_NarrowLineS1.ipynb) notebook)."
   ]
  },
  {
   "cell_type": "code",
   "execution_count": 21,
   "metadata": {
    "ExecuteTime": {
     "end_time": "2021-03-15T12:34:02.588945Z",
     "start_time": "2021-03-15T12:34:02.570421Z"
    }
   },
   "outputs": [],
   "source": [
    "Matched[Reclass3]['main_id','otype_txt'].write('../Data/Complementary/NLS1_reclass.txt',\n",
    "                                               format='ascii')"
   ]
  },
  {
   "cell_type": "markdown",
   "metadata": {},
   "source": [
    "## Create the clean VCV SMB sample file\n",
    "Here we organize and save the data of the sample that will be used later."
   ]
  },
  {
   "cell_type": "code",
   "execution_count": 21,
   "metadata": {
    "ExecuteTime": {
     "end_time": "2021-05-06T13:06:57.762343Z",
     "start_time": "2021-05-06T13:06:57.757342Z"
    }
   },
   "outputs": [
    {
     "name": "stdout",
     "output_type": "stream",
     "text": [
      "We get in total 18921 galaxies in the sample\n"
     ]
    }
   ],
   "source": [
    "print('We get in total %i galaxies in the sample'%len(Matched))"
   ]
  },
  {
   "cell_type": "code",
   "execution_count": 18,
   "metadata": {
    "ExecuteTime": {
     "end_time": "2021-02-24T15:57:18.766157Z",
     "start_time": "2021-02-24T15:57:18.340907Z"
    }
   },
   "outputs": [
    {
     "name": "stderr",
     "output_type": "stream",
     "text": [
      "WARNING: AstropyDeprecationWarning: VCV_TAP_otype.txt already exists. Automatically overwriting ASCII files is deprecated. Use the argument 'overwrite=True' in the future. [astropy.io.ascii.ui]\n"
     ]
    }
   ],
   "source": [
    "Matched.write('../Data/Final/VCV_SMB_otype.txt', format='ascii')"
   ]
  },
  {
   "cell_type": "markdown",
   "metadata": {},
   "source": [
    "## Final numbers from the otypes\n",
    "##### Part TABLE 3\n",
    "We compute the final numbers about where the classifications come from. We take into account the reclassification that we use before for specific galaxies."
   ]
  },
  {
   "cell_type": "code",
   "execution_count": 22,
   "metadata": {
    "ExecuteTime": {
     "end_time": "2021-05-06T13:08:27.195345Z",
     "start_time": "2021-05-06T13:08:27.185843Z"
    }
   },
   "outputs": [],
   "source": [
    "ReclassS1 = np.logical_and.reduce([AllTypes['otype_bibcode'] == 'UNK',\n",
    "                                   AllTypes['otype_txt_1'] == 'Sy1',\n",
    "                                   AllTypes['otype_txt_2'] == 'Sy1'])\n",
    "\n",
    "ReclassS2 = np.logical_and.reduce([AllTypes['otype_bibcode'] == 'UNK',\n",
    "                                   AllTypes['otype_txt_1'] == 'Sy2',\n",
    "                                   AllTypes['otype_txt_2'] == 'Sy2'])"
   ]
  },
  {
   "cell_type": "markdown",
   "metadata": {},
   "source": [
    "Data from Seyfert 1 galaxies comes predominantly (95%) from 5 works "
   ]
  },
  {
   "cell_type": "code",
   "execution_count": 23,
   "metadata": {
    "ExecuteTime": {
     "end_time": "2021-05-06T13:08:31.016009Z",
     "start_time": "2021-05-06T13:08:30.983876Z"
    }
   },
   "outputs": [
    {
     "name": "stdout",
     "output_type": "stream",
     "text": [
      "The total number of Seyfert 1 is: 13760\n"
     ]
    }
   ],
   "source": [
    "print('The total number of Seyfert 1 is:',\n",
    "      len(AllTypes[np.logical_and(AllTypes['otype_txt_1'] == 'Sy1',\n",
    "                                  AllTypes['otype_txt_2'] == 'Sy1')])-sum(ReclassS1))"
   ]
  },
  {
   "cell_type": "markdown",
   "metadata": {},
   "source": [
    "Here we show the bibcode for the first 5 contributions to the Seyfert 1 sample"
   ]
  },
  {
   "cell_type": "code",
   "execution_count": 25,
   "metadata": {
    "ExecuteTime": {
     "end_time": "2021-05-06T13:09:12.370117Z",
     "start_time": "2021-05-06T13:09:12.321025Z"
    }
   },
   "outputs": [
    {
     "data": {
      "text/plain": [
       "otype_bibcode\n",
       "b'CDS'                    5566\n",
       "b'2014ApJ...788...45T'    2784\n",
       "b'2015ApJS..219....1O'    2001\n",
       "b'2006ApJS..166..128Z'    1783\n",
       "b'2017ApJS..229...39R'     988\n",
       "dtype: int64"
      ]
     },
     "execution_count": 25,
     "metadata": {},
     "output_type": "execute_result"
    }
   ],
   "source": [
    "S1Otyp = np.logical_xor(np.logical_and(AllTypes['otype_txt_1'] == 'Sy1',\n",
    "                                       AllTypes['otype_txt_2'] == 'Sy1'),\n",
    "                        ReclassS1)\n",
    "GroupedS1 = AllTypes[S1Otyp].to_pandas().groupby('otype_bibcode').size()\n",
    "GroupedS1.sort_values(ascending=False).head(5)"
   ]
  },
  {
   "cell_type": "code",
   "execution_count": 26,
   "metadata": {
    "ExecuteTime": {
     "end_time": "2021-05-06T13:10:45.097732Z",
     "start_time": "2021-05-06T13:10:45.064651Z"
    }
   },
   "outputs": [
    {
     "data": {
      "text/plain": [
       "0.9536337209302326"
      ]
     },
     "execution_count": 26,
     "metadata": {},
     "output_type": "execute_result"
    }
   ],
   "source": [
    "# Fractional contribution from those 5 works\n",
    "(sum(GroupedS1.sort_values(ascending=False).head(5))) / (len(AllTypes[np.logical_and(\n",
    "    AllTypes['otype_txt_1'] == 'Sy1', AllTypes['otype_txt_2'] == 'Sy1')])-sum(ReclassS1))"
   ]
  },
  {
   "cell_type": "markdown",
   "metadata": {},
   "source": [
    "Data from Seyfert 2 galaxies comes predominantly (97%) from 3 works"
   ]
  },
  {
   "cell_type": "code",
   "execution_count": 27,
   "metadata": {
    "ExecuteTime": {
     "end_time": "2021-05-06T13:10:55.975786Z",
     "start_time": "2021-05-06T13:10:55.956661Z"
    }
   },
   "outputs": [
    {
     "name": "stdout",
     "output_type": "stream",
     "text": [
      "The total number of Seyfert 2 is: 5040\n"
     ]
    }
   ],
   "source": [
    "print('The total number of Seyfert 2 is:', \n",
    "      len(AllTypes[np.logical_and(AllTypes['otype_txt_1'] == 'Sy2',\n",
    "                                  AllTypes['otype_txt_2'] == 'Sy2')])-sum(ReclassS2))"
   ]
  },
  {
   "cell_type": "markdown",
   "metadata": {},
   "source": [
    "Here we show the bibcode for the first 3 contributions to the Seyfert 2 sample"
   ]
  },
  {
   "cell_type": "code",
   "execution_count": 28,
   "metadata": {
    "ExecuteTime": {
     "end_time": "2021-05-06T13:11:33.963391Z",
     "start_time": "2021-05-06T13:11:33.933966Z"
    }
   },
   "outputs": [
    {
     "data": {
      "text/plain": [
       "otype_bibcode\n",
       "b'CDS'                    2845\n",
       "b'2014ApJ...788...45T'    1239\n",
       "b'VCV'                     787\n",
       "dtype: int64"
      ]
     },
     "execution_count": 28,
     "metadata": {},
     "output_type": "execute_result"
    }
   ],
   "source": [
    "S2Otyp = np.logical_xor(np.logical_and(AllTypes['otype_txt_1'] == 'Sy2',\n",
    "                                       AllTypes['otype_txt_2'] == 'Sy2'),\n",
    "                        ReclassS2)\n",
    "GroupedS2 = AllTypes[S2Otyp].to_pandas().groupby('otype_bibcode').size()\n",
    "GroupedS2.sort_values(ascending=False).head(3)"
   ]
  },
  {
   "cell_type": "code",
   "execution_count": 29,
   "metadata": {
    "ExecuteTime": {
     "end_time": "2021-05-06T13:11:52.036571Z",
     "start_time": "2021-05-06T13:11:52.016121Z"
    }
   },
   "outputs": [
    {
     "data": {
      "text/plain": [
       "0.966468253968254"
      ]
     },
     "execution_count": 29,
     "metadata": {},
     "output_type": "execute_result"
    }
   ],
   "source": [
    "# Fractional contribution from those 3 works\n",
    "(sum(GroupedS2.sort_values(ascending=False).head(3))) / (len(AllTypes[np.logical_and(\n",
    "    AllTypes['otype_txt_1'] == 'Sy2', AllTypes['otype_txt_2'] == 'Sy2')])-sum(ReclassS2))"
   ]
  },
  {
   "cell_type": "markdown",
   "metadata": {},
   "source": [
    "Finally, data from the unclassified Seyfert galaxies comes predominantly (92%) from 3 works"
   ]
  },
  {
   "cell_type": "code",
   "execution_count": 30,
   "metadata": {
    "ExecuteTime": {
     "end_time": "2021-05-06T13:13:20.794342Z",
     "start_time": "2021-05-06T13:13:20.782947Z"
    }
   },
   "outputs": [
    {
     "name": "stdout",
     "output_type": "stream",
     "text": [
      "The total number of Seyfert 2 is: 121\n"
     ]
    }
   ],
   "source": [
    "print('The total number of Seyfert 2 is:',\n",
    "      len(AllTypes[np.logical_and(AllTypes['otype_txt_1'] == 'SyG',\n",
    "                                  AllTypes['otype_txt_2'] == 'SyG')])+sum(np.logical_or(ReclassS1, ReclassS2)))"
   ]
  },
  {
   "cell_type": "markdown",
   "metadata": {
    "ExecuteTime": {
     "end_time": "2021-01-19T14:00:11.979944Z",
     "start_time": "2021-01-19T14:00:11.971483Z"
    }
   },
   "source": [
    "We show the bibcode for the first 3 contributions to the unclassified Seyfert sample"
   ]
  },
  {
   "cell_type": "code",
   "execution_count": 31,
   "metadata": {
    "ExecuteTime": {
     "end_time": "2021-05-06T13:14:09.555139Z",
     "start_time": "2021-05-06T13:14:09.536516Z"
    }
   },
   "outputs": [
    {
     "data": {
      "text/plain": [
       "otype_bibcode\n",
       "b'CDS'    57\n",
       "b'UNK'    49\n",
       "b'VCV'     5\n",
       "dtype: int64"
      ]
     },
     "execution_count": 31,
     "metadata": {},
     "output_type": "execute_result"
    }
   ],
   "source": [
    "SGOtyp = np.logical_xor(np.logical_and(AllTypes['otype_txt_1'] == 'SyG',\n",
    "                                       AllTypes['otype_txt_2'] == 'SyG'),\n",
    "                        np.logical_or(ReclassS1, ReclassS2))\n",
    "GroupedSG = AllTypes[SGOtyp].to_pandas().groupby('otype_bibcode').size()\n",
    "GroupedSG.sort_values(ascending=False).head(3)"
   ]
  },
  {
   "cell_type": "code",
   "execution_count": 32,
   "metadata": {
    "ExecuteTime": {
     "end_time": "2021-05-06T13:15:02.214100Z",
     "start_time": "2021-05-06T13:15:02.202392Z"
    }
   },
   "outputs": [
    {
     "data": {
      "text/plain": [
       "0.9173553719008265"
      ]
     },
     "execution_count": 32,
     "metadata": {},
     "output_type": "execute_result"
    }
   ],
   "source": [
    "# Fractional contribution from those 3 works\n",
    "(sum(GroupedSG.sort_values(ascending=False).head(3))) / (len(AllTypes[np.logical_and(\n",
    "    AllTypes['otype_txt_1'] == 'SyG', AllTypes['otype_txt_2'] == 'SyG')])+sum(np.logical_or(ReclassS1, ReclassS2)))"
   ]
  },
  {
   "cell_type": "markdown",
   "metadata": {},
   "source": [
    "We notice that almost 45% of the classifications come from the CDS basic data"
   ]
  },
  {
   "cell_type": "code",
   "execution_count": 33,
   "metadata": {
    "ExecuteTime": {
     "end_time": "2021-05-06T13:15:37.886624Z",
     "start_time": "2021-05-06T13:15:37.810778Z"
    }
   },
   "outputs": [
    {
     "data": {
      "text/plain": [
       "0.44754505575815234"
      ]
     },
     "execution_count": 33,
     "metadata": {},
     "output_type": "execute_result"
    }
   ],
   "source": [
    "(sum(AllTypes[S1Otyp]['otype_bibcode'] == 'CDS')+sum(AllTypes[S2Otyp]['otype_bibcode'] == 'CDS')+sum(AllTypes[SGOtyp]['otype_bibcode'] == 'CDS'))/len(AllTypes[np.logical_or.reduce([np.logical_and(AllTypes['otype_txt_1'] == 'Sy2', AllTypes['otype_txt_2'] == 'Sy2'),\n",
    "                                                                                                                                                                                     np.logical_and(\n",
    "                                                                                                                                                                                         AllTypes['otype_txt_1'] == 'Sy1', AllTypes['otype_txt_2'] == 'Sy1'),\n",
    "                                                                                                                                                                                     np.logical_and(AllTypes['otype_txt_1'] == 'SyG', AllTypes['otype_txt_2'] == 'SyG')])])"
   ]
  },
  {
   "cell_type": "markdown",
   "metadata": {},
   "source": [
    "##### Notebook info"
   ]
  },
  {
   "cell_type": "code",
   "execution_count": 30,
   "metadata": {
    "ExecuteTime": {
     "end_time": "2021-02-24T15:57:19.432677Z",
     "start_time": "2021-02-24T15:57:19.381987Z"
    }
   },
   "outputs": [
    {
     "name": "stdout",
     "output_type": "stream",
     "text": [
      "Author: Andres Ramos\n",
      "\n",
      "Python implementation: CPython\n",
      "Python version       : 3.8.3\n",
      "IPython version      : 7.16.1\n",
      "\n",
      "Compiler    : GCC 7.3.0\n",
      "OS          : Linux\n",
      "Release     : 3.10.0-1160.el7.x86_64\n",
      "Machine     : x86_64\n",
      "Processor   : x86_64\n",
      "CPU cores   : 8\n",
      "Architecture: 64bit\n",
      "\n",
      "Specific Python packages\n",
      "astropy: 4.2\n",
      "pandas : 1.2.0\n",
      "\n",
      "re        : 2.2.1\n",
      "matplotlib: 3.2.2\n",
      "json      : 2.0.9\n",
      "autopep8  : 1.5.4\n",
      "numpy     : 1.19.5\n",
      "sys       : 3.8.3 (default, Jul  2 2020, 16:21:59) \n",
      "[GCC 7.3.0]\n",
      "logging   : 0.5.1.2\n",
      "\n",
      "Watermark: 2.1.0\n",
      "\n"
     ]
    }
   ],
   "source": [
    "%load_ext watermark\n",
    "%watermark -a \"Andres Ramos\" -d -v -m\n",
    "print('Specific Python packages')\n",
    "%watermark -iv -w --packages astropy,pandas"
   ]
  },
  {
   "cell_type": "code",
   "execution_count": null,
   "metadata": {},
   "outputs": [],
   "source": []
  }
 ],
 "metadata": {
  "hide_input": false,
  "kernelspec": {
   "display_name": "Python 3",
   "language": "python",
   "name": "python3"
  },
  "language_info": {
   "codemirror_mode": {
    "name": "ipython",
    "version": 3
   },
   "file_extension": ".py",
   "mimetype": "text/x-python",
   "name": "python",
   "nbconvert_exporter": "python",
   "pygments_lexer": "ipython3",
   "version": "3.8.3"
  },
  "toc": {
   "base_numbering": "2",
   "nav_menu": {},
   "number_sections": true,
   "sideBar": true,
   "skip_h1_title": false,
   "title_cell": "Table of Contents",
   "title_sidebar": "Contents",
   "toc_cell": false,
   "toc_position": {},
   "toc_section_display": true,
   "toc_window_display": false
  },
  "varInspector": {
   "cols": {
    "lenName": 16,
    "lenType": 16,
    "lenVar": 40
   },
   "kernels_config": {
    "python": {
     "delete_cmd_postfix": "",
     "delete_cmd_prefix": "del ",
     "library": "var_list.py",
     "varRefreshCmd": "print(var_dic_list())"
    },
    "r": {
     "delete_cmd_postfix": ") ",
     "delete_cmd_prefix": "rm(",
     "library": "var_list.r",
     "varRefreshCmd": "cat(var_dic_list()) "
    }
   },
   "types_to_exclude": [
    "module",
    "function",
    "builtin_function_or_method",
    "instance",
    "_Feature"
   ],
   "window_display": false
  }
 },
 "nbformat": 4,
 "nbformat_minor": 4
}
