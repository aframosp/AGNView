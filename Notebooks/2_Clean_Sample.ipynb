{
 "cells": [
  {
   "cell_type": "markdown",
   "metadata": {},
   "source": [
    "# Clean the sample in the SMB_VCV file\n",
    "Here we remove the Seyfert galaxies and classifications without a known source (No Bibcode)\n",
    "We import the Python packages first"
   ]
  },
  {
   "cell_type": "code",
   "execution_count": 1,
   "metadata": {
    "ExecuteTime": {
     "end_time": "2021-07-13T15:05:40.827030Z",
     "start_time": "2021-07-13T15:05:40.256959Z"
    }
   },
   "outputs": [
    {
     "name": "stdout",
     "output_type": "stream",
     "text": [
      "Using matplotlib backend: Qt5Agg\n",
      "Populating the interactive namespace from numpy and matplotlib\n"
     ]
    }
   ],
   "source": [
    "%pylab"
   ]
  },
  {
   "cell_type": "code",
   "execution_count": 2,
   "metadata": {
    "ExecuteTime": {
     "end_time": "2021-07-13T15:05:41.505070Z",
     "start_time": "2021-07-13T15:05:40.828938Z"
    }
   },
   "outputs": [],
   "source": [
    "from astropy.table import Table, join"
   ]
  },
  {
   "cell_type": "markdown",
   "metadata": {},
   "source": [
    "We read the original SMB_VCV file and the table with the Bibcodes for each otype. We rearrange some strings."
   ]
  },
  {
   "cell_type": "code",
   "execution_count": 3,
   "metadata": {
    "ExecuteTime": {
     "end_time": "2021-07-13T15:05:41.906294Z",
     "start_time": "2021-07-13T15:05:41.506298Z"
    }
   },
   "outputs": [],
   "source": [
    "# File containing all the otype information\n",
    "bibcodes_types = Table.read('../Data/Raw/BibcodesOtypes_Dec_03_2020.csv', format='ascii.csv')\n",
    "# File with the cross-match between VCV and SMB\n",
    "matched = Table.read('../Data/Raw/SMB_VCV_Dec_03_2020.csv', format='ascii.csv')"
   ]
  },
  {
   "cell_type": "markdown",
   "metadata": {},
   "source": [
    "## Remove different redshifts\n",
    "We remove bad matching by assuming a difference between the redshifts in the catalogs should not be higher than 0.01."
   ]
  },
  {
   "cell_type": "code",
   "execution_count": 4,
   "metadata": {
    "ExecuteTime": {
     "end_time": "2021-07-13T15:05:41.909409Z",
     "start_time": "2021-07-13T15:05:41.907415Z"
    }
   },
   "outputs": [],
   "source": [
    "diff_red = matched['rvz_redshift'] - matched['z']\n",
    "bad_redshift = np.where(abs(diff_red) > 0.01)"
   ]
  },
  {
   "cell_type": "markdown",
   "metadata": {
    "ExecuteTime": {
     "end_time": "2021-07-13T13:35:50.212506Z",
     "start_time": "2021-07-13T13:35:50.207757Z"
    }
   },
   "source": [
    "We plot the redshift distribution to justify this selection criteria."
   ]
  },
  {
   "cell_type": "code",
   "execution_count": 5,
   "metadata": {
    "ExecuteTime": {
     "end_time": "2021-07-13T15:05:47.004607Z",
     "start_time": "2021-07-13T15:05:41.910192Z"
    }
   },
   "outputs": [],
   "source": [
    "# with plt.style.context('seaborn-talk'):\n",
    "with plt.style.context('seaborn-paper'):\n",
    "    plt.rcParams.update({'font.size': 12})\n",
    "    plt.rcParams.update({'axes.labelsize': 12})\n",
    "    plt.rcParams.update({'legend.fontsize': 10})\n",
    "    plt.rcParams.update({'ytick.labelsize': 10})\n",
    "    plt.rcParams.update({'xtick.labelsize': 10})\n",
    "    fig, (ax1, ax2) = plt.subplots(2, 1, figsize=(6.75, 9.44),\n",
    "                                   sharex=True, gridspec_kw={'height_ratios': [1, 3]})\n",
    "    ax1.hist(matched['rvz_redshift'][bad_redshift], bins=np.linspace(0,1,51),\n",
    "             log=True, histtype='step', color='C3', lw=2)\n",
    "    ax1.hist(matched['rvz_redshift'], bins=np.linspace(0,1,51), log=True,\n",
    "             color='C0', histtype='step', lw=2)\n",
    "    ax1.set_ylabel('# galaxies')\n",
    "    ax2.scatter(matched['rvz_redshift'], diff_red)\n",
    "    ax2.scatter(matched['rvz_redshift'][bad_redshift], diff_red[bad_redshift],\n",
    "                c='C3')\n",
    "    # plt.yscale('log')\n",
    "    ax2.set_xlim(0,1)\n",
    "    ax2.set_ylim(-0.05,0.05)\n",
    "    plt.subplots_adjust(wspace=0, hspace=0)\n",
    "    ax2.set_xlabel('Redshift')\n",
    "    ax2.set_ylabel('Difference between redshifts')"
   ]
  },
  {
   "cell_type": "code",
   "execution_count": 6,
   "metadata": {
    "ExecuteTime": {
     "end_time": "2021-07-13T15:05:47.012417Z",
     "start_time": "2021-07-13T15:05:47.005827Z"
    }
   },
   "outputs": [],
   "source": [
    "matched.remove_rows(bad_redshift)"
   ]
  },
  {
   "cell_type": "markdown",
   "metadata": {},
   "source": [
    "## Separate origin of the bibcode\n",
    "We separate the bibcode to simplify querys"
   ]
  },
  {
   "cell_type": "code",
   "execution_count": 7,
   "metadata": {
    "ExecuteTime": {
     "end_time": "2021-07-13T15:05:47.016821Z",
     "start_time": "2021-07-13T15:05:47.013418Z"
    }
   },
   "outputs": [],
   "source": [
    "def separate_origin(table):\n",
    "    \"\"\"Separate the origin inside the file\"\"\"\n",
    "    bibcod = np.empty(len(table), dtype='S19')\n",
    "    for j, jtex in enumerate(table):\n",
    "        if 'bibcode' in jtex['origin']:\n",
    "            bibcod[j] = jtex['origin'].split('bibcode=')[-1]\n",
    "        elif 'from basic data' in jtex['origin']:\n",
    "            bibcod[j] = 'CDS'\n",
    "        elif 'from id' in jtex['origin']:\n",
    "            bibcod[j] = 'ID'\n",
    "        elif jtex['origin'] == '' or jtex['origin'].mask:\n",
    "            bibcod[j] = 'UNK'\n",
    "        else:\n",
    "            print(j)\n",
    "            raise NameError('No origin??')\n",
    "    table['otype_bibcode'] = bibcod\n",
    "    return table"
   ]
  },
  {
   "cell_type": "code",
   "execution_count": 8,
   "metadata": {
    "ExecuteTime": {
     "end_time": "2021-07-13T15:05:53.716659Z",
     "start_time": "2021-07-13T15:05:47.017608Z"
    }
   },
   "outputs": [],
   "source": [
    "bib_ot = separate_origin(bibcodes_types)"
   ]
  },
  {
   "cell_type": "markdown",
   "metadata": {},
   "source": [
    "The galaxies in the sample have different otypes, here we center in the `main_id`. Then, we join the files to only have the information of the `main_id` for each galaxy."
   ]
  },
  {
   "cell_type": "code",
   "execution_count": 9,
   "metadata": {
    "ExecuteTime": {
     "end_time": "2021-07-13T15:05:54.481530Z",
     "start_time": "2021-07-13T15:05:54.185367Z"
    }
   },
   "outputs": [
    {
     "name": "stdout",
     "output_type": "stream",
     "text": [
      "The total number of galaxies is 18923\n",
      "The total number unknown origin of Seyfert classifications in SMB is 1026\n",
      "The total number unknown origin of Seyfert classifications in SMB is 8468\n",
      "The fraction of unknown origin classification 0.50\n"
     ]
    }
   ],
   "source": [
    "all_typ = join(bib_ot, matched, keys='main_id')\n",
    "tot_galax = len(np.unique(all_typ['main_id']))\n",
    "print('The total number of galaxies is %i' % tot_galax)\n",
    "loc_seyfert = np.logical_or.reduce([np.logical_and(all_typ['otype_txt_1'] == 'Sy1',\n",
    "                                                   all_typ['otype_txt_2'] == 'Sy1'),\n",
    "                                   np.logical_and(all_typ['otype_txt_1'] == 'Sy2',\n",
    "                                                  all_typ['otype_txt_2'] == 'Sy2'),\n",
    "                                   np.logical_and(all_typ['otype_txt_1'] == 'SyG',\n",
    "                                                  all_typ['otype_txt_2'] == 'SyG')])\n",
    "unk_typ = len(all_typ[np.logical_and(all_typ['otype_bibcode'] == 'UNK',\n",
    "                                     loc_seyfert)])\n",
    "cds_typ = len(all_typ[np.logical_and(all_typ['otype_bibcode'] == 'CDS',\n",
    "                                     loc_seyfert)])\n",
    "print('The total number unknown origin of Seyfert classifications in SMB is %i' % unk_typ)\n",
    "print('The total number unknown origin of Seyfert classifications in SMB is %i' % cds_typ)\n",
    "print('The fraction of unknown origin classification %.2f' %\n",
    "      ((unk_typ+cds_typ)/tot_galax))"
   ]
  },
  {
   "cell_type": "markdown",
   "metadata": {},
   "source": [
    "## Dealing with unknown bibcodes and Seyfert types"
   ]
  },
  {
   "cell_type": "markdown",
   "metadata": {},
   "source": [
    "Some Seyfert sources are not classified and/or the source is unknown. If the source is unknown, but they have a classification in VCV we assume that the classification comes from VCV."
   ]
  },
  {
   "cell_type": "code",
   "execution_count": 10,
   "metadata": {
    "ExecuteTime": {
     "end_time": "2021-07-13T15:05:54.487083Z",
     "start_time": "2021-07-13T15:05:54.482703Z"
    }
   },
   "outputs": [],
   "source": [
    "UKSyGVCV = np.where(np.logical_and.reduce([all_typ['otype_bibcode'] == 'UNK',\n",
    "                                           all_typ['otype_txt_1'] == 'SyG',\n",
    "                                           all_typ['otype_txt_2'] == 'SyG',\n",
    "                                           all_typ['Sp'] == 'S']))"
   ]
  },
  {
   "cell_type": "code",
   "execution_count": 11,
   "metadata": {
    "ExecuteTime": {
     "end_time": "2021-07-13T15:05:54.496386Z",
     "start_time": "2021-07-13T15:05:54.487835Z"
    }
   },
   "outputs": [],
   "source": [
    "UKSy1VCV = np.where(np.logical_and.reduce([all_typ['otype_bibcode'] == 'UNK',\n",
    "                                           all_typ['otype_txt_1'] == 'Sy1',\n",
    "                                           all_typ['otype_txt_2'] == 'Sy1',\n",
    "                                           all_typ['Sp'] == 'S1']))"
   ]
  },
  {
   "cell_type": "code",
   "execution_count": 12,
   "metadata": {
    "ExecuteTime": {
     "end_time": "2021-07-13T15:05:54.505146Z",
     "start_time": "2021-07-13T15:05:54.497131Z"
    }
   },
   "outputs": [],
   "source": [
    "UKSy2VCV = np.where(np.logical_and.reduce([all_typ['otype_bibcode'] == 'UNK',\n",
    "                                           all_typ['otype_txt_1'] == 'Sy2',\n",
    "                                           all_typ['otype_txt_2'] == 'Sy2',\n",
    "                                           all_typ['Sp'] == 'S2']))"
   ]
  },
  {
   "cell_type": "code",
   "execution_count": 13,
   "metadata": {
    "ExecuteTime": {
     "end_time": "2021-07-13T15:05:54.511660Z",
     "start_time": "2021-07-13T15:05:54.505896Z"
    }
   },
   "outputs": [],
   "source": [
    "all_typ['otype_bibcode'][UKSyGVCV] = 'VCV'\n",
    "all_typ['otype_bibcode'][UKSy1VCV] = 'VCV'\n",
    "all_typ['otype_bibcode'][UKSy2VCV] = 'VCV'"
   ]
  },
  {
   "cell_type": "code",
   "execution_count": 14,
   "metadata": {
    "ExecuteTime": {
     "end_time": "2021-07-13T15:05:54.518864Z",
     "start_time": "2021-07-13T15:05:54.512370Z"
    }
   },
   "outputs": [
    {
     "name": "stdout",
     "output_type": "stream",
     "text": [
      "The total number unknown classifications in SMB at this point is 51\n"
     ]
    }
   ],
   "source": [
    "seyfert_unk = np.logical_and(loc_seyfert, all_typ['otype_bibcode'] == 'UNK')\n",
    "print('The total number unknown classifications in SMB at this point is %i' %\n",
    "      sum(seyfert_unk))"
   ]
  },
  {
   "cell_type": "markdown",
   "metadata": {},
   "source": [
    "We remove the galaxies with a LINER classification in VCV and unknown source of the Seyfert classification in SMB."
   ]
  },
  {
   "cell_type": "code",
   "execution_count": 15,
   "metadata": {
    "ExecuteTime": {
     "end_time": "2021-07-13T15:05:54.580607Z",
     "start_time": "2021-07-13T15:05:54.519556Z"
    }
   },
   "outputs": [
    {
     "name": "stdout",
     "output_type": "stream",
     "text": [
      "The galaxies to remove are:  ['2MASX J15320963+5854187' 'Mrk  266NE'] 2\n"
     ]
    }
   ],
   "source": [
    "GalaxiesToRemove = all_typ[np.logical_and.reduce([all_typ['otype_bibcode'] == 'UNK',\n",
    "                                                  all_typ['Sp'] == 'S3',\n",
    "                                                  loc_seyfert])]['main_id'].data\n",
    "print('The galaxies to remove are: ', GalaxiesToRemove, len(GalaxiesToRemove))\n",
    "LocGTR = [np.where(all_typ['main_id'] == i)[0] for i in GalaxiesToRemove]\n",
    "all_typ.remove_rows(np.concatenate(LocGTR))"
   ]
  },
  {
   "cell_type": "markdown",
   "metadata": {},
   "source": [
    "If galaxies have an unknown source but are still classified as a different Seyfert type in VCV, we reclassify them as a unclassified Seyfert (SyG) for further study."
   ]
  },
  {
   "cell_type": "code",
   "execution_count": 16,
   "metadata": {
    "ExecuteTime": {
     "end_time": "2021-07-13T15:05:54.589889Z",
     "start_time": "2021-07-13T15:05:54.581621Z"
    }
   },
   "outputs": [],
   "source": [
    "GalaxiesToStudy = np.concatenate((all_typ[np.where(np.logical_and.reduce([all_typ['otype_bibcode'] == 'UNK',\n",
    "                                                                           all_typ['otype_txt_1'] == 'Sy2',\n",
    "                                                                           all_typ['otype_txt_2'] == 'Sy2']))[0]]['main_id'].data,\n",
    "                                  all_typ[np.where(np.logical_and.reduce([all_typ['otype_bibcode'] == 'UNK',\n",
    "                                                                           all_typ['otype_txt_1'] == 'Sy1',\n",
    "                                                                           all_typ['otype_txt_2'] == 'Sy1']))[0]]['main_id'].data))"
   ]
  },
  {
   "cell_type": "code",
   "execution_count": 17,
   "metadata": {
    "ExecuteTime": {
     "end_time": "2021-07-13T15:05:54.597746Z",
     "start_time": "2021-07-13T15:05:54.590741Z"
    }
   },
   "outputs": [
    {
     "data": {
      "text/plain": [
       "array(['2MASX J18311470-3336085', 'EGSIRAC J141515.60+520354.2',\n",
       "       'ESO 323-77', 'MCG+03-60-031', 'NAME SMM J141741.90+522823.6',\n",
       "       '[VV2006c] J125310.5-091024', '2E  2294', '2E  2628', '2E  3786',\n",
       "       '2MASS J00423990+3017514', '2MASS J01341936+0146479',\n",
       "       '2MASS J10102753+4132389', '2MASS J12002696+3317286',\n",
       "       '2MASX J05064491-1011357', '2MASX J06374318-7538458',\n",
       "       '2MASX J07185777+7059209', '2MASX J08420557+0759253',\n",
       "       '2MASX J09443702-2633554', '2MASX J10155660-2002268',\n",
       "       '2MASX J14555293-3548223', '2MASX J15085291+6814074',\n",
       "       '2MASX J16383091-2055246', '2MASX J21033788-0455396',\n",
       "       '2MASX J22024516-1304538', '2dFGRS TGN357Z241', '3C 286',\n",
       "       '6dFGS gJ043944.9-454043', '6dFGS gJ084628.7-121409',\n",
       "       '6dFGS gJ101329.7-283126', '7C 151247.00+370154.00', 'CTS   11',\n",
       "       'HE 0226-4110', 'ICRF J025937.6+423549', 'ICRF J073352.5+502209',\n",
       "       'ICRF J081100.6+571412', 'ICRF J100646.4-215920',\n",
       "       'ICRF J110153.4+624150', 'ICRF J114855.8-040409',\n",
       "       'ICRF J135704.4+191907', 'ICRF J170009.2+683006',\n",
       "       'ICRF J173548.0+361645', 'ICRF J200755.1-443444',\n",
       "       'IRAS 10295-1831', 'LEDA 2292300', 'MCG-01-59-027', 'NGC  5033',\n",
       "       'UGC 10683', '[VV2006c] J031146.1-550700',\n",
       "       '[VV2010c] J165435.3+620057'], dtype='<U37')"
      ]
     },
     "execution_count": 17,
     "metadata": {},
     "output_type": "execute_result"
    }
   ],
   "source": [
    "GalaxiesToStudy"
   ]
  },
  {
   "cell_type": "markdown",
   "metadata": {},
   "source": [
    "Then, we remove galaxies that are not useful."
   ]
  },
  {
   "cell_type": "code",
   "execution_count": 18,
   "metadata": {
    "ExecuteTime": {
     "end_time": "2021-07-13T15:05:54.617588Z",
     "start_time": "2021-07-13T15:05:54.598524Z"
    }
   },
   "outputs": [],
   "source": [
    "Reclass = [np.where(matched['main_id'] == gal)[0][0] for gal in GalaxiesToStudy]\n",
    "matched['otype_txt'][Reclass] = 'SyG'\n",
    "\n",
    "LocGTR_Matched = [np.where(matched['main_id'] == i)[0] for i in GalaxiesToRemove]\n",
    "\n",
    "matched.remove_rows(np.concatenate(LocGTR_Matched))"
   ]
  },
  {
   "cell_type": "markdown",
   "metadata": {},
   "source": [
    "From the rest of this work we are going to assume that S1n are also S1 galaxies. Only three galaxies classified as S1n in VCV are classified as Sy2 in SIMBAD. We are going to include this three galaxies in the unclassified sample."
   ]
  },
  {
   "cell_type": "code",
   "execution_count": 19,
   "metadata": {
    "ExecuteTime": {
     "end_time": "2021-07-13T15:05:54.622337Z",
     "start_time": "2021-07-13T15:05:54.618399Z"
    }
   },
   "outputs": [
    {
     "name": "stdout",
     "output_type": "stream",
     "text": [
      "        main_id        \n",
      "-----------------------\n",
      "2MASX J10194946+3322041\n",
      "2MASS J09455439+4238399\n",
      "2MASX J23383708-0028105\n"
     ]
    }
   ],
   "source": [
    "Reclass2 = np.where(np.logical_and(matched['Sp'] == 'S1n', matched['otype_txt'] == 'Sy2'))\n",
    "print(matched[Reclass2]['main_id'])\n",
    "matched['Sp'][Reclass2] = 'S'\n",
    "Reclass3 = np.where(matched['Sp'] == 'S1n')\n",
    "matched['Sp'][Reclass3] = 'S1'"
   ]
  },
  {
   "cell_type": "markdown",
   "metadata": {},
   "source": [
    "We additionally save the information of the galaxies that where reclassified as S1 from S1n for further analysis (Check [A1_NarrowLineS1](A1_NarrowLineS1.ipynb) notebook)."
   ]
  },
  {
   "cell_type": "code",
   "execution_count": 20,
   "metadata": {
    "ExecuteTime": {
     "end_time": "2021-07-13T15:05:54.634856Z",
     "start_time": "2021-07-13T15:05:54.623087Z"
    }
   },
   "outputs": [
    {
     "name": "stderr",
     "output_type": "stream",
     "text": [
      "WARNING: AstropyDeprecationWarning: ../Data/Complementary/NLS1_reclass.txt already exists. Automatically overwriting ASCII files is deprecated. Use the argument 'overwrite=True' in the future. [astropy.io.ascii.ui]\n"
     ]
    }
   ],
   "source": [
    "matched[Reclass3]['main_id', 'otype_txt'].write('../Data/Complementary/NLS1_reclass.txt',\n",
    "                                                format='ascii')"
   ]
  },
  {
   "cell_type": "markdown",
   "metadata": {},
   "source": [
    "## Create the clean VCV SMB sample file\n",
    "Here we organize and save the data of the sample that will be used later."
   ]
  },
  {
   "cell_type": "code",
   "execution_count": 21,
   "metadata": {
    "ExecuteTime": {
     "end_time": "2021-07-13T15:07:17.803126Z",
     "start_time": "2021-07-13T15:07:17.795769Z"
    }
   },
   "outputs": [
    {
     "name": "stdout",
     "output_type": "stream",
     "text": [
      "We get in total 18921 galaxies in the sample\n"
     ]
    }
   ],
   "source": [
    "print('We get in total %i galaxies in the sample'%len(matched))"
   ]
  },
  {
   "cell_type": "code",
   "execution_count": 22,
   "metadata": {
    "ExecuteTime": {
     "end_time": "2021-07-13T15:08:44.165937Z",
     "start_time": "2021-07-13T15:08:43.898997Z"
    }
   },
   "outputs": [
    {
     "name": "stderr",
     "output_type": "stream",
     "text": [
      "WARNING: AstropyDeprecationWarning: ../Data/Final/VCV_SMB_otype.txt already exists. Automatically overwriting ASCII files is deprecated. Use the argument 'overwrite=True' in the future. [astropy.io.ascii.ui]\n"
     ]
    }
   ],
   "source": [
    "matched.write('../Data/Final/VCV_SMB_otype.txt', format='ascii')"
   ]
  },
  {
   "cell_type": "markdown",
   "metadata": {},
   "source": [
    "## Final numbers from the otypes\n",
    "##### Part TABLE 3\n",
    "We compute the final numbers about where the classifications come from. We take into account the reclassification that we use before for specific galaxies."
   ]
  },
  {
   "cell_type": "code",
   "execution_count": 23,
   "metadata": {
    "ExecuteTime": {
     "end_time": "2021-07-13T15:11:23.436808Z",
     "start_time": "2021-07-13T15:11:23.427407Z"
    }
   },
   "outputs": [],
   "source": [
    "ReclassS1 = np.logical_and.reduce([all_typ['otype_bibcode'] == 'UNK',\n",
    "                                   all_typ['otype_txt_1'] == 'Sy1',\n",
    "                                   all_typ['otype_txt_2'] == 'Sy1'])\n",
    "\n",
    "ReclassS2 = np.logical_and.reduce([all_typ['otype_bibcode'] == 'UNK',\n",
    "                                   all_typ['otype_txt_1'] == 'Sy2',\n",
    "                                   all_typ['otype_txt_2'] == 'Sy2'])"
   ]
  },
  {
   "cell_type": "markdown",
   "metadata": {},
   "source": [
    "Data from Seyfert 1 galaxies comes predominantly (95%) from 5 works"
   ]
  },
  {
   "cell_type": "code",
   "execution_count": 24,
   "metadata": {
    "ExecuteTime": {
     "end_time": "2021-07-13T15:11:27.964226Z",
     "start_time": "2021-07-13T15:11:27.942136Z"
    }
   },
   "outputs": [
    {
     "name": "stdout",
     "output_type": "stream",
     "text": [
      "The total number of Seyfert 1 is: 13760\n"
     ]
    }
   ],
   "source": [
    "print('The total number of Seyfert 1 is:',\n",
    "      len(all_typ[np.logical_and(all_typ['otype_txt_1'] == 'Sy1',\n",
    "                                 all_typ['otype_txt_2'] == 'Sy1')])-sum(ReclassS1))"
   ]
  },
  {
   "cell_type": "markdown",
   "metadata": {},
   "source": [
    "Here we show the bibcode for the first 5 contributions to the Seyfert 1 sample"
   ]
  },
  {
   "cell_type": "code",
   "execution_count": 25,
   "metadata": {
    "ExecuteTime": {
     "end_time": "2021-07-13T15:11:37.645848Z",
     "start_time": "2021-07-13T15:11:32.735412Z"
    }
   },
   "outputs": [
    {
     "data": {
      "text/plain": [
       "otype_bibcode\n",
       "b'CDS'                    5566\n",
       "b'2014ApJ...788...45T'    2784\n",
       "b'2015ApJS..219....1O'    2001\n",
       "b'2006ApJS..166..128Z'    1783\n",
       "b'2017ApJS..229...39R'     988\n",
       "dtype: int64"
      ]
     },
     "execution_count": 25,
     "metadata": {},
     "output_type": "execute_result"
    }
   ],
   "source": [
    "S1Otyp = np.logical_xor(np.logical_and(all_typ['otype_txt_1'] == 'Sy1',\n",
    "                                       all_typ['otype_txt_2'] == 'Sy1'),\n",
    "                        ReclassS1)\n",
    "GroupedS1 = all_typ[S1Otyp].to_pandas().groupby('otype_bibcode').size()\n",
    "GroupedS1.sort_values(ascending=False).head(5)"
   ]
  },
  {
   "cell_type": "code",
   "execution_count": 26,
   "metadata": {
    "ExecuteTime": {
     "end_time": "2021-07-13T15:11:41.997553Z",
     "start_time": "2021-07-13T15:11:41.975298Z"
    }
   },
   "outputs": [
    {
     "name": "stdout",
     "output_type": "stream",
     "text": [
      "0.9536337209302326\n"
     ]
    }
   ],
   "source": [
    "# Fractional contribution from those 5 works\n",
    "print((sum(GroupedS1.sort_values(ascending=False).head(5))) / (len(all_typ[np.logical_and(\n",
    "    all_typ['otype_txt_1'] == 'Sy1', all_typ['otype_txt_2'] == 'Sy1')])-sum(ReclassS1)))"
   ]
  },
  {
   "cell_type": "markdown",
   "metadata": {},
   "source": [
    "Data from Seyfert 2 galaxies comes predominantly (97%) from 3 works"
   ]
  },
  {
   "cell_type": "code",
   "execution_count": 27,
   "metadata": {
    "ExecuteTime": {
     "end_time": "2021-07-13T15:11:45.315859Z",
     "start_time": "2021-07-13T15:11:45.301625Z"
    }
   },
   "outputs": [
    {
     "name": "stdout",
     "output_type": "stream",
     "text": [
      "The total number of Seyfert 2 is: 5040\n"
     ]
    }
   ],
   "source": [
    "print('The total number of Seyfert 2 is:',\n",
    "      len(all_typ[np.logical_and(all_typ['otype_txt_1'] == 'Sy2',\n",
    "                                 all_typ['otype_txt_2'] == 'Sy2')])-sum(ReclassS2))"
   ]
  },
  {
   "cell_type": "markdown",
   "metadata": {},
   "source": [
    "Here we show the bibcode for the first 3 contributions to the Seyfert 2 sample"
   ]
  },
  {
   "cell_type": "code",
   "execution_count": 28,
   "metadata": {
    "ExecuteTime": {
     "end_time": "2021-07-13T15:12:00.173862Z",
     "start_time": "2021-07-13T15:12:00.147796Z"
    }
   },
   "outputs": [
    {
     "data": {
      "text/plain": [
       "otype_bibcode\n",
       "b'CDS'                    2845\n",
       "b'2014ApJ...788...45T'    1239\n",
       "b'VCV'                     787\n",
       "dtype: int64"
      ]
     },
     "execution_count": 28,
     "metadata": {},
     "output_type": "execute_result"
    }
   ],
   "source": [
    "S2Otyp = np.logical_xor(np.logical_and(all_typ['otype_txt_1'] == 'Sy2',\n",
    "                                       all_typ['otype_txt_2'] == 'Sy2'),\n",
    "                        ReclassS2)\n",
    "GroupedS2 = all_typ[S2Otyp].to_pandas().groupby('otype_bibcode').size()\n",
    "GroupedS2.sort_values(ascending=False).head(3)"
   ]
  },
  {
   "cell_type": "code",
   "execution_count": 29,
   "metadata": {
    "ExecuteTime": {
     "end_time": "2021-07-13T15:12:03.165825Z",
     "start_time": "2021-07-13T15:12:03.149649Z"
    }
   },
   "outputs": [
    {
     "name": "stdout",
     "output_type": "stream",
     "text": [
      "0.966468253968254\n"
     ]
    }
   ],
   "source": [
    "# Fractional contribution from those 3 works\n",
    "print((sum(GroupedS2.sort_values(ascending=False).head(3))) / (len(all_typ[np.logical_and(\n",
    "    all_typ['otype_txt_1'] == 'Sy2', all_typ['otype_txt_2'] == 'Sy2')])-sum(ReclassS2)))"
   ]
  },
  {
   "cell_type": "markdown",
   "metadata": {},
   "source": [
    "Finally, data from the unclassified Seyfert galaxies comes predominantly (92%) from 3 works"
   ]
  },
  {
   "cell_type": "code",
   "execution_count": 30,
   "metadata": {
    "ExecuteTime": {
     "end_time": "2021-07-13T15:13:19.309548Z",
     "start_time": "2021-07-13T15:13:19.300350Z"
    }
   },
   "outputs": [
    {
     "name": "stdout",
     "output_type": "stream",
     "text": [
      "The total number of Seyfert 2 is: 121\n"
     ]
    }
   ],
   "source": [
    "print('The total number of Seyfert 2 is:',\n",
    "      len(all_typ[np.logical_and(all_typ['otype_txt_1'] == 'SyG',\n",
    "                                  all_typ['otype_txt_2'] == 'SyG')]) +\n",
    "      sum(np.logical_or(ReclassS1, ReclassS2)))"
   ]
  },
  {
   "cell_type": "markdown",
   "metadata": {
    "ExecuteTime": {
     "end_time": "2021-01-19T14:00:11.979944Z",
     "start_time": "2021-01-19T14:00:11.971483Z"
    }
   },
   "source": [
    "We show the bibcode for the first 3 contributions to the unclassified Seyfert sample"
   ]
  },
  {
   "cell_type": "code",
   "execution_count": 31,
   "metadata": {
    "ExecuteTime": {
     "end_time": "2021-07-13T15:13:21.354000Z",
     "start_time": "2021-07-13T15:13:21.339373Z"
    }
   },
   "outputs": [
    {
     "data": {
      "text/plain": [
       "otype_bibcode\n",
       "b'CDS'    57\n",
       "b'UNK'    49\n",
       "b'VCV'     5\n",
       "dtype: int64"
      ]
     },
     "execution_count": 31,
     "metadata": {},
     "output_type": "execute_result"
    }
   ],
   "source": [
    "SGOtyp = np.logical_xor(np.logical_and(all_typ['otype_txt_1'] == 'SyG',\n",
    "                                       all_typ['otype_txt_2'] == 'SyG'),\n",
    "                        np.logical_or(ReclassS1, ReclassS2))\n",
    "GroupedSG = all_typ[SGOtyp].to_pandas().groupby('otype_bibcode').size()\n",
    "GroupedSG.sort_values(ascending=False).head(3)"
   ]
  },
  {
   "cell_type": "code",
   "execution_count": 32,
   "metadata": {
    "ExecuteTime": {
     "end_time": "2021-07-13T15:13:24.638983Z",
     "start_time": "2021-07-13T15:13:24.629638Z"
    }
   },
   "outputs": [
    {
     "name": "stdout",
     "output_type": "stream",
     "text": [
      "0.9173553719008265\n"
     ]
    }
   ],
   "source": [
    "# Fractional contribution from those 3 works\n",
    "print((sum(GroupedSG.sort_values(ascending=False).head(3))) /\n",
    "      (len(all_typ[np.logical_and(all_typ['otype_txt_1'] == 'SyG',\n",
    "                                  all_typ['otype_txt_2'] == 'SyG')]) +\n",
    "       sum(np.logical_or(ReclassS1, ReclassS2))))"
   ]
  },
  {
   "cell_type": "markdown",
   "metadata": {},
   "source": [
    "We notice that almost 45% of the classifications come from the CDS basic data"
   ]
  },
  {
   "cell_type": "code",
   "execution_count": 33,
   "metadata": {
    "ExecuteTime": {
     "end_time": "2021-07-13T15:13:36.526902Z",
     "start_time": "2021-07-13T15:13:36.474691Z"
    }
   },
   "outputs": [
    {
     "name": "stdout",
     "output_type": "stream",
     "text": [
      "0.44754505575815234\n"
     ]
    }
   ],
   "source": [
    "print((sum(all_typ[S1Otyp]['otype_bibcode'] == 'CDS') +\n",
    "       sum(all_typ[S2Otyp]['otype_bibcode'] == 'CDS') +\n",
    "       sum(all_typ[SGOtyp]['otype_bibcode'] == 'CDS')) /\n",
    "      len(all_typ[np.logical_or.reduce([np.logical_and(all_typ['otype_txt_1'] == 'Sy2',\n",
    "                                                       all_typ['otype_txt_2'] == 'Sy2'),\n",
    "                                        np.logical_and(all_typ['otype_txt_1'] == 'Sy1',\n",
    "                                                       all_typ['otype_txt_2'] == 'Sy1'),\n",
    "                                        np.logical_and(all_typ['otype_txt_1'] == 'SyG',\n",
    "                                                       all_typ['otype_txt_2'] == 'SyG')])]))"
   ]
  },
  {
   "cell_type": "markdown",
   "metadata": {},
   "source": [
    "##### Notebook info"
   ]
  },
  {
   "cell_type": "code",
   "execution_count": 34,
   "metadata": {
    "ExecuteTime": {
     "end_time": "2021-07-13T15:14:10.891645Z",
     "start_time": "2021-07-13T15:14:10.724172Z"
    }
   },
   "outputs": [
    {
     "name": "stdout",
     "output_type": "stream",
     "text": [
      "Author: Andres Ramos\n",
      "\n",
      "Python implementation: CPython\n",
      "Python version       : 3.8.3\n",
      "IPython version      : 7.16.1\n",
      "\n",
      "Compiler    : GCC 7.3.0\n",
      "OS          : Linux\n",
      "Release     : 3.10.0-1160.25.1.el7.x86_64\n",
      "Machine     : x86_64\n",
      "Processor   : x86_64\n",
      "CPU cores   : 8\n",
      "Architecture: 64bit\n",
      "\n",
      "Specific Python packages\n",
      "astropy: 4.2\n",
      "pandas : 1.2.0\n",
      "\n",
      "autopep8  : 1.5.7\n",
      "matplotlib: 3.2.2\n",
      "numpy     : 1.19.5\n",
      "logging   : 0.5.1.2\n",
      "re        : 2.2.1\n",
      "json      : 2.0.9\n",
      "sys       : 3.8.3 (default, Jul  2 2020, 16:21:59) \n",
      "[GCC 7.3.0]\n",
      "\n",
      "Watermark: 2.1.0\n",
      "\n"
     ]
    }
   ],
   "source": [
    "%load_ext watermark\n",
    "%watermark -a \"Andres Ramos\" -d -v -m\n",
    "print('Specific Python packages')\n",
    "%watermark -iv -w --packages astropy,pandas"
   ]
  },
  {
   "cell_type": "code",
   "execution_count": null,
   "metadata": {},
   "outputs": [],
   "source": []
  }
 ],
 "metadata": {
  "hide_input": false,
  "kernelspec": {
   "display_name": "Python 3",
   "language": "python",
   "name": "python3"
  },
  "language_info": {
   "codemirror_mode": {
    "name": "ipython",
    "version": 3
   },
   "file_extension": ".py",
   "mimetype": "text/x-python",
   "name": "python",
   "nbconvert_exporter": "python",
   "pygments_lexer": "ipython3",
   "version": "3.8.3"
  },
  "toc": {
   "base_numbering": "2",
   "nav_menu": {},
   "number_sections": true,
   "sideBar": true,
   "skip_h1_title": false,
   "title_cell": "Table of Contents",
   "title_sidebar": "Contents",
   "toc_cell": false,
   "toc_position": {},
   "toc_section_display": true,
   "toc_window_display": false
  },
  "varInspector": {
   "cols": {
    "lenName": 16,
    "lenType": 16,
    "lenVar": 40
   },
   "kernels_config": {
    "python": {
     "delete_cmd_postfix": "",
     "delete_cmd_prefix": "del ",
     "library": "var_list.py",
     "varRefreshCmd": "print(var_dic_list())"
    },
    "r": {
     "delete_cmd_postfix": ") ",
     "delete_cmd_prefix": "rm(",
     "library": "var_list.r",
     "varRefreshCmd": "cat(var_dic_list()) "
    }
   },
   "types_to_exclude": [
    "module",
    "function",
    "builtin_function_or_method",
    "instance",
    "_Feature"
   ],
   "window_display": false
  }
 },
 "nbformat": 4,
 "nbformat_minor": 4
}
