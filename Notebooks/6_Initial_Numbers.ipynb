{
 "cells": [
  {
   "cell_type": "markdown",
   "metadata": {},
   "source": [
    "# Numbers from the catalogs and photometry\n",
    "Here we compute the numbers that we obtained from the photometry and the selected samples from VCV and SMB."
   ]
  },
  {
   "cell_type": "markdown",
   "metadata": {},
   "source": [
    "First, we import all necessary packages"
   ]
  },
  {
   "cell_type": "code",
   "execution_count": 1,
   "metadata": {
    "ExecuteTime": {
     "end_time": "2021-07-26T09:12:19.353880Z",
     "start_time": "2021-07-26T09:12:18.949935Z"
    }
   },
   "outputs": [
    {
     "name": "stdout",
     "output_type": "stream",
     "text": [
      "Using matplotlib backend: Qt5Agg\n",
      "Populating the interactive namespace from numpy and matplotlib\n"
     ]
    }
   ],
   "source": [
    "%pylab"
   ]
  },
  {
   "cell_type": "code",
   "execution_count": 2,
   "metadata": {
    "ExecuteTime": {
     "end_time": "2021-07-26T09:12:19.924551Z",
     "start_time": "2021-07-26T09:12:19.354764Z"
    }
   },
   "outputs": [],
   "source": [
    "from astropy.table import Table"
   ]
  },
  {
   "cell_type": "code",
   "execution_count": 3,
   "metadata": {
    "ExecuteTime": {
     "end_time": "2021-07-26T09:12:19.928946Z",
     "start_time": "2021-07-26T09:12:19.925621Z"
    }
   },
   "outputs": [],
   "source": [
    "def selt1_or_selt2(tab_phot):\n",
    "    \"\"\"Select Seyferts 1 and 2 in both VCV and CDS\"\"\"\n",
    "    selec1 = np.logical_and(tab_phot['otype_txt'] == 'Sy1', tab_phot['Sp'] == 'S1')\n",
    "    selec2 = np.logical_and(tab_phot['otype_txt'] == 'Sy2', tab_phot['Sp'] == 'S2')\n",
    "    select_sey = np.logical_or(selec1, selec2)\n",
    "    return tab_phot[select_sey]\n",
    "\n",
    "\n",
    "def selt1_xor_selt2(tab_phot):\n",
    "    \"\"\"Select mixed classifications Seyferts 1 and 2 between VCV and CDS\"\"\"\n",
    "    selec1 = np.logical_and(tab_phot['otype_txt'] == 'Sy1', tab_phot['Sp'] == 'S2')\n",
    "    selec2 = np.logical_and(tab_phot['otype_txt'] == 'Sy2', tab_phot['Sp'] == 'S1')\n",
    "    select_sey = np.logical_or(selec1, selec2)\n",
    "    return tab_phot[select_sey]"
   ]
  },
  {
   "cell_type": "markdown",
   "metadata": {},
   "source": [
    "## Numbers in photometry"
   ]
  },
  {
   "cell_type": "markdown",
   "metadata": {},
   "source": [
    "Here we examine the photometry of all the galaxies we decided to use for CIGALE runs."
   ]
  },
  {
   "cell_type": "code",
   "execution_count": 4,
   "metadata": {
    "ExecuteTime": {
     "end_time": "2021-07-26T09:12:20.330110Z",
     "start_time": "2021-07-26T09:12:19.930056Z"
    }
   },
   "outputs": [],
   "source": [
    "Phot = Table.read('../Data/Final/CIGPhot_EnergyBal_All.tbl', format='ascii').to_pandas()"
   ]
  },
  {
   "cell_type": "markdown",
   "metadata": {},
   "source": [
    "##### Part TABLE 1"
   ]
  },
  {
   "cell_type": "markdown",
   "metadata": {},
   "source": [
    "The total number of bands in the photometry show that most information comes from SDSS and WISE, and that we have a low coverage in the longer wavelengths. This will define the TABLE 1 in our work"
   ]
  },
  {
   "cell_type": "code",
   "execution_count": 5,
   "metadata": {
    "ExecuteTime": {
     "end_time": "2021-07-26T09:12:20.414298Z",
     "start_time": "2021-07-26T09:12:20.330949Z"
    }
   },
   "outputs": [
    {
     "data": {
      "text/plain": [
       "FUV            6456.0\n",
       "NUV            9266.0\n",
       "u_prime       12024.0\n",
       "g_prime       12542.0\n",
       "r_prime       12326.0\n",
       "i_prime       12274.0\n",
       "z_prime       11604.0\n",
       "J_2mass        7018.0\n",
       "H_2mass        6566.0\n",
       "Ks_2mass       8215.0\n",
       "WISE1         13170.0\n",
       "IRAC1          4063.0\n",
       "IRAC2          4048.0\n",
       "WISE2         13165.0\n",
       "IRAC3           458.0\n",
       "IRAC4           447.0\n",
       "IRAS1           462.0\n",
       "WISE3         12361.0\n",
       "WISE4          8295.0\n",
       "MIPS1           809.0\n",
       "IRAS2           634.0\n",
       "IRAS3           979.0\n",
       "PACS_blue       265.0\n",
       "MIPS2           225.0\n",
       "IRAS4           722.0\n",
       "PACS_green      178.0\n",
       "MIPS3           110.0\n",
       "PACS_red        303.0\n",
       "PSW_ext         840.0\n",
       "PMW_ext         476.0\n",
       "PLW_ext         233.0\n",
       "Name: count, dtype: float64"
      ]
     },
     "execution_count": 5,
     "metadata": {},
     "output_type": "execute_result"
    }
   ],
   "source": [
    "Phot.describe().T['count'][1::2]"
   ]
  },
  {
   "cell_type": "markdown",
   "metadata": {},
   "source": [
    "## Numbers in catalogs (VCV)\n",
    "##### Part TABLE 3\n",
    "We use the file where galaxies have been classified as Seyfert by VCV and also have shown a Seyfert type in SIMBAD."
   ]
  },
  {
   "cell_type": "code",
   "execution_count": 6,
   "metadata": {
    "ExecuteTime": {
     "end_time": "2021-07-26T09:12:20.592065Z",
     "start_time": "2021-07-26T09:12:20.415210Z"
    }
   },
   "outputs": [],
   "source": [
    "Sample = Table.read('../Data/Final/VCV_SMB_otype.txt', format='ascii').to_pandas()"
   ]
  },
  {
   "cell_type": "markdown",
   "metadata": {},
   "source": [
    "First, we count how many galaxies are for each type. Most of the galaxies are Seyfert 1 and Seyfert 2 (13177, 4567), while the unclassified Seyfert are 87. The total number of galaxies outside the normal classification are 1090. We do not use 170 of those galaxies when VCV is compared."
   ]
  },
  {
   "cell_type": "code",
   "execution_count": 7,
   "metadata": {
    "ExecuteTime": {
     "end_time": "2021-07-26T09:12:20.603003Z",
     "start_time": "2021-07-26T09:12:20.592967Z"
    }
   },
   "outputs": [
    {
     "name": "stdout",
     "output_type": "stream",
     "text": [
      "Classified Seyfert galaxies: 17831\n",
      "Intermediate classifications 920\n",
      "Other classifications 170\n"
     ]
    },
    {
     "data": {
      "text/plain": [
       "Sp\n",
       "S          87\n",
       "S1      13177\n",
       "S1.0      162\n",
       "S1.2      161\n",
       "S1.5      356\n",
       "S1.8      114\n",
       "S1.9      127\n",
       "S1h        40\n",
       "S1i         5\n",
       "S1n0        7\n",
       "S1n2        5\n",
       "S1n5        5\n",
       "S2       4567\n",
       "S3         58\n",
       "S3b         6\n",
       "S?         44\n",
       "dtype: int64"
      ]
     },
     "execution_count": 7,
     "metadata": {},
     "output_type": "execute_result"
    }
   ],
   "source": [
    "print('Classified Seyfert galaxies:',\n",
    "      sum(Sample.groupby('Sp').size()[['S1', 'S2', 'S']]))\n",
    "print('Intermediate classifications',\n",
    "      sum(Sample.groupby('Sp').size()[['S1.0', 'S1.2', 'S1.5', 'S1.8', 'S1.9']]))\n",
    "print('Other classifications',\n",
    "      sum(Sample.groupby('Sp').size()[['S1h', 'S1i', 'S1n0', 'S1n2', 'S1n5', 'S3', 'S3b', 'S?']]))\n",
    "Sample.groupby('Sp').size()"
   ]
  },
  {
   "cell_type": "markdown",
   "metadata": {},
   "source": [
    "## Numbers in catalogs (SMB)\n",
    "##### Part TABLE 3\n",
    "For the SMB type we have 13760 Seyfert 1 and 5040 Seyfert 2, with 121 unclassified Seyfert. More information can be found in [2_Clean_Sample](./2_Clean_Sample.ipynb) notebook."
   ]
  },
  {
   "cell_type": "code",
   "execution_count": 8,
   "metadata": {
    "ExecuteTime": {
     "end_time": "2021-07-26T09:12:20.608085Z",
     "start_time": "2021-07-26T09:12:20.604396Z"
    }
   },
   "outputs": [
    {
     "data": {
      "text/plain": [
       "otype_txt\n",
       "Sy1    13760\n",
       "Sy2     5040\n",
       "SyG      121\n",
       "dtype: int64"
      ]
     },
     "execution_count": 8,
     "metadata": {},
     "output_type": "execute_result"
    }
   ],
   "source": [
    "Sample.groupby('otype_txt').size()"
   ]
  },
  {
   "cell_type": "markdown",
   "metadata": {},
   "source": [
    "## Numbers on Classifications with SMB and VCV\n",
    "##### Part TABLE 3\n",
    "From the 18921 galaxies, a total of 17270 are classified in Sy1 or Sy2 in both catalogs, and 454 galaxies change of type (Sy1 -> Sy2 or Sy2 -> Sy1)."
   ]
  },
  {
   "cell_type": "code",
   "execution_count": 9,
   "metadata": {
    "ExecuteTime": {
     "end_time": "2021-07-26T09:12:20.625387Z",
     "start_time": "2021-07-26T09:12:20.609246Z"
    },
    "scrolled": true
   },
   "outputs": [
    {
     "name": "stdout",
     "output_type": "stream",
     "text": [
      "17270 454\n"
     ]
    }
   ],
   "source": [
    "print(len(selt1_or_selt2(Sample)), len(selt1_xor_selt2(Sample)))"
   ]
  },
  {
   "cell_type": "markdown",
   "metadata": {},
   "source": [
    "Now we can count the total number of galaxies for each classification type as we did before for the VCV and SMB."
   ]
  },
  {
   "cell_type": "code",
   "execution_count": 10,
   "metadata": {
    "ExecuteTime": {
     "end_time": "2021-07-26T09:12:20.651225Z",
     "start_time": "2021-07-26T09:12:20.626265Z"
    }
   },
   "outputs": [],
   "source": [
    "PhotSample = Phot.join(Sample.set_index('main_id'), on='id')"
   ]
  },
  {
   "cell_type": "code",
   "execution_count": 11,
   "metadata": {
    "ExecuteTime": {
     "end_time": "2021-07-26T09:12:20.661843Z",
     "start_time": "2021-07-26T09:12:20.652194Z"
    }
   },
   "outputs": [
    {
     "name": "stdout",
     "output_type": "stream",
     "text": [
      "Classified Seyfer galaxies: 12280\n",
      "Intermediate classifications 756\n",
      "Other classifications 137\n"
     ]
    },
    {
     "data": {
      "text/plain": [
       "Sp\n",
       "S         54\n",
       "S1      8942\n",
       "S1.0     151\n",
       "S1.2     133\n",
       "S1.5     291\n",
       "S1.8      89\n",
       "S1.9      92\n",
       "S1h       36\n",
       "S1i        4\n",
       "S1n0       7\n",
       "S1n2       5\n",
       "S1n5       5\n",
       "S2      3284\n",
       "S3        49\n",
       "S3b        5\n",
       "S?        26\n",
       "dtype: int64"
      ]
     },
     "execution_count": 11,
     "metadata": {},
     "output_type": "execute_result"
    }
   ],
   "source": [
    "print('Classified Seyfer galaxies:',\n",
    "      sum(PhotSample.groupby('Sp').size()[['S1', 'S2', 'S']]))\n",
    "print('Intermediate classifications',\n",
    "      sum(PhotSample.groupby('Sp').size()[['S1.0', 'S1.2', 'S1.5', 'S1.8', 'S1.9']]))\n",
    "print('Other classifications',\n",
    "      sum(PhotSample.groupby('Sp').size()[['S1h', 'S1i', 'S1n0', 'S1n2',\n",
    "                                           'S1n5', 'S3', 'S3b', 'S?']]))\n",
    "PhotSample.groupby('Sp').size()"
   ]
  },
  {
   "cell_type": "code",
   "execution_count": 12,
   "metadata": {
    "ExecuteTime": {
     "end_time": "2021-07-26T09:12:20.666088Z",
     "start_time": "2021-07-26T09:12:20.662751Z"
    }
   },
   "outputs": [
    {
     "data": {
      "text/plain": [
       "otype_txt\n",
       "Sy1    9421\n",
       "Sy2    3679\n",
       "SyG      73\n",
       "dtype: int64"
      ]
     },
     "execution_count": 12,
     "metadata": {},
     "output_type": "execute_result"
    }
   ],
   "source": [
    "PhotSample.groupby('otype_txt').size()"
   ]
  },
  {
   "cell_type": "markdown",
   "metadata": {
    "ExecuteTime": {
     "end_time": "2021-01-22T11:35:33.765866Z",
     "start_time": "2021-01-22T11:35:33.761799Z"
    }
   },
   "source": [
    "##### Notebook info"
   ]
  },
  {
   "cell_type": "code",
   "execution_count": 13,
   "metadata": {
    "ExecuteTime": {
     "end_time": "2021-07-26T09:12:20.930423Z",
     "start_time": "2021-07-26T09:12:20.666853Z"
    }
   },
   "outputs": [
    {
     "name": "stdout",
     "output_type": "stream",
     "text": [
      "Author: Andres Ramos\n",
      "\n",
      "Python implementation: CPython\n",
      "Python version       : 3.8.3\n",
      "IPython version      : 7.16.1\n",
      "\n",
      "Compiler    : GCC 7.3.0\n",
      "OS          : Linux\n",
      "Release     : 3.10.0-1160.25.1.el7.x86_64\n",
      "Machine     : x86_64\n",
      "Processor   : x86_64\n",
      "CPU cores   : 8\n",
      "Architecture: 64bit\n",
      "\n",
      "Specific Python packages\n",
      "astropy: 4.2\n",
      "pandas : 1.2.0\n",
      "\n",
      "re        : 2.2.1\n",
      "numpy     : 1.19.5\n",
      "matplotlib: 3.2.2\n",
      "sys       : 3.8.3 (default, Jul  2 2020, 16:21:59) \n",
      "[GCC 7.3.0]\n",
      "autopep8  : 1.5.7\n",
      "json      : 2.0.9\n",
      "logging   : 0.5.1.2\n",
      "\n",
      "Watermark: 2.1.0\n",
      "\n"
     ]
    }
   ],
   "source": [
    "%load_ext watermark\n",
    "%watermark -a \"Andres Ramos\" -d -v -m\n",
    "print('Specific Python packages')\n",
    "%watermark -iv -w --packages astropy,pandas"
   ]
  }
 ],
 "metadata": {
  "hide_input": false,
  "kernelspec": {
   "display_name": "Python 3",
   "language": "python",
   "name": "python3"
  },
  "language_info": {
   "codemirror_mode": {
    "name": "ipython",
    "version": 3
   },
   "file_extension": ".py",
   "mimetype": "text/x-python",
   "name": "python",
   "nbconvert_exporter": "python",
   "pygments_lexer": "ipython3",
   "version": "3.8.3"
  },
  "toc": {
   "base_numbering": "6",
   "nav_menu": {},
   "number_sections": true,
   "sideBar": true,
   "skip_h1_title": false,
   "title_cell": "Table of Contents",
   "title_sidebar": "Contents",
   "toc_cell": false,
   "toc_position": {},
   "toc_section_display": true,
   "toc_window_display": true
  },
  "varInspector": {
   "cols": {
    "lenName": 16,
    "lenType": 16,
    "lenVar": 40
   },
   "kernels_config": {
    "python": {
     "delete_cmd_postfix": "",
     "delete_cmd_prefix": "del ",
     "library": "var_list.py",
     "varRefreshCmd": "print(var_dic_list())"
    },
    "r": {
     "delete_cmd_postfix": ") ",
     "delete_cmd_prefix": "rm(",
     "library": "var_list.r",
     "varRefreshCmd": "cat(var_dic_list()) "
    }
   },
   "types_to_exclude": [
    "module",
    "function",
    "builtin_function_or_method",
    "instance",
    "_Feature"
   ],
   "window_display": false
  }
 },
 "nbformat": 4,
 "nbformat_minor": 4
}
