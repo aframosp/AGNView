{
 "cells": [
  {
   "cell_type": "markdown",
   "metadata": {},
   "source": [
    "# Numbers from the catalogs and photometry\n",
    "Here we compute the numbers that we obtained from the photometry and the selected samples from VCV and SMB."
   ]
  },
  {
   "cell_type": "markdown",
   "metadata": {},
   "source": [
    "First, we import all necessary packages"
   ]
  },
  {
   "cell_type": "code",
   "execution_count": 1,
   "metadata": {
    "ExecuteTime": {
     "end_time": "2021-05-26T15:19:48.720439Z",
     "start_time": "2021-05-26T15:19:48.196464Z"
    }
   },
   "outputs": [
    {
     "name": "stdout",
     "output_type": "stream",
     "text": [
      "Using matplotlib backend: Qt5Agg\n",
      "Populating the interactive namespace from numpy and matplotlib\n"
     ]
    }
   ],
   "source": [
    "%pylab"
   ]
  },
  {
   "cell_type": "code",
   "execution_count": 2,
   "metadata": {
    "ExecuteTime": {
     "end_time": "2021-05-26T15:19:49.404418Z",
     "start_time": "2021-05-26T15:19:48.721574Z"
    }
   },
   "outputs": [],
   "source": [
    "from astropy.table import Table"
   ]
  },
  {
   "cell_type": "code",
   "execution_count": 3,
   "metadata": {
    "ExecuteTime": {
     "end_time": "2021-05-26T15:19:49.408663Z",
     "start_time": "2021-05-26T15:19:49.405331Z"
    }
   },
   "outputs": [],
   "source": [
    "def selt1_or_selt2(tab_phot):\n",
    "    \"\"\"Select Seyferts 1 and 2 in both VCV and CDS\"\"\"\n",
    "    selec1 = np.logical_and(tab_phot['otype_txt'] == 'Sy1', tab_phot['Sp'] == 'S1')\n",
    "    selec2 = np.logical_and(tab_phot['otype_txt'] == 'Sy2', tab_phot['Sp'] == 'S2')\n",
    "    select_sey = np.logical_or(selec1, selec2)\n",
    "    return tab_phot[select_sey]\n",
    "\n",
    "\n",
    "def selt1_xor_selt2(tab_phot):\n",
    "    \"\"\"Select mixed classifications Seyferts 1 and 2 between VCV and CDS\"\"\"\n",
    "    selec1 = np.logical_and(tab_phot['otype_txt'] == 'Sy1', tab_phot['Sp'] == 'S2')\n",
    "    selec2 = np.logical_and(tab_phot['otype_txt'] == 'Sy2', tab_phot['Sp'] == 'S1')\n",
    "    select_sey = np.logical_or(selec1, selec2)\n",
    "    return tab_phot[select_sey]"
   ]
  },
  {
   "cell_type": "markdown",
   "metadata": {},
   "source": [
    "## Numbers in photometry"
   ]
  },
  {
   "cell_type": "markdown",
   "metadata": {},
   "source": [
    "Here we examine the photometry of all the galaxies we decided to use for CIGALE runs."
   ]
  },
  {
   "cell_type": "code",
   "execution_count": 4,
   "metadata": {
    "ExecuteTime": {
     "end_time": "2021-05-26T15:19:49.845220Z",
     "start_time": "2021-05-26T15:19:49.409390Z"
    }
   },
   "outputs": [],
   "source": [
    "Phot = Table.read('../Data/Final/CIGPhot_EnergyBal_All.tbl', format='ascii').to_pandas()"
   ]
  },
  {
   "cell_type": "markdown",
   "metadata": {},
   "source": [
    "##### Part TABLE 1"
   ]
  },
  {
   "cell_type": "markdown",
   "metadata": {},
   "source": [
    "The total number of bands in the photometry show that most information comes from SDSS and WISE, and that we have a low coverage in the longer wavelengths. This will define the TABLE 1 in our work"
   ]
  },
  {
   "cell_type": "code",
   "execution_count": 5,
   "metadata": {
    "ExecuteTime": {
     "end_time": "2021-05-26T15:19:49.929220Z",
     "start_time": "2021-05-26T15:19:49.846027Z"
    }
   },
   "outputs": [
    {
     "data": {
      "text/plain": [
       "FUV            6476.0\n",
       "NUV            9258.0\n",
       "u_prime       11943.0\n",
       "g_prime       12459.0\n",
       "r_prime       12239.0\n",
       "i_prime       12190.0\n",
       "z_prime       11520.0\n",
       "J_2mass        7259.0\n",
       "H_2mass        6892.0\n",
       "Ks_2mass       8339.0\n",
       "WISE1         13126.0\n",
       "IRAC1          4022.0\n",
       "IRAC2          4009.0\n",
       "WISE2         13118.0\n",
       "IRAC3           398.0\n",
       "IRAC4           390.0\n",
       "IRAS1           446.0\n",
       "WISE3         12188.0\n",
       "WISE4          8076.0\n",
       "MIPS1           714.0\n",
       "IRAS2           608.0\n",
       "IRAS3           914.0\n",
       "PACS_blue       244.0\n",
       "MIPS2           213.0\n",
       "IRAS4           694.0\n",
       "PACS_green      159.0\n",
       "MIPS3           103.0\n",
       "PACS_red        285.0\n",
       "PSW_ext         721.0\n",
       "PMW_ext         458.0\n",
       "PLW_ext         214.0\n",
       "Name: count, dtype: float64"
      ]
     },
     "execution_count": 5,
     "metadata": {},
     "output_type": "execute_result"
    }
   ],
   "source": [
    "Phot.describe().T['count'][1::2]"
   ]
  },
  {
   "cell_type": "markdown",
   "metadata": {},
   "source": [
    "## Numbers in catalogs (VCV)\n",
    "##### Part TABLE 3\n",
    "We use the file where galaxies have been classified as Seyfert by VCV and also have shown a Seyfert type in SIMBAD."
   ]
  },
  {
   "cell_type": "code",
   "execution_count": 6,
   "metadata": {
    "ExecuteTime": {
     "end_time": "2021-05-26T15:19:50.114584Z",
     "start_time": "2021-05-26T15:19:49.930084Z"
    }
   },
   "outputs": [],
   "source": [
    "Sample = Table.read('../Data/Final/VCV_SMB_otype.txt', format='ascii').to_pandas()"
   ]
  },
  {
   "cell_type": "markdown",
   "metadata": {},
   "source": [
    "First, we count how many galaxies are for each type. Most of the galaxies are Seyfert 1 and Seyfert 2 (13177, 4567), while the unclassified Seyfert are 87. The total number of galaxies outside the normal classification are 1090. We do not use 170 of those galaxies when VCV is compared."
   ]
  },
  {
   "cell_type": "code",
   "execution_count": 7,
   "metadata": {
    "ExecuteTime": {
     "end_time": "2021-05-26T15:19:50.126031Z",
     "start_time": "2021-05-26T15:19:50.116131Z"
    }
   },
   "outputs": [
    {
     "name": "stdout",
     "output_type": "stream",
     "text": [
      "Classified Seyfer galaxies: 17831\n",
      "Intermediate classifications 920\n",
      "Other classifications 170\n"
     ]
    },
    {
     "data": {
      "text/plain": [
       "Sp\n",
       "S          87\n",
       "S1      13177\n",
       "S1.0      162\n",
       "S1.2      161\n",
       "S1.5      356\n",
       "S1.8      114\n",
       "S1.9      127\n",
       "S1h        40\n",
       "S1i         5\n",
       "S1n0        7\n",
       "S1n2        5\n",
       "S1n5        5\n",
       "S2       4567\n",
       "S3         58\n",
       "S3b         6\n",
       "S?         44\n",
       "dtype: int64"
      ]
     },
     "execution_count": 7,
     "metadata": {},
     "output_type": "execute_result"
    }
   ],
   "source": [
    "print('Classified Seyfer galaxies:',\n",
    "      sum(Sample.groupby('Sp').size()[['S1', 'S2', 'S']]))\n",
    "print('Intermediate classifications',\n",
    "      sum(Sample.groupby('Sp').size()[['S1.0', 'S1.2', 'S1.5', 'S1.8', 'S1.9']]))\n",
    "print('Other classifications',\n",
    "      sum(Sample.groupby('Sp').size()[['S1h', 'S1i', 'S1n0', 'S1n2', 'S1n5', 'S3', 'S3b', 'S?']]))\n",
    "Sample.groupby('Sp').size()"
   ]
  },
  {
   "cell_type": "markdown",
   "metadata": {},
   "source": [
    "## Numbers in catalogs (SMB)\n",
    "##### Part TABLE 3\n",
    "For the SMB type we have 13760 Seyfert 1 and 5040 Seyfert 2, with 121 unclassified Seyfert. More information can be found in [2_Clean_Sample](./2_Clean_Sample.ipynb) notebook."
   ]
  },
  {
   "cell_type": "code",
   "execution_count": 8,
   "metadata": {
    "ExecuteTime": {
     "end_time": "2021-05-26T15:19:50.130645Z",
     "start_time": "2021-05-26T15:19:50.127101Z"
    }
   },
   "outputs": [
    {
     "data": {
      "text/plain": [
       "otype_txt\n",
       "Sy1    13760\n",
       "Sy2     5040\n",
       "SyG      121\n",
       "dtype: int64"
      ]
     },
     "execution_count": 8,
     "metadata": {},
     "output_type": "execute_result"
    }
   ],
   "source": [
    "Sample.groupby('otype_txt').size()"
   ]
  },
  {
   "cell_type": "markdown",
   "metadata": {},
   "source": [
    "## Numbers on Classifications with SMB and VCV\n",
    "##### Part TABLE 3\n",
    "From the 18921 galaxies, a total of 17270 are classified in Sy1 or Sy2 in both catalogs, and 454 galaxies change of type (Sy1 -> Sy2 or Sy2 -> Sy1)."
   ]
  },
  {
   "cell_type": "code",
   "execution_count": 9,
   "metadata": {
    "ExecuteTime": {
     "end_time": "2021-05-26T15:19:50.147227Z",
     "start_time": "2021-05-26T15:19:50.131401Z"
    },
    "scrolled": true
   },
   "outputs": [
    {
     "data": {
      "text/plain": [
       "(17270, 454)"
      ]
     },
     "execution_count": 9,
     "metadata": {},
     "output_type": "execute_result"
    }
   ],
   "source": [
    "print(len(selt1_or_selt2(Sample)), len(selt1_xor_selt2(Sample)))"
   ]
  },
  {
   "cell_type": "markdown",
   "metadata": {},
   "source": [
    "Now we can count the total number of galaxies for each classification type as we did before for the VCV and SMB."
   ]
  },
  {
   "cell_type": "code",
   "execution_count": 10,
   "metadata": {
    "ExecuteTime": {
     "end_time": "2021-05-26T15:19:50.180477Z",
     "start_time": "2021-05-26T15:19:50.148226Z"
    }
   },
   "outputs": [],
   "source": [
    "PhotSample = Phot.join(Sample.set_index('main_id'), on='id')"
   ]
  },
  {
   "cell_type": "code",
   "execution_count": 11,
   "metadata": {
    "ExecuteTime": {
     "end_time": "2021-05-26T15:19:50.192305Z",
     "start_time": "2021-05-26T15:19:50.181499Z"
    }
   },
   "outputs": [
    {
     "name": "stdout",
     "output_type": "stream",
     "text": [
      "Classified Seyfer galaxies: 12232\n",
      "Intermediate classifications 760\n",
      "Other classifications 137\n"
     ]
    },
    {
     "data": {
      "text/plain": [
       "Sp\n",
       "S         58\n",
       "S1      8915\n",
       "S1.0     151\n",
       "S1.2     133\n",
       "S1.5     294\n",
       "S1.8      90\n",
       "S1.9      92\n",
       "S1h       36\n",
       "S1i        4\n",
       "S1n0       7\n",
       "S1n2       5\n",
       "S1n5       5\n",
       "S2      3259\n",
       "S3        49\n",
       "S3b        5\n",
       "S?        26\n",
       "dtype: int64"
      ]
     },
     "execution_count": 11,
     "metadata": {},
     "output_type": "execute_result"
    }
   ],
   "source": [
    "print('Classified Seyfer galaxies:',\n",
    "      sum(PhotSample.groupby('Sp').size()[['S1', 'S2', 'S']]))\n",
    "print('Intermediate classifications',\n",
    "      sum(PhotSample.groupby('Sp').size()[['S1.0', 'S1.2', 'S1.5', 'S1.8', 'S1.9']]))\n",
    "print('Other classifications',\n",
    "      sum(PhotSample.groupby('Sp').size()[['S1h', 'S1i', 'S1n0', 'S1n2',\n",
    "                                           'S1n5', 'S3', 'S3b', 'S?']]))\n",
    "PhotSample.groupby('Sp').size()"
   ]
  },
  {
   "cell_type": "code",
   "execution_count": 12,
   "metadata": {
    "ExecuteTime": {
     "end_time": "2021-05-26T15:19:50.197838Z",
     "start_time": "2021-05-26T15:19:50.193264Z"
    }
   },
   "outputs": [
    {
     "data": {
      "text/plain": [
       "otype_txt\n",
       "Sy1    9400\n",
       "Sy2    3655\n",
       "SyG      74\n",
       "dtype: int64"
      ]
     },
     "execution_count": 12,
     "metadata": {},
     "output_type": "execute_result"
    }
   ],
   "source": [
    "PhotSample.groupby('otype_txt').size()"
   ]
  },
  {
   "cell_type": "markdown",
   "metadata": {
    "ExecuteTime": {
     "end_time": "2021-01-22T11:35:33.765866Z",
     "start_time": "2021-01-22T11:35:33.761799Z"
    }
   },
   "source": [
    "##### Notebook info"
   ]
  },
  {
   "cell_type": "code",
   "execution_count": 13,
   "metadata": {
    "ExecuteTime": {
     "end_time": "2021-05-26T15:19:50.452863Z",
     "start_time": "2021-05-26T15:19:50.198599Z"
    }
   },
   "outputs": [
    {
     "name": "stdout",
     "output_type": "stream",
     "text": [
      "Author: Andres Ramos\n",
      "\n",
      "Python implementation: CPython\n",
      "Python version       : 3.8.3\n",
      "IPython version      : 7.16.1\n",
      "\n",
      "Compiler    : GCC 7.3.0\n",
      "OS          : Linux\n",
      "Release     : 3.10.0-1160.25.1.el7.x86_64\n",
      "Machine     : x86_64\n",
      "Processor   : x86_64\n",
      "CPU cores   : 8\n",
      "Architecture: 64bit\n",
      "\n",
      "Specific Python packages\n",
      "astropy: 4.2\n",
      "pandas : 1.2.0\n",
      "\n",
      "logging   : 0.5.1.2\n",
      "autopep8  : 1.5.4\n",
      "numpy     : 1.19.5\n",
      "matplotlib: 3.2.2\n",
      "re        : 2.2.1\n",
      "sys       : 3.8.3 (default, Jul  2 2020, 16:21:59) \n",
      "[GCC 7.3.0]\n",
      "json      : 2.0.9\n",
      "\n",
      "Watermark: 2.1.0\n",
      "\n"
     ]
    }
   ],
   "source": [
    "%load_ext watermark\n",
    "%watermark -a \"Andres Ramos\" -d -v -m\n",
    "print('Specific Python packages')\n",
    "%watermark -iv -w --packages astropy,pandas"
   ]
  }
 ],
 "metadata": {
  "hide_input": false,
  "kernelspec": {
   "display_name": "Python 3",
   "language": "python",
   "name": "python3"
  },
  "language_info": {
   "codemirror_mode": {
    "name": "ipython",
    "version": 3
   },
   "file_extension": ".py",
   "mimetype": "text/x-python",
   "name": "python",
   "nbconvert_exporter": "python",
   "pygments_lexer": "ipython3",
   "version": "3.8.3"
  },
  "toc": {
   "base_numbering": "6",
   "nav_menu": {},
   "number_sections": true,
   "sideBar": true,
   "skip_h1_title": false,
   "title_cell": "Table of Contents",
   "title_sidebar": "Contents",
   "toc_cell": false,
   "toc_position": {},
   "toc_section_display": true,
   "toc_window_display": true
  },
  "varInspector": {
   "cols": {
    "lenName": 16,
    "lenType": 16,
    "lenVar": 40
   },
   "kernels_config": {
    "python": {
     "delete_cmd_postfix": "",
     "delete_cmd_prefix": "del ",
     "library": "var_list.py",
     "varRefreshCmd": "print(var_dic_list())"
    },
    "r": {
     "delete_cmd_postfix": ") ",
     "delete_cmd_prefix": "rm(",
     "library": "var_list.r",
     "varRefreshCmd": "cat(var_dic_list()) "
    }
   },
   "types_to_exclude": [
    "module",
    "function",
    "builtin_function_or_method",
    "instance",
    "_Feature"
   ],
   "window_display": false
  }
 },
 "nbformat": 4,
 "nbformat_minor": 4
}
