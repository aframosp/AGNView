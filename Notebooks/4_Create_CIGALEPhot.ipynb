{
 "cells": [
  {
   "cell_type": "markdown",
   "metadata": {},
   "source": [
    "# Create CIGALE input files\n",
    "Here we create the photometry files that we use as an input to [CIGALE](https://cigale.lam.fr/) (We actually use X-CIGALE, but most of the information can be found in the same web page) . First we import the Python packages."
   ]
  },
  {
   "cell_type": "code",
   "execution_count": 1,
   "metadata": {
    "ExecuteTime": {
     "end_time": "2021-05-25T09:41:02.803024Z",
     "start_time": "2021-05-25T09:41:02.360143Z"
    }
   },
   "outputs": [
    {
     "name": "stdout",
     "output_type": "stream",
     "text": [
      "Using matplotlib backend: Qt5Agg\n",
      "Populating the interactive namespace from numpy and matplotlib\n"
     ]
    }
   ],
   "source": [
    "%pylab"
   ]
  },
  {
   "cell_type": "code",
   "execution_count": 2,
   "metadata": {
    "ExecuteTime": {
     "end_time": "2021-05-25T09:41:04.032395Z",
     "start_time": "2021-05-25T09:41:03.272601Z"
    }
   },
   "outputs": [],
   "source": [
    "import astropy.units as u\n",
    "from astropy import coordinates\n",
    "from astropy.table import Table, vstack, unique, join, Column\n",
    "\n",
    "from os import path\n",
    "from numpy import unique as uniq"
   ]
  },
  {
   "cell_type": "markdown",
   "metadata": {},
   "source": [
    "We read the SMB-VCV sample file and create a table of equivalences between the different bands."
   ]
  },
  {
   "cell_type": "code",
   "execution_count": 3,
   "metadata": {
    "ExecuteTime": {
     "end_time": "2021-05-25T09:41:13.665870Z",
     "start_time": "2021-05-25T09:41:13.443260Z"
    }
   },
   "outputs": [],
   "source": [
    "FinalName = Table.read('../Data/Final/VCV_SMB_otype.txt', format='ascii')\n",
    "Sample = uniq(FinalName)"
   ]
  },
  {
   "cell_type": "markdown",
   "metadata": {},
   "source": [
    "## Create equivalences between NED and CDS tables\n",
    "Here we create a list for the different names of the bands in NED and CDS. Each row represents the same band."
   ]
  },
  {
   "cell_type": "code",
   "execution_count": 4,
   "metadata": {
    "ExecuteTime": {
     "end_time": "2021-05-25T09:41:14.230151Z",
     "start_time": "2021-05-25T09:41:14.222987Z"
    }
   },
   "outputs": [],
   "source": [
    "Equival = [['2-10 keV (XMM)', None, None],\n",
    "           ['0.5-2 keV (XMM)', None, None],\n",
    "           ['GALEX:FUV', 'FUV (GALEX)', None],\n",
    "           ['GALEX:NUV', 'NUV (GALEX)', None],\n",
    "           [\"SDSS:u'\", 'SDSS:u', 'u (SDSS) AB'],\n",
    "           [\"SDSS:g'\", 'SDSS:g', 'g (SDSS) AB'],\n",
    "           [\"SDSS:r'\", 'SDSS:r', 'r (SDSS) AB'],\n",
    "           [\"SDSS:i'\", 'SDSS:i', 'i (SDSS) AB'],\n",
    "           [\"SDSS:z'\", 'SDSS:z', 'z (SDSS) AB'],\n",
    "           ['2MASS:J', 'J (2MASS) AB', None],\n",
    "           ['2MASS:H', 'H (2MASS) AB', None],\n",
    "           ['2MASS:Ks', 'Ks (2MASS) AB', None],\n",
    "           ['WISE:W1', 'W1 (WISE)', None],\n",
    "           [':=3.6um', '3.6 microns (IRAC)', None],\n",
    "           [':=4.5um', '4.5 microns (IRAC)', None],\n",
    "           ['WISE:W2', 'W2 (WISE)', None],\n",
    "           [':=5.8um', '5.8 microns (IRAC)', None],\n",
    "           [':=8um', '8.0 microns (IRAC)', None],\n",
    "           ['IRAS:12', '12 microns (IRAS)', None],\n",
    "           ['WISE:W3', 'W3 (WISE)', None],\n",
    "           ['WISE:W4', 'W4 (WISE)', None],\n",
    "           ['Spitzer/MIPS:24', '24 microns (MIPS)', None],\n",
    "           ['IRAS:25', '25 microns (IRAS)', None],\n",
    "           ['IRAS:60', '60 microns (IRAS)', None],\n",
    "           ['Herschel/PACS:70', '70 microns (PACS)', None],\n",
    "           ['Spitzer/MIPS:70', '70 microns (MIPS)', None],\n",
    "           ['IRAS:100', '100 microns (IRAS)', None],\n",
    "           ['Herschel/PACS:100', '100 microns (PACS)', None],\n",
    "           ['Spitzer/MIPS:160', '160 microns (MIPS)', None],\n",
    "           ['Herschel/PACS:160', '160 microns (PACS)', None],\n",
    "           ['Herschel/SPIRE:250', '250 microns (SPIRE)', ':=250um'],\n",
    "           ['Herschel/SPIRE:350', '350 microns (SPIRE)', ':=350um'],\n",
    "           ['Herschel/SPIRE:500', '500 microns (SPIRE)', ':=500um'],\n",
    "           [':=5GHz', ':=6cm', '4.89 GHz (VLA)'],\n",
    "           [':=1.5GHz', ':=20cm', '1.46 GHz (VLA)'],\n",
    "           [':=1.4GHz', ':=21cm', '1.4GHz']\n",
    "           ]"
   ]
  },
  {
   "cell_type": "markdown",
   "metadata": {},
   "source": [
    "## Transform photometry to CIGALE table"
   ]
  },
  {
   "cell_type": "markdown",
   "metadata": {},
   "source": [
    "We create a class that allows us to transform the units of the SEDs in the selected bands"
   ]
  },
  {
   "cell_type": "code",
   "execution_count": 8,
   "metadata": {
    "ExecuteTime": {
     "end_time": "2021-05-25T09:43:31.726127Z",
     "start_time": "2021-05-25T09:43:31.719307Z"
    }
   },
   "outputs": [],
   "source": [
    "class TransformCIGALE:\n",
    "    \"\"\"Class to plot the SEDs and create a row with the right units\"\"\"\n",
    "    def __init__(self, SED):\n",
    "        self.sed = SED\n",
    "#         self.Iniplot() # To check the SED\n",
    "        self.CreateRow()\n",
    "\n",
    "    def Iniplot(self):\n",
    "        \"Plot the SED\"\n",
    "        errorbar(self.sed['Wave'], self.sed['Flux'], yerr=self.sed['F_er'], fmt='o')\n",
    "        xlim(1e-6, 1e6)\n",
    "        loglog()\n",
    "\n",
    "    def CreateRow(self):\n",
    "        \"\"\"Calculate the flux and error to use for the SED in CIGALE\"\"\"\n",
    "        # Number of filtets/bands and their errors\n",
    "        self.row = full(72, nan)\n",
    "        iband = 0\n",
    "        for band in Equival:\n",
    "            Crop = self.sed[np.logical_or.reduce([self.sed['Filter'] == band[0],\n",
    "                                                  self.sed['Filter'] == band[1],\n",
    "                                                  self.sed['Filter'] == band[2]])]\n",
    "            Flux = np.mean(Crop['Flux'])\n",
    "            Std = np.sqrt(np.sum(Crop['F_er']**2))/len(Crop)\n",
    "            self.row[iband] = Flux*1000  # To send in mJy\n",
    "            self.row[iband+1] = Std*1000  # To send in mJy\n",
    "            iband += 2"
   ]
  },
  {
   "cell_type": "markdown",
   "metadata": {},
   "source": [
    "We create a table with all the CIGALE bands/filters and fill it with the information that we get from NED and CDS. In some cases some of the galaxies are not useful because the bands are not found initially. This could take some minutes."
   ]
  },
  {
   "cell_type": "code",
   "execution_count": 9,
   "metadata": {
    "ExecuteTime": {
     "end_time": "2021-05-25T09:47:04.682650Z",
     "start_time": "2021-05-25T09:43:33.414118Z"
    }
   },
   "outputs": [
    {
     "name": "stderr",
     "output_type": "stream",
     "text": [
      "/Users/users/ramos/.local/lib/python3.8/site-packages/numpy/core/fromnumeric.py:3370: RuntimeWarning: Mean of empty slice.\n",
      "  return mean(axis=axis, dtype=dtype, out=out, **kwargs)\n",
      "/Users/users/ramos/.local/lib/python3.8/site-packages/numpy/core/_methods.py:170: RuntimeWarning: invalid value encountered in double_scalars\n",
      "  ret = ret.dtype.type(ret / rcount)\n",
      "<ipython-input-8-b3394cdbbcfe>:24: RuntimeWarning: invalid value encountered in double_scalars\n",
      "  Std = np.sqrt(np.sum(Crop['F_er']**2))/len(Crop)\n"
     ]
    },
    {
     "name": "stdout",
     "output_type": "stream",
     "text": [
      "1RXS J042710.2-624712 No useful phot.\n",
      "2E  3952 No useful phot.\n",
      "2QZ J014222.6-272036 No useful phot.\n",
      "2QZ J020832.4-294706 No useful phot.\n",
      "2QZ J024658.5-300919 No useful phot.\n",
      "2QZ J214709.3-312146 No useful phot.\n",
      "2QZ J214750.4-303316 No useful phot.\n",
      "2QZ J214851.8-274658 No useful phot.\n",
      "2QZ J220354.6-280400 No useful phot.\n",
      "2QZ J220624.1-313407 No useful phot.\n",
      "2QZ J221655.1-310212 No useful phot.\n",
      "2QZ J225111.4-273548 No useful phot.\n",
      "2QZ J225550.1-281609 No useful phot.\n",
      "BOI 3C 295  48 No useful phot.\n",
      "CAIRNS J130609.11+285028.6 No useful phot.\n",
      "CLASXS  36 No useful phot.\n",
      "CLASXS  74 No useful phot.\n",
      "CLASXS 305 No useful phot.\n",
      "CXOCY J033720.9-050352 No useful phot.\n",
      "CXOCY J033747.8-050721 No useful phot.\n",
      "CXOCY J033754.2-050915 No useful phot.\n",
      "CXOCY J033756.3-045509 No useful phot.\n",
      "CXOCY J125306.5-092137 No useful phot.\n",
      "CXOCY J125314.6-091619 No useful phot.\n",
      "HELLAS2XMM 03120035 No useful phot.\n",
      "HELLAS2XMM 05370016 No useful phot.\n",
      "HELLAS2XMM 50900067 No useful phot.\n",
      "HELLAS2XMM J031254.0-765415 No useful phot.\n",
      "LEDA 3095743 No useful phot.\n",
      "LEDA 3095780 No useful phot.\n",
      "RIXOS 255-7 No useful phot.\n",
      "[ATZ98] D152 No useful phot.\n",
      "[GMC99b] 214 No useful phot.\n",
      "[KPR2004] LyA  361 No useful phot.\n",
      "[VV2000] J215242.4+134150 No useful phot.\n",
      "[VV2003c] J013005.6+133617 No useful phot.\n",
      "[VV2003c] J204757.0-194653 No useful phot.\n",
      "[VV2006c] J042028.3+325240 No useful phot.\n",
      "[VV2006c] J042105.0+330036 No useful phot.\n",
      "[VV2006c] J042348.6+324522 No useful phot.\n",
      "[VV2006c] J085254.2+522516 No useful phot.\n",
      "[VV2006c] J101536.7+375736 No useful phot.\n",
      "[VV2006c] J111342.9-001634 No useful phot.\n",
      "[VV2006c] J115345.6+462022 No useful phot.\n",
      "[VV2006c] J123722.8-001639 No useful phot.\n",
      "[VV2006c] J154422.7+373052 No useful phot.\n",
      "[VV2006c] J160555.3+540549 No useful phot.\n",
      "[VV2006c] J165712.1+192645 No useful phot.\n",
      "[VV2006c] J231501.7+001629 No useful phot.\n"
     ]
    }
   ],
   "source": [
    "CIGALEFilter = ['xray_box_car_2to10keV', 'xray_box_car_0p5to2keV', 'FUV', 'NUV',\n",
    "                'u_prime', 'g_prime', 'r_prime', 'i_prime', 'z_prime', 'J_2mass',\n",
    "                'H_2mass', 'Ks_2mass', 'WISE1', 'IRAC1', 'IRAC2', 'WISE2', 'IRAC3', 'IRAC4',\n",
    "                'IRAS1', 'WISE3', 'WISE4', 'MIPS1', 'IRAS2', 'IRAS3', 'PACS_blue', 'MIPS2',\n",
    "                'IRAS4', 'PACS_green', 'MIPS3', 'PACS_red', 'PSW_ext', 'PMW_ext', 'PLW_ext',\n",
    "                'VLA_C', 'VLA_L', 'HI21cm']\n",
    "# VLAC is 6cm ,VLAL is 20 cm and HI21cm is 1.4GHz\n",
    "CIGFilt = []\n",
    "[CIGFilt.append([filt, filt+'_err']) for filt in CIGALEFilter]\n",
    "CIG = Table(names=array(CIGFilt).ravel())\n",
    "GoodGalaxies = []\n",
    "\n",
    "for igal, Galaxy in enumerate(Sample['main_id']):\n",
    "    #     figure()\n",
    "    SED = Table.read('../SEDs/'+Galaxy+'_Phot.txt', format='ascii')\n",
    "    if len(SED) == 0:\n",
    "        print(Galaxy, 'No useful phot.')\n",
    "    else:\n",
    "        GoodGalaxies.append(igal)\n",
    "        CIG.add_row(TransformCIGALE(SED).row)"
   ]
  },
  {
   "cell_type": "markdown",
   "metadata": {},
   "source": [
    "After some consideration, we decided to remove the filters in the radio and X-rays wavelengths as they provide information only for a few cases. Adding the modules of X-ray, and radio in CIGALE for a few sources is not justified. "
   ]
  },
  {
   "cell_type": "code",
   "execution_count": 10,
   "metadata": {
    "ExecuteTime": {
     "end_time": "2021-05-25T09:47:04.716132Z",
     "start_time": "2021-05-25T09:47:04.710690Z"
    }
   },
   "outputs": [],
   "source": [
    "CIG = CIG[CIG.colnames[4:-6]]  # Remove x-ray and radio wavelengths"
   ]
  },
  {
   "cell_type": "markdown",
   "metadata": {},
   "source": [
    "We add the identifier (main_id) and the redshift from SIMBAD. "
   ]
  },
  {
   "cell_type": "code",
   "execution_count": 11,
   "metadata": {
    "ExecuteTime": {
     "end_time": "2021-05-25T09:47:04.749188Z",
     "start_time": "2021-05-25T09:47:04.742766Z"
    }
   },
   "outputs": [],
   "source": [
    "col_name = Column(name='id', data=Sample['main_id'][GoodGalaxies])\n",
    "CIG.add_column(col_name, 0)\n",
    "col_z = Column(name='redshift', data=Sample['rvz_redshift'][GoodGalaxies])\n",
    "CIG.add_column(col_z, 1)"
   ]
  },
  {
   "cell_type": "markdown",
   "metadata": {},
   "source": [
    "## Clean photometric values"
   ]
  },
  {
   "cell_type": "markdown",
   "metadata": {},
   "source": [
    "Then, for each filter, we verify if the relative error is higher than 33%, in those cases we do not use that information for the modeling. In addition, we remove information with limits, that in some cases are annotated as negative values. We comment the `print` commands to save space in the final notebook. "
   ]
  },
  {
   "cell_type": "code",
   "execution_count": 12,
   "metadata": {
    "ExecuteTime": {
     "end_time": "2021-05-25T09:47:06.557133Z",
     "start_time": "2021-05-25T09:47:04.777114Z"
    },
    "scrolled": true
   },
   "outputs": [],
   "source": [
    "for igal in range(len(CIG)):\n",
    "    for icol in CIG.colnames[2::2]:\n",
    "        if CIG[icol+'_err'][igal]/CIG[icol][igal] >= 1/3.:  # Higher than 33%\n",
    "#             print(CIG['id'][igal], icol, CIG[icol+'_err']\n",
    "#                   [igal]/CIG[icol][igal])\n",
    "            CIG[icol+'_err'][igal] = np.nan\n",
    "            CIG[icol][igal] = np.nan\n",
    "        if CIG[icol+'_err'][igal]/CIG[icol][igal] <= 0:  # Negative Limits\n",
    "#             print('Negative', CIG['id'][igal], icol)\n",
    "            CIG[icol+'_err'][igal] = np.nan\n",
    "            CIG[icol][igal] = np.nan"
   ]
  },
  {
   "cell_type": "markdown",
   "metadata": {},
   "source": [
    "We define a minimum error for each filter to avoid overfitting"
   ]
  },
  {
   "cell_type": "code",
   "execution_count": 13,
   "metadata": {
    "ExecuteTime": {
     "end_time": "2021-05-25T09:47:06.585693Z",
     "start_time": "2021-05-25T09:47:06.583679Z"
    }
   },
   "outputs": [],
   "source": [
    "def AddMinError(PhotTab, ListBands, Error):\n",
    "    \"\"\"Function to add a minimum error for the bands\"\"\"\n",
    "    for icol in ListBands:\n",
    "        RelErr = PhotTab[icol+'_err']/PhotTab[icol]\n",
    "        PhotTab[icol+'_err'] = np.fmax(RelErr, Error)*PhotTab[icol]"
   ]
  },
  {
   "cell_type": "code",
   "execution_count": 14,
   "metadata": {
    "ExecuteTime": {
     "end_time": "2021-05-25T09:47:06.620109Z",
     "start_time": "2021-05-25T09:47:06.611977Z"
    }
   },
   "outputs": [],
   "source": [
    "AddMinError(CIG, ['FUV', 'NUV'], 0.1)\n",
    "AddMinError(CIG, ['u_prime', 'g_prime', 'r_prime', 'i_prime', 'z_prime'], 0.02)\n",
    "AddMinError(CIG, ['J_2mass', 'H_2mass', 'Ks_2mass'], 0.02)\n",
    "AddMinError(CIG, ['IRAC1', 'IRAC2', 'IRAC3', 'IRAC4'], 0.03)\n",
    "AddMinError(CIG, ['MIPS1', 'MIPS2', 'MIPS3'], 0.04)\n",
    "AddMinError(CIG, ['WISE1', 'WISE2', 'WISE3', 'WISE4'], 0.06)\n",
    "AddMinError(CIG, ['PACS_blue', 'PACS_green', 'PACS_red'], 0.1)\n",
    "AddMinError(CIG, ['PSW_ext', 'PMW_ext', 'PLW_ext'], 0.07)"
   ]
  },
  {
   "cell_type": "markdown",
   "metadata": {},
   "source": [
    "## Remove galaxies without energy balance"
   ]
  },
  {
   "cell_type": "markdown",
   "metadata": {},
   "source": [
    "Then, we look for galaxies where the energy balance cannot be well constrained (i.e. galaxies where there is not enough bands in the optical and IR wavelengths). As before, we comment the `print` commands to save space in the final notebook. "
   ]
  },
  {
   "cell_type": "code",
   "execution_count": 15,
   "metadata": {
    "ExecuteTime": {
     "end_time": "2021-05-25T09:47:14.754195Z",
     "start_time": "2021-05-25T09:47:06.646364Z"
    }
   },
   "outputs": [],
   "source": [
    "igal = 0\n",
    "BadGalaxies = []\n",
    "for Lrow in CIG:\n",
    "    IRPhotPoints = sum(~isnan(list(Lrow.as_void())[22:]))/2  # From WISE to PLW\n",
    "    OpPhotPoints = sum(~isnan(list(Lrow.as_void())[2:22]))/2  # From FUV to Ks\n",
    "    if IRPhotPoints < 3 or OpPhotPoints < 5:\n",
    "#         print('Galaxy %s has %i useful photometry points' %\n",
    "#               (Lrow['id'], IRPhotPoints+OpPhotPoints))\n",
    "        BadGalaxies.append(igal)\n",
    "    igal += 1"
   ]
  },
  {
   "cell_type": "code",
   "execution_count": 16,
   "metadata": {
    "ExecuteTime": {
     "end_time": "2021-05-25T09:47:14.786739Z",
     "start_time": "2021-05-25T09:47:14.785043Z"
    }
   },
   "outputs": [
    {
     "name": "stdout",
     "output_type": "stream",
     "text": [
      "The total galaxies to remove is 5743\n"
     ]
    }
   ],
   "source": [
    "print('The total galaxies to remove is %d'%len(BadGalaxies))"
   ]
  },
  {
   "cell_type": "markdown",
   "metadata": {},
   "source": [
    "To complement this information we plot the total photometry points in the `BadGalaxies`."
   ]
  },
  {
   "cell_type": "code",
   "execution_count": 17,
   "metadata": {
    "ExecuteTime": {
     "end_time": "2021-05-25T09:47:44.973601Z",
     "start_time": "2021-05-25T09:47:41.052737Z"
    }
   },
   "outputs": [
    {
     "data": {
      "text/plain": [
       "<matplotlib.legend.Legend at 0x7ff328986a00>"
      ]
     },
     "execution_count": 17,
     "metadata": {},
     "output_type": "execute_result"
    },
    {
     "data": {
      "image/png": "[encoded data removed]",
      "text/plain": [
       "<Figure size 432x288 with 1 Axes>"
      ]
     },
     "metadata": {
      "needs_background": "light"
     },
     "output_type": "display_data"
    }
   ],
   "source": [
    "%matplotlib inline\n",
    "\n",
    "Tpins = []\n",
    "TpinsIR = []\n",
    "TpinsOp = []\n",
    "for Lrow in CIG[BadGalaxies]:\n",
    "    # All the bad galaxies\n",
    "    Tpins.append(sum(~isnan(list(Lrow.as_void())[2:]))/2)\n",
    "    # Galaxies discarded due to IR wavelegnths\n",
    "    TpinsIR.append(sum(~isnan(list(Lrow.as_void())[22:]))/2)\n",
    "    # Galaxies discarded due to Opt. wavelengths\n",
    "    TpinsOp.append(sum(~isnan(list(Lrow.as_void())[2:22]))/2)\n",
    "hist(Tpins, bins=np.linspace(0, 26, 27), label='Bad Galaxies')\n",
    "hist(TpinsIR, bins=np.linspace(0, 26, 27),\n",
    "     histtype='step', label='Discarded by IR')\n",
    "hist(TpinsOp, bins=np.linspace(0, 26, 27),\n",
    "     histtype='step', label='Discarded by Opt.')\n",
    "ylabel('Number of galaxies')\n",
    "xlabel('Number of bands')\n",
    "legend()"
   ]
  },
  {
   "cell_type": "markdown",
   "metadata": {},
   "source": [
    "Most of the `BadGalaxies` are located in a large range of redshifts, mainly affecting galaxies at redshifts above $z=1$. This means that some of these galaxies are not well covered in some of the selected instruments and/or that the photometric values are not well constrained. "
   ]
  },
  {
   "cell_type": "code",
   "execution_count": 18,
   "metadata": {
    "ExecuteTime": {
     "end_time": "2021-05-25T09:48:50.861874Z",
     "start_time": "2021-05-25T09:48:50.333566Z"
    }
   },
   "outputs": [
    {
     "data": {
      "text/plain": [
       "<matplotlib.legend.Legend at 0x7ff3168280a0>"
      ]
     },
     "execution_count": 18,
     "metadata": {},
     "output_type": "execute_result"
    },
    {
     "data": {
      "image/png": "[encoded data removed]",
      "text/plain": [
       "<Figure size 432x288 with 1 Axes>"
      ]
     },
     "metadata": {
      "needs_background": "light"
     },
     "output_type": "display_data"
    }
   ],
   "source": [
    "Redbins = np.linspace(0, 4, 50)\n",
    "hist(CIG['redshift'], bins=Redbins, label='All galaxies')\n",
    "hist(CIG[BadGalaxies]['redshift'], bins=Redbins, histtype='step', label='Bad Galaxies')\n",
    "xlabel('Redshift')\n",
    "ylabel('Number of galaxies')\n",
    "yscale('log')\n",
    "legend()"
   ]
  },
  {
   "cell_type": "markdown",
   "metadata": {},
   "source": [
    "We save in a different file those galaxies that do not fulfill the energy balance we want. And then, we removed them from the sample."
   ]
  },
  {
   "cell_type": "code",
   "execution_count": 19,
   "metadata": {},
   "outputs": [
    {
     "name": "stderr",
     "output_type": "stream",
     "text": [
      "WARNING: AstropyDeprecationWarning: CIGPhot_BadEnergyBalance.tbl already exists. Automatically overwriting ASCII files is deprecated. Use the argument 'overwrite=True' in the future. [astropy.io.ascii.ui]\n"
     ]
    }
   ],
   "source": [
    "CIG[BadGalaxies].write('../CIGPhot_BadEnergyBalance.tbl', format='ascii')"
   ]
  },
  {
   "cell_type": "code",
   "execution_count": 19,
   "metadata": {
    "ExecuteTime": {
     "end_time": "2021-05-25T09:53:03.222410Z",
     "start_time": "2021-05-25T09:53:03.212373Z"
    }
   },
   "outputs": [],
   "source": [
    "# Remove galaxies with bad energy balance coverage\n",
    "CIG.remove_rows(BadGalaxies)"
   ]
  },
  {
   "cell_type": "markdown",
   "metadata": {},
   "source": [
    "## Separating galaxies depending on redshift  "
   ]
  },
  {
   "cell_type": "markdown",
   "metadata": {},
   "source": [
    "If we separate the samples of galaxies with redshifts we found that most of our sample is below $z=0.5$, so we are going to focus on those galaxies. The maximum redshift is $z=3.5$. Also for simplicity in CIGALE runs, it is best to work with galaxies with nearby redshifts."
   ]
  },
  {
   "cell_type": "markdown",
   "metadata": {},
   "source": [
    "We plot the distribution on redshift for the final sample. We split the sample at redshift $z<=0.5$ (Low-z), between $z>0.5$ and $z<=1$ (Intermediate-z), and $z>1$ (High-z)."
   ]
  },
  {
   "cell_type": "code",
   "execution_count": 20,
   "metadata": {
    "ExecuteTime": {
     "end_time": "2021-05-25T09:55:02.651553Z",
     "start_time": "2021-05-25T09:55:02.370424Z"
    }
   },
   "outputs": [
    {
     "data": {
      "text/plain": [
       "Text(0, 0.5, 'Counts')"
      ]
     },
     "execution_count": 20,
     "metadata": {},
     "output_type": "execute_result"
    },
    {
     "data": {
      "image/png": "[encoded data removed]",
      "text/plain": [
       "<Figure size 432x288 with 1 Axes>"
      ]
     },
     "metadata": {
      "needs_background": "light"
     },
     "output_type": "display_data"
    }
   ],
   "source": [
    "Highz = CIG['redshift'] > 1\n",
    "Intermz = logical_and(CIG['redshift'] > 0.5, CIG['redshift'] <= 1)\n",
    "Lowz = CIG['redshift'] <= 0.5\n",
    "\n",
    "hist(CIG['redshift'][Lowz], bins=np.linspace(0, 0.5, 6), log=True)\n",
    "hist(CIG['redshift'][Intermz], bins=np.linspace(0.5, 1, 6), log=True)\n",
    "hist(CIG['redshift'][Highz], bins=np.linspace(1, 3.5, 26), log=True)\n",
    "xlabel('Redshift')\n",
    "ylabel('Counts')"
   ]
  },
  {
   "cell_type": "code",
   "execution_count": 26,
   "metadata": {
    "ExecuteTime": {
     "end_time": "2021-05-25T09:58:55.335220Z",
     "start_time": "2021-05-25T09:58:55.329936Z"
    }
   },
   "outputs": [
    {
     "name": "stdout",
     "output_type": "stream",
     "text": [
      "The total number of galaxies per sample is:\n",
      "11502 for Low-z, 1589 for Intermediate-z and 38 for High-z.\n"
     ]
    }
   ],
   "source": [
    "print('The total number of galaxies per sample is:')\n",
    "print('%d for Low-z, %d for Intermediate-z and %d for High-z.' %\n",
    "      (sum(Lowz), sum(Intermz), sum(Highz)))"
   ]
  },
  {
   "cell_type": "markdown",
   "metadata": {},
   "source": [
    "## Create CIGALE photometry files"
   ]
  },
  {
   "cell_type": "markdown",
   "metadata": {},
   "source": [
    "And finally, we save this information in different files to split the runs and avoid computational overwork in CIGALE."
   ]
  },
  {
   "cell_type": "code",
   "execution_count": 24,
   "metadata": {},
   "outputs": [
    {
     "name": "stderr",
     "output_type": "stream",
     "text": [
      "WARNING: AstropyDeprecationWarning: CIGPhot_EnergyBal_Lowz.tbl already exists. Automatically overwriting ASCII files is deprecated. Use the argument 'overwrite=True' in the future. [astropy.io.ascii.ui]\n",
      "WARNING: AstropyDeprecationWarning: CIGPhot_EnergyBal_Intz.tbl already exists. Automatically overwriting ASCII files is deprecated. Use the argument 'overwrite=True' in the future. [astropy.io.ascii.ui]\n",
      "WARNING: AstropyDeprecationWarning: CIGPhot_EnergyBal_Highz.tbl already exists. Automatically overwriting ASCII files is deprecated. Use the argument 'overwrite=True' in the future. [astropy.io.ascii.ui]\n"
     ]
    }
   ],
   "source": [
    "CIG[Lowz].write('../CIGPhot_EnergyBal_Lowz.tbl', format='ascii')\n",
    "CIG[Intermz].write('../CIGPhot_EnergyBal_Intz.tbl', format='ascii')\n",
    "CIG[Highz].write('../CIGPhot_EnergyBal_Highz.tbl', format='ascii')\n",
    "## We also save a file for all the galaxies, as in some cases this file is useful \n",
    "CIG.write('../CIGPhot_EnergyBal_All.tbl', format='ascii')"
   ]
  },
  {
   "cell_type": "markdown",
   "metadata": {},
   "source": [
    "These files are used as an input to CIGALE (Step 5), not show as a notebook. "
   ]
  },
  {
   "cell_type": "markdown",
   "metadata": {},
   "source": [
    "##### Notebook info"
   ]
  },
  {
   "cell_type": "code",
   "execution_count": 27,
   "metadata": {
    "ExecuteTime": {
     "end_time": "2021-05-25T10:05:15.060069Z",
     "start_time": "2021-05-25T10:05:14.798391Z"
    }
   },
   "outputs": [
    {
     "name": "stdout",
     "output_type": "stream",
     "text": [
      "Author: Andres Ramos\n",
      "\n",
      "Python implementation: CPython\n",
      "Python version       : 3.8.3\n",
      "IPython version      : 7.16.1\n",
      "\n",
      "Compiler    : GCC 7.3.0\n",
      "OS          : Linux\n",
      "Release     : 3.10.0-1160.25.1.el7.x86_64\n",
      "Machine     : x86_64\n",
      "Processor   : x86_64\n",
      "CPU cores   : 8\n",
      "Architecture: 64bit\n",
      "\n",
      "Specific Python packages\n",
      "astropy: 4.2\n",
      "\n",
      "numpy     : 1.19.5\n",
      "sys       : 3.8.3 (default, Jul  2 2020, 16:21:59) \n",
      "[GCC 7.3.0]\n",
      "re        : 2.2.1\n",
      "autopep8  : 1.5.4\n",
      "astropy   : 4.2\n",
      "matplotlib: 3.2.2\n",
      "logging   : 0.5.1.2\n",
      "json      : 2.0.9\n",
      "\n",
      "Watermark: 2.1.0\n",
      "\n"
     ]
    }
   ],
   "source": [
    "%load_ext watermark\n",
    "%watermark -a \"Andres Ramos\" -d -v -m\n",
    "print('Specific Python packages')\n",
    "%watermark -iv -w --packages astropy"
   ]
  },
  {
   "cell_type": "code",
   "execution_count": null,
   "metadata": {},
   "outputs": [],
   "source": []
  }
 ],
 "metadata": {
  "hide_input": false,
  "kernelspec": {
   "display_name": "Python 3",
   "language": "python",
   "name": "python3"
  },
  "language_info": {
   "codemirror_mode": {
    "name": "ipython",
    "version": 3
   },
   "file_extension": ".py",
   "mimetype": "text/x-python",
   "name": "python",
   "nbconvert_exporter": "python",
   "pygments_lexer": "ipython3",
   "version": "3.8.3"
  },
  "toc": {
   "base_numbering": "4",
   "nav_menu": {},
   "number_sections": true,
   "sideBar": true,
   "skip_h1_title": false,
   "title_cell": "Table of Contents",
   "title_sidebar": "Contents",
   "toc_cell": false,
   "toc_position": {},
   "toc_section_display": true,
   "toc_window_display": true
  },
  "varInspector": {
   "cols": {
    "lenName": 16,
    "lenType": 16,
    "lenVar": 40
   },
   "kernels_config": {
    "python": {
     "delete_cmd_postfix": "",
     "delete_cmd_prefix": "del ",
     "library": "var_list.py",
     "varRefreshCmd": "print(var_dic_list())"
    },
    "r": {
     "delete_cmd_postfix": ") ",
     "delete_cmd_prefix": "rm(",
     "library": "var_list.r",
     "varRefreshCmd": "cat(var_dic_list()) "
    }
   },
   "types_to_exclude": [
    "module",
    "function",
    "builtin_function_or_method",
    "instance",
    "_Feature"
   ],
   "window_display": false
  }
 },
 "nbformat": 4,
 "nbformat_minor": 4
}
