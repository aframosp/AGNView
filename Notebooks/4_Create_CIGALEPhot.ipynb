{
 "cells": [
  {
   "cell_type": "markdown",
   "metadata": {},
   "source": [
    "# Create CIGALE input files\n",
    "Here we create the photometry files that we use as an input to [CIGALE](https://cigale.lam.fr/) (We actually use X-CIGALE, but most of the information can be found in the same web page) . First we import the Python packages."
   ]
  },
  {
   "cell_type": "code",
   "execution_count": 1,
   "metadata": {
    "ExecuteTime": {
     "end_time": "2021-08-03T14:39:14.075966Z",
     "start_time": "2021-08-03T14:39:13.613374Z"
    }
   },
   "outputs": [
    {
     "name": "stdout",
     "output_type": "stream",
     "text": [
      "Using matplotlib backend: Qt5Agg\n",
      "Populating the interactive namespace from numpy and matplotlib\n"
     ]
    }
   ],
   "source": [
    "%pylab"
   ]
  },
  {
   "cell_type": "code",
   "execution_count": 2,
   "metadata": {
    "ExecuteTime": {
     "end_time": "2021-08-03T14:39:14.959743Z",
     "start_time": "2021-08-03T14:39:14.082912Z"
    }
   },
   "outputs": [],
   "source": [
    "from astropy.table import Table, Column"
   ]
  },
  {
   "cell_type": "markdown",
   "metadata": {},
   "source": [
    "We read the SMB-VCV sample file and create a table of equivalences between the different bands."
   ]
  },
  {
   "cell_type": "code",
   "execution_count": 3,
   "metadata": {
    "ExecuteTime": {
     "end_time": "2021-08-03T14:39:17.936347Z",
     "start_time": "2021-08-03T14:39:17.771205Z"
    }
   },
   "outputs": [],
   "source": [
    "Sample = Table.read('../Data/Final/VCV_SMB_otype.txt', format='ascii')"
   ]
  },
  {
   "cell_type": "markdown",
   "metadata": {},
   "source": [
    "## Create equivalences between NED and CDS tables\n",
    "Here we create a list for the different names of the bands in NED and CDS. Each row represents the same band."
   ]
  },
  {
   "cell_type": "code",
   "execution_count": 4,
   "metadata": {
    "ExecuteTime": {
     "end_time": "2021-08-03T14:39:17.959770Z",
     "start_time": "2021-08-03T14:39:17.955404Z"
    }
   },
   "outputs": [],
   "source": [
    "Equival = [['2-10 keV (XMM)', None, None],\n",
    "           ['0.5-2 keV (XMM)', None, None],\n",
    "           ['GALEX:FUV', 'FUV (GALEX)', None],\n",
    "           ['GALEX:NUV', 'NUV (GALEX)', None],\n",
    "           [\"SDSS:u'\", 'SDSS:u', 'u (SDSS) AB'],\n",
    "           [\"SDSS:g'\", 'SDSS:g', 'g (SDSS) AB'],\n",
    "           [\"SDSS:r'\", 'SDSS:r', 'r (SDSS) AB'],\n",
    "           [\"SDSS:i'\", 'SDSS:i', 'i (SDSS) AB'],\n",
    "           [\"SDSS:z'\", 'SDSS:z', 'z (SDSS) AB'],\n",
    "           ['2MASS:J', 'J (2MASS) AB', None],\n",
    "           ['2MASS:H', 'H (2MASS) AB', None],\n",
    "           ['2MASS:Ks', 'Ks (2MASS) AB', None],\n",
    "           ['WISE:W1', 'W1 (WISE)', None],\n",
    "           [':=3.6um', '3.6 microns (IRAC)', None],\n",
    "           [':=4.5um', '4.5 microns (IRAC)', None],\n",
    "           ['WISE:W2', 'W2 (WISE)', None],\n",
    "           [':=5.8um', '5.8 microns (IRAC)', None],\n",
    "           [':=8um', '8.0 microns (IRAC)', None],\n",
    "           ['IRAS:12', '12 microns (IRAS)', None],\n",
    "           ['WISE:W3', 'W3 (WISE)', None],\n",
    "           ['WISE:W4', 'W4 (WISE)', None],\n",
    "           ['Spitzer/MIPS:24', '24 microns (MIPS)', None],\n",
    "           ['IRAS:25', '25 microns (IRAS)', None],\n",
    "           ['IRAS:60', '60 microns (IRAS)', None],\n",
    "           ['Herschel/PACS:70', '70 microns (PACS)', None],\n",
    "           ['Spitzer/MIPS:70', '70 microns (MIPS)', None],\n",
    "           ['IRAS:100', '100 microns (IRAS)', None],\n",
    "           ['Herschel/PACS:100', '100 microns (PACS)', None],\n",
    "           ['Spitzer/MIPS:160', '160 microns (MIPS)', None],\n",
    "           ['Herschel/PACS:160', '160 microns (PACS)', None],\n",
    "           ['Herschel/SPIRE:250', '250 microns (SPIRE)', ':=250um'],\n",
    "           ['Herschel/SPIRE:350', '350 microns (SPIRE)', ':=350um'],\n",
    "           ['Herschel/SPIRE:500', '500 microns (SPIRE)', ':=500um'],\n",
    "           [':=5GHz', ':=6cm', '4.89 GHz (VLA)'],\n",
    "           [':=1.5GHz', ':=20cm', '1.46 GHz (VLA)'],\n",
    "           [':=1.4GHz', ':=21cm', '1.4GHz']\n",
    "           ]"
   ]
  },
  {
   "cell_type": "markdown",
   "metadata": {},
   "source": [
    "## Transform photometry to CIGALE table"
   ]
  },
  {
   "cell_type": "markdown",
   "metadata": {},
   "source": [
    "We create a class that allows us to transform the units of the SEDs in the selected bands"
   ]
  },
  {
   "cell_type": "code",
   "execution_count": 5,
   "metadata": {
    "ExecuteTime": {
     "end_time": "2021-08-03T14:39:20.080126Z",
     "start_time": "2021-08-03T14:39:20.061430Z"
    }
   },
   "outputs": [],
   "source": [
    "class TransformCIGALE:\n",
    "    \"\"\"Class to plot the SEDs and create a row with the right units\"\"\"\n",
    "    def __init__(self, sed):\n",
    "        self.sed = sed\n",
    "#         self.init_plot() # To check the SED\n",
    "        self.create_row()\n",
    "\n",
    "    def init_plot(self):\n",
    "        \"Plot the SED\"\n",
    "        plt.errorbar(self.sed['Wave'], self.sed['Flux'], yerr=self.sed['F_er'], fmt='o')\n",
    "        plt.xlim(1e-6, 1e6)\n",
    "        plt.loglog()\n",
    "\n",
    "    def create_row(self):\n",
    "        \"\"\"Calculate the flux and error to use for the SED in CIGALE\"\"\"\n",
    "        # Number of filtets/bands and their errors\n",
    "        self.row = np.full(72, np.nan)\n",
    "        iband = 0\n",
    "        for band in Equival:\n",
    "            crop = self.sed[np.logical_or.reduce([self.sed['Filter'] == band[0],\n",
    "                                                  self.sed['Filter'] == band[1],\n",
    "                                                  self.sed['Filter'] == band[2]])]\n",
    "            flux = np.mean(crop['Flux'])\n",
    "            std = np.sqrt(np.sum(crop['F_er']**2))/len(crop)\n",
    "            self.row[iband] = flux*1000  # To send in mJy\n",
    "            self.row[iband+1] = std*1000  # To send in mJy\n",
    "            iband += 2"
   ]
  },
  {
   "cell_type": "markdown",
   "metadata": {},
   "source": [
    "We create a table with all the CIGALE bands/filters and fill it with the information that we get from NED and CDS. In some cases some of the galaxies are not useful because the bands are not found initially. This could take some minutes."
   ]
  },
  {
   "cell_type": "code",
   "execution_count": 6,
   "metadata": {
    "ExecuteTime": {
     "end_time": "2021-08-03T14:42:46.829521Z",
     "start_time": "2021-08-03T14:39:27.094232Z"
    }
   },
   "outputs": [
    {
     "name": "stderr",
     "output_type": "stream",
     "text": [
      "/Users/users/ramos/.local/lib/python3.8/site-packages/numpy/core/fromnumeric.py:3370: RuntimeWarning: Mean of empty slice.\n",
      "  return mean(axis=axis, dtype=dtype, out=out, **kwargs)\n",
      "/Users/users/ramos/.local/lib/python3.8/site-packages/numpy/core/_methods.py:170: RuntimeWarning: invalid value encountered in double_scalars\n",
      "  ret = ret.dtype.type(ret / rcount)\n",
      "<ipython-input-5-ab0879c61866>:24: RuntimeWarning: invalid value encountered in double_scalars\n",
      "  std = np.sqrt(np.sum(crop['F_er']**2))/len(crop)\n"
     ]
    },
    {
     "name": "stdout",
     "output_type": "stream",
     "text": [
      "CLASXS  28 308 No Phot. ERROR\n",
      "1RXS J042710.2-624712 343 No useful phot.\n",
      "CXOCY J033747.8-050721 1308 No useful phot.\n",
      "[VV2006c] J042348.6+324522 1564 No useful phot.\n",
      "[VV2006c] J115345.6+462022 1581 No useful phot.\n",
      "BOI 3C 295  48 1584 No useful phot.\n",
      "CLASXS 413 2505 No Phot. ERROR\n",
      "[VV2006c] J123722.8-001639 3098 No useful phot.\n",
      "HELLAS2XMM 05370016 3224 No useful phot.\n",
      "[VV2006c] J111342.9-001634 3665 No useful phot.\n",
      "CLASXS 502 3823 No Phot. ERROR\n",
      "[VV2006c] J231501.7+001629 4028 No useful phot.\n",
      "CLASXS  36 4090 No useful phot.\n",
      "CLASXS 305 4151 No Phot. ERROR\n",
      "[VV2006c] J042028.3+325240 10339 No useful phot.\n",
      "[VV2006c] J101536.7+375736 12198 No useful phot.\n",
      "[VV2003c] J013005.6+133617 12351 No useful phot.\n",
      "[VV2006c] J160555.3+540549 12435 No useful phot.\n",
      "[VV2000] J215242.4+134150 12494 No useful phot.\n",
      "[ATZ98] D152 12519 No useful phot.\n",
      "HELLAS2XMM 03120035 12625 No useful phot.\n",
      "CXOCY J033756.3-045509 13202 No useful phot.\n",
      "[VV2006c] J165712.1+192645 13325 No useful phot.\n",
      "2QZ J220354.6-280400 13603 No useful phot.\n",
      "[VV2006c] J154422.7+373052 15724 No useful phot.\n",
      "CAIRNS J130609.11+285028.6 16501 No useful phot.\n",
      "[KPR2004] LyA  361 16794 No useful phot.\n",
      "CXOCY J125314.6-091619 16862 No useful phot.\n",
      "LEDA 3095743 17106 No useful phot.\n",
      "[VV2006c] J085254.2+522516 17116 No useful phot.\n",
      "[VV2006c] J042105.0+330036 17259 No useful phot.\n",
      "CXOCY J033720.9-050352 17283 No useful phot.\n",
      "RIXOS 255-7 17313 No useful phot.\n",
      "2QZ J024658.5-300919 17411 No useful phot.\n",
      "2QZ J020832.4-294706 17483 No useful phot.\n",
      "2QZ J214709.3-312146 18357 No useful phot.\n",
      "2QZ J214750.4-303316 18358 No useful phot.\n",
      "2QZ J220624.1-313407 18359 No useful phot.\n",
      "2QZ J014222.6-272036 18386 No useful phot.\n",
      "CXOCY J125306.5-092137 18436 No useful phot.\n"
     ]
    }
   ],
   "source": [
    "CIGALEFilter = ['xray_box_car_2to10keV', 'xray_box_car_0p5to2keV', 'FUV', 'NUV',\n",
    "                'u_prime', 'g_prime', 'r_prime', 'i_prime', 'z_prime', 'J_2mass',\n",
    "                'H_2mass', 'Ks_2mass', 'WISE1', 'IRAC1', 'IRAC2', 'WISE2', 'IRAC3', 'IRAC4',\n",
    "                'IRAS1', 'WISE3', 'WISE4', 'MIPS1', 'IRAS2', 'IRAS3', 'PACS_blue', 'MIPS2',\n",
    "                'IRAS4', 'PACS_green', 'MIPS3', 'PACS_red', 'PSW_ext', 'PMW_ext', 'PLW_ext',\n",
    "                'VLA_C', 'VLA_L', 'HI21cm']\n",
    "# VLAC is 6cm ,VLAL is 20 cm and HI21cm is 1.4GHz\n",
    "CIGFilt = [[filt, filt+'_err'] for filt in CIGALEFilter]\n",
    "CIG = Table(names=np.array(CIGFilt).ravel())\n",
    "GoodGalaxies = []\n",
    "\n",
    "for igal, Galaxy in enumerate(Sample['main_id']):\n",
    "    #     figure()\n",
    "    try:\n",
    "        sed_file = Table.read('../Data/Interim/SEDs/'+Galaxy + '_Phot.txt',\n",
    "                          format='ascii')\n",
    "        if len(sed_file) == 0:\n",
    "            print(Galaxy, igal, 'No useful phot.')\n",
    "        else:\n",
    "            GoodGalaxies.append(igal)\n",
    "            CIG.add_row(TransformCIGALE(sed_file).row)\n",
    "    except FileNotFoundError:\n",
    "        print(Galaxy, igal, 'No Phot. ERROR')"
   ]
  },
  {
   "cell_type": "markdown",
   "metadata": {},
   "source": [
    "After some consideration, we decided to remove the filters in the radio and X-rays wavelengths as they provide information only for a few cases. Adding the modules of X-ray, and radio in CIGALE for a few sources is not justified."
   ]
  },
  {
   "cell_type": "code",
   "execution_count": 31,
   "metadata": {
    "ExecuteTime": {
     "end_time": "2021-08-03T14:47:13.272909Z",
     "start_time": "2021-08-03T14:47:13.267987Z"
    }
   },
   "outputs": [
    {
     "name": "stdout",
     "output_type": "stream",
     "text": [
      "Percentage of galaxies with X-ray data: 0.009374503469095916\n"
     ]
    }
   ],
   "source": [
    "print('Percentage of galaxies with X-ray data:',\n",
    "      sum(~np.isnan(CIG[CIG.colnames[1]].data))/len(CIG))"
   ]
  },
  {
   "cell_type": "code",
   "execution_count": 7,
   "metadata": {
    "ExecuteTime": {
     "end_time": "2021-07-22T08:37:44.125832Z",
     "start_time": "2021-07-22T08:37:44.120564Z"
    }
   },
   "outputs": [],
   "source": [
    "CIG = CIG[CIG.colnames[4:-6]]  # Remove x-ray and radio wavelengths"
   ]
  },
  {
   "cell_type": "markdown",
   "metadata": {},
   "source": [
    "We add the identifier (main_id) and the redshift from SIMBAD."
   ]
  },
  {
   "cell_type": "code",
   "execution_count": 8,
   "metadata": {
    "ExecuteTime": {
     "end_time": "2021-07-22T08:37:44.133299Z",
     "start_time": "2021-07-22T08:37:44.126679Z"
    }
   },
   "outputs": [],
   "source": [
    "col_name = Column(name='id', data=Sample['main_id'][GoodGalaxies])\n",
    "CIG.add_column(col_name, 0)\n",
    "col_z = Column(name='redshift', data=Sample['rvz_redshift'][GoodGalaxies])\n",
    "CIG.add_column(col_z, 1)"
   ]
  },
  {
   "cell_type": "markdown",
   "metadata": {},
   "source": [
    "## Clean photometric values"
   ]
  },
  {
   "cell_type": "markdown",
   "metadata": {},
   "source": [
    "Then, for each filter, we verify if the relative error is higher than 33%, in those cases we do not use that information for the modeling. In addition, we remove information with limits, that in some cases are annotated as negative values. We comment the `print` commands to save space in the final notebook."
   ]
  },
  {
   "cell_type": "code",
   "execution_count": 9,
   "metadata": {
    "ExecuteTime": {
     "end_time": "2021-07-22T08:37:45.806397Z",
     "start_time": "2021-07-22T08:37:44.134132Z"
    },
    "scrolled": true
   },
   "outputs": [],
   "source": [
    "for igal in range(len(CIG)):\n",
    "    for icol in CIG.colnames[2::2]:\n",
    "        if CIG[icol+'_err'][igal]/CIG[icol][igal] >= 1/3.:  # Higher than 33%\n",
    "#             print(CIG['id'][igal], icol, CIG[icol+'_err']\n",
    "#                   [igal]/CIG[icol][igal])\n",
    "            CIG[icol+'_err'][igal] = np.nan\n",
    "            CIG[icol][igal] = np.nan\n",
    "        if CIG[icol+'_err'][igal]/CIG[icol][igal] <= 0:  # Negative Limits\n",
    "#             print('Negative', CIG['id'][igal], icol)\n",
    "            CIG[icol+'_err'][igal] = np.nan\n",
    "            CIG[icol][igal] = np.nan"
   ]
  },
  {
   "cell_type": "markdown",
   "metadata": {},
   "source": [
    "We define a minimum error for each filter to avoid overfitting"
   ]
  },
  {
   "cell_type": "code",
   "execution_count": 10,
   "metadata": {
    "ExecuteTime": {
     "end_time": "2021-07-22T08:37:45.809551Z",
     "start_time": "2021-07-22T08:37:45.807295Z"
    }
   },
   "outputs": [],
   "source": [
    "def add_min_err(phot_tab, list_bands, error):\n",
    "    \"\"\"Function to add a minimum error for the bands\"\"\"\n",
    "    for col in list_bands:\n",
    "        rel_error = phot_tab[col+'_err']/phot_tab[col]\n",
    "        phot_tab[col+'_err'] = np.fmax(rel_error, error)*phot_tab[col]"
   ]
  },
  {
   "cell_type": "code",
   "execution_count": 11,
   "metadata": {
    "ExecuteTime": {
     "end_time": "2021-07-22T08:37:45.822741Z",
     "start_time": "2021-07-22T08:37:45.810286Z"
    }
   },
   "outputs": [],
   "source": [
    "add_min_err(CIG, ['FUV', 'NUV'], 0.1)\n",
    "add_min_err(CIG, ['u_prime', 'g_prime', 'r_prime', 'i_prime', 'z_prime'], 0.02)\n",
    "add_min_err(CIG, ['J_2mass', 'H_2mass', 'Ks_2mass'], 0.02)\n",
    "add_min_err(CIG, ['IRAC1', 'IRAC2', 'IRAC3', 'IRAC4'], 0.03)\n",
    "add_min_err(CIG, ['MIPS1', 'MIPS2', 'MIPS3'], 0.04)\n",
    "add_min_err(CIG, ['WISE1', 'WISE2', 'WISE3', 'WISE4'], 0.06)\n",
    "add_min_err(CIG, ['PACS_blue', 'PACS_green', 'PACS_red'], 0.1)\n",
    "add_min_err(CIG, ['PSW_ext', 'PMW_ext', 'PLW_ext'], 0.07)"
   ]
  },
  {
   "cell_type": "markdown",
   "metadata": {},
   "source": [
    "## Remove galaxies without energy balance"
   ]
  },
  {
   "cell_type": "markdown",
   "metadata": {},
   "source": [
    "Then, we look for galaxies where the energy balance cannot be well constrained (i.e. galaxies where there is not enough bands in the optical and IR wavelengths). As before, we comment the `print` commands to save space in the final notebook."
   ]
  },
  {
   "cell_type": "code",
   "execution_count": 12,
   "metadata": {
    "ExecuteTime": {
     "end_time": "2021-07-22T08:37:53.970935Z",
     "start_time": "2021-07-22T08:37:45.823507Z"
    }
   },
   "outputs": [],
   "source": [
    "BadGalaxies = []\n",
    "for igal, Lrow in enumerate(CIG):\n",
    "    IRPhotPoints = sum(~np.isnan(list(Lrow.as_void())[22:]))/2  # From WISE to PLW\n",
    "    OpPhotPoints = sum(~np.isnan(list(Lrow.as_void())[2:22]))/2  # From FUV to Ks\n",
    "    if IRPhotPoints < 3 or OpPhotPoints < 5:\n",
    "#         print('Galaxy %s has %i useful photometry points' %\n",
    "#               (Lrow['id'], IRPhotPoints+OpPhotPoints))\n",
    "        BadGalaxies.append(igal)"
   ]
  },
  {
   "cell_type": "code",
   "execution_count": 13,
   "metadata": {
    "ExecuteTime": {
     "end_time": "2021-07-22T08:37:53.973753Z",
     "start_time": "2021-07-22T08:37:53.971815Z"
    }
   },
   "outputs": [
    {
     "name": "stdout",
     "output_type": "stream",
     "text": [
      "The total galaxies to remove is 5708\n"
     ]
    }
   ],
   "source": [
    "print('The total galaxies to remove is %d'%len(BadGalaxies))"
   ]
  },
  {
   "cell_type": "markdown",
   "metadata": {},
   "source": [
    "To complement this information we plot the total photometry points in the `BadGalaxies`."
   ]
  },
  {
   "cell_type": "code",
   "execution_count": 14,
   "metadata": {
    "ExecuteTime": {
     "end_time": "2021-07-22T08:37:57.872545Z",
     "start_time": "2021-07-22T08:37:53.974657Z"
    }
   },
   "outputs": [
    {
     "data": {
      "text/plain": [
       "<matplotlib.legend.Legend at 0x7f91dbdfc1f0>"
      ]
     },
     "execution_count": 14,
     "metadata": {},
     "output_type": "execute_result"
    },
    {
     "data": {
      "image/png": "[encoded data removed]",
      "text/plain": [
       "<Figure size 432x288 with 1 Axes>"
      ]
     },
     "metadata": {
      "needs_background": "light"
     },
     "output_type": "display_data"
    }
   ],
   "source": [
    "%matplotlib inline\n",
    "\n",
    "Tpins = []\n",
    "TpinsIR = []\n",
    "TpinsOp = []\n",
    "for Lrow in CIG[BadGalaxies]:\n",
    "    # All the bad galaxies\n",
    "    Tpins.append(sum(~np.isnan(list(Lrow.as_void())[2:]))/2)\n",
    "    # Galaxies discarded due to IR wavelegnths\n",
    "    TpinsIR.append(sum(~np.isnan(list(Lrow.as_void())[22:]))/2)\n",
    "    # Galaxies discarded due to Opt. wavelengths\n",
    "    TpinsOp.append(sum(~np.isnan(list(Lrow.as_void())[2:22]))/2)\n",
    "plt.hist(Tpins, bins=np.linspace(0, 26, 27), label='Bad Galaxies')\n",
    "plt.hist(TpinsIR, bins=np.linspace(0, 26, 27),\n",
    "         histtype='step', label='Discarded by IR')\n",
    "plt.hist(TpinsOp, bins=np.linspace(0, 26, 27),\n",
    "         histtype='step', label='Discarded by Opt.')\n",
    "plt.ylabel('Number of galaxies')\n",
    "plt.xlabel('Number of bands')\n",
    "plt.legend()"
   ]
  },
  {
   "cell_type": "markdown",
   "metadata": {},
   "source": [
    "Most of the `BadGalaxies` are located in a large range of redshifts, mainly affecting galaxies at redshifts above $z=1$. This means that some of these galaxies are not well covered in some of the selected instruments and/or that the photometric values are not well constrained."
   ]
  },
  {
   "cell_type": "code",
   "execution_count": 15,
   "metadata": {
    "ExecuteTime": {
     "end_time": "2021-07-22T08:37:58.362241Z",
     "start_time": "2021-07-22T08:37:57.873398Z"
    }
   },
   "outputs": [
    {
     "data": {
      "text/plain": [
       "<matplotlib.legend.Legend at 0x7f91dbac02b0>"
      ]
     },
     "execution_count": 15,
     "metadata": {},
     "output_type": "execute_result"
    },
    {
     "data": {
      "image/png": "[encoded data removed]",
      "text/plain": [
       "<Figure size 432x288 with 1 Axes>"
      ]
     },
     "metadata": {
      "needs_background": "light"
     },
     "output_type": "display_data"
    }
   ],
   "source": [
    "Redbins = np.linspace(0, 4, 50)\n",
    "plt.hist(CIG['redshift'], bins=Redbins, label='All galaxies')\n",
    "plt.hist(CIG[BadGalaxies]['redshift'], bins=Redbins, histtype='step', label='Bad Galaxies')\n",
    "plt.xlabel('Redshift')\n",
    "plt.ylabel('Number of galaxies')\n",
    "plt.yscale('log')\n",
    "plt.legend()"
   ]
  },
  {
   "cell_type": "markdown",
   "metadata": {},
   "source": [
    "We save in a different file those galaxies that do not fulfill the energy balance we want. And then, we removed them from the sample."
   ]
  },
  {
   "cell_type": "code",
   "execution_count": 16,
   "metadata": {
    "ExecuteTime": {
     "end_time": "2021-07-22T08:37:58.507844Z",
     "start_time": "2021-07-22T08:37:58.363185Z"
    }
   },
   "outputs": [
    {
     "name": "stderr",
     "output_type": "stream",
     "text": [
      "WARNING: AstropyDeprecationWarning: ../Data/Complementary/CIGPhot_BadEnergyBalance.tbl already exists. Automatically overwriting ASCII files is deprecated. Use the argument 'overwrite=True' in the future. [astropy.io.ascii.ui]\n"
     ]
    }
   ],
   "source": [
    "CIG[BadGalaxies].write('../Data/Complementary/CIGPhot_BadEnergyBalance.tbl', format='ascii')"
   ]
  },
  {
   "cell_type": "code",
   "execution_count": 17,
   "metadata": {
    "ExecuteTime": {
     "end_time": "2021-07-22T08:37:58.516462Z",
     "start_time": "2021-07-22T08:37:58.509376Z"
    }
   },
   "outputs": [],
   "source": [
    "# Remove galaxies with bad energy balance coverage\n",
    "CIG.remove_rows(BadGalaxies)"
   ]
  },
  {
   "cell_type": "markdown",
   "metadata": {},
   "source": [
    "## Separating galaxies depending on redshift for the CIGALE photometry files"
   ]
  },
  {
   "cell_type": "markdown",
   "metadata": {},
   "source": [
    "We found that most of our sample are below $z=1$, with a maximum at $z=3.48$, so we are going to split the galaxies in ten different groups/files to split the CIGALE runs and avoid computational overwork in CIGALE."
   ]
  },
  {
   "cell_type": "code",
   "execution_count": 18,
   "metadata": {
    "ExecuteTime": {
     "end_time": "2021-07-22T08:37:58.520866Z",
     "start_time": "2021-07-22T08:37:58.517527Z"
    }
   },
   "outputs": [],
   "source": [
    "cnt, zbin = np.histogram(CIG['redshift'], bins=np.linspace(-0.01, 3.48, 350))\n",
    "z_splits = np.percentile(zbin[:-1][cnt > 0], np.linspace(0, 100, 11))\n",
    "z_splits[-1] += 0.01  # To add the last galaxy\n",
    "group_zfile = np.digitize(CIG['redshift'], z_splits)"
   ]
  },
  {
   "cell_type": "markdown",
   "metadata": {},
   "source": [
    "Now we save the files for each group and count the number of galaxies per group."
   ]
  },
  {
   "cell_type": "code",
   "execution_count": 19,
   "metadata": {
    "ExecuteTime": {
     "end_time": "2021-07-22T08:37:59.022685Z",
     "start_time": "2021-07-22T08:37:58.521582Z"
    }
   },
   "outputs": [
    {
     "name": "stderr",
     "output_type": "stream",
     "text": [
      "WARNING: AstropyDeprecationWarning: ../Data/Interim/CIGPhot_EnergyBal_1.tbl already exists. Automatically overwriting ASCII files is deprecated. Use the argument 'overwrite=True' in the future. [astropy.io.ascii.ui]\n"
     ]
    },
    {
     "name": "stdout",
     "output_type": "stream",
     "text": [
      "Group 1 with 3828 galaxies\n",
      "Group 2 with 3900 galaxies\n"
     ]
    },
    {
     "name": "stderr",
     "output_type": "stream",
     "text": [
      "WARNING: AstropyDeprecationWarning: ../Data/Interim/CIGPhot_EnergyBal_2.tbl already exists. Automatically overwriting ASCII files is deprecated. Use the argument 'overwrite=True' in the future. [astropy.io.ascii.ui]\n",
      "WARNING: AstropyDeprecationWarning: ../Data/Interim/CIGPhot_EnergyBal_3.tbl already exists. Automatically overwriting ASCII files is deprecated. Use the argument 'overwrite=True' in the future. [astropy.io.ascii.ui]\n",
      "WARNING: AstropyDeprecationWarning: ../Data/Interim/CIGPhot_EnergyBal_4.tbl already exists. Automatically overwriting ASCII files is deprecated. Use the argument 'overwrite=True' in the future. [astropy.io.ascii.ui]\n"
     ]
    },
    {
     "name": "stdout",
     "output_type": "stream",
     "text": [
      "Group 3 with 2154 galaxies\n",
      "Group 4 with 1556 galaxies\n",
      "Group 5 with 986 galaxies\n",
      "Group 6 with 539 galaxies\n",
      "Group 7 with 157 galaxies\n"
     ]
    },
    {
     "name": "stderr",
     "output_type": "stream",
     "text": [
      "WARNING: AstropyDeprecationWarning: ../Data/Interim/CIGPhot_EnergyBal_5.tbl already exists. Automatically overwriting ASCII files is deprecated. Use the argument 'overwrite=True' in the future. [astropy.io.ascii.ui]\n",
      "WARNING: AstropyDeprecationWarning: ../Data/Interim/CIGPhot_EnergyBal_6.tbl already exists. Automatically overwriting ASCII files is deprecated. Use the argument 'overwrite=True' in the future. [astropy.io.ascii.ui]\n",
      "WARNING: AstropyDeprecationWarning: ../Data/Interim/CIGPhot_EnergyBal_7.tbl already exists. Automatically overwriting ASCII files is deprecated. Use the argument 'overwrite=True' in the future. [astropy.io.ascii.ui]\n"
     ]
    },
    {
     "name": "stdout",
     "output_type": "stream",
     "text": [
      "Group 8 with 26 galaxies\n",
      "Group 9 with 14 galaxies\n",
      "Group 10 with 13 galaxies\n"
     ]
    },
    {
     "name": "stderr",
     "output_type": "stream",
     "text": [
      "WARNING: AstropyDeprecationWarning: ../Data/Interim/CIGPhot_EnergyBal_8.tbl already exists. Automatically overwriting ASCII files is deprecated. Use the argument 'overwrite=True' in the future. [astropy.io.ascii.ui]\n",
      "WARNING: AstropyDeprecationWarning: ../Data/Interim/CIGPhot_EnergyBal_9.tbl already exists. Automatically overwriting ASCII files is deprecated. Use the argument 'overwrite=True' in the future. [astropy.io.ascii.ui]\n",
      "WARNING: AstropyDeprecationWarning: ../Data/Interim/CIGPhot_EnergyBal_10.tbl already exists. Automatically overwriting ASCII files is deprecated. Use the argument 'overwrite=True' in the future. [astropy.io.ascii.ui]\n"
     ]
    }
   ],
   "source": [
    "csd = 0\n",
    "for i in range(1, max(group_zfile)+1):\n",
    "    csd += len(CIG[group_zfile == i])\n",
    "    print('Group %i with %d galaxies' % (i, len(CIG[group_zfile == i])))\n",
    "    CIG[group_zfile == i].write('../Data/Interim/CIGPhot_EnergyBal_'+str(i)+'.tbl',\n",
    "                                format='ascii')\n",
    "assert len(CIG) == csd"
   ]
  },
  {
   "cell_type": "markdown",
   "metadata": {},
   "source": [
    "We plot the distribution on redshift, with the bins defined for each final group."
   ]
  },
  {
   "cell_type": "code",
   "execution_count": 20,
   "metadata": {
    "ExecuteTime": {
     "end_time": "2021-07-22T08:37:59.238901Z",
     "start_time": "2021-07-22T08:37:59.023432Z"
    }
   },
   "outputs": [
    {
     "data": {
      "text/plain": [
       "Text(0, 0.5, 'Counts')"
      ]
     },
     "execution_count": 20,
     "metadata": {},
     "output_type": "execute_result"
    },
    {
     "data": {
      "image/png": "[encoded data removed]",
      "text/plain": [
       "<Figure size 432x288 with 1 Axes>"
      ]
     },
     "metadata": {
      "needs_background": "light"
     },
     "output_type": "display_data"
    }
   ],
   "source": [
    "plt.hist(CIG['redshift'], bins=z_splits, log=True)\n",
    "plt.xlabel('Redshift')\n",
    "plt.ylabel('Counts')"
   ]
  },
  {
   "cell_type": "markdown",
   "metadata": {},
   "source": [
    "Finally, we also save a file for all the galaxies, as in some cases this file is useful."
   ]
  },
  {
   "cell_type": "code",
   "execution_count": 21,
   "metadata": {
    "ExecuteTime": {
     "end_time": "2021-07-22T08:37:59.612678Z",
     "start_time": "2021-07-22T08:37:59.239748Z"
    }
   },
   "outputs": [
    {
     "name": "stderr",
     "output_type": "stream",
     "text": [
      "WARNING: AstropyDeprecationWarning: ../Data/Final/CIGPhot_EnergyBal_All.tbl already exists. Automatically overwriting ASCII files is deprecated. Use the argument 'overwrite=True' in the future. [astropy.io.ascii.ui]\n"
     ]
    }
   ],
   "source": [
    "CIG.write('../Data/Final/CIGPhot_EnergyBal_All.tbl', format='ascii')"
   ]
  },
  {
   "cell_type": "markdown",
   "metadata": {},
   "source": [
    "These files are used as an input to CIGALE (Step 5), not show as a notebook. The results of using CIGALE and their respective configuration are in a complementary repository. "
   ]
  },
  {
   "cell_type": "markdown",
   "metadata": {},
   "source": [
    "##### Notebook info"
   ]
  },
  {
   "cell_type": "code",
   "execution_count": 22,
   "metadata": {
    "ExecuteTime": {
     "end_time": "2021-07-22T08:37:59.974428Z",
     "start_time": "2021-07-22T08:37:59.613620Z"
    }
   },
   "outputs": [
    {
     "name": "stdout",
     "output_type": "stream",
     "text": [
      "Author: Andres Ramos\n",
      "\n",
      "Python implementation: CPython\n",
      "Python version       : 3.8.3\n",
      "IPython version      : 7.16.1\n",
      "\n",
      "Compiler    : GCC 7.3.0\n",
      "OS          : Linux\n",
      "Release     : 3.10.0-1160.25.1.el7.x86_64\n",
      "Machine     : x86_64\n",
      "Processor   : x86_64\n",
      "CPU cores   : 8\n",
      "Architecture: 64bit\n",
      "\n",
      "Specific Python packages\n",
      "astropy: 4.2\n",
      "\n",
      "json      : 2.0.9\n",
      "re        : 2.2.1\n",
      "logging   : 0.5.1.2\n",
      "numpy     : 1.19.5\n",
      "matplotlib: 3.2.2\n",
      "sys       : 3.8.3 (default, Jul  2 2020, 16:21:59) \n",
      "[GCC 7.3.0]\n",
      "autopep8  : 1.5.7\n",
      "\n",
      "Watermark: 2.1.0\n",
      "\n"
     ]
    }
   ],
   "source": [
    "%load_ext watermark\n",
    "%watermark -a \"Andres Ramos\" -d -v -m\n",
    "print('Specific Python packages')\n",
    "%watermark -iv -w --packages astropy"
   ]
  },
  {
   "cell_type": "code",
   "execution_count": null,
   "metadata": {},
   "outputs": [],
   "source": []
  }
 ],
 "metadata": {
  "hide_input": false,
  "kernelspec": {
   "display_name": "Python 3",
   "language": "python",
   "name": "python3"
  },
  "language_info": {
   "codemirror_mode": {
    "name": "ipython",
    "version": 3
   },
   "file_extension": ".py",
   "mimetype": "text/x-python",
   "name": "python",
   "nbconvert_exporter": "python",
   "pygments_lexer": "ipython3",
   "version": "3.8.3"
  },
  "toc": {
   "base_numbering": "4",
   "nav_menu": {},
   "number_sections": true,
   "sideBar": true,
   "skip_h1_title": false,
   "title_cell": "Table of Contents",
   "title_sidebar": "Contents",
   "toc_cell": false,
   "toc_position": {},
   "toc_section_display": true,
   "toc_window_display": true
  },
  "varInspector": {
   "cols": {
    "lenName": 16,
    "lenType": 16,
    "lenVar": 40
   },
   "kernels_config": {
    "python": {
     "delete_cmd_postfix": "",
     "delete_cmd_prefix": "del ",
     "library": "var_list.py",
     "varRefreshCmd": "print(var_dic_list())"
    },
    "r": {
     "delete_cmd_postfix": ") ",
     "delete_cmd_prefix": "rm(",
     "library": "var_list.r",
     "varRefreshCmd": "cat(var_dic_list()) "
    }
   },
   "types_to_exclude": [
    "module",
    "function",
    "builtin_function_or_method",
    "instance",
    "_Feature"
   ],
   "window_display": false
  }
 },
 "nbformat": 4,
 "nbformat_minor": 4
}
