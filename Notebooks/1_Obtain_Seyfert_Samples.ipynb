{
 "cells": [
  {
   "cell_type": "markdown",
   "metadata": {},
   "source": [
    "# Obtain Seyfert Samples\n",
    "In this notebook we show the steps to obtain the Seyfert sample of galaxies.\n",
    "\n",
    "We import only the ``astropy`` Table as most of the work for this step is done outside Jupyter notebooks (with [TOPCAT](http://www.star.bris.ac.uk/~mbt/topcat/))."
   ]
  },
  {
   "cell_type": "code",
   "execution_count": 5,
   "metadata": {
    "ExecuteTime": {
     "end_time": "2021-01-18T15:29:37.006415Z",
     "start_time": "2021-01-18T15:29:37.001093Z"
    }
   },
   "outputs": [],
   "source": [
    "from astropy.table import Table"
   ]
  },
  {
   "cell_type": "markdown",
   "metadata": {},
   "source": [
    "## Obtaining the list"
   ]
  },
  {
   "cell_type": "markdown",
   "metadata": {},
   "source": [
    "We obtain the [SIMBAD](http://simbad.u-strasbg.fr/simbad/) (SMB) sample of galaxies (SMB_3Dec.fits) with the following SQL query.\n",
    "\n",
    "**Be aware that here we refer to SQL to the queries. However, [SIMBAD-TAP](http://simbad.u-strasbg.fr/simbad/sim-tap) actually uses [ADQL](https://www.ivoa.net/documents/latest/ADQL.html) (Astronomical Data Query Language), which is based on SQL.**\n",
    "\n",
    "~~~~sql\n",
    "SELECT main_id\n",
    "\t,ra\n",
    "\t,DEC\n",
    "\t,coo_bibcode\n",
    "\t,otype_txt\n",
    "\t,rvz_bibcode\n",
    "\t,rvz_radvel\n",
    "\t,rvz_redshift\n",
    "\t,rvz_type\n",
    "\t,nbref\n",
    "\t,alltypes.otypes\n",
    "FROM basic\n",
    "JOIN alltypes ON oid = oidref\n",
    "WHERE basic.otype = 'Sy1'\n",
    "\tOR basic.otype = 'Sy2'\n",
    "\tOR basic.otype = 'SyG'\n",
    "~~~~"
   ]
  },
  {
   "cell_type": "markdown",
   "metadata": {},
   "source": [
    "## Using TOPCAT for the cross-match "
   ]
  },
  {
   "cell_type": "markdown",
   "metadata": {},
   "source": [
    "We used [TOPCAT](http://www.star.bris.ac.uk/~mbt/topcat/) in this step. First, we obtained the [Veron-Cetty M.P. , Veron P. 2010](https://cdsarc.unistra.fr/viz-bin/cat/VII/258) (VCV) catalog from [VizieR](https://vizier.u-strasbg.fr/viz-bin/VizieR). Then, we added the SMB file in TOPCAT. We cross-matched the two samples in terms of coordinates, assuming galaxies are the same if their coordinates differ by less than 2 arcsecs. The final file (SMB_VCV.fits) is saved and then is transformed in a [VOTable](http://www.star.bris.ac.uk/~mbt/topcat/sun253/inVotable.html) here. This step can also be done in TOPCAT."
   ]
  },
  {
   "cell_type": "code",
   "execution_count": 3,
   "metadata": {},
   "outputs": [],
   "source": [
    "Matched = Table.read('../Data/Raw/SMB_VCV.fits', format='fits')\n",
    "Matched['main_id', 'otype_txt', 'otypes'].write('../Data/Raw/SMBVCV_VO', format='votable')"
   ]
  },
  {
   "cell_type": "markdown",
   "metadata": {},
   "source": [
    "## Get the bibcodes for the classification type"
   ]
  },
  {
   "cell_type": "markdown",
   "metadata": {},
   "source": [
    "We run the following SQL query to search for the bibcodes of the otypes in SMB with the SMBVCV_VO file. We save this information in a separated file (BibcodesOtypes.fits)"
   ]
  },
  {
   "cell_type": "markdown",
   "metadata": {},
   "source": [
    "~~~sql\n",
    "SELECT Sy.main_id\n",
    "\t,otypes.otype_txt\n",
    "\t,otypes.origin\n",
    "FROM basic\n",
    "JOIN ident ON oidref = oid\n",
    "JOIN otypes USING (oidref)\n",
    "JOIN TAP_UPLOAD.Seyf AS Sy ON Sy.main_id = basic.main_id\n",
    "WHERE id = Sy.main_id\n",
    "~~~"
   ]
  },
  {
   "cell_type": "markdown",
   "metadata": {},
   "source": [
    "With this information, we can clean the files in 2_Clean_Sample.ipynb"
   ]
  },
  {
   "cell_type": "markdown",
   "metadata": {},
   "source": [
    "## Another solution\n",
    "After checking that the two SQL queries can be united without uploading a new table, another solution to get the origin of the otype is run the following SQL query"
   ]
  },
  {
   "cell_type": "markdown",
   "metadata": {},
   "source": [
    "~~~sql\n",
    "SELECT DISTINCT main_id\n",
    "\t,ra\n",
    "\t,DEC\n",
    "\t,otypes.otype_txt\n",
    "\t,otypes.origin\n",
    "FROM basic\n",
    "JOIN ident ON oidref = oid\n",
    "JOIN otypes USING (oidref)\n",
    "WHERE basic.otype = 'Sy1'\n",
    "\tOR basic.otype = 'Sy2'\n",
    "\tOR basic.otype = 'SyG'\n",
    "~~~"
   ]
  },
  {
   "cell_type": "markdown",
   "metadata": {},
   "source": [
    "and then you could filter with the selected SMB_VCV information. "
   ]
  },
  {
   "cell_type": "markdown",
   "metadata": {
    "ExecuteTime": {
     "end_time": "2021-01-21T16:46:10.356067Z",
     "start_time": "2021-01-21T16:46:10.351048Z"
    }
   },
   "source": [
    "##### Notebook info"
   ]
  },
  {
   "cell_type": "code",
   "execution_count": 6,
   "metadata": {
    "ExecuteTime": {
     "end_time": "2021-01-18T15:29:39.623232Z",
     "start_time": "2021-01-18T15:29:39.603804Z"
    }
   },
   "outputs": [
    {
     "name": "stdout",
     "output_type": "stream",
     "text": [
      "The watermark extension is already loaded. To reload it, use:\n",
      "  %reload_ext watermark\n",
      "Author: Andres Ramos\n",
      "\n",
      "Python implementation: CPython\n",
      "Python version       : 3.8.3\n",
      "IPython version      : 7.16.1\n",
      "\n",
      "Compiler    : GCC 7.3.0\n",
      "OS          : Linux\n",
      "Release     : 3.10.0-1160.el7.x86_64\n",
      "Machine     : x86_64\n",
      "Processor   : x86_64\n",
      "CPU cores   : 8\n",
      "Architecture: 64bit\n",
      "\n",
      "Specific Python packages\n",
      "json    : 2.0.9\n",
      "numpy   : 1.19.5\n",
      "autopep8: 1.5.4\n",
      "\n",
      "Watermark: 2.1.0\n",
      "\n"
     ]
    }
   ],
   "source": [
    "%load_ext watermark\n",
    "%watermark -a \"Andres Ramos\" -d -v -m\n",
    "print('Specific Python packages')\n",
    "%watermark -iv -w "
   ]
  }
 ],
 "metadata": {
  "hide_input": false,
  "kernelspec": {
   "display_name": "Python 3",
   "language": "python",
   "name": "python3"
  },
  "language_info": {
   "codemirror_mode": {
    "name": "ipython",
    "version": 3
   },
   "file_extension": ".py",
   "mimetype": "text/x-python",
   "name": "python",
   "nbconvert_exporter": "python",
   "pygments_lexer": "ipython3",
   "version": "3.8.3"
  },
  "toc": {
   "base_numbering": 1,
   "nav_menu": {},
   "number_sections": true,
   "sideBar": true,
   "skip_h1_title": false,
   "title_cell": "Table of Contents",
   "title_sidebar": "Contents",
   "toc_cell": false,
   "toc_position": {},
   "toc_section_display": true,
   "toc_window_display": false
  },
  "varInspector": {
   "cols": {
    "lenName": 16,
    "lenType": 16,
    "lenVar": 40
   },
   "kernels_config": {
    "python": {
     "delete_cmd_postfix": "",
     "delete_cmd_prefix": "del ",
     "library": "var_list.py",
     "varRefreshCmd": "print(var_dic_list())"
    },
    "r": {
     "delete_cmd_postfix": ") ",
     "delete_cmd_prefix": "rm(",
     "library": "var_list.r",
     "varRefreshCmd": "cat(var_dic_list()) "
    }
   },
   "types_to_exclude": [
    "module",
    "function",
    "builtin_function_or_method",
    "instance",
    "_Feature"
   ],
   "window_display": false
  }
 },
 "nbformat": 4,
 "nbformat_minor": 4
}
