{
 "cells": [
  {
   "cell_type": "markdown",
   "metadata": {},
   "source": [
    "# Obtain Seyfert Samples\n",
    "In this notebook we show the steps to obtain the Seyfert sample of galaxies.\n",
    "We import the Python packages required to retrieve the data and create the match between the catalogs."
   ]
  },
  {
   "cell_type": "code",
   "execution_count": 1,
   "metadata": {
    "ExecuteTime": {
     "end_time": "2021-07-13T14:55:50.547166Z",
     "start_time": "2021-07-13T14:55:48.498773Z"
    }
   },
   "outputs": [],
   "source": [
    "from datetime import date\n",
    "\n",
    "import pyvo\n",
    "import numpy as np\n",
    "from astroquery.vizier import Vizier\n",
    "\n",
    "import astropy.units as u\n",
    "from astropy.table import hstack\n",
    "from astropy.coordinates import SkyCoord, Angle"
   ]
  },
  {
   "cell_type": "markdown",
   "metadata": {},
   "source": [
    "We define the date to save the date in the name of the files, as the data from the data archives can change with time."
   ]
  },
  {
   "cell_type": "code",
   "execution_count": 2,
   "metadata": {
    "ExecuteTime": {
     "end_time": "2021-07-13T14:55:50.553540Z",
     "start_time": "2021-07-13T14:55:50.550369Z"
    }
   },
   "outputs": [],
   "source": [
    "today = date.today()"
   ]
  },
  {
   "cell_type": "markdown",
   "metadata": {},
   "source": [
    "We set a the row limit to -1 to obtain all the rows in the catalog"
   ]
  },
  {
   "cell_type": "code",
   "execution_count": 3,
   "metadata": {
    "ExecuteTime": {
     "end_time": "2021-07-13T14:55:50.559165Z",
     "start_time": "2021-07-13T14:55:50.554876Z"
    }
   },
   "outputs": [],
   "source": [
    "Vizier.ROW_LIMIT = -1"
   ]
  },
  {
   "cell_type": "markdown",
   "metadata": {},
   "source": [
    "## Obtaining the list\n",
    "First, we connect through ``pyvo`` with the TAP Service of [SIMBAD](http://simbad.u-strasbg.fr/simbad/).Then, we obtain the SMB sample of galaxies (SMB_date.csv) with the following SQL query.\n",
    "**Be aware that here we refer to SQL to the queries. However, [SIMBAD-TAP](http://simbad.u-strasbg.fr/simbad/sim-tap) actually uses [ADQL](https://www.ivoa.net/documents/latest/ADQL.html) (Astronomical Data Query Language), which is based on SQL.**\n",
    "~~~~sql\n",
    "SELECT main_id\n",
    "\t,ra\n",
    "\t,DEC\n",
    "\t,coo_bibcode\n",
    "\t,otype_txt\n",
    "\t,rvz_bibcode\n",
    "\t,rvz_radvel\n",
    "\t,rvz_redshift\n",
    "\t,rvz_type\n",
    "\t,nbref\n",
    "\t,alltypes.otypes\n",
    "FROM basic\n",
    "JOIN alltypes ON oid = oidref\n",
    "WHERE basic.otype = 'Sy1'\n",
    "\tOR basic.otype = 'Sy2'\n",
    "\tOR basic.otype = 'SyG'\n",
    "~~~~"
   ]
  },
  {
   "cell_type": "code",
   "execution_count": 4,
   "metadata": {
    "ExecuteTime": {
     "end_time": "2021-07-13T14:55:54.092741Z",
     "start_time": "2021-07-13T14:55:50.559876Z"
    }
   },
   "outputs": [],
   "source": [
    "service = pyvo.dal.TAPService(\"http://simbad.u-strasbg.fr:80/simbad/sim-tap\")\n",
    "\n",
    "result = service.search(\"\"\"\n",
    "SELECT main_id\n",
    "    ,ra\n",
    "    ,DEC\n",
    "    ,coo_bibcode\n",
    "    ,otype_txt\n",
    "    ,rvz_bibcode\n",
    "    ,rvz_radvel\n",
    "    ,rvz_redshift\n",
    "    ,rvz_type\n",
    "    ,nbref\n",
    "    ,alltypes.otypes\n",
    "FROM basic\n",
    "JOIN alltypes ON oid = oidref\n",
    "WHERE basic.otype = 'Sy1'\n",
    "    OR basic.otype = 'Sy2'\n",
    "    OR basic.otype = 'SyG'\n",
    "\"\"\")"
   ]
  },
  {
   "cell_type": "code",
   "execution_count": 5,
   "metadata": {
    "ExecuteTime": {
     "end_time": "2021-07-13T14:55:54.302943Z",
     "start_time": "2021-07-13T14:55:54.093589Z"
    }
   },
   "outputs": [
    {
     "name": "stderr",
     "output_type": "stream",
     "text": [
      "WARNING: AstropyDeprecationWarning: ../Data/Raw/SMB_Jul_13_2021.csv already exists. Automatically overwriting ASCII files is deprecated. Use the argument 'overwrite=True' in the future. [astropy.io.ascii.ui]\n"
     ]
    }
   ],
   "source": [
    "simbad_sample = result.to_table()\n",
    "simbad_sample.write('../Data/Raw/SMB' + today.strftime('_%b_%d_%Y')+'.csv',\n",
    "                    format='ascii.csv')"
   ]
  },
  {
   "cell_type": "markdown",
   "metadata": {},
   "source": [
    "## Matching with VCV\n",
    "First, we obtained the [Veron-Cetty M.P. , Veron P. 2010](https://cdsarc.unistra.fr/viz-bin/cat/VII/258) (VCV) catalog from [VizieR](https://vizier.u-strasbg.fr/viz-bin/VizieR) with ``astroquery``. Then, we cross-matched the two samples in terms of coordinates, assuming galaxies are the same if their coordinates differ by less than 2 arcsecs. The save the matched file as SMB_VCV_date.fits."
   ]
  },
  {
   "cell_type": "code",
   "execution_count": 6,
   "metadata": {
    "ExecuteTime": {
     "end_time": "2021-07-13T14:55:58.150295Z",
     "start_time": "2021-07-13T14:55:54.304329Z"
    }
   },
   "outputs": [],
   "source": [
    "veron_cetty_veron = Vizier.get_catalogs('VII/258')[0]"
   ]
  },
  {
   "cell_type": "markdown",
   "metadata": {},
   "source": [
    "From VCV we select only galaxies classified as Seyfert (all the ones that start with a S in the spectral type)"
   ]
  },
  {
   "cell_type": "code",
   "execution_count": 7,
   "metadata": {
    "ExecuteTime": {
     "end_time": "2021-07-13T14:56:00.133924Z",
     "start_time": "2021-07-13T14:55:58.151402Z"
    }
   },
   "outputs": [],
   "source": [
    "select_sy = [sp_type.startswith(\"S\")\n",
    "             for _, sp_type in enumerate(veron_cetty_veron['Sp'])]"
   ]
  },
  {
   "cell_type": "markdown",
   "metadata": {},
   "source": [
    "We remove galaxies where their coordinates and redshifts is not described in SMB"
   ]
  },
  {
   "cell_type": "code",
   "execution_count": 8,
   "metadata": {
    "ExecuteTime": {
     "end_time": "2021-07-13T14:56:00.146602Z",
     "start_time": "2021-07-13T14:56:00.136479Z"
    }
   },
   "outputs": [],
   "source": [
    "bad_gal = np.where(np.logical_or.reduce([simbad_sample['ra'].mask,\n",
    "                                        simbad_sample['dec'].mask,\n",
    "                                        simbad_sample['rvz_redshift'].mask]))[0]\n",
    "simbad_sample.remove_rows(bad_gal)"
   ]
  },
  {
   "cell_type": "markdown",
   "metadata": {},
   "source": [
    "We rearrange the coordinates to match with SMB"
   ]
  },
  {
   "cell_type": "code",
   "execution_count": 9,
   "metadata": {
    "ExecuteTime": {
     "end_time": "2021-07-13T14:56:06.755905Z",
     "start_time": "2021-07-13T14:56:00.147479Z"
    }
   },
   "outputs": [],
   "source": [
    "vcv_sample = veron_cetty_veron[select_sy]\n",
    "vcv_sample['ra'] = [Angle(vcv_sample['RAJ2000'][i],\n",
    "                          unit='hourangle') for i in range(len(vcv_sample))]\n",
    "vcv_sample['dec'] = [Angle(vcv_sample['DEJ2000'][i],\n",
    "                           unit=u.deg) for i in range(len(vcv_sample))]"
   ]
  },
  {
   "cell_type": "markdown",
   "metadata": {},
   "source": [
    "We perform the match between the two catalogs"
   ]
  },
  {
   "cell_type": "code",
   "execution_count": 10,
   "metadata": {
    "ExecuteTime": {
     "end_time": "2021-07-13T14:56:07.001637Z",
     "start_time": "2021-07-13T14:56:06.757102Z"
    }
   },
   "outputs": [],
   "source": [
    "cat1 = SkyCoord(ra=vcv_sample['ra'], dec=vcv_sample['dec'])\n",
    "cat2 = SkyCoord(ra=simbad_sample['ra'], dec=simbad_sample['dec'])\n",
    "idx, d2d, d3d = cat1.match_to_catalog_sky(cat2)"
   ]
  },
  {
   "cell_type": "markdown",
   "metadata": {},
   "source": [
    "Then, we select only galaxies that are inside a 2D distance of 2 arcsecs. With this radius we do not find any multiple matches. "
   ]
  },
  {
   "cell_type": "code",
   "execution_count": 11,
   "metadata": {
    "ExecuteTime": {
     "end_time": "2021-07-13T14:56:07.025736Z",
     "start_time": "2021-07-13T14:56:07.002559Z"
    }
   },
   "outputs": [
    {
     "name": "stderr",
     "output_type": "stream",
     "text": [
      "WARNING: MergeConflictWarning: Cannot merge meta key 'ID' types <class 'str'> and <class 'str'>, choosing ID='VII_258_vv10' [astropy.utils.metadata]\n",
      "WARNING: MergeConflictWarning: Cannot merge meta key 'name' types <class 'str'> and <class 'str'>, choosing name='VII/258/vv10' [astropy.utils.metadata]\n"
     ]
    }
   ],
   "source": [
    "sep_constraint = d2d <= 2*u.arcsec\n",
    "vcv_match = vcv_sample[sep_constraint]\n",
    "smb_match = simbad_sample[idx[sep_constraint]]\n",
    "\n",
    "matched = hstack([smb_match, vcv_match['Name', 'ra', 'dec', 'z', 'Sp']])"
   ]
  },
  {
   "cell_type": "markdown",
   "metadata": {},
   "source": [
    "Finally, we save the galaxies where the redshift is similar between the two catalogs."
   ]
  },
  {
   "cell_type": "code",
   "execution_count": 12,
   "metadata": {
    "ExecuteTime": {
     "end_time": "2021-07-13T14:56:08.953450Z",
     "start_time": "2021-07-13T14:56:07.026631Z"
    }
   },
   "outputs": [
    {
     "name": "stderr",
     "output_type": "stream",
     "text": [
      "WARNING: AstropyDeprecationWarning: ../Data/Raw/SMB_VCV_Jul_13_2021.csv already exists. Automatically overwriting ASCII files is deprecated. Use the argument 'overwrite=True' in the future. [astropy.io.ascii.ui]\n"
     ]
    }
   ],
   "source": [
    "matched.write('../Data/Raw/SMB_VCV'+today.strftime('_%b_%d_%Y')+'.csv', format='ascii.csv')"
   ]
  },
  {
   "cell_type": "markdown",
   "metadata": {},
   "source": [
    "## Get the bibcodes for the classification type\n",
    "We run the following SQL query to search for the bibcodes of the otypes in SMB with the SMBVCV_VO file.\n",
    "~~~sql\n",
    "SELECT DISTINCT main_id\n",
    "\t,ra\n",
    "\t,DEC\n",
    "\t,otypes.otype_txt\n",
    "\t,otypes.origin\n",
    "FROM basic\n",
    "JOIN ident ON oidref = oid\n",
    "JOIN otypes USING (oidref)\n",
    "WHERE basic.otype = 'Sy1'\n",
    "\tOR basic.otype = 'Sy2'\n",
    "\tOR basic.otype = 'SyG'\n",
    "~~~\n",
    "We save this information in a separated file (BibcodesOtypes.fits)"
   ]
  },
  {
   "cell_type": "code",
   "execution_count": 13,
   "metadata": {
    "ExecuteTime": {
     "end_time": "2021-07-13T14:57:34.029069Z",
     "start_time": "2021-07-13T14:56:08.954338Z"
    }
   },
   "outputs": [],
   "source": [
    "service = pyvo.dal.TAPService(\"http://simbad.u-strasbg.fr:80/simbad/sim-tap\")\n",
    "\n",
    "results_new = service.search(\"\"\"\n",
    "SELECT DISTINCT main_id\n",
    "    ,ra\n",
    "    ,DEC\n",
    "    ,otypes.otype_txt\n",
    "    ,otypes.origin\n",
    "FROM basic\n",
    "JOIN ident ON oidref = oid\n",
    "JOIN otypes USING (oidref)\n",
    "WHERE basic.otype = 'Sy1'\n",
    "    OR basic.otype = 'Sy2'\n",
    "    OR basic.otype = 'SyG'\n",
    "\"\"\", maxrec=200000)"
   ]
  },
  {
   "cell_type": "code",
   "execution_count": 14,
   "metadata": {
    "ExecuteTime": {
     "end_time": "2021-07-13T14:57:34.460648Z",
     "start_time": "2021-07-13T14:57:34.029981Z"
    }
   },
   "outputs": [
    {
     "name": "stderr",
     "output_type": "stream",
     "text": [
      "WARNING: AstropyDeprecationWarning: ../Data/Raw/BibcodesOtypes_Jul_13_2021.csv already exists. Automatically overwriting ASCII files is deprecated. Use the argument 'overwrite=True' in the future. [astropy.io.ascii.ui]\n"
     ]
    }
   ],
   "source": [
    "bibcodes_types = results_new.to_table()\n",
    "bibcodes_types.write('../Data/Raw/BibcodesOtypes'+ today.strftime('_%b_%d_%Y')+'.csv',\n",
    "                     format='ascii.csv')"
   ]
  },
  {
   "cell_type": "code",
   "execution_count": 15,
   "metadata": {
    "ExecuteTime": {
     "end_time": "2021-07-13T14:57:34.502742Z",
     "start_time": "2021-07-13T14:57:34.461524Z"
    }
   },
   "outputs": [
    {
     "name": "stdout",
     "output_type": "stream",
     "text": [
      "Author: Andres Ramos\n",
      "\n",
      "Python implementation: CPython\n",
      "Python version       : 3.8.3\n",
      "IPython version      : 7.16.1\n",
      "\n",
      "Compiler    : GCC 7.3.0\n",
      "OS          : Linux\n",
      "Release     : 3.10.0-1160.25.1.el7.x86_64\n",
      "Machine     : x86_64\n",
      "Processor   : x86_64\n",
      "CPU cores   : 8\n",
      "Architecture: 64bit\n",
      "\n",
      "Specific Python packages\n",
      "astropy: 4.2\n",
      "\n",
      "astropy : 4.2\n",
      "json    : 2.0.9\n",
      "autopep8: 1.5.7\n",
      "pyvo    : 1.1\n",
      "numpy   : 1.19.5\n",
      "\n",
      "Watermark: 2.1.0\n",
      "\n"
     ]
    }
   ],
   "source": [
    "%load_ext watermark\n",
    "%watermark -a \"Andres Ramos\" -d -v -m\n",
    "print('Specific Python packages')\n",
    "%watermark -iv -w --packages astropy"
   ]
  }
 ],
 "metadata": {
  "hide_input": false,
  "kernelspec": {
   "display_name": "Python 3",
   "language": "python",
   "name": "python3"
  },
  "language_info": {
   "codemirror_mode": {
    "name": "ipython",
    "version": 3
   },
   "file_extension": ".py",
   "mimetype": "text/x-python",
   "name": "python",
   "nbconvert_exporter": "python",
   "pygments_lexer": "ipython3",
   "version": "3.8.3"
  },
  "toc": {
   "base_numbering": 1,
   "nav_menu": {},
   "number_sections": true,
   "sideBar": true,
   "skip_h1_title": false,
   "title_cell": "Table of Contents",
   "title_sidebar": "Contents",
   "toc_cell": false,
   "toc_position": {},
   "toc_section_display": true,
   "toc_window_display": false
  },
  "varInspector": {
   "cols": {
    "lenName": 16,
    "lenType": 16,
    "lenVar": 40
   },
   "kernels_config": {
    "python": {
     "delete_cmd_postfix": "",
     "delete_cmd_prefix": "del ",
     "library": "var_list.py",
     "varRefreshCmd": "print(var_dic_list())"
    },
    "r": {
     "delete_cmd_postfix": ") ",
     "delete_cmd_prefix": "rm(",
     "library": "var_list.r",
     "varRefreshCmd": "cat(var_dic_list()) "
    }
   },
   "types_to_exclude": [
    "module",
    "function",
    "builtin_function_or_method",
    "instance",
    "_Feature"
   ],
   "window_display": false
  }
 },
 "nbformat": 4,
 "nbformat_minor": 4
}
