{
 "cells": [
  {
   "cell_type": "markdown",
   "metadata": {},
   "source": [
    "# Pre-analysis of data\n",
    "Here we join the files to be used in the analysis phase. We experiment with the parameters of the classifiers. We use those to classify galaxies in another notebook.\n",
    "First, we import all the packages"
   ]
  },
  {
   "cell_type": "code",
   "execution_count": 1,
   "metadata": {
    "ExecuteTime": {
     "end_time": "2021-07-26T10:34:57.197046Z",
     "start_time": "2021-07-26T10:34:56.763938Z"
    }
   },
   "outputs": [
    {
     "name": "stdout",
     "output_type": "stream",
     "text": [
      "Using matplotlib backend: Qt5Agg\n",
      "Populating the interactive namespace from numpy and matplotlib\n"
     ]
    }
   ],
   "source": [
    "%pylab\n",
    "%matplotlib inline"
   ]
  },
  {
   "cell_type": "code",
   "execution_count": 2,
   "metadata": {
    "ExecuteTime": {
     "end_time": "2021-07-26T10:34:58.518846Z",
     "start_time": "2021-07-26T10:34:57.197993Z"
    }
   },
   "outputs": [],
   "source": [
    "import pandas as pd\n",
    "import xgboost as xgb\n",
    "from astropy.table import Table, join\n",
    "\n",
    "from sklearn import preprocessing\n",
    "from sklearn.calibration import calibration_curve\n",
    "from sklearn.ensemble import RandomForestClassifier\n",
    "from sklearn.model_selection import train_test_split, GridSearchCV"
   ]
  },
  {
   "cell_type": "markdown",
   "metadata": {},
   "source": [
    "Additionally, we include some shortcuts to simplify some code"
   ]
  },
  {
   "cell_type": "code",
   "execution_count": 3,
   "metadata": {
    "ExecuteTime": {
     "end_time": "2021-07-26T10:34:58.522365Z",
     "start_time": "2021-07-26T10:34:58.519889Z"
    }
   },
   "outputs": [],
   "source": [
    "def selt1_or_selt2(tab_phot):\n",
    "    \"\"\"Select Seyferts 1 and 2 in both VCV and CDS\"\"\"\n",
    "    selec1 = np.logical_and(tab_phot['otype_txt'] == 'Sy1', tab_phot['Sp'] == 'S1')\n",
    "    selec2 = np.logical_and(tab_phot['otype_txt'] == 'Sy2', tab_phot['Sp'] == 'S2')\n",
    "    select_sey = np.logical_or(selec1, selec2)\n",
    "    return tab_phot[select_sey]"
   ]
  },
  {
   "cell_type": "markdown",
   "metadata": {},
   "source": [
    "## Join all clean results"
   ]
  },
  {
   "cell_type": "markdown",
   "metadata": {},
   "source": [
    "We read the results from the models we are going to use"
   ]
  },
  {
   "cell_type": "code",
   "execution_count": 4,
   "metadata": {
    "ExecuteTime": {
     "end_time": "2021-07-26T10:34:59.081454Z",
     "start_time": "2021-07-26T10:34:58.523347Z"
    }
   },
   "outputs": [],
   "source": [
    "ModelS = Table.read('../Data/Final/CIGALEOutputs/Cleanresults_SK.fits', format='fits')\n",
    "ModelF = Table.read('../Data/Final/CIGALEOutputs/Cleanresults_Fr.fits', format='fits')\n",
    "\n",
    "ModelS37 = Table.read('../Data/Final/CIGALEOutputs/Cleanresults_SK37.fits', format='fits')\n",
    "ModelF37 = Table.read('../Data/Final/CIGALEOutputs/Cleanresults_Fr37.fits', format='fits')"
   ]
  },
  {
   "cell_type": "markdown",
   "metadata": {},
   "source": [
    "We also read the original database of galaxies, where we take the information for the classification"
   ]
  },
  {
   "cell_type": "code",
   "execution_count": 5,
   "metadata": {
    "ExecuteTime": {
     "end_time": "2021-07-26T10:34:59.250924Z",
     "start_time": "2021-07-26T10:34:59.082457Z"
    }
   },
   "outputs": [],
   "source": [
    "Sample = Table.read('../Data/Final/VCV_SMB_otype.txt', format='ascii')\n",
    "Sample.rename_column('main_id', 'id')  # Renamed to use the join with the same id"
   ]
  },
  {
   "cell_type": "markdown",
   "metadata": {},
   "source": [
    "We join these clean tables with the catalog. We send all the tables to pandas format. Then, we concatenate the tables to have an unique table."
   ]
  },
  {
   "cell_type": "code",
   "execution_count": 6,
   "metadata": {
    "ExecuteTime": {
     "end_time": "2021-07-26T10:34:59.689009Z",
     "start_time": "2021-07-26T10:34:59.251767Z"
    }
   },
   "outputs": [],
   "source": [
    "SPandas = join(Sample, ModelS, keys='id').to_pandas()\n",
    "FPandas = join(Sample, ModelF, keys='id').to_pandas()\n",
    "SPandas37 = join(Sample, ModelS37, keys='id').to_pandas()\n",
    "FPandas37 = join(Sample, ModelF37, keys='id').to_pandas()\n",
    "SFPandas = pd.concat([SPandas, FPandas, SPandas37, FPandas37],\n",
    "                     keys=['SKIRTOR', 'Fritz', 'S37', 'F37'],\n",
    "                     names=['Model', 'idCIG'])"
   ]
  },
  {
   "cell_type": "code",
   "execution_count": 7,
   "metadata": {
    "ExecuteTime": {
     "end_time": "2021-07-26T10:34:59.829476Z",
     "start_time": "2021-07-26T10:34:59.689975Z"
    }
   },
   "outputs": [
    {
     "name": "stdout",
     "output_type": "stream",
     "text": [
      "The number of estimates we use for the classifications tasks is 29737\n"
     ]
    }
   ],
   "source": [
    "print('The number of estimates we use for the classifications tasks is %d' %\n",
    "      len(selt1_or_selt2(SFPandas)))"
   ]
  },
  {
   "cell_type": "markdown",
   "metadata": {},
   "source": [
    "## Experiments with the parameters of the classifiers\n",
    "We select the physical parameters in all the models and remove the ones that are not useful for our propose (e.g. constant values, young and old contributions)."
   ]
  },
  {
   "cell_type": "code",
   "execution_count": 8,
   "metadata": {
    "ExecuteTime": {
     "end_time": "2021-07-26T10:35:00.210362Z",
     "start_time": "2021-07-26T10:34:59.830883Z"
    }
   },
   "outputs": [],
   "source": [
    "GoodColumns = [col for col in selt1_or_selt2(SFPandas).loc['SKIRTOR'].columns if 'bayes' in col]\n",
    "newdf = selt1_or_selt2(SFPandas).loc['SKIRTOR'][GoodColumns]\n",
    "Descr = newdf.describe()\n",
    "BadCol = [cl for cl in newdf.columns if Descr[cl]['std'] < 1e-2]  # Removing constant columns\n",
    "newdf = newdf.drop(BadCol, axis=1)\n",
    "# Removing calculated errors\n",
    "BadCol2 = [cl for cl in newdf.columns if '_err' in cl]\n",
    "newdf = newdf.drop(BadCol2, axis=1)\n",
    "# Removing young estimations\n",
    "BadCol3 = [cl for cl in newdf.columns if '_young' in cl]\n",
    "# Removing old estimations\n",
    "BadCol4 = [cl for cl in newdf.columns if '_old' in cl]\n",
    "# Removing estimations with lines\n",
    "BadCol5 = [cl for cl in newdf.columns if '_lines' in cl]\n",
    "# Removing universe values, these are dependent of redshift\n",
    "BadCol6 = [cl for cl in newdf.columns if 'universe' in cl]\n",
    "# Removing filter in the attenuation module\n",
    "BadCol7 = [cl for cl in newdf.columns if 'FUV' in cl]\n",
    "BadCols = np.concatenate([BadCol3, BadCol4, BadCol5, BadCol6, BadCol7])\n",
    "newdf = newdf.drop(BadCols, axis=1)\n",
    "newdf = newdf.dropna(axis='columns')\n",
    "newdf = newdf[newdf.columns[:-31]]  # Remove the mock photometry"
   ]
  },
  {
   "cell_type": "markdown",
   "metadata": {},
   "source": [
    "We split the sample of galaxies into train and test sets. Then, we encode and scale the physical parameters."
   ]
  },
  {
   "cell_type": "code",
   "execution_count": 9,
   "metadata": {
    "ExecuteTime": {
     "end_time": "2021-07-26T10:35:00.289834Z",
     "start_time": "2021-07-26T10:35:00.212038Z"
    }
   },
   "outputs": [],
   "source": [
    "X = newdf\n",
    "y = selt1_or_selt2(SFPandas).loc['SKIRTOR']['otype_txt']\n",
    "x_train, x_test, y_train, y_test = train_test_split(X, y,\n",
    "                                                    test_size=0.20,\n",
    "                                                    random_state=42)\n",
    "le = preprocessing.LabelEncoder()\n",
    "le.fit(y)\n",
    "x_train_encode = preprocessing.robust_scale(x_train)\n",
    "x_test_encode = preprocessing.robust_scale(x_test)\n",
    "y_train_encode = le.transform(y_train).reshape(-1, 1).ravel()\n",
    "y_test_encode = le.transform(y_test).reshape(-1, 1).ravel()"
   ]
  },
  {
   "cell_type": "markdown",
   "metadata": {
    "ExecuteTime": {
     "end_time": "2021-01-22T10:38:02.380030Z",
     "start_time": "2021-01-22T10:38:02.375121Z"
    }
   },
   "source": [
    "## Using GridSearchCV to find the best parameters for the classifiers"
   ]
  },
  {
   "cell_type": "markdown",
   "metadata": {},
   "source": [
    "We selected two different classifiers ([Random Forest](https://scikit-learn.org/stable/modules/generated/sklearn.ensemble.RandomForestClassifier.html) and [XGBoost](https://xgboost.readthedocs.io/en/latest/python/python_api.html)). We will experiment with Grid Search. We test a model with default values and we compare with the [Grid Search](https://scikit-learn.org/stable/modules/generated/sklearn.model_selection.GridSearchCV.html) accuracy scoring (`GridSearchCV`)."
   ]
  },
  {
   "cell_type": "code",
   "execution_count": 10,
   "metadata": {
    "ExecuteTime": {
     "end_time": "2021-07-26T10:35:00.293255Z",
     "start_time": "2021-07-26T10:35:00.290802Z"
    }
   },
   "outputs": [],
   "source": [
    "clf_rf = RandomForestClassifier(random_state=42)\n",
    "clf_xg = xgb.XGBClassifier(random_state=42, use_label_encoder=False,\n",
    "                           eval_metric='logloss')\n",
    "param_grid = {\"max_depth\": [10, 15, 20, 25, 30, 35, 40],\n",
    "#               \"n_estimators\": [200, 400, 600, 800, 1000]}\n",
    "              \"n_estimators\": [100, 200, 300, 400, 500]}"
   ]
  },
  {
   "cell_type": "markdown",
   "metadata": {},
   "source": [
    "**IMPORTANT COMMENT:**  If you want to see the all the details of the runs (verbose) do not set the n_jobs parameter. The evaluation on the points are shown in the terminal when the cell finish running. Do not set any n_jobs for the XGBoost classifier! It will take a longer time depending on the computer."
   ]
  },
  {
   "cell_type": "code",
   "execution_count": 11,
   "metadata": {
    "ExecuteTime": {
     "end_time": "2021-07-26T10:37:41.593568Z",
     "start_time": "2021-07-26T10:35:00.294253Z"
    }
   },
   "outputs": [
    {
     "name": "stdout",
     "output_type": "stream",
     "text": [
      "Fitting 5 folds for each of 35 candidates, totalling 175 fits\n",
      "[CV] max_depth=10, n_estimators=100 ..................................\n"
     ]
    },
    {
     "name": "stderr",
     "output_type": "stream",
     "text": [
      "[Parallel(n_jobs=1)]: Using backend SequentialBackend with 1 concurrent workers.\n"
     ]
    },
    {
     "name": "stdout",
     "output_type": "stream",
     "text": [
      "[CV] ...... max_depth=10, n_estimators=100, score=0.911, total=   0.5s\n",
      "[CV] max_depth=10, n_estimators=100 ..................................\n"
     ]
    },
    {
     "name": "stderr",
     "output_type": "stream",
     "text": [
      "[Parallel(n_jobs=1)]: Done   1 out of   1 | elapsed:    0.5s remaining:    0.0s\n"
     ]
    },
    {
     "name": "stdout",
     "output_type": "stream",
     "text": [
      "[CV] ...... max_depth=10, n_estimators=100, score=0.908, total=   0.4s\n",
      "[CV] max_depth=10, n_estimators=100 ..................................\n"
     ]
    },
    {
     "name": "stderr",
     "output_type": "stream",
     "text": [
      "[Parallel(n_jobs=1)]: Done   2 out of   2 | elapsed:    0.9s remaining:    0.0s\n"
     ]
    },
    {
     "name": "stdout",
     "output_type": "stream",
     "text": [
      "[CV] ...... max_depth=10, n_estimators=100, score=0.907, total=   0.5s\n",
      "[CV] max_depth=10, n_estimators=100 ..................................\n"
     ]
    },
    {
     "name": "stderr",
     "output_type": "stream",
     "text": [
      "[Parallel(n_jobs=1)]: Done   3 out of   3 | elapsed:    1.4s remaining:    0.0s\n"
     ]
    },
    {
     "name": "stdout",
     "output_type": "stream",
     "text": [
      "[CV] ...... max_depth=10, n_estimators=100, score=0.912, total=   0.5s\n",
      "[CV] max_depth=10, n_estimators=100 ..................................\n",
      "[CV] ...... max_depth=10, n_estimators=100, score=0.901, total=   0.5s\n",
      "[CV] max_depth=10, n_estimators=200 ..................................\n",
      "[CV] ...... max_depth=10, n_estimators=200, score=0.910, total=   0.7s\n",
      "[CV] max_depth=10, n_estimators=200 ..................................\n",
      "[CV] ...... max_depth=10, n_estimators=200, score=0.901, total=   0.7s\n",
      "[CV] max_depth=10, n_estimators=200 ..................................\n",
      "[CV] ...... max_depth=10, n_estimators=200, score=0.906, total=   0.8s\n",
      "[CV] max_depth=10, n_estimators=200 ..................................\n",
      "[CV] ...... max_depth=10, n_estimators=200, score=0.910, total=   0.7s\n",
      "[CV] max_depth=10, n_estimators=200 ..................................\n",
      "[CV] ...... max_depth=10, n_estimators=200, score=0.899, total=   0.7s\n",
      "[CV] max_depth=10, n_estimators=300 ..................................\n",
      "[CV] ...... max_depth=10, n_estimators=300, score=0.912, total=   1.0s\n",
      "[CV] max_depth=10, n_estimators=300 ..................................\n",
      "[CV] ...... max_depth=10, n_estimators=300, score=0.900, total=   0.9s\n",
      "[CV] max_depth=10, n_estimators=300 ..................................\n",
      "[CV] ...... max_depth=10, n_estimators=300, score=0.904, total=   1.0s\n",
      "[CV] max_depth=10, n_estimators=300 ..................................\n",
      "[CV] ...... max_depth=10, n_estimators=300, score=0.910, total=   0.9s\n",
      "[CV] max_depth=10, n_estimators=300 ..................................\n",
      "[CV] ...... max_depth=10, n_estimators=300, score=0.901, total=   1.0s\n",
      "[CV] max_depth=10, n_estimators=400 ..................................\n",
      "[CV] ...... max_depth=10, n_estimators=400, score=0.908, total=   1.2s\n",
      "[CV] max_depth=10, n_estimators=400 ..................................\n",
      "[CV] ...... max_depth=10, n_estimators=400, score=0.901, total=   1.1s\n",
      "[CV] max_depth=10, n_estimators=400 ..................................\n",
      "[CV] ...... max_depth=10, n_estimators=400, score=0.905, total=   1.1s\n",
      "[CV] max_depth=10, n_estimators=400 ..................................\n",
      "[CV] ...... max_depth=10, n_estimators=400, score=0.907, total=   1.1s\n",
      "[CV] max_depth=10, n_estimators=400 ..................................\n",
      "[CV] ...... max_depth=10, n_estimators=400, score=0.902, total=   1.1s\n",
      "[CV] max_depth=10, n_estimators=500 ..................................\n",
      "[CV] ...... max_depth=10, n_estimators=500, score=0.908, total=   1.3s\n",
      "[CV] max_depth=10, n_estimators=500 ..................................\n",
      "[CV] ...... max_depth=10, n_estimators=500, score=0.902, total=   1.3s\n",
      "[CV] max_depth=10, n_estimators=500 ..................................\n",
      "[CV] ...... max_depth=10, n_estimators=500, score=0.904, total=   1.3s\n",
      "[CV] max_depth=10, n_estimators=500 ..................................\n",
      "[CV] ...... max_depth=10, n_estimators=500, score=0.907, total=   1.3s\n",
      "[CV] max_depth=10, n_estimators=500 ..................................\n",
      "[CV] ...... max_depth=10, n_estimators=500, score=0.901, total=   1.3s\n",
      "[CV] max_depth=15, n_estimators=100 ..................................\n",
      "[CV] ...... max_depth=15, n_estimators=100, score=0.915, total=   0.5s\n",
      "[CV] max_depth=15, n_estimators=100 ..................................\n",
      "[CV] ...... max_depth=15, n_estimators=100, score=0.906, total=   0.5s\n",
      "[CV] max_depth=15, n_estimators=100 ..................................\n",
      "[CV] ...... max_depth=15, n_estimators=100, score=0.904, total=   0.5s\n",
      "[CV] max_depth=15, n_estimators=100 ..................................\n",
      "[CV] ...... max_depth=15, n_estimators=100, score=0.905, total=   0.5s\n",
      "[CV] max_depth=15, n_estimators=100 ..................................\n",
      "[CV] ...... max_depth=15, n_estimators=100, score=0.897, total=   0.5s\n",
      "[CV] max_depth=15, n_estimators=200 ..................................\n",
      "[CV] ...... max_depth=15, n_estimators=200, score=0.913, total=   0.7s\n",
      "[CV] max_depth=15, n_estimators=200 ..................................\n",
      "[CV] ...... max_depth=15, n_estimators=200, score=0.905, total=   0.7s\n",
      "[CV] max_depth=15, n_estimators=200 ..................................\n",
      "[CV] ...... max_depth=15, n_estimators=200, score=0.900, total=   0.7s\n",
      "[CV] max_depth=15, n_estimators=200 ..................................\n",
      "[CV] ...... max_depth=15, n_estimators=200, score=0.908, total=   0.7s\n",
      "[CV] max_depth=15, n_estimators=200 ..................................\n",
      "[CV] ...... max_depth=15, n_estimators=200, score=0.901, total=   0.7s\n",
      "[CV] max_depth=15, n_estimators=300 ..................................\n",
      "[CV] ...... max_depth=15, n_estimators=300, score=0.913, total=   0.9s\n",
      "[CV] max_depth=15, n_estimators=300 ..................................\n",
      "[CV] ...... max_depth=15, n_estimators=300, score=0.908, total=   0.9s\n",
      "[CV] max_depth=15, n_estimators=300 ..................................\n",
      "[CV] ...... max_depth=15, n_estimators=300, score=0.901, total=   0.9s\n",
      "[CV] max_depth=15, n_estimators=300 ..................................\n",
      "[CV] ...... max_depth=15, n_estimators=300, score=0.909, total=   0.9s\n",
      "[CV] max_depth=15, n_estimators=300 ..................................\n",
      "[CV] ...... max_depth=15, n_estimators=300, score=0.901, total=   0.9s\n",
      "[CV] max_depth=15, n_estimators=400 ..................................\n",
      "[CV] ...... max_depth=15, n_estimators=400, score=0.914, total=   1.1s\n",
      "[CV] max_depth=15, n_estimators=400 ..................................\n",
      "[CV] ...... max_depth=15, n_estimators=400, score=0.908, total=   1.1s\n",
      "[CV] max_depth=15, n_estimators=400 ..................................\n",
      "[CV] ...... max_depth=15, n_estimators=400, score=0.904, total=   1.1s\n",
      "[CV] max_depth=15, n_estimators=400 ..................................\n",
      "[CV] ...... max_depth=15, n_estimators=400, score=0.908, total=   1.1s\n",
      "[CV] max_depth=15, n_estimators=400 ..................................\n",
      "[CV] ...... max_depth=15, n_estimators=400, score=0.900, total=   1.1s\n",
      "[CV] max_depth=15, n_estimators=500 ..................................\n",
      "[CV] ...... max_depth=15, n_estimators=500, score=0.915, total=   1.3s\n",
      "[CV] max_depth=15, n_estimators=500 ..................................\n",
      "[CV] ...... max_depth=15, n_estimators=500, score=0.907, total=   1.3s\n",
      "[CV] max_depth=15, n_estimators=500 ..................................\n",
      "[CV] ...... max_depth=15, n_estimators=500, score=0.903, total=   1.3s\n",
      "[CV] max_depth=15, n_estimators=500 ..................................\n",
      "[CV] ...... max_depth=15, n_estimators=500, score=0.907, total=   1.3s\n",
      "[CV] max_depth=15, n_estimators=500 ..................................\n",
      "[CV] ...... max_depth=15, n_estimators=500, score=0.899, total=   1.3s\n",
      "[CV] max_depth=20, n_estimators=100 ..................................\n",
      "[CV] ...... max_depth=20, n_estimators=100, score=0.915, total=   0.5s\n",
      "[CV] max_depth=20, n_estimators=100 ..................................\n",
      "[CV] ...... max_depth=20, n_estimators=100, score=0.902, total=   0.5s\n",
      "[CV] max_depth=20, n_estimators=100 ..................................\n",
      "[CV] ...... max_depth=20, n_estimators=100, score=0.906, total=   0.5s\n",
      "[CV] max_depth=20, n_estimators=100 ..................................\n",
      "[CV] ...... max_depth=20, n_estimators=100, score=0.908, total=   0.5s\n",
      "[CV] max_depth=20, n_estimators=100 ..................................\n",
      "[CV] ...... max_depth=20, n_estimators=100, score=0.898, total=   0.5s\n",
      "[CV] max_depth=20, n_estimators=200 ..................................\n",
      "[CV] ...... max_depth=20, n_estimators=200, score=0.917, total=   0.7s\n",
      "[CV] max_depth=20, n_estimators=200 ..................................\n",
      "[CV] ...... max_depth=20, n_estimators=200, score=0.904, total=   0.7s\n",
      "[CV] max_depth=20, n_estimators=200 ..................................\n",
      "[CV] ...... max_depth=20, n_estimators=200, score=0.907, total=   0.7s\n",
      "[CV] max_depth=20, n_estimators=200 ..................................\n",
      "[CV] ...... max_depth=20, n_estimators=200, score=0.909, total=   0.7s\n",
      "[CV] max_depth=20, n_estimators=200 ..................................\n",
      "[CV] ...... max_depth=20, n_estimators=200, score=0.899, total=   0.7s\n",
      "[CV] max_depth=20, n_estimators=300 ..................................\n",
      "[CV] ...... max_depth=20, n_estimators=300, score=0.916, total=   1.0s\n",
      "[CV] max_depth=20, n_estimators=300 ..................................\n"
     ]
    },
    {
     "name": "stdout",
     "output_type": "stream",
     "text": [
      "[CV] ...... max_depth=20, n_estimators=300, score=0.907, total=   0.9s\n",
      "[CV] max_depth=20, n_estimators=300 ..................................\n",
      "[CV] ...... max_depth=20, n_estimators=300, score=0.906, total=   0.9s\n",
      "[CV] max_depth=20, n_estimators=300 ..................................\n",
      "[CV] ...... max_depth=20, n_estimators=300, score=0.908, total=   0.9s\n",
      "[CV] max_depth=20, n_estimators=300 ..................................\n",
      "[CV] ...... max_depth=20, n_estimators=300, score=0.901, total=   0.9s\n",
      "[CV] max_depth=20, n_estimators=400 ..................................\n",
      "[CV] ...... max_depth=20, n_estimators=400, score=0.917, total=   1.1s\n",
      "[CV] max_depth=20, n_estimators=400 ..................................\n",
      "[CV] ...... max_depth=20, n_estimators=400, score=0.904, total=   1.1s\n",
      "[CV] max_depth=20, n_estimators=400 ..................................\n",
      "[CV] ...... max_depth=20, n_estimators=400, score=0.906, total=   1.1s\n",
      "[CV] max_depth=20, n_estimators=400 ..................................\n",
      "[CV] ...... max_depth=20, n_estimators=400, score=0.907, total=   1.1s\n",
      "[CV] max_depth=20, n_estimators=400 ..................................\n",
      "[CV] ...... max_depth=20, n_estimators=400, score=0.902, total=   1.1s\n",
      "[CV] max_depth=20, n_estimators=500 ..................................\n",
      "[CV] ...... max_depth=20, n_estimators=500, score=0.917, total=   1.3s\n",
      "[CV] max_depth=20, n_estimators=500 ..................................\n",
      "[CV] ...... max_depth=20, n_estimators=500, score=0.902, total=   1.3s\n",
      "[CV] max_depth=20, n_estimators=500 ..................................\n",
      "[CV] ...... max_depth=20, n_estimators=500, score=0.907, total=   1.3s\n",
      "[CV] max_depth=20, n_estimators=500 ..................................\n",
      "[CV] ...... max_depth=20, n_estimators=500, score=0.909, total=   1.3s\n",
      "[CV] max_depth=20, n_estimators=500 ..................................\n",
      "[CV] ...... max_depth=20, n_estimators=500, score=0.902, total=   1.3s\n",
      "[CV] max_depth=25, n_estimators=100 ..................................\n",
      "[CV] ...... max_depth=25, n_estimators=100, score=0.915, total=   0.5s\n",
      "[CV] max_depth=25, n_estimators=100 ..................................\n",
      "[CV] ...... max_depth=25, n_estimators=100, score=0.902, total=   0.5s\n",
      "[CV] max_depth=25, n_estimators=100 ..................................\n",
      "[CV] ...... max_depth=25, n_estimators=100, score=0.913, total=   0.5s\n",
      "[CV] max_depth=25, n_estimators=100 ..................................\n",
      "[CV] ...... max_depth=25, n_estimators=100, score=0.908, total=   0.5s\n",
      "[CV] max_depth=25, n_estimators=100 ..................................\n",
      "[CV] ...... max_depth=25, n_estimators=100, score=0.896, total=   0.5s\n",
      "[CV] max_depth=25, n_estimators=200 ..................................\n",
      "[CV] ...... max_depth=25, n_estimators=200, score=0.915, total=   0.7s\n",
      "[CV] max_depth=25, n_estimators=200 ..................................\n",
      "[CV] ...... max_depth=25, n_estimators=200, score=0.903, total=   0.7s\n",
      "[CV] max_depth=25, n_estimators=200 ..................................\n",
      "[CV] ...... max_depth=25, n_estimators=200, score=0.917, total=   0.7s\n",
      "[CV] max_depth=25, n_estimators=200 ..................................\n",
      "[CV] ...... max_depth=25, n_estimators=200, score=0.908, total=   0.7s\n",
      "[CV] max_depth=25, n_estimators=200 ..................................\n",
      "[CV] ...... max_depth=25, n_estimators=200, score=0.900, total=   0.7s\n",
      "[CV] max_depth=25, n_estimators=300 ..................................\n",
      "[CV] ...... max_depth=25, n_estimators=300, score=0.914, total=   0.9s\n",
      "[CV] max_depth=25, n_estimators=300 ..................................\n",
      "[CV] ...... max_depth=25, n_estimators=300, score=0.905, total=   0.9s\n",
      "[CV] max_depth=25, n_estimators=300 ..................................\n",
      "[CV] ...... max_depth=25, n_estimators=300, score=0.917, total=   0.9s\n",
      "[CV] max_depth=25, n_estimators=300 ..................................\n",
      "[CV] ...... max_depth=25, n_estimators=300, score=0.908, total=   0.9s\n",
      "[CV] max_depth=25, n_estimators=300 ..................................\n",
      "[CV] ...... max_depth=25, n_estimators=300, score=0.900, total=   0.9s\n",
      "[CV] max_depth=25, n_estimators=400 ..................................\n",
      "[CV] ...... max_depth=25, n_estimators=400, score=0.914, total=   1.1s\n",
      "[CV] max_depth=25, n_estimators=400 ..................................\n",
      "[CV] ...... max_depth=25, n_estimators=400, score=0.903, total=   1.1s\n",
      "[CV] max_depth=25, n_estimators=400 ..................................\n",
      "[CV] ...... max_depth=25, n_estimators=400, score=0.915, total=   1.1s\n",
      "[CV] max_depth=25, n_estimators=400 ..................................\n",
      "[CV] ...... max_depth=25, n_estimators=400, score=0.908, total=   1.1s\n",
      "[CV] max_depth=25, n_estimators=400 ..................................\n",
      "[CV] ...... max_depth=25, n_estimators=400, score=0.902, total=   1.1s\n",
      "[CV] max_depth=25, n_estimators=500 ..................................\n",
      "[CV] ...... max_depth=25, n_estimators=500, score=0.914, total=   1.3s\n",
      "[CV] max_depth=25, n_estimators=500 ..................................\n",
      "[CV] ...... max_depth=25, n_estimators=500, score=0.903, total=   1.3s\n",
      "[CV] max_depth=25, n_estimators=500 ..................................\n",
      "[CV] ...... max_depth=25, n_estimators=500, score=0.913, total=   1.3s\n",
      "[CV] max_depth=25, n_estimators=500 ..................................\n",
      "[CV] ...... max_depth=25, n_estimators=500, score=0.909, total=   1.3s\n",
      "[CV] max_depth=25, n_estimators=500 ..................................\n",
      "[CV] ...... max_depth=25, n_estimators=500, score=0.902, total=   1.3s\n",
      "[CV] max_depth=30, n_estimators=100 ..................................\n",
      "[CV] ...... max_depth=30, n_estimators=100, score=0.915, total=   0.5s\n",
      "[CV] max_depth=30, n_estimators=100 ..................................\n",
      "[CV] ...... max_depth=30, n_estimators=100, score=0.902, total=   0.5s\n",
      "[CV] max_depth=30, n_estimators=100 ..................................\n",
      "[CV] ...... max_depth=30, n_estimators=100, score=0.913, total=   0.5s\n",
      "[CV] max_depth=30, n_estimators=100 ..................................\n",
      "[CV] ...... max_depth=30, n_estimators=100, score=0.908, total=   0.5s\n",
      "[CV] max_depth=30, n_estimators=100 ..................................\n",
      "[CV] ...... max_depth=30, n_estimators=100, score=0.896, total=   0.5s\n",
      "[CV] max_depth=30, n_estimators=200 ..................................\n",
      "[CV] ...... max_depth=30, n_estimators=200, score=0.915, total=   0.7s\n",
      "[CV] max_depth=30, n_estimators=200 ..................................\n",
      "[CV] ...... max_depth=30, n_estimators=200, score=0.903, total=   0.7s\n",
      "[CV] max_depth=30, n_estimators=200 ..................................\n",
      "[CV] ...... max_depth=30, n_estimators=200, score=0.917, total=   0.7s\n",
      "[CV] max_depth=30, n_estimators=200 ..................................\n",
      "[CV] ...... max_depth=30, n_estimators=200, score=0.908, total=   0.7s\n",
      "[CV] max_depth=30, n_estimators=200 ..................................\n",
      "[CV] ...... max_depth=30, n_estimators=200, score=0.900, total=   0.7s\n",
      "[CV] max_depth=30, n_estimators=300 ..................................\n",
      "[CV] ...... max_depth=30, n_estimators=300, score=0.914, total=   1.0s\n",
      "[CV] max_depth=30, n_estimators=300 ..................................\n",
      "[CV] ...... max_depth=30, n_estimators=300, score=0.905, total=   0.9s\n",
      "[CV] max_depth=30, n_estimators=300 ..................................\n",
      "[CV] ...... max_depth=30, n_estimators=300, score=0.917, total=   0.9s\n",
      "[CV] max_depth=30, n_estimators=300 ..................................\n",
      "[CV] ...... max_depth=30, n_estimators=300, score=0.908, total=   0.9s\n",
      "[CV] max_depth=30, n_estimators=300 ..................................\n",
      "[CV] ...... max_depth=30, n_estimators=300, score=0.900, total=   0.9s\n",
      "[CV] max_depth=30, n_estimators=400 ..................................\n",
      "[CV] ...... max_depth=30, n_estimators=400, score=0.914, total=   1.1s\n",
      "[CV] max_depth=30, n_estimators=400 ..................................\n",
      "[CV] ...... max_depth=30, n_estimators=400, score=0.903, total=   1.1s\n",
      "[CV] max_depth=30, n_estimators=400 ..................................\n",
      "[CV] ...... max_depth=30, n_estimators=400, score=0.915, total=   1.1s\n",
      "[CV] max_depth=30, n_estimators=400 ..................................\n",
      "[CV] ...... max_depth=30, n_estimators=400, score=0.908, total=   1.1s\n",
      "[CV] max_depth=30, n_estimators=400 ..................................\n"
     ]
    },
    {
     "name": "stdout",
     "output_type": "stream",
     "text": [
      "[CV] ...... max_depth=30, n_estimators=400, score=0.902, total=   1.1s\n",
      "[CV] max_depth=30, n_estimators=500 ..................................\n",
      "[CV] ...... max_depth=30, n_estimators=500, score=0.914, total=   1.3s\n",
      "[CV] max_depth=30, n_estimators=500 ..................................\n",
      "[CV] ...... max_depth=30, n_estimators=500, score=0.903, total=   1.3s\n",
      "[CV] max_depth=30, n_estimators=500 ..................................\n",
      "[CV] ...... max_depth=30, n_estimators=500, score=0.913, total=   1.3s\n",
      "[CV] max_depth=30, n_estimators=500 ..................................\n",
      "[CV] ...... max_depth=30, n_estimators=500, score=0.909, total=   1.3s\n",
      "[CV] max_depth=30, n_estimators=500 ..................................\n",
      "[CV] ...... max_depth=30, n_estimators=500, score=0.902, total=   1.3s\n",
      "[CV] max_depth=35, n_estimators=100 ..................................\n",
      "[CV] ...... max_depth=35, n_estimators=100, score=0.915, total=   0.5s\n",
      "[CV] max_depth=35, n_estimators=100 ..................................\n",
      "[CV] ...... max_depth=35, n_estimators=100, score=0.902, total=   0.5s\n",
      "[CV] max_depth=35, n_estimators=100 ..................................\n",
      "[CV] ...... max_depth=35, n_estimators=100, score=0.913, total=   0.5s\n",
      "[CV] max_depth=35, n_estimators=100 ..................................\n",
      "[CV] ...... max_depth=35, n_estimators=100, score=0.908, total=   0.5s\n",
      "[CV] max_depth=35, n_estimators=100 ..................................\n",
      "[CV] ...... max_depth=35, n_estimators=100, score=0.896, total=   0.5s\n",
      "[CV] max_depth=35, n_estimators=200 ..................................\n",
      "[CV] ...... max_depth=35, n_estimators=200, score=0.915, total=   0.7s\n",
      "[CV] max_depth=35, n_estimators=200 ..................................\n",
      "[CV] ...... max_depth=35, n_estimators=200, score=0.903, total=   0.7s\n",
      "[CV] max_depth=35, n_estimators=200 ..................................\n",
      "[CV] ...... max_depth=35, n_estimators=200, score=0.917, total=   0.7s\n",
      "[CV] max_depth=35, n_estimators=200 ..................................\n",
      "[CV] ...... max_depth=35, n_estimators=200, score=0.908, total=   0.7s\n",
      "[CV] max_depth=35, n_estimators=200 ..................................\n",
      "[CV] ...... max_depth=35, n_estimators=200, score=0.900, total=   0.7s\n",
      "[CV] max_depth=35, n_estimators=300 ..................................\n",
      "[CV] ...... max_depth=35, n_estimators=300, score=0.914, total=   1.0s\n",
      "[CV] max_depth=35, n_estimators=300 ..................................\n",
      "[CV] ...... max_depth=35, n_estimators=300, score=0.905, total=   0.9s\n",
      "[CV] max_depth=35, n_estimators=300 ..................................\n",
      "[CV] ...... max_depth=35, n_estimators=300, score=0.917, total=   0.9s\n",
      "[CV] max_depth=35, n_estimators=300 ..................................\n",
      "[CV] ...... max_depth=35, n_estimators=300, score=0.908, total=   0.9s\n",
      "[CV] max_depth=35, n_estimators=300 ..................................\n",
      "[CV] ...... max_depth=35, n_estimators=300, score=0.900, total=   0.9s\n",
      "[CV] max_depth=35, n_estimators=400 ..................................\n",
      "[CV] ...... max_depth=35, n_estimators=400, score=0.914, total=   1.1s\n",
      "[CV] max_depth=35, n_estimators=400 ..................................\n",
      "[CV] ...... max_depth=35, n_estimators=400, score=0.903, total=   1.1s\n",
      "[CV] max_depth=35, n_estimators=400 ..................................\n",
      "[CV] ...... max_depth=35, n_estimators=400, score=0.915, total=   1.1s\n",
      "[CV] max_depth=35, n_estimators=400 ..................................\n",
      "[CV] ...... max_depth=35, n_estimators=400, score=0.908, total=   1.1s\n",
      "[CV] max_depth=35, n_estimators=400 ..................................\n",
      "[CV] ...... max_depth=35, n_estimators=400, score=0.902, total=   1.2s\n",
      "[CV] max_depth=35, n_estimators=500 ..................................\n",
      "[CV] ...... max_depth=35, n_estimators=500, score=0.914, total=   1.3s\n",
      "[CV] max_depth=35, n_estimators=500 ..................................\n",
      "[CV] ...... max_depth=35, n_estimators=500, score=0.903, total=   1.3s\n",
      "[CV] max_depth=35, n_estimators=500 ..................................\n",
      "[CV] ...... max_depth=35, n_estimators=500, score=0.913, total=   1.3s\n",
      "[CV] max_depth=35, n_estimators=500 ..................................\n",
      "[CV] ...... max_depth=35, n_estimators=500, score=0.909, total=   1.3s\n",
      "[CV] max_depth=35, n_estimators=500 ..................................\n",
      "[CV] ...... max_depth=35, n_estimators=500, score=0.902, total=   1.3s\n",
      "[CV] max_depth=40, n_estimators=100 ..................................\n",
      "[CV] ...... max_depth=40, n_estimators=100, score=0.915, total=   0.5s\n",
      "[CV] max_depth=40, n_estimators=100 ..................................\n",
      "[CV] ...... max_depth=40, n_estimators=100, score=0.902, total=   0.5s\n",
      "[CV] max_depth=40, n_estimators=100 ..................................\n",
      "[CV] ...... max_depth=40, n_estimators=100, score=0.913, total=   0.5s\n",
      "[CV] max_depth=40, n_estimators=100 ..................................\n",
      "[CV] ...... max_depth=40, n_estimators=100, score=0.908, total=   0.5s\n",
      "[CV] max_depth=40, n_estimators=100 ..................................\n",
      "[CV] ...... max_depth=40, n_estimators=100, score=0.896, total=   0.5s\n",
      "[CV] max_depth=40, n_estimators=200 ..................................\n",
      "[CV] ...... max_depth=40, n_estimators=200, score=0.915, total=   0.7s\n",
      "[CV] max_depth=40, n_estimators=200 ..................................\n",
      "[CV] ...... max_depth=40, n_estimators=200, score=0.903, total=   0.7s\n",
      "[CV] max_depth=40, n_estimators=200 ..................................\n",
      "[CV] ...... max_depth=40, n_estimators=200, score=0.917, total=   0.7s\n",
      "[CV] max_depth=40, n_estimators=200 ..................................\n",
      "[CV] ...... max_depth=40, n_estimators=200, score=0.908, total=   0.7s\n",
      "[CV] max_depth=40, n_estimators=200 ..................................\n",
      "[CV] ...... max_depth=40, n_estimators=200, score=0.900, total=   0.8s\n",
      "[CV] max_depth=40, n_estimators=300 ..................................\n",
      "[CV] ...... max_depth=40, n_estimators=300, score=0.914, total=   0.9s\n",
      "[CV] max_depth=40, n_estimators=300 ..................................\n",
      "[CV] ...... max_depth=40, n_estimators=300, score=0.905, total=   0.9s\n",
      "[CV] max_depth=40, n_estimators=300 ..................................\n",
      "[CV] ...... max_depth=40, n_estimators=300, score=0.917, total=   0.9s\n",
      "[CV] max_depth=40, n_estimators=300 ..................................\n",
      "[CV] ...... max_depth=40, n_estimators=300, score=0.908, total=   0.9s\n",
      "[CV] max_depth=40, n_estimators=300 ..................................\n",
      "[CV] ...... max_depth=40, n_estimators=300, score=0.900, total=   0.9s\n",
      "[CV] max_depth=40, n_estimators=400 ..................................\n",
      "[CV] ...... max_depth=40, n_estimators=400, score=0.914, total=   1.1s\n",
      "[CV] max_depth=40, n_estimators=400 ..................................\n",
      "[CV] ...... max_depth=40, n_estimators=400, score=0.903, total=   1.1s\n",
      "[CV] max_depth=40, n_estimators=400 ..................................\n",
      "[CV] ...... max_depth=40, n_estimators=400, score=0.915, total=   1.1s\n",
      "[CV] max_depth=40, n_estimators=400 ..................................\n",
      "[CV] ...... max_depth=40, n_estimators=400, score=0.908, total=   1.1s\n",
      "[CV] max_depth=40, n_estimators=400 ..................................\n",
      "[CV] ...... max_depth=40, n_estimators=400, score=0.902, total=   1.1s\n",
      "[CV] max_depth=40, n_estimators=500 ..................................\n",
      "[CV] ...... max_depth=40, n_estimators=500, score=0.914, total=   1.3s\n",
      "[CV] max_depth=40, n_estimators=500 ..................................\n",
      "[CV] ...... max_depth=40, n_estimators=500, score=0.903, total=   1.3s\n",
      "[CV] max_depth=40, n_estimators=500 ..................................\n",
      "[CV] ...... max_depth=40, n_estimators=500, score=0.913, total=   1.3s\n",
      "[CV] max_depth=40, n_estimators=500 ..................................\n",
      "[CV] ...... max_depth=40, n_estimators=500, score=0.909, total=   1.3s\n",
      "[CV] max_depth=40, n_estimators=500 ..................................\n",
      "[CV] ...... max_depth=40, n_estimators=500, score=0.902, total=   1.3s\n"
     ]
    },
    {
     "name": "stderr",
     "output_type": "stream",
     "text": [
      "[Parallel(n_jobs=1)]: Done 175 out of 175 | elapsed:  2.7min finished\n"
     ]
    }
   ],
   "source": [
    "search = GridSearchCV(clf_xg, param_grid, scoring='accuracy',\n",
    "                      verbose=4).fit(x_train_encode, y_train_encode)"
   ]
  },
  {
   "cell_type": "markdown",
   "metadata": {},
   "source": [
    "The results from the `GridSearchCV` gives us the best parameters for the classifiers."
   ]
  },
  {
   "cell_type": "code",
   "execution_count": 12,
   "metadata": {
    "ExecuteTime": {
     "end_time": "2021-07-26T10:37:41.597419Z",
     "start_time": "2021-07-26T10:37:41.594465Z"
    }
   },
   "outputs": [
    {
     "data": {
      "text/plain": [
       "{'max_depth': 25, 'n_estimators': 300}"
      ]
     },
     "execution_count": 12,
     "metadata": {},
     "output_type": "execute_result"
    }
   ],
   "source": [
    "search.best_params_ ## For the XGB classifier"
   ]
  },
  {
   "cell_type": "code",
   "execution_count": 13,
   "metadata": {
    "ExecuteTime": {
     "end_time": "2021-07-26T10:39:23.769732Z",
     "start_time": "2021-07-26T10:37:41.598250Z"
    }
   },
   "outputs": [
    {
     "name": "stdout",
     "output_type": "stream",
     "text": [
      "Fitting 5 folds for each of 35 candidates, totalling 175 fits\n"
     ]
    },
    {
     "name": "stderr",
     "output_type": "stream",
     "text": [
      "[Parallel(n_jobs=6)]: Using backend LokyBackend with 6 concurrent workers.\n",
      "[Parallel(n_jobs=6)]: Done  13 tasks      | elapsed:    7.4s\n",
      "[Parallel(n_jobs=6)]: Done  86 tasks      | elapsed:   46.6s\n",
      "[Parallel(n_jobs=6)]: Done 175 out of 175 | elapsed:  1.7min finished\n"
     ]
    }
   ],
   "source": [
    "search2 = GridSearchCV(clf_rf, param_grid, scoring='accuracy', n_jobs=6,\n",
    "                       verbose=4).fit(x_train_encode, y_train_encode)"
   ]
  },
  {
   "cell_type": "code",
   "execution_count": 14,
   "metadata": {
    "ExecuteTime": {
     "end_time": "2021-07-26T10:39:23.777755Z",
     "start_time": "2021-07-26T10:39:23.772519Z"
    }
   },
   "outputs": [
    {
     "data": {
      "text/plain": [
       "{'max_depth': 25, 'n_estimators': 200}"
      ]
     },
     "execution_count": 14,
     "metadata": {},
     "output_type": "execute_result"
    }
   ],
   "source": [
    "search2.best_params_ ## For the RF classifier"
   ]
  },
  {
   "cell_type": "markdown",
   "metadata": {},
   "source": [
    "Then, we use those values for the n_estimator and max_depth in these two classifiers."
   ]
  },
  {
   "cell_type": "code",
   "execution_count": 15,
   "metadata": {
    "ExecuteTime": {
     "end_time": "2021-07-26T10:39:23.786272Z",
     "start_time": "2021-07-26T10:39:23.779631Z"
    }
   },
   "outputs": [],
   "source": [
    "clf_xg2 = xgb.XGBClassifier(n_estimators=search.best_params_['n_estimators'],\n",
    "                            max_depth=search.best_params_['max_depth'],\n",
    "                            random_state=42, use_label_encoder=False, eval_metric='logloss')\n",
    "clf_rf2 = RandomForestClassifier(n_estimators=search2.best_params_['n_estimators'],\n",
    "                                 max_depth=search2.best_params_['max_depth'], random_state=42)"
   ]
  },
  {
   "cell_type": "markdown",
   "metadata": {
    "ExecuteTime": {
     "end_time": "2021-01-22T10:38:42.989975Z",
     "start_time": "2021-01-22T10:38:42.985050Z"
    }
   },
   "source": [
    "##### Minor check on the calibration curve"
   ]
  },
  {
   "cell_type": "markdown",
   "metadata": {},
   "source": [
    "We add a simple calibration plot to see if the probabilistic predictions of the classifiers are calibrated."
   ]
  },
  {
   "cell_type": "code",
   "execution_count": 16,
   "metadata": {
    "ExecuteTime": {
     "end_time": "2021-07-26T10:39:27.474589Z",
     "start_time": "2021-07-26T10:39:23.787118Z"
    }
   },
   "outputs": [
    {
     "data": {
      "image/png": "[encoded data removed]",
      "text/plain": [
       "<Figure size 720x720 with 2 Axes>"
      ]
     },
     "metadata": {
      "needs_background": "light"
     },
     "output_type": "display_data"
    }
   ],
   "source": [
    "plt.figure(figsize=(10, 10))\n",
    "ax1 = plt.subplot2grid((3, 1), (0, 0), rowspan=2)\n",
    "ax2 = plt.subplot2grid((3, 1), (2, 0))\n",
    "\n",
    "ax1.plot([0, 1], [0, 1], \"k:\", label=\"Perfectly calibrated\")\n",
    "for clf, name in [(clf_xg2, 'XBG'),\n",
    "                  (clf_rf2, 'Random Forest')]:\n",
    "    clf.fit(x_train_encode, y_train_encode)\n",
    "    if hasattr(clf, \"predict_proba\"):\n",
    "        prob_pos = clf.predict_proba(x_test_encode)[:, 1]\n",
    "    else:  # use decision function\n",
    "        prob_pos = clf.decision_function(x_test_encode)\n",
    "        prob_pos = (prob_pos - prob_pos.min()) / (prob_pos.max() - prob_pos.min())\n",
    "    fraction_of_positives, mean_predicted_value = calibration_curve(y_test_encode,\n",
    "                                                                    prob_pos, n_bins=20)\n",
    "    ax1.plot(mean_predicted_value, fraction_of_positives, \"s-\",\n",
    "             label=\"%s\" % (name, ))\n",
    "\n",
    "    ax2.hist(prob_pos, range=(0, 1), bins=20, label=name,\n",
    "             histtype=\"step\", lw=2)\n",
    "\n",
    "ax1.set_ylabel(\"Fraction of positives\")\n",
    "ax1.set_ylim([-0.05, 1.05])\n",
    "ax1.legend(loc=\"lower right\")\n",
    "ax1.set_title('Calibration plots (reliability curve)')\n",
    "\n",
    "ax2.set_xlabel(\"Mean predicted value\")\n",
    "ax2.set_ylabel(\"Count\")\n",
    "ax2.legend(loc=\"upper center\", ncol=2)\n",
    "\n",
    "plt.tight_layout()\n",
    "plt.show()"
   ]
  },
  {
   "cell_type": "markdown",
   "metadata": {},
   "source": [
    "##### Notebook info"
   ]
  },
  {
   "cell_type": "code",
   "execution_count": 17,
   "metadata": {
    "ExecuteTime": {
     "end_time": "2021-07-26T10:39:27.543235Z",
     "start_time": "2021-07-26T10:39:27.475497Z"
    }
   },
   "outputs": [
    {
     "name": "stdout",
     "output_type": "stream",
     "text": [
      "Author: Andres Ramos\n",
      "\n",
      "Python implementation: CPython\n",
      "Python version       : 3.8.3\n",
      "IPython version      : 7.16.1\n",
      "\n",
      "Compiler    : GCC 7.3.0\n",
      "OS          : Linux\n",
      "Release     : 3.10.0-1160.25.1.el7.x86_64\n",
      "Machine     : x86_64\n",
      "Processor   : x86_64\n",
      "CPU cores   : 8\n",
      "Architecture: 64bit\n",
      "\n",
      "Specific Python packages\n",
      "matplotlib: 3.2.2\n",
      "sys       : 3.8.3 (default, Jul  2 2020, 16:21:59) \n",
      "[GCC 7.3.0]\n",
      "json      : 2.0.9\n",
      "pandas    : 1.2.0\n",
      "logging   : 0.5.1.2\n",
      "numpy     : 1.19.5\n",
      "xgboost   : 1.3.3\n",
      "autopep8  : 1.5.7\n",
      "sklearn   : 0.23.1\n",
      "re        : 2.2.1\n",
      "\n",
      "Watermark: 2.1.0\n",
      "\n"
     ]
    }
   ],
   "source": [
    "%load_ext watermark\n",
    "%watermark -a \"Andres Ramos\" -d -v -m\n",
    "print('Specific Python packages')\n",
    "%watermark -iv -w "
   ]
  },
  {
   "cell_type": "code",
   "execution_count": null,
   "metadata": {},
   "outputs": [],
   "source": []
  }
 ],
 "metadata": {
  "hide_input": false,
  "kernelspec": {
   "display_name": "Python 3",
   "language": "python",
   "name": "python3"
  },
  "language_info": {
   "codemirror_mode": {
    "name": "ipython",
    "version": 3
   },
   "file_extension": ".py",
   "mimetype": "text/x-python",
   "name": "python",
   "nbconvert_exporter": "python",
   "pygments_lexer": "ipython3",
   "version": "3.8.3"
  },
  "toc": {
   "base_numbering": "10",
   "nav_menu": {},
   "number_sections": true,
   "sideBar": true,
   "skip_h1_title": false,
   "title_cell": "Table of Contents",
   "title_sidebar": "Contents",
   "toc_cell": false,
   "toc_position": {
    "height": "calc(100% - 180px)",
    "left": "10px",
    "top": "150px",
    "width": "198px"
   },
   "toc_section_display": true,
   "toc_window_display": true
  },
  "varInspector": {
   "cols": {
    "lenName": 16,
    "lenType": 16,
    "lenVar": 40
   },
   "kernels_config": {
    "python": {
     "delete_cmd_postfix": "",
     "delete_cmd_prefix": "del ",
     "library": "var_list.py",
     "varRefreshCmd": "print(var_dic_list())"
    },
    "r": {
     "delete_cmd_postfix": ") ",
     "delete_cmd_prefix": "rm(",
     "library": "var_list.r",
     "varRefreshCmd": "cat(var_dic_list()) "
    }
   },
   "types_to_exclude": [
    "module",
    "function",
    "builtin_function_or_method",
    "instance",
    "_Feature"
   ],
   "window_display": false
  }
 },
 "nbformat": 4,
 "nbformat_minor": 4
}
