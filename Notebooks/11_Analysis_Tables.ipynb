{
 "cells": [
  {
   "cell_type": "markdown",
   "metadata": {
    "ExecuteTime": {
     "end_time": "2021-04-23T08:35:17.035548Z",
     "start_time": "2021-04-23T08:35:17.030643Z"
    }
   },
   "source": [
    "# Analysis presented in Tables\n",
    "Here we process information that lead to tables useful for analyze the results.\n",
    "First, we import all the important packages"
   ]
  },
  {
   "cell_type": "code",
   "execution_count": 1,
   "metadata": {
    "ExecuteTime": {
     "end_time": "2021-08-05T08:41:17.016214Z",
     "start_time": "2021-08-05T08:41:16.553699Z"
    }
   },
   "outputs": [
    {
     "name": "stdout",
     "output_type": "stream",
     "text": [
      "Using matplotlib backend: Qt5Agg\n",
      "Populating the interactive namespace from numpy and matplotlib\n"
     ]
    }
   ],
   "source": [
    "%pylab\n",
    "%matplotlib inline"
   ]
  },
  {
   "cell_type": "code",
   "execution_count": 2,
   "metadata": {
    "ExecuteTime": {
     "end_time": "2021-08-05T08:41:31.544488Z",
     "start_time": "2021-08-05T08:41:17.966322Z"
    }
   },
   "outputs": [],
   "source": [
    "import pandas as pd\n",
    "import xgboost as xgb\n",
    "import seaborn as sns\n",
    "import astropy.units as u\n",
    "from astropy.table import Table, join\n",
    "\n",
    "from sklearn import preprocessing\n",
    "from sklearn.decomposition import PCA\n",
    "from sklearn.dummy import DummyClassifier\n",
    "from sklearn.feature_selection import RFECV\n",
    "from sklearn.ensemble import RandomForestClassifier\n",
    "from sklearn.model_selection import train_test_split, StratifiedKFold\n",
    "from sklearn.metrics import accuracy_score, f1_score, matthews_corrcoef"
   ]
  },
  {
   "cell_type": "markdown",
   "metadata": {},
   "source": [
    "Additionally, we include some shortcuts to simplify some code"
   ]
  },
  {
   "cell_type": "code",
   "execution_count": 3,
   "metadata": {
    "ExecuteTime": {
     "end_time": "2021-08-05T08:41:31.569499Z",
     "start_time": "2021-08-05T08:41:31.562206Z"
    }
   },
   "outputs": [],
   "source": [
    "def create_table_cig(param_tab, samp, typ_agn):\n",
    "    \"\"\"Calculate the Matthews, Cohen, F1-macro and accuracy of the results\"\"\"\n",
    "    for model in ['SKIRTOR', 'Fritz', 'S37', 'F37']:\n",
    "        mcc = matthews_corrcoef(\n",
    "            param_tab.loc[model][samp], param_tab.loc[model][typ_agn])\n",
    "        f1s = f1_score(param_tab.loc[model][samp],\n",
    "                       param_tab.loc[model][typ_agn], average='macro')\n",
    "        acc = accuracy_score(param_tab.loc[model][samp], param_tab.loc[model][typ_agn])\n",
    "        print(model, round(mcc, 3), round(f1s, 3), round(acc, 3))\n",
    "\n",
    "\n",
    "def create_table_clas(param_tab, samp, typ_agn):\n",
    "    \"\"\"Calculate the Matthwes, Cohen, F1-macro and accuracy of the results from the Classifiers\"\"\"\n",
    "    final_v = []\n",
    "    for model in ['SKIRTOR', 'Fritz', 'S37', 'F37']:\n",
    "        print(model)\n",
    "        x_ini = param_tab.loc[model][samp]\n",
    "        y_ini = param_tab.loc[model][typ_agn]\n",
    "        x_train, x_test, y_train, y_test = train_test_split(x_ini,\n",
    "                                                            y_ini,\n",
    "                                                            test_size=0.20,\n",
    "                                                            random_state=42)\n",
    "        lab_enc = preprocessing.LabelEncoder()\n",
    "        lab_enc.fit(y_ini)\n",
    "        x_train_encode = preprocessing.robust_scale(x_train)\n",
    "        x_test_encode = preprocessing.robust_scale(x_test)\n",
    "        y_train_encode = lab_enc.transform(y_train).reshape(-1, 1).ravel()\n",
    "        y_test_encode = lab_enc.transform(y_test).reshape(-1, 1).ravel()\n",
    "        # This classifiers need to be defined before use\n",
    "        for iclf, clasi in enumerate([clf_rf, clf_xg]):\n",
    "            clasi.fit(x_train_encode, y_train_encode)\n",
    "            mcc = matthews_corrcoef(\n",
    "                y_test_encode, clasi.predict(x_test_encode))\n",
    "            f1s = f1_score(y_test_encode, clasi.predict(\n",
    "                x_test_encode), average='macro')\n",
    "            acc = accuracy_score(y_test_encode, clasi.predict(x_test_encode))\n",
    "            final_v.append([['RandomForest', 'XGBoost'][iclf], model,\n",
    "                            round(mcc, 3), round(f1s, 3), round(acc, 3)])\n",
    "    return np.array(final_v)\n",
    "\n",
    "\n",
    "def selt1_or_selt2(tab_phot):\n",
    "    \"\"\"Select Seyferts 1 and 2 in both VCV and CDS\"\"\"\n",
    "    selec1 = np.logical_and(tab_phot['otype_txt'] == 'Sy1', tab_phot['Sp'] == 'S1')\n",
    "    selec2 = np.logical_and(tab_phot['otype_txt'] == 'Sy2', tab_phot['Sp'] == 'S2')\n",
    "    select_sey = np.logical_or(selec1, selec2)\n",
    "    return tab_phot[select_sey]"
   ]
  },
  {
   "cell_type": "markdown",
   "metadata": {},
   "source": [
    "## Join all clean results"
   ]
  },
  {
   "cell_type": "markdown",
   "metadata": {},
   "source": [
    "We read the results from the models we are going to use"
   ]
  },
  {
   "cell_type": "code",
   "execution_count": 4,
   "metadata": {
    "ExecuteTime": {
     "end_time": "2021-08-05T08:41:32.136748Z",
     "start_time": "2021-08-05T08:41:31.575667Z"
    }
   },
   "outputs": [],
   "source": [
    "ModelS = Table.read('../Data/Final/CIGALEOutputs/Cleanresults_SK.fits', format='fits')\n",
    "ModelF = Table.read('../Data/Final/CIGALEOutputs/Cleanresults_Fr.fits', format='fits')\n",
    "\n",
    "ModelS37 = Table.read('../Data/Final/CIGALEOutputs/Cleanresults_SK37.fits', format='fits')\n",
    "ModelF37 = Table.read('../Data/Final/CIGALEOutputs/Cleanresults_Fr37.fits', format='fits')"
   ]
  },
  {
   "cell_type": "markdown",
   "metadata": {},
   "source": [
    "We also read the original database of galaxies to use the information for the classification"
   ]
  },
  {
   "cell_type": "code",
   "execution_count": 5,
   "metadata": {
    "ExecuteTime": {
     "end_time": "2021-08-05T08:41:32.454160Z",
     "start_time": "2021-08-05T08:41:32.287824Z"
    }
   },
   "outputs": [],
   "source": [
    "Sample = Table.read('../Data/Final/VCV_SMB_otype.txt', format='ascii')\n",
    "Sample.rename_column('main_id', 'id')  # Renamed to use the join with the same id"
   ]
  },
  {
   "cell_type": "markdown",
   "metadata": {},
   "source": [
    "We join these clean tables with the catalog. We send all the tables to pandas format. Then, we concatenate the tables to have an unique table."
   ]
  },
  {
   "cell_type": "code",
   "execution_count": 6,
   "metadata": {
    "ExecuteTime": {
     "end_time": "2021-08-05T08:41:33.043058Z",
     "start_time": "2021-08-05T08:41:32.613374Z"
    }
   },
   "outputs": [],
   "source": [
    "SPandas = join(Sample, ModelS, keys='id').to_pandas()\n",
    "FPandas = join(Sample, ModelF, keys='id').to_pandas()\n",
    "SPandas37 = join(Sample, ModelS37, keys='id').to_pandas()\n",
    "FPandas37 = join(Sample, ModelF37, keys='id').to_pandas()\n",
    "SFPandas = pd.concat([SPandas, FPandas, SPandas37, FPandas37],\n",
    "                     keys=['SKIRTOR', 'Fritz', 'S37', 'F37'],\n",
    "                     names=['Model', 'idCIG'])"
   ]
  },
  {
   "cell_type": "markdown",
   "metadata": {},
   "source": [
    "## Feature selection\n",
    "Here, we selected the features to use in the estimations for the analysis and predictions. First, we select the max number of useful features from CIGALE output.\n",
    "We select the physical parameters in all the models and remove the ones that are not useful for our propose (e.g. constant values)."
   ]
  },
  {
   "cell_type": "code",
   "execution_count": 7,
   "metadata": {
    "ExecuteTime": {
     "end_time": "2021-08-05T08:41:36.699886Z",
     "start_time": "2021-08-05T08:41:35.289074Z"
    }
   },
   "outputs": [],
   "source": [
    "GoodColumns = [col for col in selt1_or_selt2(SFPandas).columns if 'bayes' in col]\n",
    "newdf = selt1_or_selt2(SFPandas)[GoodColumns]\n",
    "Descr = newdf.describe()\n",
    "BadCol = [cl for cl in newdf.columns if Descr[cl]['std'] < 1e-2]  # Removing constant columns\n",
    "newdf = newdf.drop(BadCol, axis=1)\n",
    "# Removing calculated errors\n",
    "BadCol2 = [cl for cl in newdf.columns if '_err' in cl]\n",
    "newdf = newdf.drop(BadCol2, axis=1)\n",
    "# Removing young estimations\n",
    "BadCol3 = [cl for cl in newdf.columns if '_young' in cl]\n",
    "# Removing old estimations\n",
    "BadCol4 = [cl for cl in newdf.columns if '_old' in cl]\n",
    "# Removing estimations with lines\n",
    "BadCol5 = [cl for cl in newdf.columns if '_lines' in cl]\n",
    "# Removing universe values, these are dependent of redshift\n",
    "BadCol6 = [cl for cl in newdf.columns if 'universe' in cl]\n",
    "# Removing filter in the attenuation module\n",
    "BadCol7 = [cl for cl in newdf.columns if 'FUV' in cl]\n",
    "BadCols = np.concatenate([BadCol3, BadCol4, BadCol5, BadCol6, BadCol7])\n",
    "newdf = newdf.drop(BadCols, axis=1)\n",
    "newdf = newdf.dropna(axis='columns')\n",
    "newdf = newdf[newdf.columns[:-31]]  # Remove the mock photometry"
   ]
  },
  {
   "cell_type": "markdown",
   "metadata": {},
   "source": [
    "We split the sample of galaxies into train and test sets. Then, we encode and scale the physical parameters."
   ]
  },
  {
   "cell_type": "code",
   "execution_count": 8,
   "metadata": {
    "ExecuteTime": {
     "end_time": "2021-08-05T08:41:37.142618Z",
     "start_time": "2021-08-05T08:41:37.046747Z"
    }
   },
   "outputs": [],
   "source": [
    "x_ori = newdf\n",
    "y_ori = selt1_or_selt2(SFPandas)['otype_txt']\n",
    "x_train_o, x_test_o, y_train_o, y_test_o = train_test_split(x_ori, y_ori,\n",
    "                                                            test_size=0.20,\n",
    "                                                            random_state=42)\n",
    "lab_enc_o = preprocessing.LabelEncoder()\n",
    "lab_enc_o.fit(y_ori)\n",
    "x_train_encode_o = preprocessing.robust_scale(x_train_o)\n",
    "x_test_encode_o = preprocessing.robust_scale(x_test_o)\n",
    "y_train_encode_o = lab_enc_o.transform(y_train_o).reshape(-1, 1).ravel()\n",
    "y_test_encode_o = lab_enc_o.transform(y_test_o).reshape(-1, 1).ravel()"
   ]
  },
  {
   "cell_type": "markdown",
   "metadata": {},
   "source": [
    "Principal Component Analysis (PCA) shows that only a few physical parameters are needed. More than ~7 if we made a cut at 99% on the variance ratio."
   ]
  },
  {
   "cell_type": "code",
   "execution_count": 9,
   "metadata": {
    "ExecuteTime": {
     "end_time": "2021-08-05T08:41:38.546673Z",
     "start_time": "2021-08-05T08:41:38.209430Z"
    }
   },
   "outputs": [
    {
     "data": {
      "text/plain": [
       "Text(0, 0.5, 'Cumulative explained variance')"
      ]
     },
     "execution_count": 9,
     "metadata": {},
     "output_type": "execute_result"
    },
    {
     "data": {
      "image/png": "[encoded data removed]",
      "text/plain": [
       "<Figure size 864x648 with 1 Axes>"
      ]
     },
     "metadata": {},
     "output_type": "display_data"
    }
   ],
   "source": [
    "x_train_n = ((x_train_encode_o-x_train_encode_o.mean()) /\n",
    "             (x_train_encode_o.max()-x_train_encode_o.min()))\n",
    "# x_test_N = (x_test_encode-x_test_encode.mean())/(x_test_encode.max()-x_test_encode.min())\n",
    "\n",
    "pca = PCA()\n",
    "pca.fit(x_train_n)\n",
    "\n",
    "sns.set()\n",
    "plt.figure(1, figsize=(12, 9))\n",
    "sns.lineplot(data=np.cumsum(pca.explained_variance_ratio_))\n",
    "plt.axhline(y=0.99)\n",
    "plt.axvline(x=7)\n",
    "plt.xlabel('Number of components')\n",
    "plt.ylabel('Cumulative explained variance')"
   ]
  },
  {
   "cell_type": "markdown",
   "metadata": {},
   "source": [
    "We selected two different classifiers ([Random Forest](https://scikit-learn.org/stable/modules/generated/sklearn.ensemble.RandomForestClassifier.html) and [XGBoost](https://xgboost.readthedocs.io/en/latest/python/python_api.html)). We use the parameters values we found previously ([10_PreAnalysis](10_PreAnalysis.ipynb) notebook) from the classifiers ."
   ]
  },
  {
   "cell_type": "code",
   "execution_count": 10,
   "metadata": {
    "ExecuteTime": {
     "end_time": "2021-08-05T08:41:40.821003Z",
     "start_time": "2021-08-05T08:41:40.815712Z"
    }
   },
   "outputs": [],
   "source": [
    "clf_rf = RandomForestClassifier(n_estimators=200, max_depth=25, random_state=42)\n",
    "clf_xg = xgb.XGBClassifier(n_estimators=300, max_depth=25,\n",
    "                           random_state=42, use_label_encoder=False, eval_metric='logloss')"
   ]
  },
  {
   "cell_type": "markdown",
   "metadata": {},
   "source": [
    "We create a feature ranking with recursive feature elimination and cross-validated selection ([RFECV](https://scikit-learn.org/stable/modules/generated/sklearn.feature_selection.RFECV.html)). We evaluate with the accuracy score and we use a 10-fold cross-validation."
   ]
  },
  {
   "cell_type": "code",
   "execution_count": 11,
   "metadata": {
    "ExecuteTime": {
     "end_time": "2021-08-05T09:00:54.874821Z",
     "start_time": "2021-08-05T08:41:45.950941Z"
    }
   },
   "outputs": [
    {
     "name": "stdout",
     "output_type": "stream",
     "text": [
      "Fitting estimator with 24 features.\n",
      "Fitting estimator with 23 features.\n",
      "Fitting estimator with 22 features.\n",
      "Fitting estimator with 21 features.\n",
      "Fitting estimator with 20 features.\n",
      "Fitting estimator with 19 features.\n",
      "Fitting estimator with 18 features.\n",
      "Fitting estimator with 17 features.\n",
      "Fitting estimator with 16 features.\n",
      "Fitting estimator with 15 features.\n",
      "Fitting estimator with 14 features.\n",
      "Fitting estimator with 13 features.\n",
      "Fitting estimator with 12 features.\n",
      "Fitting estimator with 11 features.\n",
      "Fitting estimator with 10 features.\n",
      "Fitting estimator with 9 features.\n",
      "Fitting estimator with 8 features.\n",
      "Fitting estimator with 24 features.\n",
      "Fitting estimator with 23 features.\n",
      "Fitting estimator with 22 features.\n",
      "Fitting estimator with 21 features.\n",
      "Fitting estimator with 20 features.\n",
      "Fitting estimator with 19 features.\n",
      "Fitting estimator with 18 features.\n",
      "Fitting estimator with 17 features.\n",
      "Fitting estimator with 16 features.\n",
      "Fitting estimator with 15 features.\n",
      "Fitting estimator with 14 features.\n",
      "Fitting estimator with 13 features.\n",
      "Fitting estimator with 12 features.\n",
      "Fitting estimator with 11 features.\n",
      "Fitting estimator with 10 features.\n",
      "Fitting estimator with 9 features.\n",
      "Fitting estimator with 8 features.\n",
      "Fitting estimator with 24 features.\n",
      "Fitting estimator with 23 features.\n",
      "Fitting estimator with 22 features.\n",
      "Fitting estimator with 21 features.\n",
      "Fitting estimator with 20 features.\n",
      "Fitting estimator with 19 features.\n",
      "Fitting estimator with 18 features.\n",
      "Fitting estimator with 17 features.\n",
      "Fitting estimator with 16 features.\n",
      "Fitting estimator with 15 features.\n",
      "Fitting estimator with 14 features.\n",
      "Fitting estimator with 13 features.\n",
      "Fitting estimator with 12 features.\n",
      "Fitting estimator with 11 features.\n",
      "Fitting estimator with 10 features.\n",
      "Fitting estimator with 9 features.\n",
      "Fitting estimator with 8 features.\n",
      "Fitting estimator with 24 features.\n",
      "Fitting estimator with 23 features.\n",
      "Fitting estimator with 22 features.\n",
      "Fitting estimator with 21 features.\n",
      "Fitting estimator with 20 features.\n",
      "Fitting estimator with 19 features.\n",
      "Fitting estimator with 18 features.\n",
      "Fitting estimator with 17 features.\n",
      "Fitting estimator with 16 features.\n",
      "Fitting estimator with 15 features.\n",
      "Fitting estimator with 14 features.\n",
      "Fitting estimator with 13 features.\n",
      "Fitting estimator with 12 features.\n",
      "Fitting estimator with 11 features.\n",
      "Fitting estimator with 10 features.\n",
      "Fitting estimator with 9 features.\n",
      "Fitting estimator with 8 features.\n",
      "Fitting estimator with 24 features.\n",
      "Fitting estimator with 23 features.\n",
      "Fitting estimator with 22 features.\n",
      "Fitting estimator with 21 features.\n",
      "Fitting estimator with 20 features.\n",
      "Fitting estimator with 19 features.\n",
      "Fitting estimator with 18 features.\n",
      "Fitting estimator with 17 features.\n",
      "Fitting estimator with 16 features.\n",
      "Fitting estimator with 15 features.\n",
      "Fitting estimator with 14 features.\n",
      "Fitting estimator with 13 features.\n",
      "Fitting estimator with 12 features.\n",
      "Fitting estimator with 11 features.\n",
      "Fitting estimator with 10 features.\n",
      "Fitting estimator with 9 features.\n",
      "Fitting estimator with 8 features.\n",
      "Fitting estimator with 24 features.\n",
      "Fitting estimator with 23 features.\n",
      "Fitting estimator with 22 features.\n",
      "Fitting estimator with 21 features.\n",
      "Fitting estimator with 20 features.\n",
      "Fitting estimator with 19 features.\n",
      "Fitting estimator with 18 features.\n",
      "Fitting estimator with 17 features.\n",
      "Fitting estimator with 16 features.\n",
      "Fitting estimator with 15 features.\n",
      "Fitting estimator with 14 features.\n",
      "Fitting estimator with 13 features.\n",
      "Fitting estimator with 12 features.\n",
      "Fitting estimator with 11 features.\n",
      "Fitting estimator with 10 features.\n",
      "Fitting estimator with 9 features.\n",
      "Fitting estimator with 8 features.\n",
      "Fitting estimator with 24 features.\n",
      "Fitting estimator with 23 features.\n",
      "Fitting estimator with 22 features.\n",
      "Fitting estimator with 21 features.\n",
      "Fitting estimator with 20 features.\n",
      "Fitting estimator with 19 features.\n",
      "Fitting estimator with 18 features.\n",
      "Fitting estimator with 17 features.\n",
      "Fitting estimator with 16 features.\n",
      "Fitting estimator with 15 features.\n",
      "Fitting estimator with 14 features.\n",
      "Fitting estimator with 13 features.\n",
      "Fitting estimator with 12 features.\n",
      "Fitting estimator with 11 features.\n",
      "Fitting estimator with 10 features.\n",
      "Fitting estimator with 9 features.\n",
      "Fitting estimator with 8 features.\n",
      "Fitting estimator with 24 features.\n",
      "Fitting estimator with 23 features.\n",
      "Fitting estimator with 22 features.\n",
      "Fitting estimator with 21 features.\n",
      "Fitting estimator with 20 features.\n",
      "Fitting estimator with 19 features.\n",
      "Fitting estimator with 18 features.\n",
      "Fitting estimator with 17 features.\n",
      "Fitting estimator with 16 features.\n",
      "Fitting estimator with 15 features.\n",
      "Fitting estimator with 14 features.\n",
      "Fitting estimator with 13 features.\n",
      "Fitting estimator with 12 features.\n",
      "Fitting estimator with 11 features.\n",
      "Fitting estimator with 10 features.\n",
      "Fitting estimator with 9 features.\n",
      "Fitting estimator with 8 features.\n",
      "Fitting estimator with 24 features.\n",
      "Fitting estimator with 23 features.\n",
      "Fitting estimator with 22 features.\n",
      "Fitting estimator with 21 features.\n",
      "Fitting estimator with 20 features.\n",
      "Fitting estimator with 19 features.\n",
      "Fitting estimator with 18 features.\n",
      "Fitting estimator with 17 features.\n",
      "Fitting estimator with 16 features.\n",
      "Fitting estimator with 15 features.\n",
      "Fitting estimator with 14 features.\n",
      "Fitting estimator with 13 features.\n",
      "Fitting estimator with 12 features.\n",
      "Fitting estimator with 11 features.\n",
      "Fitting estimator with 10 features.\n",
      "Fitting estimator with 9 features.\n",
      "Fitting estimator with 8 features.\n",
      "Fitting estimator with 24 features.\n",
      "Fitting estimator with 23 features.\n",
      "Fitting estimator with 22 features.\n",
      "Fitting estimator with 21 features.\n",
      "Fitting estimator with 20 features.\n",
      "Fitting estimator with 19 features.\n",
      "Fitting estimator with 18 features.\n",
      "Fitting estimator with 17 features.\n",
      "Fitting estimator with 16 features.\n",
      "Fitting estimator with 15 features.\n",
      "Fitting estimator with 14 features.\n",
      "Fitting estimator with 13 features.\n",
      "Fitting estimator with 12 features.\n",
      "Fitting estimator with 11 features.\n",
      "Fitting estimator with 10 features.\n",
      "Fitting estimator with 9 features.\n",
      "Fitting estimator with 8 features.\n",
      "Fitting estimator with 24 features.\n",
      "Fitting estimator with 23 features.\n",
      "Fitting estimator with 22 features.\n",
      "Optimal number of features : 21\n",
      "Best features : Index(['bayes.agn.EBV', 'bayes.agn.fracAGN', 'bayes.agn.i',\n",
      "       'bayes.attenuation.E_BVs', 'bayes.attenuation.powerlaw_slope',\n",
      "       'bayes.dust.alpha', 'bayes.sfh.age', 'bayes.sfh.tau_main',\n",
      "       'bayes.stellar.age_m_star', 'bayes.agn.accretion_power',\n",
      "       'bayes.agn.disk_luminosity', 'bayes.agn.dust_luminosity',\n",
      "       'bayes.agn.intrin_Lnu_2500A', 'bayes.agn.luminosity',\n",
      "       'bayes.dust.luminosity', 'bayes.sfh.integrated', 'bayes.sfh.sfr',\n",
      "       'bayes.sfh.sfr100Myrs', 'bayes.stellar.lum', 'bayes.stellar.m_gas',\n",
      "       'bayes.stellar.m_star'],\n",
      "      dtype='object')\n"
     ]
    }
   ],
   "source": [
    "rfecv_xg = RFECV(estimator=clf_xg, cv=StratifiedKFold(10),\n",
    "                 scoring='f1_macro', verbose=4, min_features_to_select=7)\n",
    "rfecv_xg = rfecv_xg.fit(x_train_encode_o, y_train_encode_o)\n",
    "print('Optimal number of features :', rfecv_xg.n_features_)\n",
    "print('Best features :', newdf.columns[rfecv_xg.support_])"
   ]
  },
  {
   "cell_type": "markdown",
   "metadata": {},
   "source": [
    "Here the number of correct  classifications is still increasing with the number of features"
   ]
  },
  {
   "cell_type": "code",
   "execution_count": 12,
   "metadata": {
    "ExecuteTime": {
     "end_time": "2021-08-05T09:00:55.447159Z",
     "start_time": "2021-08-05T09:00:55.274225Z"
    }
   },
   "outputs": [
    {
     "data": {
      "text/plain": [
       "Text(0, 0.5, 'Correct classifications')"
      ]
     },
     "execution_count": 12,
     "metadata": {},
     "output_type": "execute_result"
    },
    {
     "data": {
      "image/png": "[encoded data removed]",
      "text/plain": [
       "<Figure size 864x432 with 1 Axes>"
      ]
     },
     "metadata": {},
     "output_type": "display_data"
    }
   ],
   "source": [
    "plt.figure(figsize=(12, 6))\n",
    "plt.plot(range(1, len(rfecv_xg.grid_scores_) + 1),\n",
    "         rfecv_xg.grid_scores_)\n",
    "plt.xlabel('Number of features')\n",
    "plt.ylabel('Correct classifications')"
   ]
  },
  {
   "cell_type": "code",
   "execution_count": 13,
   "metadata": {
    "ExecuteTime": {
     "end_time": "2021-08-05T09:08:10.807000Z",
     "start_time": "2021-08-05T09:00:55.845425Z"
    }
   },
   "outputs": [
    {
     "name": "stdout",
     "output_type": "stream",
     "text": [
      "Optimal number of features : 24\n",
      "Best features : Index(['bayes.agn.EBV', 'bayes.agn.fracAGN', 'bayes.agn.i',\n",
      "       'bayes.attenuation.E_BVs', 'bayes.attenuation.powerlaw_slope',\n",
      "       'bayes.dust.alpha', 'bayes.sfh.age', 'bayes.sfh.age_main',\n",
      "       'bayes.sfh.tau_main', 'bayes.stellar.age_m_star',\n",
      "       'bayes.agn.accretion_power', 'bayes.agn.disk_luminosity',\n",
      "       'bayes.agn.dust_luminosity', 'bayes.agn.intrin_Lnu_2500A',\n",
      "       'bayes.agn.luminosity', 'bayes.dust.luminosity', 'bayes.sfh.integrated',\n",
      "       'bayes.sfh.sfr', 'bayes.sfh.sfr100Myrs', 'bayes.sfh.sfr10Myrs',\n",
      "       'bayes.stellar.lum', 'bayes.stellar.lum_ly', 'bayes.stellar.m_gas',\n",
      "       'bayes.stellar.m_star'],\n",
      "      dtype='object')\n"
     ]
    }
   ],
   "source": [
    "rfecv_rf = RFECV(estimator=clf_rf, cv=StratifiedKFold(10),\n",
    "                 scoring='f1_macro', min_features_to_select=7, verbose=4, n_jobs=-1)\n",
    "rfecv_rf = rfecv_rf.fit(x_train_encode_o, y_train_encode_o)\n",
    "print('Optimal number of features :', rfecv_rf.n_features_)\n",
    "print('Best features :', newdf.columns[rfecv_rf.support_])"
   ]
  },
  {
   "cell_type": "markdown",
   "metadata": {},
   "source": [
    "Here the number of correct classifications also increasing with the number of features"
   ]
  },
  {
   "cell_type": "code",
   "execution_count": 14,
   "metadata": {
    "ExecuteTime": {
     "end_time": "2021-08-05T09:08:11.393773Z",
     "start_time": "2021-08-05T09:08:11.214885Z"
    }
   },
   "outputs": [
    {
     "data": {
      "text/plain": [
       "Text(0, 0.5, 'Correct classifications')"
      ]
     },
     "execution_count": 14,
     "metadata": {},
     "output_type": "execute_result"
    },
    {
     "data": {
      "image/png": "[encoded data removed]",
      "text/plain": [
       "<Figure size 864x432 with 1 Axes>"
      ]
     },
     "metadata": {},
     "output_type": "display_data"
    }
   ],
   "source": [
    "plt.figure(figsize=(12, 6))\n",
    "plt.plot(range(1, len(rfecv_rf.grid_scores_) + 1),\n",
    "         rfecv_rf.grid_scores_)\n",
    "plt.xlabel('Number of features')\n",
    "plt.ylabel('Correct classifications')"
   ]
  },
  {
   "cell_type": "markdown",
   "metadata": {},
   "source": [
    "We can verify the mean feature importance to select the most important physical parameters."
   ]
  },
  {
   "cell_type": "code",
   "execution_count": 15,
   "metadata": {
    "ExecuteTime": {
     "end_time": "2021-08-05T09:08:12.040438Z",
     "start_time": "2021-08-05T09:08:11.798131Z"
    }
   },
   "outputs": [],
   "source": [
    "XGBFI = pd.Series(rfecv_xg.estimator_.feature_importances_, name='XGB',\n",
    "                  index=newdf.columns[rfecv_xg.support_].array)\n",
    "RFFI = pd.Series(rfecv_rf.estimator_.feature_importances_, name='RandomForest',\n",
    "                 index=newdf.columns[rfecv_rf.support_].array)"
   ]
  },
  {
   "cell_type": "markdown",
   "metadata": {},
   "source": [
    "This shows there are 2 features that contributes the most (>10%:AGN disc luminosity and viewing angle), 3 that contribute a considerable amount (5-7%: AGN E(B-V), attenuration E(B-V)s and $\\tau_{main}$) and finally the parameters where the contribution is almost negligible (<3%)."
   ]
  },
  {
   "cell_type": "code",
   "execution_count": 16,
   "metadata": {
    "ExecuteTime": {
     "end_time": "2021-08-05T09:08:12.448782Z",
     "start_time": "2021-08-05T09:08:12.442658Z"
    }
   },
   "outputs": [
    {
     "name": "stdout",
     "output_type": "stream",
     "text": [
      "                                  RandomForest       XGB      mean\n",
      "bayes.agn.disk_luminosity             0.139312  0.356899  0.248105\n",
      "bayes.agn.i                           0.163202  0.089547  0.126375\n",
      "bayes.attenuation.E_BVs               0.063249  0.065587  0.064418\n",
      "bayes.sfh.tau_main                    0.054093  0.058467  0.056280\n",
      "bayes.agn.EBV                         0.070796  0.037295  0.054045\n",
      "bayes.agn.luminosity                  0.042670  0.027139  0.034904\n",
      "bayes.agn.dust_luminosity             0.034915  0.027610  0.031262\n",
      "bayes.stellar.age_m_star              0.026310  0.030723  0.028516\n",
      "bayes.agn.fracAGN                     0.025919  0.030258  0.028089\n",
      "bayes.sfh.sfr                         0.031671  0.023705  0.027688\n",
      "bayes.sfh.integrated                  0.021318  0.033585  0.027451\n",
      "bayes.dust.alpha                      0.030720  0.023975  0.027348\n",
      "bayes.agn.intrin_Lnu_2500A            0.032247  0.021426  0.026836\n",
      "bayes.sfh.age                         0.024090  0.029055  0.026572\n",
      "bayes.attenuation.powerlaw_slope      0.027255  0.023062  0.025158\n",
      "bayes.sfh.sfr100Myrs                  0.027488  0.019579  0.023533\n",
      "bayes.dust.luminosity                 0.021272  0.025049  0.023160\n",
      "bayes.stellar.m_gas                   0.021668  0.020949  0.021309\n",
      "bayes.agn.accretion_power             0.020788  0.020144  0.020466\n",
      "bayes.stellar.m_star                  0.021446  0.018412  0.019929\n",
      "bayes.stellar.lum                     0.019039  0.017535  0.018287\n",
      "bayes.sfh.age_main                    0.024931       NaN       NaN\n",
      "bayes.sfh.sfr10Myrs                   0.029094       NaN       NaN\n",
      "bayes.stellar.lum_ly                  0.026508       NaN       NaN\n"
     ]
    }
   ],
   "source": [
    "feat_imp = pd.concat([RFFI, XGBFI], axis=1)\n",
    "feat_imp['mean'] = feat_imp.mean(axis=1, skipna=False)\n",
    "print(feat_imp.sort_values(by='mean', ascending=False))"
   ]
  },
  {
   "cell_type": "markdown",
   "metadata": {},
   "source": [
    "We selected 7 parameters from these list to do the calculations. We include the 5 parameters with a high feature importance (the ones mentioned before) and we add the star-formation rate (SFR) and the AGN fraction ($f_{AGN}$). These two parameters can give us a better comparison with observational results, and at the same time improve the classification task."
   ]
  },
  {
   "cell_type": "code",
   "execution_count": 17,
   "metadata": {
    "ExecuteTime": {
     "end_time": "2021-08-05T09:08:12.859909Z",
     "start_time": "2021-08-05T09:08:12.858193Z"
    }
   },
   "outputs": [],
   "source": [
    "ManualCols = np.array(['bayes.agn.i',\n",
    "                       'bayes.agn.fracAGN',\n",
    "                       'bayes.agn.disk_luminosity',\n",
    "                       'bayes.agn.EBV',\n",
    "                       'bayes.attenuation.E_BVs',\n",
    "                       'bayes.sfh.sfr',\n",
    "                       'bayes.sfh.tau_main'])"
   ]
  },
  {
   "cell_type": "markdown",
   "metadata": {},
   "source": [
    "##### FIGURE 4\n",
    "Finally, we present the feature importance data in a plot to observe how different the parameters are."
   ]
  },
  {
   "cell_type": "code",
   "execution_count": 19,
   "metadata": {
    "ExecuteTime": {
     "end_time": "2021-08-05T09:30:30.759891Z",
     "start_time": "2021-08-05T09:30:30.531897Z"
    }
   },
   "outputs": [
    {
     "data": {
      "text/plain": [
       "<Figure size 486x391.68 with 0 Axes>"
      ]
     },
     "metadata": {},
     "output_type": "display_data"
    },
    {
     "data": {
      "image/png": "[encoded data removed]",
      "text/plain": [
       "<Figure size 460.8x316.8 with 1 Axes>"
      ]
     },
     "metadata": {},
     "output_type": "display_data"
    }
   ],
   "source": [
    "fe_im = feat_imp.sort_values(by='mean', ascending=False)[:7]\n",
    "sns.set_style(\"white\")\n",
    "# with plt.style.context('seaborn-talk'):\n",
    "with plt.style.context('seaborn-paper'):\n",
    "    plt.rcParams.update({'font.size': 12})\n",
    "    plt.rcParams.update({'axes.labelsize': 12})\n",
    "    plt.rcParams.update({'legend.fontsize': 10})\n",
    "    plt.rcParams.update({'ytick.labelsize': 10})\n",
    "    plt.rcParams.update({'xtick.labelsize': 10})\n",
    "    plt.figure(figsize=(6.75, 5.44))\n",
    "    fe_im.plot.bar(y=['RandomForest', 'XGB'], rot=90)\n",
    "    plt.ylabel('Feature Importance')\n",
    "    plt.xticks(np.arange(7), ('AGN disc luminosity',\n",
    "                              'AGN Viewing angle',\n",
    "                              'E(B-V)',\n",
    "                              'e-folding time',\n",
    "                              'AGN Polar-dust E(B-V)',\n",
    "                              'Total AGN luminosity',\n",
    "                              'Dust luminosity'))\n",
    "    plt.savefig('../Figures/F5.pdf', dpi=300, bbox_inches='tight')  # For Paper\n",
    "#     plt.savefig('../Talk_Figures/F5.png',dpi=300,bbox_inches = 'tight') # For Presentation"
   ]
  },
  {
   "cell_type": "markdown",
   "metadata": {},
   "source": [
    "## Correlation score with CIGALE parameters"
   ]
  },
  {
   "cell_type": "markdown",
   "metadata": {},
   "source": [
    "We define some selection defitions to be used for the classification task"
   ]
  },
  {
   "cell_type": "code",
   "execution_count": 11,
   "metadata": {
    "ExecuteTime": {
     "end_time": "2021-08-04T13:51:29.006725Z",
     "start_time": "2021-08-04T13:51:28.998160Z"
    }
   },
   "outputs": [],
   "source": [
    "def selt1_t2_smb(tab_phot):\n",
    "    \"\"\"Select Seyfert 1 and 2 types from SMB\"\"\"\n",
    "    select_sey = np.logical_or(tab_phot['otype_txt'] == 'Sy1',\n",
    "                               tab_phot['otype_txt'] == 'Sy2')\n",
    "    return tab_phot[select_sey]\n",
    "\n",
    "\n",
    "def selt1_t2_vcv(tab_phot):\n",
    "    \"\"\"Select Seyfert 1 and 2 types from VCV\"\"\"\n",
    "    select_sey = np.logical_or(tab_phot['Sp'] == 'S1', tab_phot['Sp'] == 'S2')\n",
    "    return tab_phot[select_sey]\n",
    "\n",
    "def selt1_xor_selt2(tab_phot):\n",
    "    \"\"\"Select mixed classifications Seyferts 1 and 2 between VCV and CDS\"\"\"\n",
    "    selec1 = np.logical_and(tab_phot['otype_txt'] == 'Sy1', tab_phot['Sp'] == 'S2')\n",
    "    selec2 = np.logical_and(tab_phot['otype_txt'] == 'Sy2', tab_phot['Sp'] == 'S1')\n",
    "    select_sey = np.logical_or(selec1, selec2)\n",
    "    return tab_phot[select_sey]\n",
    "\n",
    "\n",
    "def selt1_or_t2_vcv(tab_phot):\n",
    "    \"\"\"Select numeric Seyfert types in VCV\"\"\"\n",
    "    selc1 = np.logical_and(tab_phot['otype_txt'] ==\n",
    "                           'Sy1', tab_phot['Sp'] == 'S1.0')\n",
    "    selc2 = np.logical_and(tab_phot['otype_txt'] ==\n",
    "                           'Sy1', tab_phot['Sp'] == 'S1.2')\n",
    "    selc3 = np.logical_and(tab_phot['otype_txt'] ==\n",
    "                           'Sy1', tab_phot['Sp'] == 'S1.5')\n",
    "    selc4 = np.logical_and(tab_phot['otype_txt'] ==\n",
    "                           'Sy2', tab_phot['Sp'] == 'S1.8')\n",
    "    selc5 = np.logical_and(tab_phot['otype_txt'] ==\n",
    "                           'Sy2', tab_phot['Sp'] == 'S1.9')\n",
    "    select_sey = np.logical_or.reduce([selc1, selc2, selc3, selc4, selc5])\n",
    "    return tab_phot[select_sey]\n",
    "\n",
    "\n",
    "def selt1_nor_t2(tab_phot):\n",
    "    \"\"\"Select all other types in VCV\"\"\"\n",
    "    i_sec = np.logical_and.reduce([tab_phot['Sp'] != 'S1', tab_phot['Sp'] != 'S2',\n",
    "                                   tab_phot['Sp'] != 'S1.0', tab_phot['Sp'] != 'S1.2',\n",
    "                                   tab_phot['Sp'] != 'S1.5', tab_phot['Sp'] != 'S1.8',\n",
    "                                   tab_phot['Sp'] != 'S1.9'])\n",
    "    return tab_phot[i_sec]"
   ]
  },
  {
   "cell_type": "markdown",
   "metadata": {},
   "source": [
    "If we assume that some of the outputs parameters from CIGALE can be used for the classification task, we can classify (flag) galaxies in Type-1 or Type-2. We selected the viewing angle and the AGN disc luminosity for the classification task. We set a limit in the viewing angle at 45 degrees (does not evolve with redshift), and we define linear fit for the AGN disc luminosity $\\log(\\rm{L}_{\\rm{AGN}}^{\\rm{disc}}) = 9.20 + 8.67\\log(1+z)$ (Check [FIGURE 8](../Figures/F8.pdf) and/or [12_Analysis_Plots](12_Analysis_Plots.ipynb) notebook) in the range of z<=0.6 to separate the two Seyfert types. For higher redshifts we assume the value at z=0.6. We also test what happen if we assume that numerical types from VCV are close to the respective Type-1 or Type-2."
   ]
  },
  {
   "cell_type": "code",
   "execution_count": 12,
   "metadata": {
    "ExecuteTime": {
     "end_time": "2021-08-04T13:51:32.631834Z",
     "start_time": "2021-08-04T13:51:32.627929Z"
    }
   },
   "outputs": [],
   "source": [
    "def sep_sey_typ(redshift):\n",
    "    \"\"\"Polynomial fit for the separation in AGN disc luminosity between Seyfert Types\"\"\"\n",
    "    return 9.20 + 8.67*np.log10(1+redshift)"
   ]
  },
  {
   "cell_type": "code",
   "execution_count": 13,
   "metadata": {
    "ExecuteTime": {
     "end_time": "2021-08-04T13:51:33.813348Z",
     "start_time": "2021-08-04T13:51:33.807548Z"
    }
   },
   "outputs": [
    {
     "name": "stdout",
     "output_type": "stream",
     "text": [
      "10.969720249626867\n"
     ]
    }
   ],
   "source": [
    "# Log-value of the AGN disc luminosity at z>0.6\n",
    "print(sep_sey_typ(0.6))"
   ]
  },
  {
   "cell_type": "code",
   "execution_count": 14,
   "metadata": {
    "ExecuteTime": {
     "end_time": "2021-08-04T13:51:35.964820Z",
     "start_time": "2021-08-04T13:51:35.930606Z"
    }
   },
   "outputs": [],
   "source": [
    "# Separating following the viewing angle\n",
    "SFPandas['TypeAGN_CIG_i'] = np.empty(len(SFPandas))\n",
    "SFPandas.loc[SFPandas['bayes.agn.i'] < 45, 'TypeAGN_CIG_i'] = 'Sy1'\n",
    "SFPandas.loc[SFPandas['bayes.agn.i'] >= 45, 'TypeAGN_CIG_i'] = 'Sy2'\n",
    "SFPandas['TypeAGN_CIG_i2'] = np.empty(len(SFPandas))\n",
    "SFPandas.loc[SFPandas['bayes.agn.i'] < 45, 'TypeAGN_CIG_i2'] = 'S1'\n",
    "SFPandas.loc[SFPandas['bayes.agn.i'] >= 45, 'TypeAGN_CIG_i2'] = 'S2'\n",
    "\n",
    "# Separating following the AGN disc luminosity\n",
    "SFPandas['TypeAGN_CIG_Ldisk'] = np.empty(len(SFPandas))\n",
    "zSF = SFPandas['rvz_redshift']\n",
    "ValueSeparatation = (10**sep_sey_typ(zSF.values) * u.solLum).to(u.W).value\n",
    "ValueSeparatation[zSF > 0.6] = (10**sep_sey_typ(0.6) * u.solLum).to(u.W).value\n",
    "SFPandas.loc[SFPandas['bayes.agn.disk_luminosity'] > ValueSeparatation,\n",
    "             'TypeAGN_CIG_Ldisk'] = 'Sy1'\n",
    "SFPandas.loc[SFPandas['bayes.agn.disk_luminosity'] <= ValueSeparatation,\n",
    "             'TypeAGN_CIG_Ldisk'] = 'Sy2'\n",
    "SFPandas['TypeAGN_CIG_Ldisk2'] = np.empty(len(SFPandas))\n",
    "SFPandas.loc[SFPandas['bayes.agn.disk_luminosity'] > ValueSeparatation,\n",
    "             'TypeAGN_CIG_Ldisk2'] = 'S1'\n",
    "SFPandas.loc[SFPandas['bayes.agn.disk_luminosity'] <= ValueSeparatation,\n",
    "             'TypeAGN_CIG_Ldisk2'] = 'S2'\n",
    "\n",
    "# Separating assuming numerical types close to types 1 and 2\n",
    "SFPandas['TypeAGN_VCV'] = np.empty(len(SFPandas))\n",
    "SFPandas.loc[np.logical_or.reduce([SFPandas['Sp'] == 'S1.0', SFPandas['Sp'] == 'S1.2']),\n",
    "             'TypeAGN_VCV'] = 'S1'\n",
    "SFPandas.loc[np.logical_or.reduce([SFPandas['Sp'] == 'S1.8',\n",
    "                                   SFPandas['Sp'] == 'S1.9', SFPandas['Sp'] == 'S1.5']),\n",
    "             'TypeAGN_VCV'] = 'S2'"
   ]
  },
  {
   "cell_type": "markdown",
   "metadata": {},
   "source": [
    "We test how much the metric scores will change if we select only one of the classifications, for the viewing angle"
   ]
  },
  {
   "cell_type": "code",
   "execution_count": 15,
   "metadata": {
    "ExecuteTime": {
     "end_time": "2021-08-04T13:51:38.529275Z",
     "start_time": "2021-08-04T13:51:37.883238Z"
    }
   },
   "outputs": [
    {
     "name": "stdout",
     "output_type": "stream",
     "text": [
      "SKIRTOR 0.514 0.748 0.813\n",
      "Fritz 0.462 0.72 0.79\n",
      "S37 0.555 0.767 0.832\n",
      "F37 0.512 0.735 0.803\n",
      "SKIRTOR 0.525 0.753 0.819\n",
      "Fritz 0.477 0.727 0.799\n",
      "S37 0.561 0.769 0.836\n",
      "F37 0.512 0.734 0.805\n"
     ]
    }
   ],
   "source": [
    "create_table_cig(selt1_t2_smb(SFPandas), 'otype_txt', 'TypeAGN_CIG_i')\n",
    "create_table_cig(selt1_t2_vcv(SFPandas), 'Sp', 'TypeAGN_CIG_i2')"
   ]
  },
  {
   "cell_type": "markdown",
   "metadata": {},
   "source": [
    "We check also how bad it will be the classifier by selecting mixed classifications"
   ]
  },
  {
   "cell_type": "code",
   "execution_count": 16,
   "metadata": {
    "ExecuteTime": {
     "end_time": "2021-08-04T13:51:39.419069Z",
     "start_time": "2021-08-04T13:51:39.340685Z"
    }
   },
   "outputs": [
    {
     "name": "stdout",
     "output_type": "stream",
     "text": [
      "SKIRTOR 0.065 0.372 0.395\n",
      "Fritz 0.081 0.374 0.396\n",
      "S37 0.045 0.347 0.362\n",
      "F37 0.019 0.256 0.256\n",
      "SKIRTOR -0.065 0.445 0.605\n",
      "Fritz -0.081 0.438 0.604\n",
      "S37 -0.045 0.462 0.638\n",
      "F37 -0.019 0.49 0.744\n"
     ]
    }
   ],
   "source": [
    "create_table_cig(selt1_xor_selt2(SFPandas), 'Sp', 'TypeAGN_CIG_i2')\n",
    "create_table_cig(selt1_xor_selt2(SFPandas), 'otype_txt', 'TypeAGN_CIG_i')"
   ]
  },
  {
   "cell_type": "markdown",
   "metadata": {},
   "source": [
    "When using the intermediate classfication"
   ]
  },
  {
   "cell_type": "code",
   "execution_count": 17,
   "metadata": {
    "ExecuteTime": {
     "end_time": "2021-08-04T13:51:40.627939Z",
     "start_time": "2021-08-04T13:51:40.546034Z"
    }
   },
   "outputs": [
    {
     "name": "stdout",
     "output_type": "stream",
     "text": [
      "SKIRTOR 0.211 0.553 0.581\n",
      "Fritz 0.112 0.539 0.547\n",
      "S37 0.278 0.563 0.596\n",
      "F37 0.188 0.569 0.581\n"
     ]
    }
   ],
   "source": [
    "create_table_cig(selt1_or_t2_vcv(SFPandas), 'TypeAGN_VCV', 'TypeAGN_CIG_i2')"
   ]
  },
  {
   "cell_type": "markdown",
   "metadata": {},
   "source": [
    "Interestingly, when using the split by the AGN disc luminosity we obtain a better constraint"
   ]
  },
  {
   "cell_type": "code",
   "execution_count": 18,
   "metadata": {
    "ExecuteTime": {
     "end_time": "2021-08-04T13:51:43.730212Z",
     "start_time": "2021-08-04T13:51:43.092304Z"
    }
   },
   "outputs": [
    {
     "name": "stdout",
     "output_type": "stream",
     "text": [
      "SKIRTOR 0.61 0.796 0.849\n",
      "Fritz 0.526 0.761 0.835\n",
      "S37 0.598 0.789 0.849\n",
      "F37 0.519 0.757 0.841\n",
      "SKIRTOR 0.614 0.796 0.849\n",
      "Fritz 0.521 0.757 0.833\n",
      "S37 0.599 0.787 0.849\n",
      "F37 0.514 0.752 0.839\n"
     ]
    }
   ],
   "source": [
    "create_table_cig(selt1_t2_smb(SFPandas), 'otype_txt', 'TypeAGN_CIG_Ldisk')\n",
    "create_table_cig(selt1_t2_vcv(SFPandas), 'Sp', 'TypeAGN_CIG_Ldisk2')"
   ]
  },
  {
   "cell_type": "markdown",
   "metadata": {},
   "source": [
    "##### Part TABLE 4\n",
    "Finally, we choose galaxies where SMB and VCV give the same classification. We use this values for comparing with the XGBoost and RandomForest methods. This values are the first part of Table 4."
   ]
  },
  {
   "cell_type": "code",
   "execution_count": 19,
   "metadata": {
    "ExecuteTime": {
     "end_time": "2021-08-04T13:51:47.702887Z",
     "start_time": "2021-08-04T13:51:47.076068Z"
    }
   },
   "outputs": [
    {
     "name": "stdout",
     "output_type": "stream",
     "text": [
      "SKIRTOR 0.541 0.763 0.827\n",
      "Fritz 0.492 0.737 0.808\n",
      "S37 0.58 0.781 0.846\n",
      "F37 0.53 0.746 0.817\n",
      "SKIRTOR 0.635 0.808 0.86\n",
      "Fritz 0.542 0.769 0.842\n",
      "S37 0.621 0.801 0.86\n",
      "F37 0.535 0.764 0.848\n"
     ]
    }
   ],
   "source": [
    "# As these are in both samples it does not matter if we use 'otype_txt' or 'Sp'\n",
    "create_table_cig(selt1_or_selt2(SFPandas), 'otype_txt', 'TypeAGN_CIG_i')\n",
    "create_table_cig(selt1_or_selt2(SFPandas), 'otype_txt', 'TypeAGN_CIG_Ldisk')"
   ]
  },
  {
   "cell_type": "markdown",
   "metadata": {},
   "source": [
    "## Correlation score with with Machine Learning algorithms\n",
    "##### Part TABLE 4\n",
    "We fit the classifiers  with the selected columns. We present the mean feature importance of each of them, together with the same values presented before."
   ]
  },
  {
   "cell_type": "code",
   "execution_count": 22,
   "metadata": {
    "ExecuteTime": {
     "end_time": "2021-08-04T13:52:15.366351Z",
     "start_time": "2021-08-04T13:52:07.093151Z"
    }
   },
   "outputs": [
    {
     "name": "stdout",
     "output_type": "stream",
     "text": [
      "SKIRTOR\n",
      "Fritz\n",
      "S37\n",
      "F37\n"
     ]
    }
   ],
   "source": [
    "TABLE4 = create_table_clas(selt1_or_selt2(SFPandas), ManualCols, 'otype_txt')"
   ]
  },
  {
   "cell_type": "code",
   "execution_count": 23,
   "metadata": {
    "ExecuteTime": {
     "end_time": "2021-08-04T13:52:16.179711Z",
     "start_time": "2021-08-04T13:52:16.175779Z"
    }
   },
   "outputs": [
    {
     "data": {
      "text/html": [
       "<i>Table length=8</i>\n",
       "<table id=\"table140343135766224\" class=\"table-striped table-bordered table-condensed\">\n",
       "<thead><tr><th>col0</th><th>col1</th><th>col2</th><th>col3</th><th>col4</th></tr></thead>\n",
       "<thead><tr><th>str12</th><th>str12</th><th>str12</th><th>str12</th><th>str12</th></tr></thead>\n",
       "<tr><td>RandomForest</td><td>SKIRTOR</td><td>0.717</td><td>0.856</td><td>0.907</td></tr>\n",
       "<tr><td>RandomForest</td><td>Fritz</td><td>0.732</td><td>0.865</td><td>0.913</td></tr>\n",
       "<tr><td>RandomForest</td><td>S37</td><td>0.737</td><td>0.866</td><td>0.914</td></tr>\n",
       "<tr><td>RandomForest</td><td>F37</td><td>0.646</td><td>0.822</td><td>0.9</td></tr>\n",
       "<tr><td>XGBoost</td><td>SKIRTOR</td><td>0.666</td><td>0.833</td><td>0.896</td></tr>\n",
       "<tr><td>XGBoost</td><td>Fritz</td><td>0.68</td><td>0.84</td><td>0.898</td></tr>\n",
       "<tr><td>XGBoost</td><td>S37</td><td>0.716</td><td>0.857</td><td>0.91</td></tr>\n",
       "<tr><td>XGBoost</td><td>F37</td><td>0.707</td><td>0.853</td><td>0.912</td></tr>\n",
       "</table>"
      ],
      "text/plain": [
       "<Table length=8>\n",
       "    col0       col1   col2  col3  col4\n",
       "   str12      str12  str12 str12 str12\n",
       "------------ ------- ----- ----- -----\n",
       "RandomForest SKIRTOR 0.717 0.856 0.907\n",
       "RandomForest   Fritz 0.732 0.865 0.913\n",
       "RandomForest     S37 0.737 0.866 0.914\n",
       "RandomForest     F37 0.646 0.822   0.9\n",
       "     XGBoost SKIRTOR 0.666 0.833 0.896\n",
       "     XGBoost   Fritz  0.68  0.84 0.898\n",
       "     XGBoost     S37 0.716 0.857  0.91\n",
       "     XGBoost     F37 0.707 0.853 0.912"
      ]
     },
     "execution_count": 23,
     "metadata": {},
     "output_type": "execute_result"
    }
   ],
   "source": [
    "Table(TABLE4).group_by('col0')"
   ]
  },
  {
   "cell_type": "markdown",
   "metadata": {},
   "source": [
    "The <tt> DummyClassifier </tt> was used to check the baseline for the metrics in the predictions when using random configurations. So this can be seem as when the classifier gives bad/none results. This numbers are the last part of TABLE 4."
   ]
  },
  {
   "cell_type": "code",
   "execution_count": 24,
   "metadata": {
    "ExecuteTime": {
     "end_time": "2021-08-04T13:52:29.313732Z",
     "start_time": "2021-08-04T13:52:29.019348Z"
    }
   },
   "outputs": [
    {
     "name": "stdout",
     "output_type": "stream",
     "text": [
      "DummyClassifier -0.003 0.499 0.691\n"
     ]
    }
   ],
   "source": [
    "Dclf = DummyClassifier(strategy='stratified', random_state=42)\n",
    "# We use all the AGN models, not the train and test samples (It does not matter which one we use)\n",
    "Dclf.fit(x_ori, y_ori)\n",
    "DumPred = Dclf.predict(x_ori)\n",
    "\n",
    "print('DummyClassifier', round(matthews_corrcoef(y_ori, DumPred), 3),\n",
    "      round(f1_score(y_ori, DumPred, average='macro'), 3),\n",
    "      round(accuracy_score(y_ori, DumPred), 3))"
   ]
  },
  {
   "cell_type": "markdown",
   "metadata": {},
   "source": [
    "## Predict the type of Seyfert in unclassified galaxies\n",
    "Here we select the galaxies with an undefined type (or unknown source) and we predict the type AGN. We compare with just selecting the AGN disc luminosity from CIGALE. As we saw before, the AGN disc luminosity is better in predict the classifications (first part of the TABLE 4)."
   ]
  },
  {
   "cell_type": "code",
   "execution_count": 25,
   "metadata": {
    "ExecuteTime": {
     "end_time": "2021-08-04T13:52:32.281370Z",
     "start_time": "2021-08-04T13:52:32.273159Z"
    }
   },
   "outputs": [],
   "source": [
    "SFPandas['CIG_Pred'] = np.empty(len(SFPandas))*np.nan\n",
    "SFPandas.loc[SFPandas['bayes.agn.disk_luminosity'] > ValueSeparatation,\n",
    "             'CIG_Pred'] = 0\n",
    "SFPandas.loc[SFPandas['bayes.agn.disk_luminosity'] <= ValueSeparatation,\n",
    "             'CIG_Pred'] = 1"
   ]
  },
  {
   "cell_type": "markdown",
   "metadata": {},
   "source": [
    "We then select two types, one where there is no class associated in VCV and SMB, and another when there is no class in VCV or SMB."
   ]
  },
  {
   "cell_type": "code",
   "execution_count": 26,
   "metadata": {
    "ExecuteTime": {
     "end_time": "2021-08-04T13:52:34.202932Z",
     "start_time": "2021-08-04T13:52:34.108978Z"
    }
   },
   "outputs": [],
   "source": [
    "NoClass = SFPandas[np.logical_and(\n",
    "    SFPandas['otype_txt'] == 'SyG', SFPandas['Sp'] == 'S')]\n",
    "SemiClass = SFPandas[np.logical_xor(\n",
    "    SFPandas['otype_txt'] == 'SyG', SFPandas['Sp'] == 'S')]"
   ]
  },
  {
   "cell_type": "code",
   "execution_count": 27,
   "metadata": {
    "ExecuteTime": {
     "end_time": "2021-08-04T13:52:35.410002Z",
     "start_time": "2021-08-04T13:52:35.406969Z"
    }
   },
   "outputs": [
    {
     "name": "stdout",
     "output_type": "stream",
     "text": [
      "Total number of galaxies without a class in neither VCV and SMB and a good fitting: 14\n",
      "Total number of galaxies without a class in VCV or SMB and a good fitting: 45\n"
     ]
    }
   ],
   "source": [
    "print('Total number of galaxies without a class in neither VCV and SMB and a good fitting:',\n",
    "      len(np.unique(NoClass['id'])))\n",
    "print('Total number of galaxies without a class in VCV or SMB and a good fitting:',\n",
    "      len(np.unique(SemiClass['id'])))"
   ]
  },
  {
   "cell_type": "markdown",
   "metadata": {},
   "source": [
    "We create a function to analyze these results in a table"
   ]
  },
  {
   "cell_type": "code",
   "execution_count": 28,
   "metadata": {
    "ExecuteTime": {
     "end_time": "2021-08-04T13:52:51.931417Z",
     "start_time": "2021-08-04T13:52:51.924093Z"
    }
   },
   "outputs": [],
   "source": [
    "def create_table_clas_mod(train_table, pred_table, samp, typ_agn):\n",
    "    \"\"\"Precict the type of the unknown Seyferts \"\"\"\n",
    "    col_pred1 = []\n",
    "    col_pred2 = []\n",
    "    for model in ['SKIRTOR', 'Fritz', 'S37', 'F37']:\n",
    "        x_ini = train_table.loc[model][samp]\n",
    "        y_ini = train_table.loc[model][typ_agn]\n",
    "        x_pre = pred_table.loc[model][samp]\n",
    "        x_train, _, y_train, _ = train_test_split(x_ini, y_ini, test_size=0.20, random_state=42)\n",
    "        lab_enc = preprocessing.LabelEncoder()\n",
    "        lab_enc.fit(y_ini)\n",
    "        x_train_encode = preprocessing.robust_scale(x_train)\n",
    "        y_train_encode = lab_enc.transform(y_train).reshape(-1, 1).ravel()\n",
    "        # These classifiers need to be defined before use\n",
    "        for iclf, clasi in enumerate([clf_rf, clf_xg]):\n",
    "            print(['RF', 'XGB'][iclf], model)\n",
    "            clasi.fit(x_train_encode, y_train_encode)\n",
    "            x_pre_encode = preprocessing.robust_scale(x_pre)\n",
    "            y_pre = clasi.predict(x_pre_encode)\n",
    "            if iclf == 0:\n",
    "                col_pred1 = np.concatenate((col_pred1, y_pre), axis=None)\n",
    "            else:\n",
    "                col_pred2 = np.concatenate((col_pred2, y_pre), axis=None)\n",
    "    pred_table['RF_Pred'] = col_pred1\n",
    "    pred_table['XGB_Pred'] = col_pred2\n",
    "    return pred_table"
   ]
  },
  {
   "cell_type": "code",
   "execution_count": 29,
   "metadata": {
    "ExecuteTime": {
     "end_time": "2021-08-04T13:53:12.268018Z",
     "start_time": "2021-08-04T13:52:56.533274Z"
    },
    "scrolled": true
   },
   "outputs": [
    {
     "name": "stdout",
     "output_type": "stream",
     "text": [
      "RF SKIRTOR\n",
      "XGB SKIRTOR\n",
      "RF Fritz\n",
      "XGB Fritz\n",
      "RF S37\n",
      "XGB S37\n",
      "RF F37\n",
      "XGB F37\n"
     ]
    },
    {
     "name": "stderr",
     "output_type": "stream",
     "text": [
      "<ipython-input-28-093b5ce43c24>:24: SettingWithCopyWarning: \n",
      "A value is trying to be set on a copy of a slice from a DataFrame.\n",
      "Try using .loc[row_indexer,col_indexer] = value instead\n",
      "\n",
      "See the caveats in the documentation: https://pandas.pydata.org/pandas-docs/stable/user_guide/indexing.html#returning-a-view-versus-a-copy\n",
      "  pred_table['RF_Pred'] = col_pred1\n",
      "<ipython-input-28-093b5ce43c24>:25: SettingWithCopyWarning: \n",
      "A value is trying to be set on a copy of a slice from a DataFrame.\n",
      "Try using .loc[row_indexer,col_indexer] = value instead\n",
      "\n",
      "See the caveats in the documentation: https://pandas.pydata.org/pandas-docs/stable/user_guide/indexing.html#returning-a-view-versus-a-copy\n",
      "  pred_table['XGB_Pred'] = col_pred2\n"
     ]
    },
    {
     "name": "stdout",
     "output_type": "stream",
     "text": [
      "RF SKIRTOR\n",
      "XGB SKIRTOR\n",
      "RF Fritz\n",
      "XGB Fritz\n",
      "RF S37\n",
      "XGB S37\n",
      "RF F37\n",
      "XGB F37\n"
     ]
    },
    {
     "name": "stderr",
     "output_type": "stream",
     "text": [
      "<ipython-input-28-093b5ce43c24>:24: SettingWithCopyWarning: \n",
      "A value is trying to be set on a copy of a slice from a DataFrame.\n",
      "Try using .loc[row_indexer,col_indexer] = value instead\n",
      "\n",
      "See the caveats in the documentation: https://pandas.pydata.org/pandas-docs/stable/user_guide/indexing.html#returning-a-view-versus-a-copy\n",
      "  pred_table['RF_Pred'] = col_pred1\n",
      "<ipython-input-28-093b5ce43c24>:25: SettingWithCopyWarning: \n",
      "A value is trying to be set on a copy of a slice from a DataFrame.\n",
      "Try using .loc[row_indexer,col_indexer] = value instead\n",
      "\n",
      "See the caveats in the documentation: https://pandas.pydata.org/pandas-docs/stable/user_guide/indexing.html#returning-a-view-versus-a-copy\n",
      "  pred_table['XGB_Pred'] = col_pred2\n"
     ]
    }
   ],
   "source": [
    "ClassSec = create_table_clas_mod(selt1_or_selt2(SFPandas), NoClass, ManualCols, 'otype_txt')\n",
    "ClassSec2 = create_table_clas_mod(selt1_or_selt2(SFPandas), SemiClass, ManualCols, 'otype_txt')"
   ]
  },
  {
   "cell_type": "markdown",
   "metadata": {},
   "source": [
    "As there are four models in this work, we assume that all of them should give the same (or close to) classification in the final type. And we use the mean to represent these values."
   ]
  },
  {
   "cell_type": "code",
   "execution_count": 30,
   "metadata": {
    "ExecuteTime": {
     "end_time": "2021-08-04T13:53:13.332418Z",
     "start_time": "2021-08-04T13:53:13.324337Z"
    }
   },
   "outputs": [
    {
     "name": "stderr",
     "output_type": "stream",
     "text": [
      "WARNING: Cannot aggregate column 'otype_txt' with type '<U3' [astropy.table.groups]\n"
     ]
    }
   ],
   "source": [
    "TypeTab = Table.from_pandas(ClassSec[['id', 'otype_txt', 'RF_Pred', 'XGB_Pred',\n",
    "                                      'CIG_Pred']]).group_by('id').groups.aggregate(np.mean)"
   ]
  },
  {
   "cell_type": "code",
   "execution_count": 31,
   "metadata": {
    "ExecuteTime": {
     "end_time": "2021-08-04T13:53:14.410715Z",
     "start_time": "2021-08-04T13:53:14.402790Z"
    }
   },
   "outputs": [
    {
     "name": "stderr",
     "output_type": "stream",
     "text": [
      "WARNING: Cannot aggregate column 'otype_txt' with type '<U3' [astropy.table.groups]\n"
     ]
    }
   ],
   "source": [
    "TypeTab2 = Table.from_pandas(ClassSec2[['id', 'otype_txt', 'RF_Pred', 'XGB_Pred',\n",
    "                                        'CIG_Pred']]).group_by('id').groups.aggregate(np.mean)"
   ]
  },
  {
   "cell_type": "code",
   "execution_count": 32,
   "metadata": {
    "ExecuteTime": {
     "end_time": "2021-08-04T13:53:15.474248Z",
     "start_time": "2021-08-04T13:53:15.471925Z"
    }
   },
   "outputs": [],
   "source": [
    "TypeTab['ML_Pred'] = np.mean([TypeTab['RF_Pred'], TypeTab['XGB_Pred']], axis=0)\n",
    "TypeTab2['ML_Pred'] = np.mean([TypeTab2['RF_Pred'], TypeTab2['XGB_Pred']], axis=0)"
   ]
  },
  {
   "cell_type": "markdown",
   "metadata": {},
   "source": [
    "##### TABLE 5\n",
    "We predict the class depending on the average/mean of all the classifications trained in this work. The zeros values mean Sy1 while the ones are Sy2. For the galaxies without any classification we found that one would be Sy2, seven would be Sy1 and the rest (six) are still difficult to classify."
   ]
  },
  {
   "cell_type": "code",
   "execution_count": 33,
   "metadata": {
    "ExecuteTime": {
     "end_time": "2021-08-04T13:53:16.534372Z",
     "start_time": "2021-08-04T13:53:16.531513Z"
    }
   },
   "outputs": [
    {
     "data": {
      "text/html": [
       "<i>Table length=14</i>\n",
       "<table id=\"table140343137001088\" class=\"table-striped table-bordered table-condensed\">\n",
       "<thead><tr><th>id</th><th>RF_Pred</th><th>XGB_Pred</th><th>CIG_Pred</th><th>ML_Pred</th></tr></thead>\n",
       "<thead><tr><th>str23</th><th>float64</th><th>float64</th><th>float64</th><th>float64</th></tr></thead>\n",
       "<tr><td>2MASX J12140343-1921428</td><td>0.0</td><td>0.0</td><td>0.0</td><td>0.0</td></tr>\n",
       "<tr><td>2MASX J18121404+2153047</td><td>0.0</td><td>0.0</td><td>1.0</td><td>0.0</td></tr>\n",
       "<tr><td>2MASX J21560047-2144325</td><td>0.0</td><td>0.25</td><td>1.0</td><td>0.125</td></tr>\n",
       "<tr><td>2MASX J23032790+1443491</td><td>0.0</td><td>0.0</td><td>0.0</td><td>0.0</td></tr>\n",
       "<tr><td>6dFGS gJ234635.0-205845</td><td>0.5</td><td>1.0</td><td>1.0</td><td>0.75</td></tr>\n",
       "<tr><td>CADIS 16-505716</td><td>0.0</td><td>0.0</td><td>0.0</td><td>0.0</td></tr>\n",
       "<tr><td>ESO 373-13</td><td>0.0</td><td>0.25</td><td>1.0</td><td>0.125</td></tr>\n",
       "<tr><td>LEDA 1485346</td><td>0.0</td><td>0.0</td><td>0.0</td><td>0.0</td></tr>\n",
       "<tr><td>LEDA 3095610</td><td>0.0</td><td>0.0</td><td>0.0</td><td>0.0</td></tr>\n",
       "<tr><td>LEDA 3096762</td><td>0.0</td><td>0.0</td><td>0.0</td><td>0.0</td></tr>\n",
       "<tr><td>MCG+00-11-002</td><td>0.0</td><td>0.0</td><td>0.5</td><td>0.0</td></tr>\n",
       "<tr><td>MCG+03-45-003</td><td>0.5</td><td>0.5</td><td>0.5</td><td>0.5</td></tr>\n",
       "<tr><td>QSO B1238+6232</td><td>0.0</td><td>0.0</td><td>1.0</td><td>0.0</td></tr>\n",
       "<tr><td>[HB93] 0248+011A</td><td>0.0</td><td>0.0</td><td>0.0</td><td>0.0</td></tr>\n",
       "</table>"
      ],
      "text/plain": [
       "<Table length=14>\n",
       "           id           RF_Pred XGB_Pred CIG_Pred ML_Pred\n",
       "         str23          float64 float64  float64  float64\n",
       "----------------------- ------- -------- -------- -------\n",
       "2MASX J12140343-1921428     0.0      0.0      0.0     0.0\n",
       "2MASX J18121404+2153047     0.0      0.0      1.0     0.0\n",
       "2MASX J21560047-2144325     0.0     0.25      1.0   0.125\n",
       "2MASX J23032790+1443491     0.0      0.0      0.0     0.0\n",
       "6dFGS gJ234635.0-205845     0.5      1.0      1.0    0.75\n",
       "        CADIS 16-505716     0.0      0.0      0.0     0.0\n",
       "             ESO 373-13     0.0     0.25      1.0   0.125\n",
       "           LEDA 1485346     0.0      0.0      0.0     0.0\n",
       "           LEDA 3095610     0.0      0.0      0.0     0.0\n",
       "           LEDA 3096762     0.0      0.0      0.0     0.0\n",
       "          MCG+00-11-002     0.0      0.0      0.5     0.0\n",
       "          MCG+03-45-003     0.5      0.5      0.5     0.5\n",
       "         QSO B1238+6232     0.0      0.0      1.0     0.0\n",
       "       [HB93] 0248+011A     0.0      0.0      0.0     0.0"
      ]
     },
     "execution_count": 33,
     "metadata": {},
     "output_type": "execute_result"
    }
   ],
   "source": [
    "TypeTab"
   ]
  },
  {
   "cell_type": "markdown",
   "metadata": {},
   "source": [
    "For the galaxies with at a unknown Seyfert classification in VCV or SMB, we found 36/45 Seyfert 1 galaxies. We discuss the results of the classifications in the paper."
   ]
  },
  {
   "cell_type": "code",
   "execution_count": 34,
   "metadata": {
    "ExecuteTime": {
     "end_time": "2021-08-04T13:53:22.003146Z",
     "start_time": "2021-08-04T13:53:21.983515Z"
    }
   },
   "outputs": [
    {
     "data": {
      "text/html": [
       "<i>Table length=20</i>\n",
       "<table id=\"table140343138266992\" class=\"table-striped table-bordered table-condensed\">\n",
       "<thead><tr><th>id</th><th>RF_Pred</th><th>XGB_Pred</th><th>CIG_Pred</th><th>ML_Pred</th><th>Sp</th><th>otype_txt</th></tr></thead>\n",
       "<thead><tr><th>str35</th><th>float64</th><th>float64</th><th>float64</th><th>float64</th><th>str4</th><th>str3</th></tr></thead>\n",
       "<tr><td>2E  2294</td><td>0.0</td><td>0.0</td><td>0.0</td><td>0.0</td><td>S1</td><td>SyG</td></tr>\n",
       "<tr><td>2E  2628</td><td>0.0</td><td>0.0</td><td>0.0</td><td>0.0</td><td>S1.5</td><td>SyG</td></tr>\n",
       "<tr><td>2E  3786</td><td>0.0</td><td>0.0</td><td>0.0</td><td>0.0</td><td>S1.0</td><td>SyG</td></tr>\n",
       "<tr><td>2MASS J00423990+3017514</td><td>0.0</td><td>0.0</td><td>0.0</td><td>0.0</td><td>S1.5</td><td>SyG</td></tr>\n",
       "<tr><td>2MASS J01341936+0146479</td><td>0.0</td><td>0.0</td><td>0.0</td><td>0.0</td><td>S1.0</td><td>SyG</td></tr>\n",
       "<tr><td>2MASS J02500703+0025251</td><td>0.0</td><td>0.0</td><td>0.0</td><td>0.0</td><td>S</td><td>Sy1</td></tr>\n",
       "<tr><td>2MASS J08171856+5201477</td><td>0.0</td><td>0.0</td><td>1.0</td><td>0.0</td><td>S</td><td>Sy1</td></tr>\n",
       "<tr><td>2MASS J09393182+5449092</td><td>0.0</td><td>0.0</td><td>0.0</td><td>0.0</td><td>S</td><td>Sy1</td></tr>\n",
       "<tr><td>2MASS J09455439+4238399</td><td>0.0</td><td>0.0</td><td>0.0</td><td>0.0</td><td>S</td><td>Sy2</td></tr>\n",
       "<tr><td>2MASS J09470326+4640425</td><td>0.0</td><td>0.0</td><td>0.0</td><td>0.0</td><td>S</td><td>Sy1</td></tr>\n",
       "<tr><td>2MASS J09594856+5942505</td><td>0.0</td><td>0.0</td><td>0.0</td><td>0.0</td><td>S</td><td>Sy1</td></tr>\n",
       "<tr><td>2MASS J10102753+4132389</td><td>0.0</td><td>0.0</td><td>0.0</td><td>0.0</td><td>S1.2</td><td>SyG</td></tr>\n",
       "<tr><td>2MASS J10470514+5444060</td><td>0.0</td><td>0.0</td><td>0.0</td><td>0.0</td><td>S</td><td>Sy1</td></tr>\n",
       "<tr><td>2MASS J12002696+3317286</td><td>0.0</td><td>0.0</td><td>0.0</td><td>0.0</td><td>S1.5</td><td>SyG</td></tr>\n",
       "<tr><td>2MASS J15142051+4244453</td><td>0.0</td><td>0.0</td><td>0.0</td><td>0.0</td><td>S</td><td>Sy1</td></tr>\n",
       "<tr><td>2MASSI J0930176+470720</td><td>0.0</td><td>0.0</td><td>0.0</td><td>0.0</td><td>S</td><td>Sy1</td></tr>\n",
       "<tr><td>2MASX J02522087+0043307</td><td>0.0</td><td>0.0</td><td>0.0</td><td>0.0</td><td>S</td><td>Sy1</td></tr>\n",
       "<tr><td>2MASX J02593816+0042167</td><td>0.25</td><td>0.5</td><td>0.0</td><td>0.375</td><td>S</td><td>Sy1</td></tr>\n",
       "<tr><td>2MASX J06374318-7538458</td><td>0.0</td><td>0.0</td><td>0.0</td><td>0.0</td><td>S1.8</td><td>SyG</td></tr>\n",
       "<tr><td>2MASX J09420770+0228053</td><td>0.0</td><td>0.0</td><td>0.0</td><td>0.0</td><td>S2</td><td>SyG</td></tr>\n",
       "</table>"
      ],
      "text/plain": [
       "<Table length=20>\n",
       "           id           RF_Pred XGB_Pred CIG_Pred ML_Pred  Sp  otype_txt\n",
       "         str35          float64 float64  float64  float64 str4    str3  \n",
       "----------------------- ------- -------- -------- ------- ---- ---------\n",
       "               2E  2294     0.0      0.0      0.0     0.0   S1       SyG\n",
       "               2E  2628     0.0      0.0      0.0     0.0 S1.5       SyG\n",
       "               2E  3786     0.0      0.0      0.0     0.0 S1.0       SyG\n",
       "2MASS J00423990+3017514     0.0      0.0      0.0     0.0 S1.5       SyG\n",
       "2MASS J01341936+0146479     0.0      0.0      0.0     0.0 S1.0       SyG\n",
       "2MASS J02500703+0025251     0.0      0.0      0.0     0.0    S       Sy1\n",
       "2MASS J08171856+5201477     0.0      0.0      1.0     0.0    S       Sy1\n",
       "2MASS J09393182+5449092     0.0      0.0      0.0     0.0    S       Sy1\n",
       "2MASS J09455439+4238399     0.0      0.0      0.0     0.0    S       Sy2\n",
       "2MASS J09470326+4640425     0.0      0.0      0.0     0.0    S       Sy1\n",
       "2MASS J09594856+5942505     0.0      0.0      0.0     0.0    S       Sy1\n",
       "2MASS J10102753+4132389     0.0      0.0      0.0     0.0 S1.2       SyG\n",
       "2MASS J10470514+5444060     0.0      0.0      0.0     0.0    S       Sy1\n",
       "2MASS J12002696+3317286     0.0      0.0      0.0     0.0 S1.5       SyG\n",
       "2MASS J15142051+4244453     0.0      0.0      0.0     0.0    S       Sy1\n",
       " 2MASSI J0930176+470720     0.0      0.0      0.0     0.0    S       Sy1\n",
       "2MASX J02522087+0043307     0.0      0.0      0.0     0.0    S       Sy1\n",
       "2MASX J02593816+0042167    0.25      0.5      0.0   0.375    S       Sy1\n",
       "2MASX J06374318-7538458     0.0      0.0      0.0     0.0 S1.8       SyG\n",
       "2MASX J09420770+0228053     0.0      0.0      0.0     0.0   S2       SyG"
      ]
     },
     "execution_count": 34,
     "metadata": {},
     "output_type": "execute_result"
    }
   ],
   "source": [
    "join(TypeTab2[:20], Sample['id', 'Sp', 'otype_txt'])"
   ]
  },
  {
   "cell_type": "code",
   "execution_count": 35,
   "metadata": {
    "ExecuteTime": {
     "end_time": "2021-08-04T13:53:27.024014Z",
     "start_time": "2021-08-04T13:53:27.005486Z"
    }
   },
   "outputs": [
    {
     "data": {
      "text/html": [
       "<i>Table length=20</i>\n",
       "<table id=\"table140343135225936\" class=\"table-striped table-bordered table-condensed\">\n",
       "<thead><tr><th>id</th><th>RF_Pred</th><th>XGB_Pred</th><th>CIG_Pred</th><th>ML_Pred</th><th>Sp</th><th>otype_txt</th></tr></thead>\n",
       "<thead><tr><th>str35</th><th>float64</th><th>float64</th><th>float64</th><th>float64</th><th>str4</th><th>str3</th></tr></thead>\n",
       "<tr><td>2MASX J09443702-2633554</td><td>0.0</td><td>0.0</td><td>0.0</td><td>0.0</td><td>S1.5</td><td>SyG</td></tr>\n",
       "<tr><td>2MASX J09483841+4030436</td><td>0.75</td><td>0.75</td><td>1.0</td><td>0.75</td><td>S</td><td>Sy1</td></tr>\n",
       "<tr><td>2MASX J10155660-2002268</td><td>0.5</td><td>0.75</td><td>0.0</td><td>0.625</td><td>S1</td><td>SyG</td></tr>\n",
       "<tr><td>2MASX J10194946+3322041</td><td>0.0</td><td>0.0</td><td>0.0</td><td>0.0</td><td>S</td><td>Sy2</td></tr>\n",
       "<tr><td>2MASX J15085291+6814074</td><td>0.0</td><td>0.25</td><td>0.0</td><td>0.125</td><td>S1.8</td><td>SyG</td></tr>\n",
       "<tr><td>2MASX J16383091-2055246</td><td>0.75</td><td>1.0</td><td>0.5</td><td>0.875</td><td>S1</td><td>SyG</td></tr>\n",
       "<tr><td>2MASX J21033788-0455396</td><td>0.0</td><td>0.0</td><td>0.0</td><td>0.0</td><td>S1.9</td><td>SyG</td></tr>\n",
       "<tr><td>2MASX J21512498-0757558</td><td>1.0</td><td>1.0</td><td>1.0</td><td>1.0</td><td>S</td><td>Sy1</td></tr>\n",
       "<tr><td>2MASX J22024516-1304538</td><td>0.0</td><td>0.0</td><td>0.0</td><td>0.0</td><td>S1.8</td><td>SyG</td></tr>\n",
       "<tr><td>2dFGRS TGN357Z241</td><td>0.0</td><td>0.0</td><td>0.0</td><td>0.0</td><td>S1.2</td><td>SyG</td></tr>\n",
       "<tr><td>3C 286</td><td>0.0</td><td>0.0</td><td>0.0</td><td>0.0</td><td>S1.5</td><td>SyG</td></tr>\n",
       "<tr><td>6dFGS gJ034205.4-370322</td><td>0.0</td><td>0.0</td><td>0.0</td><td>0.0</td><td>S1</td><td>SyG</td></tr>\n",
       "<tr><td>6dFGS gJ043944.9-454043</td><td>0.0</td><td>0.0</td><td>0.0</td><td>0.0</td><td>S1</td><td>SyG</td></tr>\n",
       "<tr><td>6dFGS gJ084628.7-121409</td><td>0.0</td><td>0.0</td><td>0.0</td><td>0.0</td><td>S1.5</td><td>SyG</td></tr>\n",
       "<tr><td>CTS   11</td><td>0.0</td><td>0.0</td><td>0.0</td><td>0.0</td><td>S1</td><td>SyG</td></tr>\n",
       "<tr><td>HE 0226-4110</td><td>0.0</td><td>0.0</td><td>0.0</td><td>0.0</td><td>S1.0</td><td>SyG</td></tr>\n",
       "<tr><td>ICRF J025937.6+423549</td><td>0.0</td><td>0.0</td><td>0.0</td><td>0.0</td><td>S1.5</td><td>SyG</td></tr>\n",
       "<tr><td>ICRF J081100.6+571412</td><td>0.0</td><td>0.0</td><td>0.0</td><td>0.0</td><td>S1.5</td><td>SyG</td></tr>\n",
       "<tr><td>ICRF J100646.4-215920</td><td>0.0</td><td>0.0</td><td>0.0</td><td>0.0</td><td>S1.0</td><td>SyG</td></tr>\n",
       "<tr><td>ICRF J110153.4+624150</td><td>0.0</td><td>0.0</td><td>0.0</td><td>0.0</td><td>S1.5</td><td>SyG</td></tr>\n",
       "</table>"
      ],
      "text/plain": [
       "<Table length=20>\n",
       "           id           RF_Pred XGB_Pred CIG_Pred ML_Pred  Sp  otype_txt\n",
       "         str35          float64 float64  float64  float64 str4    str3  \n",
       "----------------------- ------- -------- -------- ------- ---- ---------\n",
       "2MASX J09443702-2633554     0.0      0.0      0.0     0.0 S1.5       SyG\n",
       "2MASX J09483841+4030436    0.75     0.75      1.0    0.75    S       Sy1\n",
       "2MASX J10155660-2002268     0.5     0.75      0.0   0.625   S1       SyG\n",
       "2MASX J10194946+3322041     0.0      0.0      0.0     0.0    S       Sy2\n",
       "2MASX J15085291+6814074     0.0     0.25      0.0   0.125 S1.8       SyG\n",
       "2MASX J16383091-2055246    0.75      1.0      0.5   0.875   S1       SyG\n",
       "2MASX J21033788-0455396     0.0      0.0      0.0     0.0 S1.9       SyG\n",
       "2MASX J21512498-0757558     1.0      1.0      1.0     1.0    S       Sy1\n",
       "2MASX J22024516-1304538     0.0      0.0      0.0     0.0 S1.8       SyG\n",
       "      2dFGRS TGN357Z241     0.0      0.0      0.0     0.0 S1.2       SyG\n",
       "                 3C 286     0.0      0.0      0.0     0.0 S1.5       SyG\n",
       "6dFGS gJ034205.4-370322     0.0      0.0      0.0     0.0   S1       SyG\n",
       "6dFGS gJ043944.9-454043     0.0      0.0      0.0     0.0   S1       SyG\n",
       "6dFGS gJ084628.7-121409     0.0      0.0      0.0     0.0 S1.5       SyG\n",
       "               CTS   11     0.0      0.0      0.0     0.0   S1       SyG\n",
       "           HE 0226-4110     0.0      0.0      0.0     0.0 S1.0       SyG\n",
       "  ICRF J025937.6+423549     0.0      0.0      0.0     0.0 S1.5       SyG\n",
       "  ICRF J081100.6+571412     0.0      0.0      0.0     0.0 S1.5       SyG\n",
       "  ICRF J100646.4-215920     0.0      0.0      0.0     0.0 S1.0       SyG\n",
       "  ICRF J110153.4+624150     0.0      0.0      0.0     0.0 S1.5       SyG"
      ]
     },
     "execution_count": 35,
     "metadata": {},
     "output_type": "execute_result"
    }
   ],
   "source": [
    "join(TypeTab2[20:40], Sample['id', 'Sp', 'otype_txt'])"
   ]
  },
  {
   "cell_type": "code",
   "execution_count": 36,
   "metadata": {
    "ExecuteTime": {
     "end_time": "2021-08-04T13:53:34.703776Z",
     "start_time": "2021-08-04T13:53:34.684871Z"
    }
   },
   "outputs": [
    {
     "data": {
      "text/html": [
       "<i>Table length=5</i>\n",
       "<table id=\"table140343138289456\" class=\"table-striped table-bordered table-condensed\">\n",
       "<thead><tr><th>id</th><th>RF_Pred</th><th>XGB_Pred</th><th>CIG_Pred</th><th>ML_Pred</th><th>Sp</th><th>otype_txt</th></tr></thead>\n",
       "<thead><tr><th>str35</th><th>float64</th><th>float64</th><th>float64</th><th>float64</th><th>str4</th><th>str3</th></tr></thead>\n",
       "<tr><td>ICRF J135704.4+191907</td><td>0.0</td><td>0.0</td><td>0.0</td><td>0.0</td><td>S1.5</td><td>SyG</td></tr>\n",
       "<tr><td>IRAS 10295-1831</td><td>0.25</td><td>0.25</td><td>0.0</td><td>0.25</td><td>S1.5</td><td>SyG</td></tr>\n",
       "<tr><td>Mrk 1361</td><td>1.0</td><td>1.0</td><td>0.5</td><td>1.0</td><td>S</td><td>Sy2</td></tr>\n",
       "<tr><td>PB   162</td><td>0.0</td><td>0.0</td><td>0.5</td><td>0.0</td><td>S</td><td>Sy1</td></tr>\n",
       "<tr><td>UGC 10683</td><td>0.0</td><td>1.0</td><td>1.0</td><td>0.5</td><td>S1.5</td><td>SyG</td></tr>\n",
       "</table>"
      ],
      "text/plain": [
       "<Table length=5>\n",
       "          id          RF_Pred XGB_Pred CIG_Pred ML_Pred  Sp  otype_txt\n",
       "        str35         float64 float64  float64  float64 str4    str3  \n",
       "--------------------- ------- -------- -------- ------- ---- ---------\n",
       "ICRF J135704.4+191907     0.0      0.0      0.0     0.0 S1.5       SyG\n",
       "      IRAS 10295-1831    0.25     0.25      0.0    0.25 S1.5       SyG\n",
       "             Mrk 1361     1.0      1.0      0.5     1.0    S       Sy2\n",
       "             PB   162     0.0      0.0      0.5     0.0    S       Sy1\n",
       "            UGC 10683     0.0      1.0      1.0     0.5 S1.5       SyG"
      ]
     },
     "execution_count": 36,
     "metadata": {},
     "output_type": "execute_result"
    }
   ],
   "source": [
    "join(TypeTab2[40:], Sample['id', 'Sp', 'otype_txt'])"
   ]
  },
  {
   "cell_type": "markdown",
   "metadata": {},
   "source": [
    "##### Notebook info"
   ]
  },
  {
   "cell_type": "code",
   "execution_count": 37,
   "metadata": {
    "ExecuteTime": {
     "end_time": "2021-08-04T13:53:36.631679Z",
     "start_time": "2021-08-04T13:53:36.507560Z"
    }
   },
   "outputs": [
    {
     "name": "stdout",
     "output_type": "stream",
     "text": [
      "Author: Andres Ramos\n",
      "\n",
      "Python implementation: CPython\n",
      "Python version       : 3.8.3\n",
      "IPython version      : 7.16.1\n",
      "\n",
      "Compiler    : GCC 7.3.0\n",
      "OS          : Linux\n",
      "Release     : 3.10.0-1160.25.1.el7.x86_64\n",
      "Machine     : x86_64\n",
      "Processor   : x86_64\n",
      "CPU cores   : 8\n",
      "Architecture: 64bit\n",
      "\n",
      "Specific Python packages\n",
      "autopep8  : 1.5.7\n",
      "sklearn   : 0.23.1\n",
      "seaborn   : 0.11.1\n",
      "matplotlib: 3.2.2\n",
      "numpy     : 1.19.5\n",
      "json      : 2.0.9\n",
      "logging   : 0.5.1.2\n",
      "xgboost   : 1.3.3\n",
      "re        : 2.2.1\n",
      "sys       : 3.8.3 (default, Jul  2 2020, 16:21:59) \n",
      "[GCC 7.3.0]\n",
      "astropy   : 4.2\n",
      "pandas    : 1.2.0\n",
      "\n",
      "Watermark: 2.1.0\n",
      "\n"
     ]
    }
   ],
   "source": [
    "%load_ext watermark\n",
    "%watermark -a \"Andres Ramos\" -d -v -m\n",
    "print('Specific Python packages')\n",
    "%watermark -iv -w"
   ]
  },
  {
   "cell_type": "code",
   "execution_count": null,
   "metadata": {},
   "outputs": [],
   "source": []
  }
 ],
 "metadata": {
  "hide_input": false,
  "kernelspec": {
   "display_name": "Python 3",
   "language": "python",
   "name": "python3"
  },
  "language_info": {
   "codemirror_mode": {
    "name": "ipython",
    "version": 3
   },
   "file_extension": ".py",
   "mimetype": "text/x-python",
   "name": "python",
   "nbconvert_exporter": "python",
   "pygments_lexer": "ipython3",
   "version": "3.8.3"
  },
  "toc": {
   "base_numbering": "11",
   "nav_menu": {},
   "number_sections": true,
   "sideBar": true,
   "skip_h1_title": false,
   "title_cell": "Table of Contents",
   "title_sidebar": "Contents",
   "toc_cell": false,
   "toc_position": {
    "height": "calc(100% - 180px)",
    "left": "10px",
    "top": "150px",
    "width": "201px"
   },
   "toc_section_display": true,
   "toc_window_display": true
  },
  "varInspector": {
   "cols": {
    "lenName": 16,
    "lenType": 16,
    "lenVar": 40
   },
   "kernels_config": {
    "python": {
     "delete_cmd_postfix": "",
     "delete_cmd_prefix": "del ",
     "library": "var_list.py",
     "varRefreshCmd": "print(var_dic_list())"
    },
    "r": {
     "delete_cmd_postfix": ") ",
     "delete_cmd_prefix": "rm(",
     "library": "var_list.r",
     "varRefreshCmd": "cat(var_dic_list()) "
    }
   },
   "types_to_exclude": [
    "module",
    "function",
    "builtin_function_or_method",
    "instance",
    "_Feature"
   ],
   "window_display": false
  }
 },
 "nbformat": 4,
 "nbformat_minor": 4
}
