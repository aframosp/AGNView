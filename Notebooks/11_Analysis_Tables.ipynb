{
 "cells": [
  {
   "cell_type": "markdown",
   "metadata": {
    "ExecuteTime": {
     "end_time": "2021-04-23T08:35:17.035548Z",
     "start_time": "2021-04-23T08:35:17.030643Z"
    }
   },
   "source": [
    "# Analysis presented in Tables\n",
    "Here we process information that lead to tables useful for analyze the results.\n",
    "First, we import all the important packages"
   ]
  },
  {
   "cell_type": "code",
   "execution_count": 1,
   "metadata": {
    "ExecuteTime": {
     "end_time": "2021-06-17T16:03:44.299215Z",
     "start_time": "2021-06-17T16:03:44.090809Z"
    }
   },
   "outputs": [
    {
     "name": "stdout",
     "output_type": "stream",
     "text": [
      "Using matplotlib backend: Qt5Agg\n",
      "Populating the interactive namespace from numpy and matplotlib\n"
     ]
    }
   ],
   "source": [
    "%pylab\n",
    "%matplotlib inline"
   ]
  },
  {
   "cell_type": "code",
   "execution_count": 2,
   "metadata": {
    "ExecuteTime": {
     "end_time": "2021-06-17T16:03:47.562759Z",
     "start_time": "2021-06-17T16:03:45.037902Z"
    }
   },
   "outputs": [],
   "source": [
    "import pandas as pd\n",
    "import xgboost as xgb\n",
    "import seaborn as sns\n",
    "import astropy.units as u\n",
    "from astropy.table import Table, join\n",
    "\n",
    "from sklearn import preprocessing\n",
    "from sklearn.decomposition import PCA\n",
    "from sklearn.dummy import DummyClassifier\n",
    "from sklearn.feature_selection import RFECV\n",
    "from sklearn.ensemble import RandomForestClassifier\n",
    "from sklearn.inspection import permutation_importance\n",
    "from sklearn.model_selection import train_test_split, StratifiedKFold\n",
    "from sklearn.metrics import accuracy_score, f1_score, matthews_corrcoef"
   ]
  },
  {
   "cell_type": "markdown",
   "metadata": {},
   "source": [
    "Additionally, we include some shortcuts to simplify some code"
   ]
  },
  {
   "cell_type": "code",
   "execution_count": 3,
   "metadata": {
    "ExecuteTime": {
     "end_time": "2021-06-17T16:03:48.710998Z",
     "start_time": "2021-06-17T16:03:48.701518Z"
    }
   },
   "outputs": [],
   "source": [
    "def create_table_cig(param_tab, samp, typ_agn):\n",
    "    \"\"\"Calculate the Matthews, Cohen, F1-macro and accuracy of the results\"\"\"\n",
    "    for model in ['SKIRTOR', 'Fritz', 'S37', 'F37']:\n",
    "        mcc = matthews_corrcoef(\n",
    "            param_tab.loc[model][samp], param_tab.loc[model][typ_agn])\n",
    "        f1s = f1_score(param_tab.loc[model][samp],\n",
    "                       param_tab.loc[model][typ_agn], average='macro')\n",
    "        acc = accuracy_score(param_tab.loc[model][samp], param_tab.loc[model][typ_agn])\n",
    "        print(model, round(mcc, 3), round(f1s, 3), round(acc, 3))\n",
    "\n",
    "\n",
    "def create_table_clas(param_tab, samp, typ_agn):\n",
    "    \"\"\"Calculate the Matthwes, Cohen, F1-macro and accuracy of the results from the Classifiers\"\"\"\n",
    "    final_v = []\n",
    "    for model in ['SKIRTOR', 'Fritz', 'S37', 'F37']:\n",
    "        x_ini = param_tab.loc[model][samp]\n",
    "        y_ini = param_tab.loc[model][typ_agn]\n",
    "        x_train, x_test, y_train, y_test = train_test_split(x_ini,\n",
    "                                                            y_ini,\n",
    "                                                            test_size=0.20,\n",
    "                                                            random_state=42)\n",
    "        lab_enc = preprocessing.LabelEncoder()\n",
    "        lab_enc.fit(y_ini)\n",
    "        x_train_encode = preprocessing.robust_scale(x_train)\n",
    "        x_test_encode = preprocessing.robust_scale(x_test)\n",
    "        y_train_encode = lab_enc.transform(y_train).reshape(-1, 1).ravel()\n",
    "        y_test_encode = lab_enc.transform(y_test).reshape(-1, 1).ravel()\n",
    "        # This classifiers need to be defined before use\n",
    "        for iclf, clasi in enumerate([clf_rf, clf_xg]):\n",
    "            clasi.fit(x_train_encode, y_train_encode)\n",
    "            mcc = matthews_corrcoef(\n",
    "                y_test_encode, clasi.predict(x_test_encode))\n",
    "            f1s = f1_score(y_test_encode, clasi.predict(\n",
    "                x_test_encode), average='macro')\n",
    "            acc = accuracy_score(y_test_encode, clasi.predict(x_test_encode))\n",
    "            final_v.append([['RandomForest', 'XGBoost'][iclf], model,\n",
    "                            round(mcc, 3), round(f1s, 3), round(acc, 3)])\n",
    "            result = permutation_importance(clasi, x_test_encode, y_test_encode, n_repeats=20,\n",
    "                                            random_state=42, n_jobs=-1)\n",
    "#             sorted_idx = result.importances_mean.argsort()\n",
    "            print(result.importances_mean.argsort())\n",
    "    return np.array(final_v)\n",
    "\n",
    "\n",
    "def selt1_or_selt2(tab_phot):\n",
    "    \"\"\"Select Seyferts 1 and 2 in both VCV and CDS\"\"\"\n",
    "    selec1 = np.logical_and(tab_phot['otype_txt'] == 'Sy1', tab_phot['Sp'] == 'S1')\n",
    "    selec2 = np.logical_and(tab_phot['otype_txt'] == 'Sy2', tab_phot['Sp'] == 'S2')\n",
    "    select_sey = np.logical_or(selec1, selec2)\n",
    "    return tab_phot[select_sey]"
   ]
  },
  {
   "cell_type": "markdown",
   "metadata": {},
   "source": [
    "## Join all clean results"
   ]
  },
  {
   "cell_type": "markdown",
   "metadata": {},
   "source": [
    "We read the results from the models we are going to use"
   ]
  },
  {
   "cell_type": "code",
   "execution_count": 4,
   "metadata": {
    "ExecuteTime": {
     "end_time": "2021-06-17T16:03:52.283947Z",
     "start_time": "2021-06-17T16:03:51.728399Z"
    }
   },
   "outputs": [],
   "source": [
    "ModelS = Table.read('../Data/Final/CIGALEOutputs/Cleanresults_SK.fits', format='fits')\n",
    "ModelF = Table.read('../Data/Final/CIGALEOutputs/Cleanresults_Fr.fits', format='fits')\n",
    "\n",
    "ModelS37 = Table.read('../Data/Final/CIGALEOutputs/Cleanresults_SK37.fits', format='fits')\n",
    "ModelF37 = Table.read('../Data/Final/CIGALEOutputs/Cleanresults_Fr37.fits', format='fits')"
   ]
  },
  {
   "cell_type": "markdown",
   "metadata": {},
   "source": [
    "We also read the original database of galaxies to use the information for the classification"
   ]
  },
  {
   "cell_type": "code",
   "execution_count": 5,
   "metadata": {
    "ExecuteTime": {
     "end_time": "2021-06-17T16:03:54.108326Z",
     "start_time": "2021-06-17T16:03:53.932308Z"
    }
   },
   "outputs": [],
   "source": [
    "Sample = Table.read('../Data/Final/VCV_SMB_otype.txt', format='ascii')\n",
    "Sample.rename_column('main_id', 'id')  # Renamed to use the join with the same id"
   ]
  },
  {
   "cell_type": "markdown",
   "metadata": {},
   "source": [
    "We join these clean tables with the catalog. We send all the tables to pandas format. Then, we concatenate the tables to have an unique table."
   ]
  },
  {
   "cell_type": "code",
   "execution_count": 6,
   "metadata": {
    "ExecuteTime": {
     "end_time": "2021-06-17T16:03:55.564545Z",
     "start_time": "2021-06-17T16:03:55.137270Z"
    }
   },
   "outputs": [],
   "source": [
    "SPandas = join(Sample, ModelS, keys='id').to_pandas()\n",
    "FPandas = join(Sample, ModelF, keys='id').to_pandas()\n",
    "SPandas37 = join(Sample, ModelS37, keys='id').to_pandas()\n",
    "FPandas37 = join(Sample, ModelF37, keys='id').to_pandas()\n",
    "SFPandas = pd.concat([SPandas, FPandas, SPandas37, FPandas37],\n",
    "                     keys=['SKIRTOR', 'Fritz', 'S37', 'F37'],\n",
    "                     names=['Model', 'idCIG'])"
   ]
  },
  {
   "cell_type": "markdown",
   "metadata": {},
   "source": [
    "## Feature selection\n",
    "Here, we selected the features to use in the estimations for the analysis and predictions. First, we select the max number of useful features from CIGALE output.\n",
    "We select the physical parameters in all the models and remove the ones that are not useful for our propose (e.g. constant values)."
   ]
  },
  {
   "cell_type": "code",
   "execution_count": 7,
   "metadata": {
    "ExecuteTime": {
     "end_time": "2021-06-17T16:03:57.798042Z",
     "start_time": "2021-06-17T16:03:57.187551Z"
    }
   },
   "outputs": [],
   "source": [
    "GoodColumns = [col for col in selt1_or_selt2(SFPandas).columns if 'bayes' in col]\n",
    "newdf = selt1_or_selt2(SFPandas)[GoodColumns]\n",
    "Descr = newdf.describe()\n",
    "BadCol = [cl for cl in newdf.columns if Descr[cl]['std'] < 1e-2]  # Removing constant columns\n",
    "newdf = newdf.drop(BadCol, axis=1)\n",
    "# Removing calculated errors\n",
    "BadCol2 = [cl for cl in newdf.columns if '_err' in cl]\n",
    "newdf = newdf.drop(BadCol2, axis=1)\n",
    "# Removing young estimations\n",
    "BadCol3 = [cl for cl in newdf.columns if '_young' in cl]\n",
    "# Removing old estimations\n",
    "BadCol4 = [cl for cl in newdf.columns if '_old' in cl]\n",
    "# Removing estimations with lines\n",
    "BadCol5 = [cl for cl in newdf.columns if '_lines' in cl]\n",
    "# Removing universe values, these are dependent of redshift\n",
    "BadCol6 = [cl for cl in newdf.columns if 'universe' in cl]\n",
    "# Removing filter in the attenuation module\n",
    "BadCol7 = [cl for cl in newdf.columns if 'FUV' in cl]\n",
    "BadCols = np.concatenate([BadCol3, BadCol4, BadCol5, BadCol6, BadCol7])\n",
    "newdf = newdf.drop(BadCols, axis=1)\n",
    "newdf = newdf.dropna(axis='columns')\n",
    "newdf = newdf[newdf.columns[:-31]]  # Remove the mock photometry"
   ]
  },
  {
   "cell_type": "markdown",
   "metadata": {},
   "source": [
    "We split the sample of galaxies into train and test sets. Then, we encode and scale the physical parameters."
   ]
  },
  {
   "cell_type": "code",
   "execution_count": 8,
   "metadata": {
    "ExecuteTime": {
     "end_time": "2021-06-17T16:04:00.568656Z",
     "start_time": "2021-06-17T16:04:00.469542Z"
    }
   },
   "outputs": [],
   "source": [
    "x_ori = newdf\n",
    "y_ori = selt1_or_selt2(SFPandas)['otype_txt']\n",
    "x_train_o, x_test_o, y_train_o, y_test_o = train_test_split(x_ori, y_ori,\n",
    "                                                            test_size=0.20,\n",
    "                                                            random_state=42)\n",
    "lab_enc_o = preprocessing.LabelEncoder()\n",
    "lab_enc_o.fit(y_ori)\n",
    "x_train_encode_o = preprocessing.robust_scale(x_train_o)\n",
    "x_test_encode_o = preprocessing.robust_scale(x_test_o)\n",
    "y_train_encode_o = lab_enc_o.transform(y_train_o).reshape(-1, 1).ravel()\n",
    "y_test_encode_o = lab_enc_o.transform(y_test_o).reshape(-1, 1).ravel()"
   ]
  },
  {
   "cell_type": "markdown",
   "metadata": {},
   "source": [
    "Principal Component Analysis (PCA) shows that only a few physical parameters are needed. More than ~6 if we made a cut at 99% on the variance ratio."
   ]
  },
  {
   "cell_type": "code",
   "execution_count": 9,
   "metadata": {
    "ExecuteTime": {
     "end_time": "2021-06-17T16:04:10.095629Z",
     "start_time": "2021-06-17T16:04:09.766159Z"
    }
   },
   "outputs": [
    {
     "data": {
      "text/plain": [
       "Text(0, 0.5, 'Cumulative explained variance')"
      ]
     },
     "execution_count": 9,
     "metadata": {},
     "output_type": "execute_result"
    },
    {
     "data": {
      "image/png": "[encoded data removed]",
      "text/plain": [
       "<Figure size 864x648 with 1 Axes>"
      ]
     },
     "metadata": {},
     "output_type": "display_data"
    }
   ],
   "source": [
    "x_train_n = ((x_train_encode_o-x_train_encode_o.mean()) /\n",
    "             (x_train_encode_o.max()-x_train_encode_o.min()))\n",
    "# x_test_N = (x_test_encode-x_test_encode.mean())/(x_test_encode.max()-x_test_encode.min())\n",
    "\n",
    "pca = PCA()\n",
    "pca.fit(x_train_n)\n",
    "\n",
    "sns.set()\n",
    "plt.figure(1, figsize=(12, 9))\n",
    "sns.lineplot(data=np.cumsum(pca.explained_variance_ratio_))\n",
    "plt.axhline(y=0.99)\n",
    "plt.axvline(x=6)\n",
    "plt.xlabel('Number of components')\n",
    "plt.ylabel('Cumulative explained variance')"
   ]
  },
  {
   "cell_type": "markdown",
   "metadata": {},
   "source": [
    "We selected two different classifiers ([Random Forest](https://scikit-learn.org/stable/modules/generated/sklearn.ensemble.RandomForestClassifier.html) and [XGBoost](https://xgboost.readthedocs.io/en/latest/python/python_api.html)). We use the parameters values we found previously ([10_PreAnalysis](10_PreAnalysis.ipynb) notebook) from the classifiers ."
   ]
  },
  {
   "cell_type": "code",
   "execution_count": 10,
   "metadata": {
    "ExecuteTime": {
     "end_time": "2021-06-17T16:04:52.293807Z",
     "start_time": "2021-06-17T16:04:52.290077Z"
    }
   },
   "outputs": [],
   "source": [
    "clf_rf = RandomForestClassifier(n_estimators=1000, max_depth=10, random_state=42)\n",
    "clf_xg = xgb.XGBClassifier(n_estimators=600, max_depth=15,\n",
    "                           random_state=42, use_label_encoder=False, eval_metric='logloss')"
   ]
  },
  {
   "cell_type": "markdown",
   "metadata": {},
   "source": [
    "We create a feature ranking with recursive feature elimination and cross-validated selection ([RFECV](https://scikit-learn.org/stable/modules/generated/sklearn.feature_selection.RFECV.html)). We evaluate with the accuracy score and we use a 5-fold cross-validation."
   ]
  },
  {
   "cell_type": "code",
   "execution_count": 11,
   "metadata": {
    "ExecuteTime": {
     "end_time": "2021-06-17T16:34:27.562727Z",
     "start_time": "2021-06-17T16:05:00.518722Z"
    }
   },
   "outputs": [
    {
     "name": "stdout",
     "output_type": "stream",
     "text": [
      "Fitting estimator with 24 features.\n",
      "Fitting estimator with 23 features.\n",
      "Fitting estimator with 22 features.\n",
      "Fitting estimator with 21 features.\n",
      "Fitting estimator with 20 features.\n",
      "Fitting estimator with 19 features.\n",
      "Fitting estimator with 18 features.\n",
      "Fitting estimator with 17 features.\n",
      "Fitting estimator with 16 features.\n",
      "Fitting estimator with 15 features.\n",
      "Fitting estimator with 14 features.\n",
      "Fitting estimator with 13 features.\n",
      "Fitting estimator with 12 features.\n",
      "Fitting estimator with 11 features.\n",
      "Fitting estimator with 10 features.\n",
      "Fitting estimator with 9 features.\n",
      "Fitting estimator with 8 features.\n",
      "Fitting estimator with 7 features.\n",
      "Fitting estimator with 24 features.\n",
      "Fitting estimator with 23 features.\n",
      "Fitting estimator with 22 features.\n",
      "Fitting estimator with 21 features.\n",
      "Fitting estimator with 20 features.\n",
      "Fitting estimator with 19 features.\n",
      "Fitting estimator with 18 features.\n",
      "Fitting estimator with 17 features.\n",
      "Fitting estimator with 16 features.\n",
      "Fitting estimator with 15 features.\n",
      "Fitting estimator with 14 features.\n",
      "Fitting estimator with 13 features.\n",
      "Fitting estimator with 12 features.\n",
      "Fitting estimator with 11 features.\n",
      "Fitting estimator with 10 features.\n",
      "Fitting estimator with 9 features.\n",
      "Fitting estimator with 8 features.\n",
      "Fitting estimator with 7 features.\n",
      "Fitting estimator with 24 features.\n",
      "Fitting estimator with 23 features.\n",
      "Fitting estimator with 22 features.\n",
      "Fitting estimator with 21 features.\n",
      "Fitting estimator with 20 features.\n",
      "Fitting estimator with 19 features.\n",
      "Fitting estimator with 18 features.\n",
      "Fitting estimator with 17 features.\n",
      "Fitting estimator with 16 features.\n",
      "Fitting estimator with 15 features.\n",
      "Fitting estimator with 14 features.\n",
      "Fitting estimator with 13 features.\n",
      "Fitting estimator with 12 features.\n",
      "Fitting estimator with 11 features.\n",
      "Fitting estimator with 10 features.\n",
      "Fitting estimator with 9 features.\n",
      "Fitting estimator with 8 features.\n",
      "Fitting estimator with 7 features.\n",
      "Fitting estimator with 24 features.\n",
      "Fitting estimator with 23 features.\n",
      "Fitting estimator with 22 features.\n",
      "Fitting estimator with 21 features.\n",
      "Fitting estimator with 20 features.\n",
      "Fitting estimator with 19 features.\n",
      "Fitting estimator with 18 features.\n",
      "Fitting estimator with 17 features.\n",
      "Fitting estimator with 16 features.\n",
      "Fitting estimator with 15 features.\n",
      "Fitting estimator with 14 features.\n",
      "Fitting estimator with 13 features.\n",
      "Fitting estimator with 12 features.\n",
      "Fitting estimator with 11 features.\n",
      "Fitting estimator with 10 features.\n",
      "Fitting estimator with 9 features.\n",
      "Fitting estimator with 8 features.\n",
      "Fitting estimator with 7 features.\n",
      "Fitting estimator with 24 features.\n",
      "Fitting estimator with 23 features.\n",
      "Fitting estimator with 22 features.\n",
      "Fitting estimator with 21 features.\n",
      "Fitting estimator with 20 features.\n",
      "Fitting estimator with 19 features.\n",
      "Fitting estimator with 18 features.\n",
      "Fitting estimator with 17 features.\n",
      "Fitting estimator with 16 features.\n",
      "Fitting estimator with 15 features.\n",
      "Fitting estimator with 14 features.\n",
      "Fitting estimator with 13 features.\n",
      "Fitting estimator with 12 features.\n",
      "Fitting estimator with 11 features.\n",
      "Fitting estimator with 10 features.\n",
      "Fitting estimator with 9 features.\n",
      "Fitting estimator with 8 features.\n",
      "Fitting estimator with 7 features.\n",
      "Fitting estimator with 24 features.\n",
      "Fitting estimator with 23 features.\n",
      "Fitting estimator with 22 features.\n",
      "Fitting estimator with 21 features.\n",
      "Fitting estimator with 20 features.\n",
      "Fitting estimator with 19 features.\n",
      "Fitting estimator with 18 features.\n",
      "Fitting estimator with 17 features.\n",
      "Fitting estimator with 16 features.\n",
      "Fitting estimator with 15 features.\n",
      "Fitting estimator with 14 features.\n",
      "Fitting estimator with 13 features.\n",
      "Fitting estimator with 12 features.\n",
      "Fitting estimator with 11 features.\n",
      "Fitting estimator with 10 features.\n",
      "Fitting estimator with 9 features.\n",
      "Fitting estimator with 8 features.\n",
      "Fitting estimator with 7 features.\n",
      "Fitting estimator with 24 features.\n",
      "Fitting estimator with 23 features.\n",
      "Fitting estimator with 22 features.\n",
      "Fitting estimator with 21 features.\n",
      "Fitting estimator with 20 features.\n",
      "Fitting estimator with 19 features.\n",
      "Fitting estimator with 18 features.\n",
      "Fitting estimator with 17 features.\n",
      "Fitting estimator with 16 features.\n",
      "Fitting estimator with 15 features.\n",
      "Fitting estimator with 14 features.\n",
      "Fitting estimator with 13 features.\n",
      "Fitting estimator with 12 features.\n",
      "Fitting estimator with 11 features.\n",
      "Fitting estimator with 10 features.\n",
      "Fitting estimator with 9 features.\n",
      "Fitting estimator with 8 features.\n",
      "Fitting estimator with 7 features.\n",
      "Fitting estimator with 24 features.\n",
      "Fitting estimator with 23 features.\n",
      "Fitting estimator with 22 features.\n",
      "Fitting estimator with 21 features.\n",
      "Fitting estimator with 20 features.\n",
      "Fitting estimator with 19 features.\n",
      "Fitting estimator with 18 features.\n",
      "Fitting estimator with 17 features.\n",
      "Fitting estimator with 16 features.\n",
      "Fitting estimator with 15 features.\n",
      "Fitting estimator with 14 features.\n",
      "Fitting estimator with 13 features.\n",
      "Fitting estimator with 12 features.\n",
      "Fitting estimator with 11 features.\n",
      "Fitting estimator with 10 features.\n",
      "Fitting estimator with 9 features.\n",
      "Fitting estimator with 8 features.\n",
      "Fitting estimator with 7 features.\n",
      "Fitting estimator with 24 features.\n",
      "Fitting estimator with 23 features.\n",
      "Fitting estimator with 22 features.\n",
      "Fitting estimator with 21 features.\n",
      "Fitting estimator with 20 features.\n",
      "Fitting estimator with 19 features.\n",
      "Fitting estimator with 18 features.\n",
      "Fitting estimator with 17 features.\n",
      "Fitting estimator with 16 features.\n",
      "Fitting estimator with 15 features.\n",
      "Fitting estimator with 14 features.\n",
      "Fitting estimator with 13 features.\n",
      "Fitting estimator with 12 features.\n",
      "Fitting estimator with 11 features.\n",
      "Fitting estimator with 10 features.\n",
      "Fitting estimator with 9 features.\n",
      "Fitting estimator with 8 features.\n",
      "Fitting estimator with 7 features.\n",
      "Fitting estimator with 24 features.\n",
      "Fitting estimator with 23 features.\n",
      "Fitting estimator with 22 features.\n",
      "Fitting estimator with 21 features.\n",
      "Fitting estimator with 20 features.\n",
      "Fitting estimator with 19 features.\n",
      "Fitting estimator with 18 features.\n",
      "Fitting estimator with 17 features.\n",
      "Fitting estimator with 16 features.\n",
      "Fitting estimator with 15 features.\n",
      "Fitting estimator with 14 features.\n",
      "Fitting estimator with 13 features.\n",
      "Fitting estimator with 12 features.\n",
      "Fitting estimator with 11 features.\n",
      "Fitting estimator with 10 features.\n",
      "Fitting estimator with 9 features.\n",
      "Fitting estimator with 8 features.\n",
      "Fitting estimator with 7 features.\n",
      "Fitting estimator with 24 features.\n",
      "Fitting estimator with 23 features.\n",
      "Fitting estimator with 22 features.\n",
      "Optimal number of features : 21\n",
      "Best features : Index(['bayes.agn.EBV', 'bayes.agn.fracAGN', 'bayes.agn.i',\n",
      "       'bayes.attenuation.E_BVs', 'bayes.attenuation.powerlaw_slope',\n",
      "       'bayes.dust.alpha', 'bayes.sfh.age', 'bayes.sfh.tau_main',\n",
      "       'bayes.stellar.age_m_star', 'bayes.agn.accretion_power',\n",
      "       'bayes.agn.disk_luminosity', 'bayes.agn.dust_luminosity',\n",
      "       'bayes.agn.intrin_Lnu_2500A', 'bayes.agn.luminosity',\n",
      "       'bayes.dust.luminosity', 'bayes.sfh.integrated', 'bayes.sfh.sfr',\n",
      "       'bayes.sfh.sfr100Myrs', 'bayes.stellar.lum', 'bayes.stellar.m_gas',\n",
      "       'bayes.stellar.m_star'],\n",
      "      dtype='object')\n"
     ]
    }
   ],
   "source": [
    "rfecv_xg = RFECV(estimator=clf_xg, cv=StratifiedKFold(10),\n",
    "                 scoring='accuracy', verbose=4, min_features_to_select=6)\n",
    "rfecv_xg = rfecv_xg.fit(x_train_encode_o, y_train_encode_o)\n",
    "print('Optimal number of features :', rfecv_xg.n_features_)\n",
    "print('Best features :', newdf.columns[rfecv_xg.support_])"
   ]
  },
  {
   "cell_type": "markdown",
   "metadata": {},
   "source": [
    "Here the number of correct  classifications is still increasing with the number of features"
   ]
  },
  {
   "cell_type": "code",
   "execution_count": 12,
   "metadata": {
    "ExecuteTime": {
     "end_time": "2021-06-17T16:40:58.431211Z",
     "start_time": "2021-06-17T16:40:58.207100Z"
    }
   },
   "outputs": [
    {
     "data": {
      "text/plain": [
       "Text(0, 0.5, 'Correct classifications')"
      ]
     },
     "execution_count": 12,
     "metadata": {},
     "output_type": "execute_result"
    },
    {
     "data": {
      "image/png": "[encoded data removed]",
      "text/plain": [
       "<Figure size 864x432 with 1 Axes>"
      ]
     },
     "metadata": {},
     "output_type": "display_data"
    }
   ],
   "source": [
    "plt.figure(figsize=(12, 6))\n",
    "plt.plot(range(1, len(rfecv_xg.grid_scores_) + 1),\n",
    "         rfecv_xg.grid_scores_)\n",
    "plt.xlabel('Number of features')\n",
    "plt.ylabel('Correct classifications')"
   ]
  },
  {
   "cell_type": "code",
   "execution_count": 13,
   "metadata": {
    "ExecuteTime": {
     "end_time": "2021-06-17T17:11:12.440295Z",
     "start_time": "2021-06-17T16:41:16.065744Z"
    }
   },
   "outputs": [
    {
     "name": "stdout",
     "output_type": "stream",
     "text": [
      "Optimal number of features : 24\n",
      "Best features : Index(['bayes.agn.EBV', 'bayes.agn.fracAGN', 'bayes.agn.i',\n",
      "       'bayes.attenuation.E_BVs', 'bayes.attenuation.powerlaw_slope',\n",
      "       'bayes.dust.alpha', 'bayes.sfh.age', 'bayes.sfh.age_main',\n",
      "       'bayes.sfh.tau_main', 'bayes.stellar.age_m_star',\n",
      "       'bayes.agn.accretion_power', 'bayes.agn.disk_luminosity',\n",
      "       'bayes.agn.dust_luminosity', 'bayes.agn.intrin_Lnu_2500A',\n",
      "       'bayes.agn.luminosity', 'bayes.dust.luminosity', 'bayes.sfh.integrated',\n",
      "       'bayes.sfh.sfr', 'bayes.sfh.sfr100Myrs', 'bayes.sfh.sfr10Myrs',\n",
      "       'bayes.stellar.lum', 'bayes.stellar.lum_ly', 'bayes.stellar.m_gas',\n",
      "       'bayes.stellar.m_star'],\n",
      "      dtype='object')\n"
     ]
    }
   ],
   "source": [
    "rfecv_rf = RFECV(estimator=clf_rf, cv=StratifiedKFold(10),\n",
    "                 scoring='accuracy', min_features_to_select=6, verbose=4, n_jobs=-1)\n",
    "rfecv_rf = rfecv_rf.fit(x_train_encode_o, y_train_encode_o)\n",
    "print('Optimal number of features :', rfecv_rf.n_features_)\n",
    "print('Best features :', newdf.columns[rfecv_rf.support_])"
   ]
  },
  {
   "cell_type": "markdown",
   "metadata": {},
   "source": [
    "Here the number of correct classifications also increasing with the number of features"
   ]
  },
  {
   "cell_type": "code",
   "execution_count": 14,
   "metadata": {
    "ExecuteTime": {
     "end_time": "2021-06-17T17:11:28.493612Z",
     "start_time": "2021-06-17T17:11:28.316069Z"
    }
   },
   "outputs": [
    {
     "data": {
      "text/plain": [
       "Text(0, 0.5, 'Correct classifications')"
      ]
     },
     "execution_count": 14,
     "metadata": {},
     "output_type": "execute_result"
    },
    {
     "data": {
      "image/png": "[encoded data removed]",
      "text/plain": [
       "<Figure size 864x432 with 1 Axes>"
      ]
     },
     "metadata": {},
     "output_type": "display_data"
    }
   ],
   "source": [
    "plt.figure(figsize=(12, 6))\n",
    "plt.plot(range(1, len(rfecv_rf.grid_scores_) + 1),\n",
    "         rfecv_rf.grid_scores_)\n",
    "plt.xlabel('Number of features')\n",
    "plt.ylabel('Correct classifications')"
   ]
  },
  {
   "cell_type": "markdown",
   "metadata": {},
   "source": [
    "We can verify the mean feature importance to select the most important physical parameters."
   ]
  },
  {
   "cell_type": "code",
   "execution_count": 15,
   "metadata": {
    "ExecuteTime": {
     "end_time": "2021-06-17T17:11:39.208462Z",
     "start_time": "2021-06-17T17:11:38.871714Z"
    }
   },
   "outputs": [],
   "source": [
    "XGBFI = pd.Series(rfecv_xg.estimator_.feature_importances_,\n",
    "                  index=newdf.columns[rfecv_xg.support_].array)\n",
    "RFFI = pd.Series(rfecv_rf.estimator_.feature_importances_,\n",
    "                 index=newdf.columns[rfecv_rf.support_].array)"
   ]
  },
  {
   "cell_type": "markdown",
   "metadata": {},
   "source": [
    "This shows there are 2 features that contributes the most (>10%:AGN disk luminosity and viewing angle), 3 that contribute a considerable amount (4-7%: AGN E(B-V), attenuration E(B-V)s and $\\tau_{main}$), two with a lower contribution (~3%: SFR and AGN luminosity) and finally the rest parameters where the contribution is almost negligible (<3%)."
   ]
  },
  {
   "cell_type": "code",
   "execution_count": 16,
   "metadata": {
    "ExecuteTime": {
     "end_time": "2021-06-17T17:11:45.224932Z",
     "start_time": "2021-06-17T17:11:45.216642Z"
    }
   },
   "outputs": [
    {
     "data": {
      "text/plain": [
       "bayes.agn.disk_luminosity           0.260627\n",
       "bayes.agn.i                         0.146974\n",
       "bayes.agn.EBV                       0.063510\n",
       "bayes.attenuation.E_BVs             0.062886\n",
       "bayes.sfh.tau_main                  0.053330\n",
       "bayes.agn.luminosity                0.032478\n",
       "bayes.sfh.sfr10Myrs                 0.029526\n",
       "bayes.sfh.sfr                       0.029259\n",
       "bayes.agn.dust_luminosity           0.027434\n",
       "bayes.stellar.age_m_star            0.027224\n",
       "bayes.sfh.integrated                0.025461\n",
       "bayes.stellar.lum_ly                0.025166\n",
       "bayes.agn.fracAGN                   0.024340\n",
       "bayes.dust.alpha                    0.023692\n",
       "bayes.sfh.sfr100Myrs                0.023509\n",
       "bayes.sfh.age                       0.022880\n",
       "bayes.stellar.m_gas                 0.021892\n",
       "bayes.agn.intrin_Lnu_2500A          0.021508\n",
       "bayes.attenuation.powerlaw_slope    0.021187\n",
       "bayes.sfh.age_main                  0.020569\n",
       "bayes.stellar.m_star                0.019999\n",
       "bayes.dust.luminosity               0.019839\n",
       "bayes.agn.accretion_power           0.018016\n",
       "bayes.stellar.lum                   0.016324\n",
       "dtype: float64"
      ]
     },
     "execution_count": 16,
     "metadata": {},
     "output_type": "execute_result"
    }
   ],
   "source": [
    "pd.concat([RFFI, XGBFI]).groupby(level=0).mean().sort_values(ascending=False)"
   ]
  },
  {
   "cell_type": "markdown",
   "metadata": {},
   "source": [
    "We selected 7 parameters from these list to do the calculations. We include the 5 parameters with a high feature importance (the ones mentioned before) and we add SFR and $f_{AGN}$. These two parameters can give us a better comparison with observational results, and at the same time improve the classification task."
   ]
  },
  {
   "cell_type": "code",
   "execution_count": 17,
   "metadata": {
    "ExecuteTime": {
     "end_time": "2021-06-17T17:12:26.934093Z",
     "start_time": "2021-06-17T17:12:26.929053Z"
    }
   },
   "outputs": [],
   "source": [
    "ManualCols = np.array(['bayes.agn.i',\n",
    "                       'bayes.agn.fracAGN',\n",
    "                       'bayes.agn.disk_luminosity',\n",
    "                       'bayes.agn.EBV',\n",
    "                       'bayes.attenuation.E_BVs',\n",
    "                       'bayes.sfh.sfr',\n",
    "                       'bayes.sfh.tau_main'])"
   ]
  },
  {
   "cell_type": "markdown",
   "metadata": {},
   "source": [
    "##### FIGURE 4\n",
    "Finally, we present the feature importance data in a plot to observe how different the parameters are."
   ]
  },
  {
   "cell_type": "code",
   "execution_count": 22,
   "metadata": {
    "ExecuteTime": {
     "end_time": "2021-06-17T17:17:38.461445Z",
     "start_time": "2021-06-17T17:17:38.273199Z"
    }
   },
   "outputs": [
    {
     "data": {
      "image/png": "[encoded data removed]",
      "text/plain": [
       "<Figure size 486x391.68 with 1 Axes>"
      ]
     },
     "metadata": {},
     "output_type": "display_data"
    }
   ],
   "source": [
    "FeIm = pd.concat([RFFI, XGBFI]).groupby(level=0).mean().sort_values(ascending=False)[:7]\n",
    "sns.set_style(\"white\")\n",
    "# with plt.style.context('seaborn-talk'):\n",
    "with plt.style.context('seaborn-paper'):\n",
    "    plt.rcParams.update({'font.size': 12})\n",
    "    plt.rcParams.update({'axes.labelsize': 12})\n",
    "    plt.rcParams.update({'legend.fontsize': 10})\n",
    "    plt.rcParams.update({'ytick.labelsize': 10})\n",
    "    plt.rcParams.update({'xtick.labelsize': 10})\n",
    "    plt.figure(figsize=(6.75, 5.44))\n",
    "    FeIm.plot.bar(rot=90)\n",
    "    plt.ylabel('Feature Importance')\n",
    "    plt.xticks(np.arange(7), ('AGN disk luminosity',\n",
    "                              'AGN Viewing angle',\n",
    "                              'AGN Polar-dust E(B-V)',\n",
    "                              'E(B-V)',\n",
    "                              'e-folding time',\n",
    "                              'Total AGN luminosity',\n",
    "                              'Star formation rate'))\n",
    "    plt.savefig('../Figures/F4.pdf', dpi=300, bbox_inches='tight')  # For Paper\n",
    "#     plt.savefig('../Talk_Figures/F4.png',dpi=300,bbox_inches = 'tight') # For Presentation"
   ]
  },
  {
   "cell_type": "markdown",
   "metadata": {},
   "source": [
    "## Correlation score with CIGALE parameters"
   ]
  },
  {
   "cell_type": "markdown",
   "metadata": {},
   "source": [
    "We define some selection defitions to be used for the classification task"
   ]
  },
  {
   "cell_type": "code",
   "execution_count": 23,
   "metadata": {
    "ExecuteTime": {
     "end_time": "2021-06-17T17:17:50.430309Z",
     "start_time": "2021-06-17T17:17:50.420981Z"
    }
   },
   "outputs": [],
   "source": [
    "def selt1_t2_smb(tab_phot):\n",
    "    \"\"\"Select Seyfert 1 and 2 types from SMB\"\"\"\n",
    "    select_sey = np.logical_or(tab_phot['otype_txt'] == 'Sy1',\n",
    "                               tab_phot['otype_txt'] == 'Sy2')\n",
    "    return tab_phot[select_sey]\n",
    "\n",
    "\n",
    "def selt1_t2_vcv(tab_phot):\n",
    "    \"\"\"Select Seyfert 1 and 2 types from VCV\"\"\"\n",
    "    select_sey = np.logical_or(tab_phot['Sp'] == 'S1', tab_phot['Sp'] == 'S2')\n",
    "    return tab_phot[select_sey]\n",
    "\n",
    "def selt1_xor_selt2(tab_phot):\n",
    "    \"\"\"Select mixed classifications Seyferts 1 and 2 between VCV and CDS\"\"\"\n",
    "    selec1 = np.logical_and(tab_phot['otype_txt'] == 'Sy1', tab_phot['Sp'] == 'S2')\n",
    "    selec2 = np.logical_and(tab_phot['otype_txt'] == 'Sy2', tab_phot['Sp'] == 'S1')\n",
    "    select_sey = np.logical_or(selec1, selec2)\n",
    "    return tab_phot[select_sey]\n",
    "\n",
    "\n",
    "def selt1_or_t2_vcv(tab_phot):\n",
    "    \"\"\"Select numeric Seyfert types in VCV\"\"\"\n",
    "    selc1 = np.logical_and(tab_phot['otype_txt'] ==\n",
    "                           'Sy1', tab_phot['Sp'] == 'S1.0')\n",
    "    selc2 = np.logical_and(tab_phot['otype_txt'] ==\n",
    "                           'Sy1', tab_phot['Sp'] == 'S1.2')\n",
    "    selc3 = np.logical_and(tab_phot['otype_txt'] ==\n",
    "                           'Sy1', tab_phot['Sp'] == 'S1.5')\n",
    "    selc4 = np.logical_and(tab_phot['otype_txt'] ==\n",
    "                           'Sy2', tab_phot['Sp'] == 'S1.8')\n",
    "    selc5 = np.logical_and(tab_phot['otype_txt'] ==\n",
    "                           'Sy2', tab_phot['Sp'] == 'S1.9')\n",
    "    select_sey = np.logical_or.reduce([selc1, selc2, selc3, selc4, selc5])\n",
    "    return tab_phot[select_sey]\n",
    "\n",
    "\n",
    "def selt1_nor_t2(tab_phot):\n",
    "    \"\"\"Select all other types in VCV\"\"\"\n",
    "    i_sec = np.logical_and.reduce([tab_phot['Sp'] != 'S1', tab_phot['Sp'] != 'S2',\n",
    "                                   tab_phot['Sp'] != 'S1.0', tab_phot['Sp'] != 'S1.2',\n",
    "                                   tab_phot['Sp'] != 'S1.5', tab_phot['Sp'] != 'S1.8',\n",
    "                                   tab_phot['Sp'] != 'S1.9'])\n",
    "    return tab_phot[i_sec]"
   ]
  },
  {
   "cell_type": "markdown",
   "metadata": {},
   "source": [
    "If we assume that some of the outputs parameters from CIGALE can be used for the classification task, we can classify (flag) galaxies in Type-1 or Type-2. We selected the viewing angle and the AGN disk luminosity for the classification task. We set a limit in the viewing angle at 45 degrees (does not evolve with redshift), and we define a polynomial fit $8.936 + 6.359 z -5.37 z^2$ (Check [FIGURE 8](../Figures/F8.pdf) and/or [12_Analysis_Plots](12_Analysis_Plots.ipynb) notebook) in the range of z<=0.6 to separate the two types. For higher redshifts we assume the value at z=0.6,. We also test what happen if we assume that numerical types from VCV are close to the respective type 1 or 2."
   ]
  },
  {
   "cell_type": "code",
   "execution_count": 24,
   "metadata": {
    "ExecuteTime": {
     "end_time": "2021-06-17T17:18:04.317248Z",
     "start_time": "2021-06-17T17:18:04.312624Z"
    }
   },
   "outputs": [],
   "source": [
    "def sep_sey_typ(redshift):\n",
    "    \"\"\"Polynomial fit for the separation in AGN disk luminosity between Seyfert Types\"\"\"\n",
    "    return 8.936 + 6.359*redshift - 5.37*redshift**2"
   ]
  },
  {
   "cell_type": "code",
   "execution_count": 25,
   "metadata": {
    "ExecuteTime": {
     "end_time": "2021-06-17T17:18:16.749053Z",
     "start_time": "2021-06-17T17:18:16.744369Z"
    }
   },
   "outputs": [
    {
     "name": "stdout",
     "output_type": "stream",
     "text": [
      "10.818200000000001\n"
     ]
    }
   ],
   "source": [
    "# Log-value of the AGN disk luminosity at z>0.6\n",
    "print(sep_sey_typ(0.6))"
   ]
  },
  {
   "cell_type": "code",
   "execution_count": 26,
   "metadata": {
    "ExecuteTime": {
     "end_time": "2021-06-17T17:18:20.238450Z",
     "start_time": "2021-06-17T17:18:20.203849Z"
    }
   },
   "outputs": [],
   "source": [
    "# Separating following the viewing angle\n",
    "SFPandas['TypeAGN_CIG_i'] = np.empty(len(SFPandas))\n",
    "SFPandas.loc[SFPandas['bayes.agn.i'] < 45, 'TypeAGN_CIG_i'] = 'Sy1'\n",
    "SFPandas.loc[SFPandas['bayes.agn.i'] >= 45, 'TypeAGN_CIG_i'] = 'Sy2'\n",
    "SFPandas['TypeAGN_CIG_i2'] = np.empty(len(SFPandas))\n",
    "SFPandas.loc[SFPandas['bayes.agn.i'] < 45, 'TypeAGN_CIG_i2'] = 'S1'\n",
    "SFPandas.loc[SFPandas['bayes.agn.i'] >= 45, 'TypeAGN_CIG_i2'] = 'S2'\n",
    "\n",
    "# Separating following the AGN disk luminosity\n",
    "SFPandas['TypeAGN_CIG_Ldisk'] = np.empty(len(SFPandas))\n",
    "zSF = SFPandas['rvz_redshift']\n",
    "ValueSeparatation = (10**sep_sey_typ(zSF.values) * u.solLum).to(u.W).value\n",
    "ValueSeparatation[zSF > 0.6] = (10**sep_sey_typ(0.6) * u.solLum).to(u.W).value\n",
    "SFPandas.loc[SFPandas['bayes.agn.disk_luminosity'] > ValueSeparatation,\n",
    "             'TypeAGN_CIG_Ldisk'] = 'Sy1'\n",
    "SFPandas.loc[SFPandas['bayes.agn.disk_luminosity'] <= ValueSeparatation,\n",
    "             'TypeAGN_CIG_Ldisk'] = 'Sy2'\n",
    "SFPandas['TypeAGN_CIG_Ldisk2'] = np.empty(len(SFPandas))\n",
    "SFPandas.loc[SFPandas['bayes.agn.disk_luminosity'] > ValueSeparatation,\n",
    "             'TypeAGN_CIG_Ldisk2'] = 'S1'\n",
    "SFPandas.loc[SFPandas['bayes.agn.disk_luminosity'] <= ValueSeparatation,\n",
    "             'TypeAGN_CIG_Ldisk2'] = 'S2'\n",
    "\n",
    "# Separating assuming numerical types close to types 1 and 2\n",
    "SFPandas['TypeAGN_VCV'] = np.empty(len(SFPandas))\n",
    "SFPandas.loc[np.logical_or.reduce([SFPandas['Sp'] == 'S1.0', SFPandas['Sp'] == 'S1.2']),\n",
    "             'TypeAGN_VCV'] = 'S1'\n",
    "SFPandas.loc[np.logical_or.reduce([SFPandas['Sp'] == 'S1.8',\n",
    "                                   SFPandas['Sp'] == 'S1.9', SFPandas['Sp'] == 'S1.5']),\n",
    "             'TypeAGN_VCV'] = 'S2'"
   ]
  },
  {
   "cell_type": "markdown",
   "metadata": {},
   "source": [
    "We test how much the metric scores will change if we select only one of the classifications, for the viewing angle"
   ]
  },
  {
   "cell_type": "code",
   "execution_count": 27,
   "metadata": {
    "ExecuteTime": {
     "end_time": "2021-06-17T17:18:29.607989Z",
     "start_time": "2021-06-17T17:18:28.938657Z"
    }
   },
   "outputs": [
    {
     "name": "stdout",
     "output_type": "stream",
     "text": [
      "SKIRTOR 0.524 0.753 0.818\n",
      "Fritz 0.463 0.72 0.791\n",
      "S37 0.564 0.773 0.836\n",
      "F37 0.506 0.731 0.799\n",
      "SKIRTOR 0.54 0.761 0.826\n",
      "Fritz 0.485 0.73 0.803\n",
      "S37 0.573 0.776 0.841\n",
      "F37 0.514 0.733 0.804\n"
     ]
    }
   ],
   "source": [
    "create_table_cig(selt1_t2_smb(SFPandas), 'otype_txt', 'TypeAGN_CIG_i')\n",
    "create_table_cig(selt1_t2_vcv(SFPandas), 'Sp', 'TypeAGN_CIG_i2')"
   ]
  },
  {
   "cell_type": "markdown",
   "metadata": {},
   "source": [
    "We check also how bad it will be the classifier by selecting mixed classifications"
   ]
  },
  {
   "cell_type": "code",
   "execution_count": 28,
   "metadata": {
    "ExecuteTime": {
     "end_time": "2021-06-17T17:18:46.379621Z",
     "start_time": "2021-06-17T17:18:46.296846Z"
    }
   },
   "outputs": [
    {
     "name": "stdout",
     "output_type": "stream",
     "text": [
      "SKIRTOR 0.067 0.399 0.436\n",
      "Fritz 0.102 0.399 0.433\n",
      "S37 0.015 0.346 0.369\n",
      "F37 0.112 0.314 0.319\n",
      "SKIRTOR -0.067 0.431 0.564\n",
      "Fritz -0.102 0.418 0.567\n",
      "S37 -0.015 0.467 0.631\n",
      "F37 -0.112 0.439 0.681\n"
     ]
    }
   ],
   "source": [
    "create_table_cig(selt1_xor_selt2(SFPandas), 'Sp', 'TypeAGN_CIG_i2')\n",
    "create_table_cig(selt1_xor_selt2(SFPandas), 'otype_txt', 'TypeAGN_CIG_i')"
   ]
  },
  {
   "cell_type": "markdown",
   "metadata": {},
   "source": [
    "When using the intermediate classfication"
   ]
  },
  {
   "cell_type": "code",
   "execution_count": 29,
   "metadata": {
    "ExecuteTime": {
     "end_time": "2021-06-17T17:18:48.903569Z",
     "start_time": "2021-06-17T17:18:48.843608Z"
    }
   },
   "outputs": [
    {
     "name": "stdout",
     "output_type": "stream",
     "text": [
      "SKIRTOR 0.214 0.555 0.582\n",
      "Fritz 0.071 0.523 0.529\n",
      "S37 0.221 0.538 0.576\n",
      "F37 0.154 0.547 0.559\n"
     ]
    }
   ],
   "source": [
    "create_table_cig(selt1_or_t2_vcv(SFPandas), 'TypeAGN_VCV', 'TypeAGN_CIG_i2')"
   ]
  },
  {
   "cell_type": "markdown",
   "metadata": {},
   "source": [
    "Interestingly, when using the split by the AGN disk luminosity we obtain a better constraint"
   ]
  },
  {
   "cell_type": "code",
   "execution_count": 30,
   "metadata": {
    "ExecuteTime": {
     "end_time": "2021-06-17T17:19:02.128074Z",
     "start_time": "2021-06-17T17:19:01.475341Z"
    }
   },
   "outputs": [
    {
     "name": "stdout",
     "output_type": "stream",
     "text": [
      "SKIRTOR 0.599 0.791 0.846\n",
      "Fritz 0.525 0.759 0.834\n",
      "S37 0.596 0.789 0.85\n",
      "F37 0.505 0.748 0.834\n",
      "SKIRTOR 0.598 0.788 0.844\n",
      "Fritz 0.518 0.754 0.83\n",
      "S37 0.597 0.787 0.848\n",
      "F37 0.498 0.743 0.832\n"
     ]
    }
   ],
   "source": [
    "create_table_cig(selt1_t2_smb(SFPandas), 'otype_txt', 'TypeAGN_CIG_Ldisk')\n",
    "create_table_cig(selt1_t2_vcv(SFPandas), 'Sp', 'TypeAGN_CIG_Ldisk2')"
   ]
  },
  {
   "cell_type": "markdown",
   "metadata": {},
   "source": [
    "##### Part TABLE 4\n",
    "Finally, we choose galaxies where SMB and VCV give the same classification. We use this values for comparing with the XGBoost and RandomForest methods. This values are the first part of Table 4."
   ]
  },
  {
   "cell_type": "code",
   "execution_count": 31,
   "metadata": {
    "ExecuteTime": {
     "end_time": "2021-06-17T17:19:10.294880Z",
     "start_time": "2021-06-17T17:19:09.655727Z"
    }
   },
   "outputs": [
    {
     "name": "stdout",
     "output_type": "stream",
     "text": [
      "SKIRTOR 0.556 0.771 0.835\n",
      "Fritz 0.499 0.739 0.811\n",
      "S37 0.594 0.788 0.851\n",
      "F37 0.53 0.744 0.815\n",
      "SKIRTOR 0.62 0.801 0.854\n",
      "Fritz 0.539 0.765 0.84\n",
      "S37 0.62 0.8 0.86\n",
      "F37 0.519 0.755 0.841\n"
     ]
    }
   ],
   "source": [
    "# As these are in both samples it does not matter if we use 'otype_txt' or 'Sp'\n",
    "create_table_cig(selt1_or_selt2(SFPandas), 'otype_txt', 'TypeAGN_CIG_i')\n",
    "create_table_cig(selt1_or_selt2(SFPandas), 'otype_txt', 'TypeAGN_CIG_Ldisk')"
   ]
  },
  {
   "cell_type": "markdown",
   "metadata": {},
   "source": [
    "## Correlation score with with Machine Learning algorithms\n",
    "##### Part TABLE 4\n",
    "We fit the classifiers  with the selected columns. We present the mean feature importance of each of them, together with the same values presented before."
   ]
  },
  {
   "cell_type": "code",
   "execution_count": 32,
   "metadata": {
    "ExecuteTime": {
     "end_time": "2021-06-17T17:20:35.921300Z",
     "start_time": "2021-06-17T17:19:24.145981Z"
    }
   },
   "outputs": [
    {
     "name": "stdout",
     "output_type": "stream",
     "text": [
      "[3 1 5 6 4 2 0]\n",
      "[6 2 3 1 5 4 0]\n",
      "[1 5 6 3 2 4 0]\n",
      "[1 2 6 5 4 3 0]\n",
      "[1 4 5 6 3 2 0]\n",
      "[2 1 4 6 5 3 0]\n",
      "[1 5 6 2 4 3 0]\n",
      "[2 1 5 6 4 3 0]\n"
     ]
    }
   ],
   "source": [
    "TABLE4 = create_table_clas(selt1_or_selt2(SFPandas), ManualCols, 'otype_txt')"
   ]
  },
  {
   "cell_type": "code",
   "execution_count": 33,
   "metadata": {
    "ExecuteTime": {
     "end_time": "2021-06-17T17:21:34.437867Z",
     "start_time": "2021-06-17T17:21:34.430417Z"
    }
   },
   "outputs": [
    {
     "data": {
      "text/html": [
       "<i>Table length=8</i>\n",
       "<table id=\"table140108378493520\" class=\"table-striped table-bordered table-condensed\">\n",
       "<thead><tr><th>col0</th><th>col1</th><th>col2</th><th>col3</th><th>col4</th></tr></thead>\n",
       "<thead><tr><th>str12</th><th>str12</th><th>str12</th><th>str12</th><th>str12</th></tr></thead>\n",
       "<tr><td>RandomForest</td><td>SKIRTOR</td><td>0.713</td><td>0.855</td><td>0.906</td></tr>\n",
       "<tr><td>RandomForest</td><td>Fritz</td><td>0.716</td><td>0.856</td><td>0.906</td></tr>\n",
       "<tr><td>RandomForest</td><td>S37</td><td>0.686</td><td>0.842</td><td>0.903</td></tr>\n",
       "<tr><td>RandomForest</td><td>F37</td><td>0.659</td><td>0.83</td><td>0.907</td></tr>\n",
       "<tr><td>XGBoost</td><td>SKIRTOR</td><td>0.702</td><td>0.85</td><td>0.903</td></tr>\n",
       "<tr><td>XGBoost</td><td>Fritz</td><td>0.664</td><td>0.831</td><td>0.891</td></tr>\n",
       "<tr><td>XGBoost</td><td>S37</td><td>0.612</td><td>0.805</td><td>0.881</td></tr>\n",
       "<tr><td>XGBoost</td><td>F37</td><td>0.63</td><td>0.815</td><td>0.9</td></tr>\n",
       "</table>"
      ],
      "text/plain": [
       "<Table length=8>\n",
       "    col0       col1   col2  col3  col4\n",
       "   str12      str12  str12 str12 str12\n",
       "------------ ------- ----- ----- -----\n",
       "RandomForest SKIRTOR 0.713 0.855 0.906\n",
       "RandomForest   Fritz 0.716 0.856 0.906\n",
       "RandomForest     S37 0.686 0.842 0.903\n",
       "RandomForest     F37 0.659  0.83 0.907\n",
       "     XGBoost SKIRTOR 0.702  0.85 0.903\n",
       "     XGBoost   Fritz 0.664 0.831 0.891\n",
       "     XGBoost     S37 0.612 0.805 0.881\n",
       "     XGBoost     F37  0.63 0.815   0.9"
      ]
     },
     "execution_count": 33,
     "metadata": {},
     "output_type": "execute_result"
    }
   ],
   "source": [
    "Table(TABLE4).group_by('col0')"
   ]
  },
  {
   "cell_type": "markdown",
   "metadata": {},
   "source": [
    "The <tt> DummyClassifier </tt> was used to check the baseline for the metrics in the predictions when using random configurations. So this can be seem as when the classifier gives bad/none results. This numbers are the last part of TABLE 4."
   ]
  },
  {
   "cell_type": "code",
   "execution_count": 34,
   "metadata": {
    "ExecuteTime": {
     "end_time": "2021-06-17T17:22:43.175572Z",
     "start_time": "2021-06-17T17:22:42.876918Z"
    }
   },
   "outputs": [
    {
     "name": "stdout",
     "output_type": "stream",
     "text": [
      "DummyClassifier -0.0 0.5 0.695\n"
     ]
    }
   ],
   "source": [
    "Dclf = DummyClassifier(strategy='stratified', random_state=42)\n",
    "# We use all the AGN models, not the train and test samples (It does not matter which one we use)\n",
    "Dclf.fit(x_ori, y_ori)\n",
    "DumPred = Dclf.predict(x_ori)\n",
    "\n",
    "print('DummyClassifier', round(matthews_corrcoef(y_ori, DumPred), 3),\n",
    "      round(f1_score(y_ori, DumPred, average='macro'), 3),\n",
    "      round(accuracy_score(y_ori, DumPred), 3))"
   ]
  },
  {
   "cell_type": "markdown",
   "metadata": {},
   "source": [
    "## Predict the type of Seyfert in unclassified galaxies\n",
    "Here we select the galaxies with an undefined type (or unknown source) and we predict the type AGN. We compare with just selecting the AGN disk luminosity from CIGALE. As we saw before, the AGN disk luminosity is better in predict the classifications (first part of the TABLE 4)."
   ]
  },
  {
   "cell_type": "code",
   "execution_count": 35,
   "metadata": {
    "ExecuteTime": {
     "end_time": "2021-06-17T17:22:50.308994Z",
     "start_time": "2021-06-17T17:22:50.300916Z"
    }
   },
   "outputs": [],
   "source": [
    "SFPandas['CIG_Pred'] = np.empty(len(SFPandas))*np.nan\n",
    "SFPandas.loc[SFPandas['bayes.agn.disk_luminosity'] > ValueSeparatation,\n",
    "             'CIG_Pred'] = 0\n",
    "SFPandas.loc[SFPandas['bayes.agn.disk_luminosity'] <= ValueSeparatation,\n",
    "             'CIG_Pred'] = 1"
   ]
  },
  {
   "cell_type": "markdown",
   "metadata": {},
   "source": [
    "We then select two types, one where there is no class associated in VCV and SMB, and another when there is no class in VCV or SMB."
   ]
  },
  {
   "cell_type": "code",
   "execution_count": 36,
   "metadata": {
    "ExecuteTime": {
     "end_time": "2021-06-17T17:22:52.912628Z",
     "start_time": "2021-06-17T17:22:52.815841Z"
    }
   },
   "outputs": [],
   "source": [
    "NoClass = SFPandas[np.logical_and(\n",
    "    SFPandas['otype_txt'] == 'SyG', SFPandas['Sp'] == 'S')]\n",
    "SemiClass = SFPandas[np.logical_xor(\n",
    "    SFPandas['otype_txt'] == 'SyG', SFPandas['Sp'] == 'S')]"
   ]
  },
  {
   "cell_type": "code",
   "execution_count": 37,
   "metadata": {
    "ExecuteTime": {
     "end_time": "2021-06-17T17:22:55.483620Z",
     "start_time": "2021-06-17T17:22:55.477817Z"
    }
   },
   "outputs": [
    {
     "name": "stdout",
     "output_type": "stream",
     "text": [
      "Total number of galaxies without a class in neither VCV and SMB and a good fitting: 16\n",
      "Total number of galaxies without a class in VCV or SMB and a good fitting: 49\n"
     ]
    }
   ],
   "source": [
    "print('Total number of galaxies without a class in neither VCV and SMB and a good fitting:',\n",
    "      len(np.unique(NoClass['id'])))\n",
    "print('Total number of galaxies without a class in VCV or SMB and a good fitting:',\n",
    "      len(np.unique(SemiClass['id'])))"
   ]
  },
  {
   "cell_type": "markdown",
   "metadata": {},
   "source": [
    "We create a function to analyze these results in a table"
   ]
  },
  {
   "cell_type": "code",
   "execution_count": 38,
   "metadata": {
    "ExecuteTime": {
     "end_time": "2021-06-17T17:22:58.489673Z",
     "start_time": "2021-06-17T17:22:58.481718Z"
    }
   },
   "outputs": [],
   "source": [
    "def create_table_clas_mod(train_table, pred_table, samp, typ_agn):\n",
    "    \"\"\"Precict the type of the unknown Seyferts \"\"\"\n",
    "    col_pred1 = []\n",
    "    col_pred2 = []\n",
    "    for model in ['SKIRTOR', 'Fritz', 'S37', 'F37']:\n",
    "        x_ini = train_table.loc[model][samp]\n",
    "        y_ini = train_table.loc[model][typ_agn]\n",
    "        x_pre = pred_table.loc[model][samp]\n",
    "        x_train, _, y_train, _ = train_test_split(x_ini, y_ini, test_size=0.20, random_state=42)\n",
    "        lab_enc = preprocessing.LabelEncoder()\n",
    "        lab_enc.fit(y_ini)\n",
    "        x_train_encode = preprocessing.robust_scale(x_train)\n",
    "        y_train_encode = lab_enc.transform(y_train).reshape(-1, 1).ravel()\n",
    "        # These classifiers need to be defined before use\n",
    "        for iclf, clasi in enumerate([clf_rf, clf_xg]):\n",
    "            print(['RF', 'XGB'][iclf], model)\n",
    "            clasi.fit(x_train_encode, y_train_encode)\n",
    "            x_pre_encode = preprocessing.robust_scale(x_pre)\n",
    "            y_pre = clasi.predict(x_pre_encode)\n",
    "            if iclf == 0:\n",
    "                col_pred1 = np.concatenate((col_pred1, y_pre), axis=None)\n",
    "            else:\n",
    "                col_pred2 = np.concatenate((col_pred2, y_pre), axis=None)\n",
    "    pred_table['RF_Pred'] = col_pred1\n",
    "    pred_table['XGB_Pred'] = col_pred2\n",
    "    return pred_table"
   ]
  },
  {
   "cell_type": "code",
   "execution_count": 39,
   "metadata": {
    "ExecuteTime": {
     "end_time": "2021-06-17T17:24:00.534128Z",
     "start_time": "2021-06-17T17:23:05.150949Z"
    },
    "scrolled": true
   },
   "outputs": [
    {
     "name": "stdout",
     "output_type": "stream",
     "text": [
      "RF SKIRTOR\n",
      "XGB SKIRTOR\n",
      "RF Fritz\n",
      "XGB Fritz\n",
      "RF S37\n",
      "XGB S37\n",
      "RF F37\n",
      "XGB F37\n"
     ]
    },
    {
     "name": "stderr",
     "output_type": "stream",
     "text": [
      "<ipython-input-38-093b5ce43c24>:24: SettingWithCopyWarning: \n",
      "A value is trying to be set on a copy of a slice from a DataFrame.\n",
      "Try using .loc[row_indexer,col_indexer] = value instead\n",
      "\n",
      "See the caveats in the documentation: https://pandas.pydata.org/pandas-docs/stable/user_guide/indexing.html#returning-a-view-versus-a-copy\n",
      "  pred_table['RF_Pred'] = col_pred1\n",
      "<ipython-input-38-093b5ce43c24>:25: SettingWithCopyWarning: \n",
      "A value is trying to be set on a copy of a slice from a DataFrame.\n",
      "Try using .loc[row_indexer,col_indexer] = value instead\n",
      "\n",
      "See the caveats in the documentation: https://pandas.pydata.org/pandas-docs/stable/user_guide/indexing.html#returning-a-view-versus-a-copy\n",
      "  pred_table['XGB_Pred'] = col_pred2\n"
     ]
    },
    {
     "name": "stdout",
     "output_type": "stream",
     "text": [
      "RF SKIRTOR\n",
      "XGB SKIRTOR\n",
      "RF Fritz\n",
      "XGB Fritz\n",
      "RF S37\n",
      "XGB S37\n",
      "RF F37\n",
      "XGB F37\n"
     ]
    },
    {
     "name": "stderr",
     "output_type": "stream",
     "text": [
      "<ipython-input-38-093b5ce43c24>:24: SettingWithCopyWarning: \n",
      "A value is trying to be set on a copy of a slice from a DataFrame.\n",
      "Try using .loc[row_indexer,col_indexer] = value instead\n",
      "\n",
      "See the caveats in the documentation: https://pandas.pydata.org/pandas-docs/stable/user_guide/indexing.html#returning-a-view-versus-a-copy\n",
      "  pred_table['RF_Pred'] = col_pred1\n",
      "<ipython-input-38-093b5ce43c24>:25: SettingWithCopyWarning: \n",
      "A value is trying to be set on a copy of a slice from a DataFrame.\n",
      "Try using .loc[row_indexer,col_indexer] = value instead\n",
      "\n",
      "See the caveats in the documentation: https://pandas.pydata.org/pandas-docs/stable/user_guide/indexing.html#returning-a-view-versus-a-copy\n",
      "  pred_table['XGB_Pred'] = col_pred2\n"
     ]
    }
   ],
   "source": [
    "ClassSec = create_table_clas_mod(selt1_or_selt2(SFPandas), NoClass, ManualCols, 'otype_txt')\n",
    "ClassSec2 = create_table_clas_mod(selt1_or_selt2(SFPandas), SemiClass, ManualCols, 'otype_txt')"
   ]
  },
  {
   "cell_type": "markdown",
   "metadata": {},
   "source": [
    "As there are four models in this work, we assume that all of them should give the same (or close to) classification in the final type. And we use the mean to represent these values."
   ]
  },
  {
   "cell_type": "code",
   "execution_count": 40,
   "metadata": {
    "ExecuteTime": {
     "end_time": "2021-06-17T17:24:01.874480Z",
     "start_time": "2021-06-17T17:24:01.864710Z"
    }
   },
   "outputs": [
    {
     "name": "stderr",
     "output_type": "stream",
     "text": [
      "WARNING: Cannot aggregate column 'otype_txt' with type '<U3' [astropy.table.groups]\n"
     ]
    }
   ],
   "source": [
    "TypeTab = Table.from_pandas(ClassSec[['id', 'otype_txt', 'RF_Pred', 'XGB_Pred',\n",
    "                                      'CIG_Pred']]).group_by('id').groups.aggregate(np.mean)"
   ]
  },
  {
   "cell_type": "code",
   "execution_count": 41,
   "metadata": {
    "ExecuteTime": {
     "end_time": "2021-06-17T17:24:03.210642Z",
     "start_time": "2021-06-17T17:24:03.201784Z"
    }
   },
   "outputs": [
    {
     "name": "stderr",
     "output_type": "stream",
     "text": [
      "WARNING: Cannot aggregate column 'otype_txt' with type '<U3' [astropy.table.groups]\n"
     ]
    }
   ],
   "source": [
    "TypeTab2 = Table.from_pandas(ClassSec2[['id', 'otype_txt', 'RF_Pred', 'XGB_Pred',\n",
    "                                        'CIG_Pred']]).group_by('id').groups.aggregate(np.mean)"
   ]
  },
  {
   "cell_type": "code",
   "execution_count": 42,
   "metadata": {
    "ExecuteTime": {
     "end_time": "2021-06-17T17:24:04.541073Z",
     "start_time": "2021-06-17T17:24:04.538734Z"
    }
   },
   "outputs": [],
   "source": [
    "TypeTab['ML_Pred'] = np.mean([TypeTab['RF_Pred'], TypeTab['XGB_Pred']], axis=0)\n",
    "TypeTab2['ML_Pred'] = np.mean([TypeTab2['RF_Pred'], TypeTab2['XGB_Pred']], axis=0)"
   ]
  },
  {
   "cell_type": "markdown",
   "metadata": {},
   "source": [
    "##### TABLE 5\n",
    "We predict the class depending on the average/mean of all the classifications trained in this work. For the galaxies without any classification we found that 2 would be Sy2, 8 would be Sy1 and the rest (6) are still difficult to classify."
   ]
  },
  {
   "cell_type": "code",
   "execution_count": 43,
   "metadata": {
    "ExecuteTime": {
     "end_time": "2021-06-17T17:24:05.868589Z",
     "start_time": "2021-06-17T17:24:05.865574Z"
    }
   },
   "outputs": [
    {
     "data": {
      "text/html": [
       "<i>Table length=16</i>\n",
       "<table id=\"table140110823818960\" class=\"table-striped table-bordered table-condensed\">\n",
       "<thead><tr><th>id</th><th>RF_Pred</th><th>XGB_Pred</th><th>CIG_Pred</th><th>ML_Pred</th></tr></thead>\n",
       "<thead><tr><th>str23</th><th>float64</th><th>float64</th><th>float64</th><th>float64</th></tr></thead>\n",
       "<tr><td>2MASX J12140343-1921428</td><td>0.0</td><td>0.0</td><td>0.0</td><td>0.0</td></tr>\n",
       "<tr><td>2MASX J18121404+2153047</td><td>0.0</td><td>0.0</td><td>1.0</td><td>0.0</td></tr>\n",
       "<tr><td>2MASX J20075080+5938105</td><td>1.0</td><td>0.6666666666666666</td><td>0.6666666666666666</td><td>0.8333333333333333</td></tr>\n",
       "<tr><td>2MASX J21560047-2144325</td><td>0.0</td><td>0.0</td><td>0.0</td><td>0.0</td></tr>\n",
       "<tr><td>2MASX J23032790+1443491</td><td>0.0</td><td>0.0</td><td>0.0</td><td>0.0</td></tr>\n",
       "<tr><td>2XMM J094233.5+470213</td><td>0.0</td><td>0.0</td><td>1.0</td><td>0.0</td></tr>\n",
       "<tr><td>2XMM J105045.9+571732</td><td>0.0</td><td>0.0</td><td>1.0</td><td>0.0</td></tr>\n",
       "<tr><td>CADIS 16-505716</td><td>0.0</td><td>0.25</td><td>0.0</td><td>0.125</td></tr>\n",
       "<tr><td>ESO 373-13</td><td>0.5</td><td>0.5</td><td>1.0</td><td>0.5</td></tr>\n",
       "<tr><td>LEDA 1485346</td><td>0.0</td><td>0.0</td><td>0.0</td><td>0.0</td></tr>\n",
       "<tr><td>LEDA 2517881</td><td>0.0</td><td>0.0</td><td>1.0</td><td>0.0</td></tr>\n",
       "<tr><td>LEDA 3095610</td><td>0.0</td><td>0.0</td><td>0.0</td><td>0.0</td></tr>\n",
       "<tr><td>LEDA 3096762</td><td>0.0</td><td>0.0</td><td>0.0</td><td>0.0</td></tr>\n",
       "<tr><td>MCG+00-11-002</td><td>0.0</td><td>0.0</td><td>0.0</td><td>0.0</td></tr>\n",
       "<tr><td>MCG+03-45-003</td><td>0.25</td><td>0.5</td><td>0.5</td><td>0.375</td></tr>\n",
       "<tr><td>QSO B1238+6232</td><td>0.0</td><td>0.0</td><td>1.0</td><td>0.0</td></tr>\n",
       "</table>"
      ],
      "text/plain": [
       "<Table length=16>\n",
       "           id           RF_Pred ...      CIG_Pred           ML_Pred      \n",
       "         str23          float64 ...      float64            float64      \n",
       "----------------------- ------- ... ------------------ ------------------\n",
       "2MASX J12140343-1921428     0.0 ...                0.0                0.0\n",
       "2MASX J18121404+2153047     0.0 ...                1.0                0.0\n",
       "2MASX J20075080+5938105     1.0 ... 0.6666666666666666 0.8333333333333333\n",
       "2MASX J21560047-2144325     0.0 ...                0.0                0.0\n",
       "2MASX J23032790+1443491     0.0 ...                0.0                0.0\n",
       "  2XMM J094233.5+470213     0.0 ...                1.0                0.0\n",
       "  2XMM J105045.9+571732     0.0 ...                1.0                0.0\n",
       "        CADIS 16-505716     0.0 ...                0.0              0.125\n",
       "             ESO 373-13     0.5 ...                1.0                0.5\n",
       "           LEDA 1485346     0.0 ...                0.0                0.0\n",
       "           LEDA 2517881     0.0 ...                1.0                0.0\n",
       "           LEDA 3095610     0.0 ...                0.0                0.0\n",
       "           LEDA 3096762     0.0 ...                0.0                0.0\n",
       "          MCG+00-11-002     0.0 ...                0.0                0.0\n",
       "          MCG+03-45-003    0.25 ...                0.5              0.375\n",
       "         QSO B1238+6232     0.0 ...                1.0                0.0"
      ]
     },
     "execution_count": 43,
     "metadata": {},
     "output_type": "execute_result"
    }
   ],
   "source": [
    "TypeTab"
   ]
  },
  {
   "cell_type": "markdown",
   "metadata": {},
   "source": [
    "For the galaxies with at least one classification, we found 34/49 Seyfert 1 galaxies, and for the rest we are going to discuss in depth the results of the classifications."
   ]
  },
  {
   "cell_type": "code",
   "execution_count": 83,
   "metadata": {
    "ExecuteTime": {
     "end_time": "2021-02-25T14:37:33.930659Z",
     "start_time": "2021-02-25T14:37:33.909710Z"
    }
   },
   "outputs": [
    {
     "data": {
      "text/html": [
       "<i>Table length=20</i>\n",
       "<table id=\"table139660678513856\" class=\"table-striped table-bordered table-condensed\">\n",
       "<thead><tr><th>id</th><th>RF_Pred</th><th>XGB_Pred</th><th>CIG_Pred</th><th>ML_Pred</th><th>Sp</th><th>otype_txt</th></tr></thead>\n",
       "<thead><tr><th>str35</th><th>float64</th><th>float64</th><th>float64</th><th>float64</th><th>str4</th><th>str3</th></tr></thead>\n",
       "<tr><td>2E  2294</td><td>0.0</td><td>0.0</td><td>0.0</td><td>0.0</td><td>S1</td><td>SyG</td></tr>\n",
       "<tr><td>2E  2628</td><td>0.0</td><td>0.0</td><td>0.0</td><td>0.0</td><td>S1.5</td><td>SyG</td></tr>\n",
       "<tr><td>2E  3786</td><td>0.0</td><td>0.0</td><td>0.0</td><td>0.0</td><td>S1.0</td><td>SyG</td></tr>\n",
       "<tr><td>2MASS J00423990+3017514</td><td>0.0</td><td>0.0</td><td>0.0</td><td>0.0</td><td>S1.5</td><td>SyG</td></tr>\n",
       "<tr><td>2MASS J01341936+0146479</td><td>0.0</td><td>0.0</td><td>0.0</td><td>0.0</td><td>S1.0</td><td>SyG</td></tr>\n",
       "<tr><td>2MASS J02500703+0025251</td><td>0.0</td><td>0.0</td><td>0.0</td><td>0.0</td><td>S</td><td>Sy1</td></tr>\n",
       "<tr><td>2MASS J08171856+5201477</td><td>0.0</td><td>0.3333333333333333</td><td>1.0</td><td>0.16666666666666666</td><td>S</td><td>Sy1</td></tr>\n",
       "<tr><td>2MASS J09393182+5449092</td><td>0.0</td><td>0.0</td><td>0.0</td><td>0.0</td><td>S</td><td>Sy1</td></tr>\n",
       "<tr><td>2MASS J09455439+4238399</td><td>0.0</td><td>0.0</td><td>0.0</td><td>0.0</td><td>S</td><td>Sy2</td></tr>\n",
       "<tr><td>2MASS J09470326+4640425</td><td>0.0</td><td>0.0</td><td>0.0</td><td>0.0</td><td>S</td><td>Sy1</td></tr>\n",
       "<tr><td>2MASS J09594856+5942505</td><td>0.0</td><td>0.0</td><td>0.0</td><td>0.0</td><td>S</td><td>Sy1</td></tr>\n",
       "<tr><td>2MASS J10102753+4132389</td><td>0.0</td><td>0.0</td><td>0.0</td><td>0.0</td><td>S1.2</td><td>SyG</td></tr>\n",
       "<tr><td>2MASS J10470514+5444060</td><td>0.0</td><td>0.0</td><td>0.0</td><td>0.0</td><td>S</td><td>Sy1</td></tr>\n",
       "<tr><td>2MASS J12002696+3317286</td><td>0.0</td><td>0.0</td><td>0.0</td><td>0.0</td><td>S1.5</td><td>SyG</td></tr>\n",
       "<tr><td>2MASS J15142051+4244453</td><td>0.0</td><td>0.0</td><td>0.0</td><td>0.0</td><td>S</td><td>Sy1</td></tr>\n",
       "<tr><td>2MASSI J0930176+470720</td><td>0.0</td><td>0.0</td><td>0.0</td><td>0.0</td><td>S</td><td>Sy1</td></tr>\n",
       "<tr><td>2MASX J02522087+0043307</td><td>0.0</td><td>0.0</td><td>0.0</td><td>0.0</td><td>S</td><td>Sy1</td></tr>\n",
       "<tr><td>2MASX J02593816+0042167</td><td>0.0</td><td>0.0</td><td>0.0</td><td>0.0</td><td>S</td><td>Sy1</td></tr>\n",
       "<tr><td>2MASX J06374318-7538458</td><td>0.0</td><td>0.0</td><td>0.0</td><td>0.0</td><td>S1.8</td><td>SyG</td></tr>\n",
       "<tr><td>2MASX J08420557+0759253</td><td>0.0</td><td>0.0</td><td>0.0</td><td>0.0</td><td>S1.5</td><td>SyG</td></tr>\n",
       "</table>"
      ],
      "text/plain": [
       "<Table length=20>\n",
       "           id           RF_Pred      XGB_Pred      ...  Sp  otype_txt\n",
       "         str35          float64      float64       ... str4    str3  \n",
       "----------------------- ------- ------------------ ... ---- ---------\n",
       "               2E  2294     0.0                0.0 ...   S1       SyG\n",
       "               2E  2628     0.0                0.0 ... S1.5       SyG\n",
       "               2E  3786     0.0                0.0 ... S1.0       SyG\n",
       "2MASS J00423990+3017514     0.0                0.0 ... S1.5       SyG\n",
       "2MASS J01341936+0146479     0.0                0.0 ... S1.0       SyG\n",
       "2MASS J02500703+0025251     0.0                0.0 ...    S       Sy1\n",
       "2MASS J08171856+5201477     0.0 0.3333333333333333 ...    S       Sy1\n",
       "2MASS J09393182+5449092     0.0                0.0 ...    S       Sy1\n",
       "2MASS J09455439+4238399     0.0                0.0 ...    S       Sy2\n",
       "2MASS J09470326+4640425     0.0                0.0 ...    S       Sy1\n",
       "2MASS J09594856+5942505     0.0                0.0 ...    S       Sy1\n",
       "2MASS J10102753+4132389     0.0                0.0 ... S1.2       SyG\n",
       "2MASS J10470514+5444060     0.0                0.0 ...    S       Sy1\n",
       "2MASS J12002696+3317286     0.0                0.0 ... S1.5       SyG\n",
       "2MASS J15142051+4244453     0.0                0.0 ...    S       Sy1\n",
       " 2MASSI J0930176+470720     0.0                0.0 ...    S       Sy1\n",
       "2MASX J02522087+0043307     0.0                0.0 ...    S       Sy1\n",
       "2MASX J02593816+0042167     0.0                0.0 ...    S       Sy1\n",
       "2MASX J06374318-7538458     0.0                0.0 ... S1.8       SyG\n",
       "2MASX J08420557+0759253     0.0                0.0 ... S1.5       SyG"
      ]
     },
     "execution_count": 83,
     "metadata": {},
     "output_type": "execute_result"
    }
   ],
   "source": [
    "join(TypeTab2[:20], Sample['id', 'Sp', 'otype_txt'])"
   ]
  },
  {
   "cell_type": "code",
   "execution_count": 84,
   "metadata": {
    "ExecuteTime": {
     "end_time": "2021-02-25T14:37:39.361039Z",
     "start_time": "2021-02-25T14:37:39.342218Z"
    }
   },
   "outputs": [
    {
     "data": {
      "text/html": [
       "<i>Table length=20</i>\n",
       "<table id=\"table139660667383968\" class=\"table-striped table-bordered table-condensed\">\n",
       "<thead><tr><th>id</th><th>RF_Pred</th><th>XGB_Pred</th><th>CIG_Pred</th><th>ML_Pred</th><th>Sp</th><th>otype_txt</th></tr></thead>\n",
       "<thead><tr><th>str35</th><th>float64</th><th>float64</th><th>float64</th><th>float64</th><th>str4</th><th>str3</th></tr></thead>\n",
       "<tr><td>2MASX J09420770+0228053</td><td>0.0</td><td>0.0</td><td>0.0</td><td>0.0</td><td>S2</td><td>SyG</td></tr>\n",
       "<tr><td>2MASX J09443702-2633554</td><td>0.0</td><td>0.0</td><td>0.0</td><td>0.0</td><td>S1.5</td><td>SyG</td></tr>\n",
       "<tr><td>2MASX J09483841+4030436</td><td>0.5</td><td>0.5</td><td>0.75</td><td>0.5</td><td>S</td><td>Sy1</td></tr>\n",
       "<tr><td>2MASX J10155660-2002268</td><td>0.0</td><td>0.0</td><td>0.0</td><td>0.0</td><td>S1</td><td>SyG</td></tr>\n",
       "<tr><td>2MASX J10194946+3322041</td><td>0.0</td><td>0.0</td><td>0.0</td><td>0.0</td><td>S</td><td>Sy2</td></tr>\n",
       "<tr><td>2MASX J15085291+6814074</td><td>0.0</td><td>0.0</td><td>0.0</td><td>0.0</td><td>S1.8</td><td>SyG</td></tr>\n",
       "<tr><td>2MASX J16383091-2055246</td><td>0.5</td><td>1.0</td><td>0.0</td><td>0.75</td><td>S1</td><td>SyG</td></tr>\n",
       "<tr><td>2MASX J21512498-0757558</td><td>1.0</td><td>1.0</td><td>1.0</td><td>1.0</td><td>S</td><td>Sy1</td></tr>\n",
       "<tr><td>2MASX J22024516-1304538</td><td>0.0</td><td>0.0</td><td>0.0</td><td>0.0</td><td>S1.8</td><td>SyG</td></tr>\n",
       "<tr><td>2MASX J23044283-0933454</td><td>0.0</td><td>1.0</td><td>1.0</td><td>0.5</td><td>S</td><td>Sy2</td></tr>\n",
       "<tr><td>2dFGRS TGN357Z241</td><td>0.0</td><td>0.0</td><td>0.0</td><td>0.0</td><td>S1.2</td><td>SyG</td></tr>\n",
       "<tr><td>3C 286</td><td>0.0</td><td>0.0</td><td>0.0</td><td>0.0</td><td>S1.5</td><td>SyG</td></tr>\n",
       "<tr><td>6dFGS gJ034205.4-370322</td><td>0.0</td><td>0.0</td><td>0.0</td><td>0.0</td><td>S1</td><td>SyG</td></tr>\n",
       "<tr><td>6dFGS gJ043944.9-454043</td><td>0.0</td><td>0.0</td><td>0.0</td><td>0.0</td><td>S1</td><td>SyG</td></tr>\n",
       "<tr><td>6dFGS gJ084628.7-121409</td><td>0.0</td><td>0.0</td><td>0.0</td><td>0.0</td><td>S1.5</td><td>SyG</td></tr>\n",
       "<tr><td>CTS   11</td><td>0.0</td><td>0.0</td><td>0.0</td><td>0.0</td><td>S1</td><td>SyG</td></tr>\n",
       "<tr><td>ESO 323-77</td><td>0.0</td><td>0.0</td><td>0.0</td><td>0.0</td><td>S1.2</td><td>SyG</td></tr>\n",
       "<tr><td>HE 0226-4110</td><td>0.0</td><td>0.0</td><td>0.0</td><td>0.0</td><td>S1.0</td><td>SyG</td></tr>\n",
       "<tr><td>ICRF J025937.6+423549</td><td>0.0</td><td>0.0</td><td>0.0</td><td>0.0</td><td>S1.5</td><td>SyG</td></tr>\n",
       "<tr><td>ICRF J081100.6+571412</td><td>0.0</td><td>0.0</td><td>0.0</td><td>0.0</td><td>S1.5</td><td>SyG</td></tr>\n",
       "</table>"
      ],
      "text/plain": [
       "<Table length=20>\n",
       "           id           RF_Pred XGB_Pred CIG_Pred ML_Pred  Sp  otype_txt\n",
       "         str35          float64 float64  float64  float64 str4    str3  \n",
       "----------------------- ------- -------- -------- ------- ---- ---------\n",
       "2MASX J09420770+0228053     0.0      0.0      0.0     0.0   S2       SyG\n",
       "2MASX J09443702-2633554     0.0      0.0      0.0     0.0 S1.5       SyG\n",
       "2MASX J09483841+4030436     0.5      0.5     0.75     0.5    S       Sy1\n",
       "2MASX J10155660-2002268     0.0      0.0      0.0     0.0   S1       SyG\n",
       "2MASX J10194946+3322041     0.0      0.0      0.0     0.0    S       Sy2\n",
       "2MASX J15085291+6814074     0.0      0.0      0.0     0.0 S1.8       SyG\n",
       "2MASX J16383091-2055246     0.5      1.0      0.0    0.75   S1       SyG\n",
       "2MASX J21512498-0757558     1.0      1.0      1.0     1.0    S       Sy1\n",
       "2MASX J22024516-1304538     0.0      0.0      0.0     0.0 S1.8       SyG\n",
       "2MASX J23044283-0933454     0.0      1.0      1.0     0.5    S       Sy2\n",
       "      2dFGRS TGN357Z241     0.0      0.0      0.0     0.0 S1.2       SyG\n",
       "                 3C 286     0.0      0.0      0.0     0.0 S1.5       SyG\n",
       "6dFGS gJ034205.4-370322     0.0      0.0      0.0     0.0   S1       SyG\n",
       "6dFGS gJ043944.9-454043     0.0      0.0      0.0     0.0   S1       SyG\n",
       "6dFGS gJ084628.7-121409     0.0      0.0      0.0     0.0 S1.5       SyG\n",
       "               CTS   11     0.0      0.0      0.0     0.0   S1       SyG\n",
       "             ESO 323-77     0.0      0.0      0.0     0.0 S1.2       SyG\n",
       "           HE 0226-4110     0.0      0.0      0.0     0.0 S1.0       SyG\n",
       "  ICRF J025937.6+423549     0.0      0.0      0.0     0.0 S1.5       SyG\n",
       "  ICRF J081100.6+571412     0.0      0.0      0.0     0.0 S1.5       SyG"
      ]
     },
     "execution_count": 84,
     "metadata": {},
     "output_type": "execute_result"
    }
   ],
   "source": [
    "join(TypeTab2[20:40], Sample['id', 'Sp', 'otype_txt'])"
   ]
  },
  {
   "cell_type": "code",
   "execution_count": 85,
   "metadata": {
    "ExecuteTime": {
     "end_time": "2021-02-25T14:37:41.335678Z",
     "start_time": "2021-02-25T14:37:41.310273Z"
    }
   },
   "outputs": [
    {
     "data": {
      "text/html": [
       "<i>Table length=9</i>\n",
       "<table id=\"table139660590614464\" class=\"table-striped table-bordered table-condensed\">\n",
       "<thead><tr><th>id</th><th>RF_Pred</th><th>XGB_Pred</th><th>CIG_Pred</th><th>ML_Pred</th><th>Sp</th><th>otype_txt</th></tr></thead>\n",
       "<thead><tr><th>str35</th><th>float64</th><th>float64</th><th>float64</th><th>float64</th><th>str4</th><th>str3</th></tr></thead>\n",
       "<tr><td>ICRF J100646.4-215920</td><td>0.0</td><td>0.0</td><td>0.0</td><td>0.0</td><td>S1.0</td><td>SyG</td></tr>\n",
       "<tr><td>ICRF J110153.4+624150</td><td>0.0</td><td>0.0</td><td>0.0</td><td>0.0</td><td>S1.5</td><td>SyG</td></tr>\n",
       "<tr><td>ICRF J135704.4+191907</td><td>0.0</td><td>0.0</td><td>0.0</td><td>0.0</td><td>S1.5</td><td>SyG</td></tr>\n",
       "<tr><td>IRAS 10295-1831</td><td>0.25</td><td>0.25</td><td>0.0</td><td>0.25</td><td>S1.5</td><td>SyG</td></tr>\n",
       "<tr><td>MCG+03-60-031</td><td>1.0</td><td>1.0</td><td>0.5</td><td>1.0</td><td>S1</td><td>SyG</td></tr>\n",
       "<tr><td>MCG+05-28-032</td><td>0.0</td><td>0.0</td><td>0.0</td><td>0.0</td><td>S3</td><td>SyG</td></tr>\n",
       "<tr><td>Mrk 1361</td><td>1.0</td><td>1.0</td><td>0.5</td><td>1.0</td><td>S</td><td>Sy2</td></tr>\n",
       "<tr><td>PB   162</td><td>0.0</td><td>0.0</td><td>0.0</td><td>0.0</td><td>S</td><td>Sy1</td></tr>\n",
       "<tr><td>UGC 10683</td><td>1.0</td><td>1.0</td><td>0.0</td><td>1.0</td><td>S1.5</td><td>SyG</td></tr>\n",
       "</table>"
      ],
      "text/plain": [
       "<Table length=9>\n",
       "          id          RF_Pred XGB_Pred CIG_Pred ML_Pred  Sp  otype_txt\n",
       "        str35         float64 float64  float64  float64 str4    str3  \n",
       "--------------------- ------- -------- -------- ------- ---- ---------\n",
       "ICRF J100646.4-215920     0.0      0.0      0.0     0.0 S1.0       SyG\n",
       "ICRF J110153.4+624150     0.0      0.0      0.0     0.0 S1.5       SyG\n",
       "ICRF J135704.4+191907     0.0      0.0      0.0     0.0 S1.5       SyG\n",
       "      IRAS 10295-1831    0.25     0.25      0.0    0.25 S1.5       SyG\n",
       "        MCG+03-60-031     1.0      1.0      0.5     1.0   S1       SyG\n",
       "        MCG+05-28-032     0.0      0.0      0.0     0.0   S3       SyG\n",
       "             Mrk 1361     1.0      1.0      0.5     1.0    S       Sy2\n",
       "             PB   162     0.0      0.0      0.0     0.0    S       Sy1\n",
       "            UGC 10683     1.0      1.0      0.0     1.0 S1.5       SyG"
      ]
     },
     "execution_count": 85,
     "metadata": {},
     "output_type": "execute_result"
    }
   ],
   "source": [
    "join(TypeTab2[40:], Sample['id', 'Sp', 'otype_txt'])"
   ]
  },
  {
   "cell_type": "markdown",
   "metadata": {},
   "source": [
    "##### Notebook info"
   ]
  },
  {
   "cell_type": "code",
   "execution_count": 76,
   "metadata": {
    "ExecuteTime": {
     "end_time": "2021-02-25T12:01:56.770288Z",
     "start_time": "2021-02-25T12:01:56.609965Z"
    }
   },
   "outputs": [
    {
     "name": "stdout",
     "output_type": "stream",
     "text": [
      "Author: Andres Ramos\n",
      "\n",
      "Python implementation: CPython\n",
      "Python version       : 3.8.3\n",
      "IPython version      : 7.16.1\n",
      "\n",
      "Compiler    : GCC 7.3.0\n",
      "OS          : Linux\n",
      "Release     : 3.10.0-1160.el7.x86_64\n",
      "Machine     : x86_64\n",
      "Processor   : x86_64\n",
      "CPU cores   : 8\n",
      "Architecture: 64bit\n",
      "\n",
      "Specific Python packages\n",
      "sys       : 3.8.3 (default, Jul  2 2020, 16:21:59) \n",
      "[GCC 7.3.0]\n",
      "re        : 2.2.1\n",
      "logging   : 0.5.1.2\n",
      "json      : 2.0.9\n",
      "astropy   : 4.2\n",
      "autopep8  : 1.5.4\n",
      "xgboost   : 1.3.3\n",
      "numpy     : 1.19.5\n",
      "sklearn   : 0.23.1\n",
      "seaborn   : 0.11.1\n",
      "matplotlib: 3.2.2\n",
      "pandas    : 1.2.0\n",
      "\n",
      "Watermark: 2.1.0\n",
      "\n"
     ]
    }
   ],
   "source": [
    "%load_ext watermark\n",
    "%watermark -a \"Andres Ramos\" -d -v -m\n",
    "print('Specific Python packages')\n",
    "%watermark -iv -w"
   ]
  },
  {
   "cell_type": "code",
   "execution_count": null,
   "metadata": {},
   "outputs": [],
   "source": []
  }
 ],
 "metadata": {
  "hide_input": false,
  "kernelspec": {
   "display_name": "Python 3",
   "language": "python",
   "name": "python3"
  },
  "language_info": {
   "codemirror_mode": {
    "name": "ipython",
    "version": 3
   },
   "file_extension": ".py",
   "mimetype": "text/x-python",
   "name": "python",
   "nbconvert_exporter": "python",
   "pygments_lexer": "ipython3",
   "version": "3.8.3"
  },
  "toc": {
   "base_numbering": "11",
   "nav_menu": {},
   "number_sections": true,
   "sideBar": true,
   "skip_h1_title": false,
   "title_cell": "Table of Contents",
   "title_sidebar": "Contents",
   "toc_cell": false,
   "toc_position": {
    "height": "calc(100% - 180px)",
    "left": "10px",
    "top": "150px",
    "width": "201px"
   },
   "toc_section_display": true,
   "toc_window_display": true
  },
  "varInspector": {
   "cols": {
    "lenName": 16,
    "lenType": 16,
    "lenVar": 40
   },
   "kernels_config": {
    "python": {
     "delete_cmd_postfix": "",
     "delete_cmd_prefix": "del ",
     "library": "var_list.py",
     "varRefreshCmd": "print(var_dic_list())"
    },
    "r": {
     "delete_cmd_postfix": ") ",
     "delete_cmd_prefix": "rm(",
     "library": "var_list.r",
     "varRefreshCmd": "cat(var_dic_list()) "
    }
   },
   "types_to_exclude": [
    "module",
    "function",
    "builtin_function_or_method",
    "instance",
    "_Feature"
   ],
   "window_display": false
  }
 },
 "nbformat": 4,
 "nbformat_minor": 4
}
