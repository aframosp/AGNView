{
 "cells": [
  {
   "cell_type": "markdown",
   "metadata": {
    "ExecuteTime": {
     "end_time": "2021-08-13T09:59:31.898965Z",
     "start_time": "2021-08-13T09:59:31.893473Z"
    }
   },
   "source": [
    "# Mock analysis of the output parameters\n",
    "In this notebook, we look at the mock results from the run with AGN (SKIRTOR and Fritz) to see how much of the results depends in the grid of parameters. First, we import the Python packages."
   ]
  },
  {
   "cell_type": "code",
   "execution_count": 1,
   "metadata": {
    "ExecuteTime": {
     "end_time": "2021-08-19T09:38:34.952821Z",
     "start_time": "2021-08-19T09:38:34.630209Z"
    }
   },
   "outputs": [
    {
     "name": "stdout",
     "output_type": "stream",
     "text": [
      "Using matplotlib backend: Qt5Agg\n",
      "Populating the interactive namespace from numpy and matplotlib\n"
     ]
    }
   ],
   "source": [
    "%pylab"
   ]
  },
  {
   "cell_type": "code",
   "execution_count": 2,
   "metadata": {
    "ExecuteTime": {
     "end_time": "2021-08-19T09:38:35.753170Z",
     "start_time": "2021-08-19T09:38:34.953874Z"
    }
   },
   "outputs": [],
   "source": [
    "import matplotlib.colors as colors\n",
    "\n",
    "import astropy.units as u\n",
    "from astropy.table import Table, join, vstack"
   ]
  },
  {
   "cell_type": "markdown",
   "metadata": {},
   "source": [
    "We read the clean results from the SKIRTOR and Fritz setups"
   ]
  },
  {
   "cell_type": "code",
   "execution_count": 3,
   "metadata": {
    "ExecuteTime": {
     "end_time": "2021-08-19T09:38:36.018361Z",
     "start_time": "2021-08-19T09:38:35.754330Z"
    }
   },
   "outputs": [],
   "source": [
    "ModelS = Table.read('../Data/Final/CIGALEOutputs/Cleanresults_SK.fits', format='fits')\n",
    "ModelF = Table.read('../Data/Final/CIGALEOutputs/Cleanresults_Fr.fits', format='fits')"
   ]
  },
  {
   "cell_type": "markdown",
   "metadata": {},
   "source": [
    "## Join mock results\n",
    "We stack the results from the mock observations to compared with the clean results for the SKIRTOR and Fritz setups."
   ]
  },
  {
   "cell_type": "code",
   "execution_count": 4,
   "metadata": {
    "ExecuteTime": {
     "end_time": "2021-08-19T09:38:38.911243Z",
     "start_time": "2021-08-19T09:38:36.019775Z"
    }
   },
   "outputs": [],
   "source": [
    "INTERIM_FOLDER = '../Data/Interim/CIGALEOutputs_mock/'\n",
    "\n",
    "# Fritz model\n",
    "Mocks_Fr = Table()\n",
    "for grp in range(1, 11):\n",
    "    model = Table.read(INTERIM_FOLDER+'FrAGN/results_mock'+str(grp)+'.fits',\n",
    "                       format='fits')\n",
    "    Mocks_Fr = vstack([model, Mocks_Fr])\n",
    "\n",
    "# SKIRTOR model\n",
    "Mocks_SK = Table()\n",
    "for grp in range(1, 11):\n",
    "    model = Table.read(INTERIM_FOLDER+'SKAGN/results_mock'+str(grp)+'.fits',\n",
    "                       format='fits')\n",
    "    Mocks_SK = vstack([model, Mocks_SK])"
   ]
  },
  {
   "cell_type": "markdown",
   "metadata": {
    "ExecuteTime": {
     "end_time": "2021-08-13T13:28:00.837565Z",
     "start_time": "2021-08-13T13:28:00.832649Z"
    }
   },
   "source": [
    "We rename the Fritz models as $i=90-\\psi$ (with $\\psi$ the angle between the equator to the pole of the system) and the thermal (dust) luminosity to compare with SKIRTOR model."
   ]
  },
  {
   "cell_type": "code",
   "execution_count": 5,
   "metadata": {
    "ExecuteTime": {
     "end_time": "2021-08-19T09:38:38.916087Z",
     "start_time": "2021-08-19T09:38:38.912280Z"
    }
   },
   "outputs": [],
   "source": [
    "Mocks_Fr.rename_column('bayes.agn.psy', 'bayes.agn.i')\n",
    "Mocks_Fr.rename_column('bayes.agn.psy_err', 'bayes.agn.i_err')\n",
    "Mocks_Fr.rename_column('bayes.agn.therm_luminosity', 'bayes.agn.dust_luminosity')\n",
    "Mocks_Fr.rename_column('bayes.agn.therm_luminosity_err',\n",
    "                   'bayes.agn.dust_luminosity_err')\n",
    "Mocks_Fr['bayes.agn.i'] = 90-Mocks_Fr['bayes.agn.i']"
   ]
  },
  {
   "cell_type": "markdown",
   "metadata": {},
   "source": [
    "Finally, we join both models with their mocks counterparts"
   ]
  },
  {
   "cell_type": "code",
   "execution_count": 6,
   "metadata": {
    "ExecuteTime": {
     "end_time": "2021-08-19T09:38:39.122893Z",
     "start_time": "2021-08-19T09:38:38.917174Z"
    }
   },
   "outputs": [],
   "source": [
    "Both_SK = join(ModelS, Mocks_SK, keys='id')\n",
    "Both_Fr = join(ModelF, Mocks_Fr, keys='id')"
   ]
  },
  {
   "cell_type": "markdown",
   "metadata": {},
   "source": [
    "This numbers should be the same as the one in Table 3. "
   ]
  },
  {
   "cell_type": "code",
   "execution_count": 7,
   "metadata": {
    "ExecuteTime": {
     "end_time": "2021-08-19T09:38:39.126045Z",
     "start_time": "2021-08-19T09:38:39.123907Z"
    }
   },
   "outputs": [
    {
     "name": "stdout",
     "output_type": "stream",
     "text": [
      "The number of mock galaxies are 7992 for SKIRTOR and 8416 for Fritz\n"
     ]
    }
   ],
   "source": [
    "print('The number of mock galaxies are %d for SKIRTOR and %d for Fritz'\n",
    "      %(len(Both_SK), len(Both_Fr)))"
   ]
  },
  {
   "cell_type": "markdown",
   "metadata": {},
   "source": [
    "We transform luminosities from W to solar luminosities. In addition, we reformat some parameters in log units, useful for the plots. "
   ]
  },
  {
   "cell_type": "code",
   "execution_count": 8,
   "metadata": {
    "ExecuteTime": {
     "end_time": "2021-08-19T09:38:41.984225Z",
     "start_time": "2021-08-19T09:38:41.953952Z"
    }
   },
   "outputs": [],
   "source": [
    "for modl in [Both_Fr, Both_SK]:\n",
    "    for kisd in ['bayes.agn.luminosity', 'bayes.agn.disk_luminosity', 'bayes.agn.accretion_power',\n",
    "                 'bayes.agn.dust_luminosity', 'bayes.dust.luminosity']:\n",
    "        for sub in ['_1', '_2']:\n",
    "            modl[kisd+sub] = (modl[kisd+sub]).to(u.solLum)\n",
    "            modl[kisd+'_err'+sub] = (modl[kisd+'_err'+sub]).to(u.solLum)\n",
    "\n",
    "    for asdf in ['bayes.agn.disk_luminosity', 'bayes.agn.accretion_power',\n",
    "                 'bayes.agn.luminosity', 'bayes.agn.dust_luminosity',\n",
    "                 'bayes.dust.luminosity', 'bayes.sfh.sfr',\n",
    "                 'bayes.stellar.m_star', 'bayes.sfh.tau_main']:\n",
    "        for sub in ['_1', '_2']:\n",
    "            modl[asdf+'_err'+sub] = modl[asdf+'_err'+sub]/(modl[asdf+sub] * np.log(10))\n",
    "            modl[asdf+sub] = np.log10(modl[asdf+sub])"
   ]
  },
  {
   "cell_type": "markdown",
   "metadata": {},
   "source": [
    "## Check of $\\chi_{\\rm{red}}^{2}$ distributions\n",
    "We check how the $\\chi_{\\rm{red}}^{2}$ have changed between the mock and the estimated values"
   ]
  },
  {
   "cell_type": "code",
   "execution_count": 9,
   "metadata": {
    "ExecuteTime": {
     "end_time": "2021-08-19T09:38:42.458758Z",
     "start_time": "2021-08-19T09:38:41.985412Z"
    }
   },
   "outputs": [
    {
     "data": {
      "text/plain": [
       "<matplotlib.legend.Legend at 0x7f5391698ee0>"
      ]
     },
     "execution_count": 9,
     "metadata": {},
     "output_type": "execute_result"
    },
    {
     "data": {
      "image/png": "[encoded data removed]",
      "text/plain": [
       "<Figure size 432x288 with 1 Axes>"
      ]
     },
     "metadata": {
      "needs_background": "light"
     },
     "output_type": "display_data"
    }
   ],
   "source": [
    "%matplotlib inline\n",
    "plt.scatter(np.log10(Both_SK['best.reduced_chi_square_1']),\n",
    "            np.log10(Both_SK['best.reduced_chi_square_2']), alpha=0.1, label='SKIRTOR')\n",
    "plt.scatter(np.log10(Both_Fr['best.reduced_chi_square_1']),\n",
    "            np.log10(Both_Fr['best.reduced_chi_square_2']), alpha=0.1, label='Fritz')\n",
    "plt.axhline(y=0.5, c='gray')\n",
    "plt.axhline(y=-0.5, c='gray')\n",
    "plt.xlabel(r'$\\log(\\chi^2_{\\rm{red}})$ Estimated')\n",
    "plt.ylabel(r'$\\log(\\chi^2_{\\rm{red}})$ Mock')\n",
    "plt.legend()"
   ]
  },
  {
   "cell_type": "markdown",
   "metadata": {},
   "source": [
    "Mock results tend to overestimate the final adjustment to the fit. But most of the results in both SKIRTOR and Fritz models are inside the original selection of $\\log(\\chi^2_{\\rm{red}})$"
   ]
  },
  {
   "cell_type": "markdown",
   "metadata": {},
   "source": [
    "## Comparison between estimated and mock values\n",
    "We present the plots between the estimated and mock values for a set of physical parameters important for this work. We define list to define the limits and labels for the different subplots."
   ]
  },
  {
   "cell_type": "code",
   "execution_count": 10,
   "metadata": {
    "ExecuteTime": {
     "end_time": "2021-08-19T09:38:42.464069Z",
     "start_time": "2021-08-19T09:38:42.459648Z"
    }
   },
   "outputs": [],
   "source": [
    "list_part = ['agn.i', 'agn.fracAGN', 'agn.disk_luminosity', 'agn.EBV',\n",
    "             'attenuation.E_BVs', 'sfh.tau_main', 'sfh.sfr',\n",
    "             'agn.accretion_power', 'stellar.m_star', 'dust.luminosity']\n",
    "#              'sfh.age', 'agn.luminosity', 'agn.dust_luminosity' ]\n",
    "ParamLabel = ['View. Angle', r'$f_{\\rm{AGN}}$', r'$\\rm{L}_{\\rm{AGN}}^{\\rm{disc}}$',\n",
    "              r'Polar-dust E(B-V)', 'E(B-V)', r'$\\tau_{\\rm{main}}$', 'SFR',\n",
    "              'AGN accre. power',  r'Stellar Mass',\n",
    "              r'$\\rm{L}_{\\rm{dust}}$', '']\n",
    "ParamRange = [[0, 90], [0.05, 0.95], [7, 12], [0, 1],\n",
    "              [0.088, 0.352], [1.65, 3.7], [-3, 3],\n",
    "              [8, 13], [8, 12], [8, 12]]\n",
    "ParamUnit = ['[degrees]', '[Fraction]', r'[$\\log$(L$_{\\odot}$)]', '[mag]',\n",
    "             '[mag]', r'[$\\log$(Myr)]', r'[$\\log$(M$_{\\odot}$/yr)]',\n",
    "             r'[$\\log$(L$_{\\odot}$)]', r'[$\\log$(M$_{\\odot}$)]', r'[$\\log$(L$_{\\odot}$)]']\n",
    "Particks = [[0, 25, 45, 65, 90], [0.25, 0.5, 0.75], [8, 10, 12], [0, 0.4, 0.8],\n",
    "            [0.1, 0.2, 0.3], [2, 2.5, 3, 3.5], [-2, 0, 2],\n",
    "            [8, 10, 12], [8, 10, 12], [8, 10, 12]]\n",
    "LocErr = [[par[0] + ((par[1]-par[0])*0.7), par[0] + ((par[1]-par[0])*0.3)]\n",
    "          for i_par, par in enumerate(ParamRange)]"
   ]
  },
  {
   "cell_type": "markdown",
   "metadata": {},
   "source": [
    "We truncate the colormap to clearly see the differences"
   ]
  },
  {
   "cell_type": "code",
   "execution_count": 11,
   "metadata": {
    "ExecuteTime": {
     "end_time": "2021-08-19T09:38:42.473187Z",
     "start_time": "2021-08-19T09:38:42.464946Z"
    }
   },
   "outputs": [],
   "source": [
    "cmap = plt.get_cmap('YlOrBr')\n",
    "\n",
    "\n",
    "def truncate_colormap(colormap, minval=0.0, maxval=1.0, nspa=100):\n",
    "    \"\"\"Function found on stackoverflow.com: how-to-extract-a-subset-of-a-colormap-as-\n",
    "    a-new-colormap-in-matplotlib\"\"\"\n",
    "    new_colormap = colors.LinearSegmentedColormap.from_list(\n",
    "        'trunc({n},{a:.2f},{b:.2f})'.format(n=colormap.name, a=minval, b=maxval),\n",
    "        colormap(np.linspace(minval, maxval, nspa)))\n",
    "    return new_colormap\n",
    "\n",
    "\n",
    "new_cmap = truncate_colormap(cmap, 0.1, 0.95)"
   ]
  },
  {
   "cell_type": "markdown",
   "metadata": {
    "ExecuteTime": {
     "end_time": "2021-08-16T09:47:44.269728Z",
     "start_time": "2021-08-16T09:47:44.264592Z"
    }
   },
   "source": [
    "##### For SKIRTOR"
   ]
  },
  {
   "cell_type": "code",
   "execution_count": 12,
   "metadata": {
    "ExecuteTime": {
     "end_time": "2021-08-19T09:39:31.478451Z",
     "start_time": "2021-08-19T09:39:27.961009Z"
    }
   },
   "outputs": [
    {
     "name": "stdout",
     "output_type": "stream",
     "text": [
      "Using matplotlib backend: Qt5Agg\n"
     ]
    },
    {
     "name": "stderr",
     "output_type": "stream",
     "text": [
      "/Users/users/ramos/.local/lib/python3.8/site-packages/numpy/core/fromnumeric.py:748: UserWarning: Warning: 'partition' will ignore the 'mask' of the MaskedColumn.\n",
      "  a.partition(kth, axis=axis, kind=kind, order=order)\n"
     ]
    },
    {
     "name": "stdout",
     "output_type": "stream",
     "text": [
      "View. Angle Median error  15.573180241055931\n",
      "$f_{\\rm{AGN}}$ Median error  0.13303726743588146\n",
      "$\\rm{L}_{\\rm{AGN}}^{\\rm{disc}}$ Median error  0.15260731437319294\n",
      "Polar-dust E(B-V) Median error  0.2741983026998453\n",
      "E(B-V) Median error  0.05425392144368513\n",
      "$\\tau_{\\rm{main}}$ Median error  0.29930739567563475\n",
      "SFR Median error  0.20953873847727084\n",
      "AGN accre. power Median error  0.10215998591755218\n",
      "Stellar Mass Median error  0.17965602116109908\n"
     ]
    }
   ],
   "source": [
    "%matplotlib\n",
    "\n",
    "# with plt.style.context('seaborn-talk'):\n",
    "with plt.style.context('seaborn-paper'):\n",
    "    plt.rcParams.update({'font.size': 11})\n",
    "    plt.rcParams.update({'axes.labelsize': 11})\n",
    "    plt.rcParams.update({'legend.fontsize': 10})\n",
    "    plt.rcParams.update({'ytick.labelsize': 10})\n",
    "    plt.rcParams.update({'xtick.labelsize': 10})\n",
    "    fig, axs = plt.subplots(3, 3, figsize=(14.06, 7))\n",
    "    for i_par, phyp in enumerate(list_part[:-1]):\n",
    "        ax = axs.ravel()[i_par]\n",
    "        paramet = 'bayes.'+phyp\n",
    "        bins_total = np.linspace(ParamRange[i_par][0],\n",
    "                                 ParamRange[i_par][1], 26)\n",
    "        hist_par, _, _ = np.histogram2d(Both_SK[paramet+'_1'],\n",
    "                                        Both_SK[paramet+'_2'],\n",
    "                                        bins=(bins_total, bins_total))\n",
    "        hist_par[hist_par <= 1.0] = np.nan\n",
    "        valper = hist_par.T/len(Both_SK) * 100\n",
    "        ax.scatter(Both_SK[paramet+'_1'],\n",
    "                   Both_SK[paramet+'_2'], c='Orange', s=1)\n",
    "        mape = ax.imshow(valper, interpolation='None', origin='lower', cmap=new_cmap,\n",
    "                         extent=[bins_total.min(), bins_total.max(),\n",
    "                                 bins_total.min(), bins_total.max()], zorder=1,\n",
    "                         #                          vmax=2)\n",
    "                         vmax=np.nanpercentile(valper, 98))\n",
    "        clb = fig.colorbar(mape, ax=ax, pad=0, fraction=0.0476)\n",
    "        clb.ax.set_title('%')\n",
    "        ax.plot([bins_total.min(), bins_total.max()],\n",
    "                [bins_total.min(), bins_total.max()], c='k', ls=':')\n",
    "        ax.set_xlim(bins_total.min(), bins_total.max())\n",
    "        ax.set_ylim(bins_total.min(), bins_total.max())\n",
    "        ax.set_xticks(Particks[i_par])\n",
    "        ax.set_yticks(Particks[i_par])\n",
    "        ax.set_title(ParamLabel[i_par])\n",
    "        ax.set_ylabel('Mock value '+ParamUnit[i_par])\n",
    "        ax.set_xlabel('Estimated value '+ParamUnit[i_par])\n",
    "        Xerr = np.median(Both_Fr[paramet+'_err_1'])\n",
    "        Yerr = np.median(Both_Fr[paramet+'_err_2'])\n",
    "        print(ParamLabel[i_par], 'Median error ', Yerr)\n",
    "        ax.errorbar(LocErr[i_par][0], LocErr[i_par][1],\n",
    "                    xerr=Xerr, yerr=Yerr, c='gray')\n",
    "    plt.subplots_adjust(wspace=0.0, left=0.1, right=0.9,\n",
    "                        top=0.98, bottom=0.02, hspace=0.45)\n",
    "    plt.savefig('../Figures/B1.pdf', dpi=300, bbox_inches='tight')  # For Paper\n",
    "#     plt.savefig('../Talk_Figures/B1.png', dpi=300, bbox_inches='tight') ## For Presentation"
   ]
  },
  {
   "cell_type": "markdown",
   "metadata": {},
   "source": [
    "##### For Fritz model"
   ]
  },
  {
   "cell_type": "code",
   "execution_count": 13,
   "metadata": {
    "ExecuteTime": {
     "end_time": "2021-08-19T09:40:37.335441Z",
     "start_time": "2021-08-19T09:40:35.455547Z"
    }
   },
   "outputs": [
    {
     "name": "stdout",
     "output_type": "stream",
     "text": [
      "Using matplotlib backend: Qt5Agg\n"
     ]
    },
    {
     "name": "stderr",
     "output_type": "stream",
     "text": [
      "/Users/users/ramos/.local/lib/python3.8/site-packages/numpy/core/fromnumeric.py:748: UserWarning: Warning: 'partition' will ignore the 'mask' of the MaskedColumn.\n",
      "  a.partition(kth, axis=axis, kind=kind, order=order)\n"
     ]
    },
    {
     "name": "stdout",
     "output_type": "stream",
     "text": [
      "View. Angle Median error  15.573180241055931\n",
      "$f_{\\rm{AGN}}$ Median error  0.13303726743588146\n",
      "$\\rm{L}_{\\rm{AGN}}^{\\rm{disc}}$ Median error  0.15260731437319294\n",
      "Polar-dust E(B-V) Median error  0.2741983026998453\n",
      "E(B-V) Median error  0.05425392144368513\n",
      "$\\tau_{\\rm{main}}$ Median error  0.29930739567563475\n",
      "SFR Median error  0.20953873847727084\n",
      "AGN accre. power Median error  0.10215998591755218\n",
      "Stellar Mass Median error  0.17965602116109908\n"
     ]
    }
   ],
   "source": [
    "%matplotlib\n",
    "\n",
    "# with plt.style.context('seaborn-talk'):\n",
    "with plt.style.context('seaborn-paper'):\n",
    "    plt.rcParams.update({'font.size': 11})\n",
    "    plt.rcParams.update({'axes.labelsize': 11})\n",
    "    plt.rcParams.update({'legend.fontsize': 10})\n",
    "    plt.rcParams.update({'ytick.labelsize': 10})\n",
    "    plt.rcParams.update({'xtick.labelsize': 10})\n",
    "    fig, axs = plt.subplots(3, 3, figsize=(14.06, 7))\n",
    "    for i_par, phyp in enumerate(list_part[:-1]):\n",
    "        ax = axs.ravel()[i_par]\n",
    "        paramet = 'bayes.'+phyp\n",
    "        bins_total = np.linspace(ParamRange[i_par][0],\n",
    "                                 ParamRange[i_par][1], 26)\n",
    "        hist_par, _, _ = np.histogram2d(Both_Fr[paramet+'_1'],\n",
    "                                        Both_Fr[paramet+'_2'],\n",
    "                                        bins=(bins_total, bins_total))\n",
    "        hist_par[hist_par <= 1.0] = np.nan\n",
    "        valper = hist_par.T/len(Both_Fr) * 100\n",
    "        ax.scatter(Both_Fr[paramet+'_1'],\n",
    "                   Both_Fr[paramet+'_2'], c='Orange', s=1)\n",
    "        mape = ax.imshow(valper, interpolation='None', origin='lower', cmap=new_cmap,\n",
    "                         extent=[bins_total.min(), bins_total.max(),\n",
    "                                 bins_total.min(), bins_total.max()], zorder=1,\n",
    "                         #                          vmax=2)\n",
    "                         vmax=np.nanpercentile(valper, 98))\n",
    "        clb = fig.colorbar(mape, ax=ax, pad=0, fraction=0.0476)\n",
    "        clb.ax.set_title('%')\n",
    "        ax.plot([bins_total.min(), bins_total.max()],\n",
    "                [bins_total.min(), bins_total.max()], c='k', ls=':')\n",
    "        ax.set_xlim(bins_total.min(), bins_total.max())\n",
    "        ax.set_ylim(bins_total.min(), bins_total.max())\n",
    "        ax.set_xticks(Particks[i_par])\n",
    "        ax.set_yticks(Particks[i_par])\n",
    "        ax.set_title(ParamLabel[i_par])\n",
    "        ax.set_ylabel('Mock value '+ParamUnit[i_par])\n",
    "        ax.set_xlabel('Estimated value '+ParamUnit[i_par])\n",
    "        Xerr = np.median(Both_Fr[paramet+'_err_1'])\n",
    "        Yerr = np.median(Both_Fr[paramet+'_err_2'])\n",
    "        print(ParamLabel[i_par], 'Median error ', Yerr)\n",
    "        ax.errorbar(LocErr[i_par][0], LocErr[i_par][1],\n",
    "                    xerr=Xerr, yerr=Yerr, c='gray')\n",
    "    plt.subplots_adjust(wspace=0.0, left=0.1, right=0.9,\n",
    "                        top=0.98, bottom=0.02, hspace=0.45)\n",
    "    plt.savefig('../Figures/B1_Alt.pdf', dpi=300, bbox_inches='tight')  # For Paper\n",
    "#     plt.savefig('../Talk_Figures/B1_Alt.png', dpi=300, bbox_inches='tight') ## For Presentation"
   ]
  },
  {
   "cell_type": "code",
   "execution_count": 14,
   "metadata": {
    "ExecuteTime": {
     "end_time": "2021-08-19T09:41:04.238570Z",
     "start_time": "2021-08-19T09:41:03.935433Z"
    }
   },
   "outputs": [
    {
     "name": "stdout",
     "output_type": "stream",
     "text": [
      "Author: Andres Ramos\n",
      "\n",
      "Python implementation: CPython\n",
      "Python version       : 3.8.3\n",
      "IPython version      : 7.16.1\n",
      "\n",
      "Compiler    : GCC 7.3.0\n",
      "OS          : Linux\n",
      "Release     : 3.10.0-1160.25.1.el7.x86_64\n",
      "Machine     : x86_64\n",
      "Processor   : x86_64\n",
      "CPU cores   : 8\n",
      "Architecture: 64bit\n",
      "\n",
      "Specific Python packages\n",
      "astroquery: 0.4.1\n",
      "\n",
      "json      : 2.0.9\n",
      "numpy     : 1.19.5\n",
      "autopep8  : 1.5.7\n",
      "re        : 2.2.1\n",
      "matplotlib: 3.2.2\n",
      "sys       : 3.8.3 (default, Jul  2 2020, 16:21:59) \n",
      "[GCC 7.3.0]\n",
      "astropy   : 4.2\n",
      "logging   : 0.5.1.2\n",
      "\n",
      "Watermark: 2.1.0\n",
      "\n"
     ]
    }
   ],
   "source": [
    "%load_ext watermark\n",
    "%watermark -a \"Andres Ramos\" -d -v -m\n",
    "print('Specific Python packages')\n",
    "%watermark -iv -w --packages astroquery"
   ]
  },
  {
   "cell_type": "code",
   "execution_count": null,
   "metadata": {},
   "outputs": [],
   "source": []
  }
 ],
 "metadata": {
  "hide_input": false,
  "kernelspec": {
   "display_name": "Python 3",
   "language": "python",
   "name": "python3"
  },
  "language_info": {
   "codemirror_mode": {
    "name": "ipython",
    "version": 3
   },
   "file_extension": ".py",
   "mimetype": "text/x-python",
   "name": "python",
   "nbconvert_exporter": "python",
   "pygments_lexer": "ipython3",
   "version": "3.8.3"
  },
  "toc": {
   "base_numbering": "1",
   "nav_menu": {},
   "number_sections": true,
   "sideBar": true,
   "skip_h1_title": false,
   "title_cell": "Table of Contents",
   "title_sidebar": "Contents",
   "toc_cell": false,
   "toc_position": {},
   "toc_section_display": true,
   "toc_window_display": true
  },
  "varInspector": {
   "cols": {
    "lenName": 16,
    "lenType": 16,
    "lenVar": 40
   },
   "kernels_config": {
    "python": {
     "delete_cmd_postfix": "",
     "delete_cmd_prefix": "del ",
     "library": "var_list.py",
     "varRefreshCmd": "print(var_dic_list())"
    },
    "r": {
     "delete_cmd_postfix": ") ",
     "delete_cmd_prefix": "rm(",
     "library": "var_list.r",
     "varRefreshCmd": "cat(var_dic_list()) "
    }
   },
   "types_to_exclude": [
    "module",
    "function",
    "builtin_function_or_method",
    "instance",
    "_Feature"
   ],
   "window_display": false
  }
 },
 "nbformat": 4,
 "nbformat_minor": 4
}
