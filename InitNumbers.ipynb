{
 "cells": [
  {
   "cell_type": "markdown",
   "metadata": {},
   "source": [
    "# Numbers from the catalogs and photometry\n",
    "Here we compute the numbers that we obtain from the catalogs"
   ]
  },
  {
   "cell_type": "markdown",
   "metadata": {},
   "source": [
    "First we import all necessary packages"
   ]
  },
  {
   "cell_type": "code",
   "execution_count": 1,
   "metadata": {},
   "outputs": [
    {
     "name": "stdout",
     "output_type": "stream",
     "text": [
      "Using matplotlib backend: Qt5Agg\n",
      "Populating the interactive namespace from numpy and matplotlib\n"
     ]
    }
   ],
   "source": [
    "%pylab"
   ]
  },
  {
   "cell_type": "code",
   "execution_count": 2,
   "metadata": {},
   "outputs": [],
   "source": [
    "from astropy.table import Table,vstack"
   ]
  },
  {
   "cell_type": "code",
   "execution_count": 3,
   "metadata": {},
   "outputs": [],
   "source": [
    "def SelT1orT2(TableP):\n",
    "    \"\"\"Select Seyferts 1 and 2 in both VCV and CDS\"\"\"\n",
    "    Selc1=np.logical_and(TableP['otype_txt']=='Sy1',TableP['Sp']=='S1')\n",
    "    Selc2=np.logical_and(TableP['otype_txt']=='Sy2',TableP['Sp']=='S2')\n",
    "    SelcSey=np.logical_or(Selc1,Selc2)\n",
    "    return(TableP[SelcSey])\n",
    "def SelT1xorT2(TableP):\n",
    "    \"\"\"Select mixed classifications Seyferts 1 and 2 between VCV and CDS\"\"\"\n",
    "    Selc1=np.logical_and(TableP['otype_txt']=='Sy1',TableP['Sp']=='S2')\n",
    "    Selc2=np.logical_and(TableP['otype_txt']=='Sy2',TableP['Sp']=='S1')\n",
    "    SelcSey=np.logical_or(Selc1,Selc2)\n",
    "    return(TableP[SelcSey])"
   ]
  },
  {
   "cell_type": "markdown",
   "metadata": {},
   "source": [
    "## Numbers in catalogs (VCV)"
   ]
  },
  {
   "cell_type": "markdown",
   "metadata": {},
   "source": [
    "We use the file where galaxies has been classified as Seyfer by VCV and also show a Seyfert type in SIMBAD. This contains 18921 galaxies."
   ]
  },
  {
   "cell_type": "code",
   "execution_count": 4,
   "metadata": {},
   "outputs": [
    {
     "name": "stderr",
     "output_type": "stream",
     "text": [
      "/Users/users/ramos/.local/lib/python3.6/site-packages/IPython/core/interactiveshell.py:3331: TableReplaceWarning: converted column 'l_z' from integer to float\n",
      "  exec(code_obj, self.user_global_ns, self.user_ns)\n"
     ]
    }
   ],
   "source": [
    "TV=Table.read('VCV_TAP_otype.txt',format='ascii').to_pandas()"
   ]
  },
  {
   "cell_type": "markdown",
   "metadata": {},
   "source": [
    "First we cound how many galaxies are for each type. We assumed that S1n are also S1 galaxies. Most of the galaxies (13180 and 4567) are Seyfert 1 and Seyfert 2, while the unclasified Seyfert are 84. 1090 galaxies are outside the normal classification, we do not use 174 of those galaxies when VCV is compared. "
   ]
  },
  {
   "cell_type": "code",
   "execution_count": 22,
   "metadata": {},
   "outputs": [
    {
     "name": "stdout",
     "output_type": "stream",
     "text": [
      "Classified Seyfer galaxies: 17831\n",
      "Intermediate classifications 920\n",
      "Other classifications 170\n"
     ]
    },
    {
     "data": {
      "text/plain": [
       "Sp\n",
       "S          84\n",
       "S1      10936\n",
       "S1.0      162\n",
       "S1.2      161\n",
       "S1.5      356\n",
       "S1.8      114\n",
       "S1.9      127\n",
       "S1h        40\n",
       "S1i         5\n",
       "S1n      2244\n",
       "S1n0        7\n",
       "S1n2        5\n",
       "S1n5        5\n",
       "S2       4567\n",
       "S3         58\n",
       "S3b         6\n",
       "S?         44\n",
       "dtype: int64"
      ]
     },
     "execution_count": 22,
     "metadata": {},
     "output_type": "execute_result"
    }
   ],
   "source": [
    "print('Classified Seyfer galaxies:', sum(TV.groupby('Sp').size()[['S1','S1n','S2','S']]))\n",
    "print('Intermediate classifications',sum(TV.groupby('Sp').size()[['S1.0','S1.2','S1.5','S1.8','S1.9']]))\n",
    "print('Other classifications',sum(TV.groupby('Sp').size()[['S1h','S1i','S1n0','S1n2','S1n5','S3','S3b','S?']]))\n",
    "TV.groupby('Sp').size()"
   ]
  },
  {
   "cell_type": "code",
   "execution_count": 26,
   "metadata": {},
   "outputs": [
    {
     "data": {
      "text/plain": [
       "(17831, 0.9423920511600867)"
      ]
     },
     "execution_count": 26,
     "metadata": {},
     "output_type": "execute_result"
    }
   ],
   "source": [
    "sum(10936+2244+4567+84),sum(10936+2244+4567+84)/len(TV)"
   ]
  },
  {
   "cell_type": "code",
   "execution_count": 27,
   "metadata": {},
   "outputs": [
    {
     "data": {
      "text/plain": [
       "(920, 0.04862322287405528)"
      ]
     },
     "execution_count": 27,
     "metadata": {},
     "output_type": "execute_result"
    }
   ],
   "source": [
    "sum(162+161+356+114+127),sum(162+161+356+114+127)/len(TV)"
   ]
  },
  {
   "cell_type": "code",
   "execution_count": 28,
   "metadata": {},
   "outputs": [
    {
     "data": {
      "text/plain": [
       "(170, 0.008984725965858042)"
      ]
     },
     "execution_count": 28,
     "metadata": {},
     "output_type": "execute_result"
    }
   ],
   "source": [
    "sum(40+5+7+5+5+58+6+44),sum(40+5+7+5+5+58+6+44)/len(TV)"
   ]
  },
  {
   "cell_type": "markdown",
   "metadata": {},
   "source": [
    "## Numbers in catalogs (SMB)"
   ]
  },
  {
   "cell_type": "markdown",
   "metadata": {},
   "source": [
    "In the SIMBAD type we have 13760 Seyfert 1 and 5040 Seyfert 2, with 121 unclassified Seyfert. More information can be found in CleanSMBVCV"
   ]
  },
  {
   "cell_type": "code",
   "execution_count": 8,
   "metadata": {},
   "outputs": [
    {
     "data": {
      "text/plain": [
       "otype_txt\n",
       "Sy1    13760\n",
       "Sy2     5040\n",
       "SyG      121\n",
       "dtype: int64"
      ]
     },
     "execution_count": 8,
     "metadata": {},
     "output_type": "execute_result"
    }
   ],
   "source": [
    "TV.groupby('otype_txt').size()"
   ]
  },
  {
   "cell_type": "markdown",
   "metadata": {},
   "source": [
    "Other numbers for the CDS classifications are at the end of the CleanVCVTAP file"
   ]
  },
  {
   "cell_type": "markdown",
   "metadata": {},
   "source": [
    "## Numbers on Classifications with SMB and VCV"
   ]
  },
  {
   "cell_type": "markdown",
   "metadata": {},
   "source": [
    "From the 18921 galaxies, a total of 15036 are classified in S1 or S2 in both catalogs, and 454 galaxies change of type (S1 -> S2 or S2 -> S1). "
   ]
  },
  {
   "cell_type": "code",
   "execution_count": 21,
   "metadata": {},
   "outputs": [
    {
     "data": {
      "text/plain": [
       "(15036, 454)"
      ]
     },
     "execution_count": 21,
     "metadata": {},
     "output_type": "execute_result"
    }
   ],
   "source": [
    "len(SelT1orT2(TV)),len(SelT1xorT2(TV))"
   ]
  },
  {
   "cell_type": "markdown",
   "metadata": {},
   "source": [
    "## Numbers in photometry"
   ]
  },
  {
   "cell_type": "markdown",
   "metadata": {},
   "source": [
    "Here we examine the photometry of the all 13129 galaxies."
   ]
  },
  {
   "cell_type": "code",
   "execution_count": 7,
   "metadata": {},
   "outputs": [],
   "source": [
    "Phot=Table.read('CIGPhot_EnergyBal_All.tbl',format='ascii').to_pandas()"
   ]
  },
  {
   "cell_type": "code",
   "execution_count": 8,
   "metadata": {},
   "outputs": [
    {
     "data": {
      "text/plain": [
       "13129"
      ]
     },
     "execution_count": 8,
     "metadata": {},
     "output_type": "execute_result"
    }
   ],
   "source": [
    "len(Phot)"
   ]
  },
  {
   "cell_type": "markdown",
   "metadata": {},
   "source": [
    "The counts of the total bands in the photometry show that most information comes from SDSS and WISE, and we have a low coverage in the longer wavelengths."
   ]
  },
  {
   "cell_type": "code",
   "execution_count": 9,
   "metadata": {},
   "outputs": [
    {
     "data": {
      "text/plain": [
       "FUV            6476.0\n",
       "NUV            9258.0\n",
       "u_prime       11943.0\n",
       "g_prime       12459.0\n",
       "r_prime       12239.0\n",
       "i_prime       12190.0\n",
       "z_prime       11520.0\n",
       "J_2mass        7259.0\n",
       "H_2mass        6892.0\n",
       "Ks_2mass       8339.0\n",
       "WISE1         13126.0\n",
       "IRAC1          4022.0\n",
       "IRAC2          4009.0\n",
       "WISE2         13118.0\n",
       "IRAC3           398.0\n",
       "IRAC4           390.0\n",
       "IRAS1           446.0\n",
       "WISE3         12188.0\n",
       "WISE4          8076.0\n",
       "MIPS1           714.0\n",
       "IRAS2           608.0\n",
       "IRAS3           914.0\n",
       "PACS_blue       244.0\n",
       "MIPS2           213.0\n",
       "IRAS4           694.0\n",
       "PACS_green      159.0\n",
       "MIPS3           103.0\n",
       "PACS_red        285.0\n",
       "PSW_ext         721.0\n",
       "PMW_ext         458.0\n",
       "PLW_ext         214.0\n",
       "Name: count, dtype: float64"
      ]
     },
     "execution_count": 9,
     "metadata": {},
     "output_type": "execute_result"
    }
   ],
   "source": [
    "Phot.describe().T['count'][1::2]"
   ]
  },
  {
   "cell_type": "code",
   "execution_count": null,
   "metadata": {},
   "outputs": [],
   "source": []
  }
 ],
 "metadata": {
  "kernelspec": {
   "display_name": "Python 3",
   "language": "python",
   "name": "python3"
  },
  "language_info": {
   "codemirror_mode": {
    "name": "ipython",
    "version": 3
   },
   "file_extension": ".py",
   "mimetype": "text/x-python",
   "name": "python",
   "nbconvert_exporter": "python",
   "pygments_lexer": "ipython3",
   "version": "3.6.4"
  }
 },
 "nbformat": 4,
 "nbformat_minor": 4
}
