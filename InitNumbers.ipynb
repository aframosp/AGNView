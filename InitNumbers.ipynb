{
 "cells": [
  {
   "cell_type": "markdown",
   "metadata": {},
   "source": [
    "# Numbers from the catalogs and photometry\n",
    "Here we compute the numbers that we obtain from the catalogs"
   ]
  },
  {
   "cell_type": "markdown",
   "metadata": {},
   "source": [
    "First we import all necessary packages"
   ]
  },
  {
   "cell_type": "code",
   "execution_count": 2,
   "metadata": {
    "ExecuteTime": {
     "end_time": "2021-01-18T13:40:15.502027Z",
     "start_time": "2021-01-18T13:40:13.305417Z"
    }
   },
   "outputs": [
    {
     "name": "stdout",
     "output_type": "stream",
     "text": [
      "Using matplotlib backend: Qt5Agg\n",
      "Populating the interactive namespace from numpy and matplotlib\n"
     ]
    }
   ],
   "source": [
    "%pylab"
   ]
  },
  {
   "cell_type": "code",
   "execution_count": 3,
   "metadata": {
    "ExecuteTime": {
     "end_time": "2021-01-18T13:40:17.027069Z",
     "start_time": "2021-01-18T13:40:15.524148Z"
    }
   },
   "outputs": [],
   "source": [
    "from astropy.table import Table, vstack, join"
   ]
  },
  {
   "cell_type": "code",
   "execution_count": 4,
   "metadata": {
    "ExecuteTime": {
     "end_time": "2021-01-18T13:40:17.031920Z",
     "start_time": "2021-01-18T13:40:17.028155Z"
    }
   },
   "outputs": [],
   "source": [
    "def SelT1orT2(TableP):\n",
    "    \"\"\"Select Seyferts 1 and 2 in both VCV and CDS\"\"\"\n",
    "    Selc1 = np.logical_and(TableP['otype_txt'] == 'Sy1', TableP['Sp'] == 'S1')\n",
    "    Selc2 = np.logical_and(TableP['otype_txt'] == 'Sy2', TableP['Sp'] == 'S2')\n",
    "    SelcSey = np.logical_or(Selc1, Selc2)\n",
    "    return(TableP[SelcSey])\n",
    "\n",
    "\n",
    "def SelT1xorT2(TableP):\n",
    "    \"\"\"Select mixed classifications Seyferts 1 and 2 between VCV and CDS\"\"\"\n",
    "    Selc1 = np.logical_and(TableP['otype_txt'] == 'Sy1', TableP['Sp'] == 'S2')\n",
    "    Selc2 = np.logical_and(TableP['otype_txt'] == 'Sy2', TableP['Sp'] == 'S1')\n",
    "    SelcSey = np.logical_or(Selc1, Selc2)\n",
    "    return(TableP[SelcSey])"
   ]
  },
  {
   "cell_type": "markdown",
   "metadata": {},
   "source": [
    "## Numbers in catalogs (VCV)"
   ]
  },
  {
   "cell_type": "markdown",
   "metadata": {
    "variables": {
     "len(TV)": "18921"
    }
   },
   "source": [
    "We use the file where galaxies has been classified as Seyfert by VCV and also show a Seyfert type in SIMBAD. This contains 18921 {{len(TV)}} galaxies."
   ]
  },
  {
   "cell_type": "code",
   "execution_count": 5,
   "metadata": {
    "ExecuteTime": {
     "end_time": "2021-01-18T13:40:22.918890Z",
     "start_time": "2021-01-18T13:40:21.827833Z"
    }
   },
   "outputs": [],
   "source": [
    "TV = Table.read('VCV_TAP_otype.txt', format='ascii').to_pandas()"
   ]
  },
  {
   "cell_type": "markdown",
   "metadata": {},
   "source": [
    "First we cound how many galaxies are for each type. We assumed that S1n are also S1 galaxies. Most of the galaxies (13180 and 4567) are Seyfert 1 and Seyfert 2, while the unclasified Seyfert are 84. 1090 galaxies are outside the normal classification, we do not use 174 of those galaxies when VCV is compared. "
   ]
  },
  {
   "cell_type": "code",
   "execution_count": 5,
   "metadata": {},
   "outputs": [
    {
     "name": "stdout",
     "output_type": "stream",
     "text": [
      "Classified Seyfer galaxies: 17831\n",
      "Intermediate classifications 920\n",
      "Other classifications 170\n"
     ]
    },
    {
     "data": {
      "text/plain": [
       "Sp\n",
       "S          84\n",
       "S1      10936\n",
       "S1.0      162\n",
       "S1.2      161\n",
       "S1.5      356\n",
       "S1.8      114\n",
       "S1.9      127\n",
       "S1h        40\n",
       "S1i         5\n",
       "S1n      2244\n",
       "S1n0        7\n",
       "S1n2        5\n",
       "S1n5        5\n",
       "S2       4567\n",
       "S3         58\n",
       "S3b         6\n",
       "S?         44\n",
       "dtype: int64"
      ]
     },
     "execution_count": 5,
     "metadata": {},
     "output_type": "execute_result"
    }
   ],
   "source": [
    "print('Classified Seyfer galaxies:',\n",
    "      sum(TV.groupby('Sp').size()[['S1', 'S1n', 'S2', 'S']]))\n",
    "print('Intermediate classifications',\n",
    "      sum(TV.groupby('Sp').size()[['S1.0', 'S1.2', 'S1.5', 'S1.8', 'S1.9']]))\n",
    "print('Other classifications',\n",
    "      sum(TV.groupby('Sp').size()[['S1h', 'S1i', 'S1n0', 'S1n2', 'S1n5', 'S3', 'S3b', 'S?']]))\n",
    "TV.groupby('Sp').size()"
   ]
  },
  {
   "cell_type": "code",
   "execution_count": 6,
   "metadata": {},
   "outputs": [
    {
     "data": {
      "text/plain": [
       "(17831, 0.9423920511600867)"
      ]
     },
     "execution_count": 6,
     "metadata": {},
     "output_type": "execute_result"
    }
   ],
   "source": [
    "sum(10936+2244+4567+84), sum(10936+2244+4567+84)/len(TV)"
   ]
  },
  {
   "cell_type": "code",
   "execution_count": 7,
   "metadata": {},
   "outputs": [
    {
     "data": {
      "text/plain": [
       "(920, 0.04862322287405528)"
      ]
     },
     "execution_count": 7,
     "metadata": {},
     "output_type": "execute_result"
    }
   ],
   "source": [
    "sum(162+161+356+114+127), sum(162+161+356+114+127)/len(TV) "
   ]
  },
  {
   "cell_type": "code",
   "execution_count": 8,
   "metadata": {},
   "outputs": [
    {
     "data": {
      "text/plain": [
       "(170, 0.008984725965858042)"
      ]
     },
     "execution_count": 8,
     "metadata": {},
     "output_type": "execute_result"
    }
   ],
   "source": [
    "sum(40+5+7+5+5+58+6+44), sum(40+5+7+5+5+58+6+44)/len(TV)"
   ]
  },
  {
   "cell_type": "markdown",
   "metadata": {},
   "source": [
    "## Numbers in catalogs (SMB)"
   ]
  },
  {
   "cell_type": "markdown",
   "metadata": {},
   "source": [
    "In the SIMBAD type we have 13760 Seyfert 1 and 5040 Seyfert 2, with 121 unclassified Seyfert. More information can be found in CleanSMBVCV"
   ]
  },
  {
   "cell_type": "code",
   "execution_count": 9,
   "metadata": {},
   "outputs": [
    {
     "data": {
      "text/plain": [
       "otype_txt\n",
       "Sy1    13760\n",
       "Sy2     5040\n",
       "SyG      121\n",
       "dtype: int64"
      ]
     },
     "execution_count": 9,
     "metadata": {},
     "output_type": "execute_result"
    }
   ],
   "source": [
    "TV.groupby('otype_txt').size()"
   ]
  },
  {
   "cell_type": "markdown",
   "metadata": {},
   "source": [
    "Other numbers for the CDS classifications are at the end of the CleanVCVTAP file"
   ]
  },
  {
   "cell_type": "markdown",
   "metadata": {},
   "source": [
    "## Numbers on Classifications with SMB and VCV"
   ]
  },
  {
   "cell_type": "markdown",
   "metadata": {},
   "source": [
    "From the 18921 galaxies, a total of 15036 are classified in S1 or S2 in both catalogs, and 454 galaxies change of type (S1 -> S2 or S2 -> S1). "
   ]
  },
  {
   "cell_type": "code",
   "execution_count": 10,
   "metadata": {},
   "outputs": [
    {
     "data": {
      "text/plain": [
       "(15036, 454)"
      ]
     },
     "execution_count": 10,
     "metadata": {},
     "output_type": "execute_result"
    }
   ],
   "source": [
    "len(SelT1orT2(TV)), len(SelT1xorT2(TV))"
   ]
  },
  {
   "cell_type": "markdown",
   "metadata": {},
   "source": [
    "## Numbers in photometry"
   ]
  },
  {
   "cell_type": "markdown",
   "metadata": {},
   "source": [
    "Here we examine the photometry of the all 13129 galaxies."
   ]
  },
  {
   "cell_type": "code",
   "execution_count": 11,
   "metadata": {},
   "outputs": [],
   "source": [
    "Phot = Table.read('CIGPhot_EnergyBal_All.tbl', format='ascii').to_pandas()"
   ]
  },
  {
   "cell_type": "code",
   "execution_count": 12,
   "metadata": {},
   "outputs": [
    {
     "data": {
      "text/plain": [
       "13129"
      ]
     },
     "execution_count": 12,
     "metadata": {},
     "output_type": "execute_result"
    }
   ],
   "source": [
    "len(Phot)"
   ]
  },
  {
   "cell_type": "markdown",
   "metadata": {},
   "source": [
    "The counts of the total bands in the photometry show that most information comes from SDSS and WISE, and we have a low coverage in the longer wavelengths."
   ]
  },
  {
   "cell_type": "code",
   "execution_count": 13,
   "metadata": {},
   "outputs": [
    {
     "data": {
      "text/plain": [
       "FUV            6476.0\n",
       "NUV            9258.0\n",
       "u_prime       11943.0\n",
       "g_prime       12459.0\n",
       "r_prime       12239.0\n",
       "i_prime       12190.0\n",
       "z_prime       11520.0\n",
       "J_2mass        7259.0\n",
       "H_2mass        6892.0\n",
       "Ks_2mass       8339.0\n",
       "WISE1         13126.0\n",
       "IRAC1          4022.0\n",
       "IRAC2          4009.0\n",
       "WISE2         13118.0\n",
       "IRAC3           398.0\n",
       "IRAC4           390.0\n",
       "IRAS1           446.0\n",
       "WISE3         12188.0\n",
       "WISE4          8076.0\n",
       "MIPS1           714.0\n",
       "IRAS2           608.0\n",
       "IRAS3           914.0\n",
       "PACS_blue       244.0\n",
       "MIPS2           213.0\n",
       "IRAS4           694.0\n",
       "PACS_green      159.0\n",
       "MIPS3           103.0\n",
       "PACS_red        285.0\n",
       "PSW_ext         721.0\n",
       "PMW_ext         458.0\n",
       "PLW_ext         214.0\n",
       "Name: count, dtype: float64"
      ]
     },
     "execution_count": 13,
     "metadata": {},
     "output_type": "execute_result"
    }
   ],
   "source": [
    "Phot.describe().T['count'][1::2] ## Table2"
   ]
  },
  {
   "cell_type": "markdown",
   "metadata": {},
   "source": [
    "Now we can count the number of number of galaxies for each classification type as before for the VCV and SMB."
   ]
  },
  {
   "cell_type": "code",
   "execution_count": 14,
   "metadata": {},
   "outputs": [],
   "source": [
    "PhotTV = Phot.join(TV.set_index('main_id'), on='id')"
   ]
  },
  {
   "cell_type": "code",
   "execution_count": 15,
   "metadata": {},
   "outputs": [
    {
     "name": "stdout",
     "output_type": "stream",
     "text": [
      "Classified Seyfer galaxies: 12232\n",
      "Intermediate classifications 760\n",
      "Other classifications 137\n"
     ]
    },
    {
     "data": {
      "text/plain": [
       "Sp\n",
       "S         55\n",
       "S1      7013\n",
       "S1.0     151\n",
       "S1.2     133\n",
       "S1.5     294\n",
       "S1.8      90\n",
       "S1.9      92\n",
       "S1h       36\n",
       "S1i        4\n",
       "S1n     1905\n",
       "S1n0       7\n",
       "S1n2       5\n",
       "S1n5       5\n",
       "S2      3259\n",
       "S3        49\n",
       "S3b        5\n",
       "S?        26\n",
       "dtype: int64"
      ]
     },
     "execution_count": 15,
     "metadata": {},
     "output_type": "execute_result"
    }
   ],
   "source": [
    "print('Classified Seyfer galaxies:',\n",
    "      sum(PhotTV.groupby('Sp').size()[['S1', 'S1n', 'S2', 'S']]))\n",
    "print('Intermediate classifications',\n",
    "      sum(PhotTV.groupby('Sp').size()[['S1.0', 'S1.2', 'S1.5', 'S1.8', 'S1.9']]))\n",
    "print('Other classifications',\n",
    "      sum(PhotTV.groupby('Sp').size()[['S1h', 'S1i', 'S1n0', 'S1n2', 'S1n5', 'S3', 'S3b', 'S?']]))\n",
    "PhotTV.groupby('Sp').size()"
   ]
  },
  {
   "cell_type": "code",
   "execution_count": 16,
   "metadata": {},
   "outputs": [
    {
     "data": {
      "text/plain": [
       "otype_txt\n",
       "Sy1    9400\n",
       "Sy2    3655\n",
       "SyG      74\n",
       "dtype: int64"
      ]
     },
     "execution_count": 16,
     "metadata": {},
     "output_type": "execute_result"
    }
   ],
   "source": [
    "PhotTV.groupby('otype_txt').size()"
   ]
  },
  {
   "cell_type": "markdown",
   "metadata": {},
   "source": [
    "Finally we print the information for dependencies."
   ]
  },
  {
   "cell_type": "code",
   "execution_count": 2,
   "metadata": {
    "ExecuteTime": {
     "end_time": "2021-01-18T13:28:48.238863Z",
     "start_time": "2021-01-18T13:28:47.355528Z"
    }
   },
   "outputs": [
    {
     "name": "stdout",
     "output_type": "stream",
     "text": [
      "The watermark extension is already loaded. To reload it, use:\n",
      "  %reload_ext watermark\n",
      "Author: Andres Ramos\n",
      "\n",
      "Python implementation: CPython\n",
      "Python version       : 3.8.3\n",
      "IPython version      : 7.16.1\n",
      "\n",
      "Compiler    : GCC 7.3.0\n",
      "OS          : Linux\n",
      "Release     : 3.10.0-1160.el7.x86_64\n",
      "Machine     : x86_64\n",
      "Processor   : x86_64\n",
      "CPU cores   : 8\n",
      "Architecture: 64bit\n",
      "\n",
      "Specific Python packages\n",
      "astropy: 4.2\n",
      "pandas : 1.2.0\n",
      "\n",
      "autopep8: 1.5.4\n",
      "numpy   : 1.19.5\n",
      "json    : 2.0.9\n",
      "\n",
      "Watermark: 2.1.0\n",
      "\n"
     ]
    }
   ],
   "source": [
    "%load_ext watermark\n",
    "%watermark -a \"Andres Ramos\" -d -v -m\n",
    "print('Specific Python packages')\n",
    "%watermark -iv -w --packages astropy,pandas"
   ]
  },
  {
   "cell_type": "code",
   "execution_count": null,
   "metadata": {},
   "outputs": [],
   "source": []
  }
 ],
 "metadata": {
  "hide_input": false,
  "kernelspec": {
   "display_name": "Python 3",
   "language": "python",
   "name": "python3"
  },
  "language_info": {
   "codemirror_mode": {
    "name": "ipython",
    "version": 3
   },
   "file_extension": ".py",
   "mimetype": "text/x-python",
   "name": "python",
   "nbconvert_exporter": "python",
   "pygments_lexer": "ipython3",
   "version": "3.8.3"
  },
  "toc": {
   "base_numbering": "5",
   "nav_menu": {},
   "number_sections": true,
   "sideBar": true,
   "skip_h1_title": false,
   "title_cell": "Table of Contents",
   "title_sidebar": "Contents",
   "toc_cell": false,
   "toc_position": {},
   "toc_section_display": true,
   "toc_window_display": false
  },
  "varInspector": {
   "cols": {
    "lenName": 16,
    "lenType": 16,
    "lenVar": 40
   },
   "kernels_config": {
    "python": {
     "delete_cmd_postfix": "",
     "delete_cmd_prefix": "del ",
     "library": "var_list.py",
     "varRefreshCmd": "print(var_dic_list())"
    },
    "r": {
     "delete_cmd_postfix": ") ",
     "delete_cmd_prefix": "rm(",
     "library": "var_list.r",
     "varRefreshCmd": "cat(var_dic_list()) "
    }
   },
   "types_to_exclude": [
    "module",
    "function",
    "builtin_function_or_method",
    "instance",
    "_Feature"
   ],
   "window_display": false
  }
 },
 "nbformat": 4,
 "nbformat_minor": 4
}
