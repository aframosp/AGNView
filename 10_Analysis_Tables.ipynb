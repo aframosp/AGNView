{
 "cells": [
  {
   "cell_type": "markdown",
   "metadata": {},
   "source": [
    "# Analysis presented in Tables\n",
    "Here we process information that lead to tables useful for analyze the results.\n",
    "First, we import all the important packages"
   ]
  },
  {
   "cell_type": "code",
   "execution_count": 1,
   "metadata": {
    "ExecuteTime": {
     "end_time": "2021-01-22T13:12:59.965120Z",
     "start_time": "2021-01-22T13:12:59.529650Z"
    }
   },
   "outputs": [
    {
     "name": "stdout",
     "output_type": "stream",
     "text": [
      "Using matplotlib backend: Qt5Agg\n",
      "Populating the interactive namespace from numpy and matplotlib\n"
     ]
    }
   ],
   "source": [
    "%pylab\n",
    "%matplotlib inline"
   ]
  },
  {
   "cell_type": "code",
   "execution_count": 2,
   "metadata": {
    "ExecuteTime": {
     "end_time": "2021-01-22T13:13:01.665930Z",
     "start_time": "2021-01-22T13:12:59.966081Z"
    }
   },
   "outputs": [],
   "source": [
    "import pandas as pd\n",
    "import xgboost as xgb\n",
    "import seaborn as sns\n",
    "import astropy.units as u\n",
    "from collections import Counter\n",
    "import matplotlib.lines as mlines\n",
    "from scipy.stats import binned_statistic\n",
    "from astropy.table import Table, join, hstack\n",
    "\n",
    "from sklearn import preprocessing\n",
    "from sklearn.decomposition import PCA\n",
    "from sklearn.feature_selection import RFECV\n",
    "from sklearn.ensemble import RandomForestClassifier\n",
    "from sklearn.inspection import permutation_importance\n",
    "from sklearn.model_selection import train_test_split, StratifiedKFold\n",
    "from sklearn.metrics import confusion_matrix, accuracy_score, f1_score, matthews_corrcoef"
   ]
  },
  {
   "cell_type": "markdown",
   "metadata": {},
   "source": [
    "Additionally, we include some shortcuts to simplify some code"
   ]
  },
  {
   "cell_type": "code",
   "execution_count": 3,
   "metadata": {
    "ExecuteTime": {
     "end_time": "2021-01-22T13:13:01.675174Z",
     "start_time": "2021-01-22T13:13:01.667148Z"
    }
   },
   "outputs": [],
   "source": [
    "# User shortcuts\n",
    "def Perc75(array):\n",
    "    \"\"\"75th Percentile\"\"\"\n",
    "    return(np.percentile(array, 75))\n",
    "\n",
    "\n",
    "def Perc25(array):\n",
    "    \"\"\"25th Percentile\"\"\"\n",
    "    return(np.percentile(array, 25))\n",
    "\n",
    "\n",
    "def CreateTableCIG(PaTable, Samp, TypeAGN):\n",
    "    \"\"\"Calculate the Matthwes, Cohen, F1-macro and accuracy of the results\"\"\"\n",
    "    for jj in ['SKIRTOR', 'Fritz', 'S37', 'F37']:\n",
    "        MCC = matthews_corrcoef(\n",
    "            PaTable.loc[jj][Samp], PaTable.loc[jj][TypeAGN])\n",
    "        F1s = f1_score(PaTable.loc[jj][Samp],\n",
    "                       PaTable.loc[jj][TypeAGN], average='macro')\n",
    "        Acc = accuracy_score(PaTable.loc[jj][Samp], PaTable.loc[jj][TypeAGN])\n",
    "        print(jj, round(MCC, 3), round(F1s, 3), round(Acc, 3))\n",
    "\n",
    "\n",
    "def CreateTableClas(PaTable, Samp, TypeAGN):\n",
    "    \"\"\"Calculate the Matthwes, Cohen, F1-macro and accuracy of the results from the Classifiers\"\"\"\n",
    "    FinalV = []\n",
    "    for jj in ['SKIRTOR', 'Fritz', 'S37', 'F37']:\n",
    "        X = PaTable.loc[jj][Samp]\n",
    "        y = PaTable.loc[jj][TypeAGN]\n",
    "        x_train, x_test, y_train, y_test = train_test_split(\n",
    "            X, y, test_size=0.20, random_state=42)\n",
    "        le = preprocessing.LabelEncoder()\n",
    "        le.fit(y)\n",
    "        x_train_encode = preprocessing.robust_scale(x_train)\n",
    "        x_test_encode = preprocessing.robust_scale(x_test)\n",
    "        y_train_encode = le.transform(y_train).reshape(-1, 1).ravel()\n",
    "        y_test_encode = le.transform(y_test).reshape(-1, 1).ravel()\n",
    "        # This classifiers need to be defined before use\n",
    "        for iclf, Clasi in enumerate([clf_rf, clf_xg]):\n",
    "            Clasi.fit(x_train_encode, y_train_encode)\n",
    "            MCC = matthews_corrcoef(\n",
    "                y_test_encode, Clasi.predict(x_test_encode))\n",
    "            F1s = f1_score(y_test_encode, Clasi.predict(\n",
    "                x_test_encode), average='macro')\n",
    "            Acc = accuracy_score(y_test_encode, Clasi.predict(x_test_encode))\n",
    "            FinalV.append([['RandomForest', 'XGBoost'][iclf], jj,\n",
    "                           round(MCC, 3), round(F1s, 3), round(Acc, 3)])\n",
    "            result = permutation_importance(Clasi, x_test_encode, y_test_encode, n_repeats=20,\n",
    "                                            random_state=42, n_jobs=-1)\n",
    "            sorted_idx = result.importances_mean.argsort()\n",
    "    return array(FinalV)"
   ]
  },
  {
   "cell_type": "markdown",
   "metadata": {},
   "source": [
    "## Join all clean results"
   ]
  },
  {
   "cell_type": "markdown",
   "metadata": {},
   "source": [
    "We read the results from the models we are going to use "
   ]
  },
  {
   "cell_type": "code",
   "execution_count": 4,
   "metadata": {
    "ExecuteTime": {
     "end_time": "2021-01-22T13:13:02.218353Z",
     "start_time": "2021-01-22T13:13:01.676196Z"
    }
   },
   "outputs": [],
   "source": [
    "ModelS = Table.read('CIGALEOutputs/Cleanresults_SK.fits', format='fits')\n",
    "ModelF = Table.read('CIGALEOutputs/Cleanresults_Fr.fits', format='fits')\n",
    "\n",
    "ModelS37 = Table.read('CIGALEOutputs/Cleanresults_SK37.fits', format='fits')\n",
    "ModelF37 = Table.read('CIGALEOutputs/Cleanresults_Fr37.fits', format='fits')"
   ]
  },
  {
   "cell_type": "markdown",
   "metadata": {},
   "source": [
    "We also read the original database of galaxies to use the information for the classification"
   ]
  },
  {
   "cell_type": "code",
   "execution_count": 5,
   "metadata": {
    "ExecuteTime": {
     "end_time": "2021-01-22T13:13:02.390674Z",
     "start_time": "2021-01-22T13:13:02.220014Z"
    }
   },
   "outputs": [],
   "source": [
    "TV = Table.read('VCV_TAP_otype.txt', format='ascii')\n",
    "TV.rename_column('main_id', 'id')  # Renamed to use the join with the same id"
   ]
  },
  {
   "cell_type": "markdown",
   "metadata": {},
   "source": [
    "We join these clean tables with the catalog. We send all the tables to pandas format. Then, we concatenate the tables to have an unique table."
   ]
  },
  {
   "cell_type": "code",
   "execution_count": 6,
   "metadata": {
    "ExecuteTime": {
     "end_time": "2021-01-22T13:13:02.779352Z",
     "start_time": "2021-01-22T13:13:02.391764Z"
    }
   },
   "outputs": [],
   "source": [
    "SPandas = join(TV, ModelS, keys='id').to_pandas()\n",
    "FPandas = join(TV, ModelF, keys='id').to_pandas()\n",
    "SPandas37 = join(TV, ModelS37, keys='id').to_pandas()\n",
    "FPandas37 = join(TV, ModelF37, keys='id').to_pandas()\n",
    "SFPandas = pd.concat([SPandas, FPandas, SPandas37, FPandas37], keys=[\n",
    "                     'SKIRTOR', 'Fritz', 'S37', 'F37'], names=['Model', 'idCIG'])"
   ]
  },
  {
   "cell_type": "markdown",
   "metadata": {},
   "source": [
    "## Correlation score with the inclination angles "
   ]
  },
  {
   "cell_type": "markdown",
   "metadata": {},
   "source": [
    "We define some selection defitions to be used for the classification task"
   ]
  },
  {
   "cell_type": "code",
   "execution_count": 7,
   "metadata": {
    "ExecuteTime": {
     "end_time": "2021-01-22T13:13:02.787382Z",
     "start_time": "2021-01-22T13:13:02.780490Z"
    }
   },
   "outputs": [],
   "source": [
    "def SelT1T2SMB(TableP):\n",
    "    \"\"\"Select Seyfert 1 and 2 types from CDS\"\"\"\n",
    "    SelcSey = np.logical_or(\n",
    "        TableP['otype_txt'] == 'Sy1', TableP['otype_txt'] == 'Sy2')\n",
    "    return(TableP[SelcSey])\n",
    "\n",
    "\n",
    "def SelT1T2VCV(TableP):\n",
    "    \"\"\"Select Seyfert 1 and 2 types from VCV\"\"\"\n",
    "    SelcSey = np.logical_or(TableP['Sp'] == 'S1', TableP['Sp'] == 'S2')\n",
    "    return(TableP[SelcSey])\n",
    "\n",
    "\n",
    "def SelT1orT2(TableP):\n",
    "    \"\"\"Select Seyferts 1 and 2 in both VCV and CDS\"\"\"\n",
    "    Selc1 = np.logical_and(TableP['otype_txt'] == 'Sy1', TableP['Sp'] == 'S1')\n",
    "    Selc2 = np.logical_and(TableP['otype_txt'] == 'Sy2', TableP['Sp'] == 'S2')\n",
    "    SelcSey = np.logical_or(Selc1, Selc2)\n",
    "    return(TableP[SelcSey])\n",
    "\n",
    "\n",
    "def SelT1xorT2(TableP):\n",
    "    \"\"\"Select mixed classifications Seyferts 1 and 2 between VCV and CDS\"\"\"\n",
    "    Selc1 = np.logical_and(TableP['otype_txt'] == 'Sy1', TableP['Sp'] == 'S2')\n",
    "    Selc2 = np.logical_and(TableP['otype_txt'] == 'Sy2', TableP['Sp'] == 'S1')\n",
    "    SelcSey = np.logical_or(Selc1, Selc2)\n",
    "    return(TableP[SelcSey])\n",
    "\n",
    "\n",
    "def SelT1orT2VCV(TableP):\n",
    "    \"\"\"Select numeric Seyfert types in VCV\"\"\"\n",
    "    Selc1 = np.logical_and(TableP['otype_txt'] ==\n",
    "                           'Sy1', TableP['Sp'] == 'S1.0')\n",
    "    Selc2 = np.logical_and(TableP['otype_txt'] ==\n",
    "                           'Sy1', TableP['Sp'] == 'S1.2')\n",
    "    Selc3 = np.logical_and(TableP['otype_txt'] ==\n",
    "                           'Sy1', TableP['Sp'] == 'S1.5')\n",
    "    Selc4 = np.logical_and(TableP['otype_txt'] ==\n",
    "                           'Sy2', TableP['Sp'] == 'S1.8')\n",
    "    Selc5 = np.logical_and(TableP['otype_txt'] ==\n",
    "                           'Sy2', TableP['Sp'] == 'S1.9')\n",
    "    SelcSey = np.logical_or.reduce([Selc1, Selc2, Selc3, Selc4, Selc5])\n",
    "    return(TableP[SelcSey])\n",
    "\n",
    "\n",
    "def SelT1norT2(TableP):\n",
    "    \"\"\"Select all other types in VCV\"\"\"\n",
    "    ISelc = np.logical_and.reduce([TableP['Sp'] != 'S1', TableP['Sp'] != 'S2', \n",
    "                                   TableP['Sp'] != 'S1.0', TableP['Sp'] != 'S1.2',\n",
    "                                   TableP['Sp'] != 'S1.5', TableP['Sp'] != 'S1.8', \n",
    "                                   TableP['Sp'] != 'S1.9'])\n",
    "    return(TableP[ISelc])"
   ]
  },
  {
   "cell_type": "markdown",
   "metadata": {},
   "source": [
    "If we assume that the returned CIGALE inclination angle of the AGN is correct, we can classify (flag) galaxies in type 1 or 2. We could also assume that numerical types from VCV are close to the respective type 1 or 2. In addition we also include a flag for the AGN disk luminosity, as it will be useful in the analysis."
   ]
  },
  {
   "cell_type": "code",
   "execution_count": 8,
   "metadata": {
    "ExecuteTime": {
     "end_time": "2021-01-22T13:13:02.938071Z",
     "start_time": "2021-01-22T13:13:02.788475Z"
    }
   },
   "outputs": [],
   "source": [
    "SFPandas['TypeAGN_CIG'] = np.empty(len(SFPandas))\n",
    "SFPandas.loc[SFPandas['bayes.agn.i'] < 45, 'TypeAGN_CIG'] = 'Sy1'\n",
    "SFPandas.loc[SFPandas['bayes.agn.i'] >= 45, 'TypeAGN_CIG'] = 'Sy2'\n",
    "SFPandas['TypeAGN_CIG2'] = np.empty(len(SFPandas))\n",
    "SFPandas.loc[SFPandas['bayes.agn.i'] < 45, 'TypeAGN_CIG2'] = 'S1'\n",
    "SFPandas.loc[SFPandas['bayes.agn.i'] >= 45, 'TypeAGN_CIG2'] = 'S2'\n",
    "SFPandas['TypeAGN_VCV'] = np.empty(len(SFPandas))\n",
    "SFPandas.loc[np.logical_or.reduce([SFPandas['Sp'] == 'S1.0', SFPandas['Sp'] == 'S1.2']),\n",
    "             'TypeAGN_VCV'] = 'S1'\n",
    "SFPandas.loc[np.logical_or.reduce([SFPandas['Sp'] == 'S1.8',\n",
    "                                   SFPandas['Sp'] == 'S1.9', SFPandas['Sp'] == 'S1.5']), \n",
    "             'TypeAGN_VCV'] = 'S2'\n",
    "SFPandas['TypeAGN_CIG_Ldisk'] = np.empty(len(SFPandas))\n",
    "SFPandas.loc[SFPandas['bayes.agn.disk_luminosity'] > (10**10 * u.solLum).to(u.W).value,\n",
    "             'TypeAGN_CIG_Ldisk'] = 'Sy1'\n",
    "SFPandas.loc[SFPandas['bayes.agn.disk_luminosity'] <= (10**10 * u.solLum).to(u.W).value, \n",
    "             'TypeAGN_CIG_Ldisk'] = 'Sy2'\n",
    "SFPandas['TypeAGN_CIG_Ldisk2'] = np.empty(len(SFPandas))\n",
    "SFPandas.loc[SFPandas['bayes.agn.disk_luminosity'] > (10**10 * u.solLum).to(u.W).value,\n",
    "             'TypeAGN_CIG_Ldisk2'] = 'S1'\n",
    "SFPandas.loc[SFPandas['bayes.agn.disk_luminosity'] <= (10**10 * u.solLum).to(u.W).value, \n",
    "             'TypeAGN_CIG_Ldisk2'] = 'S2'"
   ]
  },
  {
   "cell_type": "markdown",
   "metadata": {},
   "source": [
    "##### Part TABLE 4"
   ]
  },
  {
   "cell_type": "markdown",
   "metadata": {},
   "source": [
    "Here we print the values for the tables we are experimenting with. The first three tables are going to be used to create part of Table 4."
   ]
  },
  {
   "cell_type": "code",
   "execution_count": 9,
   "metadata": {
    "ExecuteTime": {
     "end_time": "2021-01-22T13:13:03.281702Z",
     "start_time": "2021-01-22T13:13:02.939676Z"
    }
   },
   "outputs": [
    {
     "name": "stdout",
     "output_type": "stream",
     "text": [
      "SKIRTOR 0.526 0.754 0.818\n",
      "Fritz 0.467 0.721 0.791\n",
      "S37 0.566 0.774 0.836\n",
      "F37 0.509 0.733 0.799\n"
     ]
    }
   ],
   "source": [
    "CreateTableCIG(SelT1T2SMB(SFPandas), 'otype_txt', 'TypeAGN_CIG')"
   ]
  },
  {
   "cell_type": "code",
   "execution_count": 10,
   "metadata": {
    "ExecuteTime": {
     "end_time": "2021-01-22T13:13:03.526511Z",
     "start_time": "2021-01-22T13:13:03.283348Z"
    }
   },
   "outputs": [
    {
     "name": "stdout",
     "output_type": "stream",
     "text": [
      "SKIRTOR 0.549 0.768 0.811\n",
      "Fritz 0.494 0.738 0.786\n",
      "S37 0.571 0.776 0.819\n",
      "F37 0.515 0.736 0.782\n"
     ]
    }
   ],
   "source": [
    "CreateTableCIG(SelT1T2VCV(SFPandas), 'Sp', 'TypeAGN_CIG2')"
   ]
  },
  {
   "cell_type": "code",
   "execution_count": 11,
   "metadata": {
    "ExecuteTime": {
     "end_time": "2021-01-22T13:13:03.775450Z",
     "start_time": "2021-01-22T13:13:03.527521Z"
    }
   },
   "outputs": [
    {
     "name": "stdout",
     "output_type": "stream",
     "text": [
      "SKIRTOR 0.567 0.779 0.821\n",
      "Fritz 0.51 0.748 0.795\n",
      "S37 0.594 0.79 0.831\n",
      "F37 0.533 0.748 0.794\n"
     ]
    }
   ],
   "source": [
    "# As these are in both samples it does not matter if we use 'otype_txt' or 'Sp'\n",
    "CreateTableCIG(SelT1orT2(SFPandas), 'otype_txt', 'TypeAGN_CIG')"
   ]
  },
  {
   "cell_type": "code",
   "execution_count": 12,
   "metadata": {
    "ExecuteTime": {
     "end_time": "2021-01-22T13:13:03.858806Z",
     "start_time": "2021-01-22T13:13:03.776563Z"
    }
   },
   "outputs": [
    {
     "name": "stdout",
     "output_type": "stream",
     "text": [
      "SKIRTOR 0.067 0.399 0.436\n",
      "Fritz 0.102 0.399 0.433\n",
      "S37 0.015 0.346 0.369\n",
      "F37 0.112 0.314 0.319\n",
      "SKIRTOR -0.067 0.431 0.564\n",
      "Fritz -0.102 0.418 0.567\n",
      "S37 -0.015 0.467 0.631\n",
      "F37 -0.112 0.439 0.681\n"
     ]
    }
   ],
   "source": [
    "CreateTableCIG(SelT1xorT2(SFPandas), 'Sp', 'TypeAGN_CIG2')\n",
    "CreateTableCIG(SelT1xorT2(SFPandas), 'otype_txt', 'TypeAGN_CIG')"
   ]
  },
  {
   "cell_type": "code",
   "execution_count": 13,
   "metadata": {
    "ExecuteTime": {
     "end_time": "2021-01-22T13:13:03.918626Z",
     "start_time": "2021-01-22T13:13:03.859915Z"
    }
   },
   "outputs": [
    {
     "name": "stdout",
     "output_type": "stream",
     "text": [
      "SKIRTOR 0.214 0.555 0.582\n",
      "Fritz 0.071 0.523 0.529\n",
      "S37 0.221 0.538 0.576\n",
      "F37 0.154 0.547 0.559\n"
     ]
    }
   ],
   "source": [
    "CreateTableCIG(SelT1orT2VCV(SFPandas), 'TypeAGN_VCV', 'TypeAGN_CIG2')"
   ]
  },
  {
   "cell_type": "markdown",
   "metadata": {},
   "source": [
    "Interestingly, when using the split by the AGN disk luminosity we obtain a better constraint"
   ]
  },
  {
   "cell_type": "code",
   "execution_count": 14,
   "metadata": {
    "ExecuteTime": {
     "end_time": "2021-01-22T13:13:04.232744Z",
     "start_time": "2021-01-22T13:13:03.919517Z"
    }
   },
   "outputs": [
    {
     "name": "stdout",
     "output_type": "stream",
     "text": [
      "SKIRTOR 0.603 0.784 0.832\n",
      "Fritz 0.525 0.752 0.817\n",
      "S37 0.592 0.778 0.831\n",
      "F37 0.526 0.751 0.823\n"
     ]
    }
   ],
   "source": [
    "CreateTableCIG(SelT1T2SMB(SFPandas), 'otype_txt', 'TypeAGN_CIG_Ldisk')"
   ]
  },
  {
   "cell_type": "code",
   "execution_count": 15,
   "metadata": {
    "ExecuteTime": {
     "end_time": "2021-01-22T13:13:04.477392Z",
     "start_time": "2021-01-22T13:13:04.233801Z"
    }
   },
   "outputs": [
    {
     "name": "stdout",
     "output_type": "stream",
     "text": [
      "SKIRTOR 0.602 0.784 0.815\n",
      "Fritz 0.51 0.746 0.793\n",
      "S37 0.587 0.776 0.813\n",
      "F37 0.512 0.745 0.799\n"
     ]
    }
   ],
   "source": [
    "CreateTableCIG(SelT1T2VCV(SFPandas), 'Sp', 'TypeAGN_CIG_Ldisk2')"
   ]
  },
  {
   "cell_type": "code",
   "execution_count": 16,
   "metadata": {
    "ExecuteTime": {
     "end_time": "2021-01-22T13:13:04.726598Z",
     "start_time": "2021-01-22T13:13:04.479007Z"
    }
   },
   "outputs": [
    {
     "name": "stdout",
     "output_type": "stream",
     "text": [
      "SKIRTOR 0.627 0.8 0.83\n",
      "Fritz 0.537 0.762 0.808\n",
      "S37 0.615 0.794 0.83\n",
      "F37 0.537 0.761 0.814\n"
     ]
    }
   ],
   "source": [
    "# As these are in both samples it does not matter if we use 'otype_txt' or 'Sp'\n",
    "CreateTableCIG(SelT1orT2(SFPandas), 'otype_txt', 'TypeAGN_CIG_Ldisk')"
   ]
  },
  {
   "cell_type": "markdown",
   "metadata": {},
   "source": [
    "## Feature selection\n",
    "Here, we selected the features to use in the estimations for the analysis and predictions. First, we select the max number of useful features from CIGALE output.\n",
    "\n",
    "We select the physical parameters in all the models and remove the ones that are not useful for our propose (e.g. constant values)."
   ]
  },
  {
   "cell_type": "code",
   "execution_count": 17,
   "metadata": {
    "ExecuteTime": {
     "end_time": "2021-01-22T13:13:05.119652Z",
     "start_time": "2021-01-22T13:13:04.727978Z"
    }
   },
   "outputs": [],
   "source": [
    "GoodColumns = [jsd for jsd in SelT1orT2(SFPandas).columns if 'bayes' in jsd]\n",
    "newdf = SelT1orT2(SFPandas)[GoodColumns]\n",
    "Descr = newdf.describe()\n",
    "BadCol = [js for js in newdf.columns if Descr[js]\n",
    "          ['std'] < 1e-2]  # Removing constant columns\n",
    "newdf = newdf.drop(BadCol, axis=1)\n",
    "# Removing calculated errors\n",
    "BadCol2 = [js for js in newdf.columns if '_err' in js]\n",
    "newdf = newdf.drop(BadCol2, axis=1)\n",
    "# Removing young estimations\n",
    "BadCol3 = [js for js in newdf.columns if '_young' in js]\n",
    "# Removing old estimations\n",
    "BadCol4 = [js for js in newdf.columns if '_old' in js]\n",
    "# Removing estimations with lines\n",
    "BadCol5 = [js for js in newdf.columns if '_lines' in js]\n",
    "# Removing universe values, these are dependent of redshift\n",
    "BadCol6 = [js for js in newdf.columns if 'universe' in js]\n",
    "# Removing filter in the attenuation module\n",
    "BadCol7 = [js for js in newdf.columns if 'FUV' in js]\n",
    "BadCols = concatenate([BadCol3, BadCol4, BadCol5, BadCol6, BadCol7])\n",
    "newdf = newdf.drop(BadCols, axis=1)\n",
    "newdf = newdf.dropna(axis='columns')\n",
    "newdf = newdf[newdf.columns[:-31]]  # Remove the mock photometry"
   ]
  },
  {
   "cell_type": "markdown",
   "metadata": {},
   "source": [
    "We split the sample of galaxies into train and test sets. Then, we encode and scale the physical parameters. "
   ]
  },
  {
   "cell_type": "code",
   "execution_count": 18,
   "metadata": {
    "ExecuteTime": {
     "end_time": "2021-01-22T13:13:05.190278Z",
     "start_time": "2021-01-22T13:13:05.120866Z"
    }
   },
   "outputs": [],
   "source": [
    "X = newdf\n",
    "y = SelT1orT2(SFPandas)['otype_txt']\n",
    "x_train, x_test, y_train, y_test = train_test_split(X, y, test_size=0.20, random_state=42)\n",
    "le = preprocessing.LabelEncoder()\n",
    "le.fit(y)\n",
    "x_train_encode = preprocessing.robust_scale(x_train)\n",
    "x_test_encode = preprocessing.robust_scale(x_test)\n",
    "y_train_encode = le.transform(y_train).reshape(-1, 1).ravel()\n",
    "y_test_encode = le.transform(y_test).reshape(-1, 1).ravel()"
   ]
  },
  {
   "cell_type": "markdown",
   "metadata": {},
   "source": [
    "Principal Component Analysis (PCA) shows that only a few physical parameters are needed. More than ~6 if we made a cut at 99% on the variance ratio. "
   ]
  },
  {
   "cell_type": "code",
   "execution_count": 19,
   "metadata": {
    "ExecuteTime": {
     "end_time": "2021-01-22T13:13:05.442511Z",
     "start_time": "2021-01-22T13:13:05.191366Z"
    }
   },
   "outputs": [
    {
     "data": {
      "text/plain": [
       "Text(0, 0.5, 'Cumulative explained variance')"
      ]
     },
     "execution_count": 19,
     "metadata": {},
     "output_type": "execute_result"
    },
    {
     "data": {
      "image/png": "[encoded data removed]",
      "text/plain": [
       "<Figure size 864x648 with 1 Axes>"
      ]
     },
     "metadata": {},
     "output_type": "display_data"
    }
   ],
   "source": [
    "x_train_N = (x_train_encode-x_train_encode.mean()) / \\\n",
    "    (x_train_encode.max()-x_train_encode.min())\n",
    "# x_test_N = (x_test_encode-x_test_encode.mean())/(x_test_encode.max()-x_test_encode.min())\n",
    "\n",
    "pca = PCA()\n",
    "pca.fit(x_train_N)\n",
    "\n",
    "sns.set()\n",
    "plt.figure(1, figsize=(12, 9))\n",
    "sns.lineplot(data=np.cumsum(pca.explained_variance_ratio_))\n",
    "plt.axhline(y=0.99)\n",
    "plt.axvline(x=6)\n",
    "plt.xlabel('Number of components')\n",
    "plt.ylabel('Cumulative explained variance')"
   ]
  },
  {
   "cell_type": "markdown",
   "metadata": {},
   "source": [
    "As we mentioned in the Pre-Analysis file, we selected two different classifiers (Random Forest and XGBoost). We use the parameters values we found previously (Pre-Analysis file) from the classifiers ."
   ]
  },
  {
   "cell_type": "code",
   "execution_count": 20,
   "metadata": {
    "ExecuteTime": {
     "end_time": "2021-01-22T13:13:05.445377Z",
     "start_time": "2021-01-22T13:13:05.443337Z"
    }
   },
   "outputs": [],
   "source": [
    "clf_rf = RandomForestClassifier(n_estimators=800, max_depth=35, random_state=42)\n",
    "clf_xg = xgb.XGBClassifier(n_estimators=400, max_depth=20,\n",
    "                           random_state=42, use_label_encoder=False, eval_metric='logloss')"
   ]
  },
  {
   "cell_type": "markdown",
   "metadata": {},
   "source": [
    "We create a feature ranking with recursive feature elimination and cross-validated selection (RFECV). We evaluate with the accuracy score and we use a 5-fold cv. "
   ]
  },
  {
   "cell_type": "code",
   "execution_count": 21,
   "metadata": {
    "ExecuteTime": {
     "end_time": "2021-01-22T13:31:12.224158Z",
     "start_time": "2021-01-22T13:13:05.446199Z"
    }
   },
   "outputs": [
    {
     "name": "stdout",
     "output_type": "stream",
     "text": [
      "Fitting estimator with 24 features.\n",
      "Fitting estimator with 23 features.\n",
      "Fitting estimator with 22 features.\n",
      "Fitting estimator with 21 features.\n",
      "Fitting estimator with 20 features.\n",
      "Fitting estimator with 19 features.\n",
      "Fitting estimator with 18 features.\n",
      "Fitting estimator with 17 features.\n",
      "Fitting estimator with 16 features.\n",
      "Fitting estimator with 15 features.\n",
      "Fitting estimator with 14 features.\n",
      "Fitting estimator with 13 features.\n",
      "Fitting estimator with 12 features.\n",
      "Fitting estimator with 11 features.\n",
      "Fitting estimator with 10 features.\n",
      "Fitting estimator with 9 features.\n",
      "Fitting estimator with 8 features.\n",
      "Fitting estimator with 7 features.\n",
      "Fitting estimator with 24 features.\n",
      "Fitting estimator with 23 features.\n",
      "Fitting estimator with 22 features.\n",
      "Fitting estimator with 21 features.\n",
      "Fitting estimator with 20 features.\n",
      "Fitting estimator with 19 features.\n",
      "Fitting estimator with 18 features.\n",
      "Fitting estimator with 17 features.\n",
      "Fitting estimator with 16 features.\n",
      "Fitting estimator with 15 features.\n",
      "Fitting estimator with 14 features.\n",
      "Fitting estimator with 13 features.\n",
      "Fitting estimator with 12 features.\n",
      "Fitting estimator with 11 features.\n",
      "Fitting estimator with 10 features.\n",
      "Fitting estimator with 9 features.\n",
      "Fitting estimator with 8 features.\n",
      "Fitting estimator with 7 features.\n",
      "Fitting estimator with 24 features.\n",
      "Fitting estimator with 23 features.\n",
      "Fitting estimator with 22 features.\n",
      "Fitting estimator with 21 features.\n",
      "Fitting estimator with 20 features.\n",
      "Fitting estimator with 19 features.\n",
      "Fitting estimator with 18 features.\n",
      "Fitting estimator with 17 features.\n",
      "Fitting estimator with 16 features.\n",
      "Fitting estimator with 15 features.\n",
      "Fitting estimator with 14 features.\n",
      "Fitting estimator with 13 features.\n",
      "Fitting estimator with 12 features.\n",
      "Fitting estimator with 11 features.\n",
      "Fitting estimator with 10 features.\n",
      "Fitting estimator with 9 features.\n",
      "Fitting estimator with 8 features.\n",
      "Fitting estimator with 7 features.\n",
      "Fitting estimator with 24 features.\n",
      "Fitting estimator with 23 features.\n",
      "Fitting estimator with 22 features.\n",
      "Fitting estimator with 21 features.\n",
      "Fitting estimator with 20 features.\n",
      "Fitting estimator with 19 features.\n",
      "Fitting estimator with 18 features.\n",
      "Fitting estimator with 17 features.\n",
      "Fitting estimator with 16 features.\n",
      "Fitting estimator with 15 features.\n",
      "Fitting estimator with 14 features.\n",
      "Fitting estimator with 13 features.\n",
      "Fitting estimator with 12 features.\n",
      "Fitting estimator with 11 features.\n",
      "Fitting estimator with 10 features.\n",
      "Fitting estimator with 9 features.\n",
      "Fitting estimator with 8 features.\n",
      "Fitting estimator with 7 features.\n",
      "Fitting estimator with 24 features.\n",
      "Fitting estimator with 23 features.\n",
      "Fitting estimator with 22 features.\n",
      "Fitting estimator with 21 features.\n",
      "Fitting estimator with 20 features.\n",
      "Fitting estimator with 19 features.\n",
      "Fitting estimator with 18 features.\n",
      "Fitting estimator with 17 features.\n",
      "Fitting estimator with 16 features.\n",
      "Fitting estimator with 15 features.\n",
      "Fitting estimator with 14 features.\n",
      "Fitting estimator with 13 features.\n",
      "Fitting estimator with 12 features.\n",
      "Fitting estimator with 11 features.\n",
      "Fitting estimator with 10 features.\n",
      "Fitting estimator with 9 features.\n",
      "Fitting estimator with 8 features.\n",
      "Fitting estimator with 7 features.\n",
      "Fitting estimator with 24 features.\n",
      "Fitting estimator with 23 features.\n",
      "Fitting estimator with 22 features.\n",
      "Fitting estimator with 21 features.\n",
      "Fitting estimator with 20 features.\n",
      "Fitting estimator with 19 features.\n",
      "Fitting estimator with 18 features.\n",
      "Fitting estimator with 17 features.\n",
      "Fitting estimator with 16 features.\n",
      "Fitting estimator with 15 features.\n",
      "Fitting estimator with 14 features.\n",
      "Fitting estimator with 13 features.\n",
      "Fitting estimator with 12 features.\n",
      "Fitting estimator with 11 features.\n",
      "Fitting estimator with 10 features.\n",
      "Fitting estimator with 9 features.\n",
      "Fitting estimator with 8 features.\n",
      "Fitting estimator with 7 features.\n",
      "Fitting estimator with 24 features.\n",
      "Fitting estimator with 23 features.\n",
      "Fitting estimator with 22 features.\n",
      "Fitting estimator with 21 features.\n",
      "Fitting estimator with 20 features.\n",
      "Fitting estimator with 19 features.\n",
      "Fitting estimator with 18 features.\n",
      "Fitting estimator with 17 features.\n",
      "Fitting estimator with 16 features.\n",
      "Fitting estimator with 15 features.\n",
      "Fitting estimator with 14 features.\n",
      "Fitting estimator with 13 features.\n",
      "Fitting estimator with 12 features.\n",
      "Fitting estimator with 11 features.\n",
      "Fitting estimator with 10 features.\n",
      "Fitting estimator with 9 features.\n",
      "Fitting estimator with 8 features.\n",
      "Fitting estimator with 7 features.\n",
      "Fitting estimator with 24 features.\n",
      "Fitting estimator with 23 features.\n",
      "Fitting estimator with 22 features.\n",
      "Fitting estimator with 21 features.\n",
      "Fitting estimator with 20 features.\n",
      "Fitting estimator with 19 features.\n",
      "Fitting estimator with 18 features.\n",
      "Fitting estimator with 17 features.\n",
      "Fitting estimator with 16 features.\n",
      "Fitting estimator with 15 features.\n",
      "Fitting estimator with 14 features.\n",
      "Fitting estimator with 13 features.\n",
      "Fitting estimator with 12 features.\n",
      "Fitting estimator with 11 features.\n",
      "Fitting estimator with 10 features.\n",
      "Fitting estimator with 9 features.\n",
      "Fitting estimator with 8 features.\n",
      "Fitting estimator with 7 features.\n",
      "Fitting estimator with 24 features.\n",
      "Fitting estimator with 23 features.\n",
      "Fitting estimator with 22 features.\n",
      "Fitting estimator with 21 features.\n",
      "Fitting estimator with 20 features.\n",
      "Fitting estimator with 19 features.\n",
      "Fitting estimator with 18 features.\n",
      "Fitting estimator with 17 features.\n",
      "Fitting estimator with 16 features.\n",
      "Fitting estimator with 15 features.\n",
      "Fitting estimator with 14 features.\n",
      "Fitting estimator with 13 features.\n",
      "Fitting estimator with 12 features.\n",
      "Fitting estimator with 11 features.\n",
      "Fitting estimator with 10 features.\n",
      "Fitting estimator with 9 features.\n",
      "Fitting estimator with 8 features.\n",
      "Fitting estimator with 7 features.\n",
      "Fitting estimator with 24 features.\n",
      "Fitting estimator with 23 features.\n",
      "Fitting estimator with 22 features.\n",
      "Fitting estimator with 21 features.\n",
      "Fitting estimator with 20 features.\n",
      "Fitting estimator with 19 features.\n",
      "Fitting estimator with 18 features.\n",
      "Fitting estimator with 17 features.\n",
      "Fitting estimator with 16 features.\n",
      "Fitting estimator with 15 features.\n",
      "Fitting estimator with 14 features.\n",
      "Fitting estimator with 13 features.\n",
      "Fitting estimator with 12 features.\n",
      "Fitting estimator with 11 features.\n",
      "Fitting estimator with 10 features.\n",
      "Fitting estimator with 9 features.\n",
      "Fitting estimator with 8 features.\n",
      "Fitting estimator with 7 features.\n",
      "Fitting estimator with 24 features.\n",
      "Optimal number of features : 23\n",
      "Best features : Index(['bayes.agn.EBV', 'bayes.agn.fracAGN', 'bayes.agn.i',\n",
      "       'bayes.attenuation.E_BVs', 'bayes.attenuation.powerlaw_slope',\n",
      "       'bayes.dust.alpha', 'bayes.sfh.age', 'bayes.sfh.tau_main',\n",
      "       'bayes.stellar.age_m_star', 'bayes.agn.accretion_power',\n",
      "       'bayes.agn.disk_luminosity', 'bayes.agn.dust_luminosity',\n",
      "       'bayes.agn.intrin_Lnu_2500A', 'bayes.agn.luminosity',\n",
      "       'bayes.dust.luminosity', 'bayes.sfh.integrated', 'bayes.sfh.sfr',\n",
      "       'bayes.sfh.sfr100Myrs', 'bayes.sfh.sfr10Myrs', 'bayes.stellar.lum',\n",
      "       'bayes.stellar.lum_ly', 'bayes.stellar.m_gas', 'bayes.stellar.m_star'],\n",
      "      dtype='object')\n"
     ]
    }
   ],
   "source": [
    "rfecv_xg = RFECV(estimator=clf_xg, cv=StratifiedKFold(10), \n",
    "                 scoring='accuracy', verbose=4, min_features_to_select=6)\n",
    "rfecv_xg = rfecv_xg.fit(x_train_encode, y_train_encode)\n",
    "print('Optimal number of features :', rfecv_xg.n_features_)\n",
    "print('Best features :', newdf.columns[rfecv_xg.support_])"
   ]
  },
  {
   "cell_type": "markdown",
   "metadata": {},
   "source": [
    "Here the number of correct  classifications is still increasing with the number of features"
   ]
  },
  {
   "cell_type": "code",
   "execution_count": 22,
   "metadata": {
    "ExecuteTime": {
     "end_time": "2021-01-22T13:31:12.401076Z",
     "start_time": "2021-01-22T13:31:12.225079Z"
    }
   },
   "outputs": [
    {
     "data": {
      "text/plain": [
       "Text(0, 0.5, 'Correct classifications')"
      ]
     },
     "execution_count": 22,
     "metadata": {},
     "output_type": "execute_result"
    },
    {
     "data": {
      "image/png": "[encoded data removed]",
      "text/plain": [
       "<Figure size 864x432 with 1 Axes>"
      ]
     },
     "metadata": {},
     "output_type": "display_data"
    }
   ],
   "source": [
    "plt.figure(figsize=(12, 6))\n",
    "plt.plot(range(1,len(rfecv_xg.grid_scores_) + 1),\n",
    "         rfecv_xg.grid_scores_)\n",
    "plt.xlabel('Number of features')\n",
    "plt.ylabel('Correct classifications')"
   ]
  },
  {
   "cell_type": "code",
   "execution_count": 23,
   "metadata": {
    "ExecuteTime": {
     "end_time": "2021-01-22T13:55:25.128869Z",
     "start_time": "2021-01-22T13:31:12.402093Z"
    }
   },
   "outputs": [
    {
     "name": "stdout",
     "output_type": "stream",
     "text": [
      "Optimal number of features : 24\n",
      "Best features : Index(['bayes.agn.EBV', 'bayes.agn.fracAGN', 'bayes.agn.i',\n",
      "       'bayes.attenuation.E_BVs', 'bayes.attenuation.powerlaw_slope',\n",
      "       'bayes.dust.alpha', 'bayes.sfh.age', 'bayes.sfh.age_main',\n",
      "       'bayes.sfh.tau_main', 'bayes.stellar.age_m_star',\n",
      "       'bayes.agn.accretion_power', 'bayes.agn.disk_luminosity',\n",
      "       'bayes.agn.dust_luminosity', 'bayes.agn.intrin_Lnu_2500A',\n",
      "       'bayes.agn.luminosity', 'bayes.dust.luminosity', 'bayes.sfh.integrated',\n",
      "       'bayes.sfh.sfr', 'bayes.sfh.sfr100Myrs', 'bayes.sfh.sfr10Myrs',\n",
      "       'bayes.stellar.lum', 'bayes.stellar.lum_ly', 'bayes.stellar.m_gas',\n",
      "       'bayes.stellar.m_star'],\n",
      "      dtype='object')\n"
     ]
    }
   ],
   "source": [
    "rfecv_rf = RFECV(estimator=clf_rf, cv=StratifiedKFold(10),\n",
    "                 scoring='accuracy', min_features_to_select=6, verbose=4, n_jobs=-1)\n",
    "rfecv_rf = rfecv_rf.fit(x_train_encode, y_train_encode)\n",
    "print('Optimal number of features :', rfecv_rf.n_features_)\n",
    "print('Best features :', newdf.columns[rfecv_rf.support_])"
   ]
  },
  {
   "cell_type": "markdown",
   "metadata": {},
   "source": [
    "Here the number of correct classifications also increasing with the number of features"
   ]
  },
  {
   "cell_type": "code",
   "execution_count": 24,
   "metadata": {
    "ExecuteTime": {
     "end_time": "2021-01-22T13:55:25.306926Z",
     "start_time": "2021-01-22T13:55:25.130227Z"
    }
   },
   "outputs": [
    {
     "data": {
      "text/plain": [
       "Text(0, 0.5, 'Correct classifications')"
      ]
     },
     "execution_count": 24,
     "metadata": {},
     "output_type": "execute_result"
    },
    {
     "data": {
      "image/png": "[encoded data removed]",
      "text/plain": [
       "<Figure size 864x432 with 1 Axes>"
      ]
     },
     "metadata": {},
     "output_type": "display_data"
    }
   ],
   "source": [
    "plt.figure(figsize=(12, 6))\n",
    "plt.plot(range(1,len(rfecv_rf.grid_scores_) + 1),\n",
    "         rfecv_rf.grid_scores_)\n",
    "plt.xlabel('Number of features')\n",
    "plt.ylabel('Correct classifications')"
   ]
  },
  {
   "cell_type": "markdown",
   "metadata": {},
   "source": [
    "We can verify the mean feature importance to select the most important physical parameters. "
   ]
  },
  {
   "cell_type": "code",
   "execution_count": 25,
   "metadata": {
    "ExecuteTime": {
     "end_time": "2021-01-22T13:55:25.604913Z",
     "start_time": "2021-01-22T13:55:25.308103Z"
    }
   },
   "outputs": [],
   "source": [
    "XGBFI = pd.Series(rfecv_xg.estimator_.feature_importances_,\n",
    "                  index=newdf.columns[rfecv_xg.support_].array)\n",
    "RFFI = pd.Series(rfecv_rf.estimator_.feature_importances_,\n",
    "                 index=newdf.columns[rfecv_rf.support_].array)"
   ]
  },
  {
   "cell_type": "markdown",
   "metadata": {},
   "source": [
    "This shows there are 2 features that contributes the most (AGN disk luminosity and viewing angle), 3 that contribute a considerable amount (AGN E(B-V), attenuration E(B-V)s and $\\tau_{main}$).   "
   ]
  },
  {
   "cell_type": "code",
   "execution_count": 26,
   "metadata": {
    "ExecuteTime": {
     "end_time": "2021-01-22T13:55:25.611363Z",
     "start_time": "2021-01-22T13:55:25.605900Z"
    }
   },
   "outputs": [
    {
     "data": {
      "text/plain": [
       "bayes.agn.disk_luminosity           0.236537\n",
       "bayes.agn.i                         0.129710\n",
       "bayes.attenuation.E_BVs             0.066310\n",
       "bayes.agn.EBV                       0.059605\n",
       "bayes.sfh.tau_main                  0.047870\n",
       "bayes.sfh.sfr                       0.032882\n",
       "bayes.agn.luminosity                0.031883\n",
       "bayes.agn.dust_luminosity           0.028138\n",
       "bayes.dust.alpha                    0.027106\n",
       "bayes.attenuation.powerlaw_slope    0.026782\n",
       "bayes.stellar.age_m_star            0.026666\n",
       "bayes.sfh.integrated                0.026449\n",
       "bayes.agn.fracAGN                   0.025943\n",
       "bayes.agn.intrin_Lnu_2500A          0.025782\n",
       "bayes.sfh.age                       0.024934\n",
       "bayes.sfh.sfr100Myrs                0.024104\n",
       "bayes.sfh.age_main                  0.023997\n",
       "bayes.stellar.m_gas                 0.023395\n",
       "bayes.dust.luminosity               0.022797\n",
       "bayes.stellar.m_star                0.022617\n",
       "bayes.stellar.lum_ly                0.020533\n",
       "bayes.agn.accretion_power           0.020373\n",
       "bayes.stellar.lum                   0.019915\n",
       "bayes.sfh.sfr10Myrs                 0.017668\n",
       "dtype: float64"
      ]
     },
     "execution_count": 26,
     "metadata": {},
     "output_type": "execute_result"
    }
   ],
   "source": [
    "pd.concat([RFFI, XGBFI]).groupby(level=0).mean().sort_values(ascending=False)"
   ]
  },
  {
   "cell_type": "markdown",
   "metadata": {},
   "source": [
    "We decided to select 7 parameters from these list to do the calculations. We include the 5 parameters with a high feature importance (the ones mentioned before) and we add SFR and $f_{AGN}$. These two parameters can give us a better comparison with observational results, and at the same time improve the classification task. "
   ]
  },
  {
   "cell_type": "code",
   "execution_count": 27,
   "metadata": {
    "ExecuteTime": {
     "end_time": "2021-01-22T13:55:25.617384Z",
     "start_time": "2021-01-22T13:55:25.612391Z"
    }
   },
   "outputs": [],
   "source": [
    "ManualCols = array(['bayes.agn.i',\n",
    "                    'bayes.agn.fracAGN',\n",
    "                    'bayes.agn.disk_luminosity',\n",
    "                    'bayes.agn.EBV',\n",
    "                    'bayes.attenuation.E_BVs',\n",
    "                    'bayes.sfh.sfr',\n",
    "                    'bayes.sfh.tau_main'])"
   ]
  },
  {
   "cell_type": "markdown",
   "metadata": {},
   "source": [
    "## Predict classifications with Machine Learning algorithms \n",
    "##### Part TABLE 4\n",
    "\n",
    "We fit the classifiers  with the selected columns. We present the mean feature importance of each of them, together with the same values presented before. "
   ]
  },
  {
   "cell_type": "code",
   "execution_count": 28,
   "metadata": {
    "ExecuteTime": {
     "end_time": "2021-01-22T13:56:23.504152Z",
     "start_time": "2021-01-22T13:55:25.618207Z"
    }
   },
   "outputs": [],
   "source": [
    "TABLE4 = CreateTableClas(SelT1orT2(SFPandas), ManualCols, 'otype_txt')"
   ]
  },
  {
   "cell_type": "code",
   "execution_count": 29,
   "metadata": {
    "ExecuteTime": {
     "end_time": "2021-01-22T13:56:23.510263Z",
     "start_time": "2021-01-22T13:56:23.505260Z"
    }
   },
   "outputs": [
    {
     "data": {
      "text/html": [
       "<i>Table length=8</i>\n",
       "<table id=\"table140678587007184\" class=\"table-striped table-bordered table-condensed\">\n",
       "<thead><tr><th>col0</th><th>col1</th><th>col2</th><th>col3</th><th>col4</th></tr></thead>\n",
       "<thead><tr><th>str12</th><th>str12</th><th>str12</th><th>str12</th><th>str12</th></tr></thead>\n",
       "<tr><td>RandomForest</td><td>SKIRTOR</td><td>0.742</td><td>0.866</td><td>0.895</td></tr>\n",
       "<tr><td>RandomForest</td><td>Fritz</td><td>0.712</td><td>0.856</td><td>0.899</td></tr>\n",
       "<tr><td>RandomForest</td><td>S37</td><td>0.749</td><td>0.873</td><td>0.907</td></tr>\n",
       "<tr><td>RandomForest</td><td>F37</td><td>0.738</td><td>0.866</td><td>0.904</td></tr>\n",
       "<tr><td>XGBoost</td><td>SKIRTOR</td><td>0.714</td><td>0.854</td><td>0.888</td></tr>\n",
       "<tr><td>XGBoost</td><td>Fritz</td><td>0.695</td><td>0.846</td><td>0.89</td></tr>\n",
       "<tr><td>XGBoost</td><td>S37</td><td>0.736</td><td>0.868</td><td>0.906</td></tr>\n",
       "<tr><td>XGBoost</td><td>F37</td><td>0.71</td><td>0.852</td><td>0.895</td></tr>\n",
       "</table>"
      ],
      "text/plain": [
       "<Table length=8>\n",
       "    col0       col1   col2  col3  col4\n",
       "   str12      str12  str12 str12 str12\n",
       "------------ ------- ----- ----- -----\n",
       "RandomForest SKIRTOR 0.742 0.866 0.895\n",
       "RandomForest   Fritz 0.712 0.856 0.899\n",
       "RandomForest     S37 0.749 0.873 0.907\n",
       "RandomForest     F37 0.738 0.866 0.904\n",
       "     XGBoost SKIRTOR 0.714 0.854 0.888\n",
       "     XGBoost   Fritz 0.695 0.846  0.89\n",
       "     XGBoost     S37 0.736 0.868 0.906\n",
       "     XGBoost     F37  0.71 0.852 0.895"
      ]
     },
     "execution_count": 29,
     "metadata": {},
     "output_type": "execute_result"
    }
   ],
   "source": [
    "Table(TABLE4).group_by('col0')"
   ]
  },
  {
   "cell_type": "markdown",
   "metadata": {},
   "source": [
    "The <tt> DummyClassifier </tt> was used to check the baseline for the metrics in the predictions when using random configurations. So this can be seem as when the classifier gives bad/none results. "
   ]
  },
  {
   "cell_type": "code",
   "execution_count": 30,
   "metadata": {
    "ExecuteTime": {
     "end_time": "2021-01-22T13:56:23.754109Z",
     "start_time": "2021-01-22T13:56:23.511088Z"
    }
   },
   "outputs": [
    {
     "name": "stdout",
     "output_type": "stream",
     "text": [
      "DummyClassifier -0.007 0.497 0.635\n"
     ]
    }
   ],
   "source": [
    "from sklearn.dummy import DummyClassifier\n",
    "\n",
    "Dclf = DummyClassifier(strategy='stratified', random_state=42)\n",
    "# We use all the AGN models, not the train and test samples (It does not matter which one we use)\n",
    "Dclf.fit(X, y)\n",
    "DumPred = Dclf.predict(X)\n",
    "\n",
    "print('DummyClassifier', round(matthews_corrcoef(y, DumPred), 3),\n",
    "      round(f1_score(y, DumPred, average='macro'), 3), round(accuracy_score(y, DumPred), 3))"
   ]
  },
  {
   "cell_type": "markdown",
   "metadata": {},
   "source": [
    "## Predict the type of Seyfert in unclassified galaxies\n",
    "Here we select the galaxies with an undefined type (or unknown source) and we predict the type AGN. We compare with just selecting the AGN disk luminosity from CIGALE. As we saw before, the AGN disk luminosity is better in predict the classifications (first part of the TABLE 4). We use a limit at $10^{10}$ solar luminosities, however we prefer leave a gap of 0.5 dex from this value to assure the classification."
   ]
  },
  {
   "cell_type": "code",
   "execution_count": 31,
   "metadata": {
    "ExecuteTime": {
     "end_time": "2021-01-22T13:56:23.760030Z",
     "start_time": "2021-01-22T13:56:23.755031Z"
    }
   },
   "outputs": [],
   "source": [
    "SFPandas['CIG_Pred'] = np.empty(len(SFPandas))*np.nan\n",
    "SFPandas.loc[SFPandas['bayes.agn.disk_luminosity'] >= (\n",
    "    10**10.25 * u.solLum).to(u.W).value, 'CIG_Pred'] = 0\n",
    "SFPandas.loc[SFPandas['bayes.agn.disk_luminosity'] <= (\n",
    "    10**9.75 * u.solLum).to(u.W).value, 'CIG_Pred'] = 1"
   ]
  },
  {
   "cell_type": "markdown",
   "metadata": {},
   "source": [
    "We then select two types, one where there is no class associated in VCV and SMB, and another when there is no class in VCV or SMB."
   ]
  },
  {
   "cell_type": "code",
   "execution_count": 32,
   "metadata": {
    "ExecuteTime": {
     "end_time": "2021-01-22T13:56:23.805500Z",
     "start_time": "2021-01-22T13:56:23.760888Z"
    }
   },
   "outputs": [],
   "source": [
    "NoClass = SFPandas[np.logical_and(\n",
    "    SFPandas['otype_txt'] == 'SyG', SFPandas['Sp'] == 'S')]\n",
    "SemiClass = SFPandas[np.logical_xor(\n",
    "    SFPandas['otype_txt'] == 'SyG', SFPandas['Sp'] == 'S')]"
   ]
  },
  {
   "cell_type": "code",
   "execution_count": 33,
   "metadata": {
    "ExecuteTime": {
     "end_time": "2021-01-22T13:56:23.809255Z",
     "start_time": "2021-01-22T13:56:23.806393Z"
    }
   },
   "outputs": [
    {
     "name": "stdout",
     "output_type": "stream",
     "text": [
      "Total number of galaxies without a class in neither VCV and SMB and a good fitting: 16\n",
      "Total number of galaxies without a class in VCV or SMB and a good fitting: 47\n"
     ]
    }
   ],
   "source": [
    "print('Total number of galaxies without a class in neither VCV and SMB and a good fitting:',\n",
    "      len(unique(NoClass['id'])))\n",
    "print('Total number of galaxies without a class in VCV or SMB and a good fitting:',\n",
    "      len(unique(SemiClass['id'])))"
   ]
  },
  {
   "cell_type": "code",
   "execution_count": 34,
   "metadata": {
    "ExecuteTime": {
     "end_time": "2021-01-22T13:56:23.818053Z",
     "start_time": "2021-01-22T13:56:23.810056Z"
    }
   },
   "outputs": [],
   "source": [
    "def CreateTableClas(TrainTable, PredTable, Samp, TypeAGN):\n",
    "    \"\"\"Precict the type of the unknown Seyferts \"\"\"\n",
    "    ColPred1 = []\n",
    "    ColPred2 = []\n",
    "    for jj in ['SKIRTOR', 'Fritz', 'S37', 'F37']:\n",
    "        X = TrainTable.loc[jj][Samp]\n",
    "        y = TrainTable.loc[jj][TypeAGN]\n",
    "        XP = PredTable.loc[jj][Samp]\n",
    "        x_train, x_test, y_train, y_test = train_test_split(\n",
    "            X, y, test_size=0.20, random_state=42)\n",
    "        le = preprocessing.LabelEncoder()\n",
    "        le.fit(y)\n",
    "        x_train_encode = preprocessing.robust_scale(x_train)\n",
    "        y_train_encode = le.transform(y_train).reshape(-1, 1).ravel()\n",
    "        # These classifiers need to be defined before use\n",
    "        for iclf, Clasi in enumerate([clf_rf, clf_xg]):\n",
    "            print(['RF', 'XGB'][iclf], jj)\n",
    "            Clasi.fit(x_train_encode, y_train_encode)\n",
    "            XP_encode = preprocessing.robust_scale(XP)\n",
    "            YP = Clasi.predict(XP_encode)\n",
    "            if iclf == 0:\n",
    "                ColPred1 = concatenate((ColPred1, YP), axis=None)\n",
    "            else:\n",
    "                ColPred2 = concatenate((ColPred2, YP), axis=None)\n",
    "    PredTable['RF_Pred'] = ColPred1\n",
    "    PredTable['XGB_Pred'] = ColPred2\n",
    "    return(PredTable)"
   ]
  },
  {
   "cell_type": "code",
   "execution_count": 35,
   "metadata": {
    "ExecuteTime": {
     "end_time": "2021-01-22T13:57:02.930675Z",
     "start_time": "2021-01-22T13:56:23.818854Z"
    },
    "scrolled": true
   },
   "outputs": [
    {
     "name": "stdout",
     "output_type": "stream",
     "text": [
      "RF SKIRTOR\n",
      "XGB SKIRTOR\n",
      "RF Fritz\n",
      "XGB Fritz\n",
      "RF S37\n",
      "XGB S37\n",
      "RF F37\n",
      "XGB F37\n"
     ]
    },
    {
     "name": "stderr",
     "output_type": "stream",
     "text": [
      "<ipython-input-34-019bfa3245d4>:25: SettingWithCopyWarning: \n",
      "A value is trying to be set on a copy of a slice from a DataFrame.\n",
      "Try using .loc[row_indexer,col_indexer] = value instead\n",
      "\n",
      "See the caveats in the documentation: https://pandas.pydata.org/pandas-docs/stable/user_guide/indexing.html#returning-a-view-versus-a-copy\n",
      "  PredTable['RF_Pred'] = ColPred1\n",
      "<ipython-input-34-019bfa3245d4>:26: SettingWithCopyWarning: \n",
      "A value is trying to be set on a copy of a slice from a DataFrame.\n",
      "Try using .loc[row_indexer,col_indexer] = value instead\n",
      "\n",
      "See the caveats in the documentation: https://pandas.pydata.org/pandas-docs/stable/user_guide/indexing.html#returning-a-view-versus-a-copy\n",
      "  PredTable['XGB_Pred'] = ColPred2\n"
     ]
    },
    {
     "name": "stdout",
     "output_type": "stream",
     "text": [
      "RF SKIRTOR\n",
      "XGB SKIRTOR\n",
      "RF Fritz\n",
      "XGB Fritz\n",
      "RF S37\n",
      "XGB S37\n",
      "RF F37\n",
      "XGB F37\n"
     ]
    },
    {
     "name": "stderr",
     "output_type": "stream",
     "text": [
      "<ipython-input-34-019bfa3245d4>:25: SettingWithCopyWarning: \n",
      "A value is trying to be set on a copy of a slice from a DataFrame.\n",
      "Try using .loc[row_indexer,col_indexer] = value instead\n",
      "\n",
      "See the caveats in the documentation: https://pandas.pydata.org/pandas-docs/stable/user_guide/indexing.html#returning-a-view-versus-a-copy\n",
      "  PredTable['RF_Pred'] = ColPred1\n",
      "<ipython-input-34-019bfa3245d4>:26: SettingWithCopyWarning: \n",
      "A value is trying to be set on a copy of a slice from a DataFrame.\n",
      "Try using .loc[row_indexer,col_indexer] = value instead\n",
      "\n",
      "See the caveats in the documentation: https://pandas.pydata.org/pandas-docs/stable/user_guide/indexing.html#returning-a-view-versus-a-copy\n",
      "  PredTable['XGB_Pred'] = ColPred2\n"
     ]
    }
   ],
   "source": [
    "ClassSec = CreateTableClas(SelT1orT2(SFPandas), NoClass, ManualCols, 'otype_txt')\n",
    "ClassSec2 = CreateTableClas(SelT1orT2(SFPandas), SemiClass, ManualCols, 'otype_txt')"
   ]
  },
  {
   "cell_type": "code",
   "execution_count": 36,
   "metadata": {
    "ExecuteTime": {
     "end_time": "2021-01-22T13:57:02.945955Z",
     "start_time": "2021-01-22T13:57:02.931710Z"
    }
   },
   "outputs": [
    {
     "name": "stderr",
     "output_type": "stream",
     "text": [
      "WARNING: Cannot aggregate column 'otype_txt' with type '<U3' [astropy.table.groups]\n",
      "/Users/users/ramos/.local/lib/python3.8/site-packages/astropy/table/groups.py:259: UserWarning: Warning: converting a masked element to nan.\n",
      "  vals = np.array([func(par_col[i0: i1]) for i0, i1 in zip(i0s, i1s)])\n"
     ]
    }
   ],
   "source": [
    "TypeTab = Table.from_pandas(ClassSec[['id', 'otype_txt', 'RF_Pred','XGB_Pred',\n",
    "                                      'CIG_Pred']]).group_by('id').groups.aggregate(np.mean)"
   ]
  },
  {
   "cell_type": "code",
   "execution_count": 37,
   "metadata": {
    "ExecuteTime": {
     "end_time": "2021-01-22T13:57:02.961777Z",
     "start_time": "2021-01-22T13:57:02.948184Z"
    }
   },
   "outputs": [],
   "source": [
    "TypeTab2 = Table.from_pandas(ClassSec2[['id', 'otype_txt', 'RF_Pred', 'XGB_Pred',\n",
    "                                        'CIG_Pred']]).group_by('id').groups.aggregate(np.mean)"
   ]
  },
  {
   "cell_type": "code",
   "execution_count": 38,
   "metadata": {
    "ExecuteTime": {
     "end_time": "2021-01-22T13:57:02.965568Z",
     "start_time": "2021-01-22T13:57:02.963210Z"
    }
   },
   "outputs": [],
   "source": [
    "TypeTab['Mean_clas'] = np.mean([TypeTab['RF_Pred'], TypeTab['XGB_Pred']], axis=0)\n",
    "TypeTab2['Mean_clas'] = np.mean([TypeTab2['RF_Pred'], TypeTab2['XGB_Pred']], axis=0)"
   ]
  },
  {
   "cell_type": "markdown",
   "metadata": {},
   "source": [
    "##### TABLE 5\n",
    "\n",
    "We predict the class depending on the average/mean of all the classifications trained in this work\n",
    "\n",
    "For the galaxies without any classification we found that 3 would be Sy2, 5 would be Sy1 and the rest (8) are still difficult to classify. "
   ]
  },
  {
   "cell_type": "code",
   "execution_count": 39,
   "metadata": {
    "ExecuteTime": {
     "end_time": "2021-01-22T13:57:02.973219Z",
     "start_time": "2021-01-22T13:57:02.966601Z"
    }
   },
   "outputs": [
    {
     "data": {
      "text/html": [
       "<i>Table length=16</i>\n",
       "<table id=\"table140678587351776\" class=\"table-striped table-bordered table-condensed\">\n",
       "<thead><tr><th>id</th><th>RF_Pred</th><th>XGB_Pred</th><th>CIG_Pred</th><th>Mean_clas</th></tr></thead>\n",
       "<thead><tr><th>str23</th><th>float64</th><th>float64</th><th>float64</th><th>float64</th></tr></thead>\n",
       "<tr><td>2MASX J12140343-1921428</td><td>0.0</td><td>0.0</td><td>0.0</td><td>0.0</td></tr>\n",
       "<tr><td>2MASX J18121404+2153047</td><td>0.0</td><td>0.0</td><td>1.0</td><td>0.0</td></tr>\n",
       "<tr><td>2MASX J20075080+5938105</td><td>1.0</td><td>1.0</td><td>1.0</td><td>1.0</td></tr>\n",
       "<tr><td>2MASX J21560047-2144325</td><td>0.0</td><td>0.0</td><td>1.0</td><td>0.0</td></tr>\n",
       "<tr><td>2MASX J23032790+1443491</td><td>0.0</td><td>0.0</td><td>1.0</td><td>0.0</td></tr>\n",
       "<tr><td>2XMM J094233.5+470213</td><td>0.0</td><td>0.0</td><td>nan</td><td>0.0</td></tr>\n",
       "<tr><td>2XMM J105045.9+571732</td><td>0.0</td><td>0.0</td><td>1.0</td><td>0.0</td></tr>\n",
       "<tr><td>CADIS 16-505716</td><td>0.0</td><td>0.0</td><td>0.0</td><td>0.0</td></tr>\n",
       "<tr><td>ESO 373-13</td><td>1.0</td><td>1.0</td><td>1.0</td><td>1.0</td></tr>\n",
       "<tr><td>LEDA 1485346</td><td>0.0</td><td>0.0</td><td>0.0</td><td>0.0</td></tr>\n",
       "<tr><td>LEDA 2517881</td><td>0.0</td><td>0.25</td><td>1.0</td><td>0.125</td></tr>\n",
       "<tr><td>LEDA 3095610</td><td>0.0</td><td>0.0</td><td>0.0</td><td>0.0</td></tr>\n",
       "<tr><td>LEDA 3096762</td><td>0.0</td><td>0.0</td><td>nan</td><td>0.0</td></tr>\n",
       "<tr><td>MCG+00-11-002</td><td>0.0</td><td>0.0</td><td>1.0</td><td>0.0</td></tr>\n",
       "<tr><td>MCG+03-45-003</td><td>0.75</td><td>0.75</td><td>1.0</td><td>0.75</td></tr>\n",
       "<tr><td>QSO B1238+6232</td><td>0.0</td><td>0.0</td><td>0.0</td><td>0.0</td></tr>\n",
       "</table>"
      ],
      "text/plain": [
       "<Table length=16>\n",
       "           id           RF_Pred XGB_Pred CIG_Pred Mean_clas\n",
       "         str23          float64 float64  float64   float64 \n",
       "----------------------- ------- -------- -------- ---------\n",
       "2MASX J12140343-1921428     0.0      0.0      0.0       0.0\n",
       "2MASX J18121404+2153047     0.0      0.0      1.0       0.0\n",
       "2MASX J20075080+5938105     1.0      1.0      1.0       1.0\n",
       "2MASX J21560047-2144325     0.0      0.0      1.0       0.0\n",
       "2MASX J23032790+1443491     0.0      0.0      1.0       0.0\n",
       "  2XMM J094233.5+470213     0.0      0.0      nan       0.0\n",
       "  2XMM J105045.9+571732     0.0      0.0      1.0       0.0\n",
       "        CADIS 16-505716     0.0      0.0      0.0       0.0\n",
       "             ESO 373-13     1.0      1.0      1.0       1.0\n",
       "           LEDA 1485346     0.0      0.0      0.0       0.0\n",
       "           LEDA 2517881     0.0     0.25      1.0     0.125\n",
       "           LEDA 3095610     0.0      0.0      0.0       0.0\n",
       "           LEDA 3096762     0.0      0.0      nan       0.0\n",
       "          MCG+00-11-002     0.0      0.0      1.0       0.0\n",
       "          MCG+03-45-003    0.75     0.75      1.0      0.75\n",
       "         QSO B1238+6232     0.0      0.0      0.0       0.0"
      ]
     },
     "execution_count": 39,
     "metadata": {},
     "output_type": "execute_result"
    }
   ],
   "source": [
    "TypeTab"
   ]
  },
  {
   "cell_type": "markdown",
   "metadata": {},
   "source": [
    "For the galaxies with at least one classification, we found 4 ambiguous cases (2MASS J08171856+5201477, 2MASX J09420770+0228053, 2MASX J10155660-2002268 and 2MASX J22024516-1304538), 7 Seyfert 2 galaxies and the rest (36) are Seyfert 1 galaxies. "
   ]
  },
  {
   "cell_type": "code",
   "execution_count": 40,
   "metadata": {
    "ExecuteTime": {
     "end_time": "2021-01-22T13:57:02.994974Z",
     "start_time": "2021-01-22T13:57:02.974183Z"
    }
   },
   "outputs": [
    {
     "data": {
      "text/html": [
       "<i>Table length=20</i>\n",
       "<table id=\"table140675972256144\" class=\"table-striped table-bordered table-condensed\">\n",
       "<thead><tr><th>id</th><th>RF_Pred</th><th>XGB_Pred</th><th>CIG_Pred</th><th>Mean_clas</th><th>Sp</th><th>otype_txt</th></tr></thead>\n",
       "<thead><tr><th>str35</th><th>float64</th><th>float64</th><th>float64</th><th>float64</th><th>str4</th><th>str3</th></tr></thead>\n",
       "<tr><td>2E  2294</td><td>0.0</td><td>0.0</td><td>0.0</td><td>0.0</td><td>S1n</td><td>SyG</td></tr>\n",
       "<tr><td>2E  2628</td><td>0.0</td><td>0.0</td><td>0.0</td><td>0.0</td><td>S1.5</td><td>SyG</td></tr>\n",
       "<tr><td>2E  3786</td><td>0.0</td><td>0.0</td><td>0.0</td><td>0.0</td><td>S1.0</td><td>SyG</td></tr>\n",
       "<tr><td>2MASS J00423990+3017514</td><td>0.0</td><td>0.0</td><td>0.0</td><td>0.0</td><td>S1.5</td><td>SyG</td></tr>\n",
       "<tr><td>2MASS J01341936+0146479</td><td>0.0</td><td>0.0</td><td>0.0</td><td>0.0</td><td>S1.0</td><td>SyG</td></tr>\n",
       "<tr><td>2MASS J02500703+0025251</td><td>0.0</td><td>0.0</td><td>0.0</td><td>0.0</td><td>S</td><td>Sy1</td></tr>\n",
       "<tr><td>2MASS J08171856+5201477</td><td>0.0</td><td>0.0</td><td>1.0</td><td>0.0</td><td>S</td><td>Sy1</td></tr>\n",
       "<tr><td>2MASS J09393182+5449092</td><td>0.0</td><td>0.0</td><td>0.0</td><td>0.0</td><td>S</td><td>Sy1</td></tr>\n",
       "<tr><td>2MASS J09470326+4640425</td><td>0.0</td><td>0.0</td><td>0.0</td><td>0.0</td><td>S</td><td>Sy1</td></tr>\n",
       "<tr><td>2MASS J09594856+5942505</td><td>0.0</td><td>0.0</td><td>0.0</td><td>0.0</td><td>S</td><td>Sy1</td></tr>\n",
       "<tr><td>2MASS J10102753+4132389</td><td>0.0</td><td>0.0</td><td>0.0</td><td>0.0</td><td>S1.2</td><td>SyG</td></tr>\n",
       "<tr><td>2MASS J10470514+5444060</td><td>0.0</td><td>0.0</td><td>0.0</td><td>0.0</td><td>S</td><td>Sy1</td></tr>\n",
       "<tr><td>2MASS J12002696+3317286</td><td>0.0</td><td>0.0</td><td>0.0</td><td>0.0</td><td>S1.5</td><td>SyG</td></tr>\n",
       "<tr><td>2MASS J15142051+4244453</td><td>0.0</td><td>0.0</td><td>0.0</td><td>0.0</td><td>S</td><td>Sy1</td></tr>\n",
       "<tr><td>2MASSI J0930176+470720</td><td>0.0</td><td>0.0</td><td>0.0</td><td>0.0</td><td>S</td><td>Sy1</td></tr>\n",
       "<tr><td>2MASX J02522087+0043307</td><td>0.0</td><td>0.0</td><td>0.0</td><td>0.0</td><td>S</td><td>Sy1</td></tr>\n",
       "<tr><td>2MASX J02593816+0042167</td><td>0.25</td><td>0.5</td><td>nan</td><td>0.375</td><td>S</td><td>Sy1</td></tr>\n",
       "<tr><td>2MASX J06374318-7538458</td><td>0.0</td><td>0.0</td><td>0.0</td><td>0.0</td><td>S1.8</td><td>SyG</td></tr>\n",
       "<tr><td>2MASX J08420557+0759253</td><td>0.0</td><td>0.5</td><td>0.0</td><td>0.25</td><td>S1.5</td><td>SyG</td></tr>\n",
       "<tr><td>2MASX J09420770+0228053</td><td>0.0</td><td>0.0</td><td>1.0</td><td>0.0</td><td>S2</td><td>SyG</td></tr>\n",
       "</table>"
      ],
      "text/plain": [
       "<Table length=20>\n",
       "           id           RF_Pred XGB_Pred CIG_Pred Mean_clas  Sp  otype_txt\n",
       "         str35          float64 float64  float64   float64  str4    str3  \n",
       "----------------------- ------- -------- -------- --------- ---- ---------\n",
       "               2E  2294     0.0      0.0      0.0       0.0  S1n       SyG\n",
       "               2E  2628     0.0      0.0      0.0       0.0 S1.5       SyG\n",
       "               2E  3786     0.0      0.0      0.0       0.0 S1.0       SyG\n",
       "2MASS J00423990+3017514     0.0      0.0      0.0       0.0 S1.5       SyG\n",
       "2MASS J01341936+0146479     0.0      0.0      0.0       0.0 S1.0       SyG\n",
       "2MASS J02500703+0025251     0.0      0.0      0.0       0.0    S       Sy1\n",
       "2MASS J08171856+5201477     0.0      0.0      1.0       0.0    S       Sy1\n",
       "2MASS J09393182+5449092     0.0      0.0      0.0       0.0    S       Sy1\n",
       "2MASS J09470326+4640425     0.0      0.0      0.0       0.0    S       Sy1\n",
       "2MASS J09594856+5942505     0.0      0.0      0.0       0.0    S       Sy1\n",
       "2MASS J10102753+4132389     0.0      0.0      0.0       0.0 S1.2       SyG\n",
       "2MASS J10470514+5444060     0.0      0.0      0.0       0.0    S       Sy1\n",
       "2MASS J12002696+3317286     0.0      0.0      0.0       0.0 S1.5       SyG\n",
       "2MASS J15142051+4244453     0.0      0.0      0.0       0.0    S       Sy1\n",
       " 2MASSI J0930176+470720     0.0      0.0      0.0       0.0    S       Sy1\n",
       "2MASX J02522087+0043307     0.0      0.0      0.0       0.0    S       Sy1\n",
       "2MASX J02593816+0042167    0.25      0.5      nan     0.375    S       Sy1\n",
       "2MASX J06374318-7538458     0.0      0.0      0.0       0.0 S1.8       SyG\n",
       "2MASX J08420557+0759253     0.0      0.5      0.0      0.25 S1.5       SyG\n",
       "2MASX J09420770+0228053     0.0      0.0      1.0       0.0   S2       SyG"
      ]
     },
     "execution_count": 40,
     "metadata": {},
     "output_type": "execute_result"
    }
   ],
   "source": [
    "join(TypeTab2[:20],TV['id','Sp','otype_txt'])"
   ]
  },
  {
   "cell_type": "code",
   "execution_count": 41,
   "metadata": {
    "ExecuteTime": {
     "end_time": "2021-01-22T13:57:03.013162Z",
     "start_time": "2021-01-22T13:57:02.995904Z"
    }
   },
   "outputs": [
    {
     "data": {
      "text/html": [
       "<i>Table length=20</i>\n",
       "<table id=\"table140675970431872\" class=\"table-striped table-bordered table-condensed\">\n",
       "<thead><tr><th>id</th><th>RF_Pred</th><th>XGB_Pred</th><th>CIG_Pred</th><th>Mean_clas</th><th>Sp</th><th>otype_txt</th></tr></thead>\n",
       "<thead><tr><th>str35</th><th>float64</th><th>float64</th><th>float64</th><th>float64</th><th>str4</th><th>str3</th></tr></thead>\n",
       "<tr><td>2MASX J09443702-2633554</td><td>0.0</td><td>0.0</td><td>0.0</td><td>0.0</td><td>S1.5</td><td>SyG</td></tr>\n",
       "<tr><td>2MASX J09483841+4030436</td><td>0.5</td><td>0.75</td><td>1.0</td><td>0.625</td><td>S</td><td>Sy1</td></tr>\n",
       "<tr><td>2MASX J10155660-2002268</td><td>0.5</td><td>0.25</td><td>1.0</td><td>0.375</td><td>S1n</td><td>SyG</td></tr>\n",
       "<tr><td>2MASX J15085291+6814074</td><td>0.0</td><td>0.25</td><td>0.0</td><td>0.125</td><td>S1.8</td><td>SyG</td></tr>\n",
       "<tr><td>2MASX J16383091-2055246</td><td>1.0</td><td>0.75</td><td>1.0</td><td>0.875</td><td>S1n</td><td>SyG</td></tr>\n",
       "<tr><td>2MASX J21512498-0757558</td><td>1.0</td><td>1.0</td><td>1.0</td><td>1.0</td><td>S</td><td>Sy1</td></tr>\n",
       "<tr><td>2MASX J22024516-1304538</td><td>0.0</td><td>0.0</td><td>1.0</td><td>0.0</td><td>S1.8</td><td>SyG</td></tr>\n",
       "<tr><td>2MASX J23044283-0933454</td><td>0.5</td><td>1.0</td><td>1.0</td><td>0.75</td><td>S</td><td>Sy2</td></tr>\n",
       "<tr><td>2dFGRS TGN357Z241</td><td>0.0</td><td>0.0</td><td>0.0</td><td>0.0</td><td>S1.2</td><td>SyG</td></tr>\n",
       "<tr><td>3C 286</td><td>0.0</td><td>0.0</td><td>0.0</td><td>0.0</td><td>S1.5</td><td>SyG</td></tr>\n",
       "<tr><td>6dFGS gJ034205.4-370322</td><td>0.0</td><td>0.0</td><td>0.0</td><td>0.0</td><td>S1</td><td>SyG</td></tr>\n",
       "<tr><td>6dFGS gJ043944.9-454043</td><td>0.0</td><td>0.0</td><td>0.0</td><td>0.0</td><td>S1n</td><td>SyG</td></tr>\n",
       "<tr><td>6dFGS gJ084628.7-121409</td><td>0.0</td><td>0.25</td><td>0.0</td><td>0.125</td><td>S1.5</td><td>SyG</td></tr>\n",
       "<tr><td>CTS   11</td><td>0.0</td><td>0.0</td><td>0.0</td><td>0.0</td><td>S1n</td><td>SyG</td></tr>\n",
       "<tr><td>ESO 323-77</td><td>0.0</td><td>0.0</td><td>0.0</td><td>0.0</td><td>S1.2</td><td>SyG</td></tr>\n",
       "<tr><td>HE 0226-4110</td><td>0.0</td><td>0.0</td><td>0.0</td><td>0.0</td><td>S1.0</td><td>SyG</td></tr>\n",
       "<tr><td>ICRF J025937.6+423549</td><td>0.0</td><td>0.0</td><td>0.0</td><td>0.0</td><td>S1.5</td><td>SyG</td></tr>\n",
       "<tr><td>ICRF J081100.6+571412</td><td>0.0</td><td>0.0</td><td>0.0</td><td>0.0</td><td>S1.5</td><td>SyG</td></tr>\n",
       "<tr><td>ICRF J100646.4-215920</td><td>0.0</td><td>0.0</td><td>0.0</td><td>0.0</td><td>S1.0</td><td>SyG</td></tr>\n",
       "<tr><td>ICRF J110153.4+624150</td><td>0.0</td><td>0.0</td><td>0.0</td><td>0.0</td><td>S1.5</td><td>SyG</td></tr>\n",
       "</table>"
      ],
      "text/plain": [
       "<Table length=20>\n",
       "           id           RF_Pred XGB_Pred CIG_Pred Mean_clas  Sp  otype_txt\n",
       "         str35          float64 float64  float64   float64  str4    str3  \n",
       "----------------------- ------- -------- -------- --------- ---- ---------\n",
       "2MASX J09443702-2633554     0.0      0.0      0.0       0.0 S1.5       SyG\n",
       "2MASX J09483841+4030436     0.5     0.75      1.0     0.625    S       Sy1\n",
       "2MASX J10155660-2002268     0.5     0.25      1.0     0.375  S1n       SyG\n",
       "2MASX J15085291+6814074     0.0     0.25      0.0     0.125 S1.8       SyG\n",
       "2MASX J16383091-2055246     1.0     0.75      1.0     0.875  S1n       SyG\n",
       "2MASX J21512498-0757558     1.0      1.0      1.0       1.0    S       Sy1\n",
       "2MASX J22024516-1304538     0.0      0.0      1.0       0.0 S1.8       SyG\n",
       "2MASX J23044283-0933454     0.5      1.0      1.0      0.75    S       Sy2\n",
       "      2dFGRS TGN357Z241     0.0      0.0      0.0       0.0 S1.2       SyG\n",
       "                 3C 286     0.0      0.0      0.0       0.0 S1.5       SyG\n",
       "6dFGS gJ034205.4-370322     0.0      0.0      0.0       0.0   S1       SyG\n",
       "6dFGS gJ043944.9-454043     0.0      0.0      0.0       0.0  S1n       SyG\n",
       "6dFGS gJ084628.7-121409     0.0     0.25      0.0     0.125 S1.5       SyG\n",
       "               CTS   11     0.0      0.0      0.0       0.0  S1n       SyG\n",
       "             ESO 323-77     0.0      0.0      0.0       0.0 S1.2       SyG\n",
       "           HE 0226-4110     0.0      0.0      0.0       0.0 S1.0       SyG\n",
       "  ICRF J025937.6+423549     0.0      0.0      0.0       0.0 S1.5       SyG\n",
       "  ICRF J081100.6+571412     0.0      0.0      0.0       0.0 S1.5       SyG\n",
       "  ICRF J100646.4-215920     0.0      0.0      0.0       0.0 S1.0       SyG\n",
       "  ICRF J110153.4+624150     0.0      0.0      0.0       0.0 S1.5       SyG"
      ]
     },
     "execution_count": 41,
     "metadata": {},
     "output_type": "execute_result"
    }
   ],
   "source": [
    "join(TypeTab2[20:40],TV['id','Sp','otype_txt'])"
   ]
  },
  {
   "cell_type": "code",
   "execution_count": 42,
   "metadata": {
    "ExecuteTime": {
     "end_time": "2021-01-22T13:57:03.030488Z",
     "start_time": "2021-01-22T13:57:03.014041Z"
    }
   },
   "outputs": [
    {
     "data": {
      "text/html": [
       "<i>Table length=7</i>\n",
       "<table id=\"table140678588741424\" class=\"table-striped table-bordered table-condensed\">\n",
       "<thead><tr><th>id</th><th>RF_Pred</th><th>XGB_Pred</th><th>CIG_Pred</th><th>Mean_clas</th><th>Sp</th><th>otype_txt</th></tr></thead>\n",
       "<thead><tr><th>str35</th><th>float64</th><th>float64</th><th>float64</th><th>float64</th><th>str4</th><th>str3</th></tr></thead>\n",
       "<tr><td>ICRF J135704.4+191907</td><td>0.0</td><td>0.0</td><td>0.0</td><td>0.0</td><td>S1.5</td><td>SyG</td></tr>\n",
       "<tr><td>IRAS 10295-1831</td><td>0.25</td><td>0.25</td><td>nan</td><td>0.25</td><td>S1.5</td><td>SyG</td></tr>\n",
       "<tr><td>MCG+03-60-031</td><td>1.0</td><td>1.0</td><td>1.0</td><td>1.0</td><td>S1n</td><td>SyG</td></tr>\n",
       "<tr><td>MCG+05-28-032</td><td>0.0</td><td>1.0</td><td>1.0</td><td>0.5</td><td>S3</td><td>SyG</td></tr>\n",
       "<tr><td>Mrk 1361</td><td>1.0</td><td>1.0</td><td>1.0</td><td>1.0</td><td>S</td><td>Sy2</td></tr>\n",
       "<tr><td>PB   162</td><td>0.0</td><td>0.0</td><td>nan</td><td>0.0</td><td>S</td><td>Sy1</td></tr>\n",
       "<tr><td>UGC 10683</td><td>1.0</td><td>1.0</td><td>1.0</td><td>1.0</td><td>S1.5</td><td>SyG</td></tr>\n",
       "</table>"
      ],
      "text/plain": [
       "<Table length=7>\n",
       "          id          RF_Pred XGB_Pred CIG_Pred Mean_clas  Sp  otype_txt\n",
       "        str35         float64 float64  float64   float64  str4    str3  \n",
       "--------------------- ------- -------- -------- --------- ---- ---------\n",
       "ICRF J135704.4+191907     0.0      0.0      0.0       0.0 S1.5       SyG\n",
       "      IRAS 10295-1831    0.25     0.25      nan      0.25 S1.5       SyG\n",
       "        MCG+03-60-031     1.0      1.0      1.0       1.0  S1n       SyG\n",
       "        MCG+05-28-032     0.0      1.0      1.0       0.5   S3       SyG\n",
       "             Mrk 1361     1.0      1.0      1.0       1.0    S       Sy2\n",
       "             PB   162     0.0      0.0      nan       0.0    S       Sy1\n",
       "            UGC 10683     1.0      1.0      1.0       1.0 S1.5       SyG"
      ]
     },
     "execution_count": 42,
     "metadata": {},
     "output_type": "execute_result"
    }
   ],
   "source": [
    "join(TypeTab2[40:],TV['id','Sp','otype_txt'])"
   ]
  },
  {
   "cell_type": "markdown",
   "metadata": {},
   "source": [
    "##### Notebook info"
   ]
  },
  {
   "cell_type": "code",
   "execution_count": 43,
   "metadata": {
    "ExecuteTime": {
     "end_time": "2021-01-22T13:57:03.122010Z",
     "start_time": "2021-01-22T13:57:03.031250Z"
    }
   },
   "outputs": [
    {
     "name": "stdout",
     "output_type": "stream",
     "text": [
      "Author: Andres Ramos\n",
      "\n",
      "Python implementation: CPython\n",
      "Python version       : 3.8.3\n",
      "IPython version      : 7.16.1\n",
      "\n",
      "Compiler    : GCC 7.3.0\n",
      "OS          : Linux\n",
      "Release     : 3.10.0-1160.el7.x86_64\n",
      "Machine     : x86_64\n",
      "Processor   : x86_64\n",
      "CPU cores   : 8\n",
      "Architecture: 64bit\n",
      "\n",
      "Specific Python packages\n",
      "matplotlib: 3.2.2\n",
      "autopep8  : 1.5.4\n",
      "seaborn   : 0.10.1\n",
      "astropy   : 4.2\n",
      "logging   : 0.5.1.2\n",
      "pandas    : 1.2.0\n",
      "json      : 2.0.9\n",
      "sys       : 3.8.3 (default, Jul  2 2020, 16:21:59) \n",
      "[GCC 7.3.0]\n",
      "re        : 2.2.1\n",
      "numpy     : 1.19.5\n",
      "sklearn   : 0.23.1\n",
      "xgboost   : 1.3.3\n",
      "\n",
      "Watermark: 2.1.0\n",
      "\n"
     ]
    }
   ],
   "source": [
    "%load_ext watermark\n",
    "%watermark -a \"Andres Ramos\" -d -v -m\n",
    "print('Specific Python packages')\n",
    "%watermark -iv -w"
   ]
  }
 ],
 "metadata": {
  "hide_input": false,
  "kernelspec": {
   "display_name": "Python 3",
   "language": "python",
   "name": "python3"
  },
  "language_info": {
   "codemirror_mode": {
    "name": "ipython",
    "version": 3
   },
   "file_extension": ".py",
   "mimetype": "text/x-python",
   "name": "python",
   "nbconvert_exporter": "python",
   "pygments_lexer": "ipython3",
   "version": "3.8.3"
  },
  "toc": {
   "base_numbering": "10",
   "nav_menu": {},
   "number_sections": true,
   "sideBar": true,
   "skip_h1_title": false,
   "title_cell": "Table of Contents",
   "title_sidebar": "Contents",
   "toc_cell": false,
   "toc_position": {
    "height": "calc(100% - 180px)",
    "left": "10px",
    "top": "150px",
    "width": "336px"
   },
   "toc_section_display": true,
   "toc_window_display": true
  },
  "varInspector": {
   "cols": {
    "lenName": 16,
    "lenType": 16,
    "lenVar": 40
   },
   "kernels_config": {
    "python": {
     "delete_cmd_postfix": "",
     "delete_cmd_prefix": "del ",
     "library": "var_list.py",
     "varRefreshCmd": "print(var_dic_list())"
    },
    "r": {
     "delete_cmd_postfix": ") ",
     "delete_cmd_prefix": "rm(",
     "library": "var_list.r",
     "varRefreshCmd": "cat(var_dic_list()) "
    }
   },
   "types_to_exclude": [
    "module",
    "function",
    "builtin_function_or_method",
    "instance",
    "_Feature"
   ],
   "window_display": false
  }
 },
 "nbformat": 4,
 "nbformat_minor": 4
}
