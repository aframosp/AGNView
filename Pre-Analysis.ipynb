{
 "cells": [
  {
   "cell_type": "markdown",
   "metadata": {},
   "source": [
    "# Pre-Analysis of data\n",
    "Here we join the files to be used in the analysis phase and then we experiment with the parameters for the classifiers to obtain the parametric values for the models.\n",
    "First, we import all the packages"
   ]
  },
  {
   "cell_type": "code",
   "execution_count": 1,
   "metadata": {},
   "outputs": [
    {
     "name": "stdout",
     "output_type": "stream",
     "text": [
      "Using matplotlib backend: Qt5Agg\n",
      "Populating the interactive namespace from numpy and matplotlib\n"
     ]
    }
   ],
   "source": [
    "%pylab\n",
    "%matplotlib inline"
   ]
  },
  {
   "cell_type": "code",
   "execution_count": 2,
   "metadata": {},
   "outputs": [],
   "source": [
    "from astropy.table import Table,join,hstack\n",
    "from scipy.stats import binned_statistic\n",
    "import astropy.units as u\n",
    "import seaborn as sns\n",
    "import pandas as pd\n",
    "from collections import Counter\n",
    "import matplotlib.lines as mlines\n",
    "import xgboost as xgb\n",
    "\n",
    "from sklearn.metrics import confusion_matrix, accuracy_score, f1_score, matthews_corrcoef\n",
    "\n",
    "from sklearn.ensemble import RandomForestClassifier\n",
    "from sklearn.model_selection import train_test_split,StratifiedKFold\n",
    "from sklearn import preprocessing\n",
    "\n",
    "from sklearn.decomposition import PCA\n",
    "from sklearn.feature_selection import RFECV\n",
    "from sklearn.inspection import permutation_importance"
   ]
  },
  {
   "cell_type": "markdown",
   "metadata": {},
   "source": [
    "Additionally, we include some shortcuts to simplify some code"
   ]
  },
  {
   "cell_type": "code",
   "execution_count": 3,
   "metadata": {},
   "outputs": [],
   "source": [
    "### User shortcuts \n",
    "def Perc75(array):\n",
    "    \"\"\"75th Percentile\"\"\"\n",
    "    return(np.percentile(array,75))\n",
    "def Perc25(array):\n",
    "    \"\"\"25th Percentile\"\"\"\n",
    "    return(np.percentile(array,25))\n",
    "def CreateTableCIG(PaTable,Samp,TypeAGN):\n",
    "    \"\"\"Calculate the Matthwes, Cohen, F1-macro and accuracy of the results\"\"\"\n",
    "    for jj in ['SKIRTOR','Fritz','S37','F37']:\n",
    "        MCC=matthews_corrcoef(PaTable.loc[jj][Samp],PaTable.loc[jj][TypeAGN])\n",
    "        F1s=f1_score(PaTable.loc[jj][Samp],PaTable.loc[jj][TypeAGN],average='macro')\n",
    "        Acc=accuracy_score(PaTable.loc[jj][Samp],PaTable.loc[jj][TypeAGN])\n",
    "        print(jj,round(MCC,3),round(F1s,3),round(Acc,3))\n",
    "def CreateTableClas(PaTable,Samp,TypeAGN):\n",
    "    \"\"\"Calculate the Matthwes, Cohen, F1-macro and accuracy of the results from the Classifiers\"\"\"\n",
    "    for jj in ['SKIRTOR','Fritz','S37','F37']:\n",
    "        X=PaTable.loc[jj][Samp]\n",
    "        y=PaTable.loc[jj][TypeAGN]\n",
    "        x_train, x_test, y_train, y_test = train_test_split(X, y, test_size=0.20, random_state=42)\n",
    "        le = preprocessing.LabelEncoder()\n",
    "        le.fit(y)\n",
    "        x_train_encode = preprocessing.robust_scale(x_train)\n",
    "        x_test_encode = preprocessing.robust_scale(x_test)\n",
    "        y_train_encode = le.transform(y_train).reshape(-1, 1).ravel()\n",
    "        y_test_encode = le.transform(y_test).reshape(-1, 1).ravel()\n",
    "        for iclf,Clasi in enumerate([clf_rf,clf_xg]):## This classifiers need to be defined before use\n",
    "            print(['RandomForest','XGBoost'][iclf])\n",
    "            Clasi.fit(x_train_encode, y_train_encode)\n",
    "            MCC=matthews_corrcoef(y_test_encode,Clasi.predict(x_test_encode))\n",
    "            F1s=f1_score(y_test_encode,Clasi.predict(x_test_encode),average='macro')\n",
    "            Acc=accuracy_score(y_test_encode,Clasi.predict(x_test_encode))\n",
    "            print(jj,round(MCC,3),round(F1s,3),round(Acc,3))\n",
    "            result = permutation_importance(Clasi, x_test_encode, y_test_encode, n_repeats=20,\n",
    "                                random_state=42, n_jobs=-1)\n",
    "            sorted_idx = result.importances_mean.argsort()\n",
    "            print(ManualCols[sorted_idx][-4:],np.mean(result.importances[sorted_idx],axis=1)[-4:])\n",
    "\n",
    "def SelT1orT2(TableP):\n",
    "    \"\"\"Select Seyferts 1 and 2 in both VCV and CDS\"\"\"\n",
    "    Selc1=np.logical_and(TableP['otype_txt']=='Sy1',TableP['Sp']=='S1')\n",
    "    Selc2=np.logical_and(TableP['otype_txt']=='Sy2',TableP['Sp']=='S2')\n",
    "    SelcSey=np.logical_or(Selc1,Selc2)\n",
    "    return(TableP[SelcSey])"
   ]
  },
  {
   "cell_type": "markdown",
   "metadata": {},
   "source": [
    "## Join all clean results"
   ]
  },
  {
   "cell_type": "markdown",
   "metadata": {},
   "source": [
    "We read the results from the models we are going to use "
   ]
  },
  {
   "cell_type": "code",
   "execution_count": 4,
   "metadata": {},
   "outputs": [],
   "source": [
    "ModelS=Table.read('CIGALEOutputs/Cleanresults_SK.fits',format='fits')\n",
    "ModelF=Table.read('CIGALEOutputs/Cleanresults_Fr.fits',format='fits')\n",
    "\n",
    "ModelS37=Table.read('CIGALEOutputs/Cleanresults_SK37.fits',format='fits')\n",
    "ModelF37=Table.read('CIGALEOutputs/Cleanresults_Fr37.fits',format='fits')"
   ]
  },
  {
   "cell_type": "markdown",
   "metadata": {},
   "source": [
    "We also read the original database of galaxies to use the information for the classification"
   ]
  },
  {
   "cell_type": "code",
   "execution_count": 5,
   "metadata": {},
   "outputs": [],
   "source": [
    "TV=Table.read('VCV_TAP_otype.txt',format='ascii')\n",
    "TV.rename_column('main_id','id') ## Renamed to then join with the same id"
   ]
  },
  {
   "cell_type": "markdown",
   "metadata": {},
   "source": [
    "We join this clean tables with the catalog"
   ]
  },
  {
   "cell_type": "code",
   "execution_count": 6,
   "metadata": {},
   "outputs": [],
   "source": [
    "STVClean=join(TV,ModelS,keys='id')\n",
    "FTVClean=join(TV,ModelF,keys='id')\n",
    "STVClean37=join(TV,ModelS37,keys='id')\n",
    "FTVClean37=join(TV,ModelF37,keys='id')"
   ]
  },
  {
   "cell_type": "markdown",
   "metadata": {},
   "source": [
    "We send all the table to pandas and then concatenate to have an unique table"
   ]
  },
  {
   "cell_type": "code",
   "execution_count": 7,
   "metadata": {},
   "outputs": [
    {
     "name": "stderr",
     "output_type": "stream",
     "text": [
      "/Users/users/ramos/.local/lib/python3.6/site-packages/IPython/core/interactiveshell.py:3331: TableReplaceWarning: converted column 'l_z' from integer to float\n",
      "  exec(code_obj, self.user_global_ns, self.user_ns)\n"
     ]
    }
   ],
   "source": [
    "SPandas=STVClean.to_pandas()\n",
    "FPandas=FTVClean.to_pandas()\n",
    "SPandas37=STVClean37.to_pandas()\n",
    "FPandas37=FTVClean37.to_pandas()\n",
    "SFPandas=pd.concat([SPandas, FPandas,SPandas37,FPandas37], keys=['SKIRTOR', 'Fritz','S37','F37'],names=['Model','idCIG'])"
   ]
  },
  {
   "cell_type": "markdown",
   "metadata": {},
   "source": [
    "If we assume that the returned CIGALE inclination angle of the AGN is correct, we can classify galaxies in type 1 or 2. We could also assume that numerical types from VCV are close to the respective type 1 or 2. "
   ]
  },
  {
   "cell_type": "code",
   "execution_count": 8,
   "metadata": {},
   "outputs": [],
   "source": [
    "SFPandas['TypeAGN_CIG']=np.empty(len(SFPandas))\n",
    "SFPandas.loc[SFPandas['bayes.agn.i']<45, 'TypeAGN_CIG'] = 'Sy1'\n",
    "SFPandas.loc[SFPandas['bayes.agn.i']>=45, 'TypeAGN_CIG'] = 'Sy2'\n",
    "SFPandas['TypeAGN_CIG2']=np.empty(len(SFPandas))\n",
    "SFPandas.loc[SFPandas['bayes.agn.i']<45, 'TypeAGN_CIG2'] = 'S1'\n",
    "SFPandas.loc[SFPandas['bayes.agn.i']>=45, 'TypeAGN_CIG2'] = 'S2'\n",
    "SFPandas['TypeAGN_VCV']=np.empty(len(SFPandas))\n",
    "SFPandas.loc[np.logical_or.reduce([SFPandas['Sp']=='S1.0',SFPandas['Sp']=='S1.2']), 'TypeAGN_VCV'] = 'S1'\n",
    "SFPandas.loc[np.logical_or.reduce([SFPandas['Sp']=='S1.8',SFPandas['Sp']=='S1.9',SFPandas['Sp']=='S1.5']), 'TypeAGN_VCV'] = 'S2'\n",
    "\n",
    "SFPandas['TypeAGN_CIG_Ldisk']=np.empty(len(SFPandas))\n",
    "SFPandas.loc[SFPandas['bayes.agn.disk_luminosity']>(10**10 *u.solLum).to(u.W).value, 'TypeAGN_CIG_Ldisk'] = 'Sy1'\n",
    "SFPandas.loc[SFPandas['bayes.agn.disk_luminosity']<=(10**10 *u.solLum).to(u.W).value, 'TypeAGN_CIG_Ldisk'] = 'Sy2'"
   ]
  },
  {
   "cell_type": "markdown",
   "metadata": {},
   "source": [
    "We create some flags if we assume that the returned CIGALE inclination angle of the AGN is correct, we can classify galaxies in type 1 or 2. We could also assume that numerical types from VCV are close to the respective type 1 or 2. In addition we also include a flag with the AGN dsik luminosity, as it will be useful in the analysis."
   ]
  },
  {
   "cell_type": "code",
   "execution_count": 9,
   "metadata": {},
   "outputs": [],
   "source": [
    "SFPandas['TypeAGN_CIG']=np.empty(len(SFPandas))\n",
    "SFPandas.loc[SFPandas['bayes.agn.i']<45, 'TypeAGN_CIG'] = 'Sy1'\n",
    "SFPandas.loc[SFPandas['bayes.agn.i']>=45, 'TypeAGN_CIG'] = 'Sy2'\n",
    "SFPandas['TypeAGN_CIG2']=np.empty(len(SFPandas))\n",
    "SFPandas.loc[SFPandas['bayes.agn.i']<45, 'TypeAGN_CIG2'] = 'S1'\n",
    "SFPandas.loc[SFPandas['bayes.agn.i']>=45, 'TypeAGN_CIG2'] = 'S2'\n",
    "SFPandas['TypeAGN_VCV']=np.empty(len(SFPandas))\n",
    "SFPandas.loc[np.logical_or.reduce([SFPandas['Sp']=='S1.0',SFPandas['Sp']=='S1.2']), 'TypeAGN_VCV'] = 'S1'\n",
    "SFPandas.loc[np.logical_or.reduce([SFPandas['Sp']=='S1.8',SFPandas['Sp']=='S1.9',SFPandas['Sp']=='S1.5']), 'TypeAGN_VCV'] = 'S2'\n",
    "\n",
    "SFPandas['TypeAGN_CIG_Ldisk']=np.empty(len(SFPandas))\n",
    "SFPandas.loc[SFPandas['bayes.agn.disk_luminosity']>(10**10 *u.solLum).to(u.W).value, 'TypeAGN_CIG_Ldisk'] = 'Sy1'\n",
    "SFPandas.loc[SFPandas['bayes.agn.disk_luminosity']<=(10**10 *u.solLum).to(u.W).value, 'TypeAGN_CIG_Ldisk'] = 'Sy2'"
   ]
  },
  {
   "cell_type": "markdown",
   "metadata": {},
   "source": [
    "## Experiments with the parameters for the classification"
   ]
  },
  {
   "cell_type": "markdown",
   "metadata": {},
   "source": [
    "We select the physical parameters in all the models and remove the ones that are not useful for our propose (e.g. constant values, young and old contributions)."
   ]
  },
  {
   "cell_type": "code",
   "execution_count": 11,
   "metadata": {},
   "outputs": [],
   "source": [
    "GoodColumns=[jsd for jsd in SelT1orT2(SFPandas).columns if 'bayes' in jsd]        \n",
    "newdf = SelT1orT2(SFPandas)[GoodColumns]\n",
    "Descr=newdf.describe()\n",
    "BadCol=[js for js in newdf.columns if Descr[js]['std']<1e-2] ## Removing constant columns\n",
    "newdf = newdf.drop(BadCol,axis=1)\n",
    "BadCol2=[js for js in newdf.columns if '_err' in js] # Removing calculated errors\n",
    "newdf = newdf.drop(BadCol2,axis=1)\n",
    "BadCol3=[js for js in newdf.columns if '_young' in js] ## Removing young estimations\n",
    "BadCol4=[js for js in newdf.columns if '_old' in js] ## Removing old estimations\n",
    "BadCol5=[js for js in newdf.columns if '_lines' in js] ## Removing estimations with lines\n",
    "BadCol6=[js for js in newdf.columns if 'universe' in js] ## Removing universe values, this are dependend of redshift\n",
    "BadCols=concatenate([BadCol3,BadCol4,BadCol5,BadCol6])\n",
    "newdf = newdf.drop(BadCols,axis=1)\n",
    "newdf = newdf.dropna(axis='columns')\n",
    "newdf = newdf[newdf.columns[:-31]] ## Remove the mock photometry"
   ]
  },
  {
   "cell_type": "markdown",
   "metadata": {},
   "source": [
    "We split the sample of galaxies into train and test set and encode and scale the columns. "
   ]
  },
  {
   "cell_type": "code",
   "execution_count": 12,
   "metadata": {},
   "outputs": [],
   "source": [
    "X=newdf\n",
    "y=SelT1orT2(SFPandas)['otype_txt']#.loc['SKIRTOR']\n",
    "x_train, x_test, y_train, y_test = train_test_split(X, y, test_size=0.20, random_state=42)\n",
    "le = preprocessing.LabelEncoder()\n",
    "le.fit(y)\n",
    "x_train_encode = preprocessing.robust_scale(x_train)\n",
    "x_test_encode = preprocessing.robust_scale(x_test)\n",
    "y_train_encode = le.transform(y_train).reshape(-1, 1).ravel()\n",
    "y_test_encode = le.transform(y_test).reshape(-1, 1).ravel()"
   ]
  },
  {
   "cell_type": "markdown",
   "metadata": {},
   "source": [
    "We select two different classifiers (Random Forest and XGB). We will experiment with Grid Search. We test a model with default values and we compared with the Grid Search acurracy scoring. "
   ]
  },
  {
   "cell_type": "code",
   "execution_count": 13,
   "metadata": {},
   "outputs": [],
   "source": [
    "from sklearn.model_selection import GridSearchCV\n",
    "\n",
    "clf_rf = RandomForestClassifier(random_state=42)\n",
    "clf_xg = xgb.XGBClassifier(random_state=42,use_label_encoder=False,eval_metric='logloss')\n",
    "\n",
    "param_grid = {\"max_depth\": [10,15,20,25,30,35,40], \n",
    "             \"n_estimators\": [200,400,600,800,1000,2000,4000]}\n",
    "\n",
    "# param_gridXGB = {\"max_depth\": [10,15,20], #[5,10,15,20,25],\n",
    "#              \"n_estimators\": [400,600,800]}#[100,200,300,400,500]}"
   ]
  },
  {
   "cell_type": "code",
   "execution_count": 14,
   "metadata": {},
   "outputs": [
    {
     "name": "stdout",
     "output_type": "stream",
     "text": [
      "Fitting 5 folds for each of 9 candidates, totalling 45 fits\n",
      "[15:18:55] WARNING: ../src/learner.cc:1061: Starting in XGBoost 1.3.0, the default evaluation metric used with the objective 'binary:logistic' was changed from 'error' to 'logloss'. Explicitly set eval_metric if you'd like to restore the old behavior.\n",
      "[CV 1/5] END .................max_depth=10, n_estimators=400; total time=   7.2s\n",
      "[15:19:02] WARNING: ../src/learner.cc:1061: Starting in XGBoost 1.3.0, the default evaluation metric used with the objective 'binary:logistic' was changed from 'error' to 'logloss'. Explicitly set eval_metric if you'd like to restore the old behavior.\n",
      "[CV 2/5] END .................max_depth=10, n_estimators=400; total time=   7.4s\n",
      "[15:19:10] WARNING: ../src/learner.cc:1061: Starting in XGBoost 1.3.0, the default evaluation metric used with the objective 'binary:logistic' was changed from 'error' to 'logloss'. Explicitly set eval_metric if you'd like to restore the old behavior.\n",
      "[CV 3/5] END .................max_depth=10, n_estimators=400; total time=   7.2s\n",
      "[15:19:17] WARNING: ../src/learner.cc:1061: Starting in XGBoost 1.3.0, the default evaluation metric used with the objective 'binary:logistic' was changed from 'error' to 'logloss'. Explicitly set eval_metric if you'd like to restore the old behavior.\n",
      "[CV 4/5] END .................max_depth=10, n_estimators=400; total time=   7.2s\n",
      "[15:19:24] WARNING: ../src/learner.cc:1061: Starting in XGBoost 1.3.0, the default evaluation metric used with the objective 'binary:logistic' was changed from 'error' to 'logloss'. Explicitly set eval_metric if you'd like to restore the old behavior.\n",
      "[CV 5/5] END .................max_depth=10, n_estimators=400; total time=   7.2s\n",
      "[15:19:31] WARNING: ../src/learner.cc:1061: Starting in XGBoost 1.3.0, the default evaluation metric used with the objective 'binary:logistic' was changed from 'error' to 'logloss'. Explicitly set eval_metric if you'd like to restore the old behavior.\n",
      "[CV 1/5] END .................max_depth=10, n_estimators=600; total time=   9.6s\n",
      "[15:19:41] WARNING: ../src/learner.cc:1061: Starting in XGBoost 1.3.0, the default evaluation metric used with the objective 'binary:logistic' was changed from 'error' to 'logloss'. Explicitly set eval_metric if you'd like to restore the old behavior.\n",
      "[CV 2/5] END .................max_depth=10, n_estimators=600; total time=   9.8s\n",
      "[15:19:51] WARNING: ../src/learner.cc:1061: Starting in XGBoost 1.3.0, the default evaluation metric used with the objective 'binary:logistic' was changed from 'error' to 'logloss'. Explicitly set eval_metric if you'd like to restore the old behavior.\n",
      "[CV 3/5] END .................max_depth=10, n_estimators=600; total time=   9.4s\n",
      "[15:20:00] WARNING: ../src/learner.cc:1061: Starting in XGBoost 1.3.0, the default evaluation metric used with the objective 'binary:logistic' was changed from 'error' to 'logloss'. Explicitly set eval_metric if you'd like to restore the old behavior.\n",
      "[CV 4/5] END .................max_depth=10, n_estimators=600; total time=   9.6s\n",
      "[15:20:10] WARNING: ../src/learner.cc:1061: Starting in XGBoost 1.3.0, the default evaluation metric used with the objective 'binary:logistic' was changed from 'error' to 'logloss'. Explicitly set eval_metric if you'd like to restore the old behavior.\n",
      "[CV 5/5] END .................max_depth=10, n_estimators=600; total time=   9.5s\n",
      "[15:20:19] WARNING: ../src/learner.cc:1061: Starting in XGBoost 1.3.0, the default evaluation metric used with the objective 'binary:logistic' was changed from 'error' to 'logloss'. Explicitly set eval_metric if you'd like to restore the old behavior.\n",
      "[CV 1/5] END .................max_depth=10, n_estimators=800; total time=  11.6s\n",
      "[15:20:31] WARNING: ../src/learner.cc:1061: Starting in XGBoost 1.3.0, the default evaluation metric used with the objective 'binary:logistic' was changed from 'error' to 'logloss'. Explicitly set eval_metric if you'd like to restore the old behavior.\n",
      "[CV 2/5] END .................max_depth=10, n_estimators=800; total time=  11.8s\n",
      "[15:20:43] WARNING: ../src/learner.cc:1061: Starting in XGBoost 1.3.0, the default evaluation metric used with the objective 'binary:logistic' was changed from 'error' to 'logloss'. Explicitly set eval_metric if you'd like to restore the old behavior.\n",
      "[CV 3/5] END .................max_depth=10, n_estimators=800; total time=  11.4s\n",
      "[15:20:54] WARNING: ../src/learner.cc:1061: Starting in XGBoost 1.3.0, the default evaluation metric used with the objective 'binary:logistic' was changed from 'error' to 'logloss'. Explicitly set eval_metric if you'd like to restore the old behavior.\n",
      "[CV 4/5] END .................max_depth=10, n_estimators=800; total time=  11.4s\n",
      "[15:21:06] WARNING: ../src/learner.cc:1061: Starting in XGBoost 1.3.0, the default evaluation metric used with the objective 'binary:logistic' was changed from 'error' to 'logloss'. Explicitly set eval_metric if you'd like to restore the old behavior.\n",
      "[CV 5/5] END .................max_depth=10, n_estimators=800; total time=  11.3s\n",
      "[15:21:17] WARNING: ../src/learner.cc:1061: Starting in XGBoost 1.3.0, the default evaluation metric used with the objective 'binary:logistic' was changed from 'error' to 'logloss'. Explicitly set eval_metric if you'd like to restore the old behavior.\n",
      "[CV 1/5] END .................max_depth=15, n_estimators=400; total time=   7.4s\n",
      "[15:21:24] WARNING: ../src/learner.cc:1061: Starting in XGBoost 1.3.0, the default evaluation metric used with the objective 'binary:logistic' was changed from 'error' to 'logloss'. Explicitly set eval_metric if you'd like to restore the old behavior.\n",
      "[CV 2/5] END .................max_depth=15, n_estimators=400; total time=   7.4s\n",
      "[15:21:32] WARNING: ../src/learner.cc:1061: Starting in XGBoost 1.3.0, the default evaluation metric used with the objective 'binary:logistic' was changed from 'error' to 'logloss'. Explicitly set eval_metric if you'd like to restore the old behavior.\n",
      "[CV 3/5] END .................max_depth=15, n_estimators=400; total time=   7.3s\n",
      "[15:21:39] WARNING: ../src/learner.cc:1061: Starting in XGBoost 1.3.0, the default evaluation metric used with the objective 'binary:logistic' was changed from 'error' to 'logloss'. Explicitly set eval_metric if you'd like to restore the old behavior.\n",
      "[CV 4/5] END .................max_depth=15, n_estimators=400; total time=   7.3s\n",
      "[15:21:46] WARNING: ../src/learner.cc:1061: Starting in XGBoost 1.3.0, the default evaluation metric used with the objective 'binary:logistic' was changed from 'error' to 'logloss'. Explicitly set eval_metric if you'd like to restore the old behavior.\n",
      "[CV 5/5] END .................max_depth=15, n_estimators=400; total time=   7.2s\n",
      "[15:21:53] WARNING: ../src/learner.cc:1061: Starting in XGBoost 1.3.0, the default evaluation metric used with the objective 'binary:logistic' was changed from 'error' to 'logloss'. Explicitly set eval_metric if you'd like to restore the old behavior.\n",
      "[CV 1/5] END .................max_depth=15, n_estimators=600; total time=   9.4s\n",
      "[15:22:03] WARNING: ../src/learner.cc:1061: Starting in XGBoost 1.3.0, the default evaluation metric used with the objective 'binary:logistic' was changed from 'error' to 'logloss'. Explicitly set eval_metric if you'd like to restore the old behavior.\n",
      "[CV 2/5] END .................max_depth=15, n_estimators=600; total time=   9.6s\n",
      "[15:22:12] WARNING: ../src/learner.cc:1061: Starting in XGBoost 1.3.0, the default evaluation metric used with the objective 'binary:logistic' was changed from 'error' to 'logloss'. Explicitly set eval_metric if you'd like to restore the old behavior.\n",
      "[CV 3/5] END .................max_depth=15, n_estimators=600; total time=   9.3s\n",
      "[15:22:22] WARNING: ../src/learner.cc:1061: Starting in XGBoost 1.3.0, the default evaluation metric used with the objective 'binary:logistic' was changed from 'error' to 'logloss'. Explicitly set eval_metric if you'd like to restore the old behavior.\n",
      "[CV 4/5] END .................max_depth=15, n_estimators=600; total time=   9.3s\n",
      "[15:22:31] WARNING: ../src/learner.cc:1061: Starting in XGBoost 1.3.0, the default evaluation metric used with the objective 'binary:logistic' was changed from 'error' to 'logloss'. Explicitly set eval_metric if you'd like to restore the old behavior.\n"
     ]
    },
    {
     "name": "stdout",
     "output_type": "stream",
     "text": [
      "[CV 5/5] END .................max_depth=15, n_estimators=600; total time=   9.1s\n",
      "[15:22:40] WARNING: ../src/learner.cc:1061: Starting in XGBoost 1.3.0, the default evaluation metric used with the objective 'binary:logistic' was changed from 'error' to 'logloss'. Explicitly set eval_metric if you'd like to restore the old behavior.\n",
      "[CV 1/5] END .................max_depth=15, n_estimators=800; total time=  11.1s\n",
      "[15:22:51] WARNING: ../src/learner.cc:1061: Starting in XGBoost 1.3.0, the default evaluation metric used with the objective 'binary:logistic' was changed from 'error' to 'logloss'. Explicitly set eval_metric if you'd like to restore the old behavior.\n",
      "[CV 2/5] END .................max_depth=15, n_estimators=800; total time=  11.3s\n",
      "[15:23:02] WARNING: ../src/learner.cc:1061: Starting in XGBoost 1.3.0, the default evaluation metric used with the objective 'binary:logistic' was changed from 'error' to 'logloss'. Explicitly set eval_metric if you'd like to restore the old behavior.\n",
      "[CV 3/5] END .................max_depth=15, n_estimators=800; total time=  11.1s\n",
      "[15:23:14] WARNING: ../src/learner.cc:1061: Starting in XGBoost 1.3.0, the default evaluation metric used with the objective 'binary:logistic' was changed from 'error' to 'logloss'. Explicitly set eval_metric if you'd like to restore the old behavior.\n",
      "[CV 4/5] END .................max_depth=15, n_estimators=800; total time=  11.1s\n",
      "[15:23:25] WARNING: ../src/learner.cc:1061: Starting in XGBoost 1.3.0, the default evaluation metric used with the objective 'binary:logistic' was changed from 'error' to 'logloss'. Explicitly set eval_metric if you'd like to restore the old behavior.\n",
      "[CV 5/5] END .................max_depth=15, n_estimators=800; total time=  10.9s\n",
      "[15:23:36] WARNING: ../src/learner.cc:1061: Starting in XGBoost 1.3.0, the default evaluation metric used with the objective 'binary:logistic' was changed from 'error' to 'logloss'. Explicitly set eval_metric if you'd like to restore the old behavior.\n",
      "[CV 1/5] END .................max_depth=20, n_estimators=400; total time=   7.3s\n",
      "[15:23:43] WARNING: ../src/learner.cc:1061: Starting in XGBoost 1.3.0, the default evaluation metric used with the objective 'binary:logistic' was changed from 'error' to 'logloss'. Explicitly set eval_metric if you'd like to restore the old behavior.\n",
      "[CV 2/5] END .................max_depth=20, n_estimators=400; total time=   7.2s\n",
      "[15:23:50] WARNING: ../src/learner.cc:1061: Starting in XGBoost 1.3.0, the default evaluation metric used with the objective 'binary:logistic' was changed from 'error' to 'logloss'. Explicitly set eval_metric if you'd like to restore the old behavior.\n",
      "[CV 3/5] END .................max_depth=20, n_estimators=400; total time=   7.2s\n",
      "[15:23:57] WARNING: ../src/learner.cc:1061: Starting in XGBoost 1.3.0, the default evaluation metric used with the objective 'binary:logistic' was changed from 'error' to 'logloss'. Explicitly set eval_metric if you'd like to restore the old behavior.\n",
      "[CV 4/5] END .................max_depth=20, n_estimators=400; total time=   7.3s\n",
      "[15:24:05] WARNING: ../src/learner.cc:1061: Starting in XGBoost 1.3.0, the default evaluation metric used with the objective 'binary:logistic' was changed from 'error' to 'logloss'. Explicitly set eval_metric if you'd like to restore the old behavior.\n",
      "[CV 5/5] END .................max_depth=20, n_estimators=400; total time=   7.1s\n",
      "[15:24:12] WARNING: ../src/learner.cc:1061: Starting in XGBoost 1.3.0, the default evaluation metric used with the objective 'binary:logistic' was changed from 'error' to 'logloss'. Explicitly set eval_metric if you'd like to restore the old behavior.\n",
      "[CV 1/5] END .................max_depth=20, n_estimators=600; total time=   9.4s\n",
      "[15:24:21] WARNING: ../src/learner.cc:1061: Starting in XGBoost 1.3.0, the default evaluation metric used with the objective 'binary:logistic' was changed from 'error' to 'logloss'. Explicitly set eval_metric if you'd like to restore the old behavior.\n",
      "[CV 2/5] END .................max_depth=20, n_estimators=600; total time=   9.3s\n",
      "[15:24:31] WARNING: ../src/learner.cc:1061: Starting in XGBoost 1.3.0, the default evaluation metric used with the objective 'binary:logistic' was changed from 'error' to 'logloss'. Explicitly set eval_metric if you'd like to restore the old behavior.\n",
      "[CV 3/5] END .................max_depth=20, n_estimators=600; total time=   9.3s\n",
      "[15:24:40] WARNING: ../src/learner.cc:1061: Starting in XGBoost 1.3.0, the default evaluation metric used with the objective 'binary:logistic' was changed from 'error' to 'logloss'. Explicitly set eval_metric if you'd like to restore the old behavior.\n",
      "[CV 4/5] END .................max_depth=20, n_estimators=600; total time=   9.2s\n",
      "[15:24:49] WARNING: ../src/learner.cc:1061: Starting in XGBoost 1.3.0, the default evaluation metric used with the objective 'binary:logistic' was changed from 'error' to 'logloss'. Explicitly set eval_metric if you'd like to restore the old behavior.\n",
      "[CV 5/5] END .................max_depth=20, n_estimators=600; total time=   9.1s\n",
      "[15:24:58] WARNING: ../src/learner.cc:1061: Starting in XGBoost 1.3.0, the default evaluation metric used with the objective 'binary:logistic' was changed from 'error' to 'logloss'. Explicitly set eval_metric if you'd like to restore the old behavior.\n",
      "[CV 1/5] END .................max_depth=20, n_estimators=800; total time=  11.1s\n",
      "[15:25:09] WARNING: ../src/learner.cc:1061: Starting in XGBoost 1.3.0, the default evaluation metric used with the objective 'binary:logistic' was changed from 'error' to 'logloss'. Explicitly set eval_metric if you'd like to restore the old behavior.\n",
      "[CV 2/5] END .................max_depth=20, n_estimators=800; total time=  11.2s\n",
      "[15:25:21] WARNING: ../src/learner.cc:1061: Starting in XGBoost 1.3.0, the default evaluation metric used with the objective 'binary:logistic' was changed from 'error' to 'logloss'. Explicitly set eval_metric if you'd like to restore the old behavior.\n",
      "[CV 3/5] END .................max_depth=20, n_estimators=800; total time=  11.0s\n",
      "[15:25:32] WARNING: ../src/learner.cc:1061: Starting in XGBoost 1.3.0, the default evaluation metric used with the objective 'binary:logistic' was changed from 'error' to 'logloss'. Explicitly set eval_metric if you'd like to restore the old behavior.\n",
      "[CV 4/5] END .................max_depth=20, n_estimators=800; total time=  11.0s\n",
      "[15:25:43] WARNING: ../src/learner.cc:1061: Starting in XGBoost 1.3.0, the default evaluation metric used with the objective 'binary:logistic' was changed from 'error' to 'logloss'. Explicitly set eval_metric if you'd like to restore the old behavior.\n",
      "[CV 5/5] END .................max_depth=20, n_estimators=800; total time=  11.0s\n",
      "[15:25:54] WARNING: ../src/learner.cc:1061: Starting in XGBoost 1.3.0, the default evaluation metric used with the objective 'binary:logistic' was changed from 'error' to 'logloss'. Explicitly set eval_metric if you'd like to restore the old behavior.\n"
     ]
    }
   ],
   "source": [
    "## If you want to see the all verbose do not set the n_jobs=-1. They are shown in the terminal when the cell finish running\n",
    "search = GridSearchCV(clf_rf, param_grid, scoring='accuracy',verbose=4,n_jobs=-1).fit(x_train_encode, y_train_encode)\n",
    "search2 = GridSearchCV(clf_xg, param_gridXGB, scoring='accuracy',verbose=4).fit(x_train_encode, y_train_encode)"
   ]
  },
  {
   "cell_type": "code",
   "execution_count": 22,
   "metadata": {},
   "outputs": [
    {
     "data": {
      "text/plain": [
       "({'max_depth': 30, 'n_estimators': 2000},\n",
       " {'max_depth': 15, 'n_estimators': 600})"
      ]
     },
     "execution_count": 22,
     "metadata": {},
     "output_type": "execute_result"
    }
   ],
   "source": [
    "search.best_params_ ,search2.best_params_  "
   ]
  },
  {
   "cell_type": "markdown",
   "metadata": {},
   "source": [
    "Then we use those values for the n_estimator and max_depth in these two classifiers. "
   ]
  },
  {
   "cell_type": "code",
   "execution_count": 44,
   "metadata": {},
   "outputs": [],
   "source": [
    "clf_rf2 = RandomForestClassifier(n_estimators=2000,max_depth=30,random_state=42)\n",
    "clf_xg2 = xgb.XGBClassifier(n_estimators=600,max_depth=15,random_state=42,use_label_encoder=False) "
   ]
  },
  {
   "cell_type": "markdown",
   "metadata": {},
   "source": [
    "We added a simple calibration plots to see if the probabilistic predictions of the clasifiers are calibrated. "
   ]
  },
  {
   "cell_type": "code",
   "execution_count": 45,
   "metadata": {},
   "outputs": [],
   "source": [
    "from sklearn.calibration import calibration_curve"
   ]
  },
  {
   "cell_type": "code",
   "execution_count": 46,
   "metadata": {},
   "outputs": [
    {
     "name": "stdout",
     "output_type": "stream",
     "text": [
      "[11:56:19] WARNING: ../src/learner.cc:1061: Starting in XGBoost 1.3.0, the default evaluation metric used with the objective 'binary:logistic' was changed from 'error' to 'logloss'. Explicitly set eval_metric if you'd like to restore the old behavior.\n"
     ]
    },
    {
     "data": {
      "image/png": "[encoded data removed]",
      "text/plain": [
       "<Figure size 720x720 with 2 Axes>"
      ]
     },
     "metadata": {
      "needs_background": "light"
     },
     "output_type": "display_data"
    }
   ],
   "source": [
    "plt.figure(figsize=(10, 10))\n",
    "ax1 = plt.subplot2grid((3, 1), (0, 0), rowspan=2)\n",
    "ax2 = plt.subplot2grid((3, 1), (2, 0))\n",
    "\n",
    "ax1.plot([0, 1], [0, 1], \"k:\", label=\"Perfectly calibrated\")\n",
    "for clf, name in [(clf_xg2, 'XBG'),\n",
    "                  (clf_rf2, 'Random Forest')]:\n",
    "    clf.fit(x_train_encode, y_train_encode)\n",
    "    if hasattr(clf, \"predict_proba\"):\n",
    "        prob_pos = clf.predict_proba(x_test_encode)[:, 1]\n",
    "    else:  # use decision function\n",
    "        prob_pos = clf.decision_function(x_test_encode)\n",
    "        prob_pos = \\\n",
    "            (prob_pos - prob_pos.min()) / (prob_pos.max() - prob_pos.min())\n",
    "    fraction_of_positives, mean_predicted_value = \\\n",
    "        calibration_curve(y_test_encode, prob_pos, n_bins=20)\n",
    "\n",
    "    ax1.plot(mean_predicted_value, fraction_of_positives, \"s-\",\n",
    "             label=\"%s\" % (name, ))\n",
    "\n",
    "    ax2.hist(prob_pos, range=(0, 1), bins=20, label=name,\n",
    "             histtype=\"step\", lw=2)\n",
    "\n",
    "ax1.set_ylabel(\"Fraction of positives\")\n",
    "ax1.set_ylim([-0.05, 1.05])\n",
    "ax1.legend(loc=\"lower right\")\n",
    "ax1.set_title('Calibration plots (reliability curve)')\n",
    "\n",
    "ax2.set_xlabel(\"Mean predicted value\")\n",
    "ax2.set_ylabel(\"Count\")\n",
    "ax2.legend(loc=\"upper center\", ncol=2)\n",
    "\n",
    "plt.tight_layout()\n",
    "plt.show()"
   ]
  },
  {
   "cell_type": "code",
   "execution_count": null,
   "metadata": {},
   "outputs": [],
   "source": []
  }
 ],
 "metadata": {
  "kernelspec": {
   "display_name": "Python 3",
   "language": "python",
   "name": "python3"
  },
  "language_info": {
   "codemirror_mode": {
    "name": "ipython",
    "version": 3
   },
   "file_extension": ".py",
   "mimetype": "text/x-python",
   "name": "python",
   "nbconvert_exporter": "python",
   "pygments_lexer": "ipython3",
   "version": "3.6.4"
  }
 },
 "nbformat": 4,
 "nbformat_minor": 4
}
